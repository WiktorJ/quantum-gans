{
 "cells": [
  {
   "cell_type": "code",
   "execution_count": 1,
   "metadata": {
    "scrolled": true
   },
   "outputs": [],
   "source": [
    "if 'google.colab' in str(get_ipython()):\n",
    "    !pip uninstall tensorflow -y\n",
    "    !pip install tensorflow==2.3.1 tensorflow-quantum\n",
    "    !rm -rf quantum-gans\n",
    "    !git clone https://github.com/WiktorJ/quantum-gans\n",
    "    !cd quantum-gans; pip install ."
   ]
  },
  {
   "cell_type": "code",
   "execution_count": 2,
   "metadata": {},
   "outputs": [
    {
     "name": "stdout",
     "output_type": "stream",
     "text": [
      "The autoreload extension is already loaded. To reload it, use:\n",
      "  %reload_ext autoreload\n"
     ]
    }
   ],
   "source": [
    "%load_ext autoreload\n",
    "%autoreload 2"
   ]
  },
  {
   "cell_type": "code",
   "execution_count": 37,
   "metadata": {},
   "outputs": [],
   "source": [
    "import math\n",
    "import random\n",
    "import tensorflow as tf\n",
    "\n",
    "import cirq\n",
    "import numpy as np\n",
    "from qsgenerator.utils import map_to_radians\n",
    "from qsgenerator.qugans import circuits\n",
    "from qsgenerator.qugans.training import Trainer\n",
    "from qsgenerator.phase.circuits import build_ground_state_circuit\n",
    "from qsgenerator.phase.analitical import  get_ground_state_for_g\n",
    "from qsgenerator.states.simple_state_circuits import build_x_rotation_state\n",
    "from qsgenerator.states.simple_rotation_generators import get_binary_x_rotation_provider, get_arcsin_x_rotation_provider\n",
    "from qsgenerator.phase.analitical import construct_hamiltonian, get_theta_v, get_theta_w, get_theta_r, get_g_parameters_provider\n",
    "from qsgenerator.evaluators.circuit_evaluator import CircuitEvaluator"
   ]
  },
  {
   "cell_type": "code",
   "execution_count": 38,
   "metadata": {},
   "outputs": [],
   "source": [
    "generator_layers = 3\n",
    "discriminator_layers = 4\n",
    "data_bus_size = 3"
   ]
  },
  {
   "cell_type": "code",
   "execution_count": 39,
   "metadata": {},
   "outputs": [],
   "source": [
    "real_phase = False\n",
    "generic_generator = True\n",
    "all_layers_labeling = False\n",
    "full_layer_labeling = False\n",
    "use_gen_label_qubit = False\n",
    "use_disc_label_qubit = False"
   ]
  },
  {
   "cell_type": "code",
   "execution_count": 40,
   "metadata": {},
   "outputs": [],
   "source": [
    "gen, gs, disc, ds, ls, data_qubits, out_qubit = circuits.build_gan_circuits(\n",
    "    generator_layers, \n",
    "    discriminator_layers, \n",
    "    data_bus_size, \n",
    "    all_layers_labeling=all_layers_labeling,\n",
    "    full_layer_labeling=full_layer_labeling,\n",
    "    use_gen_label_qubit=use_gen_label_qubit,\n",
    "    use_disc_label_qubit=use_disc_label_qubit)"
   ]
  },
  {
   "cell_type": "code",
   "execution_count": 41,
   "metadata": {},
   "outputs": [],
   "source": [
    "if not generic_generator:\n",
    "    gen, gs = build_ground_state_circuit(qubits=data_qubits, full_parametrization=True)"
   ]
  },
  {
   "cell_type": "code",
   "execution_count": 42,
   "metadata": {},
   "outputs": [],
   "source": [
    "if real_phase:\n",
    "    real, real_symbols = build_ground_state_circuit(qubits=data_qubits)\n",
    "else:\n",
    "    real, real_symbols = build_x_rotation_state(qubits=data_qubits)"
   ]
  },
  {
   "cell_type": "code",
   "execution_count": 43,
   "metadata": {},
   "outputs": [],
   "source": [
    "pure_gen = gen.copy()\n",
    "gen.append([disc])"
   ]
  },
  {
   "cell_type": "code",
   "execution_count": 44,
   "metadata": {},
   "outputs": [],
   "source": [
    "pure_real = real.copy()\n",
    "real.append([disc])"
   ]
  },
  {
   "cell_type": "code",
   "execution_count": 45,
   "metadata": {
    "scrolled": true
   },
   "outputs": [
    {
     "name": "stdout",
     "output_type": "stream",
     "text": [
      "REAL GROUND STATE\n"
     ]
    },
    {
     "data": {
      "text/html": [
       "<pre style=\"overflow: auto; white-space: pre;\">(0, 1): ───Rx(r0)───\n",
       "\n",
       "(0, 2): ───Rx(r1)───\n",
       "\n",
       "(0, 3): ───Rx(r2)───</pre>"
      ],
      "text/plain": [
       "(0, 1): ───Rx(r0)───\n",
       "\n",
       "(0, 2): ───Rx(r1)───\n",
       "\n",
       "(0, 3): ───Rx(r2)───"
      ]
     },
     "execution_count": 45,
     "metadata": {},
     "output_type": "execute_result"
    }
   ],
   "source": [
    "print(\"REAL GROUND STATE\")\n",
    "pure_real"
   ]
  },
  {
   "cell_type": "code",
   "execution_count": 46,
   "metadata": {},
   "outputs": [
    {
     "name": "stdout",
     "output_type": "stream",
     "text": [
      "GENERATOR\n"
     ]
    },
    {
     "data": {
      "text/html": [
       "<pre style=\"overflow: auto; white-space: pre;\">(0, 1): ───Rx(g0)───Rz(g3)───ZZ──────────────Rx(g8)────Rz(g11)───ZZ────────────────Rx(g16)───Rz(g19)───ZZ────────────────\n",
       "                             │                                   │                                     │\n",
       "(0, 2): ───Rx(g1)───Rz(g4)───ZZ^g6───ZZ──────Rx(g9)────Rz(g12)───ZZ^g14───ZZ───────Rx(g17)───Rz(g20)───ZZ^g22───ZZ───────\n",
       "                                     │                                    │                                     │\n",
       "(0, 3): ───Rx(g2)───Rz(g5)───────────ZZ^g7───Rx(g10)───Rz(g13)────────────ZZ^g15───Rx(g18)───Rz(g21)────────────ZZ^g23───</pre>"
      ],
      "text/plain": [
       "(0, 1): ───Rx(g0)───Rz(g3)───ZZ──────────────Rx(g8)────Rz(g11)───ZZ────────────────Rx(g16)───Rz(g19)───ZZ────────────────\n",
       "                             │                                   │                                     │\n",
       "(0, 2): ───Rx(g1)───Rz(g4)───ZZ^g6───ZZ──────Rx(g9)────Rz(g12)───ZZ^g14───ZZ───────Rx(g17)───Rz(g20)───ZZ^g22───ZZ───────\n",
       "                                     │                                    │                                     │\n",
       "(0, 3): ───Rx(g2)───Rz(g5)───────────ZZ^g7───Rx(g10)───Rz(g13)────────────ZZ^g15───Rx(g18)───Rz(g21)────────────ZZ^g23───"
      ]
     },
     "execution_count": 46,
     "metadata": {},
     "output_type": "execute_result"
    }
   ],
   "source": [
    "print(\"GENERATOR\")\n",
    "pure_gen"
   ]
  },
  {
   "cell_type": "code",
   "execution_count": 47,
   "metadata": {},
   "outputs": [
    {
     "name": "stdout",
     "output_type": "stream",
     "text": [
      "DISCRIMINATOR\n"
     ]
    },
    {
     "data": {
      "text/html": [
       "<pre style=\"overflow: auto; white-space: pre;\">(0, 0): ───Rx(d0)───Rz(d4)───ZZ───────────────Rx(d11)───Rz(d15)───ZZ────────────────Rx(d22)───Rz(d26)───ZZ────────────────Rx(d33)───Rz(d37)───ZZ────────────────\n",
       "                             │                                    │                                     │                                     │\n",
       "(0, 1): ───Rx(d1)───Rz(d5)───ZZ^d8───ZZ───────Rx(d12)───Rz(d16)───ZZ^d19───ZZ───────Rx(d23)───Rz(d27)───ZZ^d30───ZZ───────Rx(d34)───Rz(d38)───ZZ^d41───ZZ───────\n",
       "                                     │                                     │                                     │                                     │\n",
       "(0, 2): ───Rx(d2)───Rz(d6)───ZZ──────ZZ^d10───Rx(d13)───Rz(d17)───ZZ───────ZZ^d21───Rx(d24)───Rz(d28)───ZZ───────ZZ^d32───Rx(d35)───Rz(d39)───ZZ───────ZZ^d43───\n",
       "                             │                                    │                                     │                                     │\n",
       "(0, 3): ───Rx(d3)───Rz(d7)───ZZ^d9────────────Rx(d14)───Rz(d18)───ZZ^d20────────────Rx(d25)───Rz(d29)───ZZ^d31────────────Rx(d36)───Rz(d40)───ZZ^d42────────────</pre>"
      ],
      "text/plain": [
       "(0, 0): ───Rx(d0)───Rz(d4)───ZZ───────────────Rx(d11)───Rz(d15)───ZZ────────────────Rx(d22)───Rz(d26)───ZZ────────────────Rx(d33)───Rz(d37)───ZZ────────────────\n",
       "                             │                                    │                                     │                                     │\n",
       "(0, 1): ───Rx(d1)───Rz(d5)───ZZ^d8───ZZ───────Rx(d12)───Rz(d16)───ZZ^d19───ZZ───────Rx(d23)───Rz(d27)───ZZ^d30───ZZ───────Rx(d34)───Rz(d38)───ZZ^d41───ZZ───────\n",
       "                                     │                                     │                                     │                                     │\n",
       "(0, 2): ───Rx(d2)───Rz(d6)───ZZ──────ZZ^d10───Rx(d13)───Rz(d17)───ZZ───────ZZ^d21───Rx(d24)───Rz(d28)───ZZ───────ZZ^d32───Rx(d35)───Rz(d39)───ZZ───────ZZ^d43───\n",
       "                             │                                    │                                     │                                     │\n",
       "(0, 3): ───Rx(d3)───Rz(d7)───ZZ^d9────────────Rx(d14)───Rz(d18)───ZZ^d20────────────Rx(d25)───Rz(d29)───ZZ^d31────────────Rx(d36)───Rz(d40)───ZZ^d42────────────"
      ]
     },
     "execution_count": 47,
     "metadata": {},
     "output_type": "execute_result"
    }
   ],
   "source": [
    "print(\"DISCRIMINATOR\")\n",
    "disc"
   ]
  },
  {
   "cell_type": "code",
   "execution_count": 48,
   "metadata": {},
   "outputs": [],
   "source": [
    "np.random.seed(0)\n",
    "eps = 1e-2\n",
    "init_gen_weights = np.array([0] * len(gs)) + \\\n",
    "                   np.random.normal(scale=eps, size=(len(gs),))\n",
    "init_disc_weights = np.random.normal(size=(len(ds),))\n",
    "\n",
    "gen_weights = tf.Variable(init_gen_weights, dtype=tf.float32)\n",
    "disc_weights = tf.Variable(init_disc_weights, dtype=tf.float32)"
   ]
  },
  {
   "cell_type": "code",
   "execution_count": 49,
   "metadata": {},
   "outputs": [],
   "source": [
    "class CustomScheduler(tf.keras.optimizers.schedules.LearningRateSchedule):\n",
    "    def __init__(self, warmup_steps=4000):\n",
    "        super(CustomScheduler, self).__init__()\n",
    "        self.warmup_steps = warmup_steps\n",
    "\n",
    "    def __call__(self, step):\n",
    "        return max(math.e ** - ((step+200) / (self.warmup_steps / math.log(100))), 0.01)"
   ]
  },
  {
   "cell_type": "code",
   "execution_count": 50,
   "metadata": {
    "pycharm": {
     "name": "#%%\n"
    }
   },
   "outputs": [],
   "source": [
    "learning_rate = CustomScheduler()\n",
    "\n",
    "opt = tf.keras.optimizers.Adam(learning_rate, beta_1=0.9, beta_2=0.98, \n",
    "                                     epsilon=1e-9)"
   ]
  },
  {
   "cell_type": "code",
   "execution_count": 92,
   "metadata": {
    "pycharm": {
     "name": "#%%\n"
    }
   },
   "outputs": [],
   "source": [
    "g_values = [0.1, 0.4, 0.25]\n",
    "# x_rotations = get_binary_x_rotation_provider({0: '100', 1: '011', 2: '101'})\n",
    "real_values_provider = get_arcsin_x_rotation_provider(g_values, data_bus_size)\n",
    "#real_values_provider = get_g_parameters_provider()"
   ]
  },
  {
   "cell_type": "code",
   "execution_count": 83,
   "metadata": {},
   "outputs": [],
   "source": [
    "trainer = Trainer(g_values, \n",
    "                  data_bus_size, \n",
    "                  disc, \n",
    "                  gen, \n",
    "                  real, \n",
    "                  out_qubit, \n",
    "                  ds, \n",
    "                  gs, \n",
    "                  real_symbols, \n",
    "                  ls,\n",
    "                  real_values_provider = real_values_provider,\n",
    "                  use_analytical_expectation=True)"
   ]
  },
  {
   "cell_type": "code",
   "execution_count": null,
   "metadata": {
    "scrolled": false
   },
   "outputs": [],
   "source": [
    "epochs = 5\n",
    "disc_iteration = 20\n",
    "gen_iteration = 5\n",
    "snapshot_interval_epochs = 20\n",
    "results = trainer.train(disc_weights,\n",
    "      gen_weights, \n",
    "      opt, \n",
    "      epochs=epochs, \n",
    "      disc_iteration=disc_iteration, \n",
    "      gen_iteration=gen_iteration,\n",
    "      snapshot_interval_epochs=snapshot_interval_epochs)"
   ]
  },
  {
   "cell_type": "code",
   "execution_count": 84,
   "metadata": {},
   "outputs": [],
   "source": [
    "def get_gen_for_g(g, gen_weights, gen_provider):\n",
    "    rad = gen_provider(g)\n",
    "    return np.append(gen_weights, rad)\n",
    "\n",
    "def get_states_and_fidelty_for_real(gen_evaluator, \n",
    "                                    real_evaluator, \n",
    "                                    gen_weights, \n",
    "                                    g, \n",
    "                                    sized):\n",
    "    generated = gen_evaluator.get_state_from_params(get_gen_for_g(g, gen_weights, gen_evaluator.label_value_provider))\n",
    "    real = real_evaluator.get_state_from_params(real_evaluator.label_value_provider(g))\n",
    "    return generated, real, cirq.fidelity(generated, real)\n",
    "\n",
    "def get_states_and_fidelty_for_ground(gen_evaluator, g, gen_weights, size):\n",
    "\n",
    "    generated = gen_evaluator.get_state_from_params(get_gen_for_g(g, gen_weights, gen_evaluator.label_value_provider), list(range(size)))\n",
    "    ground = get_ground_state_for_g(g, size)\n",
    "    return generated, ground, cirq.fidelity(generated, ground)\n",
    "\n",
    "def compare_generated_for_g(gen_evaluator, g1, g2, gen_weights, size):\n",
    "    generated1 = gen_evaluator.get_state_from_params(get_gen_for_g(g1, gen_weights, gen_evaluator.label_value_provider), list(range(size)))\n",
    "    generated2 = gen_evaluator.get_state_from_params(get_gen_for_g(g2, gen_weights, gen_evaluator.label_value_provider), list(range(size)))\n",
    "    return generated1, generated2, cirq.fidelity(generated1, generated2)"
   ]
  },
  {
   "cell_type": "code",
   "execution_count": 85,
   "metadata": {
    "pycharm": {
     "name": "#%%\n"
    }
   },
   "outputs": [],
   "source": [
    "trained_disc_weights = tf.Variable(np.array([ 1.25888796e+01,  1.10409822e+01,  1.27487049e+01,  1.32927475e+01,\n",
    "       -3.20522385e+01,  2.98508596e+00, -7.54223883e-01,  8.97036648e+00,\n",
    "        8.98472309e+00, -2.77423954e+00,  8.90891266e+00,  5.72837019e+00,\n",
    "        6.03105211e+00, -4.64482594e+00, -1.10843427e-01,  7.78598115e-02,\n",
    "        3.00343895e+00,  3.83781940e-01,  6.08641243e+00,  8.64131927e+00,\n",
    "       -2.17593918e+01,  1.45857897e+01,  2.36893883e+01,  8.75363445e+00,\n",
    "       -2.42768993e+01,  1.27688437e+01,  2.53628349e+00,  1.39768391e+01,\n",
    "        1.40961084e+01, -2.04474068e+01,  4.71392822e+00,  1.66926212e+01,\n",
    "        1.88311214e+01,  9.17525005e+00,  1.16109962e+01,  1.08004580e+01,\n",
    "        1.10795708e+01,  5.81477690e+00, -5.50215101e+00,  2.22007637e+01,\n",
    "        2.25015125e+01,  3.21826210e+01, -1.80058708e+01, -7.85126591e+00,\n",
    "       -7.77073908e+00,  1.40237570e+01,  3.14071465e+01, -1.07477732e+01,\n",
    "        1.55852342e+00,  2.63786411e+01,  1.31890945e+01,  7.14759350e+00,\n",
    "        5.46145630e+00, -1.79730053e+01,  7.40563774e+00,  1.06135674e+01,\n",
    "       -1.55095673e+00, -2.66580944e+01,  6.51995277e+00, -2.37151980e+00,\n",
    "        3.51896515e+01,  1.50027342e+01,  1.80733763e-02, -1.75052185e+01,\n",
    "        9.60706902e+00, -6.06413984e+00,  5.35433817e+00, -7.88707399e+00,\n",
    "        1.27363043e+01,  1.02446747e+01]), dtype=tf.float32)\n",
    "\n",
    "trained_gen_weights01 = np.array([\n",
    "      9.356374740600586,\n",
    "      3.060741662979126,\n",
    "      9.562607765197754,\n",
    "      0.37898221611976624,\n",
    "      -0.5459064245223999,\n",
    "      -0.7983298897743225,\n",
    "      -4.709417819976807,\n",
    "      1.729026198387146,\n",
    "      6.080997943878174,\n",
    "      6.204941749572754,\n",
    "      6.015588760375977,\n",
    "      -6.145556926727295,\n",
    "      -3.898343086242676,\n",
    "      2.2803266048431396,\n",
    "      0.8358737230300903,\n",
    "      -7.79410457611084,\n",
    "      9.534963607788086,\n",
    "      -3.393418073654175,\n",
    "      2.8041188716888428,\n",
    "      1.7833620309829712,\n",
    "      -5.981260776519775,\n",
    "      0.038421839475631714,\n",
    "      3.6353766918182373,\n",
    "      -2.8385825157165527\n",
    "    ])\n",
    "trained_gen_weights04 = [\n",
    "      -9.349910736083984,\n",
    "      -3.137516498565674,\n",
    "      0.11076110601425171,\n",
    "      0.1079181432723999,\n",
    "      -10.369482040405273,\n",
    "      -1.4755661487579346,\n",
    "      -7.087393283843994,\n",
    "      5.457488536834717,\n",
    "      -2.7765588760375977,\n",
    "      3.089747667312622,\n",
    "      12.335768699645996,\n",
    "      -1.2149827480316162,\n",
    "      3.585606813430786,\n",
    "      -8.728550910949707,\n",
    "      6.772098064422607,\n",
    "      -2.2341201305389404,\n",
    "      0.6231995224952698,\n",
    "      1.1529603004455566,\n",
    "      4.749046325683594,\n",
    "      -0.30359596014022827,\n",
    "      -6.343395233154297,\n",
    "      3.299123764038086,\n",
    "      0.01585269533097744,\n",
    "      8.04002571105957\n",
    "    ]\n",
    "gen_symbols = gs \n",
    "# gen_symbols = gs\n",
    "# real_symbols = ('r0', 'r1', 'r2')"
   ]
  },
  {
   "cell_type": "code",
   "execution_count": 86,
   "metadata": {},
   "outputs": [],
   "source": [
    "gen_evaluator = CircuitEvaluator(pure_gen, gen_symbols, trainer.label_value_provider)\n",
    "real_evaluator = CircuitEvaluator(pure_real, real_symbols, trainer.real_values_provider)"
   ]
  },
  {
   "cell_type": "code",
   "execution_count": 88,
   "metadata": {},
   "outputs": [
    {
     "data": {
      "text/plain": [
       "(array([-0.14824949+0.581017j  ,  0.43242183+0.27149886j,\n",
       "         0.344239  +0.15211646j,  0.15024966-0.28553918j,\n",
       "         0.21307297+0.09783034j,  0.1351338 -0.14718074j,\n",
       "         0.06828734-0.1338553j , -0.11046721-0.06569505j], dtype=complex64),\n",
       " array([ 0.6349803 +0.j        ,  0.        -0.47623524j,\n",
       "         0.        -0.36660606j, -0.27495456+0.j        ,\n",
       "         0.        -0.27712813j, -0.2078461 +0.j        ,\n",
       "        -0.16000001+0.j        ,  0.        +0.12j      ], dtype=complex64),\n",
       " 0.9726657508279892)"
      ]
     },
     "execution_count": 88,
     "metadata": {},
     "output_type": "execute_result"
    }
   ],
   "source": [
    "g = 0.4\n",
    "get_states_and_fidelty_for_real(gen_evaluator, real_evaluator, trained_gen_weights04, g, data_bus_size)"
   ]
  },
  {
   "cell_type": "code",
   "execution_count": 89,
   "metadata": {},
   "outputs": [
    {
     "data": {
      "text/plain": [
       "(array([-0.6197622 -0.741683j  , -0.15156451+0.08932291j,\n",
       "        -0.06467123+0.12837054j,  0.02567703-0.00468336j,\n",
       "        -0.09434147+0.06165439j,  0.00830532+0.01887292j,\n",
       "        -0.01917351+0.00240218j,  0.00198495+0.00198072j], dtype=complex64),\n",
       " array([ 0.92998064+0.j        ,  0.        -0.2924654j ,\n",
       "         0.        -0.1898315j , -0.05969925+0.j        ,\n",
       "         0.        -0.09346657j, -0.02939388+0.j        ,\n",
       "        -0.01907879+0.j        ,  0.        +0.006j     ], dtype=complex64),\n",
       " 0.972771800733657)"
      ]
     },
     "execution_count": 89,
     "metadata": {},
     "output_type": "execute_result"
    }
   ],
   "source": [
    "g = 0.1\n",
    "get_states_and_fidelty_for_real(gen_evaluator, real_evaluator, trained_gen_weights01, g, data_bus_size)"
   ]
  },
  {
   "cell_type": "code",
   "execution_count": 108,
   "metadata": {},
   "outputs": [],
   "source": [
    "trained_gen_weights025 = [(abs(el1) + abs(el2))/2 for el1,el2 in zip(trained_gen_weights04,trained_gen_weights01)]"
   ]
  },
  {
   "cell_type": "code",
   "execution_count": 109,
   "metadata": {},
   "outputs": [
    {
     "data": {
      "text/plain": [
       "[9.353142738342285,\n",
       " 3.0991290807724,\n",
       " 4.836684435606003,\n",
       " 0.24345017969608307,\n",
       " 5.457694232463837,\n",
       " 1.1369480192661285,\n",
       " 5.8984055519104,\n",
       " 3.5932573676109314,\n",
       " 4.428778409957886,\n",
       " 4.647344708442688,\n",
       " 9.175678730010986,\n",
       " 3.6802698373794556,\n",
       " 3.741974949836731,\n",
       " 5.504438757896423,\n",
       " 3.803985893726349,\n",
       " 5.01411235332489,\n",
       " 5.079081565141678,\n",
       " 2.2731891870498657,\n",
       " 3.7765825986862183,\n",
       " 1.0434789955615997,\n",
       " 6.162328004837036,\n",
       " 1.6687728017568588,\n",
       " 1.8256146935746074,\n",
       " 5.4393041133880615]"
      ]
     },
     "execution_count": 109,
     "metadata": {},
     "output_type": "execute_result"
    }
   ],
   "source": [
    "trained_gen_weights025"
   ]
  },
  {
   "cell_type": "code",
   "execution_count": 110,
   "metadata": {},
   "outputs": [
    {
     "data": {
      "text/plain": [
       "(array([-0.13393262-0.2619366j ,  0.07937344-0.02939816j,\n",
       "        -0.26901814-0.2608605j , -0.11164127+0.05950294j,\n",
       "        -0.08629466+0.2538405j , -0.0899108 -0.05215018j,\n",
       "         0.32074744+0.70841736j,  0.2456885 -0.04561926j], dtype=complex64),\n",
       " array([ 0.80998045+0.j        ,  0.        -0.40815178j,\n",
       "         0.        -0.30263492j, -0.15249872+0.j        ,\n",
       "         0.        -0.20913605j, -0.10538433+0.j        ,\n",
       "        -0.07814   +0.j        ,  0.        +0.039375j  ], dtype=complex64),\n",
       " 0.1260292243477048)"
      ]
     },
     "execution_count": 110,
     "metadata": {},
     "output_type": "execute_result"
    }
   ],
   "source": [
    "generated = gen_evaluator.get_state_from_params(get_gen_for_g(0.25, trained_gen_weights025, real_values_provider))\n",
    "real = real_evaluator.get_state_from_params(real_values_provider(0.25))\n",
    "generated, real, cirq.fidelity(generated, real)"
   ]
  },
  {
   "cell_type": "code",
   "execution_count": 112,
   "metadata": {},
   "outputs": [
    {
     "data": {
      "text/plain": [
       "array([ 0.80998045+0.j        ,  0.        -0.40815178j,\n",
       "        0.        -0.30263492j, -0.15249872+0.j        ,\n",
       "        0.        -0.20913605j, -0.10538433+0.j        ,\n",
       "       -0.07814   +0.j        ,  0.        +0.039375j  ], dtype=complex64)"
      ]
     },
     "execution_count": 112,
     "metadata": {},
     "output_type": "execute_result"
    }
   ],
   "source": [
    "real025 = real_evaluator.get_state_from_params(real_values_provider(0.25))\n",
    "real025"
   ]
  },
  {
   "cell_type": "code",
   "execution_count": 115,
   "metadata": {},
   "outputs": [
    {
     "data": {
      "text/plain": [
       "array([ 0.7824805 +0.j        ,  0.        -0.3843503j ,\n",
       "        0.        -0.27821878j, -0.1673269 +0.j        ,\n",
       "        0.        -0.18529736j, -0.11861999+0.j        ,\n",
       "       -0.0895394 +0.j        ,  0.        +0.063j     ], dtype=complex64)"
      ]
     },
     "execution_count": 115,
     "metadata": {},
     "output_type": "execute_result"
    }
   ],
   "source": [
    "real04 = real_evaluator.get_state_from_params(real_values_provider(0.4))\n",
    "real01 = real_evaluator.get_state_from_params(real_values_provider(0.1))\n",
    "(real01+real04)/2\n"
   ]
  },
  {
   "cell_type": "code",
   "execution_count": 116,
   "metadata": {},
   "outputs": [
    {
     "data": {
      "text/plain": [
       "0.92373884021994"
      ]
     },
     "execution_count": 116,
     "metadata": {},
     "output_type": "execute_result"
    }
   ],
   "source": [
    "cirq.fidelity(real025, (real01+real04)/2)"
   ]
  },
  {
   "cell_type": "code",
   "execution_count": null,
   "metadata": {},
   "outputs": [],
   "source": [
    "compare_generated_for_g(gen_evaluator, -0.9, -0.8, trained_gen_weights, data_bus_size)"
   ]
  },
  {
   "cell_type": "code",
   "execution_count": null,
   "metadata": {},
   "outputs": [],
   "source": [
    "g = 0\n",
    "get_states_and_fidelty_for_ground(gen_evaluator, g, trained_gen_weights, data_bus_size)"
   ]
  },
  {
   "cell_type": "code",
   "execution_count": 90,
   "metadata": {},
   "outputs": [
    {
     "data": {
      "text/html": [
       "<pre style=\"overflow: auto; white-space: pre;\">(0, 1): ───Rx(g0)───Rz(g3)───ZZ──────────────Rx(g8)────Rz(g11)───ZZ────────────────Rx(g16)───Rz(g19)───ZZ────────────────\n",
       "                             │                                   │                                     │\n",
       "(0, 2): ───Rx(g1)───Rz(g4)───ZZ^g6───ZZ──────Rx(g9)────Rz(g12)───ZZ^g14───ZZ───────Rx(g17)───Rz(g20)───ZZ^g22───ZZ───────\n",
       "                                     │                                    │                                     │\n",
       "(0, 3): ───Rx(g2)───Rz(g5)───────────ZZ^g7───Rx(g10)───Rz(g13)────────────ZZ^g15───Rx(g18)───Rz(g21)────────────ZZ^g23───</pre>"
      ],
      "text/plain": [
       "(0, 1): ───Rx(g0)───Rz(g3)───ZZ──────────────Rx(g8)────Rz(g11)───ZZ────────────────Rx(g16)───Rz(g19)───ZZ────────────────\n",
       "                             │                                   │                                     │\n",
       "(0, 2): ───Rx(g1)───Rz(g4)───ZZ^g6───ZZ──────Rx(g9)────Rz(g12)───ZZ^g14───ZZ───────Rx(g17)───Rz(g20)───ZZ^g22───ZZ───────\n",
       "                                     │                                    │                                     │\n",
       "(0, 3): ───Rx(g2)───Rz(g5)───────────ZZ^g7───Rx(g10)───Rz(g13)────────────ZZ^g15───Rx(g18)───Rz(g21)────────────ZZ^g23───"
      ]
     },
     "execution_count": 90,
     "metadata": {},
     "output_type": "execute_result"
    }
   ],
   "source": [
    "pure_gen"
   ]
  },
  {
   "cell_type": "code",
   "execution_count": null,
   "metadata": {},
   "outputs": [],
   "source": []
  }
 ],
 "metadata": {
  "kernelspec": {
   "display_name": "Python 3",
   "language": "python",
   "name": "python3"
  },
  "language_info": {
   "codemirror_mode": {
    "name": "ipython",
    "version": 3
   },
   "file_extension": ".py",
   "mimetype": "text/x-python",
   "name": "python",
   "nbconvert_exporter": "python",
   "pygments_lexer": "ipython3",
   "version": "3.8.6"
  }
 },
 "nbformat": 4,
 "nbformat_minor": 1
}
