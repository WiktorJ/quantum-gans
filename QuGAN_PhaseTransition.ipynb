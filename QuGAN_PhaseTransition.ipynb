{
 "cells": [
  {
   "cell_type": "code",
   "execution_count": null,
   "metadata": {
    "scrolled": true
   },
   "outputs": [],
   "source": [
    "if 'google.colab' in str(get_ipython()):\n",
    "    !pip uninstall tensorflow -y\n",
    "    !pip install tensorflow==2.3.1 tensorflow-quantum\n",
    "    !rm -rf quantum-gans\n",
    "    !git clone https://github.com/WiktorJ/quantum-gans\n",
    "    !cd quantum-gans; pip install .\n",
    "    neptun_token = None # put manually for the time being\n",
    "else:\n",
    "    import subprocess\n",
    "    def get_var(varname):\n",
    "        CMD = 'echo $(source ~/.bash_profile; echo $%s)' % varname\n",
    "        p = subprocess.Popen(CMD, stdout=subprocess.PIPE, shell=True, executable='/bin/bash')\n",
    "        return p.stdout.readlines()[0].strip()\n",
    "    neptun_token = get_var('NEPTUNE_API_TOKEN').decode(\"utf-8\") "
   ]
  },
  {
   "cell_type": "code",
   "execution_count": null,
   "metadata": {},
   "outputs": [],
   "source": [
    "%load_ext autoreload\n",
    "%autoreload 2"
   ]
  },
  {
   "cell_type": "code",
   "execution_count": null,
   "metadata": {},
   "outputs": [],
   "source": [
    "import io\n",
    "import math\n",
    "import json\n",
    "import neptune\n",
    "import tensorflow as tf\n",
    "\n",
    "import cirq\n",
    "import numpy as np\n",
    "from qsgenerator.utils import map_to_radians\n",
    "from qsgenerator.qugans import circuits\n",
    "from qsgenerator.qugans.training import Trainer\n",
    "from qsgenerator.phase.circuits import build_ground_state_circuit\n",
    "from qsgenerator.phase.analitical import  get_ground_state_for_g\n",
    "from qsgenerator.states.simple_state_circuits import build_x_rotation_state\n",
    "from qsgenerator.states.simple_rotation_generators import get_binary_x_rotation_provider, get_arcsin_x_rotation_provider\n",
    "from qsgenerator.phase.analitical import construct_hamiltonian, get_theta_v, get_theta_w, get_theta_r, get_g_parameters_provider\n",
    "from qsgenerator.evaluators.circuit_evaluator import CircuitEvaluator"
   ]
  },
  {
   "cell_type": "code",
   "execution_count": null,
   "metadata": {},
   "outputs": [],
   "source": [
    "generator_layers = 5\n",
    "discriminator_layers = 5\n",
    "data_bus_size = 5"
   ]
  },
  {
   "cell_type": "code",
   "execution_count": null,
   "metadata": {},
   "outputs": [],
   "source": [
    "real_phase = True\n",
    "generic_generator = False\n",
    "all_layers_labeling = False\n",
    "full_layer_labeling = False\n",
    "use_gen_label_qubit = False\n",
    "use_disc_label_qubit = False\n",
    "zxz = True"
   ]
  },
  {
   "cell_type": "code",
   "execution_count": null,
   "metadata": {},
   "outputs": [],
   "source": [
    "gen, gs, disc, ds, ls, data_qubits, out_qubit = circuits.build_gan_circuits(\n",
    "    generator_layers, \n",
    "    discriminator_layers, \n",
    "    data_bus_size, \n",
    "    all_layers_labeling=all_layers_labeling,\n",
    "    full_layer_labeling=full_layer_labeling,\n",
    "    use_gen_label_qubit=use_gen_label_qubit,\n",
    "    use_disc_label_qubit=use_disc_label_qubit)"
   ]
  },
  {
   "cell_type": "code",
   "execution_count": null,
   "metadata": {},
   "outputs": [],
   "source": [
    "if not generic_generator:\n",
    "    gen, gs = build_ground_state_circuit(qubits=data_qubits, full_parametrization=True, zxz=True)"
   ]
  },
  {
   "cell_type": "code",
   "execution_count": null,
   "metadata": {},
   "outputs": [],
   "source": [
    "if real_phase:\n",
    "    real, real_symbols = build_ground_state_circuit(qubits=data_qubits)\n",
    "else:\n",
    "    real, real_symbols = build_x_rotation_state(qubits=data_qubits)"
   ]
  },
  {
   "cell_type": "code",
   "execution_count": null,
   "metadata": {},
   "outputs": [],
   "source": [
    "pure_gen = gen.copy()\n",
    "gen.append([disc])"
   ]
  },
  {
   "cell_type": "code",
   "execution_count": null,
   "metadata": {},
   "outputs": [],
   "source": [
    "pure_real = real.copy()\n",
    "real.append([disc])"
   ]
  },
  {
   "cell_type": "code",
   "execution_count": null,
   "metadata": {
    "scrolled": true
   },
   "outputs": [],
   "source": [
    "print(\"REAL GROUND STATE\")\n",
    "pure_real"
   ]
  },
  {
   "cell_type": "code",
   "execution_count": null,
   "metadata": {},
   "outputs": [],
   "source": [
    "print(\"GENERATOR\")\n",
    "pure_gen"
   ]
  },
  {
   "cell_type": "code",
   "execution_count": null,
   "metadata": {},
   "outputs": [],
   "source": [
    "print(\"DISCRIMINATOR\")\n",
    "disc"
   ]
  },
  {
   "cell_type": "code",
   "execution_count": null,
   "metadata": {},
   "outputs": [],
   "source": [
    "np.random.seed(0)\n",
    "eps = 1e-2\n",
    "init_gen_weights = np.array([0] * len(gs)) + \\\n",
    "                   np.random.normal(scale=eps, size=(len(gs),))\n",
    "init_disc_weights = np.random.normal(size=(len(ds),))\n",
    "\n",
    "gen_weights = tf.Variable(init_gen_weights, dtype=tf.float32)\n",
    "disc_weights = tf.Variable(init_disc_weights, dtype=tf.float32)"
   ]
  },
  {
   "cell_type": "code",
   "execution_count": null,
   "metadata": {},
   "outputs": [],
   "source": [
    "class CustomScheduler(tf.keras.optimizers.schedules.LearningRateSchedule):\n",
    "    def __init__(self, warmup_steps=4000):\n",
    "        super(CustomScheduler, self).__init__()\n",
    "        self.warmup_steps = warmup_steps\n",
    "\n",
    "    def __call__(self, step):\n",
    "        return max(math.e ** - ((step+200) / (self.warmup_steps / math.log(100))), 0.01)"
   ]
  },
  {
   "cell_type": "code",
   "execution_count": null,
   "metadata": {
    "pycharm": {
     "name": "#%%\n"
    }
   },
   "outputs": [],
   "source": [
    "learning_rate = CustomScheduler()\n",
    "\n",
    "opt = tf.keras.optimizers.Adam(learning_rate, beta_1=0.9, beta_2=0.98, \n",
    "                                     epsilon=1e-9)"
   ]
  },
  {
   "cell_type": "code",
   "execution_count": null,
   "metadata": {
    "pycharm": {
     "name": "#%%\n"
    }
   },
   "outputs": [],
   "source": [
    "#g_values = [0.1, 0.4, 0.25]\n",
    "g_values = [-0.5]\n",
    "# x_rotations = get_binary_x_rotation_provider({0: '100', 1: '011', 2: '101'})\n",
    "# real_values_provider = get_arcsin_x_rotation_provider(g_values, data_bus_size)\n",
    "real_values_provider = get_g_parameters_provider()"
   ]
  },
  {
   "cell_type": "code",
   "execution_count": null,
   "metadata": {},
   "outputs": [],
   "source": [
    "epochs = 1\n",
    "disc_iteration = 20\n",
    "gen_iteration = 5"
   ]
  },
  {
   "cell_type": "code",
   "execution_count": null,
   "metadata": {},
   "outputs": [],
   "source": [
    "neptune.init(project_qualified_name='wiktor.jurasz/thesis', api_token=neptun_token)\n",
    "neptun_params = {\n",
    "    'g_values': g_values,\n",
    "    'size':  data_bus_size,\n",
    "    'real_phase': real_phase,\n",
    "    'generic_generator': generic_generator,\n",
    "    'all_layers_labeling': all_layers_labeling,\n",
    "    'full_layer_labeling': full_layer_labeling,\n",
    "    'use_gen_label_qubit': use_gen_label_qubit,\n",
    "    'use_disc_label_qubit': use_disc_label_qubit,\n",
    "    'zxz': zxz,\n",
    "    'disc_iteration': disc_iteration,\n",
    "    'gen_iteration': gen_iteration\n",
    "}\n",
    "neptune.create_experiment(name=None, description=None, params=neptun_params)\n",
    "neptune.log_artifact(str(disc), \"disc.txt\")\n",
    "neptune.log_artifact(str(gen), \"gen.txt\")"
   ]
  },
  {
   "cell_type": "code",
   "execution_count": null,
   "metadata": {},
   "outputs": [],
   "source": [
    "trainer = Trainer(g_values, \n",
    "                  data_bus_size, \n",
    "                  disc, \n",
    "                  gen, \n",
    "                  real, \n",
    "                  out_qubit, \n",
    "                  ds, \n",
    "                  gs, \n",
    "                  real_symbols, \n",
    "                  ls,\n",
    "                  real_values_provider = real_values_provider,\n",
    "                  use_analytical_expectation=True,\n",
    "                  use_neptune=True)"
   ]
  },
  {
   "cell_type": "code",
   "execution_count": null,
   "metadata": {
    "scrolled": false
   },
   "outputs": [],
   "source": [
    "snapshot_interval_epochs = 20\n",
    "results, json_result = trainer.train(disc_weights,\n",
    "      gen_weights, \n",
    "      opt, \n",
    "      epochs=epochs, \n",
    "      disc_iteration=disc_iteration, \n",
    "      gen_iteration=gen_iteration,\n",
    "      snapshot_interval_epochs=snapshot_interval_epochs)\n",
    "res_dict = trainer.get_params_and_results()"
   ]
  },
  {
   "cell_type": "code",
   "execution_count": null,
   "metadata": {},
   "outputs": [],
   "source": [
    "neptune.log_artifact(io.StringIO(disc_evaluator.get_resolved_circuit(res_dict['weights'][-1]['disc_weights'].tolist()).to_qasm()), 'desc_qasm.txt')\n",
    "neptune.log_artifact(io.StringIO(gen_evaluator.get_resolved_circuit(res_dict['weights'][-1]['gen_weights'].tolist()).to_qasm()), 'gen_qasm.txt')\n",
    "neptune.log_artifact(io.StringIO(json_result), 'weights.json')"
   ]
  },
  {
   "cell_type": "code",
   "execution_count": null,
   "metadata": {},
   "outputs": [],
   "source": [
    "def get_gen_for_g(g, gen_weights, gen_provider):\n",
    "    rad = gen_provider(g)\n",
    "    return np.append(gen_weights, rad)\n",
    "\n",
    "def get_states_and_fidelty_for_real(gen_evaluator, \n",
    "                                    real_evaluator, \n",
    "                                    gen_weights, \n",
    "                                    g, \n",
    "                                    sized):\n",
    "    generated = gen_evaluator.get_state_from_params(get_gen_for_g(g, gen_weights, gen_evaluator.label_value_provider))\n",
    "    real = real_evaluator.get_state_from_params(real_evaluator.label_value_provider(g))\n",
    "    return generated, real, cirq.fidelity(generated, real)\n",
    "\n",
    "def get_states_and_fidelty_for_ground(gen_evaluator, g, gen_weights, size):\n",
    "\n",
    "    generated = gen_evaluator.get_state_from_params(get_gen_for_g(g, gen_weights, gen_evaluator.label_value_provider), list(range(size)))\n",
    "    ground = get_ground_state_for_g(g, size)\n",
    "    return generated, ground, cirq.fidelity(generated, ground)\n",
    "\n",
    "def compare_generated_for_g(gen_evaluator, g1, g2, gen_weights, size):\n",
    "    generated1 = gen_evaluator.get_state_from_params(get_gen_for_g(g1, gen_weights, gen_evaluator.label_value_provider), list(range(size)))\n",
    "    generated2 = gen_evaluator.get_state_from_params(get_gen_for_g(g2, gen_weights, gen_evaluator.label_value_provider), list(range(size)))\n",
    "    return generated1, generated2, cirq.fidelity(generated1, generated2)"
   ]
  },
  {
   "cell_type": "code",
   "execution_count": null,
   "metadata": {
    "pycharm": {
     "name": "#%%\n"
    }
   },
   "outputs": [],
   "source": [
    "trained_disc_weights = tf.Variable(np.array([ 1.25888796e+01,  1.10409822e+01,  1.27487049e+01,  1.32927475e+01,\n",
    "       -3.20522385e+01,  2.98508596e+00, -7.54223883e-01,  8.97036648e+00,\n",
    "        8.98472309e+00, -2.77423954e+00,  8.90891266e+00,  5.72837019e+00,\n",
    "        6.03105211e+00, -4.64482594e+00, -1.10843427e-01,  7.78598115e-02,\n",
    "        3.00343895e+00,  3.83781940e-01,  6.08641243e+00,  8.64131927e+00,\n",
    "       -2.17593918e+01,  1.45857897e+01,  2.36893883e+01,  8.75363445e+00,\n",
    "       -2.42768993e+01,  1.27688437e+01,  2.53628349e+00,  1.39768391e+01,\n",
    "        1.40961084e+01, -2.04474068e+01,  4.71392822e+00,  1.66926212e+01,\n",
    "        1.88311214e+01,  9.17525005e+00,  1.16109962e+01,  1.08004580e+01,\n",
    "        1.10795708e+01,  5.81477690e+00, -5.50215101e+00,  2.22007637e+01,\n",
    "        2.25015125e+01,  3.21826210e+01, -1.80058708e+01, -7.85126591e+00,\n",
    "       -7.77073908e+00,  1.40237570e+01,  3.14071465e+01, -1.07477732e+01,\n",
    "        1.55852342e+00,  2.63786411e+01,  1.31890945e+01,  7.14759350e+00,\n",
    "        5.46145630e+00, -1.79730053e+01,  7.40563774e+00,  1.06135674e+01,\n",
    "       -1.55095673e+00, -2.66580944e+01,  6.51995277e+00, -2.37151980e+00,\n",
    "        3.51896515e+01,  1.50027342e+01,  1.80733763e-02, -1.75052185e+01,\n",
    "        9.60706902e+00, -6.06413984e+00,  5.35433817e+00, -7.88707399e+00,\n",
    "        1.27363043e+01,  1.02446747e+01]), dtype=tf.float32)\n",
    "\n",
    "trained_gen_weights =[\n",
    "      7.905319690704346,\n",
    "      -1.8633191585540771,\n",
    "      -4.245143413543701,\n",
    "      -0.46167176961898804,\n",
    "      -0.9651000499725342,\n",
    "      2.140392541885376,\n",
    "      -5.569220066070557,\n",
    "      -4.626476287841797,\n",
    "      0.050108544528484344,\n",
    "      -9.636614799499512,\n",
    "      0.7460542917251587,\n",
    "      7.176821708679199,\n",
    "      -3.124521255493164,\n",
    "      2.7807815074920654,\n",
    "      0.46627435088157654,\n",
    "      -0.760291337966919,\n",
    "      5.282293319702148,\n",
    "      -4.029909610748291,\n",
    "      3.353888988494873,\n",
    "      0.7900710105895996,\n",
    "      -0.4087430536746979,\n",
    "      -6.351171970367432,\n",
    "      -2.659658908843994,\n",
    "      -2.085594654083252,\n",
    "      -11.018178939819336,\n",
    "      -13.472908020019531,\n",
    "      0.0797867700457573,\n",
    "      -4.080026149749756,\n",
    "      -4.763267993927002,\n",
    "      1.5418087244033813,\n",
    "      7.7455620765686035,\n",
    "      -6.144144058227539,\n",
    "      -9.431268692016602,\n",
    "      -0.511724054813385,\n",
    "      5.689932823181152,\n",
    "      7.294072151184082,\n",
    "      -3.128417491912842,\n",
    "      5.949368953704834,\n",
    "      0.8139113187789917\n",
    "    ]\n",
    "gen_symbols = gs \n",
    "# gen_symbols = gs\n",
    "# real_symbols = ('r0', 'r1', 'r2')"
   ]
  },
  {
   "cell_type": "code",
   "execution_count": null,
   "metadata": {},
   "outputs": [],
   "source": [
    "def angle_dist(g, phase_angles_provider, weights):\n",
    "    angles = phase_angles_provider(g)\n",
    "    z1_rad = 3 * math.pi / 2\n",
    "    z2_rad = -3 * math.pi / 2\n",
    "    z1_deg = math.degrees(z1_rad)\n",
    "    z2_deg = math.degrees(z2_rad)\n",
    "    \n",
    "    xr_rad = angles[0]\n",
    "    xv_rad = angles[1]\n",
    "    xw_rad = angles[2]\n",
    "    xr_deg = math.degrees(xr_rad)\n",
    "    xv_deg = math.degrees(xv_rad)\n",
    "    xw_deg = math.degrees(xw_rad)\n",
    "    \n",
    "    \n",
    "    norm_w_deg = [math.degrees(w) for w in weights]\n",
    "    deg_diff = [norm_w_deg[0], z1_deg, norm_w_deg[0] - z1_deg, weights[0], z1_rad]\n",
    "    \n",
    "    print(z1_deg,z2_deg,xr_deg,xv_deg,xw_deg)\n",
    "    return deg_diff\n",
    "    \n",
    "angle_dist(-0.5, get_g_parameters_provider(), trained_gen_weights04)"
   ]
  },
  {
   "cell_type": "code",
   "execution_count": null,
   "metadata": {},
   "outputs": [],
   "source": [
    "gen_evaluator = CircuitEvaluator(pure_gen, gen_symbols, trainer.label_value_provider)\n",
    "disc_evaluator = CircuitEvaluator(disc, ds, None)\n",
    "real_evaluator = CircuitEvaluator(pure_real, real_symbols, trainer.real_values_provider)"
   ]
  },
  {
   "cell_type": "code",
   "execution_count": null,
   "metadata": {},
   "outputs": [],
   "source": [
    "g = -0.5\n",
    "generated_state, real_state, fidelity = get_states_and_fidelty_for_real(gen_evaluator, real_evaluator, trained_gen_weights, g, data_bus_size)"
   ]
  },
  {
   "cell_type": "code",
   "execution_count": null,
   "metadata": {},
   "outputs": [],
   "source": [
    "g = -0.5\n",
    "generated_state, real_state, fidelity = get_states_and_fidelty_for_real(gen_evaluator, real_evaluator, trained_gen_weights, g, data_bus_size)"
   ]
  },
  {
   "cell_type": "code",
   "execution_count": null,
   "metadata": {},
   "outputs": [],
   "source": [
    "generated_state, real_state, fidelity"
   ]
  },
  {
   "cell_type": "code",
   "execution_count": null,
   "metadata": {},
   "outputs": [],
   "source": [
    "neptune.log_artifact(io.StringIO(str({\"generated_state\": generated_state.tolist(), \"real_state\": real_state.tolist()})), f\"states_g={g}.txt\")\n",
    "neptune.log_metric(f\"g={g} fidelity\", fidelity)"
   ]
  },
  {
   "cell_type": "code",
   "execution_count": null,
   "metadata": {},
   "outputs": [],
   "source": [
    "trained_gen_weights025 = [(abs(el1) + abs(el2))/2 for el1,el2 in zip(trained_gen_weights04,trained_gen_weights01)]"
   ]
  },
  {
   "cell_type": "code",
   "execution_count": null,
   "metadata": {},
   "outputs": [],
   "source": [
    "get_g_parameters_provider()(g)"
   ]
  },
  {
   "cell_type": "code",
   "execution_count": null,
   "metadata": {},
   "outputs": [],
   "source": [
    "trained_gen_weights025"
   ]
  },
  {
   "cell_type": "code",
   "execution_count": null,
   "metadata": {},
   "outputs": [],
   "source": [
    "generated = gen_evaluator.get_state_from_params(get_gen_for_g(0.25, trained_gen_weights025, real_values_provider))\n",
    "real = real_evaluator.get_state_from_params(real_values_provider(0.25))\n",
    "generated, real, cirq.fidelity(generated, real)"
   ]
  },
  {
   "cell_type": "code",
   "execution_count": null,
   "metadata": {},
   "outputs": [],
   "source": [
    "real025 = real_evaluator.get_state_from_params(real_values_provider(0.25))"
   ]
  },
  {
   "cell_type": "code",
   "execution_count": null,
   "metadata": {},
   "outputs": [],
   "source": [
    "real04 = real_evaluator.get_state_from_params(real_values_provider(0.4))\n",
    "real01 = real_evaluator.get_state_from_params(real_values_provider(0.1))"
   ]
  },
  {
   "cell_type": "code",
   "execution_count": null,
   "metadata": {},
   "outputs": [],
   "source": [
    "cirq.fidelity(real025, -real025)"
   ]
  },
  {
   "cell_type": "code",
   "execution_count": null,
   "metadata": {},
   "outputs": [],
   "source": [
    "compare_generated_for_g(gen_evaluator, -0.9, -0.8, trained_gen_weights, data_bus_size)"
   ]
  },
  {
   "cell_type": "code",
   "execution_count": null,
   "metadata": {},
   "outputs": [],
   "source": [
    "g = 0\n",
    "get_states_and_fidelty_for_ground(gen_evaluator, g, trained_gen_weights, data_bus_size)"
   ]
  }
 ],
 "metadata": {
  "kernelspec": {
   "display_name": "Python 3",
   "language": "python",
   "name": "python3"
  },
  "language_info": {
   "codemirror_mode": {
    "name": "ipython",
    "version": 3
   },
   "file_extension": ".py",
   "mimetype": "text/x-python",
   "name": "python",
   "nbconvert_exporter": "python",
   "pygments_lexer": "ipython3",
   "version": "3.8.7"
  }
 },
 "nbformat": 4,
 "nbformat_minor": 1
}
