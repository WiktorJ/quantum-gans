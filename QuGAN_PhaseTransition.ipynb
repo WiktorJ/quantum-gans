{
 "cells": [
  {
   "cell_type": "code",
   "execution_count": null,
   "metadata": {
    "scrolled": true
   },
   "outputs": [],
   "source": [
    "# For colab\n",
    "!pip uninstall tensorflow -y\n",
    "!pip install tensorflow==2.3.1 tensorflow-quantum\n",
    "!rm -rf quantum-gans\n",
    "!git clone https://github.com/WiktorJ/quantum-gans\n",
    "!cd quantum-gans; pip install ."
   ]
  },
  {
   "cell_type": "code",
   "execution_count": 1,
   "metadata": {},
   "outputs": [],
   "source": [
    "from typing import Any\n",
    "\n",
    "import sympy\n",
    "import math\n",
    "import tensorflow as tf\n",
    "import tensorflow_quantum as tfq\n",
    "\n",
    "import cirq\n",
    "import numpy as np\n",
    "from cirq import GridQubit, ops\n",
    "from qsgenerator.utils import map_to_radians\n",
    "from qsgenerator.qugans import circuits\n",
    "from qsgenerator.qugans.training import Trainer, CustomSchedule\n",
    "from qsgenerator.phase.circuits import build_ground_state_circuit\n",
    "from qsgenerator.phase.analitical import construct_hamiltonian, get_ground_state_for_g, get_theta_v, get_theta_w, get_theta_r"
   ]
  },
  {
   "cell_type": "code",
   "execution_count": 2,
   "metadata": {},
   "outputs": [],
   "source": [
    "generator_layers = 2\n",
    "discriminator_layers = 2\n",
    "data_bus_size = 3"
   ]
  },
  {
   "cell_type": "code",
   "execution_count": 3,
   "metadata": {},
   "outputs": [
    {
     "ename": "AssertionError",
     "evalue": "",
     "output_type": "error",
     "traceback": [
      "\u001b[0;31m---------------------------------------------------------------------------\u001b[0m",
      "\u001b[0;31mAssertionError\u001b[0m                            Traceback (most recent call last)",
      "\u001b[0;32m<ipython-input-3-5bfaa65867b1>\u001b[0m in \u001b[0;36m<module>\u001b[0;34m\u001b[0m\n\u001b[0;32m----> 1\u001b[0;31m \u001b[0mgen\u001b[0m\u001b[0;34m,\u001b[0m \u001b[0mgs\u001b[0m\u001b[0;34m,\u001b[0m \u001b[0mdisc\u001b[0m\u001b[0;34m,\u001b[0m \u001b[0mds\u001b[0m\u001b[0;34m,\u001b[0m \u001b[0mls\u001b[0m\u001b[0;34m,\u001b[0m \u001b[0mdata_qubits\u001b[0m\u001b[0;34m,\u001b[0m \u001b[0mout_qubit\u001b[0m \u001b[0;34m=\u001b[0m \u001b[0mcircuits\u001b[0m\u001b[0;34m.\u001b[0m\u001b[0mbuild_gan_circuits\u001b[0m\u001b[0;34m(\u001b[0m\u001b[0mgenerator_layers\u001b[0m\u001b[0;34m,\u001b[0m \u001b[0mdiscriminator_layers\u001b[0m\u001b[0;34m,\u001b[0m \u001b[0mdata_bus_size\u001b[0m\u001b[0;34m)\u001b[0m\u001b[0;34m\u001b[0m\u001b[0;34m\u001b[0m\u001b[0m\n\u001b[0m",
      "\u001b[0;32m~/Studies/thesis/qsgenerator/qugans/circuits.py\u001b[0m in \u001b[0;36mbuild_gan_circuits\u001b[0;34m(generator_layers, discriminator_layers, data_bus_size)\u001b[0m\n\u001b[1;32m      9\u001b[0m     \u001b[0mlabel_gen_qubit\u001b[0m \u001b[0;34m=\u001b[0m \u001b[0mqubits\u001b[0m\u001b[0;34m[\u001b[0m\u001b[0;34m-\u001b[0m\u001b[0;36m1\u001b[0m\u001b[0;34m]\u001b[0m\u001b[0;34m\u001b[0m\u001b[0;34m\u001b[0m\u001b[0m\n\u001b[1;32m     10\u001b[0m     \u001b[0mls\u001b[0m \u001b[0;34m=\u001b[0m \u001b[0msympy\u001b[0m\u001b[0;34m.\u001b[0m\u001b[0msymbols\u001b[0m\u001b[0;34m(\u001b[0m\u001b[0;34m\"l\"\u001b[0m\u001b[0;34m)\u001b[0m\u001b[0;34m\u001b[0m\u001b[0;34m\u001b[0m\u001b[0m\n\u001b[0;32m---> 11\u001b[0;31m     \u001b[0mgen\u001b[0m\u001b[0;34m,\u001b[0m \u001b[0mgen_symbols\u001b[0m \u001b[0;34m=\u001b[0m \u001b[0mbuild_circuit\u001b[0m\u001b[0;34m(\u001b[0m\u001b[0mgenerator_layers\u001b[0m\u001b[0;34m,\u001b[0m \u001b[0mlabel_gen_qubit\u001b[0m\u001b[0;34m,\u001b[0m \u001b[0mdata_qubits\u001b[0m \u001b[0;34m+\u001b[0m \u001b[0;34m[\u001b[0m\u001b[0mlabel_gen_qubit\u001b[0m\u001b[0;34m]\u001b[0m\u001b[0;34m,\u001b[0m \u001b[0mls\u001b[0m\u001b[0;34m,\u001b[0m \u001b[0;34m\"g\"\u001b[0m\u001b[0;34m)\u001b[0m\u001b[0;34m\u001b[0m\u001b[0;34m\u001b[0m\u001b[0m\n\u001b[0m\u001b[1;32m     12\u001b[0m     disc, disc_symbols = build_circuit(discriminator_layers, label_disc_qubit,\n\u001b[1;32m     13\u001b[0m                                        [out_qubit, label_disc_qubit] + data_qubits, ls, \"d\")\n",
      "\u001b[0;32m~/Studies/thesis/qsgenerator/qugans/circuits.py\u001b[0m in \u001b[0;36mbuild_circuit\u001b[0;34m(layers, label_qubit, data_qubits, label_symbol, data_qubits_prefix)\u001b[0m\n\u001b[1;32m     19\u001b[0m     \u001b[0mlayer_symbols_size\u001b[0m \u001b[0;34m=\u001b[0m \u001b[0mlen\u001b[0m\u001b[0;34m(\u001b[0m\u001b[0mdata_qubits\u001b[0m\u001b[0;34m)\u001b[0m \u001b[0;34m*\u001b[0m \u001b[0;36m3\u001b[0m \u001b[0;34m-\u001b[0m \u001b[0;36m1\u001b[0m\u001b[0;34m\u001b[0m\u001b[0;34m\u001b[0m\u001b[0m\n\u001b[1;32m     20\u001b[0m     \u001b[0msymbols\u001b[0m \u001b[0;34m=\u001b[0m \u001b[0msympy\u001b[0m\u001b[0;34m.\u001b[0m\u001b[0msymbols\u001b[0m\u001b[0;34m(\u001b[0m\u001b[0;34mf\"{data_qubits_prefix}:{layers * layer_symbols_size}\"\u001b[0m\u001b[0;34m)\u001b[0m\u001b[0;34m\u001b[0m\u001b[0;34m\u001b[0m\u001b[0m\n\u001b[0;32m---> 21\u001b[0;31m     circuit.append([_build_layer(label_qubit, data_qubits, label_symbol,\n\u001b[0m\u001b[1;32m     22\u001b[0m                                  symbols[layer_symbols_size:  layer_symbols_size])])\n\u001b[1;32m     23\u001b[0m     \u001b[0;32mfor\u001b[0m \u001b[0mi\u001b[0m \u001b[0;32min\u001b[0m \u001b[0mrange\u001b[0m\u001b[0;34m(\u001b[0m\u001b[0;36m1\u001b[0m\u001b[0;34m,\u001b[0m \u001b[0mlayers\u001b[0m\u001b[0;34m)\u001b[0m\u001b[0;34m:\u001b[0m\u001b[0;34m\u001b[0m\u001b[0;34m\u001b[0m\u001b[0m\n",
      "\u001b[0;32m~/Studies/thesis/qsgenerator/qugans/circuits.py\u001b[0m in \u001b[0;36m_build_layer\u001b[0;34m(label_qubit, data_qubits, label_symbol, data_symbols)\u001b[0m\n\u001b[1;32m     29\u001b[0m \u001b[0;34m\u001b[0m\u001b[0m\n\u001b[1;32m     30\u001b[0m \u001b[0;32mdef\u001b[0m \u001b[0m_build_layer\u001b[0m\u001b[0;34m(\u001b[0m\u001b[0mlabel_qubit\u001b[0m\u001b[0;34m,\u001b[0m \u001b[0mdata_qubits\u001b[0m\u001b[0;34m,\u001b[0m \u001b[0mlabel_symbol\u001b[0m\u001b[0;34m,\u001b[0m \u001b[0mdata_symbols\u001b[0m\u001b[0;34m)\u001b[0m\u001b[0;34m:\u001b[0m\u001b[0;34m\u001b[0m\u001b[0;34m\u001b[0m\u001b[0m\n\u001b[0;32m---> 31\u001b[0;31m     \u001b[0;32massert\u001b[0m \u001b[0mlen\u001b[0m\u001b[0;34m(\u001b[0m\u001b[0mdata_symbols\u001b[0m\u001b[0;34m)\u001b[0m \u001b[0;34m==\u001b[0m \u001b[0mlen\u001b[0m\u001b[0;34m(\u001b[0m\u001b[0mdata_qubits\u001b[0m\u001b[0;34m)\u001b[0m \u001b[0;34m*\u001b[0m \u001b[0;36m3\u001b[0m \u001b[0;34m-\u001b[0m \u001b[0;36m1\u001b[0m\u001b[0;34m\u001b[0m\u001b[0;34m\u001b[0m\u001b[0m\n\u001b[0m\u001b[1;32m     32\u001b[0m \u001b[0;34m\u001b[0m\u001b[0m\n\u001b[1;32m     33\u001b[0m     \u001b[0;31m# Add the label rotation\u001b[0m\u001b[0;34m\u001b[0m\u001b[0;34m\u001b[0m\u001b[0;34m\u001b[0m\u001b[0m\n",
      "\u001b[0;31mAssertionError\u001b[0m: "
     ]
    }
   ],
   "source": [
    "gen, gs, disc, ds, ls, data_qubits, out_qubit = circuits.build_gan_circuits(generator_layers, discriminator_layers, data_bus_size)"
   ]
  },
  {
   "cell_type": "code",
   "execution_count": null,
   "metadata": {},
   "outputs": [],
   "source": [
    "real, real_symbols = build_ground_state_circuit(qubits=data_qubits)"
   ]
  },
  {
   "cell_type": "code",
   "execution_count": null,
   "metadata": {},
   "outputs": [],
   "source": [
    "pure_gen = gen.copy()\n",
    "gen.append([disc])"
   ]
  },
  {
   "cell_type": "code",
   "execution_count": null,
   "metadata": {},
   "outputs": [],
   "source": [
    "pure_real = real.copy()\n",
    "real.append([disc])"
   ]
  },
  {
   "cell_type": "code",
   "execution_count": null,
   "metadata": {
    "scrolled": true
   },
   "outputs": [],
   "source": [
    "print(\"REAL GROUND STATE\")\n",
    "print(pure_real)"
   ]
  },
  {
   "cell_type": "code",
   "execution_count": null,
   "metadata": {},
   "outputs": [],
   "source": [
    "print(\"GENERATOR\")\n",
    "print(pure_gen)"
   ]
  },
  {
   "cell_type": "code",
   "execution_count": null,
   "metadata": {},
   "outputs": [],
   "source": [
    "print(\"DISCRIMINATOR\")\n",
    "print(disc)"
   ]
  },
  {
   "cell_type": "code",
   "execution_count": 10,
   "metadata": {},
   "outputs": [],
   "source": [
    "np.random.seed(0)\n",
    "eps = 1e-2\n",
    "init_gen_weights = np.array([np.pi] + [0] * 21) + \\\n",
    "                   np.random.normal(scale=eps, size=(22,))\n",
    "init_disc_weights = np.random.normal(size=(28,))\n",
    "\n",
    "gen_weights = tf.Variable(init_gen_weights, dtype=tf.float32)\n",
    "disc_weights = tf.Variable(init_disc_weights, dtype=tf.float32)"
   ]
  },
  {
   "cell_type": "code",
   "execution_count": 11,
   "metadata": {
    "pycharm": {
     "name": "#%%\n"
    }
   },
   "outputs": [],
   "source": [
    "learning_rate = CustomSchedule()\n",
    "\n",
    "opt = tf.keras.optimizers.Adam(learning_rate, beta_1=0.9, beta_2=0.98, \n",
    "                                     epsilon=1e-9)"
   ]
  },
  {
   "cell_type": "code",
   "execution_count": 12,
   "metadata": {
    "pycharm": {
     "name": "#%%\n"
    }
   },
   "outputs": [],
   "source": [
    "g_provider = lambda: 0"
   ]
  },
  {
   "cell_type": "code",
   "execution_count": 13,
   "metadata": {},
   "outputs": [],
   "source": [
    "trainer = Trainer(g_provider, \n",
    "                  data_bus_size, \n",
    "                  disc, \n",
    "                  gen, \n",
    "                  real, \n",
    "                  out_qubit, \n",
    "                  ds, \n",
    "                  gs, \n",
    "                  real_symbols, \n",
    "                  ls,\n",
    "                  use_analytical_expectation=True)"
   ]
  },
  {
   "cell_type": "code",
   "execution_count": null,
   "metadata": {},
   "outputs": [
    {
     "name": "stdout",
     "output_type": "stream",
     "text": [
      "WARNING:tensorflow:From /Users/wiktorjurasz/Studies/thesis/venv/lib/python3.8/site-packages/tensorflow/python/util/deprecation.py:574: calling map_fn_v2 (from tensorflow.python.ops.map_fn) with dtype is deprecated and will be removed in a future version.\n",
      "Instructions for updating:\n",
      "Use fn_output_signature instead\n",
      "Epoch 0: cost = [[0.2982991]]\n",
      "Prob(real classified as real):  [[0.4976718]]\n",
      "Prob(fake classified as real):  [[0.7959709]]\n",
      "Epoch 0: cost = [[-0.7959709]]\n",
      "Prob(fake classified as real):  [[0.7959709]]\n",
      "Discriminator cost:  [[0.2982991]]\n",
      "Generator weights: <tf.Variable 'Variable:0' shape=(22,) dtype=float32, numpy=\n",
      "array([-10.1538925,  -5.8757625,  -5.8703175,   3.001207 , -13.019004 ,\n",
      "       -12.693356 ,   1.9784341, -13.137627 , -13.786987 , -13.515038 ,\n",
      "       -13.311686 , -12.854742 ,   2.3864002,   5.4604774,  -5.8757343,\n",
      "       -12.866825 , -13.503126 ,  -5.8818154,  -5.876974 ,  -5.8876247,\n",
      "       -13.543596 , -13.511531 ], dtype=float32)>\n",
      "Discriminator weights <tf.Variable 'Variable:0' shape=(28,) dtype=float32, numpy=\n",
      "array([  28.310925  ,   -1.3881841 ,   -0.61370814, -102.06886   ,\n",
      "        -83.644295  ,  -14.386199  ,   50.432297  ,   52.792294  ,\n",
      "         82.30965   ,  -98.54453   ,   94.65001   ,   32.676636  ,\n",
      "       -182.30988   ,   -9.827391  ,   65.02671   ,  -87.78245   ,\n",
      "        -11.168194  , -141.18117   ,  -74.06355   ,   68.69579   ,\n",
      "        -52.724545  ,    5.1640506 , -121.32793   ,   58.668365  ,\n",
      "        -86.73042   ,  -97.874054  ,  -80.13341   , -116.731384  ],\n",
      "      dtype=float32)>\n",
      "Epoch 1: cost = [[0.28368568]]\n",
      "Prob(real classified as real):  [[0.5373459]]\n",
      "Prob(fake classified as real):  [[0.8210316]]\n",
      "Epoch 1: cost = [[-0.8210318]]\n",
      "Prob(fake classified as real):  [[0.8210318]]\n",
      "Discriminator cost:  [[0.28368592]]\n",
      "Generator weights: <tf.Variable 'Variable:0' shape=(22,) dtype=float32, numpy=\n",
      "array([-17.83623  , -15.515672 , -19.685951 ,  -3.8542309, -25.790567 ,\n",
      "       -22.026443 ,  -3.5223122, -19.894533 , -29.555511 , -24.488813 ,\n",
      "       -25.501995 , -25.03517  ,  -5.675414 ,   7.8992586, -14.246485 ,\n",
      "       -28.398386 , -26.576248 , -10.180215 ,  -8.423521 , -18.114517 ,\n",
      "       -23.222612 , -20.551575 ], dtype=float32)>\n",
      "Discriminator weights <tf.Variable 'Variable:0' shape=(28,) dtype=float32, numpy=\n",
      "array([  33.573586,  163.7453  ,  -35.720543, -174.60762 ,  -72.68879 ,\n",
      "         78.872734,   27.020388,  138.36763 ,   96.55375 ,  -71.36367 ,\n",
      "         69.26748 ,   33.40376 , -296.46277 ,   34.123062,   22.399578,\n",
      "       -247.70142 , -236.54886 , -223.10394 ,  -61.735554,   33.05516 ,\n",
      "        -77.880424, -128.19987 ,  -90.762535,   13.025201,  -74.52341 ,\n",
      "        -81.71777 ,  -86.38138 ,  -90.04027 ], dtype=float32)>\n"
     ]
    }
   ],
   "source": [
    "epochs = 50\n",
    "disc_iteration = 100\n",
    "gen_iteration = 2\n",
    "trainer.train(disc_weights,\n",
    "      gen_weights, \n",
    "      opt, \n",
    "      epochs=epochs, \n",
    "      disc_iteration=disc_iteration, \n",
    "      gen_iteration=gen_iteration)"
   ]
  },
  {
   "cell_type": "code",
   "execution_count": 28,
   "metadata": {
    "pycharm": {
     "name": "#%%\n"
    }
   },
   "outputs": [],
   "source": [
    "g = 0\n",
    "size = 3\n",
    "ground_state = get_ground_state_for_g(g, size)\n",
    "rad = map_to_radians(g)\n",
    "\n",
    "\n",
    "trained_disc_weights = tf.Variable(np.array([ 2.86846906e-01,  2.07442139e+02, -1.32505005e+02,  3.37965851e+02,\n",
    "        1.44702286e+02,  1.67083755e+02,  3.51270142e+02,  4.46218109e+02,\n",
    "        4.07063354e+02,  1.02569595e+02,  1.62362915e+02,  1.63151154e+02,\n",
    "        2.18758965e+01, -8.55859451e+01,  1.11934540e+02, -2.94222107e+01,\n",
    "       -2.17204269e+02,  1.34002686e+02, -1.02429161e+02,  3.34117676e+02,\n",
    "        1.70663238e-01, -7.37496872e+01,  2.35848450e+02,  5.64170044e+02,\n",
    "        1.03939911e+02,  1.88091278e+02,  2.74167786e+02,  2.02242035e+02]), dtype=tf.float32)\n",
    "\n",
    "trained_gen_weights = tf.Variable(np.array([-144.82959 ,  -48.820187,  -37.406292,  -28.891056,   39.797165,\n",
    "        -91.51027 ,  -34.273388, -168.94511 ,   21.551538,   -5.49935 ,\n",
    "        -48.562504,   85.00836 ,  -53.48785 ,   34.342926,  -52.16403 ,\n",
    "        -13.224033, -107.89109 ,   67.52959 ,   66.580956,  -77.641495,\n",
    "        -80.20973 ,  -68.8333, rad]), dtype=tf.float32)\n",
    "\n",
    "\n",
    "\n",
    "\n",
    "state_vector = tfq.layers.State()(pure_gen, symbol_names=gs + (ls,), symbol_values=tf.reshape(trained_gen_weights, (1, trained_gen_weights.shape[0]))).values.numpy()#%%\n",
    "\n",
    "traced_out_state = cirq.partial_trace_of_state_vector_as_mixture(state_vector, [0,1,2])"
   ]
  },
  {
   "cell_type": "code",
   "execution_count": 29,
   "metadata": {
    "pycharm": {
     "name": "#%%\n"
    }
   },
   "outputs": [
    {
     "name": "stdout",
     "output_type": "stream",
     "text": [
      "Max prob state has prob: 0.990966260433197\n"
     ]
    }
   ],
   "source": [
    "prob, highest_prob_state = max(traced_out_state)\n",
    "print(f\"Max prob state has prob: {prob}\")"
   ]
  },
  {
   "cell_type": "code",
   "execution_count": 30,
   "metadata": {},
   "outputs": [
    {
     "data": {
      "text/plain": [
       "array([-0.0319832 +0.j        , -0.15635763-0.02279332j,\n",
       "       -0.00327316-0.00306216j,  0.07331427-0.02613768j,\n",
       "        0.03153231-0.12366724j,  0.1965617 -0.5657752j ,\n",
       "        0.04087236-0.01602049j,  0.26633027+0.7211426j ], dtype=complex64)"
      ]
     },
     "execution_count": 30,
     "metadata": {},
     "output_type": "execute_result"
    }
   ],
   "source": [
    "highest_prob_state"
   ]
  },
  {
   "cell_type": "code",
   "execution_count": 31,
   "metadata": {},
   "outputs": [
    {
     "data": {
      "text/plain": [
       "array([1., 0., 0., 0., 0., 0., 0., 0.])"
      ]
     },
     "execution_count": 31,
     "metadata": {},
     "output_type": "execute_result"
    }
   ],
   "source": [
    "get_ground_state_for_g(g, size)"
   ]
  },
  {
   "cell_type": "code",
   "execution_count": 32,
   "metadata": {
    "pycharm": {
     "name": "#%%\n"
    }
   },
   "outputs": [
    {
     "data": {
      "text/plain": [
       "1.5697734015047948"
      ]
     },
     "execution_count": 32,
     "metadata": {},
     "output_type": "execute_result"
    }
   ],
   "source": [
    "np.arccos(cirq.fidelity(highest_prob_state, get_ground_state_for_g(g,size)))"
   ]
  },
  {
   "cell_type": "code",
   "execution_count": 34,
   "metadata": {
    "pycharm": {
     "name": "#%%\n"
    }
   },
   "outputs": [
    {
     "data": {
      "text/plain": [
       "1.0"
      ]
     },
     "execution_count": 34,
     "metadata": {},
     "output_type": "execute_result"
    }
   ],
   "source": [
    "cirq.fidelity(highest_prob_state, get_ground_state_for_g(g, size))"
   ]
  },
  {
   "cell_type": "code",
   "execution_count": null,
   "metadata": {},
   "outputs": [],
   "source": []
  }
 ],
 "metadata": {
  "kernelspec": {
   "display_name": "Python 3",
   "language": "python",
   "name": "python3"
  },
  "language_info": {
   "codemirror_mode": {
    "name": "ipython",
    "version": 3
   },
   "file_extension": ".py",
   "mimetype": "text/x-python",
   "name": "python",
   "nbconvert_exporter": "python",
   "pygments_lexer": "ipython3",
   "version": "3.8.6"
  }
 },
 "nbformat": 4,
 "nbformat_minor": 1
}
