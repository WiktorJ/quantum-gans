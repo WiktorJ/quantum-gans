{
 "cells": [
  {
   "cell_type": "code",
   "execution_count": null,
   "metadata": {
    "scrolled": true
   },
   "outputs": [],
   "source": [
    "# For colab\n",
    "!pip uninstall tensorflow -y\n",
    "!pip install tensorflow==2.3.1 tensorflow-quantum\n",
    "!rm -rf quantum-gans\n",
    "!git clone https://github.com/WiktorJ/quantum-gans\n",
    "!cd quantum-gans; pip install ."
   ]
  },
  {
   "cell_type": "code",
   "execution_count": 1,
   "metadata": {},
   "outputs": [],
   "source": [
    "from typing import Any\n",
    "\n",
    "import sympy\n",
    "import math\n",
    "import random\n",
    "import tensorflow as tf\n",
    "import tensorflow_quantum as tfq\n",
    "\n",
    "import cirq\n",
    "import numpy as np\n",
    "from cirq import GridQubit, ops\n",
    "from qsgenerator.utils import map_to_radians\n",
    "from qsgenerator.qugans import circuits\n",
    "from qsgenerator.qugans.training import Trainer\n",
    "from qsgenerator.phase.circuits import build_ground_state_circuit\n",
    "from qsgenerator.phase.analitical import construct_hamiltonian, get_ground_state_for_g, get_theta_v, get_theta_w, get_theta_r"
   ]
  },
  {
   "cell_type": "code",
   "execution_count": 2,
   "metadata": {},
   "outputs": [],
   "source": [
    "generator_layers = 2\n",
    "discriminator_layers = 5\n",
    "data_bus_size = 3"
   ]
  },
  {
   "cell_type": "code",
   "execution_count": 3,
   "metadata": {},
   "outputs": [],
   "source": [
    "gen, gs, disc, ds, ls, data_qubits, out_qubit = circuits.build_gan_circuits(generator_layers, discriminator_layers, data_bus_size)"
   ]
  },
  {
   "cell_type": "code",
   "execution_count": 4,
   "metadata": {},
   "outputs": [],
   "source": [
    "real, real_symbols = build_ground_state_circuit(qubits=data_qubits)"
   ]
  },
  {
   "cell_type": "code",
   "execution_count": 5,
   "metadata": {},
   "outputs": [],
   "source": [
    "pure_gen = gen.copy()\n",
    "gen.append([disc])"
   ]
  },
  {
   "cell_type": "code",
   "execution_count": 6,
   "metadata": {},
   "outputs": [],
   "source": [
    "pure_real = real.copy()\n",
    "real.append([disc])"
   ]
  },
  {
   "cell_type": "code",
   "execution_count": 7,
   "metadata": {
    "scrolled": true
   },
   "outputs": [
    {
     "name": "stdout",
     "output_type": "stream",
     "text": [
      "REAL GROUND STATE\n",
      "(0, 2): ───────X───Z───Ry(theta_r)───X─────────────@───X───────────────────────────────────@───X─────────────────────────────────────────────────────────────────────────────────────────────────────────────────────────────────────────────────────────────────────────────────────\n",
      "               │                                   │                                       │\n",
      "(0, 3): ───────┼─────────────────────Ry(theta_w)───X───X───Ry(theta_w)───X───Ry(theta_v)───X───X───Ry(theta_v)───X───X─────────────@───X───────────────────────────────────@───X─────────────────────────────────────────────────────────────────────────────────────────────────────\n",
      "               │                                                                                                                   │                                       │\n",
      "(0, 4): ───────┼─────────────────────────────────────────────────────────────────────────────────────────────────────Ry(theta_w)───X───X───Ry(theta_w)───X───Ry(theta_v)───X───X───Ry(theta_v)───X───X─────────────@───X───────────────────────────────────@───X─────────────────────\n",
      "               │                                                                                                                                                                                                   │                                       │\n",
      "(1, 2): ───H───@───────────────────────────────────────────────────────────────────────────────────────────────────────────────────────────────────────────────────────────────────────────────────────────────────┼───────────────────────────────────────┼─────────────────────────\n",
      "                                                                                                                                                                                                                   │                                       │\n",
      "(1, 4): ─────────────────────────────────────────────────────────────────────────────────────────────────────────────────────────────────────────────────────────────────────────────────────────────Ry(theta_w)───X───X───Ry(theta_w)───X───Ry(theta_v)───X───X───Ry(theta_v)───X───\n"
     ]
    }
   ],
   "source": [
    "print(\"REAL GROUND STATE\")\n",
    "print(pure_real)"
   ]
  },
  {
   "cell_type": "code",
   "execution_count": 8,
   "metadata": {},
   "outputs": [
    {
     "name": "stdout",
     "output_type": "stream",
     "text": [
      "GENERATOR\n",
      "(0, 2): ───Rz(l)───Rx(g0)───Rz(g4)───ZZ───────────────Rx(g11)───Rz(g15)───ZZ────────────────\n",
      "                                     │                                    │\n",
      "(0, 3): ───Rz(l)───Rx(g1)───Rz(g5)───ZZ^g8───ZZ───────Rx(g12)───Rz(g16)───ZZ^g19───ZZ───────\n",
      "                                             │                                     │\n",
      "(0, 4): ───Rz(l)───Rx(g2)───Rz(g6)───ZZ──────ZZ^g10───Rx(g13)───Rz(g17)───ZZ───────ZZ^g21───\n",
      "                                     │                                    │\n",
      "(0, 5): ───Rz(l)───Rx(g3)───Rz(g7)───ZZ^g9────────────Rx(g14)───Rz(g18)───ZZ^g20────────────\n"
     ]
    }
   ],
   "source": [
    "print(\"GENERATOR\")\n",
    "print(pure_gen)"
   ]
  },
  {
   "cell_type": "code",
   "execution_count": 9,
   "metadata": {},
   "outputs": [
    {
     "name": "stdout",
     "output_type": "stream",
     "text": [
      "DISCRIMINATOR\n",
      "(0, 0): ───Rz(l)───Rx(d0)───Rz(d5)───ZZ────────────────Rx(d14)───Rz(d19)───ZZ────────────────Rx(d28)───Rz(d33)───ZZ────────────────Rx(d42)───Rz(d47)───ZZ────────────────Rx(d56)───Rz(d61)───ZZ────────────────\n",
      "                                     │                                     │                                     │                                     │                                     │\n",
      "(0, 1): ───Rz(l)───Rx(d1)───Rz(d6)───ZZ^d10───ZZ───────Rx(d15)───Rz(d20)───ZZ^d24───ZZ───────Rx(d29)───Rz(d34)───ZZ^d38───ZZ───────Rx(d43)───Rz(d48)───ZZ^d52───ZZ───────Rx(d57)───Rz(d62)───ZZ^d66───ZZ───────\n",
      "                                              │                                     │                                     │                                     │                                     │\n",
      "(0, 2): ───Rz(l)───Rx(d2)───Rz(d7)───ZZ───────ZZ^d12───Rx(d16)───Rz(d21)───ZZ───────ZZ^d26───Rx(d30)───Rz(d35)───ZZ───────ZZ^d40───Rx(d44)───Rz(d49)───ZZ───────ZZ^d54───Rx(d58)───Rz(d63)───ZZ───────ZZ^d68───\n",
      "                                     │                                     │                                     │                                     │                                     │\n",
      "(0, 3): ───Rz(l)───Rx(d3)───Rz(d8)───ZZ^d11───ZZ───────Rx(d17)───Rz(d22)───ZZ^d25───ZZ───────Rx(d31)───Rz(d36)───ZZ^d39───ZZ───────Rx(d45)───Rz(d50)───ZZ^d53───ZZ───────Rx(d59)───Rz(d64)───ZZ^d67───ZZ───────\n",
      "                                              │                                     │                                     │                                     │                                     │\n",
      "(0, 4): ───Rz(l)───Rx(d4)───Rz(d9)────────────ZZ^d13───Rx(d18)───Rz(d23)────────────ZZ^d27───Rx(d32)───Rz(d37)────────────ZZ^d41───Rx(d46)───Rz(d51)────────────ZZ^d55───Rx(d60)───Rz(d65)────────────ZZ^d69───\n"
     ]
    }
   ],
   "source": [
    "print(\"DISCRIMINATOR\")\n",
    "print(disc)"
   ]
  },
  {
   "cell_type": "code",
   "execution_count": 11,
   "metadata": {},
   "outputs": [],
   "source": [
    "np.random.seed(0)\n",
    "eps = 1e-2\n",
    "init_gen_weights = np.array([0] * len(gs)) + \\\n",
    "                   np.random.normal(scale=eps, size=(len(gs),))\n",
    "init_disc_weights = np.random.normal(size=(len(ds),))\n",
    "\n",
    "gen_weights = tf.Variable(init_gen_weights, dtype=tf.float32)\n",
    "disc_weights = tf.Variable(init_disc_weights, dtype=tf.float32)"
   ]
  },
  {
   "cell_type": "code",
   "execution_count": null,
   "metadata": {},
   "outputs": [],
   "source": [
    "class CustomScheduler(tf.keras.optimizers.schedules.LearningRateSchedule):\n",
    "    def __init__(self, warmup_steps=4000):\n",
    "        super(CustomScheduler, self).__init__()\n",
    "        self.warmup_steps = warmup_steps\n",
    "\n",
    "    def __call__(self, step):\n",
    "        return max(math.e ** - ((step+200) / (self.warmup_steps / math.log(100))), 0.01)"
   ]
  },
  {
   "cell_type": "code",
   "execution_count": 12,
   "metadata": {
    "pycharm": {
     "name": "#%%\n"
    }
   },
   "outputs": [],
   "source": [
    "learning_rate = CustomScheduler()\n",
    "\n",
    "opt = tf.keras.optimizers.Adam(learning_rate, beta_1=0.9, beta_2=0.98, \n",
    "                                     epsilon=1e-9)"
   ]
  },
  {
   "cell_type": "code",
   "execution_count": 13,
   "metadata": {
    "pycharm": {
     "name": "#%%\n"
    }
   },
   "outputs": [],
   "source": [
    "g_provider = lambda: random.choice([-1, 0])"
   ]
  },
  {
   "cell_type": "code",
   "execution_count": 14,
   "metadata": {},
   "outputs": [],
   "source": [
    "trainer = Trainer(g_provider, \n",
    "                  data_bus_size, \n",
    "                  disc, \n",
    "                  gen, \n",
    "                  real, \n",
    "                  out_qubit, \n",
    "                  ds, \n",
    "                  gs, \n",
    "                  real_symbols, \n",
    "                  ls,\n",
    "                  use_analytical_expectation=True)"
   ]
  },
  {
   "cell_type": "code",
   "execution_count": 15,
   "metadata": {},
   "outputs": [
    {
     "name": "stdout",
     "output_type": "stream",
     "text": [
      "WARNING:tensorflow:From /Users/wiktorjurasz/Studies/thesis/venv/lib/python3.8/site-packages/tensorflow/python/util/deprecation.py:574: calling map_fn_v2 (from tensorflow.python.ops.map_fn) with dtype is deprecated and will be removed in a future version.\n",
      "Instructions for updating:\n",
      "Use fn_output_signature instead\n",
      "Epoch 0: discriminator cost = [[0.00379562]]\n",
      "Prob(real classified as real):  [[0.67620933]]\n",
      "Prob(fake classified as real):  [[0.68000495]]\n",
      "Epoch 0: generator cost = [[-0.68000495]]\n",
      "Prob(fake classified as real):  [[0.68000495]]\n",
      "Discriminator cost:  [[0.00379562]]\n",
      "Generator weights: <tf.Variable 'Variable:0' shape=(22,) dtype=float32, numpy=\n",
      "array([ 0.01764052,  0.00400157,  0.00978738,  0.02240893,  0.01867558,\n",
      "       -0.00977278,  0.00950088, -0.00151357, -0.00103219,  0.00410599,\n",
      "        0.00144044,  0.01454274,  0.00761038,  0.00121675,  0.00443863,\n",
      "        0.00333674,  0.01494079, -0.00205158,  0.00313068, -0.00854096,\n",
      "       -0.0255299 ,  0.00653619], dtype=float32)>\n",
      "Discriminator weights <tf.Variable 'Variable:0' shape=(70,) dtype=float32, numpy=\n",
      "array([  16.247     ,   -2.5803525 ,   26.121424  ,  -46.660286  ,\n",
      "        105.624084  ,   -3.1000824 ,   29.815437  ,  -40.27243   ,\n",
      "        -60.96208   ,    8.079186  ,  -47.113426  ,  -79.404755  ,\n",
      "        157.85193   ,   86.54347   ,  -28.429464  ,   -0.662611  ,\n",
      "         61.00383   , -102.48162   ,   54.467087  ,   59.539062  ,\n",
      "        -49.635506  ,   78.399315  ,    0.77971727,   95.535225  ,\n",
      "        -73.348724  ,    3.921713  ,   33.174793  ,  -16.084911  ,\n",
      "         30.09179   ,  -97.53288   ,  -26.69869   ,  -65.75809   ,\n",
      "        -33.178642  ,  123.129974  ,  123.14429   ,   41.30332   ,\n",
      "         -3.8927417 ,  -10.31176   ,  100.230896  ,  -47.391335  ,\n",
      "         58.211544  ,   52.54038   ,   72.40662   , -152.94017   ,\n",
      "        -42.471897  , -157.73291   ,  -17.17808   ,  -56.396996  ,\n",
      "         23.290968  ,   67.2854    ,   -2.459572  ,  -52.118935  ,\n",
      "       -149.19363   ,  -56.693237  ,  -28.320332  , -172.72215   ,\n",
      "        -63.856953  ,  -71.11754   ,  -92.65829   ,  -77.04155   ,\n",
      "         24.816792  ,   45.057236  , -107.501335  , -131.30313   ,\n",
      "         47.08488   ,  -21.255445  ,  -16.608366  ,   28.370903  ,\n",
      "         19.034452  ,   42.753563  ], dtype=float32)>\n",
      "Epoch 10: discriminator cost = [[-0.05828738]]\n",
      "Prob(real classified as real):  [[0.5663126]]\n",
      "Prob(fake classified as real):  [[0.5058425]]\n",
      "Epoch 10: generator cost = [[-0.50584257]]\n",
      "Prob(fake classified as real):  [[0.5058425]]\n",
      "Discriminator cost:  [[-0.0604701]]\n",
      "Generator weights: <tf.Variable 'Variable:0' shape=(22,) dtype=float32, numpy=\n",
      "array([ 0.01764052,  0.00400157,  0.00978738,  0.02240893,  0.01867558,\n",
      "       -0.00977278,  0.00950088, -0.00151357, -0.00103219,  0.00410599,\n",
      "        0.00144044,  0.01454274,  0.00761038,  0.00121675,  0.00443863,\n",
      "        0.00333674,  0.01494079, -0.00205158,  0.00313068, -0.00854096,\n",
      "       -0.0255299 ,  0.00653619], dtype=float32)>\n",
      "Discriminator weights <tf.Variable 'Variable:0' shape=(70,) dtype=float32, numpy=\n",
      "array([ 157.56699  , -315.75784  ,  -87.31662  ,  -88.74285  ,\n",
      "        396.58206  ,  139.58429  , -193.73503  ,   62.381546 ,\n",
      "       -233.60428  ,  186.16864  , -127.4749   , -118.26295  ,\n",
      "        311.21643  ,  103.879684 ,  132.64209  ,   94.477585 ,\n",
      "        139.80838  ,  219.99663  ,  -76.985535 ,  424.0072   ,\n",
      "       -233.21408  ,   37.249374 ,  -57.994274 , -119.652504 ,\n",
      "         15.4266405, -169.57574  ,  -87.92307  , -152.26822  ,\n",
      "       -247.91235  , -304.95166  , -297.27936  , -292.89008  ,\n",
      "       -121.527145 ,  339.5859   ,  256.08847  ,   61.620644 ,\n",
      "        -36.801373 , -148.22014  ,   -1.4152586, -201.58496  ,\n",
      "        161.71603  ,  -10.130977 , -303.10507  ,  220.66895  ,\n",
      "       -378.79208  , -579.4012   , -123.74577  ,   14.264427 ,\n",
      "       -194.17793  , -118.328705 , -285.55417  , -288.2104   ,\n",
      "       -276.62833  ,  -86.67786  , -248.21347  , -243.15614  ,\n",
      "       -243.15169  , -350.25778  , -226.34012  ,  -45.157623 ,\n",
      "       -273.51086  ,  -68.466194 , -357.04306  , -339.28723  ,\n",
      "        -86.90214  ,  -37.988922 ,  106.51952  , -180.95894  ,\n",
      "       -120.85167  ,   25.57872  ], dtype=float32)>\n",
      "Epoch 20: discriminator cost = [[0.00348103]]\n",
      "Prob(real classified as real):  [[0.5941428]]\n",
      "Prob(fake classified as real):  [[0.5976238]]\n",
      "Epoch 20: generator cost = [[-0.59762377]]\n",
      "Prob(fake classified as real):  [[0.5976238]]\n",
      "Discriminator cost:  [[0.00348097]]\n",
      "Generator weights: <tf.Variable 'Variable:0' shape=(22,) dtype=float32, numpy=\n",
      "array([ 0.01764052,  0.00400157,  0.00978738,  0.02240893,  0.01867558,\n",
      "       -0.00977278,  0.00950088, -0.00151357, -0.00103219,  0.00410599,\n",
      "        0.00144044,  0.01454274,  0.00761038,  0.00121675,  0.00443863,\n",
      "        0.00333674,  0.01494079, -0.00205158,  0.00313068, -0.00854096,\n",
      "       -0.0255299 ,  0.00653619], dtype=float32)>\n",
      "Discriminator weights <tf.Variable 'Variable:0' shape=(70,) dtype=float32, numpy=\n",
      "array([ 107.62972   , -330.3586    ,  -73.92962   , -122.17568   ,\n",
      "        489.66208   ,  130.15746   , -139.3428    ,   84.79447   ,\n",
      "       -235.87828   ,  161.18011   ,  -85.20488   ,  -66.42083   ,\n",
      "        218.95877   ,  119.16252   ,  131.78546   ,  132.62418   ,\n",
      "        141.5622    ,  186.76172   ,  -85.186554  ,  361.184     ,\n",
      "       -178.7762    ,   21.42594   ,   19.344875  , -198.77184   ,\n",
      "        -53.59011   , -183.80438   ,   62.589523  , -282.18906   ,\n",
      "       -268.62723   , -384.25702   , -335.4974    , -307.25967   ,\n",
      "       -229.61725   ,  386.62784   ,  286.93353   ,    0.72486144,\n",
      "        -48.65218   , -177.29025   ,   93.91502   , -337.1216    ,\n",
      "         95.05331   ,  -97.81734   , -295.7219    ,  131.40555   ,\n",
      "       -417.85507   , -535.0139    , -115.83641   ,  -83.121445  ,\n",
      "       -252.45709   ,  -78.20216   , -310.7083    , -351.54263   ,\n",
      "       -195.03513   , -192.5924    , -463.7995    , -216.53789   ,\n",
      "       -200.2578    , -445.51382   , -202.24376   ,  -92.22691   ,\n",
      "       -319.20648   , -116.88675   , -381.3574    , -336.17377   ,\n",
      "       -175.47398   ,  -28.253942  ,  107.917595  , -210.33124   ,\n",
      "       -239.943     ,  -42.59146   ], dtype=float32)>\n"
     ]
    }
   ],
   "source": [
    "epochs = 101\n",
    "disc_iteration = 100\n",
    "gen_iteration = 10\n",
    "print_interval_epoch = 10\n",
    "trainer.train(disc_weights,\n",
    "      gen_weights, \n",
    "      opt, \n",
    "      epochs=epochs, \n",
    "      disc_iteration=disc_iteration, \n",
    "      gen_iteration=gen_iteration,\n",
    "      print_interval_epoch=print_interval_epoch)"
   ]
  },
  {
   "cell_type": "code",
   "execution_count": 16,
   "metadata": {
    "pycharm": {
     "name": "#%%\n"
    }
   },
   "outputs": [],
   "source": [
    "g = 0\n",
    "size = 3\n",
    "ground_state = get_ground_state_for_g(g, size)\n",
    "rad = map_to_radians(g)\n",
    "\n",
    "\n",
    "trained_disc_weights = tf.Variable(np.array([ 2.86846906e-01,  2.07442139e+02, -1.32505005e+02,  3.37965851e+02,\n",
    "        1.44702286e+02,  1.67083755e+02,  3.51270142e+02,  4.46218109e+02,\n",
    "        4.07063354e+02,  1.02569595e+02,  1.62362915e+02,  1.63151154e+02,\n",
    "        2.18758965e+01, -8.55859451e+01,  1.11934540e+02, -2.94222107e+01,\n",
    "       -2.17204269e+02,  1.34002686e+02, -1.02429161e+02,  3.34117676e+02,\n",
    "        1.70663238e-01, -7.37496872e+01,  2.35848450e+02,  5.64170044e+02,\n",
    "        1.03939911e+02,  1.88091278e+02,  2.74167786e+02,  2.02242035e+02]), dtype=tf.float32)\n",
    "\n",
    "trained_gen_weights = tf.Variable(np.array([-29.708769 ,  34.885185 ,  47.25734  ,  41.711372 ,  35.44219  ,\n",
    "        29.7916   , -32.132847 ,   5.453004 ,  94.73532  , -58.75811  ,\n",
    "       -13.691349 ,  -6.0567594, -25.313757 , -76.478004 , -57.434578 ,\n",
    "       -71.249245 , -48.34288  ,  10.728431 ,  41.8393   , -22.886314 ,\n",
    "        -6.871363 , -16.005516, rad]), dtype=tf.float32)\n",
    "\n",
    "\n",
    "\n",
    "\n",
    "state_vector = tfq.layers.State()(pure_gen, symbol_names=gs + (ls,), symbol_values=tf.reshape(trained_gen_weights, (1, trained_gen_weights.shape[0]))).values.numpy()#%%\n",
    "\n",
    "traced_out_state = cirq.partial_trace_of_state_vector_as_mixture(state_vector, [0,1,2])"
   ]
  },
  {
   "cell_type": "code",
   "execution_count": 17,
   "metadata": {
    "pycharm": {
     "name": "#%%\n"
    }
   },
   "outputs": [
    {
     "name": "stdout",
     "output_type": "stream",
     "text": [
      "Max prob state has prob: 0.9834122061729431\n"
     ]
    }
   ],
   "source": [
    "prob, highest_prob_state = max(traced_out_state)\n",
    "print(f\"Max prob state has prob: {prob}\")"
   ]
  },
  {
   "cell_type": "code",
   "execution_count": 18,
   "metadata": {},
   "outputs": [
    {
     "data": {
      "text/plain": [
       "array([-0.02471295+0.j        , -0.03447054+0.00896384j,\n",
       "       -0.31766006+0.01939609j, -0.48983648+0.32166958j,\n",
       "       -0.03840197+0.06002485j,  0.00100844+0.10900943j,\n",
       "       -0.25798878-0.23478244j, -0.6283039 -0.14148122j], dtype=complex64)"
      ]
     },
     "execution_count": 18,
     "metadata": {},
     "output_type": "execute_result"
    }
   ],
   "source": [
    "highest_prob_state"
   ]
  },
  {
   "cell_type": "code",
   "execution_count": 19,
   "metadata": {},
   "outputs": [
    {
     "data": {
      "text/plain": [
       "array([1., 0., 0., 0., 0., 0., 0., 0.])"
      ]
     },
     "execution_count": 19,
     "metadata": {},
     "output_type": "execute_result"
    }
   ],
   "source": [
    "get_ground_state_for_g(g, size)"
   ]
  },
  {
   "cell_type": "code",
   "execution_count": 20,
   "metadata": {
    "pycharm": {
     "name": "#%%\n"
    }
   },
   "outputs": [
    {
     "data": {
      "text/plain": [
       "1.5701855967675986"
      ]
     },
     "execution_count": 20,
     "metadata": {},
     "output_type": "execute_result"
    }
   ],
   "source": [
    "np.arccos(cirq.fidelity(highest_prob_state, get_ground_state_for_g(g,size)))"
   ]
  },
  {
   "cell_type": "code",
   "execution_count": 21,
   "metadata": {
    "pycharm": {
     "name": "#%%\n"
    }
   },
   "outputs": [
    {
     "data": {
      "text/plain": [
       "0.0006107299893317632"
      ]
     },
     "execution_count": 21,
     "metadata": {},
     "output_type": "execute_result"
    }
   ],
   "source": [
    "cirq.fidelity(highest_prob_state, get_ground_state_for_g(g, size))"
   ]
  },
  {
   "cell_type": "code",
   "execution_count": 22,
   "metadata": {},
   "outputs": [],
   "source": [
    "trained_disc_weights = tf.Variable(np.array([ 2.86846906e-01,  2.07442139e+02, -1.32505005e+02,  3.37965851e+02,\n",
    "        1.44702286e+02,  1.67083755e+02,  3.51270142e+02,  4.46218109e+02,\n",
    "        4.07063354e+02,  1.02569595e+02,  1.62362915e+02,  1.63151154e+02,\n",
    "        2.18758965e+01, -8.55859451e+01,  1.11934540e+02, -2.94222107e+01,\n",
    "       -2.17204269e+02,  1.34002686e+02, -1.02429161e+02,  3.34117676e+02,\n",
    "        1.70663238e-01, -7.37496872e+01,  2.35848450e+02,  5.64170044e+02,\n",
    "        1.03939911e+02,  1.88091278e+02,  2.74167786e+02,  2.02242035e+02]), dtype=tf.float32)\n",
    "\n",
    "trained_disc_weights = tf.Variable(np.array([ \n",
    "        2.86846906e-01, 0, 0, 0, 0,  \n",
    "        1.67083755e+02,  3.51270142,  4.46218109, 4.07063354,  1.02569595,  \n",
    "        -1.362915,  1.63151154, 2.18758965, -8.55859451,  \n",
    "        1.11934540e+02, -2.9422210, -2.1720426,  134.34002686, -1.0242916,  \n",
    "        3.34117676e+02, 231.7066323, -7.3749687,  -2.3584845,  5.64170044, \n",
    "        -11.03939911e+02, -1.88091278,  0,  2.0224203]), dtype=tf.float32)\n",
    "\n",
    "trained_gen_weights = tf.Variable(np.array([ 0.01764052,  0.00400157,  0.00978738,  0.02240893,  0.01867558,\n",
    "       -0.00977278,  0.00950088, -0.00151357, -0.00103219,  0.00410599,\n",
    "        0.00144044,  0.01454274,  0.00761038,  0.00121675,  0.00443863,\n",
    "        0.00333674,  0.01494079, -0.00205158,  0.00313068, -0.00854096,\n",
    "       -0.0255299 ,  0.00653619]), dtype=tf.float32)"
   ]
  },
  {
   "cell_type": "code",
   "execution_count": null,
   "metadata": {},
   "outputs": [],
   "source": []
  }
 ],
 "metadata": {
  "kernelspec": {
   "display_name": "Python 3",
   "language": "python",
   "name": "python3"
  },
  "language_info": {
   "codemirror_mode": {
    "name": "ipython",
    "version": 3
   },
   "file_extension": ".py",
   "mimetype": "text/x-python",
   "name": "python",
   "nbconvert_exporter": "python",
   "pygments_lexer": "ipython3",
   "version": "3.8.6"
  }
 },
 "nbformat": 4,
 "nbformat_minor": 1
}
