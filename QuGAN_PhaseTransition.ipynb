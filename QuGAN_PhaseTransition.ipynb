{
 "cells": [
  {
   "cell_type": "code",
   "execution_count": 1,
   "metadata": {
    "pycharm": {
     "is_executing": true
    }
   },
   "outputs": [],
   "source": [
    "from typing import Any\n",
    "\n",
    "import sympy\n",
    "import math\n",
    "import tensorflow as tf\n",
    "import tensorflow_quantum as tfq\n",
    "\n",
    "import cirq\n",
    "import numpy as np\n",
    "from cirq import GridQubit, ops\n"
   ]
  },
  {
   "cell_type": "code",
   "execution_count": 2,
   "metadata": {},
   "outputs": [],
   "source": [
    "def construct_hamiltonian(l, gzz, gx, gzxz, pbc=True):\n",
    "    \"\"\"\n",
    "    Construct a quantum Hamiltonian as full matrix.\n",
    "\n",
    "    Reference:\n",
    "      Adam Smith, Bernhard Jobst, Andrew G. Green, Frank Pollmann\n",
    "      Crossing a topological phase transition with a quantum computer\n",
    "      arXiv: 1910.05351\n",
    "    \"\"\"\n",
    "    sigma = [np.array([[1, 0], [0, 1]]),\n",
    "             np.array([[0, 1], [1, 0]]),\n",
    "             np.array([[0, -1j], [1j, 0]]),\n",
    "             np.array([[1, 0], [0, -1]])]\n",
    "    # Hamiltonian is actually real-valued\n",
    "    H = np.zeros((2 ** l, 2 ** l))\n",
    "    for i in range(1, l):\n",
    "        H -= gzz * np.kron(np.identity(2 ** (i - 1)),\n",
    "                           np.kron(sigma[3], np.kron(sigma[3], np.identity(2 ** (l - i - 1)))))\n",
    "    # external field\n",
    "    for i in range(1, l + 1):\n",
    "        H -= gx * np.kron(np.identity(2 ** (i - 1)), np.kron(sigma[1], np.identity(2 ** (l - i))))\n",
    "    for i in range(1, l - 1):\n",
    "        H += gzxz * np.kron(np.identity(2 ** (i - 1)),\n",
    "                            np.kron(sigma[3], np.kron(sigma[1], np.kron(sigma[3], np.identity(2 ** (l - i - 2))))))\n",
    "    if pbc:\n",
    "        # periodic boundary conditions\n",
    "        H -= gzz * np.kron(sigma[3], np.kron(np.identity(2 ** (l - 2)), sigma[3]))\n",
    "        H += gzxz * np.kron(sigma[3], np.kron(np.identity(2 ** (l - 3)), np.kron(sigma[3], sigma[1])))\n",
    "        H += gzxz * np.kron(sigma[1], np.kron(sigma[3], np.kron(np.identity(2 ** (l - 3)), sigma[3])))\n",
    "    return H"
   ]
  },
  {
   "cell_type": "code",
   "execution_count": 3,
   "metadata": {},
   "outputs": [],
   "source": [
    "l = 3\n",
    "\n",
    "out_qubit, label_disc, data1, data2, data3, label_gen = cirq.GridQubit.rect(1, 6)"
   ]
  },
  {
   "cell_type": "code",
   "execution_count": 4,
   "metadata": {},
   "outputs": [],
   "source": [
    "ls = sympy.symbols(\"l\")\n",
    "\n",
    "gs = sympy.symbols(\"g:22\")\n",
    "gen = cirq.Circuit(\n",
    "    cirq.rz(ls).on(label_gen),\n",
    "    cirq.rx(gs[0]).on(data1),\n",
    "    cirq.rx(gs[1]).on(data2),\n",
    "    cirq.rx(gs[2]).on(data3),\n",
    "    cirq.rx(gs[3]).on(label_gen),\n",
    "    cirq.rz(gs[4]).on(data1),\n",
    "    cirq.rz(gs[5]).on(data2),\n",
    "    cirq.rz(gs[6]).on(data3),\n",
    "    cirq.rz(gs[7]).on(label_gen),\n",
    "    cirq.ZZ(data1, data2) ** gs[8],\n",
    "    cirq.ZZ(data3, label_gen) ** gs[9],\n",
    "    cirq.ZZ(data2, data3) ** gs[10],\n",
    "    cirq.rx(gs[11]).on(data1),\n",
    "    cirq.rx(gs[12]).on(data2),\n",
    "    cirq.rx(gs[13]).on(data3),\n",
    "    cirq.rx(gs[14]).on(label_gen),\n",
    "    cirq.rz(gs[15]).on(data1),\n",
    "    cirq.rz(gs[16]).on(data2),\n",
    "    cirq.rz(gs[17]).on(data3),\n",
    "    cirq.rz(gs[18]).on(label_gen),\n",
    "    cirq.ZZ(data1, data2) ** gs[19],\n",
    "    cirq.ZZ(data3, label_gen) ** gs[20],\n",
    "    cirq.ZZ(data2, data3) ** gs[21],\n",
    ")\n",
    "\n",
    "pure_gen = gen.copy()\n",
    "\n",
    "ds = sympy.symbols(\"d:28\")\n",
    "disc = cirq.Circuit(\n",
    "    cirq.rz(ls).on(label_disc),\n",
    "    cirq.rx(ds[0]).on(out_qubit),\n",
    "    cirq.rx(ds[1]).on(label_disc),\n",
    "    cirq.rx(ds[2]).on(data1),\n",
    "    cirq.rx(ds[3]).on(data2),\n",
    "    cirq.rx(ds[4]).on(data3),\n",
    "    cirq.rz(ds[5]).on(out_qubit),\n",
    "    cirq.rz(ds[6]).on(label_disc),\n",
    "    cirq.rz(ds[7]).on(data1),\n",
    "    cirq.rz(ds[8]).on(data2),\n",
    "    cirq.rz(ds[9]).on(data3),\n",
    "    cirq.ZZ(out_qubit, label_disc) ** ds[10],\n",
    "    cirq.ZZ(data1, data2) ** ds[11],\n",
    "    cirq.ZZ(label_disc, data1) ** ds[12],\n",
    "    cirq.ZZ(data2, data3) ** ds[13],\n",
    "    cirq.rx(ds[14]).on(out_qubit),\n",
    "    cirq.rx(ds[15]).on(label_disc),\n",
    "    cirq.rx(ds[16]).on(data1),\n",
    "    cirq.rx(ds[17]).on(data2),\n",
    "    cirq.rx(ds[18]).on(data3),\n",
    "    cirq.rz(ds[19]).on(out_qubit),\n",
    "    cirq.rz(ds[20]).on(label_disc),\n",
    "    cirq.rz(ds[21]).on(data1),\n",
    "    cirq.rz(ds[22]).on(data2),\n",
    "    cirq.rz(ds[23]).on(data3),\n",
    "    cirq.ZZ(out_qubit, label_disc) ** ds[24],\n",
    "    cirq.ZZ(data1, data2) ** ds[25],\n",
    "    cirq.ZZ(label_disc, data1) ** ds[26],\n",
    "    cirq.ZZ(data2, data3) ** ds[27],\n",
    ")\n",
    "\n",
    "gen.append([disc])"
   ]
  },
  {
   "cell_type": "code",
   "execution_count": 5,
   "metadata": {},
   "outputs": [],
   "source": [
    "np.random.seed(0)\n",
    "eps = 1e-2\n",
    "init_gen_weights = np.array([np.pi] + [0] * 21) + \\\n",
    "                   np.random.normal(scale=eps, size=(22,))\n",
    "init_disc_weights = np.random.normal(size=(28,))\n",
    "\n",
    "gen_weights = tf.Variable(init_gen_weights, dtype=tf.float32)\n",
    "disc_weights = tf.Variable(init_disc_weights, dtype=tf.float32)"
   ]
  },
  {
   "cell_type": "code",
   "execution_count": 52,
   "metadata": {
    "pycharm": {
     "name": "#%%\n"
    }
   },
   "outputs": [],
   "source": [
    "class CustomSchedule(tf.keras.optimizers.schedules.LearningRateSchedule):\n",
    "  def __init__(self, warmup_steps=4000):\n",
    "    super(CustomSchedule, self).__init__()\n",
    "    self.warmup_steps = warmup_steps\n",
    "    \n",
    "  def __call__(self, step):\n",
    "    return max(10 * math.e ** - (step / (self.warmup_steps / math.log(100))), 0.1)"
   ]
  },
  {
   "cell_type": "code",
   "execution_count": 53,
   "metadata": {
    "pycharm": {
     "name": "#%%\n"
    }
   },
   "outputs": [],
   "source": [
    "learning_rate = CustomSchedule()\n",
    "\n",
    "opt = tf.keras.optimizers.Adam(learning_rate, beta_1=0.9, beta_2=0.98, \n",
    "                                     epsilon=1e-9)"
   ]
  },
  {
   "cell_type": "code",
   "execution_count": null,
   "metadata": {
    "pycharm": {
     "name": "#%%\n"
    }
   },
   "outputs": [],
   "source": [
    "global_g = 0"
   ]
  },
  {
   "cell_type": "code",
   "execution_count": null,
   "metadata": {
    "pycharm": {
     "name": "#%%\n"
    }
   },
   "outputs": [],
   "source": [
    "def map_to_radians(val, low=-1, high=1):\n",
    "    span = high - low\n",
    "    norm_val = float(val - low) / float(span)\n",
    "    return norm_val * math.pi"
   ]
  },
  {
   "cell_type": "code",
   "execution_count": null,
   "metadata": {},
   "outputs": [],
   "source": [
    "class PhaseTransitionFinalStateSimulator(cirq.Simulator):\n",
    "    def simulate(self, program: 'cirq.Circuit', param_resolver: 'study.ParamResolverOrSimilarType' = None,\n",
    "                 qubit_order: ops.QubitOrderOrList = ops.QubitOrder.DEFAULT,\n",
    "                 initial_state: Any = None) -> 'SimulationTrialResult':\n",
    "        g = global_g\n",
    "        gzz = 2 * (1 - g ** 2)\n",
    "        gx = (1 + g) ** 2\n",
    "        gzxz = (g - 1) ** 2\n",
    "\n",
    "        H = construct_hamiltonian(l, gzz, gx, gzxz)\n",
    "\n",
    "        lam, V = np.linalg.eigh(H)\n",
    "\n",
    "        # ground state wavefunction\n",
    "        psi = V[:, 0] / np.linalg.norm(V[:, 0])\n",
    "        psi = np.kron([1, 0], np.kron([1, 0], psi))\n",
    "        return super().simulate(program, param_resolver, qubit_order, psi)\n",
    "\n",
    "\n",
    "class PhaseTransitionFinalStateSimulatorGen(cirq.Simulator):\n",
    "    def simulate(self, program: 'cirq.Circuit', param_resolver: 'study.ParamResolverOrSimilarType' = None,\n",
    "                 qubit_order: ops.QubitOrderOrList = ops.QubitOrder.DEFAULT,\n",
    "                 initial_state: Any = None) -> 'SimulationTrialResult':\n",
    "        g = global_g\n",
    "        label = [1, 0] if g > 0 else [0, 1]\n",
    "        initial_state = [1, 0]\n",
    "        for _ in range(l - 1):\n",
    "            initial_state = np.kron([1, 0], initial_state)\n",
    "        initial_state = np.kron([1, 0], np.kron(label, np.kron(initial_state, label)))\n",
    "        return super().simulate(program, param_resolver, qubit_order, initial_state)\n",
    "\n",
    "\n",
    "\n"
   ]
  },
  {
   "cell_type": "code",
   "execution_count": null,
   "metadata": {},
   "outputs": [],
   "source": [
    "def real_disc_circuit_eval(disc_weights):\n",
    "    # cirq.Simulator().simulate(real)\n",
    "    full_weights = tf.keras.layers.Concatenate(axis=0)([\n",
    "        disc_weights,\n",
    "        np.array([map_to_radians(global_g)], dtype=np.float32)\n",
    "    ])\n",
    "\n",
    "    return tfq.layers.Expectation(backend=PhaseTransitionFinalStateSimulator())([disc],\n",
    "                                                                                symbol_names=ds + (ls,),\n",
    "                                                                                symbol_values=tf.reshape(full_weights, (\n",
    "                                                                                    1, full_weights.shape[0])),\n",
    "                                                                                operators=[cirq.Z(out_qubit)])\n",
    "\n",
    "\n",
    "def gen_disc_circuit_eval(gen_weights, disc_weights):\n",
    "    full_weights = tf.keras.layers.Concatenate(axis=0)([\n",
    "        disc_weights,\n",
    "        gen_weights,\n",
    "        np.array([map_to_radians(global_g)], dtype=np.float32)\n",
    "    ])\n",
    "    full_weights = tf.reshape(full_weights, (1, full_weights.shape[0]))\n",
    "    return tfq.layers.Expectation()([gen],\n",
    "                                    symbol_names=ds + gs + (ls,),\n",
    "                                    symbol_values=full_weights,\n",
    "                                    operators=[cirq.Z(out_qubit)])\n",
    "\n",
    "\n",
    "def prob_real_true(disc_weights):\n",
    "    true_disc_output = real_disc_circuit_eval(disc_weights)\n",
    "    # convert to probability\n",
    "    prob_real_true = (true_disc_output + 1) / 2\n",
    "    return prob_real_true\n",
    "\n",
    "\n",
    "def prob_fake_true(gen_weights, disc_weights):\n",
    "    fake_disc_output = gen_disc_circuit_eval(gen_weights, disc_weights)\n",
    "    # convert to probability\n",
    "    prob_fake_true = (fake_disc_output + 1) / 2\n",
    "    return prob_fake_true\n",
    "\n",
    "\n",
    "def disc_cost(disc_weights):\n",
    "    cost = prob_fake_true(gen_weights, disc_weights) - prob_real_true(disc_weights)\n",
    "    return cost\n",
    "\n",
    "\n",
    "def gen_cost(gen_weights):\n",
    "    return -prob_fake_true(gen_weights, disc_weights)\n"
   ]
  },
  {
   "cell_type": "code",
   "execution_count": null,
   "metadata": {},
   "outputs": [],
   "source": [
    "def train():\n",
    "    cost = lambda: disc_cost(disc_weights)\n",
    "    cost_gen = lambda: gen_cost(gen_weights)\n",
    "    for epoch in range(20):\n",
    "        for step in range(20):\n",
    "            opt.minimize(cost, disc_weights)\n",
    "            # if step % 5 == 0:\n",
    "        cost_val = cost().numpy()\n",
    "        print(\"Epoch {}: cost = {}\".format(epoch, cost_val))\n",
    "\n",
    "        ##############################################################################\n",
    "        # At the discriminator’s optimum, the probability for the discriminator to\n",
    "        # correctly classify the real data should be close to one.\n",
    "\n",
    "        print(\"Prob(real classified as real): \", prob_real_true(disc_weights).numpy())\n",
    "\n",
    "        ##############################################################################\n",
    "        # For comparison, we check how the discriminator classifies the\n",
    "        # generator’s (still unoptimized) fake data:\n",
    "\n",
    "        print(\"Prob(fake classified as real): \", prob_fake_true(gen_weights, disc_weights).numpy())\n",
    "\n",
    "        ##############################################################################\n",
    "        # In the adversarial game we now have to train the generator to better\n",
    "        # fool the discriminator. For this demo, we only perform one stage of the\n",
    "        # game. For more complex models, we would continue training the models in an\n",
    "        # alternating fashion until we reach the optimum point of the two-player\n",
    "        # adversarial game.\n",
    "\n",
    "        for step in range(20):\n",
    "            opt.minimize(cost_gen, gen_weights)\n",
    "            # if step % 5 == 0:\n",
    "        cost_val = cost_gen().numpy()\n",
    "        print(\"Epoch {}: cost = {}\".format(epoch, cost_val))\n",
    "\n",
    "        ##############################################################################\n",
    "        # At the optimum of the generator, the probability for the discriminator\n",
    "        # to be fooled should be close to 1.\n",
    "\n",
    "        print(\"Prob(fake classified as real): \", prob_fake_true(gen_weights, disc_weights).numpy())\n",
    "\n",
    "        ##############################################################################\n",
    "        # At the joint optimum the discriminator cost will be close to zero,\n",
    "        # indicating that the discriminator assigns equal probability to both real and\n",
    "        # generated data.\n",
    "\n",
    "        print(\"Discriminator cost: \", disc_cost(disc_weights).numpy())\n",
    "\n"
   ]
  },
  {
   "cell_type": "code",
   "execution_count": null,
   "metadata": {},
   "outputs": [],
   "source": [
    "def get_ground_state_for_g(g):\n",
    "    gzz = 2 * (1 - g ** 2)\n",
    "    gx = (1 + g) ** 2\n",
    "    gzxz = (g - 1) ** 2\n",
    "\n",
    "    H = construct_hamiltonian(l, gzz, gx, gzxz)\n",
    "\n",
    "    lam, V = np.linalg.eigh(H)\n",
    "    # ground state wavefunction\n",
    "    return V[:, 0] / np.linalg.norm(V[:, 0])"
   ]
  },
  {
   "cell_type": "code",
   "execution_count": null,
   "metadata": {
    "pycharm": {
     "name": "#%%\n"
    }
   },
   "outputs": [],
   "source": [
    "class PhaseTransitionFinalStateSimulatorPureGen(cirq.Simulator):\n",
    "    def simulate(self, program: 'cirq.Circuit', param_resolver: 'study.ParamResolverOrSimilarType' = None,\n",
    "                 qubit_order: ops.QubitOrderOrList = ops.QubitOrder.DEFAULT,\n",
    "                 initial_state: Any = None) -> 'SimulationTrialResult':\n",
    "        label = [1, 0]\n",
    "        initial_state = [1, 0]\n",
    "        for _ in range(l - 1):\n",
    "            initial_state = np.kron([1, 0], initial_state)\n",
    "        initial_state = np.kron(initial_state, label)\n",
    "        return super().simulate(program, param_resolver, qubit_order, initial_state)"
   ]
  },
  {
   "cell_type": "code",
   "execution_count": null,
   "metadata": {
    "pycharm": {
     "name": "#%%\n"
    }
   },
   "outputs": [],
   "source": [
    "g = 0\n",
    "ground_state = get_ground_state_for_g(g)\n",
    "rad = map_to_radians(g)\n",
    "\n",
    "trained_disc_weights = tf.Variable(np.array([-0.30831984, -0.62228876,  2.3434367 , -1.409109  ,  0.08579239,\n",
    "       -0.47356534,  1.5205263 ,  1.5285101 ,  0.18071282,  0.40754136,\n",
    "       -1.2746298 , -1.9421206 , -0.3205366 ,  0.16708861,  0.0271479 ,\n",
    "        1.2207586 , -0.39333484, -0.28007394, -1.0063145 , -1.4217627 ,\n",
    "       -1.7160714 ,  2.0004768 , -0.5253662 , -0.3929189 , -1.243299  ,\n",
    "        0.7419973 , -1.5898544 , -0.16188984]), dtype=tf.float32)\n",
    "\n",
    "trained_gen_weights = tf.Variable(np.array([ 3.1603129e+00, -5.6514405e-03, -1.3457266e-02,  3.6896981e-02,\n",
    "       -5.9913150e-03, -2.3310103e-02, -6.9020404e-03,  4.4497033e-03,\n",
    "       -5.9756159e-05,  3.8722723e-03,  1.4118403e-03,  9.6612796e-03,\n",
    "        2.2193523e-02,  1.6201412e-02,  2.8648116e-03,  9.6204514e-03,\n",
    "       -9.8941429e-03,  7.7031851e-03,  1.1102257e-02, -2.4857417e-02,\n",
    "       -2.5535207e-02,  6.5732975e-03, rad]), dtype=tf.float32)\n",
    "\n",
    "state_vector = tfq.layers.State()(pure_gen, symbol_names=gs + (ls,), symbol_values=tf.reshape(trained_gen_weights, (1, trained_gen_weights.shape[0]))).values.numpy()#%%\n",
    "\n",
    "traced_out_state = cirq.wavefunction_partial_trace_as_mixture(state_vector, [0,1,2])"
   ]
  },
  {
   "cell_type": "code",
   "execution_count": null,
   "metadata": {
    "pycharm": {
     "name": "#%%\n"
    }
   },
   "outputs": [],
   "source": [
    "prob, highest_prob_state = max(traced_out_state)\n",
    "print(f\"Max prob state has prob: {prob}\")"
   ]
  },
  {
   "cell_type": "code",
   "execution_count": null,
   "metadata": {
    "pycharm": {
     "name": "#%%\n"
    }
   },
   "outputs": [],
   "source": [
    "np.arccos(cirq.fidelity(highest_prob_state, get_ground_state_for_g(1)))"
   ]
  }
 ],
 "metadata": {
  "kernelspec": {
   "display_name": "Python 3",
   "language": "python",
   "name": "python3"
  },
  "language_info": {
   "codemirror_mode": {
    "name": "ipython",
    "version": 3
   },
   "file_extension": ".py",
   "mimetype": "text/x-python",
   "name": "python",
   "nbconvert_exporter": "python",
   "pygments_lexer": "ipython3",
   "version": "3.7.7"
  }
 },
 "nbformat": 4,
 "nbformat_minor": 1
}
