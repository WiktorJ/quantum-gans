{
 "cells": [
  {
   "cell_type": "code",
   "execution_count": null,
   "metadata": {
    "scrolled": true
   },
   "outputs": [],
   "source": [
    "# For colab\n",
    "!pip uninstall tensorflow -y\n",
    "!pip install tensorflow==2.3.1 tensorflow-quantum\n",
    "!rm -rf quantum-gans\n",
    "!git clone https://github.com/WiktorJ/quantum-gans\n",
    "!cd quantum-gans; pip install ."
   ]
  },
  {
   "cell_type": "code",
   "execution_count": 17,
   "metadata": {},
   "outputs": [],
   "source": [
    "%load_ext autoreload\n",
    "%autoreload 2"
   ]
  },
  {
   "cell_type": "code",
   "execution_count": 18,
   "metadata": {},
   "outputs": [],
   "source": [
    "import math\n",
    "import random\n",
    "import tensorflow as tf\n",
    "\n",
    "import cirq\n",
    "import numpy as np\n",
    "from qsgenerator.utils import map_to_radians\n",
    "from qsgenerator.qugans import circuits\n",
    "from qsgenerator.qugans.training import Trainer\n",
    "from qsgenerator.phase.circuits import build_ground_state_circuit\n",
    "from qsgenerator.phase.analitical import  get_ground_state_for_g\n",
    "from qsgenerator.states.simple_state_circuits import build_x_rotation_state\n",
    "from qsgenerator.states.simple_rotation_generators import get_binary_x_rotation_provider \n",
    "from qsgenerator.phase.analitical import construct_hamiltonian, get_theta_v, get_theta_w, get_theta_r, get_g_parameters_provider\n",
    "from qsgenerator.evaluators.circuit_evaluator import CircuitEvaluator"
   ]
  },
  {
   "cell_type": "code",
   "execution_count": 19,
   "metadata": {},
   "outputs": [],
   "source": [
    "generator_layers = 4\n",
    "discriminator_layers = 5\n",
    "data_bus_size = 5"
   ]
  },
  {
   "cell_type": "code",
   "execution_count": 62,
   "metadata": {},
   "outputs": [],
   "source": [
    "real_phase = True\n",
    "generic_generator=False"
   ]
  },
  {
   "cell_type": "code",
   "execution_count": 63,
   "metadata": {},
   "outputs": [],
   "source": [
    "gen, gs, disc, ds, ls, data_qubits, out_qubit = circuits.build_gan_circuits(generator_layers, discriminator_layers, data_bus_size)"
   ]
  },
  {
   "cell_type": "code",
   "execution_count": 64,
   "metadata": {},
   "outputs": [],
   "source": [
    "if not generic_generator:\n",
    "    gen, gs = build_ground_state_circuit(qubits=data_qubits, full_parametrization=True)"
   ]
  },
  {
   "cell_type": "code",
   "execution_count": 65,
   "metadata": {},
   "outputs": [],
   "source": [
    "if real_phase:\n",
    "    real, real_symbols = build_ground_state_circuit(qubits=data_qubits)\n",
    "else:\n",
    "    real, real_symbols = build_x_rotation_state(qubits=data_qubits)"
   ]
  },
  {
   "cell_type": "code",
   "execution_count": 66,
   "metadata": {},
   "outputs": [],
   "source": [
    "pure_gen = gen.copy()\n",
    "gen.append([disc])"
   ]
  },
  {
   "cell_type": "code",
   "execution_count": 67,
   "metadata": {},
   "outputs": [],
   "source": [
    "pure_real = real.copy()\n",
    "real.append([disc])"
   ]
  },
  {
   "cell_type": "code",
   "execution_count": 68,
   "metadata": {
    "scrolled": true
   },
   "outputs": [
    {
     "name": "stdout",
     "output_type": "stream",
     "text": [
      "REAL GROUND STATE\n"
     ]
    },
    {
     "data": {
      "text/html": [
       "<pre style=\"overflow: auto; white-space: pre;\">(0, 2): ───H───@─────────────────────────────────────────────────────────────────────────────────────────────────────────────────────────────────────────────────────────────────────────────────────────────────────────────────────────────────────────────────────────────────────\n",
       "               │\n",
       "(0, 3): ───────X───Z───Ry(theta_r)───X─────────────@───X───────────────────────────────────@───X─────────────────────────────────────────────────────────────────────────────────────────────────────────────────────────────────────────────────────────────────────────────────────\n",
       "                                                   │                                       │\n",
       "(0, 4): ─────────────────────────────Ry(theta_w)───X───X───Ry(theta_w)───X───Ry(theta_v)───X───X───Ry(theta_v)───X───X─────────────@───X───────────────────────────────────@───X─────────────────────────────────────────────────────────────────────────────────────────────────────\n",
       "                                                                                                                                   │                                       │\n",
       "(0, 5): ─────────────────────────────────────────────────────────────────────────────────────────────────────────────Ry(theta_w)───X───X───Ry(theta_w)───X───Ry(theta_v)───X───X───Ry(theta_v)───X───X─────────────@───X───────────────────────────────────@───X─────────────────────\n",
       "                                                                                                                                                                                                                   │                                       │\n",
       "(0, 6): ─────────────────────────────────────────────────────────────────────────────────────────────────────────────────────────────────────────────────────────────────────────────────────────────Ry(theta_w)───X───X───Ry(theta_w)───X───Ry(theta_v)───X───X───Ry(theta_v)───X───</pre>"
      ],
      "text/plain": [
       "(0, 2): ───H───@─────────────────────────────────────────────────────────────────────────────────────────────────────────────────────────────────────────────────────────────────────────────────────────────────────────────────────────────────────────────────────────────────────\n",
       "               │\n",
       "(0, 3): ───────X───Z───Ry(theta_r)───X─────────────@───X───────────────────────────────────@───X─────────────────────────────────────────────────────────────────────────────────────────────────────────────────────────────────────────────────────────────────────────────────────\n",
       "                                                   │                                       │\n",
       "(0, 4): ─────────────────────────────Ry(theta_w)───X───X───Ry(theta_w)───X───Ry(theta_v)───X───X───Ry(theta_v)───X───X─────────────@───X───────────────────────────────────@───X─────────────────────────────────────────────────────────────────────────────────────────────────────\n",
       "                                                                                                                                   │                                       │\n",
       "(0, 5): ─────────────────────────────────────────────────────────────────────────────────────────────────────────────Ry(theta_w)───X───X───Ry(theta_w)───X───Ry(theta_v)───X───X───Ry(theta_v)───X───X─────────────@───X───────────────────────────────────@───X─────────────────────\n",
       "                                                                                                                                                                                                                   │                                       │\n",
       "(0, 6): ─────────────────────────────────────────────────────────────────────────────────────────────────────────────────────────────────────────────────────────────────────────────────────────────Ry(theta_w)───X───X───Ry(theta_w)───X───Ry(theta_v)───X───X───Ry(theta_v)───X───"
      ]
     },
     "execution_count": 68,
     "metadata": {},
     "output_type": "execute_result"
    }
   ],
   "source": [
    "print(\"REAL GROUND STATE\")\n",
    "pure_real"
   ]
  },
  {
   "cell_type": "code",
   "execution_count": 69,
   "metadata": {},
   "outputs": [
    {
     "name": "stdout",
     "output_type": "stream",
     "text": [
      "GENERATOR\n"
     ]
    },
    {
     "data": {
      "text/html": [
       "<pre style=\"overflow: auto; white-space: pre;\">(0, 2): ───H───@───────────────────────────────────────────────────────────────────────────────────────────────────────────────────────────────────────────────────────────────────────────────────────────────────────────────────────────────────────────────────────────\n",
       "               │\n",
       "(0, 3): ───────X───Z───Ry(theta0)───X────────────@───X─────────────────────────────────@───X───────────────────────────────────────────────────────────────────────────────────────────────────────────────────────────────────────────────────────────────────────────────\n",
       "                                                 │                                     │\n",
       "(0, 4): ────────────────────────────Ry(theta3)───X───X───Ry(theta4)───X───Ry(theta1)───X───X───Ry(theta2)───X───X────────────@───X─────────────────────────────────@───X───────────────────────────────────────────────────────────────────────────────────────────────────\n",
       "                                                                                                                             │                                     │\n",
       "(0, 5): ────────────────────────────────────────────────────────────────────────────────────────────────────────Ry(theta7)───X───X───Ry(theta8)───X───Ry(theta5)───X───X───Ry(theta6)───X───X─────────────@───X──────────────────────────────────@───X─────────────────────\n",
       "                                                                                                                                                                                                          │                                      │\n",
       "(0, 6): ────────────────────────────────────────────────────────────────────────────────────────────────────────────────────────────────────────────────────────────────────────────────────Ry(theta11)───X───X───Ry(theta12)───X───Ry(theta9)───X───X───Ry(theta10)───X───</pre>"
      ],
      "text/plain": [
       "(0, 2): ───H───@───────────────────────────────────────────────────────────────────────────────────────────────────────────────────────────────────────────────────────────────────────────────────────────────────────────────────────────────────────────────────────────\n",
       "               │\n",
       "(0, 3): ───────X───Z───Ry(theta0)───X────────────@───X─────────────────────────────────@───X───────────────────────────────────────────────────────────────────────────────────────────────────────────────────────────────────────────────────────────────────────────────\n",
       "                                                 │                                     │\n",
       "(0, 4): ────────────────────────────Ry(theta3)───X───X───Ry(theta4)───X───Ry(theta1)───X───X───Ry(theta2)───X───X────────────@───X─────────────────────────────────@───X───────────────────────────────────────────────────────────────────────────────────────────────────\n",
       "                                                                                                                             │                                     │\n",
       "(0, 5): ────────────────────────────────────────────────────────────────────────────────────────────────────────Ry(theta7)───X───X───Ry(theta8)───X───Ry(theta5)───X───X───Ry(theta6)───X───X─────────────@───X──────────────────────────────────@───X─────────────────────\n",
       "                                                                                                                                                                                                          │                                      │\n",
       "(0, 6): ────────────────────────────────────────────────────────────────────────────────────────────────────────────────────────────────────────────────────────────────────────────────────Ry(theta11)───X───X───Ry(theta12)───X───Ry(theta9)───X───X───Ry(theta10)───X───"
      ]
     },
     "execution_count": 69,
     "metadata": {},
     "output_type": "execute_result"
    }
   ],
   "source": [
    "print(\"GENERATOR\")\n",
    "pure_gen"
   ]
  },
  {
   "cell_type": "code",
   "execution_count": 70,
   "metadata": {},
   "outputs": [
    {
     "name": "stdout",
     "output_type": "stream",
     "text": [
      "DISCRIMINATOR\n"
     ]
    },
    {
     "data": {
      "text/html": [
       "<pre style=\"overflow: auto; white-space: pre;\">(0, 0): ───Rx(l)───Rx(d0)───Rz(d7)────ZZ────────────────Rx(d20)───Rz(d27)───ZZ────────────────Rx(d40)───Rz(d47)───ZZ────────────────Rx(d60)───Rz(d67)───ZZ────────────────Rx(d80)───Rz(d87)───ZZ────────────────\n",
       "                                      │                                     │                                     │                                     │                                     │\n",
       "(0, 1): ───Rx(l)───Rx(d1)───Rz(d8)────ZZ^d14───ZZ───────Rx(d21)───Rz(d28)───ZZ^d34───ZZ───────Rx(d41)───Rz(d48)───ZZ^d54───ZZ───────Rx(d61)───Rz(d68)───ZZ^d74───ZZ───────Rx(d81)───Rz(d88)───ZZ^d94───ZZ───────\n",
       "                                               │                                     │                                     │                                     │                                     │\n",
       "(0, 2): ───Rx(l)───Rx(d2)───Rz(d9)────ZZ───────ZZ^d17───Rx(d22)───Rz(d29)───ZZ───────ZZ^d37───Rx(d42)───Rz(d49)───ZZ───────ZZ^d57───Rx(d62)───Rz(d69)───ZZ───────ZZ^d77───Rx(d82)───Rz(d89)───ZZ───────ZZ^d97───\n",
       "                                      │                                     │                                     │                                     │                                     │\n",
       "(0, 3): ───Rx(l)───Rx(d3)───Rz(d10)───ZZ^d15───ZZ───────Rx(d23)───Rz(d30)───ZZ^d35───ZZ───────Rx(d43)───Rz(d50)───ZZ^d55───ZZ───────Rx(d63)───Rz(d70)───ZZ^d75───ZZ───────Rx(d83)───Rz(d90)───ZZ^d95───ZZ───────\n",
       "                                               │                                     │                                     │                                     │                                     │\n",
       "(0, 4): ───Rx(l)───Rx(d4)───Rz(d11)───ZZ───────ZZ^d18───Rx(d24)───Rz(d31)───ZZ───────ZZ^d38───Rx(d44)───Rz(d51)───ZZ───────ZZ^d58───Rx(d64)───Rz(d71)───ZZ───────ZZ^d78───Rx(d84)───Rz(d91)───ZZ───────ZZ^d98───\n",
       "                                      │                                     │                                     │                                     │                                     │\n",
       "(0, 5): ───Rx(l)───Rx(d5)───Rz(d12)───ZZ^d16───ZZ───────Rx(d25)───Rz(d32)───ZZ^d36───ZZ───────Rx(d45)───Rz(d52)───ZZ^d56───ZZ───────Rx(d65)───Rz(d72)───ZZ^d76───ZZ───────Rx(d85)───Rz(d92)───ZZ^d96───ZZ───────\n",
       "                                               │                                     │                                     │                                     │                                     │\n",
       "(0, 6): ───Rx(l)───Rx(d6)───Rz(d13)────────────ZZ^d19───Rx(d26)───Rz(d33)────────────ZZ^d39───Rx(d46)───Rz(d53)────────────ZZ^d59───Rx(d66)───Rz(d73)────────────ZZ^d79───Rx(d86)───Rz(d93)────────────ZZ^d99───</pre>"
      ],
      "text/plain": [
       "(0, 0): ───Rx(l)───Rx(d0)───Rz(d7)────ZZ────────────────Rx(d20)───Rz(d27)───ZZ────────────────Rx(d40)───Rz(d47)───ZZ────────────────Rx(d60)───Rz(d67)───ZZ────────────────Rx(d80)───Rz(d87)───ZZ────────────────\n",
       "                                      │                                     │                                     │                                     │                                     │\n",
       "(0, 1): ───Rx(l)───Rx(d1)───Rz(d8)────ZZ^d14───ZZ───────Rx(d21)───Rz(d28)───ZZ^d34───ZZ───────Rx(d41)───Rz(d48)───ZZ^d54───ZZ───────Rx(d61)───Rz(d68)───ZZ^d74───ZZ───────Rx(d81)───Rz(d88)───ZZ^d94───ZZ───────\n",
       "                                               │                                     │                                     │                                     │                                     │\n",
       "(0, 2): ───Rx(l)───Rx(d2)───Rz(d9)────ZZ───────ZZ^d17───Rx(d22)───Rz(d29)───ZZ───────ZZ^d37───Rx(d42)───Rz(d49)───ZZ───────ZZ^d57───Rx(d62)───Rz(d69)───ZZ───────ZZ^d77───Rx(d82)───Rz(d89)───ZZ───────ZZ^d97───\n",
       "                                      │                                     │                                     │                                     │                                     │\n",
       "(0, 3): ───Rx(l)───Rx(d3)───Rz(d10)───ZZ^d15───ZZ───────Rx(d23)───Rz(d30)───ZZ^d35───ZZ───────Rx(d43)───Rz(d50)───ZZ^d55───ZZ───────Rx(d63)───Rz(d70)───ZZ^d75───ZZ───────Rx(d83)───Rz(d90)───ZZ^d95───ZZ───────\n",
       "                                               │                                     │                                     │                                     │                                     │\n",
       "(0, 4): ───Rx(l)───Rx(d4)───Rz(d11)───ZZ───────ZZ^d18───Rx(d24)───Rz(d31)───ZZ───────ZZ^d38───Rx(d44)───Rz(d51)───ZZ───────ZZ^d58───Rx(d64)───Rz(d71)───ZZ───────ZZ^d78───Rx(d84)───Rz(d91)───ZZ───────ZZ^d98───\n",
       "                                      │                                     │                                     │                                     │                                     │\n",
       "(0, 5): ───Rx(l)───Rx(d5)───Rz(d12)───ZZ^d16───ZZ───────Rx(d25)───Rz(d32)───ZZ^d36───ZZ───────Rx(d45)───Rz(d52)───ZZ^d56───ZZ───────Rx(d65)───Rz(d72)───ZZ^d76───ZZ───────Rx(d85)───Rz(d92)───ZZ^d96───ZZ───────\n",
       "                                               │                                     │                                     │                                     │                                     │\n",
       "(0, 6): ───Rx(l)───Rx(d6)───Rz(d13)────────────ZZ^d19───Rx(d26)───Rz(d33)────────────ZZ^d39───Rx(d46)───Rz(d53)────────────ZZ^d59───Rx(d66)───Rz(d73)────────────ZZ^d79───Rx(d86)───Rz(d93)────────────ZZ^d99───"
      ]
     },
     "execution_count": 70,
     "metadata": {},
     "output_type": "execute_result"
    }
   ],
   "source": [
    "print(\"DISCRIMINATOR\")\n",
    "disc"
   ]
  },
  {
   "cell_type": "code",
   "execution_count": 71,
   "metadata": {},
   "outputs": [],
   "source": [
    "np.random.seed(0)\n",
    "eps = 1e-2\n",
    "init_gen_weights = np.array([0] * len(gs)) + \\\n",
    "                   np.random.normal(scale=eps, size=(len(gs),))\n",
    "init_disc_weights = np.random.normal(size=(len(ds),))\n",
    "\n",
    "gen_weights = tf.Variable(init_gen_weights, dtype=tf.float32)\n",
    "disc_weights = tf.Variable(init_disc_weights, dtype=tf.float32)"
   ]
  },
  {
   "cell_type": "code",
   "execution_count": 72,
   "metadata": {},
   "outputs": [],
   "source": [
    "class CustomScheduler(tf.keras.optimizers.schedules.LearningRateSchedule):\n",
    "    def __init__(self, warmup_steps=4000):\n",
    "        super(CustomScheduler, self).__init__()\n",
    "        self.warmup_steps = warmup_steps\n",
    "\n",
    "    def __call__(self, step):\n",
    "        return max(math.e ** - ((step+200) / (self.warmup_steps / math.log(100))), 0.01)"
   ]
  },
  {
   "cell_type": "code",
   "execution_count": 73,
   "metadata": {
    "pycharm": {
     "name": "#%%\n"
    }
   },
   "outputs": [],
   "source": [
    "learning_rate = CustomScheduler()\n",
    "\n",
    "opt = tf.keras.optimizers.Adam(learning_rate, beta_1=0.9, beta_2=0.98, \n",
    "                                     epsilon=1e-9)"
   ]
  },
  {
   "cell_type": "code",
   "execution_count": 74,
   "metadata": {
    "pycharm": {
     "name": "#%%\n"
    }
   },
   "outputs": [],
   "source": [
    "g_values = [-1, -0.5]\n",
    "# x_rotations = get_binary_x_rotation_provider({0: '100', 1: '011', 2: '101'})"
   ]
  },
  {
   "cell_type": "code",
   "execution_count": 75,
   "metadata": {},
   "outputs": [],
   "source": [
    "trainer = Trainer(g_values, \n",
    "                  data_bus_size, \n",
    "                  disc, \n",
    "                  gen, \n",
    "                  real, \n",
    "                  out_qubit, \n",
    "                  ds, \n",
    "                  gs, \n",
    "                  real_symbols, \n",
    "                  ls,\n",
    "                  real_values_provider = get_g_parameters_provider(),\n",
    "                  use_analytical_expectation=True)"
   ]
  },
  {
   "cell_type": "code",
   "execution_count": 76,
   "metadata": {},
   "outputs": [
    {
     "data": {
      "text/plain": [
       "<Figure size 432x288 with 0 Axes>"
      ]
     },
     "metadata": {},
     "output_type": "display_data"
    },
    {
     "data": {
      "image/png": "[encoded data removed]",
      "text/plain": [
       "<Figure size 1080x432 with 2 Axes>"
      ]
     },
     "metadata": {
      "needs_background": "light"
     },
     "output_type": "display_data"
    },
    {
     "name": "stdout",
     "output_type": "stream",
     "text": [
      "----------- AFTER GENERATOR TRAINING -----------\n",
      "Epoch 0: generator cost = -0.7478705048561096\n",
      "Epoch 0: discriminator cost = -0.2201215624809265\n",
      "Prob(fake classified as real):  0.6382693\n",
      "Prob(real classified as real):  0.6376209\n",
      "-------------------------------------\n",
      "----------- TRAINING DONE -----------\n",
      "Weights: [\n",
      "  {\n",
      "    \"gen_weights\": [\n",
      "      0.3788506090641022,\n",
      "      -0.3565407693386078,\n",
      "      0.3709574043750763,\n",
      "      0.3835587203502655,\n",
      "      -0.3424645662307739,\n",
      "      0.35117021203041077,\n",
      "      -0.35151854157447815,\n",
      "      -0.36253300309181213,\n",
      "      -0.3621211051940918,\n",
      "      -0.35688161849975586,\n",
      "      -0.35971200466156006,\n",
      "      -0.3465891480445862,\n",
      "      -0.3535420596599579\n",
      "    ],\n",
      "    \"disc_weights\": [\n",
      "      -2.7548415660858154,\n",
      "      -1.5434679985046387,\n",
      "      4.100963115692139,\n",
      "      -0.18934722244739532,\n",
      "      -3.8438565731048584,\n",
      "      5.214024066925049,\n",
      "      -0.4174979329109192,\n",
      "      -2.0984935760498047,\n",
      "      4.5817766189575195,\n",
      "      0.8881039619445801,\n",
      "      2.2137718200683594,\n",
      "      0.8845049738883972,\n",
      "      0.6855450868606567,\n",
      "      2.329861640930176,\n",
      "      1.9482884407043457,\n",
      "      0.7583380937576294,\n",
      "      0.4651643633842468,\n",
      "      2.5226147174835205,\n",
      "      -2.1097822189331055,\n",
      "      1.2097160816192627,\n",
      "      -4.256352424621582,\n",
      "      -3.2679595947265625,\n",
      "      0.419708788394928,\n",
      "      1.8409277200698853,\n",
      "      2.3288791179656982,\n",
      "      2.2126832008361816,\n",
      "      2.740750789642334,\n",
      "      -6.481931686401367,\n",
      "      1.7657129764556885,\n",
      "      -4.8408379554748535,\n",
      "      3.798365354537964,\n",
      "      1.8087950944900513,\n",
      "      -0.19690029323101044,\n",
      "      0.727196991443634,\n",
      "      2.270495891571045,\n",
      "      2.100510597229004,\n",
      "      3.005650520324707,\n",
      "      1.1521130800247192,\n",
      "      4.11727237701416,\n",
      "      -1.8411756753921509,\n",
      "      3.5599629878997803,\n",
      "      -3.4159538745880127,\n",
      "      1.8065282106399536,\n",
      "      4.444398880004883,\n",
      "      3.5840671062469482,\n",
      "      3.944720506668091,\n",
      "      0.7688827514648438,\n",
      "      -4.628887176513672,\n",
      "      1.8937863111495972,\n",
      "      3.3740246295928955,\n",
      "      0.7588998079299927,\n",
      "      3.779315948486328,\n",
      "      3.991208553314209,\n",
      "      -0.7093367576599121,\n",
      "      4.115697860717773,\n",
      "      1.7460525035858154,\n",
      "      2.7734718322753906,\n",
      "      0.8372705578804016,\n",
      "      5.576663970947266,\n",
      "      4.749824523925781,\n",
      "      -3.6515445709228516,\n",
      "      1.4864376783370972,\n",
      "      0.7658323049545288,\n",
      "      0.17395071685314178,\n",
      "      3.413179636001587,\n",
      "      5.111489295959473,\n",
      "      -0.1810428500175476,\n",
      "      -1.5721549987792969,\n",
      "      4.281253814697266,\n",
      "      3.7128958702087402,\n",
      "      -0.38467174768447876,\n",
      "      2.370966672897339,\n",
      "      4.924239158630371,\n",
      "      4.289243221282959,\n",
      "      -3.154076337814331,\n",
      "      1.630352258682251,\n",
      "      5.2675275802612305,\n",
      "      1.7813689708709717,\n",
      "      -3.71293568611145,\n",
      "      6.832056045532227,\n",
      "      6.165090560913086,\n",
      "      4.852312088012695,\n",
      "      4.22506046295166,\n",
      "      2.9296927452087402,\n",
      "      3.304921865463257,\n",
      "      2.6665821075439453,\n",
      "      4.826427459716797,\n",
      "      5.447803974151611,\n",
      "      1.8666245937347412,\n",
      "      3.0195088386535645,\n",
      "      2.4857990741729736,\n",
      "      3.2701570987701416,\n",
      "      7.785512924194336,\n",
      "      5.923238277435303,\n",
      "      -2.2480952739715576,\n",
      "      3.348877191543579,\n",
      "      5.780975818634033,\n",
      "      6.576082229614258,\n",
      "      2.5585336685180664,\n",
      "      4.120542526245117\n",
      "    ],\n",
      "    \"prob_fake_real\": \"0.6373153\",\n",
      "    \"prob_real_real\": \"0.6376209\",\n",
      "    \"epoch\": 0,\n",
      "    \"label\": \"DISCRIMINATOR\"\n",
      "  },\n",
      "  {\n",
      "    \"gen_weights\": [\n",
      "      0.3788506090641022,\n",
      "      -0.3565407693386078,\n",
      "      0.3709574043750763,\n",
      "      0.3835587203502655,\n",
      "      -0.3424645662307739,\n",
      "      0.35117021203041077,\n",
      "      -0.35151854157447815,\n",
      "      -0.36253300309181213,\n",
      "      -0.3621211051940918,\n",
      "      -0.35688161849975586,\n",
      "      -0.35971200466156006,\n",
      "      -0.3465891480445862,\n",
      "      -0.3535420596599579\n",
      "    ],\n",
      "    \"disc_weights\": [\n",
      "      -2.7548415660858154,\n",
      "      -1.5434679985046387,\n",
      "      4.100963115692139,\n",
      "      -0.18934722244739532,\n",
      "      -3.8438565731048584,\n",
      "      5.214024066925049,\n",
      "      -0.4174979329109192,\n",
      "      -2.0984935760498047,\n",
      "      4.5817766189575195,\n",
      "      0.8881039619445801,\n",
      "      2.2137718200683594,\n",
      "      0.8845049738883972,\n",
      "      0.6855450868606567,\n",
      "      2.329861640930176,\n",
      "      1.9482884407043457,\n",
      "      0.7583380937576294,\n",
      "      0.4651643633842468,\n",
      "      2.5226147174835205,\n",
      "      -2.1097822189331055,\n",
      "      1.2097160816192627,\n",
      "      -4.256352424621582,\n",
      "      -3.2679595947265625,\n",
      "      0.419708788394928,\n",
      "      1.8409277200698853,\n",
      "      2.3288791179656982,\n",
      "      2.2126832008361816,\n",
      "      2.740750789642334,\n",
      "      -6.481931686401367,\n",
      "      1.7657129764556885,\n",
      "      -4.8408379554748535,\n",
      "      3.798365354537964,\n",
      "      1.8087950944900513,\n",
      "      -0.19690029323101044,\n",
      "      0.727196991443634,\n",
      "      2.270495891571045,\n",
      "      2.100510597229004,\n",
      "      3.005650520324707,\n",
      "      1.1521130800247192,\n",
      "      4.11727237701416,\n",
      "      -1.8411756753921509,\n",
      "      3.5599629878997803,\n",
      "      -3.4159538745880127,\n",
      "      1.8065282106399536,\n",
      "      4.444398880004883,\n",
      "      3.5840671062469482,\n",
      "      3.944720506668091,\n",
      "      0.7688827514648438,\n",
      "      -4.628887176513672,\n",
      "      1.8937863111495972,\n",
      "      3.3740246295928955,\n",
      "      0.7588998079299927,\n",
      "      3.779315948486328,\n",
      "      3.991208553314209,\n",
      "      -0.7093367576599121,\n",
      "      4.115697860717773,\n",
      "      1.7460525035858154,\n",
      "      2.7734718322753906,\n",
      "      0.8372705578804016,\n",
      "      5.576663970947266,\n",
      "      4.749824523925781,\n",
      "      -3.6515445709228516,\n",
      "      1.4864376783370972,\n",
      "      0.7658323049545288,\n",
      "      0.17395071685314178,\n",
      "      3.413179636001587,\n",
      "      5.111489295959473,\n",
      "      -0.1810428500175476,\n",
      "      -1.5721549987792969,\n",
      "      4.281253814697266,\n",
      "      3.7128958702087402,\n",
      "      -0.38467174768447876,\n",
      "      2.370966672897339,\n",
      "      4.924239158630371,\n",
      "      4.289243221282959,\n",
      "      -3.154076337814331,\n",
      "      1.630352258682251,\n",
      "      5.2675275802612305,\n",
      "      1.7813689708709717,\n",
      "      -3.71293568611145,\n",
      "      6.832056045532227,\n",
      "      6.165090560913086,\n",
      "      4.852312088012695,\n",
      "      4.22506046295166,\n",
      "      2.9296927452087402,\n",
      "      3.304921865463257,\n",
      "      2.6665821075439453,\n",
      "      4.826427459716797,\n",
      "      5.447803974151611,\n",
      "      1.8666245937347412,\n",
      "      3.0195088386535645,\n",
      "      2.4857990741729736,\n",
      "      3.2701570987701416,\n",
      "      7.785512924194336,\n",
      "      5.923238277435303,\n",
      "      -2.2480952739715576,\n",
      "      3.348877191543579,\n",
      "      5.780975818634033,\n",
      "      6.576082229614258,\n",
      "      2.5585336685180664,\n",
      "      4.120542526245117\n",
      "    ],\n",
      "    \"prob_fake_real\": \"0.6382693\",\n",
      "    \"prob_real_real\": \"0.6376209\",\n",
      "    \"epoch\": 0,\n",
      "    \"label\": \"GENERATOR\"\n",
      "  }\n",
      "]\n"
     ]
    }
   ],
   "source": [
    "epochs = 1\n",
    "disc_iteration = 10\n",
    "gen_iteration = 1\n",
    "snapshot_interval_epochs = 10\n",
    "results = trainer.train(disc_weights,\n",
    "      gen_weights, \n",
    "      opt, \n",
    "      epochs=epochs, \n",
    "      disc_iteration=disc_iteration, \n",
    "      gen_iteration=gen_iteration,\n",
    "      snapshot_interval_epochs=snapshot_interval_epochs)"
   ]
  },
  {
   "cell_type": "code",
   "execution_count": null,
   "metadata": {},
   "outputs": [],
   "source": [
    "def get_gen_for_g(g, gen_weights):\n",
    "    rad = map_to_radians(g)\n",
    "    return np.append(gen_weights, rad)\n",
    "\n",
    "def get_states_and_fidelty_for_real(gen_evaluator, real_evaluator, gen_weights, g, size, real_provider):\n",
    "    generated = gen_evaluator.get_state_from_params(get_gen_for_g(g, gen_weights), list(range(size)))\n",
    "    real = real_evaluator.get_state_from_params(real_provider(g), list(range(size)))\n",
    "    return generated, real, cirq.fidelity(generated, real)\n",
    "\n",
    "def get_states_and_fidelty_for_ground(gen_evaluator, g, gen_weights, size):\n",
    "    generated = gen_evaluator.get_state_from_params(get_gen_for_g(g, gen_weights), list(range(size)))\n",
    "    ground = get_ground_state_for_g(g, size)\n",
    "    return generated, ground, cirq.fidelity(generated, ground)\n",
    "\n",
    "def compare_generated_for_g(gen_evaluator, g1, g2, gen_weights, size):\n",
    "     generated1 = gen_evaluator.get_state_from_params(get_gen_for_g(g1, gen_weights), list(range(size)))\n",
    "     generated2 = gen_evaluator.get_state_from_params(get_gen_for_g(g2, gen_weights), list(range(size)))\n",
    "     return generated1, generated2, cirq.fidelity(generated1, generated2)"
   ]
  },
  {
   "cell_type": "code",
   "execution_count": null,
   "metadata": {
    "pycharm": {
     "name": "#%%\n"
    }
   },
   "outputs": [],
   "source": [
    "trained_disc_weights = tf.Variable(np.array([ 1.25888796e+01,  1.10409822e+01,  1.27487049e+01,  1.32927475e+01,\n",
    "       -3.20522385e+01,  2.98508596e+00, -7.54223883e-01,  8.97036648e+00,\n",
    "        8.98472309e+00, -2.77423954e+00,  8.90891266e+00,  5.72837019e+00,\n",
    "        6.03105211e+00, -4.64482594e+00, -1.10843427e-01,  7.78598115e-02,\n",
    "        3.00343895e+00,  3.83781940e-01,  6.08641243e+00,  8.64131927e+00,\n",
    "       -2.17593918e+01,  1.45857897e+01,  2.36893883e+01,  8.75363445e+00,\n",
    "       -2.42768993e+01,  1.27688437e+01,  2.53628349e+00,  1.39768391e+01,\n",
    "        1.40961084e+01, -2.04474068e+01,  4.71392822e+00,  1.66926212e+01,\n",
    "        1.88311214e+01,  9.17525005e+00,  1.16109962e+01,  1.08004580e+01,\n",
    "        1.10795708e+01,  5.81477690e+00, -5.50215101e+00,  2.22007637e+01,\n",
    "        2.25015125e+01,  3.21826210e+01, -1.80058708e+01, -7.85126591e+00,\n",
    "       -7.77073908e+00,  1.40237570e+01,  3.14071465e+01, -1.07477732e+01,\n",
    "        1.55852342e+00,  2.63786411e+01,  1.31890945e+01,  7.14759350e+00,\n",
    "        5.46145630e+00, -1.79730053e+01,  7.40563774e+00,  1.06135674e+01,\n",
    "       -1.55095673e+00, -2.66580944e+01,  6.51995277e+00, -2.37151980e+00,\n",
    "        3.51896515e+01,  1.50027342e+01,  1.80733763e-02, -1.75052185e+01,\n",
    "        9.60706902e+00, -6.06413984e+00,  5.35433817e+00, -7.88707399e+00,\n",
    "        1.27363043e+01,  1.02446747e+01]), dtype=tf.float32)\n",
    "\n",
    "trained_gen_weights = np.array([ -1.6883899 ,  12.534816  ,   0.3735907 ,  -9.315787  ,\n",
    "        -6.007224  , -12.969288  ,   8.700528  ,  -5.1759815 ,\n",
    "         4.310844  ,  -3.130318  ,   6.798724  ,   4.905171  ,\n",
    "        -0.2890863 ,  -1.222973  ,  -0.07461139,  -2.5728188 ,\n",
    "         1.7303827 ,  -1.5344989 ,   2.6312382 ,  -1.8737797 ,\n",
    "        -1.0022153 ,   4.3546224 ,   3.5610907 ,  -4.2001524 ,\n",
    "        10.083789  , -16.943022  ,   8.448887  ,   7.81465   ,\n",
    "         2.9656339 ,   0.04719266,  14.356344  ,   0.31659052,\n",
    "         4.6315327 ])\n",
    "\n",
    "gen_symbols = gs + (ls,)\n",
    "# real_symbols = ('r0', 'r1', 'r2')"
   ]
  },
  {
   "cell_type": "code",
   "execution_count": null,
   "metadata": {},
   "outputs": [],
   "source": [
    "gen_evaluator = CircuitEvaluator(pure_gen, gen_symbols)\n",
    "real_evaluator = CircuitEvaluator(pure_real, real_symbols)"
   ]
  },
  {
   "cell_type": "code",
   "execution_count": null,
   "metadata": {},
   "outputs": [],
   "source": [
    "g = 0\n",
    "get_states_and_fidelty_for_real(gen_evaluator, real_evaluator, trained_gen_weights, g, data_bus_size, get_g_parameters_provider())"
   ]
  },
  {
   "cell_type": "code",
   "execution_count": null,
   "metadata": {},
   "outputs": [],
   "source": [
    "g = -1\n",
    "get_states_and_fidelty_for_real(gen_evaluator, real_evaluator, trained_gen_weights, g, data_bus_size, get_g_parameters_provider())"
   ]
  },
  {
   "cell_type": "code",
   "execution_count": null,
   "metadata": {},
   "outputs": [],
   "source": [
    "compare_generated_for_g(gen_evaluator, -1, 0, trained_gen_weights, data_bus_size)"
   ]
  },
  {
   "cell_type": "code",
   "execution_count": null,
   "metadata": {},
   "outputs": [],
   "source": [
    "g = 0\n",
    "get_states_and_fidelty_for_ground(gen_evaluator, g, trained_gen_weights, data_bus_size)"
   ]
  },
  {
   "cell_type": "code",
   "execution_count": null,
   "metadata": {},
   "outputs": [],
   "source": []
  }
 ],
 "metadata": {
  "kernelspec": {
   "display_name": "Python 3",
   "language": "python",
   "name": "python3"
  },
  "language_info": {
   "codemirror_mode": {
    "name": "ipython",
    "version": 3
   },
   "file_extension": ".py",
   "mimetype": "text/x-python",
   "name": "python",
   "nbconvert_exporter": "python",
   "pygments_lexer": "ipython3",
   "version": "3.8.6"
  }
 },
 "nbformat": 4,
 "nbformat_minor": 1
}
