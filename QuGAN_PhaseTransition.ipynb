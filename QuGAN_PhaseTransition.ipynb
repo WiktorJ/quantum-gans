{
 "cells": [
  {
   "cell_type": "code",
   "execution_count": null,
   "metadata": {
    "scrolled": true
   },
   "outputs": [],
   "source": [
    "# For colab\n",
    "!pip uninstall tensorflow -y\n",
    "!pip install tensorflow==2.3.1 tensorflow-quantum\n",
    "!rm -rf quantum-gans\n",
    "!git clone https://github.com/WiktorJ/quantum-gans\n",
    "!cd quantum-gans; pip install ."
   ]
  },
  {
   "cell_type": "code",
   "execution_count": 1,
   "metadata": {},
   "outputs": [],
   "source": [
    "import math\n",
    "import random\n",
    "import tensorflow as tf\n",
    "import tensorflow_quantum as tfq\n",
    "\n",
    "import cirq\n",
    "import numpy as np\n",
    "from qsgenerator.utils import map_to_radians\n",
    "from qsgenerator.qugans import circuits\n",
    "from qsgenerator.qugans.training import Trainer\n",
    "from qsgenerator.phase.circuits import build_ground_state_circuit\n",
    "from qsgenerator.phase.analitical import  get_ground_state_for_g\n",
    "from qsgenerator.states.simple_state_circuits import build_x_rotation_state\n",
    "from qsgenerator.phase.analitical import construct_hamiltonian, get_theta_v, get_theta_w, get_theta_r\n",
    "from qsgenerator.evaluators.circuit_evaluator import CircuitEvaluator"
   ]
  },
  {
   "cell_type": "code",
   "execution_count": 2,
   "metadata": {},
   "outputs": [],
   "source": [
    "generator_layers = 3\n",
    "discriminator_layers = 5\n",
    "data_bus_size = 3"
   ]
  },
  {
   "cell_type": "code",
   "execution_count": 3,
   "metadata": {},
   "outputs": [],
   "source": [
    "gen, gs, disc, ds, ls, data_qubits, out_qubit = circuits.build_gan_circuits(generator_layers, discriminator_layers, data_bus_size)"
   ]
  },
  {
   "cell_type": "code",
   "execution_count": 4,
   "metadata": {},
   "outputs": [],
   "source": [
    "real, real_symbols = build_ground_state_circuit(qubits=data_qubits)"
   ]
  },
  {
   "cell_type": "code",
   "execution_count": 5,
   "metadata": {},
   "outputs": [],
   "source": [
    "real, real_symbols = build_x_rotation_state(qubits=data_qubits)"
   ]
  },
  {
   "cell_type": "code",
   "execution_count": 6,
   "metadata": {},
   "outputs": [],
   "source": [
    "pure_gen = gen.copy()\n",
    "gen.append([disc])"
   ]
  },
  {
   "cell_type": "code",
   "execution_count": 7,
   "metadata": {},
   "outputs": [],
   "source": [
    "pure_real = real.copy()\n",
    "real.append([disc])"
   ]
  },
  {
   "cell_type": "code",
   "execution_count": 8,
   "metadata": {
    "scrolled": true
   },
   "outputs": [
    {
     "name": "stdout",
     "output_type": "stream",
     "text": [
      "REAL GROUND STATE\n",
      "(0, 2): ───Rx(r0)───\n",
      "\n",
      "(0, 3): ───Rx(r1)───\n",
      "\n",
      "(0, 4): ───Rx(r2)───\n"
     ]
    }
   ],
   "source": [
    "print(\"REAL GROUND STATE\")\n",
    "print(pure_real)"
   ]
  },
  {
   "cell_type": "code",
   "execution_count": 9,
   "metadata": {},
   "outputs": [
    {
     "name": "stdout",
     "output_type": "stream",
     "text": [
      "GENERATOR\n",
      "(0, 2): ───Rz(l)───Rx(g0)───Rz(g4)───ZZ───────────────Rz(l)───Rx(g11)───Rz(g15)───ZZ────────────────Rz(l)───Rx(g22)───Rz(g26)───ZZ────────────────\n",
      "                                     │                                            │                                             │\n",
      "(0, 3): ───Rz(l)───Rx(g1)───Rz(g5)───ZZ^g8───ZZ───────Rz(l)───Rx(g12)───Rz(g16)───ZZ^g19───ZZ───────Rz(l)───Rx(g23)───Rz(g27)───ZZ^g30───ZZ───────\n",
      "                                             │                                             │                                             │\n",
      "(0, 4): ───Rz(l)───Rx(g2)───Rz(g6)───ZZ──────ZZ^g10───Rz(l)───Rx(g13)───Rz(g17)───ZZ───────ZZ^g21───Rz(l)───Rx(g24)───Rz(g28)───ZZ───────ZZ^g32───\n",
      "                                     │                                            │                                             │\n",
      "(0, 5): ───Rz(l)───Rx(g3)───Rz(g7)───ZZ^g9────────────Rz(l)───Rx(g14)───Rz(g18)───ZZ^g20────────────Rz(l)───Rx(g25)───Rz(g29)───ZZ^g31────────────\n"
     ]
    }
   ],
   "source": [
    "print(\"GENERATOR\")\n",
    "print(pure_gen)"
   ]
  },
  {
   "cell_type": "code",
   "execution_count": 10,
   "metadata": {},
   "outputs": [
    {
     "name": "stdout",
     "output_type": "stream",
     "text": [
      "DISCRIMINATOR\n",
      "(0, 0): ───Rz(l)───Rx(d0)───Rz(d5)───ZZ────────────────Rz(l)───Rx(d14)───Rz(d19)───ZZ────────────────Rz(l)───Rx(d28)───Rz(d33)───ZZ────────────────Rz(l)───Rx(d42)───Rz(d47)───ZZ────────────────Rz(l)───Rx(d56)───Rz(d61)───ZZ────────────────\n",
      "                                     │                                             │                                             │                                             │                                             │\n",
      "(0, 1): ───Rz(l)───Rx(d1)───Rz(d6)───ZZ^d10───ZZ───────Rz(l)───Rx(d15)───Rz(d20)───ZZ^d24───ZZ───────Rz(l)───Rx(d29)───Rz(d34)───ZZ^d38───ZZ───────Rz(l)───Rx(d43)───Rz(d48)───ZZ^d52───ZZ───────Rz(l)───Rx(d57)───Rz(d62)───ZZ^d66───ZZ───────\n",
      "                                              │                                             │                                             │                                             │                                             │\n",
      "(0, 2): ───Rz(l)───Rx(d2)───Rz(d7)───ZZ───────ZZ^d12───Rz(l)───Rx(d16)───Rz(d21)───ZZ───────ZZ^d26───Rz(l)───Rx(d30)───Rz(d35)───ZZ───────ZZ^d40───Rz(l)───Rx(d44)───Rz(d49)───ZZ───────ZZ^d54───Rz(l)───Rx(d58)───Rz(d63)───ZZ───────ZZ^d68───\n",
      "                                     │                                             │                                             │                                             │                                             │\n",
      "(0, 3): ───Rz(l)───Rx(d3)───Rz(d8)───ZZ^d11───ZZ───────Rz(l)───Rx(d17)───Rz(d22)───ZZ^d25───ZZ───────Rz(l)───Rx(d31)───Rz(d36)───ZZ^d39───ZZ───────Rz(l)───Rx(d45)───Rz(d50)───ZZ^d53───ZZ───────Rz(l)───Rx(d59)───Rz(d64)───ZZ^d67───ZZ───────\n",
      "                                              │                                             │                                             │                                             │                                             │\n",
      "(0, 4): ───Rz(l)───Rx(d4)───Rz(d9)────────────ZZ^d13───Rz(l)───Rx(d18)───Rz(d23)────────────ZZ^d27───Rz(l)───Rx(d32)───Rz(d37)────────────ZZ^d41───Rz(l)───Rx(d46)───Rz(d51)────────────ZZ^d55───Rz(l)───Rx(d60)───Rz(d65)────────────ZZ^d69───\n"
     ]
    }
   ],
   "source": [
    "print(\"DISCRIMINATOR\")\n",
    "print(disc)"
   ]
  },
  {
   "cell_type": "code",
   "execution_count": 11,
   "metadata": {},
   "outputs": [],
   "source": [
    "np.random.seed(0)\n",
    "eps = 1e-2\n",
    "init_gen_weights = np.array([0] * len(gs)) + \\\n",
    "                   np.random.normal(scale=eps, size=(len(gs),))\n",
    "init_disc_weights = np.random.normal(size=(len(ds),))\n",
    "\n",
    "gen_weights = tf.Variable(init_gen_weights, dtype=tf.float32)\n",
    "disc_weights = tf.Variable(init_disc_weights, dtype=tf.float32)"
   ]
  },
  {
   "cell_type": "code",
   "execution_count": 12,
   "metadata": {},
   "outputs": [],
   "source": [
    "class CustomScheduler(tf.keras.optimizers.schedules.LearningRateSchedule):\n",
    "    def __init__(self, warmup_steps=4000):\n",
    "        super(CustomScheduler, self).__init__()\n",
    "        self.warmup_steps = warmup_steps\n",
    "\n",
    "    def __call__(self, step):\n",
    "        return max(math.e ** - ((step+200) / (self.warmup_steps / math.log(100))), 0.01)"
   ]
  },
  {
   "cell_type": "code",
   "execution_count": 13,
   "metadata": {
    "pycharm": {
     "name": "#%%\n"
    }
   },
   "outputs": [],
   "source": [
    "learning_rate = CustomScheduler()\n",
    "\n",
    "opt = tf.keras.optimizers.Adam(learning_rate, beta_1=0.9, beta_2=0.98, \n",
    "                                     epsilon=1e-9)"
   ]
  },
  {
   "cell_type": "code",
   "execution_count": 14,
   "metadata": {
    "pycharm": {
     "name": "#%%\n"
    }
   },
   "outputs": [],
   "source": [
    "g_provider = lambda: random.choice([-1, 0])"
   ]
  },
  {
   "cell_type": "code",
   "execution_count": 15,
   "metadata": {},
   "outputs": [],
   "source": [
    "trainer = Trainer(g_provider, \n",
    "                  data_bus_size, \n",
    "                  disc, \n",
    "                  gen, \n",
    "                  real, \n",
    "                  out_qubit, \n",
    "                  ds, \n",
    "                  gs, \n",
    "                  real_symbols, \n",
    "                  ls,\n",
    "                  use_analytical_expectation=True)"
   ]
  },
  {
   "cell_type": "code",
   "execution_count": null,
   "metadata": {},
   "outputs": [],
   "source": [
    "epochs = 101\n",
    "disc_iteration = 100\n",
    "gen_iteration = 10\n",
    "print_interval_epoch = 10\n",
    "trainer.train(disc_weights,\n",
    "      gen_weights, \n",
    "      opt, \n",
    "      epochs=epochs, \n",
    "      disc_iteration=disc_iteration, \n",
    "      gen_iteration=gen_iteration,\n",
    "      print_interval_epoch=print_interval_epoch)"
   ]
  },
  {
   "cell_type": "code",
   "execution_count": 20,
   "metadata": {},
   "outputs": [],
   "source": [
    "def get_gen_for_g(g, gen_weights):\n",
    "    rad = map_to_radians(g)\n",
    "    return np.append(gen_weights, rad)\n",
    "\n",
    "def get_variables_real(g):\n",
    "    return np.array([get_theta_v(g), get_theta_w(g), get_theta_r(g)])\n",
    "\n",
    "def get_states_and_fidelty_for_real(gen_evaluator, real_evaluator, g, size):\n",
    "    generated = gen_evaluator.get_state_from_params(get_gen_for_g(g, trained_gen_weights), list(range(size)))\n",
    "    real = real_evaluator.get_state_from_params(get_variables_real(g))\n",
    "    return generated, real, cirq.fidelity(generated, real)\n",
    "\n",
    "def get_states_and_fidelty_for_ground(gen_evaluator, g, size):\n",
    "    generated = gen_evaluator.get_state_from_params(get_gen_for_g(g, trained_gen_weights), list(range(size)))\n",
    "    ground = get_ground_state_for_g(g, size)\n",
    "    return generated, real, cirq.fidelity(generated, ground)"
   ]
  },
  {
   "cell_type": "code",
   "execution_count": 21,
   "metadata": {
    "pycharm": {
     "name": "#%%\n"
    }
   },
   "outputs": [],
   "source": [
    "trained_disc_weights = tf.Variable(np.array([ 1.25888796e+01,  1.10409822e+01,  1.27487049e+01,  1.32927475e+01,\n",
    "       -3.20522385e+01,  2.98508596e+00, -7.54223883e-01,  8.97036648e+00,\n",
    "        8.98472309e+00, -2.77423954e+00,  8.90891266e+00,  5.72837019e+00,\n",
    "        6.03105211e+00, -4.64482594e+00, -1.10843427e-01,  7.78598115e-02,\n",
    "        3.00343895e+00,  3.83781940e-01,  6.08641243e+00,  8.64131927e+00,\n",
    "       -2.17593918e+01,  1.45857897e+01,  2.36893883e+01,  8.75363445e+00,\n",
    "       -2.42768993e+01,  1.27688437e+01,  2.53628349e+00,  1.39768391e+01,\n",
    "        1.40961084e+01, -2.04474068e+01,  4.71392822e+00,  1.66926212e+01,\n",
    "        1.88311214e+01,  9.17525005e+00,  1.16109962e+01,  1.08004580e+01,\n",
    "        1.10795708e+01,  5.81477690e+00, -5.50215101e+00,  2.22007637e+01,\n",
    "        2.25015125e+01,  3.21826210e+01, -1.80058708e+01, -7.85126591e+00,\n",
    "       -7.77073908e+00,  1.40237570e+01,  3.14071465e+01, -1.07477732e+01,\n",
    "        1.55852342e+00,  2.63786411e+01,  1.31890945e+01,  7.14759350e+00,\n",
    "        5.46145630e+00, -1.79730053e+01,  7.40563774e+00,  1.06135674e+01,\n",
    "       -1.55095673e+00, -2.66580944e+01,  6.51995277e+00, -2.37151980e+00,\n",
    "        3.51896515e+01,  1.50027342e+01,  1.80733763e-02, -1.75052185e+01,\n",
    "        9.60706902e+00, -6.06413984e+00,  5.35433817e+00, -7.88707399e+00,\n",
    "        1.27363043e+01,  1.02446747e+01]), dtype=tf.float32)\n",
    "\n",
    "trained_gen_weights = np.array([  0.83756703,  -8.85081   ,   5.5571547 ,   6.2937136 ,\n",
    "       -11.173263  ,  -5.2586904 ,  15.195034  ,  -2.752592  ,\n",
    "        -2.758591  , -11.47981   ,  -5.061309  ,   3.2534666 ,\n",
    "        -5.6829824 , -22.536098  ,   9.015973  ,   0.5836532 ,\n",
    "         2.1221178 ,   5.4982877 ,  13.235283  ,   3.4571006 ,\n",
    "        -0.6003567 ,  -5.9493637 ,  -8.738516  ,   0.4041    ,\n",
    "         6.9204884 ,  -6.442905  ,  -9.274843  ,  -3.695387  ,\n",
    "        10.760881  ,   2.24611   ,   0.5289249 ,  14.787433  ,\n",
    "       -11.227607])\n",
    "\n",
    "gen_symbols = gs + (ls,)\n",
    "real_symbols = ('r0', 'r1', 'r2')"
   ]
  },
  {
   "cell_type": "code",
   "execution_count": 22,
   "metadata": {},
   "outputs": [],
   "source": [
    "gen_evaluator = CircuitEvaluator(pure_gen, gen_symbols)\n",
    "real_evaluator = CircuitEvaluator(pure_real, real_symbols)"
   ]
  },
  {
   "cell_type": "code",
   "execution_count": 23,
   "metadata": {},
   "outputs": [
    {
     "name": "stdout",
     "output_type": "stream",
     "text": [
      "Max probability state after tracing has probability: 0.981857419013977\n"
     ]
    },
    {
     "data": {
      "text/plain": [
       "(array([-0.0923465 +0.0000000e+00j, -0.07581477-4.6684846e-01j,\n",
       "         0.08082028-1.9660823e-01j,  0.20732668+6.3416529e-01j,\n",
       "         0.01657245+1.6675850e-02j, -0.07306691+1.8806756e-01j,\n",
       "         0.14650305-2.5829076e-04j, -0.3853701 +2.5730491e-01j],\n",
       "       dtype=complex64),\n",
       " array([ 0.60355335+0.j        ,  0.        -0.60355335j,\n",
       "         0.        -0.24999999j, -0.24999999+0.j        ,\n",
       "         0.        -0.24999999j, -0.24999999+0.j        ,\n",
       "        -0.10355338+0.j        ,  0.        +0.10355338j], dtype=complex64),\n",
       " 0.09694529183463008)"
      ]
     },
     "execution_count": 23,
     "metadata": {},
     "output_type": "execute_result"
    }
   ],
   "source": [
    "g = 1\n",
    "get_states_and_fidelty_for_real(gen_evaluator, real_evaluator, g, data_bus_size)"
   ]
  },
  {
   "cell_type": "code",
   "execution_count": null,
   "metadata": {},
   "outputs": [],
   "source": [
    "g = 1\n",
    "gen_evaluator.get_state_from_params(get_gen_for_g(g, trained_gen_weights), list(range(size)))"
   ]
  },
  {
   "cell_type": "code",
   "execution_count": 114,
   "metadata": {},
   "outputs": [
    {
     "data": {
      "text/plain": [
       "array([-0.41380294,  0.33104236,  0.33104236,  0.33104236,  0.33104236,\n",
       "        0.33104236,  0.33104236, -0.41380294])"
      ]
     },
     "execution_count": 114,
     "metadata": {},
     "output_type": "execute_result"
    }
   ],
   "source": [
    "get_ground_state_for_g(g, size)"
   ]
  },
  {
   "cell_type": "code",
   "execution_count": 123,
   "metadata": {},
   "outputs": [],
   "source": [
    "x_resolver = cirq.ParamResolver({'r0': get_theta_v(g), 'r1': get_theta_w(g), 'r2': get_theta_r(g)})\n",
    "x_resolved = cirq.resolve_parameters(pure_real, x_resolver)"
   ]
  },
  {
   "cell_type": "code",
   "execution_count": 116,
   "metadata": {},
   "outputs": [
    {
     "data": {
      "text/plain": [
       "array([ 0.2542495 +0.j        ,  0.        -0.2842596j ,\n",
       "        0.        -0.56851923j, -0.63562375+0.j        ,\n",
       "        0.        -0.09711468j, -0.10857751+0.j        ,\n",
       "       -0.21715502+0.j        ,  0.        +0.24278669j], dtype=complex64)"
      ]
     },
     "execution_count": 116,
     "metadata": {},
     "output_type": "execute_result"
    }
   ],
   "source": [
    " cirq.final_state_vector(x_resolved)"
   ]
  },
  {
   "cell_type": "code",
   "execution_count": 124,
   "metadata": {},
   "outputs": [
    {
     "data": {
      "text/plain": [
       "array([ 0.56851923+0.j        ,  0.        -0.63562375j,\n",
       "        0.        -0.2542495j , -0.2842596 +0.j        ,\n",
       "        0.        -0.21715502j, -0.24278669+0.j        ,\n",
       "       -0.09711468+0.j        ,  0.        +0.10857751j], dtype=complex64)"
      ]
     },
     "execution_count": 124,
     "metadata": {},
     "output_type": "execute_result"
    }
   ],
   "source": [
    " cirq.final_state_vector(x_resolved)"
   ]
  },
  {
   "cell_type": "code",
   "execution_count": 125,
   "metadata": {
    "pycharm": {
     "name": "#%%\n"
    }
   },
   "outputs": [
    {
     "data": {
      "text/plain": [
       "1.5313699304113815"
      ]
     },
     "execution_count": 125,
     "metadata": {},
     "output_type": "execute_result"
    }
   ],
   "source": [
    "np.arccos(cirq.fidelity(highest_prob_state, get_ground_state_for_g(g,size)))"
   ]
  },
  {
   "cell_type": "code",
   "execution_count": 126,
   "metadata": {
    "pycharm": {
     "name": "#%%\n"
    }
   },
   "outputs": [
    {
     "data": {
      "text/plain": [
       "0.07673630335638393"
      ]
     },
     "execution_count": 126,
     "metadata": {},
     "output_type": "execute_result"
    }
   ],
   "source": [
    "cirq.fidelity(highest_prob_state, cirq.final_state_vector(x_resolved))"
   ]
  }
 ],
 "metadata": {
  "kernelspec": {
   "display_name": "Python 3",
   "language": "python",
   "name": "python3"
  },
  "language_info": {
   "codemirror_mode": {
    "name": "ipython",
    "version": 3
   },
   "file_extension": ".py",
   "mimetype": "text/x-python",
   "name": "python",
   "nbconvert_exporter": "python",
   "pygments_lexer": "ipython3",
   "version": "3.8.6"
  }
 },
 "nbformat": 4,
 "nbformat_minor": 1
}
