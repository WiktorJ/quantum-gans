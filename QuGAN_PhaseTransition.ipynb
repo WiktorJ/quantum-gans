{
 "cells": [
  {
   "cell_type": "code",
   "execution_count": null,
   "metadata": {
    "scrolled": true
   },
   "outputs": [],
   "source": [
    "# For colab\n",
    "!pip uninstall tensorflow -y\n",
    "!pip install tensorflow==2.3.1 tensorflow-quantum\n",
    "!rm -rf quantum-gans\n",
    "!git clone https://github.com/WiktorJ/quantum-gans\n",
    "!cd quantum-gans; pip install ."
   ]
  },
  {
   "cell_type": "code",
   "execution_count": 1,
   "metadata": {},
   "outputs": [],
   "source": [
    "from typing import Any\n",
    "\n",
    "import sympy\n",
    "import math\n",
    "import tensorflow as tf\n",
    "import tensorflow_quantum as tfq\n",
    "\n",
    "import cirq\n",
    "import numpy as np\n",
    "from cirq import GridQubit, ops\n",
    "from qsgenerator.qugans import circuits\n",
    "from qsgenerator.qugans.training import Trainer, CustomSchedule\n",
    "from qsgenerator.phase.circuits import build_ground_state_circuit\n",
    "from qsgenerator.phase.analitical import construct_hamiltonian, get_theta_v, get_theta_w, get_theta_r"
   ]
  },
  {
   "cell_type": "code",
   "execution_count": 2,
   "metadata": {},
   "outputs": [],
   "source": [
    "generator_layers = 2\n",
    "discriminator_layers = 2\n",
    "data_bus_size = 3"
   ]
  },
  {
   "cell_type": "code",
   "execution_count": 3,
   "metadata": {},
   "outputs": [],
   "source": [
    "gen, gs, disc, ds, ls, data_qubits, out_qubit = circuits.build_gan_circuits(generator_layers, discriminator_layers, data_bus_size)"
   ]
  },
  {
   "cell_type": "code",
   "execution_count": 4,
   "metadata": {},
   "outputs": [],
   "source": [
    "real, real_symbols = build_ground_state_circuit(qubits=data_qubits)"
   ]
  },
  {
   "cell_type": "code",
   "execution_count": 5,
   "metadata": {},
   "outputs": [],
   "source": [
    "pure_gen = gen.copy()\n",
    "gen.append([disc])"
   ]
  },
  {
   "cell_type": "code",
   "execution_count": 6,
   "metadata": {},
   "outputs": [],
   "source": [
    "pure_real = real.copy()\n",
    "real.append([disc])"
   ]
  },
  {
   "cell_type": "code",
   "execution_count": 7,
   "metadata": {
    "scrolled": true
   },
   "outputs": [
    {
     "name": "stdout",
     "output_type": "stream",
     "text": [
      "REAL GROUND STATE:  (0, 0): ───H───@─────────────────────────────────────────────────────────────────────────────────────────────────────────────────────────────────────────────────────────────────────────────────────────────────────────────────────────────────────────────────────────────────────\n",
      "               │\n",
      "(0, 1): ───────┼─────────────────────────────────────────────────────────────────────────────────────────────────────────────────────────────────────────────────────────────────────────────────────Ry(theta_w)───X───X───Ry(theta_w)───X───Ry(theta_v)───X───X───Ry(theta_v)───X───\n",
      "               │                                                                                                                                                                                                   │                                       │\n",
      "(0, 2): ───────X───Z───Ry(theta_r)───X─────────────@───X───────────────────────────────────@───X───────────────────────────────────────────────────────────────────────────────────────────────────────────────────┼───────────────────────────────────────┼─────────────────────────\n",
      "                                                   │                                       │                                                                                                                       │                                       │\n",
      "(0, 3): ─────────────────────────────Ry(theta_w)───X───X───Ry(theta_w)───X───Ry(theta_v)───X───X───Ry(theta_v)───X───X─────────────@───X───────────────────────────────────@───X───────────────────────────────────┼───────────────────────────────────────┼─────────────────────────\n",
      "                                                                                                                                   │                                       │                                       │                                       │\n",
      "(0, 4): ─────────────────────────────────────────────────────────────────────────────────────────────────────────────Ry(theta_w)───X───X───Ry(theta_w)───X───Ry(theta_v)───X───X───Ry(theta_v)───X───X─────────────@───X───────────────────────────────────@───X─────────────────────\n"
     ]
    }
   ],
   "source": [
    "print(\"REAL GROUND STATE: \", pure_real)"
   ]
  },
  {
   "cell_type": "code",
   "execution_count": 8,
   "metadata": {},
   "outputs": [
    {
     "name": "stdout",
     "output_type": "stream",
     "text": [
      "GENERATOR: (0, 2): ───Rx(g0)───Rz(g4)───ZZ────────────────────────Rx(g11)───Rz(g15)───ZZ──────────────────────────\n",
      "                             │                                             │\n",
      "(0, 3): ───Rx(g1)───Rz(g5)───ZZ^g8────────────ZZ───────Rx(g12)───Rz(g16)───ZZ^g19─────────────ZZ───────\n",
      "                                              │                                               │\n",
      "(0, 4): ───Rx(g2)───Rz(g6)────────────ZZ──────ZZ^g10───Rx(g13)───Rz(g17)─────────────ZZ───────ZZ^g21───\n",
      "                                      │                                              │\n",
      "(0, 5): ───Rz(l)────Rx(g3)───Rz(g7)───ZZ^g9────────────Rz(l)─────Rx(g14)───Rz(g18)───ZZ^g20────────────\n"
     ]
    }
   ],
   "source": [
    "print(\"GENERATOR:\", pure_gen)"
   ]
  },
  {
   "cell_type": "code",
   "execution_count": 9,
   "metadata": {},
   "outputs": [
    {
     "name": "stdout",
     "output_type": "stream",
     "text": [
      "DISCRIMINATOR: (0, 0): ───Rx(d0)───Rz(d5)────────────ZZ────────────────Rx(d14)───Rz(d19)─────────────ZZ────────────────\n",
      "                                      │                                               │\n",
      "(0, 1): ───Rz(l)────Rx(d1)───Rz(d6)───ZZ^d10───ZZ───────Rz(l)─────Rx(d15)───Rz(d20)───ZZ^d24───ZZ───────\n",
      "                                               │                                               │\n",
      "(0, 2): ───Rx(d2)───Rz(d7)───ZZ────────────────ZZ^d12───Rx(d16)───Rz(d21)───ZZ─────────────────ZZ^d26───\n",
      "                             │                                              │\n",
      "(0, 3): ───Rx(d3)───Rz(d8)───ZZ^d11───ZZ────────────────Rx(d17)───Rz(d22)───ZZ^d25────ZZ────────────────\n",
      "                                      │                                               │\n",
      "(0, 4): ───Rx(d4)───Rz(d9)────────────ZZ^d13────────────Rx(d18)───Rz(d23)─────────────ZZ^d27────────────\n"
     ]
    }
   ],
   "source": [
    "print(\"DISCRIMINATOR:\", disc)"
   ]
  },
  {
   "cell_type": "code",
   "execution_count": 10,
   "metadata": {},
   "outputs": [],
   "source": [
    "np.random.seed(0)\n",
    "eps = 1e-2\n",
    "init_gen_weights = np.array([np.pi] + [0] * 21) + \\\n",
    "                   np.random.normal(scale=eps, size=(22,))\n",
    "init_disc_weights = np.random.normal(size=(28,))\n",
    "\n",
    "gen_weights = tf.Variable(init_gen_weights, dtype=tf.float32)\n",
    "disc_weights = tf.Variable(init_disc_weights, dtype=tf.float32)"
   ]
  },
  {
   "cell_type": "code",
   "execution_count": 11,
   "metadata": {
    "pycharm": {
     "name": "#%%\n"
    }
   },
   "outputs": [],
   "source": [
    "learning_rate = CustomSchedule()\n",
    "\n",
    "opt = tf.keras.optimizers.Adam(learning_rate, beta_1=0.9, beta_2=0.98, \n",
    "                                     epsilon=1e-9)"
   ]
  },
  {
   "cell_type": "code",
   "execution_count": 12,
   "metadata": {
    "pycharm": {
     "name": "#%%\n"
    }
   },
   "outputs": [],
   "source": [
    "g_provider = lambda: 0"
   ]
  },
  {
   "cell_type": "code",
   "execution_count": 13,
   "metadata": {},
   "outputs": [],
   "source": [
    "trainer = Trainer(g_provider, \n",
    "                  data_bus_size, \n",
    "                  disc, \n",
    "                  gen, \n",
    "                  real, \n",
    "                  out_qubit, \n",
    "                  ds, \n",
    "                  gs, \n",
    "                  real_symbols, \n",
    "                  ls,\n",
    "                  use_analytical_expectation=True)"
   ]
  },
  {
   "cell_type": "code",
   "execution_count": null,
   "metadata": {},
   "outputs": [
    {
     "name": "stdout",
     "output_type": "stream",
     "text": [
      "WARNING:tensorflow:From /Users/wiktorjurasz/Studies/thesis/venv/lib/python3.8/site-packages/tensorflow/python/util/deprecation.py:574: calling map_fn_v2 (from tensorflow.python.ops.map_fn) with dtype is deprecated and will be removed in a future version.\n",
      "Instructions for updating:\n",
      "Use fn_output_signature instead\n",
      "Epoch 0: cost = [[0.2982991]]\n",
      "Prob(real classified as real):  [[0.4976718]]\n",
      "Prob(fake classified as real):  [[0.7959709]]\n",
      "Epoch 0: cost = [[-0.7959709]]\n",
      "Prob(fake classified as real):  [[0.7959709]]\n",
      "Discriminator cost:  [[0.2982991]]\n",
      "Generator weights: <tf.Variable 'Variable:0' shape=(22,) dtype=float32, numpy=\n",
      "array([-10.1538925,  -5.8757625,  -5.8703175,   3.001207 , -13.019004 ,\n",
      "       -12.693356 ,   1.9784341, -13.137627 , -13.786987 , -13.515038 ,\n",
      "       -13.311686 , -12.854742 ,   2.3864002,   5.4604774,  -5.8757343,\n",
      "       -12.866825 , -13.503126 ,  -5.8818154,  -5.876974 ,  -5.8876247,\n",
      "       -13.543596 , -13.511531 ], dtype=float32)>\n",
      "Discriminator weights <tf.Variable 'Variable:0' shape=(28,) dtype=float32, numpy=\n",
      "array([  28.310925  ,   -1.3881841 ,   -0.61370814, -102.06886   ,\n",
      "        -83.644295  ,  -14.386199  ,   50.432297  ,   52.792294  ,\n",
      "         82.30965   ,  -98.54453   ,   94.65001   ,   32.676636  ,\n",
      "       -182.30988   ,   -9.827391  ,   65.02671   ,  -87.78245   ,\n",
      "        -11.168194  , -141.18117   ,  -74.06355   ,   68.69579   ,\n",
      "        -52.724545  ,    5.1640506 , -121.32793   ,   58.668365  ,\n",
      "        -86.73042   ,  -97.874054  ,  -80.13341   , -116.731384  ],\n",
      "      dtype=float32)>\n",
      "Epoch 1: cost = [[0.28368568]]\n",
      "Prob(real classified as real):  [[0.5373459]]\n",
      "Prob(fake classified as real):  [[0.8210316]]\n",
      "Epoch 1: cost = [[-0.8210318]]\n",
      "Prob(fake classified as real):  [[0.8210318]]\n",
      "Discriminator cost:  [[0.28368592]]\n",
      "Generator weights: <tf.Variable 'Variable:0' shape=(22,) dtype=float32, numpy=\n",
      "array([-17.83623  , -15.515672 , -19.685951 ,  -3.8542309, -25.790567 ,\n",
      "       -22.026443 ,  -3.5223122, -19.894533 , -29.555511 , -24.488813 ,\n",
      "       -25.501995 , -25.03517  ,  -5.675414 ,   7.8992586, -14.246485 ,\n",
      "       -28.398386 , -26.576248 , -10.180215 ,  -8.423521 , -18.114517 ,\n",
      "       -23.222612 , -20.551575 ], dtype=float32)>\n",
      "Discriminator weights <tf.Variable 'Variable:0' shape=(28,) dtype=float32, numpy=\n",
      "array([  33.573586,  163.7453  ,  -35.720543, -174.60762 ,  -72.68879 ,\n",
      "         78.872734,   27.020388,  138.36763 ,   96.55375 ,  -71.36367 ,\n",
      "         69.26748 ,   33.40376 , -296.46277 ,   34.123062,   22.399578,\n",
      "       -247.70142 , -236.54886 , -223.10394 ,  -61.735554,   33.05516 ,\n",
      "        -77.880424, -128.19987 ,  -90.762535,   13.025201,  -74.52341 ,\n",
      "        -81.71777 ,  -86.38138 ,  -90.04027 ], dtype=float32)>\n"
     ]
    }
   ],
   "source": [
    "epochs = 50\n",
    "disc_iteration = 100\n",
    "gen_iteration = 2\n",
    "trainer.train(disc_weights,\n",
    "      gen_weights, \n",
    "      opt, \n",
    "      epochs=epochs, \n",
    "      disc_iteration=disc_iteration, \n",
    "      gen_iteration=gen_iteration)"
   ]
  },
  {
   "cell_type": "code",
   "execution_count": null,
   "metadata": {
    "pycharm": {
     "name": "#%%\n"
    }
   },
   "outputs": [],
   "source": [
    "g = 0\n",
    "ground_state = get_ground_state_for_g(g)\n",
    "rad = map_to_radians(g)\n",
    "\n",
    "trained_disc_weights = tf.Variable(np.array([-245.17047   ,  -95.07969   , -342.84647   , -422.7227    ,\n",
    "       -183.86722   , -279.45145   , -208.48354   , -126.94892   ,\n",
    "         99.149605  , -276.1524    ,  -82.480415  , -197.35036   ,\n",
    "       -115.24699   , -111.50772   , -238.86653   , -150.12883   ,\n",
    "       -271.65726   , -414.5756    , -183.14653   ,   97.29306   ,\n",
    "       -120.5858    ,   -4.429718  ,  127.67174   ,  118.280525  ,\n",
    "        305.74625   ,   -0.44963428,   17.841654  ,   93.42311   ]), dtype=tf.float32)\n",
    "\n",
    "trained_gen_weights = tf.Variable(np.array([-44.918114 , -33.19301  , -65.66357  ,   7.7173038, -21.041788 ,\n",
    "       -65.616486 , -47.297474 ,  62.851395 , -18.168066 , -21.922869 ,\n",
    "        52.146767 , -70.66162  , -11.20047  ,  13.477829 , -24.01582  ,\n",
    "        82.88633  , -82.02305  , -73.62559  ,  11.767767 ,  -3.0552819,\n",
    "       -37.224037 ,  -1.1020341, rad]), dtype=tf.float32)\n",
    "\n",
    "\n",
    "state_vector = tfq.layers.State()(pure_gen, symbol_names=gs + (ls,), symbol_values=tf.reshape(trained_gen_weights, (1, trained_gen_weights.shape[0]))).values.numpy()#%%\n",
    "\n",
    "traced_out_state = cirq.wavefunction_partial_trace_as_mixture(state_vector, [0,1,2])"
   ]
  },
  {
   "cell_type": "code",
   "execution_count": null,
   "metadata": {
    "pycharm": {
     "name": "#%%\n"
    }
   },
   "outputs": [],
   "source": [
    "prob, highest_prob_state = max(traced_out_state)\n",
    "print(f\"Max prob state has prob: {prob}\")"
   ]
  },
  {
   "cell_type": "code",
   "execution_count": null,
   "metadata": {
    "pycharm": {
     "name": "#%%\n"
    }
   },
   "outputs": [],
   "source": [
    "np.arccos(cirq.fidelity(highest_prob_state, get_ground_state_for_g(1)))"
   ]
  },
  {
   "cell_type": "code",
   "execution_count": null,
   "metadata": {
    "pycharm": {
     "name": "#%%\n"
    }
   },
   "outputs": [],
   "source": [
    "cirq.fidelity(highest_prob_state, get_ground_state_for_g(1))"
   ]
  }
 ],
 "metadata": {
  "kernelspec": {
   "display_name": "Python 3",
   "language": "python",
   "name": "python3"
  },
  "language_info": {
   "codemirror_mode": {
    "name": "ipython",
    "version": 3
   },
   "file_extension": ".py",
   "mimetype": "text/x-python",
   "name": "python",
   "nbconvert_exporter": "python",
   "pygments_lexer": "ipython3",
   "version": "3.8.6"
  }
 },
 "nbformat": 4,
 "nbformat_minor": 1
}
