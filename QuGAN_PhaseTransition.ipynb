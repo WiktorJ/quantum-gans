{
 "cells": [
  {
   "cell_type": "code",
   "execution_count": null,
   "metadata": {
    "scrolled": true
   },
   "outputs": [],
   "source": [
    "# For colab\n",
    "!pip uninstall tensorflow -y\n",
    "!pip install tensorflow==2.3.1 tensorflow-quantum\n",
    "!rm -rf quantum-gans\n",
    "!git clone https://github.com/WiktorJ/quantum-gans\n",
    "!cd quantum-gans; pip install ."
   ]
  },
  {
   "cell_type": "code",
   "execution_count": null,
   "metadata": {},
   "outputs": [],
   "source": [
    "import math\n",
    "import random\n",
    "import tensorflow as tf\n",
    "import tensorflow_quantum as tfq\n",
    "\n",
    "import cirq\n",
    "import numpy as np\n",
    "from qsgenerator.utils import map_to_radians\n",
    "from qsgenerator.qugans import circuits\n",
    "from qsgenerator.qugans.training import Trainer\n",
    "from qsgenerator.phase.circuits import build_ground_state_circuit\n",
    "from qsgenerator.phase.analitical import  get_ground_state_for_g\n",
    "from qsgenerator.states.simple_state_circuits import build_x_rotation_state"
   ]
  },
  {
   "cell_type": "code",
   "execution_count": null,
   "metadata": {},
   "outputs": [],
   "source": [
    "generator_layers = 2\n",
    "discriminator_layers = 5\n",
    "data_bus_size = 3"
   ]
  },
  {
   "cell_type": "code",
   "execution_count": null,
   "metadata": {},
   "outputs": [],
   "source": [
    "gen, gs, disc, ds, ls, data_qubits, out_qubit = circuits.build_gan_circuits(generator_layers, discriminator_layers, data_bus_size)"
   ]
  },
  {
   "cell_type": "code",
   "execution_count": null,
   "metadata": {},
   "outputs": [],
   "source": [
    "real, real_symbols = build_ground_state_circuit(qubits=data_qubits)"
   ]
  },
  {
   "cell_type": "code",
   "execution_count": null,
   "metadata": {},
   "outputs": [],
   "source": [
    "real, real_symbols = build_x_rotation_state(qubits=data_qubits)"
   ]
  },
  {
   "cell_type": "code",
   "execution_count": null,
   "metadata": {},
   "outputs": [],
   "source": [
    "pure_gen = gen.copy()\n",
    "gen.append([disc])"
   ]
  },
  {
   "cell_type": "code",
   "execution_count": null,
   "metadata": {},
   "outputs": [],
   "source": [
    "pure_real = real.copy()\n",
    "real.append([disc])"
   ]
  },
  {
   "cell_type": "code",
   "execution_count": null,
   "metadata": {
    "scrolled": true
   },
   "outputs": [],
   "source": [
    "print(\"REAL GROUND STATE\")\n",
    "print(pure_real)"
   ]
  },
  {
   "cell_type": "code",
   "execution_count": null,
   "metadata": {},
   "outputs": [],
   "source": [
    "print(\"GENERATOR\")\n",
    "print(pure_gen)"
   ]
  },
  {
   "cell_type": "code",
   "execution_count": null,
   "metadata": {},
   "outputs": [],
   "source": [
    "print(\"DISCRIMINATOR\")\n",
    "print(disc)"
   ]
  },
  {
   "cell_type": "code",
   "execution_count": null,
   "metadata": {},
   "outputs": [],
   "source": [
    "np.random.seed(0)\n",
    "eps = 1e-2\n",
    "init_gen_weights = np.array([0] * len(gs)) + \\\n",
    "                   np.random.normal(scale=eps, size=(len(gs),))\n",
    "init_disc_weights = np.random.normal(size=(len(ds),))\n",
    "\n",
    "gen_weights = tf.Variable(init_gen_weights, dtype=tf.float32)\n",
    "disc_weights = tf.Variable(init_disc_weights, dtype=tf.float32)"
   ]
  },
  {
   "cell_type": "code",
   "execution_count": null,
   "metadata": {},
   "outputs": [],
   "source": [
    "class CustomScheduler(tf.keras.optimizers.schedules.LearningRateSchedule):\n",
    "    def __init__(self, warmup_steps=4000):\n",
    "        super(CustomScheduler, self).__init__()\n",
    "        self.warmup_steps = warmup_steps\n",
    "\n",
    "    def __call__(self, step):\n",
    "        return max(math.e ** - ((step+200) / (self.warmup_steps / math.log(100))), 0.01)"
   ]
  },
  {
   "cell_type": "code",
   "execution_count": null,
   "metadata": {
    "pycharm": {
     "name": "#%%\n"
    }
   },
   "outputs": [],
   "source": [
    "learning_rate = CustomScheduler()\n",
    "\n",
    "opt = tf.keras.optimizers.Adam(learning_rate, beta_1=0.9, beta_2=0.98, \n",
    "                                     epsilon=1e-9)"
   ]
  },
  {
   "cell_type": "code",
   "execution_count": null,
   "metadata": {
    "pycharm": {
     "name": "#%%\n"
    }
   },
   "outputs": [],
   "source": [
    "g_provider = lambda: random.choice([-1, 0])"
   ]
  },
  {
   "cell_type": "code",
   "execution_count": null,
   "metadata": {},
   "outputs": [],
   "source": [
    "trainer = Trainer(g_provider, \n",
    "                  data_bus_size, \n",
    "                  disc, \n",
    "                  gen, \n",
    "                  real, \n",
    "                  out_qubit, \n",
    "                  ds, \n",
    "                  gs, \n",
    "                  real_symbols, \n",
    "                  ls,\n",
    "                  use_analytical_expectation=True)"
   ]
  },
  {
   "cell_type": "code",
   "execution_count": null,
   "metadata": {},
   "outputs": [],
   "source": [
    "epochs = 101\n",
    "disc_iteration = 100\n",
    "gen_iteration = 10\n",
    "print_interval_epoch = 10\n",
    "trainer.train(disc_weights,\n",
    "      gen_weights, \n",
    "      opt, \n",
    "      epochs=epochs, \n",
    "      disc_iteration=disc_iteration, \n",
    "      gen_iteration=gen_iteration,\n",
    "      print_interval_epoch=print_interval_epoch)"
   ]
  },
  {
   "cell_type": "code",
   "execution_count": null,
   "metadata": {
    "pycharm": {
     "name": "#%%\n"
    }
   },
   "outputs": [],
   "source": [
    "g = 0\n",
    "size = 3\n",
    "ground_state = get_ground_state_for_g(g, size)\n",
    "rad = map_to_radians(g)\n",
    "\n",
    "\n",
    "trained_disc_weights = tf.Variable(np.array([ 2.86846906e-01,  2.07442139e+02, -1.32505005e+02,  3.37965851e+02,\n",
    "        1.44702286e+02,  1.67083755e+02,  3.51270142e+02,  4.46218109e+02,\n",
    "        4.07063354e+02,  1.02569595e+02,  1.62362915e+02,  1.63151154e+02,\n",
    "        2.18758965e+01, -8.55859451e+01,  1.11934540e+02, -2.94222107e+01,\n",
    "       -2.17204269e+02,  1.34002686e+02, -1.02429161e+02,  3.34117676e+02,\n",
    "        1.70663238e-01, -7.37496872e+01,  2.35848450e+02,  5.64170044e+02,\n",
    "        1.03939911e+02,  1.88091278e+02,  2.74167786e+02,  2.02242035e+02]), dtype=tf.float32)\n",
    "\n",
    "trained_gen_weights = tf.Variable(np.array([-29.708769 ,  34.885185 ,  47.25734  ,  41.711372 ,  35.44219  ,\n",
    "        29.7916   , -32.132847 ,   5.453004 ,  94.73532  , -58.75811  ,\n",
    "       -13.691349 ,  -6.0567594, -25.313757 , -76.478004 , -57.434578 ,\n",
    "       -71.249245 , -48.34288  ,  10.728431 ,  41.8393   , -22.886314 ,\n",
    "        -6.871363 , -16.005516, rad]), dtype=tf.float32)\n",
    "\n",
    "\n",
    "\n",
    "\n",
    "state_vector = tfq.layers.State()(pure_gen, symbol_names=gs + (ls,), symbol_values=tf.reshape(trained_gen_weights, (1, trained_gen_weights.shape[0]))).values.numpy()#%%\n",
    "\n",
    "traced_out_state = cirq.partial_trace_of_state_vector_as_mixture(state_vector, [0,1,2])"
   ]
  },
  {
   "cell_type": "code",
   "execution_count": null,
   "metadata": {
    "pycharm": {
     "name": "#%%\n"
    }
   },
   "outputs": [],
   "source": [
    "prob, highest_prob_state = max(traced_out_state)\n",
    "print(f\"Max prob state has prob: {prob}\")"
   ]
  },
  {
   "cell_type": "code",
   "execution_count": null,
   "metadata": {},
   "outputs": [],
   "source": [
    "highest_prob_state"
   ]
  },
  {
   "cell_type": "code",
   "execution_count": null,
   "metadata": {},
   "outputs": [],
   "source": [
    "get_ground_state_for_g(g, size)"
   ]
  },
  {
   "cell_type": "code",
   "execution_count": null,
   "metadata": {
    "pycharm": {
     "name": "#%%\n"
    }
   },
   "outputs": [],
   "source": [
    "np.arccos(cirq.fidelity(highest_prob_state, get_ground_state_for_g(g,size)))"
   ]
  },
  {
   "cell_type": "code",
   "execution_count": null,
   "metadata": {
    "pycharm": {
     "name": "#%%\n"
    }
   },
   "outputs": [],
   "source": [
    "cirq.fidelity(highest_prob_state, get_ground_state_for_g(g, size))"
   ]
  },
  {
   "cell_type": "code",
   "execution_count": null,
   "metadata": {},
   "outputs": [],
   "source": [
    "trained_disc_weights = tf.Variable(np.array([ 2.86846906e-01,  2.07442139e+02, -1.32505005e+02,  3.37965851e+02,\n",
    "        1.44702286e+02,  1.67083755e+02,  3.51270142e+02,  4.46218109e+02,\n",
    "        4.07063354e+02,  1.02569595e+02,  1.62362915e+02,  1.63151154e+02,\n",
    "        2.18758965e+01, -8.55859451e+01,  1.11934540e+02, -2.94222107e+01,\n",
    "       -2.17204269e+02,  1.34002686e+02, -1.02429161e+02,  3.34117676e+02,\n",
    "        1.70663238e-01, -7.37496872e+01,  2.35848450e+02,  5.64170044e+02,\n",
    "        1.03939911e+02,  1.88091278e+02,  2.74167786e+02,  2.02242035e+02]), dtype=tf.float32)\n",
    "\n",
    "trained_disc_weights = tf.Variable(np.array([ \n",
    "        2.86846906e-01, 0, 0, 0, 0,  \n",
    "        1.67083755e+02,  3.51270142,  4.46218109, 4.07063354,  1.02569595,  \n",
    "        -1.362915,  1.63151154, 2.18758965, -8.55859451,  \n",
    "        1.11934540e+02, -2.9422210, -2.1720426,  134.34002686, -1.0242916,  \n",
    "        3.34117676e+02, 231.7066323, -7.3749687,  -2.3584845,  5.64170044, \n",
    "        -11.03939911e+02, -1.88091278,  0,  2.0224203]), dtype=tf.float32)\n",
    "\n",
    "trained_gen_weights = tf.Variable(np.array([ 0.01764052,  0.00400157,  0.00978738,  0.02240893,  0.01867558,\n",
    "       -0.00977278,  0.00950088, -0.00151357, -0.00103219,  0.00410599,\n",
    "        0.00144044,  0.01454274,  0.00761038,  0.00121675,  0.00443863,\n",
    "        0.00333674,  0.01494079, -0.00205158,  0.00313068, -0.00854096,\n",
    "       -0.0255299 ,  0.00653619]), dtype=tf.float32)"
   ]
  }
 ],
 "metadata": {
  "kernelspec": {
   "display_name": "Python 3",
   "language": "python",
   "name": "python3"
  },
  "language_info": {
   "codemirror_mode": {
    "name": "ipython",
    "version": 3
   },
   "file_extension": ".py",
   "mimetype": "text/x-python",
   "name": "python",
   "nbconvert_exporter": "python",
   "pygments_lexer": "ipython3",
   "version": "3.8.6"
  }
 },
 "nbformat": 4,
 "nbformat_minor": 1
}
