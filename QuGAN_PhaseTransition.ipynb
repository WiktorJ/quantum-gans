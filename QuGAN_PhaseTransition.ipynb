{
 "cells": [
  {
   "cell_type": "code",
   "execution_count": null,
   "metadata": {
    "scrolled": true
   },
   "outputs": [],
   "source": [
    "# For colab\n",
    "!pip uninstall tensorflow -y\n",
    "!pip install tensorflow==2.3.1 tensorflow-quantum\n",
    "!rm -rf quantum-gans\n",
    "!git clone https://github.com/WiktorJ/quantum-gans\n",
    "!cd quantum-gans; pip install ."
   ]
  },
  {
   "cell_type": "code",
   "execution_count": 24,
   "metadata": {},
   "outputs": [],
   "source": [
    "from typing import Any\n",
    "\n",
    "import sympy\n",
    "import math\n",
    "import tensorflow as tf\n",
    "import tensorflow_quantum as tfq\n",
    "\n",
    "import cirq\n",
    "import numpy as np\n",
    "from cirq import GridQubit, ops\n",
    "from qsgenerator.utils import map_to_radians\n",
    "from qsgenerator.qugans import circuits\n",
    "from qsgenerator.qugans.training import Trainer, CustomSchedule\n",
    "from qsgenerator.phase.circuits import build_ground_state_circuit\n",
    "from qsgenerator.phase.analitical import construct_hamiltonian, get_ground_state_for_g, get_theta_v, get_theta_w, get_theta_r"
   ]
  },
  {
   "cell_type": "code",
   "execution_count": 25,
   "metadata": {},
   "outputs": [],
   "source": [
    "generator_layers = 2\n",
    "discriminator_layers = 2\n",
    "data_bus_size = 3"
   ]
  },
  {
   "cell_type": "code",
   "execution_count": 26,
   "metadata": {},
   "outputs": [],
   "source": [
    "gen, gs, disc, ds, ls, data_qubits, out_qubit = circuits.build_gan_circuits(generator_layers, discriminator_layers, data_bus_size)"
   ]
  },
  {
   "cell_type": "code",
   "execution_count": 27,
   "metadata": {},
   "outputs": [],
   "source": [
    "real, real_symbols = build_ground_state_circuit(qubits=data_qubits)"
   ]
  },
  {
   "cell_type": "code",
   "execution_count": 28,
   "metadata": {},
   "outputs": [],
   "source": [
    "pure_gen = gen.copy()\n",
    "gen.append([disc])"
   ]
  },
  {
   "cell_type": "code",
   "execution_count": 29,
   "metadata": {},
   "outputs": [],
   "source": [
    "pure_real = real.copy()\n",
    "real.append([disc])"
   ]
  },
  {
   "cell_type": "code",
   "execution_count": 30,
   "metadata": {
    "scrolled": true
   },
   "outputs": [
    {
     "name": "stdout",
     "output_type": "stream",
     "text": [
      "REAL GROUND STATE\n",
      "(0, 2): ───────X───Z───Ry(theta_r)───X─────────────@───X───────────────────────────────────@───X─────────────────────────────────────────────────────────────────────────────────────────────────────────────────────────────────────────────────────────────────────────────────────\n",
      "               │                                   │                                       │\n",
      "(0, 3): ───────┼─────────────────────Ry(theta_w)───X───X───Ry(theta_w)───X───Ry(theta_v)───X───X───Ry(theta_v)───X───X─────────────@───X───────────────────────────────────@───X─────────────────────────────────────────────────────────────────────────────────────────────────────\n",
      "               │                                                                                                                   │                                       │\n",
      "(0, 4): ───────┼─────────────────────────────────────────────────────────────────────────────────────────────────────Ry(theta_w)───X───X───Ry(theta_w)───X───Ry(theta_v)───X───X───Ry(theta_v)───X───X─────────────@───X───────────────────────────────────@───X─────────────────────\n",
      "               │                                                                                                                                                                                                   │                                       │\n",
      "(1, 2): ───H───@───────────────────────────────────────────────────────────────────────────────────────────────────────────────────────────────────────────────────────────────────────────────────────────────────┼───────────────────────────────────────┼─────────────────────────\n",
      "                                                                                                                                                                                                                   │                                       │\n",
      "(1, 4): ─────────────────────────────────────────────────────────────────────────────────────────────────────────────────────────────────────────────────────────────────────────────────────────────Ry(theta_w)───X───X───Ry(theta_w)───X───Ry(theta_v)───X───X───Ry(theta_v)───X───\n"
     ]
    }
   ],
   "source": [
    "print(\"REAL GROUND STATE\")\n",
    "print(pure_real)"
   ]
  },
  {
   "cell_type": "code",
   "execution_count": 31,
   "metadata": {},
   "outputs": [
    {
     "name": "stdout",
     "output_type": "stream",
     "text": [
      "GENERATOR\n",
      "(0, 2): ───Rx(g0)───Rz(g4)───ZZ────────────────────────Rx(g11)───Rz(g15)───ZZ────────────────\n",
      "                             │                                             │\n",
      "(0, 3): ───Rx(g1)───Rz(g5)───ZZ^g8────────────ZZ───────Rx(g12)───Rz(g16)───ZZ^g19───ZZ───────\n",
      "                                              │                                     │\n",
      "(0, 4): ───Rx(g2)───Rz(g6)────────────ZZ──────ZZ^g10───Rx(g13)───Rz(g17)───ZZ───────ZZ^g21───\n",
      "                                      │                                    │\n",
      "(0, 5): ───Rz(l)────Rx(g3)───Rz(g7)───ZZ^g9────────────Rx(g14)───Rz(g18)───ZZ^g20────────────\n"
     ]
    }
   ],
   "source": [
    "print(\"GENERATOR\")\n",
    "print(pure_gen)"
   ]
  },
  {
   "cell_type": "code",
   "execution_count": 32,
   "metadata": {},
   "outputs": [
    {
     "name": "stdout",
     "output_type": "stream",
     "text": [
      "DISCRIMINATOR\n",
      "(0, 0): ───Rx(d0)───Rz(d5)────────────ZZ────────────────Rx(d14)───Rz(d19)───ZZ────────────────\n",
      "                                      │                                     │\n",
      "(0, 1): ───Rz(l)────Rx(d1)───Rz(d6)───ZZ^d10───ZZ───────Rx(d15)───Rz(d20)───ZZ^d24───ZZ───────\n",
      "                                               │                                     │\n",
      "(0, 2): ───Rx(d2)───Rz(d7)───ZZ────────────────ZZ^d12───Rx(d16)───Rz(d21)───ZZ───────ZZ^d26───\n",
      "                             │                                              │\n",
      "(0, 3): ───Rx(d3)───Rz(d8)───ZZ^d11───ZZ────────────────Rx(d17)───Rz(d22)───ZZ^d25───ZZ───────\n",
      "                                      │                                              │\n",
      "(0, 4): ───Rx(d4)───Rz(d9)────────────ZZ^d13────────────Rx(d18)───Rz(d23)────────────ZZ^d27───\n"
     ]
    }
   ],
   "source": [
    "print(\"DISCRIMINATOR\")\n",
    "print(disc)"
   ]
  },
  {
   "cell_type": "code",
   "execution_count": 33,
   "metadata": {},
   "outputs": [],
   "source": [
    "np.random.seed(0)\n",
    "eps = 1e-2\n",
    "init_gen_weights = np.array([0] * len(gs)) + \\\n",
    "                   np.random.normal(scale=eps, size=(len(gs),))\n",
    "init_disc_weights = np.random.normal(size=(len(ds),))\n",
    "\n",
    "gen_weights = tf.Variable(init_gen_weights, dtype=tf.float32)\n",
    "disc_weights = tf.Variable(init_disc_weights, dtype=tf.float32)"
   ]
  },
  {
   "cell_type": "code",
   "execution_count": 34,
   "metadata": {
    "pycharm": {
     "name": "#%%\n"
    }
   },
   "outputs": [],
   "source": [
    "learning_rate = CustomSchedule()\n",
    "\n",
    "opt = tf.keras.optimizers.Adam(learning_rate, beta_1=0.9, beta_2=0.98, \n",
    "                                     epsilon=1e-9)"
   ]
  },
  {
   "cell_type": "code",
   "execution_count": 35,
   "metadata": {
    "pycharm": {
     "name": "#%%\n"
    }
   },
   "outputs": [],
   "source": [
    "g_provider = lambda: 0"
   ]
  },
  {
   "cell_type": "code",
   "execution_count": 36,
   "metadata": {},
   "outputs": [],
   "source": [
    "trainer = Trainer(g_provider, \n",
    "                  data_bus_size, \n",
    "                  disc, \n",
    "                  gen, \n",
    "                  real, \n",
    "                  out_qubit, \n",
    "                  ds, \n",
    "                  gs, \n",
    "                  real_symbols, \n",
    "                  ls,\n",
    "                  use_analytical_expectation=True)"
   ]
  },
  {
   "cell_type": "code",
   "execution_count": null,
   "metadata": {},
   "outputs": [
    {
     "name": "stdout",
     "output_type": "stream",
     "text": [
      "WARNING:tensorflow:From /Users/wiktorjurasz/Studies/thesis/venv/lib/python3.8/site-packages/tensorflow/python/util/deprecation.py:574: calling map_fn_v2 (from tensorflow.python.ops.map_fn) with dtype is deprecated and will be removed in a future version.\n",
      "Instructions for updating:\n",
      "Use fn_output_signature instead\n",
      "Epoch 0: cost = [[0.2982991]]\n",
      "Prob(real classified as real):  [[0.4976718]]\n",
      "Prob(fake classified as real):  [[0.7959709]]\n",
      "Epoch 0: cost = [[-0.7959709]]\n",
      "Prob(fake classified as real):  [[0.7959709]]\n",
      "Discriminator cost:  [[0.2982991]]\n",
      "Generator weights: <tf.Variable 'Variable:0' shape=(22,) dtype=float32, numpy=\n",
      "array([-10.1538925,  -5.8757625,  -5.8703175,   3.001207 , -13.019004 ,\n",
      "       -12.693356 ,   1.9784341, -13.137627 , -13.786987 , -13.515038 ,\n",
      "       -13.311686 , -12.854742 ,   2.3864002,   5.4604774,  -5.8757343,\n",
      "       -12.866825 , -13.503126 ,  -5.8818154,  -5.876974 ,  -5.8876247,\n",
      "       -13.543596 , -13.511531 ], dtype=float32)>\n",
      "Discriminator weights <tf.Variable 'Variable:0' shape=(28,) dtype=float32, numpy=\n",
      "array([  28.310925  ,   -1.3881841 ,   -0.61370814, -102.06886   ,\n",
      "        -83.644295  ,  -14.386199  ,   50.432297  ,   52.792294  ,\n",
      "         82.30965   ,  -98.54453   ,   94.65001   ,   32.676636  ,\n",
      "       -182.30988   ,   -9.827391  ,   65.02671   ,  -87.78245   ,\n",
      "        -11.168194  , -141.18117   ,  -74.06355   ,   68.69579   ,\n",
      "        -52.724545  ,    5.1640506 , -121.32793   ,   58.668365  ,\n",
      "        -86.73042   ,  -97.874054  ,  -80.13341   , -116.731384  ],\n",
      "      dtype=float32)>\n",
      "Epoch 1: cost = [[0.28368568]]\n",
      "Prob(real classified as real):  [[0.5373459]]\n",
      "Prob(fake classified as real):  [[0.8210316]]\n",
      "Epoch 1: cost = [[-0.8210318]]\n",
      "Prob(fake classified as real):  [[0.8210318]]\n",
      "Discriminator cost:  [[0.28368592]]\n",
      "Generator weights: <tf.Variable 'Variable:0' shape=(22,) dtype=float32, numpy=\n",
      "array([-17.83623  , -15.515672 , -19.685951 ,  -3.8542309, -25.790567 ,\n",
      "       -22.026443 ,  -3.5223122, -19.894533 , -29.555511 , -24.488813 ,\n",
      "       -25.501995 , -25.03517  ,  -5.675414 ,   7.8992586, -14.246485 ,\n",
      "       -28.398386 , -26.576248 , -10.180215 ,  -8.423521 , -18.114517 ,\n",
      "       -23.222612 , -20.551575 ], dtype=float32)>\n",
      "Discriminator weights <tf.Variable 'Variable:0' shape=(28,) dtype=float32, numpy=\n",
      "array([  33.573586,  163.7453  ,  -35.720543, -174.60762 ,  -72.68879 ,\n",
      "         78.872734,   27.020388,  138.36763 ,   96.55375 ,  -71.36367 ,\n",
      "         69.26748 ,   33.40376 , -296.46277 ,   34.123062,   22.399578,\n",
      "       -247.70142 , -236.54886 , -223.10394 ,  -61.735554,   33.05516 ,\n",
      "        -77.880424, -128.19987 ,  -90.762535,   13.025201,  -74.52341 ,\n",
      "        -81.71777 ,  -86.38138 ,  -90.04027 ], dtype=float32)>\n"
     ]
    }
   ],
   "source": [
    "epochs = 50\n",
    "disc_iteration = 100\n",
    "gen_iteration = 2\n",
    "trainer.train(disc_weights,\n",
    "      gen_weights, \n",
    "      opt, \n",
    "      epochs=epochs, \n",
    "      disc_iteration=disc_iteration, \n",
    "      gen_iteration=gen_iteration)"
   ]
  },
  {
   "cell_type": "code",
   "execution_count": 41,
   "metadata": {
    "pycharm": {
     "name": "#%%\n"
    }
   },
   "outputs": [],
   "source": [
    "g = 0\n",
    "size = 3\n",
    "ground_state = get_ground_state_for_g(g, size)\n",
    "rad = map_to_radians(g)\n",
    "\n",
    "\n",
    "trained_disc_weights = tf.Variable(np.array([ 2.86846906e-01,  2.07442139e+02, -1.32505005e+02,  3.37965851e+02,\n",
    "        1.44702286e+02,  1.67083755e+02,  3.51270142e+02,  4.46218109e+02,\n",
    "        4.07063354e+02,  1.02569595e+02,  1.62362915e+02,  1.63151154e+02,\n",
    "        2.18758965e+01, -8.55859451e+01,  1.11934540e+02, -2.94222107e+01,\n",
    "       -2.17204269e+02,  1.34002686e+02, -1.02429161e+02,  3.34117676e+02,\n",
    "        1.70663238e-01, -7.37496872e+01,  2.35848450e+02,  5.64170044e+02,\n",
    "        1.03939911e+02,  1.88091278e+02,  2.74167786e+02,  2.02242035e+02]), dtype=tf.float32)\n",
    "\n",
    "trained_gen_weights = tf.Variable(np.array([ -54.72766  , -152.1226   , -170.0641   ,  -49.894302 ,\n",
    "        -23.091322 ,  -33.009    ,  -37.506134 , -152.80588  ,\n",
    "       -110.990685 ,  -72.17331  , -101.36898  ,    3.7497063,\n",
    "        -75.12613  ,  -85.305084 , -182.64853  ,  -70.30415  ,\n",
    "       -133.69072  , -203.25133  , -193.7694   ,  -45.40937  ,\n",
    "        -32.63785  , -155.71288, rad]), dtype=tf.float32)\n",
    "\n",
    "\n",
    "\n",
    "\n",
    "state_vector = tfq.layers.State()(pure_gen, symbol_names=gs + (ls,), symbol_values=tf.reshape(trained_gen_weights, (1, trained_gen_weights.shape[0]))).values.numpy()#%%\n",
    "\n",
    "traced_out_state = cirq.partial_trace_of_state_vector_as_mixture(state_vector, [0,1,2])"
   ]
  },
  {
   "cell_type": "code",
   "execution_count": 13,
   "metadata": {
    "pycharm": {
     "name": "#%%\n"
    }
   },
   "outputs": [
    {
     "name": "stdout",
     "output_type": "stream",
     "text": [
      "Max prob state has prob: 0.9782552719116211\n"
     ]
    }
   ],
   "source": [
    "prob, highest_prob_state = max(traced_out_state)\n",
    "print(f\"Max prob state has prob: {prob}\")"
   ]
  },
  {
   "cell_type": "code",
   "execution_count": 14,
   "metadata": {},
   "outputs": [
    {
     "data": {
      "text/plain": [
       "array([-0.17060323+0.j        , -0.53335905-0.23701504j,\n",
       "        0.00803608+0.07157209j, -0.04239307+0.5933282j ,\n",
       "        0.09452149+0.03919996j,  0.243991  +0.25223273j,\n",
       "        0.01146544+0.0438571j ,  0.02175612+0.3675211j ], dtype=complex64)"
      ]
     },
     "execution_count": 14,
     "metadata": {},
     "output_type": "execute_result"
    }
   ],
   "source": [
    "highest_prob_state"
   ]
  },
  {
   "cell_type": "code",
   "execution_count": 15,
   "metadata": {},
   "outputs": [
    {
     "data": {
      "text/plain": [
       "array([1., 0., 0., 0., 0., 0., 0., 0.])"
      ]
     },
     "execution_count": 15,
     "metadata": {},
     "output_type": "execute_result"
    }
   ],
   "source": [
    "get_ground_state_for_g(g, size)"
   ]
  },
  {
   "cell_type": "code",
   "execution_count": 16,
   "metadata": {
    "pycharm": {
     "name": "#%%\n"
    }
   },
   "outputs": [
    {
     "data": {
      "text/plain": [
       "1.5416867535962475"
      ]
     },
     "execution_count": 16,
     "metadata": {},
     "output_type": "execute_result"
    }
   ],
   "source": [
    "np.arccos(cirq.fidelity(highest_prob_state, get_ground_state_for_g(g,size)))"
   ]
  },
  {
   "cell_type": "code",
   "execution_count": 17,
   "metadata": {
    "pycharm": {
     "name": "#%%\n"
    }
   },
   "outputs": [
    {
     "data": {
      "text/plain": [
       "0.029105462289651607"
      ]
     },
     "execution_count": 17,
     "metadata": {},
     "output_type": "execute_result"
    }
   ],
   "source": [
    "cirq.fidelity(highest_prob_state, get_ground_state_for_g(g, size))"
   ]
  },
  {
   "cell_type": "code",
   "execution_count": 166,
   "metadata": {},
   "outputs": [],
   "source": [
    "trained_disc_weights = tf.Variable(np.array([ 2.86846906e-01,  2.07442139e+02, -1.32505005e+02,  3.37965851e+02,\n",
    "        1.44702286e+02,  1.67083755e+02,  3.51270142e+02,  4.46218109e+02,\n",
    "        4.07063354e+02,  1.02569595e+02,  1.62362915e+02,  1.63151154e+02,\n",
    "        2.18758965e+01, -8.55859451e+01,  1.11934540e+02, -2.94222107e+01,\n",
    "       -2.17204269e+02,  1.34002686e+02, -1.02429161e+02,  3.34117676e+02,\n",
    "        1.70663238e-01, -7.37496872e+01,  2.35848450e+02,  5.64170044e+02,\n",
    "        1.03939911e+02,  1.88091278e+02,  2.74167786e+02,  2.02242035e+02]), dtype=tf.float32)\n",
    "\n",
    "trained_disc_weights = tf.Variable(np.array([ \n",
    "        2.86846906e-01, 0, 0, 0, 0,  \n",
    "        1.67083755e+02,  3.51270142,  4.46218109, 4.07063354,  1.02569595,  \n",
    "        -1.362915,  1.63151154, 2.18758965, -8.55859451,  \n",
    "        1.11934540e+02, -2.9422210, -2.1720426,  134.34002686, -1.0242916,  \n",
    "        3.34117676e+02, 231.7066323, -7.3749687,  -2.3584845,  5.64170044, \n",
    "        -11.03939911e+02, -1.88091278,  0,  2.0224203]), dtype=tf.float32)\n",
    "\n",
    "trained_gen_weights = tf.Variable(np.array([ 0.01764052,  0.00400157,  0.00978738,  0.02240893,  0.01867558,\n",
    "       -0.00977278,  0.00950088, -0.00151357, -0.00103219,  0.00410599,\n",
    "        0.00144044,  0.01454274,  0.00761038,  0.00121675,  0.00443863,\n",
    "        0.00333674,  0.01494079, -0.00205158,  0.00313068, -0.00854096,\n",
    "       -0.0255299 ,  0.00653619]), dtype=tf.float32)"
   ]
  },
  {
   "cell_type": "code",
   "execution_count": 167,
   "metadata": {},
   "outputs": [
    {
     "data": {
      "text/plain": [
       "<tf.Tensor: shape=(1, 1), dtype=float32, numpy=array([[0.60052913]], dtype=float32)>"
      ]
     },
     "execution_count": 167,
     "metadata": {},
     "output_type": "execute_result"
    }
   ],
   "source": [
    "trainer.real_disc_circuit_eval(trained_disc_weights)"
   ]
  },
  {
   "cell_type": "code",
   "execution_count": 137,
   "metadata": {},
   "outputs": [
    {
     "data": {
      "text/plain": [
       "<tf.Tensor: shape=(1, 1), dtype=float32, numpy=array([[0.6005291]], dtype=float32)>"
      ]
     },
     "execution_count": 137,
     "metadata": {},
     "output_type": "execute_result"
    }
   ],
   "source": [
    "trainer.gen_disc_circuit_eval(trained_gen_weights, trained_disc_weights)"
   ]
  }
 ],
 "metadata": {
  "kernelspec": {
   "display_name": "Python 3",
   "language": "python",
   "name": "python3"
  },
  "language_info": {
   "codemirror_mode": {
    "name": "ipython",
    "version": 3
   },
   "file_extension": ".py",
   "mimetype": "text/x-python",
   "name": "python",
   "nbconvert_exporter": "python",
   "pygments_lexer": "ipython3",
   "version": "3.8.6"
  }
 },
 "nbformat": 4,
 "nbformat_minor": 1
}
