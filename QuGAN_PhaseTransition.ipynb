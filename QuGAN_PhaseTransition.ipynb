{
 "cells": [
  {
   "cell_type": "code",
   "execution_count": null,
   "metadata": {
    "scrolled": true
   },
   "outputs": [],
   "source": [
    "if 'google.colab' in str(get_ipython()):\n",
    "    !pip uninstall tensorflow -y\n",
    "    !pip install tensorflow==2.3.1 tensorflow-quantum\n",
    "    !rm -rf quantum-gans\n",
    "    !git clone https://github.com/WiktorJ/quantum-gans\n",
    "    !cd quantum-gans; pip install ."
   ]
  },
  {
   "cell_type": "code",
   "execution_count": 13,
   "metadata": {},
   "outputs": [
    {
     "name": "stdout",
     "output_type": "stream",
     "text": [
      "The autoreload extension is already loaded. To reload it, use:\n",
      "  %reload_ext autoreload\n"
     ]
    }
   ],
   "source": [
    "%load_ext autoreload\n",
    "%autoreload 2"
   ]
  },
  {
   "cell_type": "code",
   "execution_count": 34,
   "metadata": {},
   "outputs": [],
   "source": [
    "import math\n",
    "import random\n",
    "import tensorflow as tf\n",
    "\n",
    "import cirq\n",
    "import numpy as np\n",
    "from qsgenerator.utils import map_to_radians\n",
    "from qsgenerator.qugans import circuits\n",
    "from qsgenerator.qugans.training import Trainer\n",
    "from qsgenerator.phase.circuits import build_ground_state_circuit\n",
    "from qsgenerator.phase.analitical import  get_ground_state_for_g\n",
    "from qsgenerator.states.simple_state_circuits import build_x_rotation_state\n",
    "from qsgenerator.states.simple_rotation_generators import get_binary_x_rotation_provider, get_arcsin_x_rotation_provider\n",
    "from qsgenerator.phase.analitical import construct_hamiltonian, get_theta_v, get_theta_w, get_theta_r, get_g_parameters_provider\n",
    "from qsgenerator.evaluators.circuit_evaluator import CircuitEvaluator"
   ]
  },
  {
   "cell_type": "code",
   "execution_count": 47,
   "metadata": {},
   "outputs": [],
   "source": [
    "generator_layers = 1\n",
    "discriminator_layers = 2\n",
    "data_bus_size = 5"
   ]
  },
  {
   "cell_type": "code",
   "execution_count": 48,
   "metadata": {},
   "outputs": [],
   "source": [
    "real_phase = False\n",
    "generic_generator = True\n",
    "all_layers_labeling = False"
   ]
  },
  {
   "cell_type": "code",
   "execution_count": 49,
   "metadata": {},
   "outputs": [],
   "source": [
    "gen, gs, disc, ds, ls, data_qubits, out_qubit = circuits.build_gan_circuits(\n",
    "    generator_layers, \n",
    "    discriminator_layers, \n",
    "    data_bus_size, \n",
    "    all_layers_labeling=all_layers_labeling,\n",
    "    use_gen_label_qubit=False)"
   ]
  },
  {
   "cell_type": "code",
   "execution_count": 50,
   "metadata": {},
   "outputs": [],
   "source": [
    "if not generic_generator:\n",
    "    gen, gs = build_ground_state_circuit(qubits=data_qubits, full_parametrization=True)"
   ]
  },
  {
   "cell_type": "code",
   "execution_count": 51,
   "metadata": {},
   "outputs": [],
   "source": [
    "if real_phase:\n",
    "    real, real_symbols = build_ground_state_circuit(qubits=data_qubits)\n",
    "else:\n",
    "    real, real_symbols = build_x_rotation_state(qubits=data_qubits)"
   ]
  },
  {
   "cell_type": "code",
   "execution_count": 52,
   "metadata": {},
   "outputs": [],
   "source": [
    "pure_gen = gen.copy()\n",
    "gen.append([disc])"
   ]
  },
  {
   "cell_type": "code",
   "execution_count": 53,
   "metadata": {},
   "outputs": [],
   "source": [
    "pure_real = real.copy()\n",
    "real.append([disc])"
   ]
  },
  {
   "cell_type": "code",
   "execution_count": 54,
   "metadata": {
    "scrolled": true
   },
   "outputs": [
    {
     "name": "stdout",
     "output_type": "stream",
     "text": [
      "REAL GROUND STATE\n"
     ]
    },
    {
     "data": {
      "text/html": [
       "<pre style=\"overflow: auto; white-space: pre;\">(0, 2): ───Rx(r0)───\n",
       "\n",
       "(0, 3): ───Rx(r1)───\n",
       "\n",
       "(0, 4): ───Rx(r2)───\n",
       "\n",
       "(0, 5): ───Rx(r3)───\n",
       "\n",
       "(0, 6): ───Rx(r4)───</pre>"
      ],
      "text/plain": [
       "(0, 2): ───Rx(r0)───\n",
       "\n",
       "(0, 3): ───Rx(r1)───\n",
       "\n",
       "(0, 4): ───Rx(r2)───\n",
       "\n",
       "(0, 5): ───Rx(r3)───\n",
       "\n",
       "(0, 6): ───Rx(r4)───"
      ]
     },
     "execution_count": 54,
     "metadata": {},
     "output_type": "execute_result"
    }
   ],
   "source": [
    "print(\"REAL GROUND STATE\")\n",
    "pure_real"
   ]
  },
  {
   "cell_type": "code",
   "execution_count": 55,
   "metadata": {},
   "outputs": [
    {
     "name": "stdout",
     "output_type": "stream",
     "text": [
      "GENERATOR\n"
     ]
    },
    {
     "data": {
      "text/html": [
       "<pre style=\"overflow: auto; white-space: pre;\">(0, 2): ───Rx(l)───Rx(g0)───Rz(g5)───ZZ────────────────\n",
       "                                     │\n",
       "(0, 3): ───Rx(l)───Rx(g1)───Rz(g6)───ZZ^g10───ZZ───────\n",
       "                                              │\n",
       "(0, 4): ───Rx(l)───Rx(g2)───Rz(g7)───ZZ───────ZZ^g12───\n",
       "                                     │\n",
       "(0, 5): ───Rx(l)───Rx(g3)───Rz(g8)───ZZ^g11───ZZ───────\n",
       "                                              │\n",
       "(0, 6): ───Rx(l)───Rx(g4)───Rz(g9)────────────ZZ^g13───</pre>"
      ],
      "text/plain": [
       "(0, 2): ───Rx(l)───Rx(g0)───Rz(g5)───ZZ────────────────\n",
       "                                     │\n",
       "(0, 3): ───Rx(l)───Rx(g1)───Rz(g6)───ZZ^g10───ZZ───────\n",
       "                                              │\n",
       "(0, 4): ───Rx(l)───Rx(g2)───Rz(g7)───ZZ───────ZZ^g12───\n",
       "                                     │\n",
       "(0, 5): ───Rx(l)───Rx(g3)───Rz(g8)───ZZ^g11───ZZ───────\n",
       "                                              │\n",
       "(0, 6): ───Rx(l)───Rx(g4)───Rz(g9)────────────ZZ^g13───"
      ]
     },
     "execution_count": 55,
     "metadata": {},
     "output_type": "execute_result"
    }
   ],
   "source": [
    "print(\"GENERATOR\")\n",
    "pure_gen"
   ]
  },
  {
   "cell_type": "code",
   "execution_count": 56,
   "metadata": {},
   "outputs": [
    {
     "name": "stdout",
     "output_type": "stream",
     "text": [
      "DISCRIMINATOR\n"
     ]
    },
    {
     "data": {
      "text/html": [
       "<pre style=\"overflow: auto; white-space: pre;\">(0, 0): ───Rx(l)───Rx(d0)───Rz(d7)─────────────ZZ────────────────Rx(d20)───Rz(d27)───ZZ────────────────\n",
       "                                               │                                     │\n",
       "(0, 1): ───Rx(l)───Rx(l)────Rx(d1)────Rz(d8)───ZZ^d14───ZZ───────Rx(d21)───Rz(d28)───ZZ^d34───ZZ───────\n",
       "                                                        │                                     │\n",
       "(0, 2): ───Rx(l)───Rx(d2)───Rz(d9)────ZZ────────────────ZZ^d17───Rx(d22)───Rz(d29)───ZZ───────ZZ^d37───\n",
       "                                      │                                              │\n",
       "(0, 3): ───Rx(l)───Rx(d3)───Rz(d10)───ZZ^d15───ZZ────────────────Rx(d23)───Rz(d30)───ZZ^d35───ZZ───────\n",
       "                                               │                                              │\n",
       "(0, 4): ───Rx(l)───Rx(d4)───Rz(d11)───ZZ───────ZZ^d18────────────Rx(d24)───Rz(d31)───ZZ───────ZZ^d38───\n",
       "                                      │                                              │\n",
       "(0, 5): ───Rx(l)───Rx(d5)───Rz(d12)───ZZ^d16───ZZ────────────────Rx(d25)───Rz(d32)───ZZ^d36───ZZ───────\n",
       "                                               │                                              │\n",
       "(0, 6): ───Rx(l)───Rx(d6)───Rz(d13)────────────ZZ^d19────────────Rx(d26)───Rz(d33)────────────ZZ^d39───</pre>"
      ],
      "text/plain": [
       "(0, 0): ───Rx(l)───Rx(d0)───Rz(d7)─────────────ZZ────────────────Rx(d20)───Rz(d27)───ZZ────────────────\n",
       "                                               │                                     │\n",
       "(0, 1): ───Rx(l)───Rx(l)────Rx(d1)────Rz(d8)───ZZ^d14───ZZ───────Rx(d21)───Rz(d28)───ZZ^d34───ZZ───────\n",
       "                                                        │                                     │\n",
       "(0, 2): ───Rx(l)───Rx(d2)───Rz(d9)────ZZ────────────────ZZ^d17───Rx(d22)───Rz(d29)───ZZ───────ZZ^d37───\n",
       "                                      │                                              │\n",
       "(0, 3): ───Rx(l)───Rx(d3)───Rz(d10)───ZZ^d15───ZZ────────────────Rx(d23)───Rz(d30)───ZZ^d35───ZZ───────\n",
       "                                               │                                              │\n",
       "(0, 4): ───Rx(l)───Rx(d4)───Rz(d11)───ZZ───────ZZ^d18────────────Rx(d24)───Rz(d31)───ZZ───────ZZ^d38───\n",
       "                                      │                                              │\n",
       "(0, 5): ───Rx(l)───Rx(d5)───Rz(d12)───ZZ^d16───ZZ────────────────Rx(d25)───Rz(d32)───ZZ^d36───ZZ───────\n",
       "                                               │                                              │\n",
       "(0, 6): ───Rx(l)───Rx(d6)───Rz(d13)────────────ZZ^d19────────────Rx(d26)───Rz(d33)────────────ZZ^d39───"
      ]
     },
     "execution_count": 56,
     "metadata": {},
     "output_type": "execute_result"
    }
   ],
   "source": [
    "print(\"DISCRIMINATOR\")\n",
    "disc"
   ]
  },
  {
   "cell_type": "code",
   "execution_count": 57,
   "metadata": {},
   "outputs": [],
   "source": [
    "np.random.seed(0)\n",
    "eps = 1e-2\n",
    "init_gen_weights = np.array([0] * len(gs)) + \\\n",
    "                   np.random.normal(scale=eps, size=(len(gs),))\n",
    "init_disc_weights = np.random.normal(size=(len(ds),))\n",
    "\n",
    "gen_weights = tf.Variable(init_gen_weights, dtype=tf.float32)\n",
    "disc_weights = tf.Variable(init_disc_weights, dtype=tf.float32)"
   ]
  },
  {
   "cell_type": "code",
   "execution_count": 58,
   "metadata": {},
   "outputs": [],
   "source": [
    "class CustomScheduler(tf.keras.optimizers.schedules.LearningRateSchedule):\n",
    "    def __init__(self, warmup_steps=4000):\n",
    "        super(CustomScheduler, self).__init__()\n",
    "        self.warmup_steps = warmup_steps\n",
    "\n",
    "    def __call__(self, step):\n",
    "        return max(math.e ** - ((step+200) / (self.warmup_steps / math.log(100))), 0.01)"
   ]
  },
  {
   "cell_type": "code",
   "execution_count": 59,
   "metadata": {
    "pycharm": {
     "name": "#%%\n"
    }
   },
   "outputs": [],
   "source": [
    "learning_rate = CustomScheduler()\n",
    "\n",
    "opt = tf.keras.optimizers.Adam(learning_rate, beta_1=0.9, beta_2=0.98, \n",
    "                                     epsilon=1e-9)"
   ]
  },
  {
   "cell_type": "code",
   "execution_count": 62,
   "metadata": {
    "pycharm": {
     "name": "#%%\n"
    }
   },
   "outputs": [],
   "source": [
    "g_values = [0, 0.2]\n",
    "# x_rotations = get_binary_x_rotation_provider({0: '100', 1: '011', 2: '101'})\n",
    "x_rotations = get_arcsin_x_rotation_provider([0, 0.2], 5)"
   ]
  },
  {
   "cell_type": "code",
   "execution_count": 63,
   "metadata": {},
   "outputs": [],
   "source": [
    "trainer = Trainer(g_values, \n",
    "                  data_bus_size, \n",
    "                  disc, \n",
    "                  gen, \n",
    "                  real, \n",
    "                  out_qubit, \n",
    "                  ds, \n",
    "                  gs, \n",
    "                  real_symbols, \n",
    "                  ls,\n",
    "                  real_values_provider = x_rotations,\n",
    "                  use_analytical_expectation=True)"
   ]
  },
  {
   "cell_type": "code",
   "execution_count": 64,
   "metadata": {
    "scrolled": false
   },
   "outputs": [
    {
     "data": {
      "text/plain": [
       "<Figure size 432x288 with 0 Axes>"
      ]
     },
     "metadata": {},
     "output_type": "display_data"
    },
    {
     "data": {
      "image/png": "[encoded data removed]",
      "text/plain": [
       "<Figure size 1080x432 with 2 Axes>"
      ]
     },
     "metadata": {
      "needs_background": "light"
     },
     "output_type": "display_data"
    },
    {
     "name": "stdout",
     "output_type": "stream",
     "text": [
      "----------- AFTER GENERATOR TRAINING -----------\n",
      "Epoch 0: generator cost = -0.5992749333381653\n",
      "Epoch 0: discriminator cost = 0.12910646200180054\n",
      "Prob(fake classified as real):  0.66382825\n",
      "Prob(real classified as real):  0.59927493\n",
      "-------------------------------------\n",
      "----------- TRAINING DONE -----------\n",
      "Weights: [\n",
      "  {\n",
      "    \"gen_weights\": [\n",
      "      -0.3434864282608032,\n",
      "      -0.3571421205997467,\n",
      "      -0.3512559235095978,\n",
      "      -0.33874592185020447,\n",
      "      -0.3423677086830139,\n",
      "      0.35110339522361755,\n",
      "      -0.3516678810119629,\n",
      "      0.3596133887767792,\n",
      "      -0.3621758818626404,\n",
      "      0.36498215794563293,\n",
      "      -0.3596865236759186,\n",
      "      -0.3466200828552246,\n",
      "      0.007610377389937639,\n",
      "      0.0012167501263320446\n",
      "    ],\n",
      "    \"disc_weights\": [\n",
      "      -3.693887233734131,\n",
      "      -3.852295160293579,\n",
      "      -0.07091464102268219,\n",
      "      -3.3218908309936523,\n",
      "      -3.4208247661590576,\n",
      "      -4.468804359436035,\n",
      "      -2.606729030609131,\n",
      "      -3.5510973930358887,\n",
      "      -0.38165849447250366,\n",
      "      0.8781874179840088,\n",
      "      1.9790942668914795,\n",
      "      1.7531708478927612,\n",
      "      2.3016722202301025,\n",
      "      -0.257388174533844,\n",
      "      5.659725666046143,\n",
      "      -1.7553123235702515,\n",
      "      -1.9918092489242554,\n",
      "      -1.8221633434295654,\n",
      "      -5.841524124145508,\n",
      "      1.214357852935791,\n",
      "      2.8415894508361816,\n",
      "      1.6347222328186035,\n",
      "      4.060166358947754,\n",
      "      -1.1978803873062134,\n",
      "      -1.3463777303695679,\n",
      "      -1.8372244834899902,\n",
      "      -3.6296708583831787,\n",
      "      1.6110018491744995,\n",
      "      -1.9091219902038574,\n",
      "      7.390238285064697,\n",
      "      -2.4162228107452393,\n",
      "      -3.4425907135009766,\n",
      "      -3.7064692974090576,\n",
      "      1.0606309175491333,\n",
      "      -4.761514663696289,\n",
      "      -3.11202335357666,\n",
      "      2.875807046890259,\n",
      "      -2.2659833431243896,\n",
      "      2.387040615081787,\n",
      "      0.4791427552700043\n",
      "    ],\n",
      "    \"prob_fake_real\": \"0.66382813\",\n",
      "    \"prob_real_real\": \"0.59927493\",\n",
      "    \"epoch\": 0,\n",
      "    \"label\": \"DISCRIMINATOR\"\n",
      "  },\n",
      "  {\n",
      "    \"gen_weights\": [\n",
      "      -0.3434864282608032,\n",
      "      -0.3571421205997467,\n",
      "      -0.3512559235095978,\n",
      "      -0.33874592185020447,\n",
      "      -0.3423677086830139,\n",
      "      0.35110339522361755,\n",
      "      -0.3516678810119629,\n",
      "      0.3596133887767792,\n",
      "      -0.3621758818626404,\n",
      "      0.36498215794563293,\n",
      "      -0.3596865236759186,\n",
      "      -0.3466200828552246,\n",
      "      0.007610377389937639,\n",
      "      0.0012167501263320446\n",
      "    ],\n",
      "    \"disc_weights\": [\n",
      "      -3.693887233734131,\n",
      "      -3.852295160293579,\n",
      "      -0.07091464102268219,\n",
      "      -3.3218908309936523,\n",
      "      -3.4208247661590576,\n",
      "      -4.468804359436035,\n",
      "      -2.606729030609131,\n",
      "      -3.5510973930358887,\n",
      "      -0.38165849447250366,\n",
      "      0.8781874179840088,\n",
      "      1.9790942668914795,\n",
      "      1.7531708478927612,\n",
      "      2.3016722202301025,\n",
      "      -0.257388174533844,\n",
      "      5.659725666046143,\n",
      "      -1.7553123235702515,\n",
      "      -1.9918092489242554,\n",
      "      -1.8221633434295654,\n",
      "      -5.841524124145508,\n",
      "      1.214357852935791,\n",
      "      2.8415894508361816,\n",
      "      1.6347222328186035,\n",
      "      4.060166358947754,\n",
      "      -1.1978803873062134,\n",
      "      -1.3463777303695679,\n",
      "      -1.8372244834899902,\n",
      "      -3.6296708583831787,\n",
      "      1.6110018491744995,\n",
      "      -1.9091219902038574,\n",
      "      7.390238285064697,\n",
      "      -2.4162228107452393,\n",
      "      -3.4425907135009766,\n",
      "      -3.7064692974090576,\n",
      "      1.0606309175491333,\n",
      "      -4.761514663696289,\n",
      "      -3.11202335357666,\n",
      "      2.875807046890259,\n",
      "      -2.2659833431243896,\n",
      "      2.387040615081787,\n",
      "      0.4791427552700043\n",
      "    ],\n",
      "    \"prob_fake_real\": \"0.66382825\",\n",
      "    \"prob_real_real\": \"0.59927493\",\n",
      "    \"epoch\": 0,\n",
      "    \"label\": \"GENERATOR\"\n",
      "  }\n",
      "]\n"
     ]
    }
   ],
   "source": [
    "epochs = 1\n",
    "disc_iteration = 10\n",
    "gen_iteration = 1\n",
    "snapshot_interval_epochs = 10\n",
    "results = trainer.train(disc_weights,\n",
    "      gen_weights, \n",
    "      opt, \n",
    "      epochs=epochs, \n",
    "      disc_iteration=disc_iteration, \n",
    "      gen_iteration=gen_iteration,\n",
    "      snapshot_interval_epochs=snapshot_interval_epochs)"
   ]
  },
  {
   "cell_type": "code",
   "execution_count": 186,
   "metadata": {},
   "outputs": [],
   "source": [
    "def get_gen_for_g(g, gen_weights):\n",
    "    rad = map_to_radians(g)\n",
    "    return np.append(gen_weights, rad)\n",
    "\n",
    "def get_states_and_fidelty_for_real(gen_evaluator, \n",
    "                                    real_evaluator, \n",
    "                                    gen_weights, \n",
    "                                    g, \n",
    "                                    size, \n",
    "                                    real_provider):\n",
    "    generated = gen_evaluator.get_state_from_params(get_gen_for_g(g, gen_weights))\n",
    "    real = real_evaluator.get_state_from_params(real_provider(g))\n",
    "    return generated, real, cirq.fidelity(generated, real)\n",
    "\n",
    "def get_states_and_fidelty_for_ground(gen_evaluator, g, gen_weights, size):\n",
    "    generated = gen_evaluator.get_state_from_params(get_gen_for_g(g, gen_weights), list(range(size)))\n",
    "    ground = get_ground_state_for_g(g, size)\n",
    "    return generated, ground, cirq.fidelity(generated, ground)\n",
    "\n",
    "def compare_generated_for_g(gen_evaluator, g1, g2, gen_weights, size):\n",
    "    generated1 = gen_evaluator.get_state_from_params(get_gen_for_g(g1, gen_weights), list(range(size)))\n",
    "    generated2 = gen_evaluator.get_state_from_params(get_gen_for_g(g2, gen_weights), list(range(size)))\n",
    "    return generated1, generated2, cirq.fidelity(generated1, generated2)"
   ]
  },
  {
   "cell_type": "code",
   "execution_count": 214,
   "metadata": {},
   "outputs": [
    {
     "data": {
      "text/plain": [
       "(array([-0.67404669,  0.06740467,  0.06740467,  0.06740467,  0.06740467,\n",
       "        -0.00674047,  0.06740467,  0.06740467,  0.06740467, -0.00674047,\n",
       "        -0.00674047, -0.00674047,  0.06740467, -0.00674047,  0.06740467,\n",
       "         0.06740467,  0.06740467,  0.06740467, -0.00674047,  0.06740467,\n",
       "        -0.00674047, -0.00674047, -0.00674047,  0.06740467,  0.06740467,\n",
       "         0.06740467, -0.00674047,  0.06740467,  0.06740467,  0.06740467,\n",
       "         0.06740467, -0.67404669]),\n",
       " array([1., 0., 0., 0., 0., 0., 0., 0., 0., 0., 0., 0., 0., 0., 0., 0., 0.,\n",
       "        0., 0., 0., 0., 0., 0., 0., 0., 0., 0., 0., 0., 0., 0., 0.]),\n",
       " array([ 0.69841965, -0.03492098, -0.03492098, -0.03492098, -0.03492098,\n",
       "         0.00174605, -0.03492098, -0.03492098, -0.03492098,  0.00174605,\n",
       "         0.00174605,  0.00174605, -0.03492098,  0.00174605, -0.03492098,\n",
       "        -0.03492098, -0.03492098, -0.03492098,  0.00174605, -0.03492098,\n",
       "         0.00174605,  0.00174605,  0.00174605, -0.03492098, -0.03492098,\n",
       "        -0.03492098,  0.00174605, -0.03492098, -0.03492098, -0.03492098,\n",
       "        -0.03492098,  0.69841965]),\n",
       " array([0.83702334, 0.03370233, 0.03370233, 0.03370233, 0.03370233,\n",
       "        0.00337023, 0.03370233, 0.03370233, 0.03370233, 0.00337023,\n",
       "        0.00337023, 0.00337023, 0.03370233, 0.00337023, 0.03370233,\n",
       "        0.03370233, 0.03370233, 0.03370233, 0.00337023, 0.03370233,\n",
       "        0.00337023, 0.00337023, 0.00337023, 0.03370233, 0.03370233,\n",
       "        0.03370233, 0.00337023, 0.03370233, 0.03370233, 0.03370233,\n",
       "        0.03370233, 0.33702334]),\n",
       " 0.4543389368469064,\n",
       " 0.7116179270585271)"
      ]
     },
     "execution_count": 214,
     "metadata": {},
     "output_type": "execute_result"
    }
   ],
   "source": [
    "ground1 = get_ground_state_for_g(-0.1, 5)\n",
    "ground2 = get_ground_state_for_g(-0.0, 5)\n",
    "ground3 = get_ground_state_for_g(-0.05, 5)\n",
    "ground4 = (abs(ground1) + abs(ground2)) / 2\n",
    "ground1, ground2, ground3, ground4, cirq.fidelity(ground1, ground2), cirq.fidelity(abs(ground3), ground4)\n",
    "\n"
   ]
  },
  {
   "cell_type": "code",
   "execution_count": null,
   "metadata": {},
   "outputs": [],
   "source": []
  },
  {
   "cell_type": "code",
   "execution_count": 194,
   "metadata": {
    "pycharm": {
     "name": "#%%\n"
    }
   },
   "outputs": [],
   "source": [
    "trained_disc_weights = tf.Variable(np.array([ 1.25888796e+01,  1.10409822e+01,  1.27487049e+01,  1.32927475e+01,\n",
    "       -3.20522385e+01,  2.98508596e+00, -7.54223883e-01,  8.97036648e+00,\n",
    "        8.98472309e+00, -2.77423954e+00,  8.90891266e+00,  5.72837019e+00,\n",
    "        6.03105211e+00, -4.64482594e+00, -1.10843427e-01,  7.78598115e-02,\n",
    "        3.00343895e+00,  3.83781940e-01,  6.08641243e+00,  8.64131927e+00,\n",
    "       -2.17593918e+01,  1.45857897e+01,  2.36893883e+01,  8.75363445e+00,\n",
    "       -2.42768993e+01,  1.27688437e+01,  2.53628349e+00,  1.39768391e+01,\n",
    "        1.40961084e+01, -2.04474068e+01,  4.71392822e+00,  1.66926212e+01,\n",
    "        1.88311214e+01,  9.17525005e+00,  1.16109962e+01,  1.08004580e+01,\n",
    "        1.10795708e+01,  5.81477690e+00, -5.50215101e+00,  2.22007637e+01,\n",
    "        2.25015125e+01,  3.21826210e+01, -1.80058708e+01, -7.85126591e+00,\n",
    "       -7.77073908e+00,  1.40237570e+01,  3.14071465e+01, -1.07477732e+01,\n",
    "        1.55852342e+00,  2.63786411e+01,  1.31890945e+01,  7.14759350e+00,\n",
    "        5.46145630e+00, -1.79730053e+01,  7.40563774e+00,  1.06135674e+01,\n",
    "       -1.55095673e+00, -2.66580944e+01,  6.51995277e+00, -2.37151980e+00,\n",
    "        3.51896515e+01,  1.50027342e+01,  1.80733763e-02, -1.75052185e+01,\n",
    "        9.60706902e+00, -6.06413984e+00,  5.35433817e+00, -7.88707399e+00,\n",
    "        1.27363043e+01,  1.02446747e+01]), dtype=tf.float32)\n",
    "\n",
    "trained_gen_weights = np.array([\n",
    "      -4.649629592895508,\n",
    "      3.101015567779541,\n",
    "      -3.111968994140625,\n",
    "      0.718622088432312,\n",
    "      -3.10376238822937,\n",
    "      -7.195709705352783,\n",
    "      2.241804361343384,\n",
    "      4.495307445526123,\n",
    "      -9.874565124511719,\n",
    "      -4.100712299346924,\n",
    "      -13.755752563476562,\n",
    "      -2.117293119430542,\n",
    "      0.5071558952331543,\n",
    "      10.275369644165039,\n",
    "      -4.674619197845459,\n",
    "      3.184067487716675,\n",
    "      7.742251396179199,\n",
    "      -2.084336519241333,\n",
    "      0.015724116936326027,\n",
    "      11.065336227416992,\n",
    "      -7.059167385101318,\n",
    "      1.1897140741348267,\n",
    "      -4.934125900268555,\n",
    "      -6.739679336547852,\n",
    "      -3.538717031478882,\n",
    "      0.5198691487312317,\n",
    "      1.4716018438339233,\n",
    "      4.639389514923096,\n",
    "      11.032812118530273,\n",
    "      3.159381151199341,\n",
    "      -6.2087297439575195,\n",
    "      7.79973030090332,\n",
    "      -5.470395088195801,\n",
    "      5.8658013343811035,\n",
    "      -4.232997894287109,\n",
    "      1.988687515258789,\n",
    "      -3.0304601192474365,\n",
    "      -10.554874420166016,\n",
    "      3.671308755874634,\n",
    "      -3.4935901165008545,\n",
    "      -1.502490758895874,\n",
    "      -1.7941570281982422\n",
    "    ])\n",
    "\n",
    "gen_symbols = gs + (ls,)\n",
    "# gen_symbols = gs\n",
    "# real_symbols = ('r0', 'r1', 'r2')"
   ]
  },
  {
   "cell_type": "code",
   "execution_count": 195,
   "metadata": {},
   "outputs": [],
   "source": [
    "gen_evaluator = CircuitEvaluator(pure_gen, gen_symbols)\n",
    "real_evaluator = CircuitEvaluator(pure_real, real_symbols)"
   ]
  },
  {
   "cell_type": "code",
   "execution_count": 200,
   "metadata": {},
   "outputs": [
    {
     "data": {
      "text/plain": [
       "(array([-0.37731087-0.0811675j , -0.18085268+0.23092014j,\n",
       "        -0.03165285-0.2447768j ,  0.24665835-0.16773075j,\n",
       "         0.00445655-0.00593627j, -0.06302135+0.04205354j,\n",
       "        -0.05793424+0.06867249j,  0.0202412 -0.01197964j,\n",
       "         0.00216764-0.00115121j, -0.00421622-0.0010907j ,\n",
       "         0.0040171 -0.00045099j,  0.00407331-0.00259159j,\n",
       "        -0.01176773-0.00377527j,  0.0185207 -0.00606403j,\n",
       "         0.01976581+0.01429253j, -0.0028115 -0.01514306j,\n",
       "         0.00329002+0.04349204j,  0.03145908+0.01166302j,\n",
       "        -0.02582761+0.01177412j, -0.026391  -0.02014987j,\n",
       "        -0.0030469 -0.00035139j,  0.00946684+0.00332172j,\n",
       "         0.01341757+0.00545324j, -0.0032125 -0.00429461j,\n",
       "        -0.0760088 +0.00385869j,  0.04631899-0.00272392j,\n",
       "        -0.05619271+0.01163532j, -0.00219731+0.08335549j,\n",
       "         0.25464985-0.0469288j , -0.264992  +0.29769003j,\n",
       "        -0.49087024-0.07282259j,  0.19975169+0.25249168j], dtype=complex64),\n",
       " array([ 0.184799  +0.j,  0.58438575+0.j,  0.18479902+0.j, -0.05843858+0.j,\n",
       "        -0.0184799 +0.j, -0.05843858+0.j,  0.18479902+0.j, -0.05843858+0.j,\n",
       "        -0.0184799 +0.j, -0.05843856+0.j, -0.0184799 +0.j,  0.00584386+0.j,\n",
       "        -0.01847989+0.j, -0.05843856+0.j,  0.18479897+0.j, -0.05843857+0.j,\n",
       "        -0.05843856+0.j, -0.18479899+0.j, -0.05843857+0.j,  0.0184799 +0.j,\n",
       "         0.00584386+0.j,  0.0184799 +0.j, -0.05843858+0.j,  0.01847989+0.j,\n",
       "        -0.05843859+0.j, -0.18479902+0.j, -0.05843858+0.j,  0.01847989+0.j,\n",
       "        -0.05843859+0.j, -0.18479902+0.j,  0.5843857 +0.j, -0.18479899+0.j],\n",
       "       dtype=complex64),\n",
       " 0.24929073166646276)"
      ]
     },
     "execution_count": 200,
     "metadata": {},
     "output_type": "execute_result"
    }
   ],
   "source": [
    "g = -0.1\n",
    "get_states_and_fidelty_for_real(gen_evaluator, real_evaluator, trained_gen_weights, g, data_bus_size, get_g_parameters_provider())"
   ]
  },
  {
   "cell_type": "code",
   "execution_count": 190,
   "metadata": {},
   "outputs": [
    {
     "data": {
      "text/plain": [
       "(array([-0.02435654-0.1902056j , -0.19515288-0.11648373j,\n",
       "         0.08345419-0.1903887j , -0.18535236-0.08096562j,\n",
       "         0.11612582+0.04735206j, -0.06836013+0.19240332j,\n",
       "         0.14600399-0.11264499j, -0.00122743+0.13270715j,\n",
       "         0.00031277+0.1505127j ,  0.16298561+0.11961195j,\n",
       "        -0.08987801+0.16151407j,  0.13619669+0.08167708j,\n",
       "         0.11782363+0.02000505j,  0.01544211+0.19913372j,\n",
       "         0.08575617-0.15900977j,  0.02598283+0.12305039j,\n",
       "         0.05198056+0.16467279j,  0.1923159 +0.07155653j,\n",
       "        -0.04311047+0.18240288j,  0.17686254+0.04210223j,\n",
       "        -0.10968473-0.02181027j,  0.03130385-0.17920177j,\n",
       "        -0.11122639+0.12064118j, -0.02152339-0.11628234j,\n",
       "        -0.01267695+0.19866441j,  0.17221147+0.14199674j,\n",
       "        -0.10956728+0.17222396j,  0.17286973+0.11913121j,\n",
       "         0.12042966+0.01432219j, -0.03035793+0.17915641j,\n",
       "         0.11047583-0.12090723j,  0.03273152+0.12426975j], dtype=complex64),\n",
       " array([ 0.1767766 +0.j,  0.1767766 +0.j,  0.1767766 +0.j, -0.17677659+0.j,\n",
       "        -0.17677662+0.j, -0.17677662+0.j,  0.17677665+0.j, -0.17677662+0.j,\n",
       "        -0.1767766 +0.j, -0.1767766 +0.j, -0.1767766 +0.j,  0.17677659+0.j,\n",
       "        -0.17677662+0.j, -0.17677662+0.j,  0.17677665+0.j, -0.17677662+0.j,\n",
       "        -0.1767766 +0.j, -0.1767766 +0.j, -0.1767766 +0.j,  0.17677659+0.j,\n",
       "         0.17677662+0.j,  0.17677662+0.j, -0.17677665+0.j,  0.17677662+0.j,\n",
       "        -0.1767766 +0.j, -0.1767766 +0.j, -0.1767766 +0.j,  0.17677659+0.j,\n",
       "        -0.17677662+0.j, -0.17677662+0.j,  0.17677665+0.j, -0.17677662+0.j],\n",
       "       dtype=complex64),\n",
       " 0.3628263800330842)"
      ]
     },
     "execution_count": 190,
     "metadata": {},
     "output_type": "execute_result"
    }
   ],
   "source": [
    "g = -1\n",
    "get_states_and_fidelty_for_real(gen_evaluator, real_evaluator, trained_gen_weights, g, data_bus_size, get_g_parameters_provider())"
   ]
  },
  {
   "cell_type": "code",
   "execution_count": null,
   "metadata": {},
   "outputs": [],
   "source": [
    "compare_generated_for_g(gen_evaluator, -0.9, -0.8, trained_gen_weights, data_bus_size)"
   ]
  },
  {
   "cell_type": "code",
   "execution_count": null,
   "metadata": {},
   "outputs": [],
   "source": [
    "g = 0\n",
    "get_states_and_fidelty_for_ground(gen_evaluator, g, trained_gen_weights, data_bus_size)"
   ]
  },
  {
   "cell_type": "code",
   "execution_count": null,
   "metadata": {},
   "outputs": [],
   "source": []
  }
 ],
 "metadata": {
  "kernelspec": {
   "display_name": "Python 3",
   "language": "python",
   "name": "python3"
  },
  "language_info": {
   "codemirror_mode": {
    "name": "ipython",
    "version": 3
   },
   "file_extension": ".py",
   "mimetype": "text/x-python",
   "name": "python",
   "nbconvert_exporter": "python",
   "pygments_lexer": "ipython3",
   "version": "3.8.6"
  }
 },
 "nbformat": 4,
 "nbformat_minor": 1
}
