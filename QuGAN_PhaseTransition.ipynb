{
 "cells": [
  {
   "cell_type": "code",
   "execution_count": null,
   "metadata": {
    "scrolled": true
   },
   "outputs": [],
   "source": [
    "if 'google.colab' in str(get_ipython()):\n",
    "    !pip uninstall tensorflow -y\n",
    "    !pip install tensorflow==2.3.1 tensorflow-quantum neptune-client\n",
    "    !rm -rf quantum-gans\n",
    "    !git clone https://github.com/WiktorJ/quantum-gans\n",
    "    !cd quantum-gans; pip install .\n",
    "    neptun_token = \"\" # put manually for the time being\n",
    "else:\n",
    "    import subprocess\n",
    "    def get_var(varname):\n",
    "        CMD = 'echo $(source ~/.bash_profile; echo $%s)' % varname\n",
    "        p = subprocess.Popen(CMD, stdout=subprocess.PIPE, shell=True, executable='/bin/bash')\n",
    "        return p.stdout.readlines()[0].strip()\n",
    "    neptun_token = get_var('NEPTUNE_API_TOKEN').decode(\"utf-8\") "
   ]
  },
  {
   "cell_type": "code",
   "execution_count": null,
   "metadata": {},
   "outputs": [],
   "source": [
    "%load_ext autoreload\n",
    "%autoreload 2"
   ]
  },
  {
   "cell_type": "code",
   "execution_count": null,
   "metadata": {},
   "outputs": [],
   "source": [
    "import io\n",
    "import math\n",
    "import json\n",
    "import neptune\n",
    "import tensorflow as tf\n",
    "\n",
    "import cirq\n",
    "import numpy as np\n",
    "from qsgenerator.utils import map_to_radians\n",
    "from qsgenerator.qugans import circuits\n",
    "from qsgenerator.resolvers import resolve_all\n",
    "from qsgenerator.qugans.training import Trainer\n",
    "from qsgenerator.phase.circuits import PhaseCircuitBuilder\n",
    "from qsgenerator.phase.constants import z1_theta, z2_theta\n",
    "from qsgenerator.phase.analitical import  get_ground_state_for_g\n",
    "from qsgenerator.states.simple_state_circuits import build_x_rotation_state\n",
    "from qsgenerator.states.simple_rotation_generators import get_binary_x_rotation_provider, get_arcsin_x_rotation_provider\n",
    "from qsgenerator.phase.analitical import construct_hamiltonian, get_theta_v, get_theta_w, get_theta_r, get_g_parameters_provider\n",
    "from qsgenerator.evaluators.circuit_evaluator import CircuitEvaluator"
   ]
  },
  {
   "cell_type": "code",
   "execution_count": null,
   "metadata": {},
   "outputs": [],
   "source": [
    "use_neptune = False"
   ]
  },
  {
   "cell_type": "code",
   "execution_count": 593,
   "metadata": {},
   "outputs": [],
   "source": [
    "generator_layers = 5\n",
    "discriminator_layers = 5\n",
    "data_bus_size = 5\n",
    "generator_bath_size = 1\n",
    "discriminator_bath_size = 1"
   ]
  },
  {
   "cell_type": "code",
   "execution_count": 594,
   "metadata": {},
   "outputs": [],
   "source": [
    "real_phase = True\n",
    "generic_generator = True\n",
    "all_layers_labeling = False\n",
    "full_layer_labeling = False\n",
    "use_gen_label_qubit = False\n",
    "use_disc_label_qubit = False\n",
    "zxz = True\n",
    "all_gates_parametrized = True\n",
    "fixed_gates = {}\n",
    "# fixed_gates = {\"z1\": z1_theta}"
   ]
  },
  {
   "cell_type": "code",
   "execution_count": 595,
   "metadata": {},
   "outputs": [],
   "source": [
    "gen, gs, disc, ds, ls, data_qubits, out_qubit = circuits.build_gan_circuits(\n",
    "    generator_layers, \n",
    "    discriminator_layers, \n",
    "    data_bus_size, \n",
    "    generator_bath_size = generator_bath_size,\n",
    "    discriminator_bath_size = discriminator_bath_size,\n",
    "    all_layers_labeling=all_layers_labeling,\n",
    "    full_layer_labeling=full_layer_labeling,\n",
    "    use_gen_label_qubit=use_gen_label_qubit,\n",
    "    use_disc_label_qubit=use_disc_label_qubit)"
   ]
  },
  {
   "cell_type": "code",
   "execution_count": 596,
   "metadata": {},
   "outputs": [],
   "source": [
    "if not generic_generator:\n",
    "    builder = PhaseCircuitBuilder(all_gates_parametrized=all_gates_parametrized)\n",
    "    gen, gs, symbols_dict_gen = builder.build_ground_state_circuit(qubits=data_qubits, full_parametrization=True, zxz=zxz)\n",
    "else:\n",
    "    symbols_dict_gen = {}"
   ]
  },
  {
   "cell_type": "code",
   "execution_count": 597,
   "metadata": {},
   "outputs": [],
   "source": [
    "gen, gs = resolve_all(gen, gs, symbols_dict_gen, fixed_gates)"
   ]
  },
  {
   "cell_type": "code",
   "execution_count": 598,
   "metadata": {},
   "outputs": [],
   "source": [
    "if real_phase:\n",
    "    builder = PhaseCircuitBuilder(all_gates_parametrized=False)\n",
    "    real, real_symbols, symbols_dict_real = builder.build_ground_state_circuit(qubits=data_qubits)\n",
    "else:\n",
    "    real, real_symbols, symbols_dict_real = build_x_rotation_state(qubits=data_qubits)"
   ]
  },
  {
   "cell_type": "code",
   "execution_count": 599,
   "metadata": {},
   "outputs": [],
   "source": [
    "pure_gen = gen.copy()\n",
    "gen.append([disc])"
   ]
  },
  {
   "cell_type": "code",
   "execution_count": 600,
   "metadata": {},
   "outputs": [],
   "source": [
    "pure_real = real.copy()\n",
    "real.append([disc])"
   ]
  },
  {
   "cell_type": "code",
   "execution_count": 601,
   "metadata": {
    "scrolled": true
   },
   "outputs": [
    {
     "name": "stdout",
     "output_type": "stream",
     "text": [
      "REAL GROUND STATE\n"
     ]
    },
    {
     "data": {
      "text/html": [
       "<pre style=\"overflow: auto; white-space: pre;\">(0, 2): ───H───@─────────────────────────@───────────────────────────────────────────────────────────────────────────────────────────────────────────────────────────────────────────────────────────────────────────────────────────────────────────────────────────────────────────────────────\n",
       "               │                         │\n",
       "(0, 3): ───────X───Z───Ry(theta_r)───H───X───H───X─────────────@───X───────────────────────────────────@───X─────────────────────────────────────────────────────────────────────────────────────────────────────────────────────────────────────────────────────────────────────────────────────\n",
       "                                                               │                                       │\n",
       "(0, 4): ─────────────────────────────────────────Ry(theta_w)───X───X───Ry(theta_w)───X───Ry(theta_v)───X───X───Ry(theta_v)───X───X─────────────@───X───────────────────────────────────@───X─────────────────────────────────────────────────────────────────────────────────────────────────────\n",
       "                                                                                                                                               │                                       │\n",
       "(0, 5): ─────────────────────────────────────────────────────────────────────────────────────────────────────────────────────────Ry(theta_w)───X───X───Ry(theta_w)───X───Ry(theta_v)───X───X───Ry(theta_v)───X───X─────────────@───X───────────────────────────────────@───X─────────────────────\n",
       "                                                                                                                                                                                                                               │                                       │\n",
       "(0, 6): ─────────────────────────────────────────────────────────────────────────────────────────────────────────────────────────────────────────────────────────────────────────────────────────────────────────Ry(theta_w)───X───X───Ry(theta_w)───X───Ry(theta_v)───X───X───Ry(theta_v)───X───</pre>"
      ],
      "text/plain": [
       "(0, 2): ───H───@─────────────────────────@───────────────────────────────────────────────────────────────────────────────────────────────────────────────────────────────────────────────────────────────────────────────────────────────────────────────────────────────────────────────────────\n",
       "               │                         │\n",
       "(0, 3): ───────X───Z───Ry(theta_r)───H───X───H───X─────────────@───X───────────────────────────────────@───X─────────────────────────────────────────────────────────────────────────────────────────────────────────────────────────────────────────────────────────────────────────────────────\n",
       "                                                               │                                       │\n",
       "(0, 4): ─────────────────────────────────────────Ry(theta_w)───X───X───Ry(theta_w)───X───Ry(theta_v)───X───X───Ry(theta_v)───X───X─────────────@───X───────────────────────────────────@───X─────────────────────────────────────────────────────────────────────────────────────────────────────\n",
       "                                                                                                                                               │                                       │\n",
       "(0, 5): ─────────────────────────────────────────────────────────────────────────────────────────────────────────────────────────Ry(theta_w)───X───X───Ry(theta_w)───X───Ry(theta_v)───X───X───Ry(theta_v)───X───X─────────────@───X───────────────────────────────────@───X─────────────────────\n",
       "                                                                                                                                                                                                                               │                                       │\n",
       "(0, 6): ─────────────────────────────────────────────────────────────────────────────────────────────────────────────────────────────────────────────────────────────────────────────────────────────────────────Ry(theta_w)───X───X───Ry(theta_w)───X───Ry(theta_v)───X───X───Ry(theta_v)───X───"
      ]
     },
     "execution_count": 601,
     "metadata": {},
     "output_type": "execute_result"
    }
   ],
   "source": [
    "print(\"REAL GROUND STATE\")\n",
    "pure_real"
   ]
  },
  {
   "cell_type": "code",
   "execution_count": 602,
   "metadata": {},
   "outputs": [
    {
     "name": "stdout",
     "output_type": "stream",
     "text": [
      "GENERATOR\n"
     ]
    },
    {
     "data": {
      "text/html": [
       "<pre style=\"overflow: auto; white-space: pre;\">(0, 2): ───Rx(g0)───Rz(g6)────ZZ────────────────Rx(g17)───Rz(g23)───ZZ────────────────Rx(g34)───Rz(g40)───ZZ────────────────Rx(g51)───Rz(g57)───ZZ────────────────Rx(g68)───Rz(g74)───ZZ────────────────\n",
       "                              │                                     │                                     │                                     │                                     │\n",
       "(0, 3): ───Rx(g1)───Rz(g7)────ZZ^g12───ZZ───────Rx(g18)───Rz(g24)───ZZ^g29───ZZ───────Rx(g35)───Rz(g41)───ZZ^g46───ZZ───────Rx(g52)───Rz(g58)───ZZ^g63───ZZ───────Rx(g69)───Rz(g75)───ZZ^g80───ZZ───────\n",
       "                                       │                                     │                                     │                                     │                                     │\n",
       "(0, 4): ───Rx(g2)───Rz(g8)────ZZ───────ZZ^g15───Rx(g19)───Rz(g25)───ZZ───────ZZ^g32───Rx(g36)───Rz(g42)───ZZ───────ZZ^g49───Rx(g53)───Rz(g59)───ZZ───────ZZ^g66───Rx(g70)───Rz(g76)───ZZ───────ZZ^g83───\n",
       "                              │                                     │                                     │                                     │                                     │\n",
       "(0, 5): ───Rx(g3)───Rz(g9)────ZZ^g13───ZZ───────Rx(g20)───Rz(g26)───ZZ^g30───ZZ───────Rx(g37)───Rz(g43)───ZZ^g47───ZZ───────Rx(g54)───Rz(g60)───ZZ^g64───ZZ───────Rx(g71)───Rz(g77)───ZZ^g81───ZZ───────\n",
       "                                       │                                     │                                     │                                     │                                     │\n",
       "(0, 6): ───Rx(g4)───Rz(g10)───ZZ───────ZZ^g16───Rx(g21)───Rz(g27)───ZZ───────ZZ^g33───Rx(g38)───Rz(g44)───ZZ───────ZZ^g50───Rx(g55)───Rz(g61)───ZZ───────ZZ^g67───Rx(g72)───Rz(g78)───ZZ───────ZZ^g84───\n",
       "                              │                                     │                                     │                                     │                                     │\n",
       "(0, 7): ───Rx(g5)───Rz(g11)───ZZ^g14────────────Rx(g22)───Rz(g28)───ZZ^g31────────────Rx(g39)───Rz(g45)───ZZ^g48────────────Rx(g56)───Rz(g62)───ZZ^g65────────────Rx(g73)───Rz(g79)───ZZ^g82────────────</pre>"
      ],
      "text/plain": [
       "(0, 2): ───Rx(g0)───Rz(g6)────ZZ────────────────Rx(g17)───Rz(g23)───ZZ────────────────Rx(g34)───Rz(g40)───ZZ────────────────Rx(g51)───Rz(g57)───ZZ────────────────Rx(g68)───Rz(g74)───ZZ────────────────\n",
       "                              │                                     │                                     │                                     │                                     │\n",
       "(0, 3): ───Rx(g1)───Rz(g7)────ZZ^g12───ZZ───────Rx(g18)───Rz(g24)───ZZ^g29───ZZ───────Rx(g35)───Rz(g41)───ZZ^g46───ZZ───────Rx(g52)───Rz(g58)───ZZ^g63───ZZ───────Rx(g69)───Rz(g75)───ZZ^g80───ZZ───────\n",
       "                                       │                                     │                                     │                                     │                                     │\n",
       "(0, 4): ───Rx(g2)───Rz(g8)────ZZ───────ZZ^g15───Rx(g19)───Rz(g25)───ZZ───────ZZ^g32───Rx(g36)───Rz(g42)───ZZ───────ZZ^g49───Rx(g53)───Rz(g59)───ZZ───────ZZ^g66───Rx(g70)───Rz(g76)───ZZ───────ZZ^g83───\n",
       "                              │                                     │                                     │                                     │                                     │\n",
       "(0, 5): ───Rx(g3)───Rz(g9)────ZZ^g13───ZZ───────Rx(g20)───Rz(g26)───ZZ^g30───ZZ───────Rx(g37)───Rz(g43)───ZZ^g47───ZZ───────Rx(g54)───Rz(g60)───ZZ^g64───ZZ───────Rx(g71)───Rz(g77)───ZZ^g81───ZZ───────\n",
       "                                       │                                     │                                     │                                     │                                     │\n",
       "(0, 6): ───Rx(g4)───Rz(g10)───ZZ───────ZZ^g16───Rx(g21)───Rz(g27)───ZZ───────ZZ^g33───Rx(g38)───Rz(g44)───ZZ───────ZZ^g50───Rx(g55)───Rz(g61)───ZZ───────ZZ^g67───Rx(g72)───Rz(g78)───ZZ───────ZZ^g84───\n",
       "                              │                                     │                                     │                                     │                                     │\n",
       "(0, 7): ───Rx(g5)───Rz(g11)───ZZ^g14────────────Rx(g22)───Rz(g28)───ZZ^g31────────────Rx(g39)───Rz(g45)───ZZ^g48────────────Rx(g56)───Rz(g62)───ZZ^g65────────────Rx(g73)───Rz(g79)───ZZ^g82────────────"
      ]
     },
     "execution_count": 602,
     "metadata": {},
     "output_type": "execute_result"
    }
   ],
   "source": [
    "print(\"GENERATOR\")\n",
    "pure_gen"
   ]
  },
  {
   "cell_type": "code",
   "execution_count": 603,
   "metadata": {},
   "outputs": [
    {
     "name": "stdout",
     "output_type": "stream",
     "text": [
      "DISCRIMINATOR\n"
     ]
    },
    {
     "data": {
      "text/html": [
       "<pre style=\"overflow: auto; white-space: pre;\">(0, 0): ───Rx(d0)───Rz(d6)────ZZ────────────────Rx(d17)───Rz(d23)───ZZ────────────────Rx(d34)───Rz(d40)───ZZ────────────────Rx(d51)───Rz(d57)───ZZ────────────────Rx(d68)───Rz(d74)───ZZ────────────────\n",
       "                              │                                     │                                     │                                     │                                     │\n",
       "(0, 2): ───Rx(d1)───Rz(d7)────ZZ^d12───ZZ───────Rx(d18)───Rz(d24)───ZZ^d29───ZZ───────Rx(d35)───Rz(d41)───ZZ^d46───ZZ───────Rx(d52)───Rz(d58)───ZZ^d63───ZZ───────Rx(d69)───Rz(d75)───ZZ^d80───ZZ───────\n",
       "                                       │                                     │                                     │                                     │                                     │\n",
       "(0, 3): ───Rx(d2)───Rz(d8)────ZZ───────ZZ^d15───Rx(d19)───Rz(d25)───ZZ───────ZZ^d32───Rx(d36)───Rz(d42)───ZZ───────ZZ^d49───Rx(d53)───Rz(d59)───ZZ───────ZZ^d66───Rx(d70)───Rz(d76)───ZZ───────ZZ^d83───\n",
       "                              │                                     │                                     │                                     │                                     │\n",
       "(0, 4): ───Rx(d3)───Rz(d9)────ZZ^d13───ZZ───────Rx(d20)───Rz(d26)───ZZ^d30───ZZ───────Rx(d37)───Rz(d43)───ZZ^d47───ZZ───────Rx(d54)───Rz(d60)───ZZ^d64───ZZ───────Rx(d71)───Rz(d77)───ZZ^d81───ZZ───────\n",
       "                                       │                                     │                                     │                                     │                                     │\n",
       "(0, 5): ───Rx(d4)───Rz(d10)───ZZ───────ZZ^d16───Rx(d21)───Rz(d27)───ZZ───────ZZ^d33───Rx(d38)───Rz(d44)───ZZ───────ZZ^d50───Rx(d55)───Rz(d61)───ZZ───────ZZ^d67───Rx(d72)───Rz(d78)───ZZ───────ZZ^d84───\n",
       "                              │                                     │                                     │                                     │                                     │\n",
       "(0, 6): ───Rx(d5)───Rz(d11)───ZZ^d14────────────Rx(d22)───Rz(d28)───ZZ^d31────────────Rx(d39)───Rz(d45)───ZZ^d48────────────Rx(d56)───Rz(d62)───ZZ^d65────────────Rx(d73)───Rz(d79)───ZZ^d82────────────</pre>"
      ],
      "text/plain": [
       "(0, 0): ───Rx(d0)───Rz(d6)────ZZ────────────────Rx(d17)───Rz(d23)───ZZ────────────────Rx(d34)───Rz(d40)───ZZ────────────────Rx(d51)───Rz(d57)───ZZ────────────────Rx(d68)───Rz(d74)───ZZ────────────────\n",
       "                              │                                     │                                     │                                     │                                     │\n",
       "(0, 2): ───Rx(d1)───Rz(d7)────ZZ^d12───ZZ───────Rx(d18)───Rz(d24)───ZZ^d29───ZZ───────Rx(d35)───Rz(d41)───ZZ^d46───ZZ───────Rx(d52)───Rz(d58)───ZZ^d63───ZZ───────Rx(d69)───Rz(d75)───ZZ^d80───ZZ───────\n",
       "                                       │                                     │                                     │                                     │                                     │\n",
       "(0, 3): ───Rx(d2)───Rz(d8)────ZZ───────ZZ^d15───Rx(d19)───Rz(d25)───ZZ───────ZZ^d32───Rx(d36)───Rz(d42)───ZZ───────ZZ^d49───Rx(d53)───Rz(d59)───ZZ───────ZZ^d66───Rx(d70)───Rz(d76)───ZZ───────ZZ^d83───\n",
       "                              │                                     │                                     │                                     │                                     │\n",
       "(0, 4): ───Rx(d3)───Rz(d9)────ZZ^d13───ZZ───────Rx(d20)───Rz(d26)───ZZ^d30───ZZ───────Rx(d37)───Rz(d43)───ZZ^d47───ZZ───────Rx(d54)───Rz(d60)───ZZ^d64───ZZ───────Rx(d71)───Rz(d77)───ZZ^d81───ZZ───────\n",
       "                                       │                                     │                                     │                                     │                                     │\n",
       "(0, 5): ───Rx(d4)───Rz(d10)───ZZ───────ZZ^d16───Rx(d21)───Rz(d27)───ZZ───────ZZ^d33───Rx(d38)───Rz(d44)───ZZ───────ZZ^d50───Rx(d55)───Rz(d61)───ZZ───────ZZ^d67───Rx(d72)───Rz(d78)───ZZ───────ZZ^d84───\n",
       "                              │                                     │                                     │                                     │                                     │\n",
       "(0, 6): ───Rx(d5)───Rz(d11)───ZZ^d14────────────Rx(d22)───Rz(d28)───ZZ^d31────────────Rx(d39)───Rz(d45)───ZZ^d48────────────Rx(d56)───Rz(d62)───ZZ^d65────────────Rx(d73)───Rz(d79)───ZZ^d82────────────"
      ]
     },
     "execution_count": 603,
     "metadata": {},
     "output_type": "execute_result"
    }
   ],
   "source": [
    "print(\"DISCRIMINATOR\")\n",
    "disc"
   ]
  },
  {
   "cell_type": "code",
   "execution_count": 577,
   "metadata": {},
   "outputs": [],
   "source": [
    "np.random.seed(0)\n",
    "eps = 1e-2\n",
    "init_gen_weights = np.array([0] * len(gs)) + \\\n",
    "                   np.random.normal(scale=eps, size=(len(gs),))\n",
    "init_disc_weights = np.random.normal(size=(len(ds),))\n",
    "\n",
    "gen_weights = tf.Variable(init_gen_weights, dtype=tf.float32)\n",
    "disc_weights = tf.Variable(init_disc_weights, dtype=tf.float32)"
   ]
  },
  {
   "cell_type": "code",
   "execution_count": 578,
   "metadata": {},
   "outputs": [],
   "source": [
    "class CustomScheduler(tf.keras.optimizers.schedules.LearningRateSchedule):\n",
    "    def __init__(self, warmup_steps=4000):\n",
    "        super(CustomScheduler, self).__init__()\n",
    "        self.warmup_steps = warmup_steps\n",
    "\n",
    "    def __call__(self, step):\n",
    "        return max(math.e ** - ((step+200) / (self.warmup_steps / math.log(100))), 0.01)"
   ]
  },
  {
   "cell_type": "code",
   "execution_count": 579,
   "metadata": {
    "pycharm": {
     "name": "#%%\n"
    }
   },
   "outputs": [],
   "source": [
    "learning_rate = CustomScheduler()\n",
    "\n",
    "opt = tf.keras.optimizers.Adam(learning_rate, beta_1=0.9, beta_2=0.98, \n",
    "                                     epsilon=1e-9)"
   ]
  },
  {
   "cell_type": "code",
   "execution_count": 580,
   "metadata": {
    "pycharm": {
     "name": "#%%\n"
    }
   },
   "outputs": [],
   "source": [
    "#g_values = [0.1, 0.4, 0.25]\n",
    "g_values = [-0.5]\n",
    "# x_rotations = get_binary_x_rotation_provider({0: '100', 1: '011', 2: '101'})\n",
    "# real_values_provider = get_arcsin_x_rotation_provider(g_values, data_bus_size)\n",
    "real_values_provider = get_g_parameters_provider()"
   ]
  },
  {
   "cell_type": "code",
   "execution_count": 581,
   "metadata": {},
   "outputs": [],
   "source": [
    "epochs = 3\n",
    "disc_iteration = 1\n",
    "gen_iteration = 1"
   ]
  },
  {
   "cell_type": "code",
   "execution_count": 582,
   "metadata": {},
   "outputs": [],
   "source": [
    "if use_neptune:\n",
    "    neptune.init(project_qualified_name='wiktor.jurasz/thesis', api_token=neptun_token)\n",
    "    neptun_params = {\n",
    "        'generator_layers': generator_layers,\n",
    "        'discriminator_layers': discriminator_layers,\n",
    "        'g_values': g_values,\n",
    "        'size':  data_bus_size,\n",
    "        'real_phase': real_phase,\n",
    "        'generic_generator': generic_generator,\n",
    "        'all_layers_labeling': all_layers_labeling,\n",
    "        'full_layer_labeling': full_layer_labeling,\n",
    "        'use_gen_label_qubit': use_gen_label_qubit,\n",
    "        'use_disc_label_qubit': use_disc_label_qubit,\n",
    "        'zxz': zxz,\n",
    "        'fixed_gates': fixed_gates,\n",
    "        'disc_iteration': disc_iteration,\n",
    "        'gen_iteration': gen_iteration,\n",
    "        'epochs': epochs\n",
    "    }\n",
    "    neptune.create_experiment(name=None, description=None, params=neptun_params)\n",
    "    neptune.log_artifact(io.StringIO(str(disc)), \"disc.txt\")\n",
    "    neptune.log_artifact(io.StringIO(str(pure_gen)), \"gen.txt\")\n",
    "    neptune.log_artifact(io.StringIO(str(list(init_gen_weights))), 'init_gen_weights.txt')\n",
    "    neptune.log_artifact(io.StringIO(str(list(init_disc_weights))), 'init_disc_weights.txt')"
   ]
  },
  {
   "cell_type": "code",
   "execution_count": null,
   "metadata": {},
   "outputs": [],
   "source": [
    "trainer = Trainer(g_values, \n",
    "                  data_bus_size, \n",
    "                  disc, \n",
    "                  gen, \n",
    "                  pure_gen,\n",
    "                  real, \n",
    "                  pure_real,\n",
    "                  out_qubit, \n",
    "                  ds, \n",
    "                  gs, \n",
    "                  real_symbols, \n",
    "                  ls,\n",
    "                  real_values_provider = real_values_provider,\n",
    "                  use_analytical_expectation=True,\n",
    "                  use_neptune=use_neptune)"
   ]
  },
  {
   "cell_type": "code",
   "execution_count": null,
   "metadata": {
    "scrolled": true
   },
   "outputs": [],
   "source": [
    "snapshot_interval_epochs = 20\n",
    "results, json_result = trainer.train(disc_weights,\n",
    "      gen_weights, \n",
    "      opt, \n",
    "      epochs=epochs, \n",
    "      disc_iteration=disc_iteration, \n",
    "      gen_iteration=gen_iteration,\n",
    "      snapshot_interval_epochs=snapshot_interval_epochs,\n",
    "      early_stop_fidelity_threshold=None)\n",
    "res_dict = trainer.get_params_and_results()"
   ]
  },
  {
   "cell_type": "code",
   "execution_count": null,
   "metadata": {},
   "outputs": [],
   "source": [
    "trained_gen_pairs = res_dict['weights'][-1]['gen_pairs']\n",
    "trained_disc_pairs = res_dict['weights'][-1]['disc_pairs']"
   ]
  },
  {
   "cell_type": "code",
   "execution_count": null,
   "metadata": {},
   "outputs": [],
   "source": [
    "gen_evaluator = CircuitEvaluator(pure_gen, ls, trainer.label_value_provider, trained_gen_pairs, gs)\n",
    "disc_evaluator = CircuitEvaluator(disc, ls, trainer.label_value_provider, trained_disc_pairs, ds)\n",
    "real_evaluator = CircuitEvaluator(pure_real, real_symbols, trainer.real_values_provider)"
   ]
  },
  {
   "cell_type": "code",
   "execution_count": null,
   "metadata": {},
   "outputs": [],
   "source": [
    "if use_neptune:\n",
    "    neptune.log_artifact(io.StringIO(disc_evaluator.get_resolved_circuit().to_qasm()), 'desc_qasm.txt')\n",
    "    neptune.log_artifact(io.StringIO(gen_evaluator.get_resolved_circuit().to_qasm()), 'gen_qasm.txt')\n",
    "    neptune.log_artifact(io.StringIO(json_result), 'weights.json')"
   ]
  },
  {
   "cell_type": "code",
   "execution_count": null,
   "metadata": {},
   "outputs": [],
   "source": [
    "def get_gen_for_g(g, gen_weights, gen_provider):\n",
    "    rad = gen_provider(g)\n",
    "    return np.append(gen_weights, rad)\n",
    "\n",
    "def get_states_and_fidelty_for_real(gen_evaluator, \n",
    "                                    real_evaluator, \n",
    "                                    gen_pairs, \n",
    "                                    g, \n",
    "                                    sized):\n",
    "    generated = gen_evaluator.get_state_from_params()\n",
    "    real = real_evaluator.get_state_from_params(g)\n",
    "    return generated, real, cirq.fidelity(generated, real)\n",
    "\n",
    "def get_states_and_fidelty_for_ground(gen_evaluator, g, gen_weights, size):\n",
    "\n",
    "    generated = gen_evaluator.get_state_from_params(trace_dims=list(range(size)))\n",
    "    ground = get_ground_state_for_g(g, size)\n",
    "    return generated, ground, cirq.fidelity(generated, ground)\n",
    "\n",
    "def compare_generated_for_g(gen_evaluator, g1, g2, gen_weights, size):\n",
    "    generated1 = gen_evaluator.get_state_from_params(trace_dims=list(range(size)))\n",
    "    generated2 = gen_evaluator.get_state_from_params(trace_dims=list(range(size)))\n",
    "    return generated1, generated2, cirq.fidelity(generated1, generated2)"
   ]
  },
  {
   "cell_type": "code",
   "execution_count": null,
   "metadata": {},
   "outputs": [],
   "source": [
    "def angle_dist(g, phase_angles_provider, weights):\n",
    "    angles = phase_angles_provider(g)\n",
    "    z1_rad = 3 * math.pi / 2\n",
    "    z2_rad = -3 * math.pi / 2\n",
    "    z1_deg = math.degrees(z1_rad)\n",
    "    z2_deg = math.degrees(z2_rad)\n",
    "    \n",
    "    xr_rad = angles[0]\n",
    "    xv_rad = angles[1]\n",
    "    xw_rad = angles[2]\n",
    "    xr_deg = math.degrees(xr_rad)\n",
    "    xv_deg = math.degrees(xv_rad)\n",
    "    xw_deg = math.degrees(xw_rad)\n",
    "    \n",
    "    \n",
    "    norm_w_deg = [math.degrees(w) for w in weights]\n",
    "    deg_diff = [norm_w_deg[0], z1_deg, norm_w_deg[0] - z1_deg, weights[0], z1_rad]\n",
    "    \n",
    "    print(z1_deg,z2_deg,xr_deg,xv_deg,xw_deg)\n",
    "    return deg_diff"
   ]
  },
  {
   "cell_type": "code",
   "execution_count": 591,
   "metadata": {},
   "outputs": [],
   "source": [
    "g = 0.1\n",
    "generated_state, real_state, fidelity = \\\n",
    "    get_states_and_fidelty_for_real(gen_evaluator, real_evaluator, trained_gen_pairs, g, data_bus_size)"
   ]
  },
  {
   "cell_type": "code",
   "execution_count": 592,
   "metadata": {},
   "outputs": [
    {
     "data": {
      "text/plain": [
       "(array([-0.23003557+0.j, -0.3092451 +0.j, -0.23542109+0.j,  0.17317638+0.j,\n",
       "         0.11002472+0.j,  0.1479102 -0.j, -0.19671294+0.j,  0.14470255+0.j,\n",
       "         0.10824019+0.j,  0.14551118-0.j,  0.11077428+0.j, -0.08148585+0.j,\n",
       "         0.12488808+0.j,  0.16789153-0.j, -0.22328708+0.j,  0.1642506 +0.j,\n",
       "         0.16689011+0.j,  0.2243564 -0.j,  0.17079735+0.j, -0.12563896+0.j,\n",
       "        -0.0798226 +0.j, -0.10730839+0.j,  0.14271463+0.j, -0.10498127+0.j,\n",
       "         0.14919445+0.j,  0.20056748-0.j,  0.15268736+0.j, -0.11231721+0.j,\n",
       "         0.17214134+0.j,  0.23141581-0.j, -0.30777115+0.j,  0.22639728+0.j],\n",
       "       dtype=complex64),\n",
       " array([ 0.184799  +0.j,  0.58438575+0.j,  0.18479903+0.j,  0.05843858+0.j,\n",
       "         0.0184799 +0.j,  0.05843857+0.j,  0.18479902+0.j,  0.05843858+0.j,\n",
       "         0.0184799 +0.j,  0.05843857+0.j,  0.0184799 +0.j,  0.00584386+0.j,\n",
       "         0.01847989+0.j,  0.05843855+0.j,  0.18479899+0.j,  0.05843857+0.j,\n",
       "        -0.05843858+0.j, -0.18479899+0.j, -0.05843858+0.j, -0.0184799 +0.j,\n",
       "        -0.00584385+0.j, -0.01847989+0.j, -0.05843857+0.j, -0.0184799 +0.j,\n",
       "         0.05843857+0.j,  0.18479902+0.j,  0.05843858+0.j,  0.01847989+0.j,\n",
       "         0.05843857+0.j,  0.18479899+0.j,  0.5843857 +0.j,  0.18479899+0.j],\n",
       "       dtype=complex64),\n",
       " 0.1418961870654698)"
      ]
     },
     "execution_count": 592,
     "metadata": {},
     "output_type": "execute_result"
    }
   ],
   "source": [
    "generated_state, real_state, fidelity"
   ]
  },
  {
   "cell_type": "code",
   "execution_count": null,
   "metadata": {},
   "outputs": [],
   "source": [
    "if use_neptune:\n",
    "    neptune.log_artifact(io.StringIO(str({\"generated_state\": generated_state.tolist(), \"real_state\": real_state.tolist()})), f\"states_g={g}.txt\")"
   ]
  },
  {
   "cell_type": "code",
   "execution_count": null,
   "metadata": {},
   "outputs": [],
   "source": [
    "if use_neptune:\n",
    "    neptune.stop()"
   ]
  },
  {
   "cell_type": "code",
   "execution_count": null,
   "metadata": {},
   "outputs": [],
   "source": [
    "get_g_parameters_provider()(g)"
   ]
  },
  {
   "cell_type": "code",
   "execution_count": null,
   "metadata": {},
   "outputs": [],
   "source": [
    "real025 = real_evaluator.get_state_from_params(0.25)"
   ]
  },
  {
   "cell_type": "code",
   "execution_count": null,
   "metadata": {},
   "outputs": [],
   "source": [
    "real04 = real_evaluator.get_state_from_params(0.4)\n",
    "real01 = real_evaluator.get_state_from_params(0.1)"
   ]
  },
  {
   "cell_type": "code",
   "execution_count": null,
   "metadata": {},
   "outputs": [],
   "source": [
    "cirq.fidelity(real025, -real025)"
   ]
  },
  {
   "cell_type": "code",
   "execution_count": null,
   "metadata": {},
   "outputs": [],
   "source": [
    "compare_generated_for_g(gen_evaluator, -0.9, -0.8, trained_gen_weights, data_bus_size)"
   ]
  },
  {
   "cell_type": "code",
   "execution_count": null,
   "metadata": {},
   "outputs": [],
   "source": [
    "g = 0\n",
    "get_states_and_fidelty_for_ground(gen_evaluator, g, trained_gen_weights, data_bus_size)"
   ]
  },
  {
   "cell_type": "code",
   "execution_count": null,
   "metadata": {},
   "outputs": [],
   "source": [
    "q1, q2 = cirq.GridQubit.rect(1,2)"
   ]
  },
  {
   "cell_type": "code",
   "execution_count": null,
   "metadata": {},
   "outputs": [],
   "source": [
    "circuit = cirq.Circuit()\n",
    "circuit.append([cirq.ZZPowGate(exponent=0.478, global_shift=-0.5).on(q1,q2)])\n",
    "cirq.final_state_vector(circuit),circuit._unitary_()"
   ]
  },
  {
   "cell_type": "code",
   "execution_count": null,
   "metadata": {},
   "outputs": [],
   "source": [
    "circuit = cirq.Circuit()\n",
    "circuit.append([cirq.ZZPowGate(exponent=2.25, global_shift=1).on(q1,q2)])\n",
    "cirq.final_state_vector(circuit),circuit._unitary_()"
   ]
  },
  {
   "cell_type": "code",
   "execution_count": null,
   "metadata": {},
   "outputs": [],
   "source": []
  }
 ],
 "metadata": {
  "kernelspec": {
   "display_name": "Python 3",
   "language": "python",
   "name": "python3"
  },
  "language_info": {
   "codemirror_mode": {
    "name": "ipython",
    "version": 3
   },
   "file_extension": ".py",
   "mimetype": "text/x-python",
   "name": "python",
   "nbconvert_exporter": "python",
   "pygments_lexer": "ipython3",
   "version": "3.8.7"
  }
 },
 "nbformat": 4,
 "nbformat_minor": 1
}
