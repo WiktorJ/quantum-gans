{
 "cells": [
  {
   "cell_type": "code",
   "execution_count": null,
   "metadata": {
    "scrolled": true
   },
   "outputs": [],
   "source": [
    "# For colab\n",
    "!pip uninstall tensorflow -y\n",
    "!pip install tensorflow==2.3.1 tensorflow-quantum\n",
    "!rm -rf quantum-gans\n",
    "!git clone https://github.com/WiktorJ/quantum-gans\n",
    "!cd quantum-gans; pip install ."
   ]
  },
  {
   "cell_type": "code",
   "execution_count": 4,
   "metadata": {
    "pycharm": {
     "is_executing": true
    }
   },
   "outputs": [],
   "source": [
    "import math\n",
    "import random\n",
    "import tensorflow as tf\n",
    "import tensorflow_quantum as tfq\n",
    "\n",
    "import cirq\n",
    "import numpy as np\n",
    "from qsgenerator.utils import map_to_radians\n",
    "from qsgenerator.qugans import circuits\n",
    "from qsgenerator.qugans.training import Trainer\n",
    "from qsgenerator.phase.circuits import build_ground_state_circuit\n",
    "from qsgenerator.phase.analitical import  get_ground_state_for_g\n",
    "from qsgenerator.states.simple_state_circuits import build_x_rotation_state\n",
    "from qsgenerator.states.simple_rotation_generators import get_binary_x_rotation_provider \n",
    "from qsgenerator.phase.analitical import construct_hamiltonian, get_theta_v, get_theta_w, get_theta_r, get_g_parameters_provider\n",
    "from qsgenerator.evaluators.circuit_evaluator import CircuitEvaluator"
   ]
  },
  {
   "cell_type": "code",
   "execution_count": 5,
   "metadata": {},
   "outputs": [],
   "source": [
    "generator_layers = 3\n",
    "discriminator_layers = 5\n",
    "data_bus_size = 3"
   ]
  },
  {
   "cell_type": "code",
   "execution_count": 6,
   "metadata": {},
   "outputs": [],
   "source": [
    "gen, gs, disc, ds, ls, data_qubits, out_qubit = circuits.build_gan_circuits(generator_layers, discriminator_layers, data_bus_size)"
   ]
  },
  {
   "cell_type": "code",
   "execution_count": 7,
   "metadata": {},
   "outputs": [],
   "source": [
    "real, real_symbols = build_ground_state_circuit(qubits=data_qubits)"
   ]
  },
  {
   "cell_type": "code",
   "execution_count": 8,
   "metadata": {},
   "outputs": [],
   "source": [
    "real, real_symbols = build_x_rotation_state(qubits=data_qubits)"
   ]
  },
  {
   "cell_type": "code",
   "execution_count": 9,
   "metadata": {},
   "outputs": [],
   "source": [
    "pure_gen = gen.copy()\n",
    "gen.append([disc])"
   ]
  },
  {
   "cell_type": "code",
   "execution_count": 10,
   "metadata": {},
   "outputs": [],
   "source": [
    "pure_real = real.copy()\n",
    "real.append([disc])"
   ]
  },
  {
   "cell_type": "code",
   "execution_count": 11,
   "metadata": {
    "scrolled": true
   },
   "outputs": [
    {
     "name": "stdout",
     "output_type": "stream",
     "text": [
      "REAL GROUND STATE\n",
      "(0, 2): ───Rx(r0)───\n",
      "\n",
      "(0, 3): ───Rx(r1)───\n",
      "\n",
      "(0, 4): ───Rx(r2)───\n"
     ]
    }
   ],
   "source": [
    "print(\"REAL GROUND STATE\")\n",
    "print(pure_real)"
   ]
  },
  {
   "cell_type": "code",
   "execution_count": 12,
   "metadata": {},
   "outputs": [
    {
     "name": "stdout",
     "output_type": "stream",
     "text": [
      "GENERATOR\n",
      "(0, 2): ───Rx(l)───Rx(g0)───Rz(g4)───ZZ───────────────Rx(g11)───Rz(g15)───ZZ────────────────Rx(g22)───Rz(g26)───ZZ────────────────\n",
      "                                     │                                    │                                     │\n",
      "(0, 3): ───Rx(l)───Rx(g1)───Rz(g5)───ZZ^g8───ZZ───────Rx(g12)───Rz(g16)───ZZ^g19───ZZ───────Rx(g23)───Rz(g27)───ZZ^g30───ZZ───────\n",
      "                                             │                                     │                                     │\n",
      "(0, 4): ───Rx(l)───Rx(g2)───Rz(g6)───ZZ──────ZZ^g10───Rx(g13)───Rz(g17)───ZZ───────ZZ^g21───Rx(g24)───Rz(g28)───ZZ───────ZZ^g32───\n",
      "                                     │                                    │                                     │\n",
      "(0, 5): ───Rx(l)───Rx(g3)───Rz(g7)───ZZ^g9────────────Rx(g14)───Rz(g18)───ZZ^g20────────────Rx(g25)───Rz(g29)───ZZ^g31────────────\n"
     ]
    }
   ],
   "source": [
    "print(\"GENERATOR\")\n",
    "print(pure_gen)"
   ]
  },
  {
   "cell_type": "code",
   "execution_count": 13,
   "metadata": {},
   "outputs": [
    {
     "name": "stdout",
     "output_type": "stream",
     "text": [
      "DISCRIMINATOR\n",
      "(0, 0): ───Rx(l)───Rx(d0)───Rz(d5)───ZZ────────────────Rx(d14)───Rz(d19)───ZZ────────────────Rx(d28)───Rz(d33)───ZZ────────────────Rx(d42)───Rz(d47)───ZZ────────────────Rx(d56)───Rz(d61)───ZZ────────────────\n",
      "                                     │                                     │                                     │                                     │                                     │\n",
      "(0, 1): ───Rx(l)───Rx(d1)───Rz(d6)───ZZ^d10───ZZ───────Rx(d15)───Rz(d20)───ZZ^d24───ZZ───────Rx(d29)───Rz(d34)───ZZ^d38───ZZ───────Rx(d43)───Rz(d48)───ZZ^d52───ZZ───────Rx(d57)───Rz(d62)───ZZ^d66───ZZ───────\n",
      "                                              │                                     │                                     │                                     │                                     │\n",
      "(0, 2): ───Rx(l)───Rx(d2)───Rz(d7)───ZZ───────ZZ^d12───Rx(d16)───Rz(d21)───ZZ───────ZZ^d26───Rx(d30)───Rz(d35)───ZZ───────ZZ^d40───Rx(d44)───Rz(d49)───ZZ───────ZZ^d54───Rx(d58)───Rz(d63)───ZZ───────ZZ^d68───\n",
      "                                     │                                     │                                     │                                     │                                     │\n",
      "(0, 3): ───Rx(l)───Rx(d3)───Rz(d8)───ZZ^d11───ZZ───────Rx(d17)───Rz(d22)───ZZ^d25───ZZ───────Rx(d31)───Rz(d36)───ZZ^d39───ZZ───────Rx(d45)───Rz(d50)───ZZ^d53───ZZ───────Rx(d59)───Rz(d64)───ZZ^d67───ZZ───────\n",
      "                                              │                                     │                                     │                                     │                                     │\n",
      "(0, 4): ───Rx(l)───Rx(d4)───Rz(d9)────────────ZZ^d13───Rx(d18)───Rz(d23)────────────ZZ^d27───Rx(d32)───Rz(d37)────────────ZZ^d41───Rx(d46)───Rz(d51)────────────ZZ^d55───Rx(d60)───Rz(d65)────────────ZZ^d69───\n"
     ]
    }
   ],
   "source": [
    "print(\"DISCRIMINATOR\")\n",
    "print(disc)"
   ]
  },
  {
   "cell_type": "code",
   "execution_count": 14,
   "metadata": {},
   "outputs": [],
   "source": [
    "np.random.seed(0)\n",
    "eps = 1e-2\n",
    "init_gen_weights = np.array([0] * len(gs)) + \\\n",
    "                   np.random.normal(scale=eps, size=(len(gs),))\n",
    "init_disc_weights = np.random.normal(size=(len(ds),))\n",
    "\n",
    "gen_weights = tf.Variable(init_gen_weights, dtype=tf.float32)\n",
    "disc_weights = tf.Variable(init_disc_weights, dtype=tf.float32)"
   ]
  },
  {
   "cell_type": "code",
   "execution_count": 15,
   "metadata": {},
   "outputs": [],
   "source": [
    "class CustomScheduler(tf.keras.optimizers.schedules.LearningRateSchedule):\n",
    "    def __init__(self, warmup_steps=4000):\n",
    "        super(CustomScheduler, self).__init__()\n",
    "        self.warmup_steps = warmup_steps\n",
    "\n",
    "    def __call__(self, step):\n",
    "        return max(math.e ** - ((step+200) / (self.warmup_steps / math.log(100))), 0.01)"
   ]
  },
  {
   "cell_type": "code",
   "execution_count": 16,
   "metadata": {
    "pycharm": {
     "name": "#%%\n"
    }
   },
   "outputs": [],
   "source": [
    "learning_rate = CustomScheduler()\n",
    "\n",
    "opt = tf.keras.optimizers.Adam(learning_rate, beta_1=0.9, beta_2=0.98, \n",
    "                                     epsilon=1e-9)"
   ]
  },
  {
   "cell_type": "code",
   "execution_count": 17,
   "metadata": {
    "pycharm": {
     "name": "#%%\n"
    }
   },
   "outputs": [],
   "source": [
    "g_provider = lambda: random.choice([0, 1, 2])\n",
    "x_rotations = get_binary_x_rotation_provider({0: '100', 1: '011', 2: '101'})"
   ]
  },
  {
   "cell_type": "code",
   "execution_count": 18,
   "metadata": {},
   "outputs": [],
   "source": [
    "trainer = Trainer(g_provider, \n",
    "                  data_bus_size, \n",
    "                  disc, \n",
    "                  gen, \n",
    "                  real, \n",
    "                  out_qubit, \n",
    "                  ds, \n",
    "                  gs, \n",
    "                  real_symbols, \n",
    "                  ls,\n",
    "                  real_values_provider = x_rotations,\n",
    "                  use_analytical_expectation=True)"
   ]
  },
  {
   "cell_type": "code",
   "execution_count": null,
   "metadata": {},
   "outputs": [],
   "source": [
    "epochs = 101\n",
    "disc_iteration = 100\n",
    "gen_iteration = 10\n",
    "print_interval_epoch = 10\n",
    "trainer.train(disc_weights,\n",
    "      gen_weights, \n",
    "      opt, \n",
    "      epochs=epochs, \n",
    "      disc_iteration=disc_iteration, \n",
    "      gen_iteration=gen_iteration,\n",
    "      print_interval_epoch=print_interval_epoch)"
   ]
  },
  {
   "cell_type": "code",
   "execution_count": 19,
   "metadata": {},
   "outputs": [],
   "source": [
    "def get_gen_for_g(g, gen_weights):\n",
    "    rad = map_to_radians(g)\n",
    "    return np.append(gen_weights, rad)\n",
    "\n",
    "def get_states_and_fidelty_for_real(gen_evaluator, real_evaluator, gen_weights, g, size, real_provider):\n",
    "    generated = gen_evaluator.get_state_from_params(get_gen_for_g(g, gen_weights), list(range(size)))\n",
    "    real = real_evaluator.get_state_from_params(real_provider(g), list(range(size)))\n",
    "    return generated, real, cirq.fidelity(generated, real)\n",
    "\n",
    "def get_states_and_fidelty_for_ground(gen_evaluator, g, gen_weights, size):\n",
    "    generated = gen_evaluator.get_state_from_params(get_gen_for_g(g, gen_weights), list(range(size)))\n",
    "    ground = get_ground_state_for_g(g, size)\n",
    "    return generated, ground, cirq.fidelity(generated, ground)\n",
    "\n",
    "def compare_generated_for_g(gen_evaluator, g1, g2, gen_weights, size):\n",
    "     generated1 = gen_evaluator.get_state_from_params(get_gen_for_g(g1, gen_weights), list(range(size)))\n",
    "     generated2 = gen_evaluator.get_state_from_params(get_gen_for_g(g2, gen_weights), list(range(size)))\n",
    "     return generated1, generated2, cirq.fidelity(generated1, generated2)"
   ]
  },
  {
   "cell_type": "code",
   "execution_count": 20,
   "metadata": {
    "pycharm": {
     "name": "#%%\n"
    }
   },
   "outputs": [],
   "source": [
    "trained_disc_weights = tf.Variable(np.array([ 1.25888796e+01,  1.10409822e+01,  1.27487049e+01,  1.32927475e+01,\n",
    "       -3.20522385e+01,  2.98508596e+00, -7.54223883e-01,  8.97036648e+00,\n",
    "        8.98472309e+00, -2.77423954e+00,  8.90891266e+00,  5.72837019e+00,\n",
    "        6.03105211e+00, -4.64482594e+00, -1.10843427e-01,  7.78598115e-02,\n",
    "        3.00343895e+00,  3.83781940e-01,  6.08641243e+00,  8.64131927e+00,\n",
    "       -2.17593918e+01,  1.45857897e+01,  2.36893883e+01,  8.75363445e+00,\n",
    "       -2.42768993e+01,  1.27688437e+01,  2.53628349e+00,  1.39768391e+01,\n",
    "        1.40961084e+01, -2.04474068e+01,  4.71392822e+00,  1.66926212e+01,\n",
    "        1.88311214e+01,  9.17525005e+00,  1.16109962e+01,  1.08004580e+01,\n",
    "        1.10795708e+01,  5.81477690e+00, -5.50215101e+00,  2.22007637e+01,\n",
    "        2.25015125e+01,  3.21826210e+01, -1.80058708e+01, -7.85126591e+00,\n",
    "       -7.77073908e+00,  1.40237570e+01,  3.14071465e+01, -1.07477732e+01,\n",
    "        1.55852342e+00,  2.63786411e+01,  1.31890945e+01,  7.14759350e+00,\n",
    "        5.46145630e+00, -1.79730053e+01,  7.40563774e+00,  1.06135674e+01,\n",
    "       -1.55095673e+00, -2.66580944e+01,  6.51995277e+00, -2.37151980e+00,\n",
    "        3.51896515e+01,  1.50027342e+01,  1.80733763e-02, -1.75052185e+01,\n",
    "        9.60706902e+00, -6.06413984e+00,  5.35433817e+00, -7.88707399e+00,\n",
    "        1.27363043e+01,  1.02446747e+01]), dtype=tf.float32)\n",
    "\n",
    "trained_gen_weights = np.array([ -1.6883899 ,  12.534816  ,   0.3735907 ,  -9.315787  ,\n",
    "        -6.007224  , -12.969288  ,   8.700528  ,  -5.1759815 ,\n",
    "         4.310844  ,  -3.130318  ,   6.798724  ,   4.905171  ,\n",
    "        -0.2890863 ,  -1.222973  ,  -0.07461139,  -2.5728188 ,\n",
    "         1.7303827 ,  -1.5344989 ,   2.6312382 ,  -1.8737797 ,\n",
    "        -1.0022153 ,   4.3546224 ,   3.5610907 ,  -4.2001524 ,\n",
    "        10.083789  , -16.943022  ,   8.448887  ,   7.81465   ,\n",
    "         2.9656339 ,   0.04719266,  14.356344  ,   0.31659052,\n",
    "         4.6315327 ])\n",
    "\n",
    "gen_symbols = gs + (ls,)\n",
    "# real_symbols = ('r0', 'r1', 'r2')"
   ]
  },
  {
   "cell_type": "code",
   "execution_count": 21,
   "metadata": {},
   "outputs": [],
   "source": [
    "gen_evaluator = CircuitEvaluator(pure_gen, gen_symbols)\n",
    "real_evaluator = CircuitEvaluator(pure_real, real_symbols)"
   ]
  },
  {
   "cell_type": "code",
   "execution_count": 22,
   "metadata": {},
   "outputs": [
    {
     "name": "stdout",
     "output_type": "stream",
     "text": [
      "Max probability state after tracing has probability: 0.8652666211128235\n",
      "Max probability state after tracing has probability: 1.0\n"
     ]
    },
    {
     "data": {
      "text/plain": [
       "(array([-0.59494203+0.j        ,  0.11035448-0.21411993j,\n",
       "        -0.11897308-0.20157549j, -0.3484044 +0.11465914j,\n",
       "         0.06583245+0.3389708j , -0.05640569+0.01146295j,\n",
       "         0.35240868+0.05967778j, -0.02327937-0.38451982j], dtype=complex64),\n",
       " array([ 0.       -0.j       , -0.477583 +0.5214543j,\n",
       "         0.       -0.j       ,  0.5214543+0.477583j ,\n",
       "         0.       -0.j       ,  0.       -0.j       ,\n",
       "         0.       -0.j       ,  0.       -0.j       ], dtype=complex64),\n",
       " 0.15822610790345326)"
      ]
     },
     "execution_count": 22,
     "metadata": {},
     "output_type": "execute_result"
    }
   ],
   "source": [
    "g = 0\n",
    "get_states_and_fidelty_for_real(gen_evaluator, real_evaluator, trained_gen_weights, g, data_bus_size, get_g_parameters_provider())"
   ]
  },
  {
   "cell_type": "code",
   "execution_count": 23,
   "metadata": {},
   "outputs": [
    {
     "name": "stdout",
     "output_type": "stream",
     "text": [
      "Max probability state after tracing has probability: 0.8131296038627625\n",
      "Max probability state after tracing has probability: 0.9999998807907104\n"
     ]
    },
    {
     "data": {
      "text/plain": [
       "(array([-0.34420297+0.j        ,  0.0109985 -0.12667517j,\n",
       "         0.505712  -0.05309889j, -0.2982401 -0.07065247j,\n",
       "         0.22529078-0.2594643j ,  0.09571937+0.04974068j,\n",
       "         0.5242721 -0.07012914j, -0.3077103 -0.09313883j], dtype=complex64),\n",
       " array([ 2.5000000e-01+0.0000000e+00j, -1.1102230e-16-2.5000000e-01j,\n",
       "         2.0376244e-17-6.0355341e-01j, -6.0355341e-01+6.4979843e-18j,\n",
       "         2.6728770e-19-1.0355339e-01j, -1.0355339e-01-3.6265658e-18j,\n",
       "        -2.5000000e-01+4.4419206e-18j,  4.4419206e-18+2.5000000e-01j],\n",
       "       dtype=complex64),\n",
       " 0.21501619424179808)"
      ]
     },
     "execution_count": 23,
     "metadata": {},
     "output_type": "execute_result"
    }
   ],
   "source": [
    "g = -1\n",
    "get_states_and_fidelty_for_real(gen_evaluator, real_evaluator, trained_gen_weights, g, data_bus_size, get_g_parameters_provider())"
   ]
  },
  {
   "cell_type": "code",
   "execution_count": null,
   "metadata": {},
   "outputs": [],
   "source": [
    "compare_generated_for_g(gen_evaluator, -1, 0, trained_gen_weights, data_bus_size)"
   ]
  },
  {
   "cell_type": "code",
   "execution_count": null,
   "metadata": {},
   "outputs": [],
   "source": [
    "g = 0\n",
    "get_states_and_fidelty_for_ground(gen_evaluator, g, trained_gen_weights, data_bus_size)"
   ]
  },
  {
   "cell_type": "code",
   "execution_count": null,
   "metadata": {},
   "outputs": [],
   "source": []
  }
 ],
 "metadata": {
  "kernelspec": {
   "display_name": "Python 3",
   "language": "python",
   "name": "python3"
  },
  "language_info": {
   "codemirror_mode": {
    "name": "ipython",
    "version": 3
   },
   "file_extension": ".py",
   "mimetype": "text/x-python",
   "name": "python",
   "nbconvert_exporter": "python",
   "pygments_lexer": "ipython3",
   "version": "3.8.6"
  }
 },
 "nbformat": 4,
 "nbformat_minor": 1
}
