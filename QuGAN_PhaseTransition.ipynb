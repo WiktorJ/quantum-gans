{
 "cells": [
  {
   "cell_type": "code",
   "execution_count": 1,
   "metadata": {
    "scrolled": true
   },
   "outputs": [],
   "source": [
    "if 'google.colab' in str(get_ipython()):\n",
    "    !pip uninstall tensorflow -y\n",
    "    !pip install tensorflow==2.3.1 tensorflow-quantum\n",
    "    !rm -rf quantum-gans\n",
    "    !git clone https://github.com/WiktorJ/quantum-gans\n",
    "    !cd quantum-gans; pip install ."
   ]
  },
  {
   "cell_type": "code",
   "execution_count": 2,
   "metadata": {},
   "outputs": [
    {
     "name": "stdout",
     "output_type": "stream",
     "text": [
      "The autoreload extension is already loaded. To reload it, use:\n",
      "  %reload_ext autoreload\n"
     ]
    }
   ],
   "source": [
    "%load_ext autoreload\n",
    "%autoreload 2"
   ]
  },
  {
   "cell_type": "code",
   "execution_count": 87,
   "metadata": {},
   "outputs": [],
   "source": [
    "import math\n",
    "import random\n",
    "import tensorflow as tf\n",
    "\n",
    "import cirq\n",
    "import numpy as np\n",
    "from qsgenerator.utils import map_to_radians\n",
    "from qsgenerator.qugans import circuits\n",
    "from qsgenerator.qugans.training import Trainer\n",
    "from qsgenerator.phase.circuits import build_ground_state_circuit\n",
    "from qsgenerator.phase.analitical import  get_ground_state_for_g\n",
    "from qsgenerator.states.simple_state_circuits import build_x_rotation_state\n",
    "from qsgenerator.states.simple_rotation_generators import get_binary_x_rotation_provider, get_arcsin_x_rotation_provider\n",
    "from qsgenerator.phase.analitical import construct_hamiltonian, get_theta_v, get_theta_w, get_theta_r, get_g_parameters_provider\n",
    "from qsgenerator.evaluators.circuit_evaluator import CircuitEvaluator"
   ]
  },
  {
   "cell_type": "code",
   "execution_count": 88,
   "metadata": {},
   "outputs": [],
   "source": [
    "generator_layers = 3\n",
    "discriminator_layers = 4\n",
    "data_bus_size = 2"
   ]
  },
  {
   "cell_type": "code",
   "execution_count": 89,
   "metadata": {},
   "outputs": [],
   "source": [
    "real_phase = False\n",
    "generic_generator = True\n",
    "all_layers_labeling = False\n",
    "full_layer_labeling = False\n",
    "use_gen_label_qubit = False"
   ]
  },
  {
   "cell_type": "code",
   "execution_count": 90,
   "metadata": {},
   "outputs": [],
   "source": [
    "gen, gs, disc, ds, ls, data_qubits, out_qubit = circuits.build_gan_circuits(\n",
    "    generator_layers, \n",
    "    discriminator_layers, \n",
    "    data_bus_size, \n",
    "    all_layers_labeling=all_layers_labeling,\n",
    "    full_layer_labeling=full_layer_labeling,\n",
    "    use_gen_label_qubit=use_gen_label_qubit)"
   ]
  },
  {
   "cell_type": "code",
   "execution_count": 91,
   "metadata": {},
   "outputs": [],
   "source": [
    "if not generic_generator:\n",
    "    gen, gs = build_ground_state_circuit(qubits=data_qubits, full_parametrization=True)"
   ]
  },
  {
   "cell_type": "code",
   "execution_count": 92,
   "metadata": {},
   "outputs": [],
   "source": [
    "if real_phase:\n",
    "    real, real_symbols = build_ground_state_circuit(qubits=data_qubits)\n",
    "else:\n",
    "    real, real_symbols = build_x_rotation_state(qubits=data_qubits)"
   ]
  },
  {
   "cell_type": "code",
   "execution_count": 93,
   "metadata": {},
   "outputs": [],
   "source": [
    "pure_gen = gen.copy()\n",
    "gen.append([disc])"
   ]
  },
  {
   "cell_type": "code",
   "execution_count": 94,
   "metadata": {},
   "outputs": [],
   "source": [
    "pure_real = real.copy()\n",
    "real.append([disc])"
   ]
  },
  {
   "cell_type": "code",
   "execution_count": 95,
   "metadata": {
    "scrolled": true
   },
   "outputs": [
    {
     "name": "stdout",
     "output_type": "stream",
     "text": [
      "REAL GROUND STATE\n"
     ]
    },
    {
     "data": {
      "text/html": [
       "<pre style=\"overflow: auto; white-space: pre;\">(0, 1): ───Rx(r0)───\n",
       "\n",
       "(0, 2): ───Rx(r1)───</pre>"
      ],
      "text/plain": [
       "(0, 1): ───Rx(r0)───\n",
       "\n",
       "(0, 2): ───Rx(r1)───"
      ]
     },
     "execution_count": 95,
     "metadata": {},
     "output_type": "execute_result"
    }
   ],
   "source": [
    "print(\"REAL GROUND STATE\")\n",
    "pure_real"
   ]
  },
  {
   "cell_type": "code",
   "execution_count": 96,
   "metadata": {},
   "outputs": [
    {
     "name": "stdout",
     "output_type": "stream",
     "text": [
      "GENERATOR\n"
     ]
    },
    {
     "data": {
      "text/html": [
       "<pre style=\"overflow: auto; white-space: pre;\">(0, 1): ───Rx(g0)───Rz(g2)───ZZ──────Rx(g5)───Rz(g7)───ZZ──────Rx(g10)───Rz(g12)───ZZ───────\n",
       "                             │                         │                           │\n",
       "(0, 2): ───Rx(g1)───Rz(g3)───ZZ^g4───Rx(g6)───Rz(g8)───ZZ^g9───Rx(g11)───Rz(g13)───ZZ^g14───</pre>"
      ],
      "text/plain": [
       "(0, 1): ───Rx(g0)───Rz(g2)───ZZ──────Rx(g5)───Rz(g7)───ZZ──────Rx(g10)───Rz(g12)───ZZ───────\n",
       "                             │                         │                           │\n",
       "(0, 2): ───Rx(g1)───Rz(g3)───ZZ^g4───Rx(g6)───Rz(g8)───ZZ^g9───Rx(g11)───Rz(g13)───ZZ^g14───"
      ]
     },
     "execution_count": 96,
     "metadata": {},
     "output_type": "execute_result"
    }
   ],
   "source": [
    "print(\"GENERATOR\")\n",
    "pure_gen"
   ]
  },
  {
   "cell_type": "code",
   "execution_count": 97,
   "metadata": {},
   "outputs": [
    {
     "name": "stdout",
     "output_type": "stream",
     "text": [
      "DISCRIMINATOR\n"
     ]
    },
    {
     "data": {
      "text/html": [
       "<pre style=\"overflow: auto; white-space: pre;\">(0, 0): ───Rx(d0)───Rz(d3)───ZZ──────────────Rx(d8)────Rz(d11)───ZZ────────────────Rx(d16)───Rz(d19)───ZZ────────────────Rx(d24)───Rz(d27)───ZZ────────────────\n",
       "                             │                                   │                                     │                                     │\n",
       "(0, 1): ───Rx(d1)───Rz(d4)───ZZ^d6───ZZ──────Rx(d9)────Rz(d12)───ZZ^d14───ZZ───────Rx(d17)───Rz(d20)───ZZ^d22───ZZ───────Rx(d25)───Rz(d28)───ZZ^d30───ZZ───────\n",
       "                                     │                                    │                                     │                                     │\n",
       "(0, 2): ───Rx(d2)───Rz(d5)───────────ZZ^d7───Rx(d10)───Rz(d13)────────────ZZ^d15───Rx(d18)───Rz(d21)────────────ZZ^d23───Rx(d26)───Rz(d29)────────────ZZ^d31───</pre>"
      ],
      "text/plain": [
       "(0, 0): ───Rx(d0)───Rz(d3)───ZZ──────────────Rx(d8)────Rz(d11)───ZZ────────────────Rx(d16)───Rz(d19)───ZZ────────────────Rx(d24)───Rz(d27)───ZZ────────────────\n",
       "                             │                                   │                                     │                                     │\n",
       "(0, 1): ───Rx(d1)───Rz(d4)───ZZ^d6───ZZ──────Rx(d9)────Rz(d12)───ZZ^d14───ZZ───────Rx(d17)───Rz(d20)───ZZ^d22───ZZ───────Rx(d25)───Rz(d28)───ZZ^d30───ZZ───────\n",
       "                                     │                                    │                                     │                                     │\n",
       "(0, 2): ───Rx(d2)───Rz(d5)───────────ZZ^d7───Rx(d10)───Rz(d13)────────────ZZ^d15───Rx(d18)───Rz(d21)────────────ZZ^d23───Rx(d26)───Rz(d29)────────────ZZ^d31───"
      ]
     },
     "execution_count": 97,
     "metadata": {},
     "output_type": "execute_result"
    }
   ],
   "source": [
    "print(\"DISCRIMINATOR\")\n",
    "disc"
   ]
  },
  {
   "cell_type": "code",
   "execution_count": 98,
   "metadata": {},
   "outputs": [],
   "source": [
    "np.random.seed(0)\n",
    "eps = 1e-2\n",
    "init_gen_weights = np.array([0] * len(gs)) + \\\n",
    "                   np.random.normal(scale=eps, size=(len(gs),))\n",
    "init_disc_weights = np.random.normal(size=(len(ds),))\n",
    "\n",
    "gen_weights = tf.Variable(init_gen_weights, dtype=tf.float32)\n",
    "disc_weights = tf.Variable(init_disc_weights, dtype=tf.float32)"
   ]
  },
  {
   "cell_type": "code",
   "execution_count": 99,
   "metadata": {},
   "outputs": [],
   "source": [
    "class CustomScheduler(tf.keras.optimizers.schedules.LearningRateSchedule):\n",
    "    def __init__(self, warmup_steps=4000):\n",
    "        super(CustomScheduler, self).__init__()\n",
    "        self.warmup_steps = warmup_steps\n",
    "\n",
    "    def __call__(self, step):\n",
    "        return max(math.e ** - ((step+200) / (self.warmup_steps / math.log(100))), 0.01)"
   ]
  },
  {
   "cell_type": "code",
   "execution_count": 100,
   "metadata": {
    "pycharm": {
     "name": "#%%\n"
    }
   },
   "outputs": [],
   "source": [
    "learning_rate = CustomScheduler()\n",
    "\n",
    "opt = tf.keras.optimizers.Adam(learning_rate, beta_1=0.9, beta_2=0.98, \n",
    "                                     epsilon=1e-9)"
   ]
  },
  {
   "cell_type": "code",
   "execution_count": 101,
   "metadata": {
    "pycharm": {
     "name": "#%%\n"
    }
   },
   "outputs": [],
   "source": [
    "g_values = [0.1]\n",
    "# x_rotations = get_binary_x_rotation_provider({0: '100', 1: '011', 2: '101'})\n",
    "real_values_provider = get_arcsin_x_rotation_provider(g_values, data_bus_size)\n",
    "#real_values_provider = get_g_parameters_provider()"
   ]
  },
  {
   "cell_type": "code",
   "execution_count": 102,
   "metadata": {},
   "outputs": [],
   "source": [
    "trainer = Trainer(g_values, \n",
    "                  data_bus_size, \n",
    "                  disc, \n",
    "                  gen, \n",
    "                  real, \n",
    "                  out_qubit, \n",
    "                  ds, \n",
    "                  gs, \n",
    "                  real_symbols, \n",
    "                  ls,\n",
    "                  real_values_provider = real_values_provider,\n",
    "                  use_analytical_expectation=True)"
   ]
  },
  {
   "cell_type": "code",
   "execution_count": null,
   "metadata": {
    "scrolled": false
   },
   "outputs": [
    {
     "data": {
      "text/plain": [
       "<Figure size 432x288 with 0 Axes>"
      ]
     },
     "metadata": {},
     "output_type": "display_data"
    },
    {
     "data": {
      "image/png": "[encoded data removed]",
      "text/plain": [
       "<Figure size 1080x432 with 2 Axes>"
      ]
     },
     "metadata": {
      "needs_background": "light"
     },
     "output_type": "display_data"
    }
   ],
   "source": [
    "epochs = 5\n",
    "disc_iteration = 20\n",
    "gen_iteration = 5\n",
    "snapshot_interval_epochs = 20\n",
    "results = trainer.train(disc_weights,\n",
    "      gen_weights, \n",
    "      opt, \n",
    "      epochs=epochs, \n",
    "      disc_iteration=disc_iteration, \n",
    "      gen_iteration=gen_iteration,\n",
    "      snapshot_interval_epochs=snapshot_interval_epochs)"
   ]
  },
  {
   "cell_type": "code",
   "execution_count": null,
   "metadata": {},
   "outputs": [],
   "source": [
    "def get_gen_for_g(g, gen_weights):\n",
    "    rad = map_to_radians(g)\n",
    "    return np.append(gen_weights, rad)\n",
    "\n",
    "def get_states_and_fidelty_for_real(gen_evaluator, \n",
    "                                    real_evaluator, \n",
    "                                    gen_weights, \n",
    "                                    g, \n",
    "                                    size, \n",
    "                                    real_provider):\n",
    "    generated = gen_evaluator.get_state_from_params(get_gen_for_g(g, gen_weights))\n",
    "    real = real_evaluator.get_state_from_params(real_provider(g))\n",
    "    return generated, real, cirq.fidelity(generated, real)\n",
    "\n",
    "def get_states_and_fidelty_for_ground(gen_evaluator, g, gen_weights, size):\n",
    "    generated = gen_evaluator.get_state_from_params(get_gen_for_g(g, gen_weights), list(range(size)))\n",
    "    ground = get_ground_state_for_g(g, size)\n",
    "    return generated, ground, cirq.fidelity(generated, ground)\n",
    "\n",
    "def compare_generated_for_g(gen_evaluator, g1, g2, gen_weights, size):\n",
    "    generated1 = gen_evaluator.get_state_from_params(get_gen_for_g(g1, gen_weights), list(range(size)))\n",
    "    generated2 = gen_evaluator.get_state_from_params(get_gen_for_g(g2, gen_weights), list(range(size)))\n",
    "    return generated1, generated2, cirq.fidelity(generated1, generated2)"
   ]
  },
  {
   "cell_type": "code",
   "execution_count": null,
   "metadata": {
    "pycharm": {
     "name": "#%%\n"
    }
   },
   "outputs": [],
   "source": [
    "trained_disc_weights = tf.Variable(np.array([ 1.25888796e+01,  1.10409822e+01,  1.27487049e+01,  1.32927475e+01,\n",
    "       -3.20522385e+01,  2.98508596e+00, -7.54223883e-01,  8.97036648e+00,\n",
    "        8.98472309e+00, -2.77423954e+00,  8.90891266e+00,  5.72837019e+00,\n",
    "        6.03105211e+00, -4.64482594e+00, -1.10843427e-01,  7.78598115e-02,\n",
    "        3.00343895e+00,  3.83781940e-01,  6.08641243e+00,  8.64131927e+00,\n",
    "       -2.17593918e+01,  1.45857897e+01,  2.36893883e+01,  8.75363445e+00,\n",
    "       -2.42768993e+01,  1.27688437e+01,  2.53628349e+00,  1.39768391e+01,\n",
    "        1.40961084e+01, -2.04474068e+01,  4.71392822e+00,  1.66926212e+01,\n",
    "        1.88311214e+01,  9.17525005e+00,  1.16109962e+01,  1.08004580e+01,\n",
    "        1.10795708e+01,  5.81477690e+00, -5.50215101e+00,  2.22007637e+01,\n",
    "        2.25015125e+01,  3.21826210e+01, -1.80058708e+01, -7.85126591e+00,\n",
    "       -7.77073908e+00,  1.40237570e+01,  3.14071465e+01, -1.07477732e+01,\n",
    "        1.55852342e+00,  2.63786411e+01,  1.31890945e+01,  7.14759350e+00,\n",
    "        5.46145630e+00, -1.79730053e+01,  7.40563774e+00,  1.06135674e+01,\n",
    "       -1.55095673e+00, -2.66580944e+01,  6.51995277e+00, -2.37151980e+00,\n",
    "        3.51896515e+01,  1.50027342e+01,  1.80733763e-02, -1.75052185e+01,\n",
    "        9.60706902e+00, -6.06413984e+00,  5.35433817e+00, -7.88707399e+00,\n",
    "        1.27363043e+01,  1.02446747e+01]), dtype=tf.float32)\n",
    "\n",
    "trained_gen_weights = np.array([\n",
    "      -0.20239973068237305,\n",
    "      4.103419780731201,\n",
    "      4.835892677307129,\n",
    "      -5.277573585510254,\n",
    "      7.324734210968018,\n",
    "      -0.006883351132273674,\n",
    "      -5.015811920166016,\n",
    "      -12.468819618225098,\n",
    "      -2.2864558696746826,\n",
    "      6.433105945587158,\n",
    "      6.776863098144531,\n",
    "      -4.772155284881592,\n",
    "      -4.78993034362793,\n",
    "      -8.97536563873291\n",
    "    ])\n",
    "gen_symbols = gs \n",
    "# gen_symbols = gs\n",
    "# real_symbols = ('r0', 'r1', 'r2')"
   ]
  },
  {
   "cell_type": "code",
   "execution_count": 166,
   "metadata": {},
   "outputs": [
    {
     "data": {
      "text/plain": [
       "[0.2003348423231196,\n",
       " 0.4027158415806616,\n",
       " 0.609385308030795,\n",
       " 0.8230336921349761,\n",
       " 1.0471975511965976]"
      ]
     },
     "execution_count": 166,
     "metadata": {},
     "output_type": "execute_result"
    }
   ],
   "source": [
    "gen_evaluator = CircuitEvaluator(pure_gen, gen_symbols)\n",
    "real_evaluator = CircuitEvaluator(pure_real, real_symbols)\n",
    "x_rotations(g)"
   ]
  },
  {
   "cell_type": "code",
   "execution_count": null,
   "metadata": {},
   "outputs": [],
   "source": [
    "g=0.1\n",
    "generated = gen_evaluator.get_state_from_params(trained_gen_weights)\n",
    "real = real_evaluator.get_state_from_params(x_rotations(g))\n",
    "generated, real, cirq.fidelity(generated, real)"
   ]
  },
  {
   "cell_type": "code",
   "execution_count": null,
   "metadata": {},
   "outputs": [],
   "source": [
    "g = 0.1\n",
    "real_evaluator.get_state_from_params(x_rotations(g))"
   ]
  },
  {
   "cell_type": "code",
   "execution_count": null,
   "metadata": {},
   "outputs": [],
   "source": [
    "g = 0.1\n",
    "get_states_and_fidelty_for_real(gen_evaluator, real_evaluator, trained_gen_weights, g, data_bus_size, x_rotations)"
   ]
  },
  {
   "cell_type": "code",
   "execution_count": null,
   "metadata": {},
   "outputs": [],
   "source": [
    "g = -1\n",
    "get_states_and_fidelty_for_real(gen_evaluator, real_evaluator, trained_gen_weights, g, data_bus_size, get_g_parameters_provider())"
   ]
  },
  {
   "cell_type": "code",
   "execution_count": null,
   "metadata": {},
   "outputs": [],
   "source": [
    "compare_generated_for_g(gen_evaluator, -0.9, -0.8, trained_gen_weights, data_bus_size)"
   ]
  },
  {
   "cell_type": "code",
   "execution_count": null,
   "metadata": {},
   "outputs": [],
   "source": [
    "g = 0\n",
    "get_states_and_fidelty_for_ground(gen_evaluator, g, trained_gen_weights, data_bus_size)"
   ]
  },
  {
   "cell_type": "code",
   "execution_count": null,
   "metadata": {},
   "outputs": [],
   "source": []
  }
 ],
 "metadata": {
  "kernelspec": {
   "display_name": "Python 3",
   "language": "python",
   "name": "python3"
  },
  "language_info": {
   "codemirror_mode": {
    "name": "ipython",
    "version": 3
   },
   "file_extension": ".py",
   "mimetype": "text/x-python",
   "name": "python",
   "nbconvert_exporter": "python",
   "pygments_lexer": "ipython3",
   "version": "3.8.6"
  }
 },
 "nbformat": 4,
 "nbformat_minor": 1
}
