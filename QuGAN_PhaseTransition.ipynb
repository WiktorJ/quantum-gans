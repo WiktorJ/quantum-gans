{
 "cells": [
  {
   "cell_type": "code",
   "execution_count": 19,
   "metadata": {},
   "outputs": [],
   "source": [
    "from typing import Any\n",
    "\n",
    "import sympy\n",
    "import math\n",
    "import tensorflow as tf\n",
    "import tensorflow_quantum as tfq\n",
    "\n",
    "import cirq\n",
    "import numpy as np\n",
    "from cirq import GridQubit, ops\n",
    "from qugans import circuits\n",
    "from qugans.phase_transition import construct_hamiltonian"
   ]
  },
  {
   "cell_type": "code",
   "execution_count": 20,
   "metadata": {},
   "outputs": [],
   "source": [
    "generator_layers = 2\n",
    "discriminator_layers = 2\n",
    "data_bus_size = 3\n",
    "gen, gs, disc, ds, ls = circuits.build_gan_circuits(generator_layers, discriminator_layers, data_bus_size)"
   ]
  },
  {
   "cell_type": "code",
   "execution_count": 21,
   "metadata": {},
   "outputs": [],
   "source": [
    "pure_gen = gen.copy()\n",
    "gen.append([disc])"
   ]
  },
  {
   "cell_type": "code",
   "execution_count": 22,
   "metadata": {},
   "outputs": [
    {
     "name": "stdout",
     "output_type": "stream",
     "text": [
      "GENERATOR: (0, 2): ───Rx(g0)───Rz(g4)───ZZ────────────────────────Rx(g11)───Rz(g15)───ZZ──────────────────────────\n",
      "                             │                                             │\n",
      "(0, 3): ───Rx(g1)───Rz(g5)───ZZ^g8────────────ZZ───────Rx(g12)───Rz(g16)───ZZ^g19─────────────ZZ───────\n",
      "                                              │                                               │\n",
      "(0, 4): ───Rx(g2)───Rz(g6)────────────ZZ──────ZZ^g10───Rx(g13)───Rz(g17)─────────────ZZ───────ZZ^g21───\n",
      "                                      │                                              │\n",
      "(0, 5): ───Rz(l)────Rx(g3)───Rz(g7)───ZZ^g9────────────Rz(l)─────Rx(g14)───Rz(g18)───ZZ^g20────────────\n"
     ]
    }
   ],
   "source": [
    "print(\"GENERATOR:\", pure_gen)"
   ]
  },
  {
   "cell_type": "code",
   "execution_count": 23,
   "metadata": {},
   "outputs": [
    {
     "name": "stdout",
     "output_type": "stream",
     "text": [
      "DISCRIMINATOR: (0, 0): ───Rx(d0)───Rz(d5)────────────ZZ────────────────Rx(d14)───Rz(d19)─────────────ZZ────────────────\n",
      "                                      │                                               │\n",
      "(0, 1): ───Rz(l)────Rx(d1)───Rz(d6)───ZZ^d10───ZZ───────Rz(l)─────Rx(d15)───Rz(d20)───ZZ^d24───ZZ───────\n",
      "                                               │                                               │\n",
      "(0, 2): ───Rx(d2)───Rz(d7)───ZZ────────────────ZZ^d12───Rx(d16)───Rz(d21)───ZZ─────────────────ZZ^d26───\n",
      "                             │                                              │\n",
      "(0, 3): ───Rx(d3)───Rz(d8)───ZZ^d11───ZZ────────────────Rx(d17)───Rz(d22)───ZZ^d25────ZZ────────────────\n",
      "                                      │                                               │\n",
      "(0, 4): ───Rx(d4)───Rz(d9)────────────ZZ^d13────────────Rx(d18)───Rz(d23)─────────────ZZ^d27────────────\n"
     ]
    }
   ],
   "source": [
    "print(\"DISCRIMINATOR:\", disc)"
   ]
  },
  {
   "cell_type": "code",
   "execution_count": 6,
   "metadata": {},
   "outputs": [],
   "source": [
    "np.random.seed(0)\n",
    "eps = 1e-2\n",
    "init_gen_weights = np.array([np.pi] + [0] * 21) + \\\n",
    "                   np.random.normal(scale=eps, size=(22,))\n",
    "init_disc_weights = np.random.normal(size=(28,))\n",
    "\n",
    "gen_weights = tf.Variable(init_gen_weights, dtype=tf.float32)\n",
    "disc_weights = tf.Variable(init_disc_weights, dtype=tf.float32)"
   ]
  },
  {
   "cell_type": "code",
   "execution_count": 7,
   "metadata": {
    "pycharm": {
     "name": "#%%\n"
    }
   },
   "outputs": [],
   "source": [
    "class CustomSchedule(tf.keras.optimizers.schedules.LearningRateSchedule):\n",
    "    def __init__(self, warmup_steps=4000):\n",
    "        super(CustomSchedule, self).__init__()\n",
    "        self.warmup_steps = warmup_steps\n",
    "    \n",
    "    def __call__(self, step):\n",
    "        return max(10 * math.e ** - (step / (self.warmup_steps / math.log(100))), 0.1)"
   ]
  },
  {
   "cell_type": "code",
   "execution_count": 8,
   "metadata": {
    "pycharm": {
     "name": "#%%\n"
    }
   },
   "outputs": [],
   "source": [
    "learning_rate = CustomSchedule()\n",
    "\n",
    "opt = tf.keras.optimizers.Adam(learning_rate, beta_1=0.9, beta_2=0.98, \n",
    "                                     epsilon=1e-9)"
   ]
  },
  {
   "cell_type": "code",
   "execution_count": 9,
   "metadata": {
    "pycharm": {
     "name": "#%%\n"
    }
   },
   "outputs": [],
   "source": [
    "global_g = 0"
   ]
  },
  {
   "cell_type": "code",
   "execution_count": 10,
   "metadata": {
    "pycharm": {
     "name": "#%%\n"
    }
   },
   "outputs": [],
   "source": [
    "def map_to_radians(val, low=-1, high=1):\n",
    "    span = high - low\n",
    "    norm_val = float(val - low) / float(span)\n",
    "    return norm_val * math.pi"
   ]
  },
  {
   "cell_type": "code",
   "execution_count": 11,
   "metadata": {},
   "outputs": [],
   "source": [
    "class PhaseTransitionFinalStateSimulator(cirq.Simulator):\n",
    "    def simulate(self, program: 'cirq.Circuit', param_resolver: 'study.ParamResolverOrSimilarType' = None,\n",
    "                 qubit_order: ops.QubitOrderOrList = ops.QubitOrder.DEFAULT,\n",
    "                 initial_state: Any = None) -> 'SimulationTrialResult':\n",
    "        g = global_g\n",
    "        gzz = 2 * (1 - g ** 2)\n",
    "        gx = (1 + g) ** 2\n",
    "        gzxz = (g - 1) ** 2\n",
    "\n",
    "        H = construct_hamiltonian(l, gzz, gx, gzxz)\n",
    "\n",
    "        lam, V = np.linalg.eigh(H)\n",
    "\n",
    "        # ground state wavefunction\n",
    "        psi = V[:, 0] / np.linalg.norm(V[:, 0])\n",
    "        psi = np.kron([1, 0], np.kron([1, 0], psi))\n",
    "        return super().simulate(program, param_resolver, qubit_order, psi)\n",
    "\n",
    "\n",
    "class PhaseTransitionFinalStateSimulatorGen(cirq.Simulator):\n",
    "    def simulate(self, program: 'cirq.Circuit', param_resolver: 'study.ParamResolverOrSimilarType' = None,\n",
    "                 qubit_order: ops.QubitOrderOrList = ops.QubitOrder.DEFAULT,\n",
    "                 initial_state: Any = None) -> 'SimulationTrialResult':\n",
    "        g = global_g\n",
    "        label = [1, 0] if g > 0 else [0, 1]\n",
    "        initial_state = [1, 0]\n",
    "        for _ in range(l - 1):\n",
    "            initial_state = np.kron([1, 0], initial_state)\n",
    "        initial_state = np.kron([1, 0], np.kron(label, np.kron(initial_state, label)))\n",
    "        return super().simulate(program, param_resolver, qubit_order, initial_state)\n",
    "\n",
    "\n",
    "\n"
   ]
  },
  {
   "cell_type": "code",
   "execution_count": 12,
   "metadata": {},
   "outputs": [],
   "source": [
    "def real_disc_circuit_eval(disc_weights):\n",
    "    # cirq.Simulator().simulate(real)\n",
    "    full_weights = tf.keras.layers.Concatenate(axis=0)([\n",
    "        disc_weights,\n",
    "        np.array([map_to_radians(global_g)], dtype=np.float32)\n",
    "    ])\n",
    "\n",
    "    return tfq.layers.Expectation(backend=PhaseTransitionFinalStateSimulator())([disc],\n",
    "                                                                                symbol_names=ds + (ls,),\n",
    "                                                                                symbol_values=tf.reshape(full_weights, (\n",
    "                                                                                    1, full_weights.shape[0])),\n",
    "                                                                                operators=[cirq.Z(out_qubit)])\n",
    "\n",
    "\n",
    "def gen_disc_circuit_eval(gen_weights, disc_weights):\n",
    "    full_weights = tf.keras.layers.Concatenate(axis=0)([\n",
    "        disc_weights,\n",
    "        gen_weights,\n",
    "        np.array([map_to_radians(global_g)], dtype=np.float32)\n",
    "    ])\n",
    "    full_weights = tf.reshape(full_weights, (1, full_weights.shape[0]))\n",
    "    return tfq.layers.Expectation()([gen],\n",
    "                                    symbol_names=ds + gs + (ls,),\n",
    "                                    symbol_values=full_weights,\n",
    "                                    operators=[cirq.Z(out_qubit)])\n",
    "\n",
    "\n",
    "def prob_real_true(disc_weights):\n",
    "    true_disc_output = real_disc_circuit_eval(disc_weights)\n",
    "    # convert to probability\n",
    "    prob_real_true = (true_disc_output + 1) / 2\n",
    "    return prob_real_true\n",
    "\n",
    "\n",
    "def prob_fake_true(gen_weights, disc_weights):\n",
    "    fake_disc_output = gen_disc_circuit_eval(gen_weights, disc_weights)\n",
    "    # convert to probability\n",
    "    prob_fake_true = (fake_disc_output + 1) / 2\n",
    "    return prob_fake_true\n",
    "\n",
    "\n",
    "def disc_cost(disc_weights):\n",
    "    cost = prob_fake_true(gen_weights, disc_weights) - prob_real_true(disc_weights)\n",
    "    return cost\n",
    "\n",
    "\n",
    "def gen_cost(gen_weights):\n",
    "    return -prob_fake_true(gen_weights, disc_weights)\n"
   ]
  },
  {
   "cell_type": "code",
   "execution_count": 13,
   "metadata": {},
   "outputs": [],
   "source": [
    "def train():\n",
    "    cost = lambda: disc_cost(disc_weights)\n",
    "    cost_gen = lambda: gen_cost(gen_weights)\n",
    "    for epoch in range(20):\n",
    "        for step in range(20):\n",
    "            opt.minimize(cost, disc_weights)\n",
    "            # if step % 5 == 0:\n",
    "        cost_val = cost().numpy()\n",
    "        print(\"Epoch {}: cost = {}\".format(epoch, cost_val))\n",
    "\n",
    "        ##############################################################################\n",
    "        # At the discriminator’s optimum, the probability for the discriminator to\n",
    "        # correctly classify the real data should be close to one.\n",
    "\n",
    "        print(\"Prob(real classified as real): \", prob_real_true(disc_weights).numpy())\n",
    "\n",
    "        ##############################################################################\n",
    "        # For comparison, we check how the discriminator classifies the\n",
    "        # generator’s (still unoptimized) fake data:\n",
    "\n",
    "        print(\"Prob(fake classified as real): \", prob_fake_true(gen_weights, disc_weights).numpy())\n",
    "\n",
    "        ##############################################################################\n",
    "        # In the adversarial game we now have to train the generator to better\n",
    "        # fool the discriminator. For this demo, we only perform one stage of the\n",
    "        # game. For more complex models, we would continue training the models in an\n",
    "        # alternating fashion until we reach the optimum point of the two-player\n",
    "        # adversarial game.\n",
    "\n",
    "        for step in range(20):\n",
    "            opt.minimize(cost_gen, gen_weights)\n",
    "            # if step % 5 == 0:\n",
    "        cost_val = cost_gen().numpy()\n",
    "        print(\"Epoch {}: cost = {}\".format(epoch, cost_val))\n",
    "\n",
    "        ##############################################################################\n",
    "        # At the optimum of the generator, the probability for the discriminator\n",
    "        # to be fooled should be close to 1.\n",
    "\n",
    "        print(\"Prob(fake classified as real): \", prob_fake_true(gen_weights, disc_weights).numpy())\n",
    "\n",
    "        ##############################################################################\n",
    "        # At the joint optimum the discriminator cost will be close to zero,\n",
    "        # indicating that the discriminator assigns equal probability to both real and\n",
    "        # generated data.\n",
    "\n",
    "        print(\"Discriminator cost: \", disc_cost(disc_weights).numpy())\n",
    "\n"
   ]
  },
  {
   "cell_type": "code",
   "execution_count": 14,
   "metadata": {},
   "outputs": [],
   "source": [
    "def get_ground_state_for_g(g):\n",
    "    gzz = 2 * (1 - g ** 2)\n",
    "    gx = (1 + g) ** 2\n",
    "    gzxz = (g - 1) ** 2\n",
    "\n",
    "    H = construct_hamiltonian(data_bus_size, gzz, gx, gzxz)\n",
    "\n",
    "    lam, V = np.linalg.eigh(H)\n",
    "    # ground state wavefunction\n",
    "    return V[:, 0] / np.linalg.norm(V[:, 0])"
   ]
  },
  {
   "cell_type": "code",
   "execution_count": 15,
   "metadata": {
    "pycharm": {
     "name": "#%%\n"
    }
   },
   "outputs": [],
   "source": [
    "class PhaseTransitionFinalStateSimulatorPureGen(cirq.Simulator):\n",
    "    def simulate(self, program: 'cirq.Circuit', param_resolver: 'study.ParamResolverOrSimilarType' = None,\n",
    "                 qubit_order: ops.QubitOrderOrList = ops.QubitOrder.DEFAULT,\n",
    "                 initial_state: Any = None) -> 'SimulationTrialResult':\n",
    "        label = [1, 0]\n",
    "        initial_state = [1, 0]\n",
    "        for _ in range(l - 1):\n",
    "            initial_state = np.kron([1, 0], initial_state)\n",
    "        initial_state = np.kron(initial_state, label)\n",
    "        return super().simulate(program, param_resolver, qubit_order, initial_state)"
   ]
  },
  {
   "cell_type": "code",
   "execution_count": null,
   "metadata": {},
   "outputs": [],
   "source": []
  },
  {
   "cell_type": "code",
   "execution_count": 16,
   "metadata": {
    "pycharm": {
     "name": "#%%\n"
    }
   },
   "outputs": [
    {
     "name": "stderr",
     "output_type": "stream",
     "text": [
      "<ipython-input-16-5eba2ec5f018>:21: DeprecationWarning: wavefunction_partial_trace_as_mixture was used but is deprecated.\n",
      "It will be removed in cirq v0.10.0.\n",
      "Use `cirq.partial_trace_of_state_vector_as_mixture` instead.\n",
      "\n",
      "  traced_out_state = cirq.wavefunction_partial_trace_as_mixture(state_vector, [0,1,2])\n"
     ]
    }
   ],
   "source": [
    "g = 0\n",
    "ground_state = get_ground_state_for_g(g)\n",
    "rad = map_to_radians(g)\n",
    "\n",
    "trained_disc_weights = tf.Variable(np.array([-0.30831984, -0.62228876,  2.3434367 , -1.409109  ,  0.08579239,\n",
    "       -0.47356534,  1.5205263 ,  1.5285101 ,  0.18071282,  0.40754136,\n",
    "       -1.2746298 , -1.9421206 , -0.3205366 ,  0.16708861,  0.0271479 ,\n",
    "        1.2207586 , -0.39333484, -0.28007394, -1.0063145 , -1.4217627 ,\n",
    "       -1.7160714 ,  2.0004768 , -0.5253662 , -0.3929189 , -1.243299  ,\n",
    "        0.7419973 , -1.5898544 , -0.16188984]), dtype=tf.float32)\n",
    "\n",
    "trained_gen_weights = tf.Variable(np.array([ 3.1603129e+00, -5.6514405e-03, -1.3457266e-02,  3.6896981e-02,\n",
    "       -5.9913150e-03, -2.3310103e-02, -6.9020404e-03,  4.4497033e-03,\n",
    "       -5.9756159e-05,  3.8722723e-03,  1.4118403e-03,  9.6612796e-03,\n",
    "        2.2193523e-02,  1.6201412e-02,  2.8648116e-03,  9.6204514e-03,\n",
    "       -9.8941429e-03,  7.7031851e-03,  1.1102257e-02, -2.4857417e-02,\n",
    "       -2.5535207e-02,  6.5732975e-03, rad]), dtype=tf.float32)\n",
    "\n",
    "state_vector = tfq.layers.State()(pure_gen, symbol_names=gs + (ls,), symbol_values=tf.reshape(trained_gen_weights, (1, trained_gen_weights.shape[0]))).values.numpy()#%%\n",
    "\n",
    "traced_out_state = cirq.wavefunction_partial_trace_as_mixture(state_vector, [0,1,2])"
   ]
  },
  {
   "cell_type": "code",
   "execution_count": 17,
   "metadata": {
    "pycharm": {
     "name": "#%%\n"
    }
   },
   "outputs": [
    {
     "name": "stdout",
     "output_type": "stream",
     "text": [
      "Max prob state has prob: 1.0\n"
     ]
    }
   ],
   "source": [
    "prob, highest_prob_state = max(traced_out_state)\n",
    "print(f\"Max prob state has prob: {prob}\")"
   ]
  },
  {
   "cell_type": "code",
   "execution_count": 18,
   "metadata": {
    "pycharm": {
     "name": "#%%\n"
    }
   },
   "outputs": [
    {
     "data": {
      "text/plain": [
       "1.4450456904179156"
      ]
     },
     "execution_count": 18,
     "metadata": {},
     "output_type": "execute_result"
    }
   ],
   "source": [
    "np.arccos(cirq.fidelity(highest_prob_state, get_ground_state_for_g(1)))"
   ]
  },
  {
   "cell_type": "code",
   "execution_count": null,
   "metadata": {},
   "outputs": [],
   "source": []
  }
 ],
 "metadata": {
  "kernelspec": {
   "display_name": "Python 3",
   "language": "python",
   "name": "python3"
  },
  "language_info": {
   "codemirror_mode": {
    "name": "ipython",
    "version": 3
   },
   "file_extension": ".py",
   "mimetype": "text/x-python",
   "name": "python",
   "nbconvert_exporter": "python",
   "pygments_lexer": "ipython3",
   "version": "3.8.6"
  }
 },
 "nbformat": 4,
 "nbformat_minor": 1
}
