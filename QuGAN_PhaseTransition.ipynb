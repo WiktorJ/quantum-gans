{
 "cells": [
  {
   "cell_type": "code",
   "execution_count": 1,
   "metadata": {
    "scrolled": true
   },
   "outputs": [],
   "source": [
    "if 'google.colab' in str(get_ipython()):\n",
    "    !pip uninstall tensorflow -y\n",
    "    !pip install tensorflow==2.3.1 tensorflow-quantum neptune-client\n",
    "    !rm -rf quantum-gans\n",
    "    !git clone https://github.com/WiktorJ/quantum-gans\n",
    "    !cd quantum-gans; pip install .\n",
    "    neptun_token = \"\" # put manually for the time being\n",
    "else:\n",
    "    import subprocess\n",
    "    def get_var(varname):\n",
    "        CMD = 'echo $(source ~/.bash_profile; echo $%s)' % varname\n",
    "        p = subprocess.Popen(CMD, stdout=subprocess.PIPE, shell=True, executable='/bin/bash')\n",
    "        return p.stdout.readlines()[0].strip()\n",
    "    neptun_token = get_var('NEPTUNE_API_TOKEN').decode(\"utf-8\") "
   ]
  },
  {
   "cell_type": "code",
   "execution_count": 39,
   "metadata": {},
   "outputs": [
    {
     "name": "stdout",
     "output_type": "stream",
     "text": [
      "The autoreload extension is already loaded. To reload it, use:\n",
      "  %reload_ext autoreload\n"
     ]
    }
   ],
   "source": [
    "%load_ext autoreload\n",
    "%autoreload 2"
   ]
  },
  {
   "cell_type": "code",
   "execution_count": 40,
   "metadata": {},
   "outputs": [],
   "source": [
    "import io\n",
    "import math\n",
    "import json\n",
    "import neptune\n",
    "import tensorflow as tf\n",
    "\n",
    "import cirq\n",
    "import numpy as np\n",
    "from qsgenerator.utils import map_to_radians\n",
    "from qsgenerator.qugans import circuits\n",
    "from qsgenerator.resolvers import resolve_all\n",
    "from qsgenerator.qugans.training import Trainer\n",
    "from qsgenerator.phase.circuits import build_ground_state_circuit\n",
    "from qsgenerator.phase.constants import z1_theta, z2_theta\n",
    "from qsgenerator.phase.analitical import  get_ground_state_for_g\n",
    "from qsgenerator.states.simple_state_circuits import build_x_rotation_state\n",
    "from qsgenerator.states.simple_rotation_generators import get_binary_x_rotation_provider, get_arcsin_x_rotation_provider\n",
    "from qsgenerator.phase.analitical import construct_hamiltonian, get_theta_v, get_theta_w, get_theta_r, get_g_parameters_provider\n",
    "from qsgenerator.evaluators.circuit_evaluator import CircuitEvaluator"
   ]
  },
  {
   "cell_type": "code",
   "execution_count": 41,
   "metadata": {},
   "outputs": [],
   "source": [
    "use_neptune = False"
   ]
  },
  {
   "cell_type": "code",
   "execution_count": 42,
   "metadata": {},
   "outputs": [],
   "source": [
    "generator_layers = 5\n",
    "discriminator_layers = 5\n",
    "data_bus_size = 5"
   ]
  },
  {
   "cell_type": "code",
   "execution_count": 43,
   "metadata": {},
   "outputs": [],
   "source": [
    "real_phase = True\n",
    "generic_generator = False\n",
    "all_layers_labeling = False\n",
    "full_layer_labeling = False\n",
    "use_gen_label_qubit = False\n",
    "use_disc_label_qubit = False\n",
    "zxz = False\n",
    "fixed_gates = {}"
   ]
  },
  {
   "cell_type": "code",
   "execution_count": 44,
   "metadata": {},
   "outputs": [],
   "source": [
    "gen, gs, disc, ds, ls, data_qubits, out_qubit = circuits.build_gan_circuits(\n",
    "    generator_layers, \n",
    "    discriminator_layers, \n",
    "    data_bus_size, \n",
    "    all_layers_labeling=all_layers_labeling,\n",
    "    full_layer_labeling=full_layer_labeling,\n",
    "    use_gen_label_qubit=use_gen_label_qubit,\n",
    "    use_disc_label_qubit=use_disc_label_qubit)"
   ]
  },
  {
   "cell_type": "code",
   "execution_count": 45,
   "metadata": {},
   "outputs": [],
   "source": [
    "if not generic_generator:\n",
    "    gen, gs, symbols_dict_gen = build_ground_state_circuit(qubits=data_qubits, full_parametrization=True, zxz=zxz)\n",
    "else:\n",
    "    symbols_dict_gen = {}"
   ]
  },
  {
   "cell_type": "code",
   "execution_count": 46,
   "metadata": {},
   "outputs": [],
   "source": [
    "gen, gs = resolve_all(gen, gs, symbols_dict_gen, fixed_gates)"
   ]
  },
  {
   "cell_type": "code",
   "execution_count": 47,
   "metadata": {},
   "outputs": [],
   "source": [
    "if real_phase:\n",
    "    real, real_symbols, symbols_dict_real = build_ground_state_circuit(qubits=data_qubits)\n",
    "else:\n",
    "    real, real_symbols, symbols_dict_real = build_x_rotation_state(qubits=data_qubits)"
   ]
  },
  {
   "cell_type": "code",
   "execution_count": 48,
   "metadata": {},
   "outputs": [],
   "source": [
    "pure_gen = gen.copy()\n",
    "gen.append([disc])"
   ]
  },
  {
   "cell_type": "code",
   "execution_count": 49,
   "metadata": {},
   "outputs": [],
   "source": [
    "pure_real = real.copy()\n",
    "real.append([disc])"
   ]
  },
  {
   "cell_type": "code",
   "execution_count": 50,
   "metadata": {
    "scrolled": true
   },
   "outputs": [
    {
     "name": "stdout",
     "output_type": "stream",
     "text": [
      "REAL GROUND STATE\n"
     ]
    },
    {
     "data": {
      "text/html": [
       "<pre style=\"overflow: auto; white-space: pre;\">(0, 1): ───H───@─────────────────────────────────────────────────────────────────────────────────────────────────────────────────────────────────────────────────────────────────────────────────────────────────────────────────────────────────────────────────────────────────────\n",
       "               │\n",
       "(0, 2): ───────X───Z───Ry(theta_r)───X─────────────@───X───────────────────────────────────@───X─────────────────────────────────────────────────────────────────────────────────────────────────────────────────────────────────────────────────────────────────────────────────────\n",
       "                                                   │                                       │\n",
       "(0, 3): ─────────────────────────────Ry(theta_w)───X───X───Ry(theta_w)───X───Ry(theta_v)───X───X───Ry(theta_v)───X───X─────────────@───X───────────────────────────────────@───X─────────────────────────────────────────────────────────────────────────────────────────────────────\n",
       "                                                                                                                                   │                                       │\n",
       "(0, 4): ─────────────────────────────────────────────────────────────────────────────────────────────────────────────Ry(theta_w)───X───X───Ry(theta_w)───X───Ry(theta_v)───X───X───Ry(theta_v)───X───X─────────────@───X───────────────────────────────────@───X─────────────────────\n",
       "                                                                                                                                                                                                                   │                                       │\n",
       "(0, 5): ─────────────────────────────────────────────────────────────────────────────────────────────────────────────────────────────────────────────────────────────────────────────────────────────Ry(theta_w)───X───X───Ry(theta_w)───X───Ry(theta_v)───X───X───Ry(theta_v)───X───</pre>"
      ],
      "text/plain": [
       "(0, 1): ───H───@─────────────────────────────────────────────────────────────────────────────────────────────────────────────────────────────────────────────────────────────────────────────────────────────────────────────────────────────────────────────────────────────────────\n",
       "               │\n",
       "(0, 2): ───────X───Z───Ry(theta_r)───X─────────────@───X───────────────────────────────────@───X─────────────────────────────────────────────────────────────────────────────────────────────────────────────────────────────────────────────────────────────────────────────────────\n",
       "                                                   │                                       │\n",
       "(0, 3): ─────────────────────────────Ry(theta_w)───X───X───Ry(theta_w)───X───Ry(theta_v)───X───X───Ry(theta_v)───X───X─────────────@───X───────────────────────────────────@───X─────────────────────────────────────────────────────────────────────────────────────────────────────\n",
       "                                                                                                                                   │                                       │\n",
       "(0, 4): ─────────────────────────────────────────────────────────────────────────────────────────────────────────────Ry(theta_w)───X───X───Ry(theta_w)───X───Ry(theta_v)───X───X───Ry(theta_v)───X───X─────────────@───X───────────────────────────────────@───X─────────────────────\n",
       "                                                                                                                                                                                                                   │                                       │\n",
       "(0, 5): ─────────────────────────────────────────────────────────────────────────────────────────────────────────────────────────────────────────────────────────────────────────────────────────────Ry(theta_w)───X───X───Ry(theta_w)───X───Ry(theta_v)───X───X───Ry(theta_v)───X───"
      ]
     },
     "execution_count": 50,
     "metadata": {},
     "output_type": "execute_result"
    }
   ],
   "source": [
    "print(\"REAL GROUND STATE\")\n",
    "pure_real"
   ]
  },
  {
   "cell_type": "code",
   "execution_count": 51,
   "metadata": {},
   "outputs": [
    {
     "name": "stdout",
     "output_type": "stream",
     "text": [
      "GENERATOR\n"
     ]
    },
    {
     "data": {
      "text/html": [
       "<pre style=\"overflow: auto; white-space: pre;\">(0, 1): ───H───@───────────────────────────────────────────────────────────────────────────────────────────────────────────────────────────────────────────────────────────────────────────────────────────────────────────────────────────────────────────────────────────\n",
       "               │\n",
       "(0, 2): ───────X───Z───Ry(theta0)───X────────────@───X─────────────────────────────────@───X───────────────────────────────────────────────────────────────────────────────────────────────────────────────────────────────────────────────────────────────────────────────\n",
       "                                                 │                                     │\n",
       "(0, 3): ────────────────────────────Ry(theta3)───X───X───Ry(theta4)───X───Ry(theta1)───X───X───Ry(theta2)───X───X────────────@───X─────────────────────────────────@───X───────────────────────────────────────────────────────────────────────────────────────────────────\n",
       "                                                                                                                             │                                     │\n",
       "(0, 4): ────────────────────────────────────────────────────────────────────────────────────────────────────────Ry(theta7)───X───X───Ry(theta8)───X───Ry(theta5)───X───X───Ry(theta6)───X───X─────────────@───X──────────────────────────────────@───X─────────────────────\n",
       "                                                                                                                                                                                                          │                                      │\n",
       "(0, 5): ────────────────────────────────────────────────────────────────────────────────────────────────────────────────────────────────────────────────────────────────────────────────────Ry(theta11)───X───X───Ry(theta12)───X───Ry(theta9)───X───X───Ry(theta10)───X───</pre>"
      ],
      "text/plain": [
       "(0, 1): ───H───@───────────────────────────────────────────────────────────────────────────────────────────────────────────────────────────────────────────────────────────────────────────────────────────────────────────────────────────────────────────────────────────\n",
       "               │\n",
       "(0, 2): ───────X───Z───Ry(theta0)───X────────────@───X─────────────────────────────────@───X───────────────────────────────────────────────────────────────────────────────────────────────────────────────────────────────────────────────────────────────────────────────\n",
       "                                                 │                                     │\n",
       "(0, 3): ────────────────────────────Ry(theta3)───X───X───Ry(theta4)───X───Ry(theta1)───X───X───Ry(theta2)───X───X────────────@───X─────────────────────────────────@───X───────────────────────────────────────────────────────────────────────────────────────────────────\n",
       "                                                                                                                             │                                     │\n",
       "(0, 4): ────────────────────────────────────────────────────────────────────────────────────────────────────────Ry(theta7)───X───X───Ry(theta8)───X───Ry(theta5)───X───X───Ry(theta6)───X───X─────────────@───X──────────────────────────────────@───X─────────────────────\n",
       "                                                                                                                                                                                                          │                                      │\n",
       "(0, 5): ────────────────────────────────────────────────────────────────────────────────────────────────────────────────────────────────────────────────────────────────────────────────────Ry(theta11)───X───X───Ry(theta12)───X───Ry(theta9)───X───X───Ry(theta10)───X───"
      ]
     },
     "execution_count": 51,
     "metadata": {},
     "output_type": "execute_result"
    }
   ],
   "source": [
    "print(\"GENERATOR\")\n",
    "pure_gen"
   ]
  },
  {
   "cell_type": "code",
   "execution_count": 52,
   "metadata": {},
   "outputs": [
    {
     "name": "stdout",
     "output_type": "stream",
     "text": [
      "DISCRIMINATOR\n"
     ]
    },
    {
     "data": {
      "text/html": [
       "<pre style=\"overflow: auto; white-space: pre;\">(0, 0): ───Rx(d0)───Rz(d6)────ZZ────────────────Rx(d17)───Rz(d23)───ZZ────────────────Rx(d34)───Rz(d40)───ZZ────────────────Rx(d51)───Rz(d57)───ZZ────────────────Rx(d68)───Rz(d74)───ZZ────────────────\n",
       "                              │                                     │                                     │                                     │                                     │\n",
       "(0, 1): ───Rx(d1)───Rz(d7)────ZZ^d12───ZZ───────Rx(d18)───Rz(d24)───ZZ^d29───ZZ───────Rx(d35)───Rz(d41)───ZZ^d46───ZZ───────Rx(d52)───Rz(d58)───ZZ^d63───ZZ───────Rx(d69)───Rz(d75)───ZZ^d80───ZZ───────\n",
       "                                       │                                     │                                     │                                     │                                     │\n",
       "(0, 2): ───Rx(d2)───Rz(d8)────ZZ───────ZZ^d15───Rx(d19)───Rz(d25)───ZZ───────ZZ^d32───Rx(d36)───Rz(d42)───ZZ───────ZZ^d49───Rx(d53)───Rz(d59)───ZZ───────ZZ^d66───Rx(d70)───Rz(d76)───ZZ───────ZZ^d83───\n",
       "                              │                                     │                                     │                                     │                                     │\n",
       "(0, 3): ───Rx(d3)───Rz(d9)────ZZ^d13───ZZ───────Rx(d20)───Rz(d26)───ZZ^d30───ZZ───────Rx(d37)───Rz(d43)───ZZ^d47───ZZ───────Rx(d54)───Rz(d60)───ZZ^d64───ZZ───────Rx(d71)───Rz(d77)───ZZ^d81───ZZ───────\n",
       "                                       │                                     │                                     │                                     │                                     │\n",
       "(0, 4): ───Rx(d4)───Rz(d10)───ZZ───────ZZ^d16───Rx(d21)───Rz(d27)───ZZ───────ZZ^d33───Rx(d38)───Rz(d44)───ZZ───────ZZ^d50───Rx(d55)───Rz(d61)───ZZ───────ZZ^d67───Rx(d72)───Rz(d78)───ZZ───────ZZ^d84───\n",
       "                              │                                     │                                     │                                     │                                     │\n",
       "(0, 5): ───Rx(d5)───Rz(d11)───ZZ^d14────────────Rx(d22)───Rz(d28)───ZZ^d31────────────Rx(d39)───Rz(d45)───ZZ^d48────────────Rx(d56)───Rz(d62)───ZZ^d65────────────Rx(d73)───Rz(d79)───ZZ^d82────────────</pre>"
      ],
      "text/plain": [
       "(0, 0): ───Rx(d0)───Rz(d6)────ZZ────────────────Rx(d17)───Rz(d23)───ZZ────────────────Rx(d34)───Rz(d40)───ZZ────────────────Rx(d51)───Rz(d57)───ZZ────────────────Rx(d68)───Rz(d74)───ZZ────────────────\n",
       "                              │                                     │                                     │                                     │                                     │\n",
       "(0, 1): ───Rx(d1)───Rz(d7)────ZZ^d12───ZZ───────Rx(d18)───Rz(d24)───ZZ^d29───ZZ───────Rx(d35)───Rz(d41)───ZZ^d46───ZZ───────Rx(d52)───Rz(d58)───ZZ^d63───ZZ───────Rx(d69)───Rz(d75)───ZZ^d80───ZZ───────\n",
       "                                       │                                     │                                     │                                     │                                     │\n",
       "(0, 2): ───Rx(d2)───Rz(d8)────ZZ───────ZZ^d15───Rx(d19)───Rz(d25)───ZZ───────ZZ^d32───Rx(d36)───Rz(d42)───ZZ───────ZZ^d49───Rx(d53)───Rz(d59)───ZZ───────ZZ^d66───Rx(d70)───Rz(d76)───ZZ───────ZZ^d83───\n",
       "                              │                                     │                                     │                                     │                                     │\n",
       "(0, 3): ───Rx(d3)───Rz(d9)────ZZ^d13───ZZ───────Rx(d20)───Rz(d26)───ZZ^d30───ZZ───────Rx(d37)───Rz(d43)───ZZ^d47───ZZ───────Rx(d54)───Rz(d60)───ZZ^d64───ZZ───────Rx(d71)───Rz(d77)───ZZ^d81───ZZ───────\n",
       "                                       │                                     │                                     │                                     │                                     │\n",
       "(0, 4): ───Rx(d4)───Rz(d10)───ZZ───────ZZ^d16───Rx(d21)───Rz(d27)───ZZ───────ZZ^d33───Rx(d38)───Rz(d44)───ZZ───────ZZ^d50───Rx(d55)───Rz(d61)───ZZ───────ZZ^d67───Rx(d72)───Rz(d78)───ZZ───────ZZ^d84───\n",
       "                              │                                     │                                     │                                     │                                     │\n",
       "(0, 5): ───Rx(d5)───Rz(d11)───ZZ^d14────────────Rx(d22)───Rz(d28)───ZZ^d31────────────Rx(d39)───Rz(d45)───ZZ^d48────────────Rx(d56)───Rz(d62)───ZZ^d65────────────Rx(d73)───Rz(d79)───ZZ^d82────────────"
      ]
     },
     "execution_count": 52,
     "metadata": {},
     "output_type": "execute_result"
    }
   ],
   "source": [
    "print(\"DISCRIMINATOR\")\n",
    "disc"
   ]
  },
  {
   "cell_type": "code",
   "execution_count": 53,
   "metadata": {},
   "outputs": [],
   "source": [
    "np.random.seed(0)\n",
    "eps = 1e-2\n",
    "init_gen_weights = np.array([0] * len(gs)) + \\\n",
    "                   np.random.normal(scale=eps, size=(len(gs),))\n",
    "init_disc_weights = np.random.normal(size=(len(ds),))\n",
    "\n",
    "gen_weights = tf.Variable(init_gen_weights, dtype=tf.float32)\n",
    "disc_weights = tf.Variable(init_disc_weights, dtype=tf.float32)"
   ]
  },
  {
   "cell_type": "code",
   "execution_count": 54,
   "metadata": {},
   "outputs": [],
   "source": [
    "class CustomScheduler(tf.keras.optimizers.schedules.LearningRateSchedule):\n",
    "    def __init__(self, warmup_steps=4000):\n",
    "        super(CustomScheduler, self).__init__()\n",
    "        self.warmup_steps = warmup_steps\n",
    "\n",
    "    def __call__(self, step):\n",
    "        return max(math.e ** - ((step+200) / (self.warmup_steps / math.log(100))), 0.01)"
   ]
  },
  {
   "cell_type": "code",
   "execution_count": 55,
   "metadata": {
    "pycharm": {
     "name": "#%%\n"
    }
   },
   "outputs": [],
   "source": [
    "learning_rate = CustomScheduler()\n",
    "\n",
    "opt = tf.keras.optimizers.Adam(learning_rate, beta_1=0.9, beta_2=0.98, \n",
    "                                     epsilon=1e-9)"
   ]
  },
  {
   "cell_type": "code",
   "execution_count": 56,
   "metadata": {
    "pycharm": {
     "name": "#%%\n"
    }
   },
   "outputs": [],
   "source": [
    "#g_values = [0.1, 0.4, 0.25]\n",
    "g_values = [-0.5]\n",
    "# x_rotations = get_binary_x_rotation_provider({0: '100', 1: '011', 2: '101'})\n",
    "# real_values_provider = get_arcsin_x_rotation_provider(g_values, data_bus_size)\n",
    "real_values_provider = get_g_parameters_provider()"
   ]
  },
  {
   "cell_type": "code",
   "execution_count": 66,
   "metadata": {},
   "outputs": [],
   "source": [
    "epochs = 4\n",
    "disc_iteration = 1\n",
    "gen_iteration = 1"
   ]
  },
  {
   "cell_type": "code",
   "execution_count": 67,
   "metadata": {},
   "outputs": [],
   "source": [
    "if use_neptune:\n",
    "    neptune.init(project_qualified_name='wiktor.jurasz/thesis', api_token=neptun_token)\n",
    "    neptun_params = {\n",
    "        'generator_layers': generator_layers,\n",
    "        'discriminator_layers': discriminator_layers,\n",
    "        'g_values': g_values,\n",
    "        'size':  data_bus_size,\n",
    "        'real_phase': real_phase,\n",
    "        'generic_generator': generic_generator,\n",
    "        'all_layers_labeling': all_layers_labeling,\n",
    "        'full_layer_labeling': full_layer_labeling,\n",
    "        'use_gen_label_qubit': use_gen_label_qubit,\n",
    "        'use_disc_label_qubit': use_disc_label_qubit,\n",
    "        'zxz': zxz,\n",
    "        'fixed_gates': fixed_gates,\n",
    "        'disc_iteration': disc_iteration,\n",
    "        'gen_iteration': gen_iteration,\n",
    "        'epochs': epochs\n",
    "    }\n",
    "    neptune.create_experiment(name=None, description=None, params=neptun_params)\n",
    "    neptune.log_artifact(io.StringIO(str(disc)), \"disc.txt\")\n",
    "    neptune.log_artifact(io.StringIO(str(pure_gen)), \"gen.txt\")"
   ]
  },
  {
   "cell_type": "code",
   "execution_count": 74,
   "metadata": {},
   "outputs": [],
   "source": [
    "trainer = Trainer(g_values, \n",
    "                  data_bus_size, \n",
    "                  disc, \n",
    "                  gen, \n",
    "                  pure_gen,\n",
    "                  real, \n",
    "                  pure_real,\n",
    "                  out_qubit, \n",
    "                  ds, \n",
    "                  gs, \n",
    "                  real_symbols, \n",
    "                  ls,\n",
    "                  real_values_provider = real_values_provider,\n",
    "                  use_analytical_expectation=True,\n",
    "                  use_neptune=use_neptune)"
   ]
  },
  {
   "cell_type": "code",
   "execution_count": 75,
   "metadata": {
    "scrolled": false
   },
   "outputs": [
    {
     "data": {
      "text/plain": [
       "<Figure size 432x288 with 0 Axes>"
      ]
     },
     "metadata": {},
     "output_type": "display_data"
    },
    {
     "data": {
      "image/png": "[encoded data removed]",
      "text/plain": [
       "<Figure size 1296x360 with 3 Axes>"
      ]
     },
     "metadata": {
      "needs_background": "light"
     },
     "output_type": "display_data"
    },
    {
     "name": "stdout",
     "output_type": "stream",
     "text": [
      "-------------------------------------\n",
      "----------- TRAINING DONE -----------\n"
     ]
    }
   ],
   "source": [
    "snapshot_interval_epochs = 20\n",
    "results, json_result = trainer.train(disc_weights,\n",
    "      gen_weights, \n",
    "      opt, \n",
    "      epochs=epochs, \n",
    "      disc_iteration=disc_iteration, \n",
    "      gen_iteration=gen_iteration,\n",
    "      snapshot_interval_epochs=snapshot_interval_epochs)\n",
    "res_dict = trainer.get_params_and_results()"
   ]
  },
  {
   "cell_type": "code",
   "execution_count": 73,
   "metadata": {},
   "outputs": [],
   "source": [
    "trained_gen_pairs = res_dict['weights'][-1]['gen_pairs']\n",
    "trained_disc_pairs = res_dict['weights'][-1]['disc_pairs']"
   ]
  },
  {
   "cell_type": "code",
   "execution_count": 25,
   "metadata": {},
   "outputs": [],
   "source": [
    "trained_gen_pairs = {\n",
    "      \"theta1\": \"-3.805953\",\n",
    "      \"theta3\": \"-4.8882213\",\n",
    "      \"theta10\": \"10.795441\",\n",
    "      \"theta5\": \"19.763798\",\n",
    "      \"theta0\": \"1.9086722\",\n",
    "      \"theta9\": \"2.2938647\",\n",
    "      \"theta12\": \"13.140736\",\n",
    "      \"theta7\": \"-10.7745285\",\n",
    "      \"theta8\": \"-13.19596\",\n",
    "      \"theta11\": \"11.439832\",\n",
    "      \"theta4\": \"3.881989\",\n",
    "      \"theta6\": \"-10.842205\",\n",
    "      \"theta2\": \"-4.8848224\"\n",
    "    }"
   ]
  },
  {
   "cell_type": "code",
   "execution_count": 26,
   "metadata": {},
   "outputs": [],
   "source": [
    "gen_evaluator = CircuitEvaluator(pure_gen, ls, trainer.label_value_provider, trained_gen_pairs, gs)\n",
    "disc_evaluator = CircuitEvaluator(disc, ls, trainer.label_value_provider, trained_disc_pairs, ds)\n",
    "real_evaluator = CircuitEvaluator(pure_real, real_symbols, trainer.real_values_provider)"
   ]
  },
  {
   "cell_type": "code",
   "execution_count": 27,
   "metadata": {},
   "outputs": [],
   "source": [
    "if use_neptune:\n",
    "    neptune.log_artifact(io.StringIO(disc_evaluator.get_resolved_circuit().to_qasm()), 'desc_qasm.txt')\n",
    "    neptune.log_artifact(io.StringIO(gen_evaluator.get_resolved_circuit().to_qasm()), 'gen_qasm.txt')\n",
    "    neptune.log_artifact(io.StringIO(json_result), 'weights.json')"
   ]
  },
  {
   "cell_type": "code",
   "execution_count": 28,
   "metadata": {},
   "outputs": [],
   "source": [
    "def get_gen_for_g(g, gen_weights, gen_provider):\n",
    "    rad = gen_provider(g)\n",
    "    return np.append(gen_weights, rad)\n",
    "\n",
    "def get_states_and_fidelty_for_real(gen_evaluator, \n",
    "                                    real_evaluator, \n",
    "                                    gen_pairs, \n",
    "                                    g, \n",
    "                                    sized):\n",
    "    generated = gen_evaluator.get_state_from_params()\n",
    "    real = real_evaluator.get_state_from_params(g)\n",
    "    return generated, real, cirq.fidelity(generated, real)\n",
    "\n",
    "def get_states_and_fidelty_for_ground(gen_evaluator, g, gen_weights, size):\n",
    "\n",
    "    generated = gen_evaluator.get_state_from_params(trace_dims=list(range(size)))\n",
    "    ground = get_ground_state_for_g(g, size)\n",
    "    return generated, ground, cirq.fidelity(generated, ground)\n",
    "\n",
    "def compare_generated_for_g(gen_evaluator, g1, g2, gen_weights, size):\n",
    "    generated1 = gen_evaluator.get_state_from_params(trace_dims=list(range(size)))\n",
    "    generated2 = gen_evaluator.get_state_from_params(trace_dims=list(range(size)))\n",
    "    return generated1, generated2, cirq.fidelity(generated1, generated2)"
   ]
  },
  {
   "cell_type": "code",
   "execution_count": 29,
   "metadata": {},
   "outputs": [],
   "source": [
    "def angle_dist(g, phase_angles_provider, weights):\n",
    "    angles = phase_angles_provider(g)\n",
    "    z1_rad = 3 * math.pi / 2\n",
    "    z2_rad = -3 * math.pi / 2\n",
    "    z1_deg = math.degrees(z1_rad)\n",
    "    z2_deg = math.degrees(z2_rad)\n",
    "    \n",
    "    xr_rad = angles[0]\n",
    "    xv_rad = angles[1]\n",
    "    xw_rad = angles[2]\n",
    "    xr_deg = math.degrees(xr_rad)\n",
    "    xv_deg = math.degrees(xv_rad)\n",
    "    xw_deg = math.degrees(xw_rad)\n",
    "    \n",
    "    \n",
    "    norm_w_deg = [math.degrees(w) for w in weights]\n",
    "    deg_diff = [norm_w_deg[0], z1_deg, norm_w_deg[0] - z1_deg, weights[0], z1_rad]\n",
    "    \n",
    "    print(z1_deg,z2_deg,xr_deg,xv_deg,xw_deg)\n",
    "    return deg_diff"
   ]
  },
  {
   "cell_type": "code",
   "execution_count": 30,
   "metadata": {},
   "outputs": [],
   "source": [
    "g = g_values[0]\n",
    "generated_state, real_state, fidelity = get_states_and_fidelty_for_real(gen_evaluator, real_evaluator, trained_gen_pairs, g, data_bus_size)"
   ]
  },
  {
   "cell_type": "code",
   "execution_count": 31,
   "metadata": {},
   "outputs": [
    {
     "data": {
      "text/plain": [
       "(array([ 0.2016527 +0.j, -0.30183655+0.j, -0.18842   +0.j, -0.17124698+0.j,\n",
       "        -0.11319009+0.j,  0.16942446+0.j, -0.22779992+0.j, -0.20703778+0.j,\n",
       "        -0.09371056+0.j,  0.14026727+0.j,  0.08756118+0.j,  0.07958066+0.j,\n",
       "        -0.10826471+0.j,  0.16205211+0.j, -0.2178874 +0.j, -0.19802871+0.j,\n",
       "        -0.14288682+0.j,  0.21387492+0.j,  0.1335104 +0.j,  0.12134197+0.j,\n",
       "         0.08020411+0.j, -0.12005059+0.j,  0.16141422+0.j,  0.14670257+0.j,\n",
       "        -0.13225147+0.j,  0.19795577+0.j,  0.12357295+0.j,  0.11231024+0.j,\n",
       "        -0.1527914 +0.j,  0.22870027+0.j, -0.3074993 +0.j, -0.27947316+0.j],\n",
       "       dtype=complex64),\n",
       " array([ 0.22222227+0.j,  0.31426978+0.j,  0.22222224+0.j, -0.15713488+0.j,\n",
       "        -0.1111111 +0.j, -0.15713485+0.j,  0.22222221+0.j, -0.15713486+0.j,\n",
       "        -0.11111113+0.j, -0.15713489+0.j, -0.11111112+0.j,  0.07856744+0.j,\n",
       "        -0.11111112+0.j, -0.15713486+0.j,  0.22222224+0.j, -0.15713488+0.j,\n",
       "        -0.15713489+0.j, -0.22222227+0.j, -0.15713489+0.j,  0.11111113+0.j,\n",
       "         0.07856743+0.j,  0.11111113+0.j, -0.15713486+0.j,  0.11111113+0.j,\n",
       "        -0.15713486+0.j, -0.22222225+0.j, -0.15713485+0.j,  0.11111112+0.j,\n",
       "        -0.15713486+0.j, -0.22222225+0.j,  0.31426978+0.j, -0.22222227+0.j],\n",
       "       dtype=complex64),\n",
       " 0.08017528244537075)"
      ]
     },
     "execution_count": 31,
     "metadata": {},
     "output_type": "execute_result"
    }
   ],
   "source": [
    "generated_state, real_state, fidelity"
   ]
  },
  {
   "cell_type": "code",
   "execution_count": 32,
   "metadata": {},
   "outputs": [],
   "source": [
    "if use_neptune:\n",
    "    neptune.log_artifact(io.StringIO(str({\"generated_state\": generated_state.tolist(), \"real_state\": real_state.tolist()})), f\"states_g={g}.txt\")\n",
    "    neptune.log_metric(f\"g={g} fidelity\", fidelity)"
   ]
  },
  {
   "cell_type": "code",
   "execution_count": 33,
   "metadata": {},
   "outputs": [],
   "source": [
    "if use_neptune:\n",
    "    neptune.stop()"
   ]
  },
  {
   "cell_type": "code",
   "execution_count": 34,
   "metadata": {},
   "outputs": [
    {
     "data": {
      "text/plain": [
       "[1.910633236249019, 0.6154797086703875, 2.186276035465284]"
      ]
     },
     "execution_count": 34,
     "metadata": {},
     "output_type": "execute_result"
    }
   ],
   "source": [
    "get_g_parameters_provider()(g)"
   ]
  },
  {
   "cell_type": "code",
   "execution_count": 35,
   "metadata": {},
   "outputs": [],
   "source": [
    "real025 = real_evaluator.get_state_from_params(0.25)"
   ]
  },
  {
   "cell_type": "code",
   "execution_count": 36,
   "metadata": {},
   "outputs": [],
   "source": [
    "real04 = real_evaluator.get_state_from_params(0.4)\n",
    "real01 = real_evaluator.get_state_from_params(0.1)"
   ]
  },
  {
   "cell_type": "code",
   "execution_count": 37,
   "metadata": {},
   "outputs": [
    {
     "data": {
      "text/plain": [
       "0.9999996423721633"
      ]
     },
     "execution_count": 37,
     "metadata": {},
     "output_type": "execute_result"
    }
   ],
   "source": [
    "cirq.fidelity(real025, -real025)"
   ]
  },
  {
   "cell_type": "code",
   "execution_count": 38,
   "metadata": {},
   "outputs": [
    {
     "ename": "NameError",
     "evalue": "name 'trained_gen_weights' is not defined",
     "output_type": "error",
     "traceback": [
      "\u001b[0;31m---------------------------------------------------------------------------\u001b[0m",
      "\u001b[0;31mNameError\u001b[0m                                 Traceback (most recent call last)",
      "\u001b[0;32m<ipython-input-38-ac0a45bfabe0>\u001b[0m in \u001b[0;36m<module>\u001b[0;34m\u001b[0m\n\u001b[0;32m----> 1\u001b[0;31m \u001b[0mcompare_generated_for_g\u001b[0m\u001b[0;34m(\u001b[0m\u001b[0mgen_evaluator\u001b[0m\u001b[0;34m,\u001b[0m \u001b[0;34m-\u001b[0m\u001b[0;36m0.9\u001b[0m\u001b[0;34m,\u001b[0m \u001b[0;34m-\u001b[0m\u001b[0;36m0.8\u001b[0m\u001b[0;34m,\u001b[0m \u001b[0mtrained_gen_weights\u001b[0m\u001b[0;34m,\u001b[0m \u001b[0mdata_bus_size\u001b[0m\u001b[0;34m)\u001b[0m\u001b[0;34m\u001b[0m\u001b[0;34m\u001b[0m\u001b[0m\n\u001b[0m\u001b[1;32m      2\u001b[0m \u001b[0;34m\u001b[0m\u001b[0m\n",
      "\u001b[0;31mNameError\u001b[0m: name 'trained_gen_weights' is not defined"
     ]
    }
   ],
   "source": [
    "compare_generated_for_g(gen_evaluator, -0.9, -0.8, trained_gen_weights, data_bus_size)"
   ]
  },
  {
   "cell_type": "code",
   "execution_count": null,
   "metadata": {},
   "outputs": [],
   "source": [
    "g = 0\n",
    "get_states_and_fidelty_for_ground(gen_evaluator, g, trained_gen_weights, data_bus_size)"
   ]
  },
  {
   "cell_type": "code",
   "execution_count": null,
   "metadata": {},
   "outputs": [],
   "source": []
  }
 ],
 "metadata": {
  "kernelspec": {
   "display_name": "Python 3",
   "language": "python",
   "name": "python3"
  },
  "language_info": {
   "codemirror_mode": {
    "name": "ipython",
    "version": 3
   },
   "file_extension": ".py",
   "mimetype": "text/x-python",
   "name": "python",
   "nbconvert_exporter": "python",
   "pygments_lexer": "ipython3",
   "version": "3.8.7"
  }
 },
 "nbformat": 4,
 "nbformat_minor": 1
}
