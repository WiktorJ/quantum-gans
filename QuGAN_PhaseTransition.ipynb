{
 "cells": [
  {
   "cell_type": "code",
   "execution_count": null,
   "metadata": {
    "scrolled": true
   },
   "outputs": [],
   "source": [
    "if 'google.colab' in str(get_ipython()):\n",
    "    !pip uninstall tensorflow -y\n",
    "    !pip install tensorflow==2.3.1 tensorflow-quantum neptune-client\n",
    "    !rm -rf quantum-gans\n",
    "    !git clone https://github.com/WiktorJ/quantum-gans\n",
    "    !cd quantum-gans; pip install .\n",
    "    neptun_token = \"\" # put manually for the time being\n",
    "else:\n",
    "    import subprocess\n",
    "    def get_var(varname):\n",
    "        CMD = 'echo $(source ~/.bash_profile; echo $%s)' % varname\n",
    "        p = subprocess.Popen(CMD, stdout=subprocess.PIPE, shell=True, executable='/bin/bash')\n",
    "        return p.stdout.readlines()[0].strip()\n",
    "    neptun_token = get_var('NEPTUNE_API_TOKEN').decode(\"utf-8\") "
   ]
  },
  {
   "cell_type": "code",
   "execution_count": 178,
   "metadata": {},
   "outputs": [
    {
     "name": "stdout",
     "output_type": "stream",
     "text": [
      "The autoreload extension is already loaded. To reload it, use:\n",
      "  %reload_ext autoreload\n"
     ]
    }
   ],
   "source": [
    "%load_ext autoreload\n",
    "%autoreload 2"
   ]
  },
  {
   "cell_type": "code",
   "execution_count": 180,
   "metadata": {},
   "outputs": [],
   "source": [
    "import io\n",
    "import math\n",
    "import json\n",
    "import neptune\n",
    "import tensorflow as tf\n",
    "\n",
    "import cirq\n",
    "import numpy as np\n",
    "from qsgenerator.utils import map_to_radians\n",
    "from qsgenerator.qugans import circuits\n",
    "from qsgenerator.resolvers import resolve_all\n",
    "from qsgenerator.qugans.training import Trainer\n",
    "from qsgenerator.phase.circuits import PhaseCircuitBuilder\n",
    "from qsgenerator.phase.constants import z1_theta, z2_theta\n",
    "from qsgenerator.phase.analitical import  get_ground_state_for_g\n",
    "from qsgenerator.states.simple_state_circuits import build_x_rotation_state\n",
    "from qsgenerator.states.simple_rotation_generators import get_binary_x_rotation_provider, get_arcsin_x_rotation_provider\n",
    "from qsgenerator.phase.analitical import construct_hamiltonian, get_theta_v, get_theta_w, get_theta_r, get_g_parameters_provider\n",
    "from qsgenerator.evaluators.circuit_evaluator import CircuitEvaluator"
   ]
  },
  {
   "cell_type": "code",
   "execution_count": 128,
   "metadata": {},
   "outputs": [],
   "source": [
    "use_neptune = False"
   ]
  },
  {
   "cell_type": "code",
   "execution_count": 129,
   "metadata": {},
   "outputs": [],
   "source": [
    "generator_layers = 5\n",
    "discriminator_layers = 5\n",
    "data_bus_size = 5\n",
    "generator_bath_size = 1\n",
    "discriminator_bath_size = 1"
   ]
  },
  {
   "cell_type": "code",
   "execution_count": 130,
   "metadata": {},
   "outputs": [],
   "source": [
    "real_phase = True\n",
    "generic_generator = True\n",
    "all_layers_labeling = False\n",
    "full_layer_labeling = False\n",
    "use_gen_label_qubit = False\n",
    "use_disc_label_qubit = False\n",
    "zxz = True\n",
    "all_gates_parametrized = True\n",
    "fixed_gates = {}\n",
    "# fixed_gates = {\"z1\": z1_theta}"
   ]
  },
  {
   "cell_type": "code",
   "execution_count": 131,
   "metadata": {},
   "outputs": [],
   "source": [
    "gen, gs, disc, ds, ls, data_qubits, out_qubit = circuits.build_gan_circuits(\n",
    "    generator_layers, \n",
    "    discriminator_layers, \n",
    "    data_bus_size, \n",
    "    generator_bath_size = generator_bath_size,\n",
    "    discriminator_bath_size = discriminator_bath_size,\n",
    "    all_layers_labeling=all_layers_labeling,\n",
    "    full_layer_labeling=full_layer_labeling,\n",
    "    use_gen_label_qubit=use_gen_label_qubit,\n",
    "    use_disc_label_qubit=use_disc_label_qubit)"
   ]
  },
  {
   "cell_type": "code",
   "execution_count": 132,
   "metadata": {},
   "outputs": [],
   "source": [
    "if not generic_generator:\n",
    "    builder = PhaseCircuitBuilder(all_gates_parametrized=all_gates_parametrized)\n",
    "    gen, gs, symbols_dict_gen = builder.build_ground_state_circuit(qubits=data_qubits, full_parametrization=True, zxz=zxz)\n",
    "else:\n",
    "    symbols_dict_gen = {}"
   ]
  },
  {
   "cell_type": "code",
   "execution_count": 133,
   "metadata": {},
   "outputs": [],
   "source": [
    "gen, gs = resolve_all(gen, gs, symbols_dict_gen, fixed_gates)"
   ]
  },
  {
   "cell_type": "code",
   "execution_count": 134,
   "metadata": {},
   "outputs": [],
   "source": [
    "if real_phase:\n",
    "    builder = PhaseCircuitBuilder(all_gates_parametrized=False)\n",
    "    real, real_symbols, symbols_dict_real = builder.build_ground_state_circuit(qubits=data_qubits)\n",
    "else:\n",
    "    real, real_symbols, symbols_dict_real = build_x_rotation_state(qubits=data_qubits)"
   ]
  },
  {
   "cell_type": "code",
   "execution_count": 135,
   "metadata": {},
   "outputs": [],
   "source": [
    "pure_gen = gen.copy()\n",
    "gen.append([disc])"
   ]
  },
  {
   "cell_type": "code",
   "execution_count": 136,
   "metadata": {},
   "outputs": [],
   "source": [
    "pure_real = real.copy()\n",
    "real.append([disc])"
   ]
  },
  {
   "cell_type": "code",
   "execution_count": 137,
   "metadata": {
    "scrolled": true
   },
   "outputs": [
    {
     "name": "stdout",
     "output_type": "stream",
     "text": [
      "REAL GROUND STATE\n"
     ]
    },
    {
     "data": {
      "text/html": [
       "<pre style=\"overflow: auto; white-space: pre;\">(0, 2): ───H───@─────────────────────────@───────────────────────────────────────────────────────────────────────────────────────────────────────────────────────────────────────────────────────────────────────────────────────────────────────────────────────────────────────────────────────\n",
       "               │                         │\n",
       "(0, 3): ───────X───Z───Ry(theta_r)───H───X───H───X─────────────@───X───────────────────────────────────@───X─────────────────────────────────────────────────────────────────────────────────────────────────────────────────────────────────────────────────────────────────────────────────────\n",
       "                                                               │                                       │\n",
       "(0, 4): ─────────────────────────────────────────Ry(theta_w)───X───X───Ry(theta_w)───X───Ry(theta_v)───X───X───Ry(theta_v)───X───X─────────────@───X───────────────────────────────────@───X─────────────────────────────────────────────────────────────────────────────────────────────────────\n",
       "                                                                                                                                               │                                       │\n",
       "(0, 5): ─────────────────────────────────────────────────────────────────────────────────────────────────────────────────────────Ry(theta_w)───X───X───Ry(theta_w)───X───Ry(theta_v)───X───X───Ry(theta_v)───X───X─────────────@───X───────────────────────────────────@───X─────────────────────\n",
       "                                                                                                                                                                                                                               │                                       │\n",
       "(0, 6): ─────────────────────────────────────────────────────────────────────────────────────────────────────────────────────────────────────────────────────────────────────────────────────────────────────────Ry(theta_w)───X───X───Ry(theta_w)───X───Ry(theta_v)───X───X───Ry(theta_v)───X───</pre>"
      ],
      "text/plain": [
       "(0, 2): ───H───@─────────────────────────@───────────────────────────────────────────────────────────────────────────────────────────────────────────────────────────────────────────────────────────────────────────────────────────────────────────────────────────────────────────────────────\n",
       "               │                         │\n",
       "(0, 3): ───────X───Z───Ry(theta_r)───H───X───H───X─────────────@───X───────────────────────────────────@───X─────────────────────────────────────────────────────────────────────────────────────────────────────────────────────────────────────────────────────────────────────────────────────\n",
       "                                                               │                                       │\n",
       "(0, 4): ─────────────────────────────────────────Ry(theta_w)───X───X───Ry(theta_w)───X───Ry(theta_v)───X───X───Ry(theta_v)───X───X─────────────@───X───────────────────────────────────@───X─────────────────────────────────────────────────────────────────────────────────────────────────────\n",
       "                                                                                                                                               │                                       │\n",
       "(0, 5): ─────────────────────────────────────────────────────────────────────────────────────────────────────────────────────────Ry(theta_w)───X───X───Ry(theta_w)───X───Ry(theta_v)───X───X───Ry(theta_v)───X───X─────────────@───X───────────────────────────────────@───X─────────────────────\n",
       "                                                                                                                                                                                                                               │                                       │\n",
       "(0, 6): ─────────────────────────────────────────────────────────────────────────────────────────────────────────────────────────────────────────────────────────────────────────────────────────────────────────Ry(theta_w)───X───X───Ry(theta_w)───X───Ry(theta_v)───X───X───Ry(theta_v)───X───"
      ]
     },
     "execution_count": 137,
     "metadata": {},
     "output_type": "execute_result"
    }
   ],
   "source": [
    "print(\"REAL GROUND STATE\")\n",
    "pure_real"
   ]
  },
  {
   "cell_type": "code",
   "execution_count": 138,
   "metadata": {},
   "outputs": [
    {
     "name": "stdout",
     "output_type": "stream",
     "text": [
      "GENERATOR\n"
     ]
    },
    {
     "data": {
      "text/html": [
       "<pre style=\"overflow: auto; white-space: pre;\">(0, 2): ───Rx(g0)───Rz(g6)────ZZ────────────────Rx(g17)───Rz(g23)───ZZ────────────────Rx(g34)───Rz(g40)───ZZ────────────────Rx(g51)───Rz(g57)───ZZ────────────────Rx(g68)───Rz(g74)───ZZ────────────────\n",
       "                              │                                     │                                     │                                     │                                     │\n",
       "(0, 3): ───Rx(g1)───Rz(g7)────ZZ^g12───ZZ───────Rx(g18)───Rz(g24)───ZZ^g29───ZZ───────Rx(g35)───Rz(g41)───ZZ^g46───ZZ───────Rx(g52)───Rz(g58)───ZZ^g63───ZZ───────Rx(g69)───Rz(g75)───ZZ^g80───ZZ───────\n",
       "                                       │                                     │                                     │                                     │                                     │\n",
       "(0, 4): ───Rx(g2)───Rz(g8)────ZZ───────ZZ^g15───Rx(g19)───Rz(g25)───ZZ───────ZZ^g32───Rx(g36)───Rz(g42)───ZZ───────ZZ^g49───Rx(g53)───Rz(g59)───ZZ───────ZZ^g66───Rx(g70)───Rz(g76)───ZZ───────ZZ^g83───\n",
       "                              │                                     │                                     │                                     │                                     │\n",
       "(0, 5): ───Rx(g3)───Rz(g9)────ZZ^g13───ZZ───────Rx(g20)───Rz(g26)───ZZ^g30───ZZ───────Rx(g37)───Rz(g43)───ZZ^g47───ZZ───────Rx(g54)───Rz(g60)───ZZ^g64───ZZ───────Rx(g71)───Rz(g77)───ZZ^g81───ZZ───────\n",
       "                                       │                                     │                                     │                                     │                                     │\n",
       "(0, 6): ───Rx(g4)───Rz(g10)───ZZ───────ZZ^g16───Rx(g21)───Rz(g27)───ZZ───────ZZ^g33───Rx(g38)───Rz(g44)───ZZ───────ZZ^g50───Rx(g55)───Rz(g61)───ZZ───────ZZ^g67───Rx(g72)───Rz(g78)───ZZ───────ZZ^g84───\n",
       "                              │                                     │                                     │                                     │                                     │\n",
       "(0, 7): ───Rx(g5)───Rz(g11)───ZZ^g14────────────Rx(g22)───Rz(g28)───ZZ^g31────────────Rx(g39)───Rz(g45)───ZZ^g48────────────Rx(g56)───Rz(g62)───ZZ^g65────────────Rx(g73)───Rz(g79)───ZZ^g82────────────</pre>"
      ],
      "text/plain": [
       "(0, 2): ───Rx(g0)───Rz(g6)────ZZ────────────────Rx(g17)───Rz(g23)───ZZ────────────────Rx(g34)───Rz(g40)───ZZ────────────────Rx(g51)───Rz(g57)───ZZ────────────────Rx(g68)───Rz(g74)───ZZ────────────────\n",
       "                              │                                     │                                     │                                     │                                     │\n",
       "(0, 3): ───Rx(g1)───Rz(g7)────ZZ^g12───ZZ───────Rx(g18)───Rz(g24)───ZZ^g29───ZZ───────Rx(g35)───Rz(g41)───ZZ^g46───ZZ───────Rx(g52)───Rz(g58)───ZZ^g63───ZZ───────Rx(g69)───Rz(g75)───ZZ^g80───ZZ───────\n",
       "                                       │                                     │                                     │                                     │                                     │\n",
       "(0, 4): ───Rx(g2)───Rz(g8)────ZZ───────ZZ^g15───Rx(g19)───Rz(g25)───ZZ───────ZZ^g32───Rx(g36)───Rz(g42)───ZZ───────ZZ^g49───Rx(g53)───Rz(g59)───ZZ───────ZZ^g66───Rx(g70)───Rz(g76)───ZZ───────ZZ^g83───\n",
       "                              │                                     │                                     │                                     │                                     │\n",
       "(0, 5): ───Rx(g3)───Rz(g9)────ZZ^g13───ZZ───────Rx(g20)───Rz(g26)───ZZ^g30───ZZ───────Rx(g37)───Rz(g43)───ZZ^g47───ZZ───────Rx(g54)───Rz(g60)───ZZ^g64───ZZ───────Rx(g71)───Rz(g77)───ZZ^g81───ZZ───────\n",
       "                                       │                                     │                                     │                                     │                                     │\n",
       "(0, 6): ───Rx(g4)───Rz(g10)───ZZ───────ZZ^g16───Rx(g21)───Rz(g27)───ZZ───────ZZ^g33───Rx(g38)───Rz(g44)───ZZ───────ZZ^g50───Rx(g55)───Rz(g61)───ZZ───────ZZ^g67───Rx(g72)───Rz(g78)───ZZ───────ZZ^g84───\n",
       "                              │                                     │                                     │                                     │                                     │\n",
       "(0, 7): ───Rx(g5)───Rz(g11)───ZZ^g14────────────Rx(g22)───Rz(g28)───ZZ^g31────────────Rx(g39)───Rz(g45)───ZZ^g48────────────Rx(g56)───Rz(g62)───ZZ^g65────────────Rx(g73)───Rz(g79)───ZZ^g82────────────"
      ]
     },
     "execution_count": 138,
     "metadata": {},
     "output_type": "execute_result"
    }
   ],
   "source": [
    "print(\"GENERATOR\")\n",
    "pure_gen"
   ]
  },
  {
   "cell_type": "code",
   "execution_count": 139,
   "metadata": {},
   "outputs": [
    {
     "name": "stdout",
     "output_type": "stream",
     "text": [
      "DISCRIMINATOR\n"
     ]
    },
    {
     "data": {
      "text/html": [
       "<pre style=\"overflow: auto; white-space: pre;\">(0, 0): ───Rx(d0)───Rz(d7)────ZZ────────────────Rx(d20)───Rz(d27)───ZZ────────────────Rx(d40)───Rz(d47)───ZZ────────────────Rx(d60)───Rz(d67)───ZZ────────────────Rx(d80)───Rz(d87)───ZZ────────────────\n",
       "                              │                                     │                                     │                                     │                                     │\n",
       "(0, 1): ───Rx(d1)───Rz(d8)────ZZ^d14───ZZ───────Rx(d21)───Rz(d28)───ZZ^d34───ZZ───────Rx(d41)───Rz(d48)───ZZ^d54───ZZ───────Rx(d61)───Rz(d68)───ZZ^d74───ZZ───────Rx(d81)───Rz(d88)───ZZ^d94───ZZ───────\n",
       "                                       │                                     │                                     │                                     │                                     │\n",
       "(0, 2): ───Rx(d2)───Rz(d9)────ZZ───────ZZ^d17───Rx(d22)───Rz(d29)───ZZ───────ZZ^d37───Rx(d42)───Rz(d49)───ZZ───────ZZ^d57───Rx(d62)───Rz(d69)───ZZ───────ZZ^d77───Rx(d82)───Rz(d89)───ZZ───────ZZ^d97───\n",
       "                              │                                     │                                     │                                     │                                     │\n",
       "(0, 3): ───Rx(d3)───Rz(d10)───ZZ^d15───ZZ───────Rx(d23)───Rz(d30)───ZZ^d35───ZZ───────Rx(d43)───Rz(d50)───ZZ^d55───ZZ───────Rx(d63)───Rz(d70)───ZZ^d75───ZZ───────Rx(d83)───Rz(d90)───ZZ^d95───ZZ───────\n",
       "                                       │                                     │                                     │                                     │                                     │\n",
       "(0, 4): ───Rx(d4)───Rz(d11)───ZZ───────ZZ^d18───Rx(d24)───Rz(d31)───ZZ───────ZZ^d38───Rx(d44)───Rz(d51)───ZZ───────ZZ^d58───Rx(d64)───Rz(d71)───ZZ───────ZZ^d78───Rx(d84)───Rz(d91)───ZZ───────ZZ^d98───\n",
       "                              │                                     │                                     │                                     │                                     │\n",
       "(0, 5): ───Rx(d5)───Rz(d12)───ZZ^d16───ZZ───────Rx(d25)───Rz(d32)───ZZ^d36───ZZ───────Rx(d45)───Rz(d52)───ZZ^d56───ZZ───────Rx(d65)───Rz(d72)───ZZ^d76───ZZ───────Rx(d85)───Rz(d92)───ZZ^d96───ZZ───────\n",
       "                                       │                                     │                                     │                                     │                                     │\n",
       "(0, 6): ───Rx(d6)───Rz(d13)────────────ZZ^d19───Rx(d26)───Rz(d33)────────────ZZ^d39───Rx(d46)───Rz(d53)────────────ZZ^d59───Rx(d66)───Rz(d73)────────────ZZ^d79───Rx(d86)───Rz(d93)────────────ZZ^d99───</pre>"
      ],
      "text/plain": [
       "(0, 0): ───Rx(d0)───Rz(d7)────ZZ────────────────Rx(d20)───Rz(d27)───ZZ────────────────Rx(d40)───Rz(d47)───ZZ────────────────Rx(d60)───Rz(d67)───ZZ────────────────Rx(d80)───Rz(d87)───ZZ────────────────\n",
       "                              │                                     │                                     │                                     │                                     │\n",
       "(0, 1): ───Rx(d1)───Rz(d8)────ZZ^d14───ZZ───────Rx(d21)───Rz(d28)───ZZ^d34───ZZ───────Rx(d41)───Rz(d48)───ZZ^d54───ZZ───────Rx(d61)───Rz(d68)───ZZ^d74───ZZ───────Rx(d81)───Rz(d88)───ZZ^d94───ZZ───────\n",
       "                                       │                                     │                                     │                                     │                                     │\n",
       "(0, 2): ───Rx(d2)───Rz(d9)────ZZ───────ZZ^d17───Rx(d22)───Rz(d29)───ZZ───────ZZ^d37───Rx(d42)───Rz(d49)───ZZ───────ZZ^d57───Rx(d62)───Rz(d69)───ZZ───────ZZ^d77───Rx(d82)───Rz(d89)───ZZ───────ZZ^d97───\n",
       "                              │                                     │                                     │                                     │                                     │\n",
       "(0, 3): ───Rx(d3)───Rz(d10)───ZZ^d15───ZZ───────Rx(d23)───Rz(d30)───ZZ^d35───ZZ───────Rx(d43)───Rz(d50)───ZZ^d55───ZZ───────Rx(d63)───Rz(d70)───ZZ^d75───ZZ───────Rx(d83)───Rz(d90)───ZZ^d95───ZZ───────\n",
       "                                       │                                     │                                     │                                     │                                     │\n",
       "(0, 4): ───Rx(d4)───Rz(d11)───ZZ───────ZZ^d18───Rx(d24)───Rz(d31)───ZZ───────ZZ^d38───Rx(d44)───Rz(d51)───ZZ───────ZZ^d58───Rx(d64)───Rz(d71)───ZZ───────ZZ^d78───Rx(d84)───Rz(d91)───ZZ───────ZZ^d98───\n",
       "                              │                                     │                                     │                                     │                                     │\n",
       "(0, 5): ───Rx(d5)───Rz(d12)───ZZ^d16───ZZ───────Rx(d25)───Rz(d32)───ZZ^d36───ZZ───────Rx(d45)───Rz(d52)───ZZ^d56───ZZ───────Rx(d65)───Rz(d72)───ZZ^d76───ZZ───────Rx(d85)───Rz(d92)───ZZ^d96───ZZ───────\n",
       "                                       │                                     │                                     │                                     │                                     │\n",
       "(0, 6): ───Rx(d6)───Rz(d13)────────────ZZ^d19───Rx(d26)───Rz(d33)────────────ZZ^d39───Rx(d46)───Rz(d53)────────────ZZ^d59───Rx(d66)───Rz(d73)────────────ZZ^d79───Rx(d86)───Rz(d93)────────────ZZ^d99───"
      ]
     },
     "execution_count": 139,
     "metadata": {},
     "output_type": "execute_result"
    }
   ],
   "source": [
    "print(\"DISCRIMINATOR\")\n",
    "disc"
   ]
  },
  {
   "cell_type": "code",
   "execution_count": 140,
   "metadata": {},
   "outputs": [],
   "source": [
    "np.random.seed(0)\n",
    "eps = 1e-2\n",
    "init_gen_weights = np.array([0] * len(gs)) + \\\n",
    "                   np.random.normal(scale=eps, size=(len(gs),))\n",
    "init_disc_weights = np.random.normal(size=(len(ds),))\n",
    "\n",
    "gen_weights = tf.Variable(init_gen_weights, dtype=tf.float32)\n",
    "disc_weights = tf.Variable(init_disc_weights, dtype=tf.float32)"
   ]
  },
  {
   "cell_type": "code",
   "execution_count": 141,
   "metadata": {},
   "outputs": [],
   "source": [
    "class CustomScheduler(tf.keras.optimizers.schedules.LearningRateSchedule):\n",
    "    def __init__(self, warmup_steps=4000):\n",
    "        super(CustomScheduler, self).__init__()\n",
    "        self.warmup_steps = warmup_steps\n",
    "\n",
    "    def __call__(self, step):\n",
    "        return max(math.e ** - ((step+200) / (self.warmup_steps / math.log(100))), 0.01)"
   ]
  },
  {
   "cell_type": "code",
   "execution_count": 142,
   "metadata": {
    "pycharm": {
     "name": "#%%\n"
    }
   },
   "outputs": [],
   "source": [
    "learning_rate = CustomScheduler()\n",
    "\n",
    "opt = tf.keras.optimizers.Adam(learning_rate, beta_1=0.9, beta_2=0.98, \n",
    "                                     epsilon=1e-9)"
   ]
  },
  {
   "cell_type": "code",
   "execution_count": 143,
   "metadata": {
    "pycharm": {
     "name": "#%%\n"
    }
   },
   "outputs": [],
   "source": [
    "#g_values = [0.1, 0.4, 0.25]\n",
    "g_values = [-0.5]\n",
    "# x_rotations = get_binary_x_rotation_provider({0: '100', 1: '011', 2: '101'})\n",
    "# real_values_provider = get_arcsin_x_rotation_provider(g_values, data_bus_size)\n",
    "real_values_provider = get_g_parameters_provider()"
   ]
  },
  {
   "cell_type": "code",
   "execution_count": 144,
   "metadata": {},
   "outputs": [],
   "source": [
    "epochs = 3\n",
    "disc_iteration = 1\n",
    "gen_iteration = 1"
   ]
  },
  {
   "cell_type": "code",
   "execution_count": 145,
   "metadata": {},
   "outputs": [],
   "source": [
    "if use_neptune:\n",
    "    neptune.init(project_qualified_name='wiktor.jurasz/thesis', api_token=neptun_token)\n",
    "    neptun_params = {\n",
    "        'generator_layers': generator_layers,\n",
    "        'discriminator_layers': discriminator_layers,\n",
    "        'generator_bath_size': generator_bath_size,\n",
    "        'discriminator_bath_size': discriminator_bath_size,\n",
    "        'g_values': g_values,\n",
    "        'size':  data_bus_size,\n",
    "        'real_phase': real_phase,\n",
    "        'generic_generator': generic_generator,\n",
    "        'all_layers_labeling': all_layers_labeling,\n",
    "        'full_layer_labeling': full_layer_labeling,\n",
    "        'use_gen_label_qubit': use_gen_label_qubit,\n",
    "        'use_disc_label_qubit': use_disc_label_qubit,\n",
    "        'zxz': zxz,\n",
    "        'fixed_gates': fixed_gates,\n",
    "        'disc_iteration': disc_iteration,\n",
    "        'gen_iteration': gen_iteration,\n",
    "        'epochs': epochs\n",
    "    }\n",
    "    neptune.create_experiment(name=None, description=None, params=neptun_params)\n",
    "    neptune.log_artifact(io.StringIO(str(disc)), \"disc.txt\")\n",
    "    neptune.log_artifact(io.StringIO(str(pure_gen)), \"gen.txt\")\n",
    "    neptune.log_artifact(io.StringIO(str(list(init_gen_weights))), 'init_gen_weights.txt')\n",
    "    neptune.log_artifact(io.StringIO(str(list(init_disc_weights))), 'init_disc_weights.txt')"
   ]
  },
  {
   "cell_type": "code",
   "execution_count": 146,
   "metadata": {},
   "outputs": [],
   "source": [
    "trainer = Trainer(g_values, \n",
    "                  data_bus_size, \n",
    "                  disc, \n",
    "                  gen, \n",
    "                  pure_gen,\n",
    "                  real, \n",
    "                  pure_real,\n",
    "                  out_qubit, \n",
    "                  ds, \n",
    "                  gs, \n",
    "                  real_symbols, \n",
    "                  ls,\n",
    "                  real_values_provider = real_values_provider,\n",
    "                  use_analytical_expectation=True,\n",
    "                  use_neptune=use_neptune)"
   ]
  },
  {
   "cell_type": "code",
   "execution_count": null,
   "metadata": {
    "scrolled": true
   },
   "outputs": [],
   "source": [
    "snapshot_interval_epochs = 5\n",
    "results, json_result = trainer.train(disc_weights,\n",
    "      gen_weights, \n",
    "      opt, \n",
    "      epochs=epochs, \n",
    "      disc_iteration=disc_iteration, \n",
    "      gen_iteration=gen_iteration,\n",
    "      snapshot_interval_epochs=snapshot_interval_epochs,\n",
    "      early_stop_fidelity_threshold=None)\n",
    "res_dict = trainer.get_params_and_results()"
   ]
  },
  {
   "cell_type": "code",
   "execution_count": 147,
   "metadata": {},
   "outputs": [
    {
     "ename": "NameError",
     "evalue": "name 'res_dict' is not defined",
     "output_type": "error",
     "traceback": [
      "\u001b[0;31m---------------------------------------------------------------------------\u001b[0m",
      "\u001b[0;31mNameError\u001b[0m                                 Traceback (most recent call last)",
      "\u001b[0;32m<ipython-input-147-f3c734f78d01>\u001b[0m in \u001b[0;36m<module>\u001b[0;34m\u001b[0m\n\u001b[0;32m----> 1\u001b[0;31m \u001b[0mtrained_gen_pairs\u001b[0m \u001b[0;34m=\u001b[0m \u001b[0mres_dict\u001b[0m\u001b[0;34m[\u001b[0m\u001b[0;34m'weights'\u001b[0m\u001b[0;34m]\u001b[0m\u001b[0;34m[\u001b[0m\u001b[0;34m-\u001b[0m\u001b[0;36m1\u001b[0m\u001b[0;34m]\u001b[0m\u001b[0;34m[\u001b[0m\u001b[0;34m'gen_pairs'\u001b[0m\u001b[0;34m]\u001b[0m\u001b[0;34m\u001b[0m\u001b[0;34m\u001b[0m\u001b[0m\n\u001b[0m\u001b[1;32m      2\u001b[0m \u001b[0mtrained_disc_pairs\u001b[0m \u001b[0;34m=\u001b[0m \u001b[0mres_dict\u001b[0m\u001b[0;34m[\u001b[0m\u001b[0;34m'weights'\u001b[0m\u001b[0;34m]\u001b[0m\u001b[0;34m[\u001b[0m\u001b[0;34m-\u001b[0m\u001b[0;36m1\u001b[0m\u001b[0;34m]\u001b[0m\u001b[0;34m[\u001b[0m\u001b[0;34m'disc_pairs'\u001b[0m\u001b[0;34m]\u001b[0m\u001b[0;34m\u001b[0m\u001b[0;34m\u001b[0m\u001b[0m\n",
      "\u001b[0;31mNameError\u001b[0m: name 'res_dict' is not defined"
     ]
    }
   ],
   "source": [
    "trained_gen_pairs = res_dict['weights'][-1]['gen_pairs']\n",
    "trained_disc_pairs = res_dict['weights'][-1]['disc_pairs']"
   ]
  },
  {
   "cell_type": "code",
   "execution_count": 149,
   "metadata": {},
   "outputs": [],
   "source": [
    "gen_evaluator = CircuitEvaluator(pure_gen, ls, trainer.label_value_provider, trained_gen_pairs, gs)\n",
    "disc_evaluator = CircuitEvaluator(disc, ls, trainer.label_value_provider, trained_disc_pairs, ds)\n",
    "real_evaluator = CircuitEvaluator(pure_real, real_symbols, trainer.real_values_provider)"
   ]
  },
  {
   "cell_type": "code",
   "execution_count": null,
   "metadata": {},
   "outputs": [],
   "source": [
    "gen_evaluator.circuit.qid_shape()"
   ]
  },
  {
   "cell_type": "code",
   "execution_count": null,
   "metadata": {},
   "outputs": [],
   "source": [
    "if use_neptune:\n",
    "    neptune.log_artifact(io.StringIO(disc_evaluator.get_resolved_circuit().to_qasm()), 'desc_qasm.txt')\n",
    "    neptune.log_artifact(io.StringIO(gen_evaluator.get_resolved_circuit().to_qasm()), 'gen_qasm.txt')\n",
    "    neptune.log_artifact(io.StringIO(json_result), 'weights.json')"
   ]
  },
  {
   "cell_type": "code",
   "execution_count": null,
   "metadata": {},
   "outputs": [],
   "source": [
    "def get_gen_for_g(g, gen_weights, gen_provider):\n",
    "    rad = gen_provider(g)\n",
    "    return np.append(gen_weights, rad)\n",
    "\n",
    "def get_states_and_fidelty_for_real(gen_evaluator, \n",
    "                                    real_evaluator, \n",
    "                                    gen_pairs, \n",
    "                                    g, \n",
    "                                    size):\n",
    "    generated = gen_evaluator.get_state_from_params(trace_dims=list(range(size)))\n",
    "    real = real_evaluator.get_state_from_params(g)\n",
    "    return generated, real, cirq.fidelity(generated, real), cirq.fidelity(abs(generated), abs(real))\n",
    "\n",
    "def get_states_and_fidelty_for_ground(gen_evaluator, g, gen_weights, size):\n",
    "\n",
    "    generated = gen_evaluator.get_state_from_params(trace_dims=list(range(size)))\n",
    "    ground = get_ground_state_for_g(g, size)\n",
    "    return generated, ground, cirq.fidelity(generated, ground)\n",
    "\n",
    "def compare_generated_for_g(gen_evaluator, g1, g2, gen_weights, size):\n",
    "    generated1 = gen_evaluator.get_state_from_params(trace_dims=list(range(size)))\n",
    "    generated2 = gen_evaluator.get_state_from_params(trace_dims=list(range(size)))\n",
    "    return generated1, generated2, cirq.fidelity(generated1, generated2)"
   ]
  },
  {
   "cell_type": "code",
   "execution_count": null,
   "metadata": {},
   "outputs": [],
   "source": [
    "def angle_dist(g, phase_angles_provider, weights):\n",
    "    angles = phase_angles_provider(g)\n",
    "    z1_rad = 3 * math.pi / 2\n",
    "    z2_rad = -3 * math.pi / 2\n",
    "    z1_deg = math.degrees(z1_rad)\n",
    "    z2_deg = math.degrees(z2_rad)\n",
    "    \n",
    "    xr_rad = angles[0]\n",
    "    xv_rad = angles[1]\n",
    "    xw_rad = angles[2]\n",
    "    xr_deg = math.degrees(xr_rad)\n",
    "    xv_deg = math.degrees(xv_rad)\n",
    "    xw_deg = math.degrees(xw_rad)\n",
    "    \n",
    "    \n",
    "    norm_w_deg = [math.degrees(w) for w in weights]\n",
    "    deg_diff = [norm_w_deg[0], z1_deg, norm_w_deg[0] - z1_deg, weights[0], z1_rad]\n",
    "    \n",
    "    print(z1_deg,z2_deg,xr_deg,xv_deg,xw_deg)\n",
    "    return deg_diff"
   ]
  },
  {
   "cell_type": "code",
   "execution_count": null,
   "metadata": {},
   "outputs": [],
   "source": [
    "g = g_values[0]\n",
    "generated_state, real_state, fidelity = get_states_and_fidelty_for_real(gen_evaluator, real_evaluator, trained_gen_pairs, g, data_bus_size)"
   ]
  },
  {
   "cell_type": "code",
   "execution_count": null,
   "metadata": {},
   "outputs": [],
   "source": [
    "generated_state, real_state, fidelity"
   ]
  },
  {
   "cell_type": "code",
   "execution_count": null,
   "metadata": {},
   "outputs": [],
   "source": [
    "if use_neptune:\n",
    "    neptune.log_artifact(io.StringIO(str({\"generated_state\": generated_state.tolist(), \"real_state\": real_state.tolist()})), f\"states_g={g}.txt\")"
   ]
  },
  {
   "cell_type": "code",
   "execution_count": null,
   "metadata": {},
   "outputs": [],
   "source": [
    "if use_neptune:\n",
    "    neptune.stop()"
   ]
  },
  {
   "cell_type": "code",
   "execution_count": null,
   "metadata": {},
   "outputs": [],
   "source": [
    "get_g_parameters_provider()(g)"
   ]
  },
  {
   "cell_type": "code",
   "execution_count": null,
   "metadata": {},
   "outputs": [],
   "source": [
    "real025 = real_evaluator.get_state_from_params(0.25)"
   ]
  },
  {
   "cell_type": "code",
   "execution_count": null,
   "metadata": {},
   "outputs": [],
   "source": [
    "real04 = real_evaluator.get_state_from_params(0.4)\n",
    "real01 = real_evaluator.get_state_from_params(0.1)"
   ]
  },
  {
   "cell_type": "code",
   "execution_count": null,
   "metadata": {},
   "outputs": [],
   "source": [
    "cirq.fidelity(real025, -real025)"
   ]
  },
  {
   "cell_type": "code",
   "execution_count": null,
   "metadata": {},
   "outputs": [],
   "source": [
    "compare_generated_for_g(gen_evaluator, -0.9, -0.8, trained_gen_weights, data_bus_size)"
   ]
  },
  {
   "cell_type": "code",
   "execution_count": null,
   "metadata": {},
   "outputs": [],
   "source": [
    "g = 0\n",
    "get_states_and_fidelty_for_ground(gen_evaluator, g, trained_gen_weights, data_bus_size)"
   ]
  }
 ],
 "metadata": {
  "kernelspec": {
   "display_name": "Python 3",
   "language": "python",
   "name": "python3"
  },
  "language_info": {
   "codemirror_mode": {
    "name": "ipython",
    "version": 3
   },
   "file_extension": ".py",
   "mimetype": "text/x-python",
   "name": "python",
   "nbconvert_exporter": "python",
   "pygments_lexer": "ipython3",
   "version": "3.8.7"
  }
 },
 "nbformat": 4,
 "nbformat_minor": 1
}
