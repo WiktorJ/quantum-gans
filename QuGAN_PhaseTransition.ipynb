{
 "cells": [
  {
   "cell_type": "code",
   "execution_count": null,
   "metadata": {},
   "outputs": [],
   "source": [
    "# For colab\n",
    "!pip uninstall tensorflow -y\n",
    "!pip install tensorflow==2.3.1 tensorflow-quantum\n",
    "!rm -rf quantum-gans\n",
    "!git clone https://github.com/WiktorJ/quantum-gans\n",
    "!cd quantum-gans; pip install ."
   ]
  },
  {
   "cell_type": "code",
   "execution_count": 1,
   "metadata": {},
   "outputs": [],
   "source": [
    "from typing import Any\n",
    "\n",
    "import sympy\n",
    "import math\n",
    "import tensorflow as tf\n",
    "import tensorflow_quantum as tfq\n",
    "\n",
    "import cirq\n",
    "import numpy as np\n",
    "from cirq import GridQubit, ops\n",
    "from qugans import circuits\n",
    "from qugans.phase_transition import construct_hamiltonian, build_ground_state_circuit, \\\n",
    "    get_theta_v, get_theta_w, get_theta_r"
   ]
  },
  {
   "cell_type": "code",
   "execution_count": 2,
   "metadata": {},
   "outputs": [],
   "source": [
    "generator_layers = 2\n",
    "discriminator_layers = 2\n",
    "data_bus_size = 3"
   ]
  },
  {
   "cell_type": "code",
   "execution_count": 21,
   "metadata": {},
   "outputs": [],
   "source": [
    "gen, gs, disc, ds, ls, data_qubits, out_qubit = circuits.build_gan_circuits(generator_layers, discriminator_layers, data_bus_size)"
   ]
  },
  {
   "cell_type": "code",
   "execution_count": 22,
   "metadata": {},
   "outputs": [],
   "source": [
    "real, real_symbols = build_ground_state_circuit(qubits=data_qubits)"
   ]
  },
  {
   "cell_type": "code",
   "execution_count": 23,
   "metadata": {},
   "outputs": [],
   "source": [
    "pure_gen = gen.copy()\n",
    "gen.append([disc])"
   ]
  },
  {
   "cell_type": "code",
   "execution_count": 24,
   "metadata": {},
   "outputs": [],
   "source": [
    "pure_real = real.copy()\n",
    "real.append([disc])"
   ]
  },
  {
   "cell_type": "code",
   "execution_count": 25,
   "metadata": {},
   "outputs": [
    {
     "name": "stdout",
     "output_type": "stream",
     "text": [
      "REAL GROUND STATE:  (0, 0): ───H───@────────────────────────────────────────────────────────────────────────────────────────────────────────────────────────────────────────────────────────────────────────────────────────────────────────\n",
      "               │\n",
      "(0, 1): ───────┼────────────────────────────────────────────────────────────────────────────────────────────────────────────────────────────────────────────Ry(theta1)───X───Ry(theta1)───Ry(theta0)───X───Ry(theta0)───\n",
      "               │                                                                                                                                                         │                             │\n",
      "(0, 2): ───────X───Z───Ry(theta2)───X────────────@───X─────────────────────────@───X─────────────────────────────────────────────────────────────────────────────────────┼─────────────────────────────┼────────────────\n",
      "                                                 │                             │                                                                                         │                             │\n",
      "(0, 3): ────────────────────────────Ry(theta1)───X───Ry(theta1)───Ry(theta0)───X───Ry(theta0)───X────────────@───X─────────────────────────@───X─────────────────────────┼─────────────────────────────┼────────────────\n",
      "                                                                                                             │                             │                             │                             │\n",
      "(0, 4): ────────────────────────────────────────────────────────────────────────────────────────Ry(theta1)───X───Ry(theta1)───Ry(theta0)───X───Ry(theta0)───X────────────@───X─────────────────────────@───X────────────\n"
     ]
    }
   ],
   "source": [
    "print(\"REAL GROUND STATE: \", pure_real)"
   ]
  },
  {
   "cell_type": "code",
   "execution_count": 26,
   "metadata": {},
   "outputs": [
    {
     "name": "stdout",
     "output_type": "stream",
     "text": [
      "GENERATOR: (0, 2): ───Rx(g0)───Rz(g4)───ZZ────────────────────────Rx(g11)───Rz(g15)───ZZ──────────────────────────\n",
      "                             │                                             │\n",
      "(0, 3): ───Rx(g1)───Rz(g5)───ZZ^g8────────────ZZ───────Rx(g12)───Rz(g16)───ZZ^g19─────────────ZZ───────\n",
      "                                              │                                               │\n",
      "(0, 4): ───Rx(g2)───Rz(g6)────────────ZZ──────ZZ^g10───Rx(g13)───Rz(g17)─────────────ZZ───────ZZ^g21───\n",
      "                                      │                                              │\n",
      "(0, 5): ───Rz(l)────Rx(g3)───Rz(g7)───ZZ^g9────────────Rz(l)─────Rx(g14)───Rz(g18)───ZZ^g20────────────\n"
     ]
    }
   ],
   "source": [
    "print(\"GENERATOR:\", pure_gen)"
   ]
  },
  {
   "cell_type": "code",
   "execution_count": 27,
   "metadata": {},
   "outputs": [
    {
     "name": "stdout",
     "output_type": "stream",
     "text": [
      "DISCRIMINATOR: (0, 0): ───Rx(d0)───Rz(d5)────────────ZZ────────────────Rx(d14)───Rz(d19)─────────────ZZ────────────────\n",
      "                                      │                                               │\n",
      "(0, 1): ───Rz(l)────Rx(d1)───Rz(d6)───ZZ^d10───ZZ───────Rz(l)─────Rx(d15)───Rz(d20)───ZZ^d24───ZZ───────\n",
      "                                               │                                               │\n",
      "(0, 2): ───Rx(d2)───Rz(d7)───ZZ────────────────ZZ^d12───Rx(d16)───Rz(d21)───ZZ─────────────────ZZ^d26───\n",
      "                             │                                              │\n",
      "(0, 3): ───Rx(d3)───Rz(d8)───ZZ^d11───ZZ────────────────Rx(d17)───Rz(d22)───ZZ^d25────ZZ────────────────\n",
      "                                      │                                               │\n",
      "(0, 4): ───Rx(d4)───Rz(d9)────────────ZZ^d13────────────Rx(d18)───Rz(d23)─────────────ZZ^d27────────────\n"
     ]
    }
   ],
   "source": [
    "print(\"DISCRIMINATOR:\", disc)"
   ]
  },
  {
   "cell_type": "code",
   "execution_count": 28,
   "metadata": {},
   "outputs": [],
   "source": [
    "np.random.seed(0)\n",
    "eps = 1e-2\n",
    "init_gen_weights = np.array([np.pi] + [0] * 21) + \\\n",
    "                   np.random.normal(scale=eps, size=(22,))\n",
    "init_disc_weights = np.random.normal(size=(28,))\n",
    "\n",
    "gen_weights = tf.Variable(init_gen_weights, dtype=tf.float32)\n",
    "disc_weights = tf.Variable(init_disc_weights, dtype=tf.float32)"
   ]
  },
  {
   "cell_type": "code",
   "execution_count": 29,
   "metadata": {
    "pycharm": {
     "name": "#%%\n"
    }
   },
   "outputs": [],
   "source": [
    "class CustomSchedule(tf.keras.optimizers.schedules.LearningRateSchedule):\n",
    "    def __init__(self, warmup_steps=4000):\n",
    "        super(CustomSchedule, self).__init__()\n",
    "        self.warmup_steps = warmup_steps\n",
    "    \n",
    "    def __call__(self, step):\n",
    "        return max(10 * math.e ** - (step / (self.warmup_steps / math.log(100))), 0.1)"
   ]
  },
  {
   "cell_type": "code",
   "execution_count": 30,
   "metadata": {
    "pycharm": {
     "name": "#%%\n"
    }
   },
   "outputs": [],
   "source": [
    "learning_rate = CustomSchedule()\n",
    "\n",
    "opt = tf.keras.optimizers.Adam(learning_rate, beta_1=0.9, beta_2=0.98, \n",
    "                                     epsilon=1e-9)"
   ]
  },
  {
   "cell_type": "code",
   "execution_count": 31,
   "metadata": {
    "pycharm": {
     "name": "#%%\n"
    }
   },
   "outputs": [],
   "source": [
    "global_g = 0"
   ]
  },
  {
   "cell_type": "code",
   "execution_count": 32,
   "metadata": {
    "pycharm": {
     "name": "#%%\n"
    }
   },
   "outputs": [],
   "source": [
    "def map_to_radians(val, low=-1, high=1):\n",
    "    span = high - low\n",
    "    norm_val = float(val - low) / float(span)\n",
    "    return norm_val * math.pi"
   ]
  },
  {
   "cell_type": "code",
   "execution_count": 33,
   "metadata": {},
   "outputs": [],
   "source": [
    "class PhaseTransitionFinalStateSimulator(cirq.Simulator):\n",
    "    def simulate(self, program: 'cirq.Circuit', param_resolver: 'study.ParamResolverOrSimilarType' = None,\n",
    "                 qubit_order: ops.QubitOrderOrList = ops.QubitOrder.DEFAULT,\n",
    "                 initial_state: Any = None) -> 'SimulationTrialResult':\n",
    "        g = global_g\n",
    "        gzz = 2 * (1 - g ** 2)\n",
    "        gx = (1 + g) ** 2\n",
    "        gzxz = (g - 1) ** 2\n",
    "\n",
    "        H = construct_hamiltonian(data_bus_size, gzz, gx, gzxz)\n",
    "\n",
    "        lam, V = np.linalg.eigh(H)\n",
    "\n",
    "        # ground state wavefunction\n",
    "        psi = V[:, 0] / np.linalg.norm(V[:, 0])\n",
    "        psi = np.kron([1, 0], np.kron([1, 0], psi))\n",
    "        return super().simulate(program, param_resolver, qubit_order, psi)\n",
    "\n",
    "\n",
    "class PhaseTransitionFinalStateSimulatorGen(cirq.Simulator):\n",
    "    def simulate(self, program: 'cirq.Circuit', param_resolver: 'study.ParamResolverOrSimilarType' = None,\n",
    "                 qubit_order: ops.QubitOrderOrList = ops.QubitOrder.DEFAULT,\n",
    "                 initial_state: Any = None) -> 'SimulationTrialResult':\n",
    "        g = global_g\n",
    "        label = [1, 0] if g > 0 else [0, 1]\n",
    "        initial_state = [1, 0]\n",
    "        for _ in range(l - 1):\n",
    "            initial_state = np.kron([1, 0], initial_state)\n",
    "        initial_state = np.kron([1, 0], np.kron(label, np.kron(initial_state, label)))\n",
    "        return super().simulate(program, param_resolver, qubit_order, initial_state)\n",
    "\n",
    "\n",
    "\n"
   ]
  },
  {
   "cell_type": "code",
   "execution_count": 34,
   "metadata": {},
   "outputs": [],
   "source": [
    "def real_disc_circuit_eval_mocked(disc_weights):\n",
    "    # cirq.Simulator().simulate(real)\n",
    "    full_weights = tf.keras.layers.Concatenate(axis=0)([\n",
    "        disc_weights,\n",
    "        np.array([map_to_radians(global_g)], dtype=np.float32)\n",
    "    ])\n",
    "\n",
    "    return tfq.layers.Expectation(backend=PhaseTransitionFinalStateSimulator())([disc],\n",
    "                                                                                symbol_names=ds + (ls,),\n",
    "                                                                                symbol_values=tf.reshape(full_weights, (\n",
    "                                                                                    1, full_weights.shape[0])),\n",
    "                                                                                operators=[cirq.Z(out_qubit)])\n",
    "\n",
    "\n",
    "def real_disc_circuit_eval(disc_weights):\n",
    "    # cirq.Simulator().simulate(real)\n",
    "    full_weights = tf.keras.layers.Concatenate(axis=0)([\n",
    "        np.array([get_theta_v(global_g), get_theta_w(global_g), get_theta_r(global_g)], dtype=np.float32),\n",
    "        disc_weights,\n",
    "        np.array([map_to_radians(global_g)], dtype=np.float32)\n",
    "    ])\n",
    "\n",
    "    return tfq.layers.Expectation()([real],\n",
    "                                    symbol_names=real_symbols + ds + (ls,),\n",
    "                                    symbol_values=tf.reshape(full_weights, (\n",
    "                                        1, full_weights.shape[0])),\n",
    "                                    operators=[cirq.Z(out_qubit)])\n",
    "\n",
    "\n",
    "def gen_disc_circuit_eval(gen_weights, disc_weights):\n",
    "    full_weights = tf.keras.layers.Concatenate(axis=0)([\n",
    "        disc_weights,\n",
    "        gen_weights,\n",
    "        np.array([map_to_radians(global_g)], dtype=np.float32)\n",
    "    ])\n",
    "    full_weights = tf.reshape(full_weights, (1, full_weights.shape[0]))\n",
    "    return tfq.layers.Expectation()([gen],\n",
    "                                    symbol_names=ds + gs + (ls,),\n",
    "                                    symbol_values=full_weights,\n",
    "                                    operators=[cirq.Z(out_qubit)])\n",
    "\n",
    "\n",
    "def prob_real_true(disc_weights):\n",
    "    true_disc_output = real_disc_circuit_eval(disc_weights)\n",
    "    # convert to probability\n",
    "    prob_real_true = (true_disc_output + 1) / 2\n",
    "    return prob_real_true\n",
    "\n",
    "\n",
    "def prob_fake_true(gen_weights, disc_weights):\n",
    "    fake_disc_output = gen_disc_circuit_eval(gen_weights, disc_weights)\n",
    "    # convert to probability\n",
    "    prob_fake_true = (fake_disc_output + 1) / 2\n",
    "    return prob_fake_true\n",
    "\n",
    "\n",
    "def disc_cost(disc_weights):\n",
    "    cost = prob_fake_true(gen_weights, disc_weights) - prob_real_true(disc_weights)\n",
    "    return cost\n",
    "\n",
    "\n",
    "def gen_cost(gen_weights):\n",
    "    return -prob_fake_true(gen_weights, disc_weights)\n"
   ]
  },
  {
   "cell_type": "code",
   "execution_count": 35,
   "metadata": {},
   "outputs": [],
   "source": [
    "def train():\n",
    "    cost = lambda: disc_cost(disc_weights)\n",
    "    cost_gen = lambda: gen_cost(gen_weights)\n",
    "    for epoch in range(20):\n",
    "        for step in range(20):\n",
    "            opt.minimize(cost, disc_weights)\n",
    "            # if step % 5 == 0:\n",
    "        cost_val = cost().numpy()\n",
    "        print(\"Epoch {}: cost = {}\".format(epoch, cost_val))\n",
    "\n",
    "        ##############################################################################\n",
    "        # At the discriminator’s optimum, the probability for the discriminator to\n",
    "        # correctly classify the real data should be close to one.\n",
    "\n",
    "        print(\"Prob(real classified as real): \", prob_real_true(disc_weights).numpy())\n",
    "\n",
    "        ##############################################################################\n",
    "        # For comparison, we check how the discriminator classifies the\n",
    "        # generator’s (still unoptimized) fake data:\n",
    "\n",
    "        print(\"Prob(fake classified as real): \", prob_fake_true(gen_weights, disc_weights).numpy())\n",
    "\n",
    "        ##############################################################################\n",
    "        # In the adversarial game we now have to train the generator to better\n",
    "        # fool the discriminator. For this demo, we only perform one stage of the\n",
    "        # game. For more complex models, we would continue training the models in an\n",
    "        # alternating fashion until we reach the optimum point of the two-player\n",
    "        # adversarial game.\n",
    "\n",
    "        for step in range(20):\n",
    "            opt.minimize(cost_gen, gen_weights)\n",
    "            # if step % 5 == 0:\n",
    "        cost_val = cost_gen().numpy()\n",
    "        print(\"Epoch {}: cost = {}\".format(epoch, cost_val))\n",
    "\n",
    "        ##############################################################################\n",
    "        # At the optimum of the generator, the probability for the discriminator\n",
    "        # to be fooled should be close to 1.\n",
    "\n",
    "        print(\"Prob(fake classified as real): \", prob_fake_true(gen_weights, disc_weights).numpy())\n",
    "\n",
    "        ##############################################################################\n",
    "        # At the joint optimum the discriminator cost will be close to zero,\n",
    "        # indicating that the discriminator assigns equal probability to both real and\n",
    "        # generated data.\n",
    "\n",
    "        print(\"Discriminator cost: \", disc_cost(disc_weights).numpy())\n",
    "        print(\"Generator weights:\", gen_weights)\n",
    "        print(\"Discriminator weights\", disc_weights)\n",
    "\n"
   ]
  },
  {
   "cell_type": "code",
   "execution_count": 36,
   "metadata": {},
   "outputs": [],
   "source": [
    "def get_ground_state_for_g(g):\n",
    "    gzz = 2 * (1 - g ** 2)\n",
    "    gx = (1 + g) ** 2\n",
    "    gzxz = (g - 1) ** 2\n",
    "\n",
    "    H = construct_hamiltonian(data_bus_size, gzz, gx, gzxz)\n",
    "\n",
    "    lam, V = np.linalg.eigh(H)\n",
    "    # ground state wavefunction\n",
    "    return V[:, 0] / np.linalg.norm(V[:, 0])"
   ]
  },
  {
   "cell_type": "code",
   "execution_count": 37,
   "metadata": {
    "pycharm": {
     "name": "#%%\n"
    }
   },
   "outputs": [],
   "source": [
    "class PhaseTransitionFinalStateSimulatorPureGen(cirq.Simulator):\n",
    "    def simulate(self, program: 'cirq.Circuit', param_resolver: 'study.ParamResolverOrSimilarType' = None,\n",
    "                 qubit_order: ops.QubitOrderOrList = ops.QubitOrder.DEFAULT,\n",
    "                 initial_state: Any = None) -> 'SimulationTrialResult':\n",
    "        label = [1, 0]\n",
    "        initial_state = [1, 0]\n",
    "        for _ in range(l - 1):\n",
    "            initial_state = np.kron([1, 0], initial_state)\n",
    "        initial_state = np.kron(initial_state, label)\n",
    "        return super().simulate(program, param_resolver, qubit_order, initial_state)"
   ]
  },
  {
   "cell_type": "code",
   "execution_count": null,
   "metadata": {},
   "outputs": [],
   "source": [
    "train()"
   ]
  },
  {
   "cell_type": "code",
   "execution_count": 19,
   "metadata": {
    "pycharm": {
     "name": "#%%\n"
    }
   },
   "outputs": [
    {
     "name": "stderr",
     "output_type": "stream",
     "text": [
      "<ipython-input-19-6c30ee798a71>:22: DeprecationWarning: wavefunction_partial_trace_as_mixture was used but is deprecated.\n",
      "It will be removed in cirq v0.10.0.\n",
      "Use `cirq.partial_trace_of_state_vector_as_mixture` instead.\n",
      "\n",
      "  traced_out_state = cirq.wavefunction_partial_trace_as_mixture(state_vector, [0,1,2])\n"
     ]
    }
   ],
   "source": [
    "g = 0\n",
    "ground_state = get_ground_state_for_g(g)\n",
    "rad = map_to_radians(g)\n",
    "\n",
    "trained_disc_weights = tf.Variable(np.array([-245.17047   ,  -95.07969   , -342.84647   , -422.7227    ,\n",
    "       -183.86722   , -279.45145   , -208.48354   , -126.94892   ,\n",
    "         99.149605  , -276.1524    ,  -82.480415  , -197.35036   ,\n",
    "       -115.24699   , -111.50772   , -238.86653   , -150.12883   ,\n",
    "       -271.65726   , -414.5756    , -183.14653   ,   97.29306   ,\n",
    "       -120.5858    ,   -4.429718  ,  127.67174   ,  118.280525  ,\n",
    "        305.74625   ,   -0.44963428,   17.841654  ,   93.42311   ]), dtype=tf.float32)\n",
    "\n",
    "trained_gen_weights = tf.Variable(np.array([-44.918114 , -33.19301  , -65.66357  ,   7.7173038, -21.041788 ,\n",
    "       -65.616486 , -47.297474 ,  62.851395 , -18.168066 , -21.922869 ,\n",
    "        52.146767 , -70.66162  , -11.20047  ,  13.477829 , -24.01582  ,\n",
    "        82.88633  , -82.02305  , -73.62559  ,  11.767767 ,  -3.0552819,\n",
    "       -37.224037 ,  -1.1020341, rad]), dtype=tf.float32)\n",
    "\n",
    "\n",
    "state_vector = tfq.layers.State()(pure_gen, symbol_names=gs + (ls,), symbol_values=tf.reshape(trained_gen_weights, (1, trained_gen_weights.shape[0]))).values.numpy()#%%\n",
    "\n",
    "traced_out_state = cirq.wavefunction_partial_trace_as_mixture(state_vector, [0,1,2])"
   ]
  },
  {
   "cell_type": "code",
   "execution_count": 20,
   "metadata": {
    "pycharm": {
     "name": "#%%\n"
    }
   },
   "outputs": [
    {
     "name": "stdout",
     "output_type": "stream",
     "text": [
      "Max prob state has prob: 0.9586108922958374\n"
     ]
    }
   ],
   "source": [
    "prob, highest_prob_state = max(traced_out_state)\n",
    "print(f\"Max prob state has prob: {prob}\")"
   ]
  },
  {
   "cell_type": "code",
   "execution_count": 21,
   "metadata": {
    "pycharm": {
     "name": "#%%\n"
    }
   },
   "outputs": [
    {
     "data": {
      "text/plain": [
       "1.5001486857260862"
      ]
     },
     "execution_count": 21,
     "metadata": {},
     "output_type": "execute_result"
    }
   ],
   "source": [
    "np.arccos(cirq.fidelity(highest_prob_state, get_ground_state_for_g(1)))"
   ]
  },
  {
   "cell_type": "code",
   "execution_count": null,
   "metadata": {},
   "outputs": [],
   "source": [
    "cirq.fidelity(highest_prob_state, get_ground_state_for_g(1))"
   ]
  }
 ],
 "metadata": {
  "kernelspec": {
   "display_name": "Python 3",
   "language": "python",
   "name": "python3"
  },
  "language_info": {
   "codemirror_mode": {
    "name": "ipython",
    "version": 3
   },
   "file_extension": ".py",
   "mimetype": "text/x-python",
   "name": "python",
   "nbconvert_exporter": "python",
   "pygments_lexer": "ipython3",
   "version": "3.8.6"
  }
 },
 "nbformat": 4,
 "nbformat_minor": 1
}
