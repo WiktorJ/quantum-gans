{
 "cells": [
  {
   "cell_type": "code",
   "execution_count": null,
   "id": "skilled-armstrong",
   "metadata": {},
   "outputs": [],
   "source": [
    "if 'google.colab' in str(get_ipython()):\n",
    "    !pip uninstall tensorflow -y\n",
    "    !pip install tensorflow==2.3.1 tensorflow-quantum neptune-client\n",
    "    !rm -rf quantum-gans\n",
    "    !git clone https://github.com/WiktorJ/quantum-gans\n",
    "    !cd quantum-gans; pip install .\n",
    "    neptune_token = \"\" # put manually for the time being\n",
    "else:\n",
    "    import subprocess\n",
    "    def get_var(varname):\n",
    "        CMD = 'echo $(source ~/.bash_profile; echo $%s)' % varname\n",
    "        p = subprocess.Popen(CMD, stdout=subprocess.PIPE, shell=True, executable='/bin/bash')\n",
    "        return p.stdout.readlines()[0].strip()\n",
    "    neptune_token = get_var('NEPTUNE_API_TOKEN').decode(\"utf-8\") "
   ]
  },
  {
   "cell_type": "code",
   "execution_count": null,
   "id": "atomic-weekly",
   "metadata": {},
   "outputs": [],
   "source": [
    "%load_ext autoreload\n",
    "%autoreload 2"
   ]
  },
  {
   "cell_type": "code",
   "execution_count": 442,
   "id": "agreed-london",
   "metadata": {},
   "outputs": [],
   "source": [
    "import neptune\n",
    "import tensorflow as tf\n",
    "import random\n",
    "\n",
    "import io\n",
    "import cirq\n",
    "import numpy as np\n",
    "import statistics as st\n",
    "from matplotlib import pyplot as plt\n",
    "from collections import defaultdict\n",
    "from qsgenerator import circuits\n",
    "from qsgenerator.quwgans import circuits as quwgans_circuits\n",
    "from qsgenerator.quwgans.circuits import get_discriminator\n",
    "from qsgenerator.quwgans.training import Trainer\n",
    "from qsgenerator.phase.circuits import PhaseCircuitBuilder\n",
    "from qsgenerator.states.butterfly_circuits import ButterflyCircuitBuilder\n",
    "from qsgenerator.quwgans.real_expectations_provider import PrecomputedExpectationsProvider, \\\n",
    "    Interpolation1DExpectationsProvider, WassersteinGanExpectationProvider, ExpectationProviderType\n",
    "from qsgenerator.states.simple_rotation_generators import get_fixed_random_rotation_provider\n",
    "from qsgenerator.evaluators.circuit_evaluator import CircuitEvaluator\n",
    "from qsgenerator.phase.analitical import get_theta_v, get_theta_w, get_theta_r, get_g_parameters_provider\n"
   ]
  },
  {
   "cell_type": "code",
   "execution_count": 472,
   "id": "progressive-edgar",
   "metadata": {},
   "outputs": [],
   "source": [
    "def get_expectation_provider(real, \n",
    "                             real_symbols, \n",
    "                             known_g_values, \n",
    "                             real_values_provider,\n",
    "                             expectation_provider_type,\n",
    "                             gen_input_dim=None,\n",
    "                             hidden_dim=None,\n",
    "                             penalty_factor=None,\n",
    "                             gan_epochs=None,\n",
    "                             batch_size=None,\n",
    "                             n_crit=None,\n",
    "                             alpha=None,\n",
    "                             beta_1=None,\n",
    "                             beta_2=None):\n",
    "    precomputed_expectation_provider = PrecomputedExpectationsProvider(real,\n",
    "                                                                       real_symbols,\n",
    "                                                                       known_g_values,\n",
    "                                                                       real_values_provider,\n",
    "                                                                       get_discriminator(real))\n",
    "    if expectation_provider_type == ExpectationProviderType.ONLY_KNOWN:\n",
    "        return precomputed_expectation_provider\n",
    "    elif expectation_provider_type == ExpectationProviderType.INTERPOLATION1D:\n",
    "        return Interpolation1DExpectationsProvider(precomputed_expectation_provider)\n",
    "    elif expectation_provider_type == ExpectationProviderType.WGAN:\n",
    "        return WassersteinGanExpectationProvider(precomputed_expectations_provider=precomputed_expectation_provider, \n",
    "                                                 gen_input_dim=gen_input_dim, \n",
    "                                                 hidden_dim=hidden_dim, \n",
    "                                                 penalty_factor=penalty_factor, \n",
    "                                                 epochs=gan_epochs, \n",
    "                                                 batch_size=batch_size, \n",
    "                                                 n_crit=n_crit,\n",
    "                                                 use_neptune=use_neptune,\n",
    "                                                 alpha=alpha,\n",
    "                                                 beta_1=beta_1,\n",
    "                                                 beta_2=beta_2)"
   ]
  },
  {
   "cell_type": "code",
   "execution_count": 473,
   "id": "nuclear-cancer",
   "metadata": {},
   "outputs": [],
   "source": [
    "def start_neptune_experiment(use_neptune,\n",
    "                             trainer, \n",
    "                             gen,\n",
    "                             neptune_params,\n",
    "                             gan_params,\n",
    "                             description=None):\n",
    "    if use_neptune:\n",
    "        neptune.init(project_qualified_name='wiktor.jurasz/thesis-em-exps', api_token=neptune_token)\n",
    "        if expectation_provider_type == ExpectationProviderType.WGAN:\n",
    "            neptune_params = {**neptune_params, **gan_params}\n",
    "        neptune.create_experiment(name=None, description=description, params=neptune_params)\n",
    "        neptune.log_artifact(io.StringIO(str(gen)), \"gen.txt\")\n",
    "        neptune.log_artifact(io.StringIO(str(([(el[0].numpy(), el[1], list(el[2].numpy())) for el in trainer.gen_weights]))), 'init_gen_weights.txt')"
   ]
  },
  {
   "cell_type": "code",
   "execution_count": 474,
   "id": "empirical-death",
   "metadata": {},
   "outputs": [],
   "source": [
    "def compute_known_states_stats(tra, g_list):\n",
    "       return compute_states_stats(\n",
    "        lambda g: tra.real_evaluator.get_state_from_params(labels=g)[1],\n",
    "        lambda g: tra.real_evaluator.get_state_from_params(labels=g)[1],\n",
    "        g_list,\n",
    "        g_list\n",
    "    ) \n",
    "\n",
    "def compute_generated_states_stats(tra, g_list):\n",
    "    return compute_states_stats(\n",
    "        lambda g: tra.gen_evaluator.get_state_from_params()[1],\n",
    "        lambda g: tra.real_evaluator.get_state_from_params(labels=g)[1],\n",
    "        [\"GENERATED\"],\n",
    "        g_list\n",
    "    )\n",
    "\n",
    "def compute_states_stats(state_prov1, state_prov2, g_list1, g_list2):\n",
    "    stats = {\n",
    "        'min_fidelity': 1,\n",
    "        'min_fidelity_tuple': (None, None),\n",
    "        'max_fidelity': 0,\n",
    "        'max_fidelity_tuple': (None, None),\n",
    "        'average_fidelity': None,\n",
    "        'std_fidelity': None\n",
    "    }\n",
    "    fids = []\n",
    "    for g1 in g_list1:\n",
    "        for g2 in g_list2:\n",
    "            if g1 != g2:\n",
    "                state1 = state_prov1(g1)\n",
    "                state2 = state_prov2(g2)\n",
    "                fid = cirq.fidelity(state1, state2)\n",
    "                fids.append(fid)\n",
    "                if fid < stats['min_fidelity']:\n",
    "                    stats['min_fidelity'] = fid\n",
    "                    stats['min_fidelity_tuple'] = (g1, g2)\n",
    "                if fid > stats['max_fidelity']:\n",
    "                    stats['max_fidelity'] = fid\n",
    "                    stats['max_fidelity_tuple'] = (g1, g2)\n",
    "                \n",
    "    stats['average_fidelity'] = st.mean(fids)\n",
    "    stats['std_fidelity'] = st.stdev(fids)\n",
    "    return stats"
   ]
  },
  {
   "cell_type": "code",
   "execution_count": 486,
   "id": "transparent-ticket",
   "metadata": {},
   "outputs": [],
   "source": [
    "def run_for_g_values(g_values,\n",
    "                     real,\n",
    "                     real_symbols,\n",
    "                     gen,\n",
    "                     gs,\n",
    "                     real_values_provider,\n",
    "                     real_expectations_provider,\n",
    "                     rank,\n",
    "                     epochs,\n",
    "                     gen_iteration, \n",
    "                     snapshot_interval_epochs,\n",
    "                     description,\n",
    "                     use_neptune,\n",
    "                     neptune_params,\n",
    "                     gan_params):   \n",
    "    trainers = {}\n",
    "    training_results = {}\n",
    "    for g in g_values:\n",
    "        trainers[g] = Trainer(real, \n",
    "                              real_symbols, \n",
    "                              gen, \n",
    "                              gs, \n",
    "                              [g], \n",
    "                              real_values_provider, \n",
    "                              real_expectations_provider,\n",
    "                              rank=rank, \n",
    "                              use_neptune=use_neptune)\n",
    "\n",
    "        opt = tf.keras.optimizers.Adam(0.01, beta_1=0.9, beta_2=0.98, epsilon=1e-9)\n",
    "\n",
    "        start_neptune_experiment(use_neptune=use_neptune,\n",
    "                                 trainer=trainers[g], \n",
    "                                 gen=gen,\n",
    "                                 neptune_params=neptune_params,\n",
    "                                 gan_params=gan_params,\n",
    "                                 description=description)\n",
    "\n",
    "        json_result =  trainers[g].train(opt=opt, \n",
    "                                         epochs=epochs, \n",
    "                                         gen_iteration=gen_iteration, \n",
    "                                         snapshot_interval_epochs=snapshot_interval_epochs, \n",
    "                                         plot=True)\n",
    "        training_results[g] = json_result\n",
    "    \n",
    "        if use_neptune:\n",
    "            neptune.stop()\n",
    "    return trainers, training_results"
   ]
  },
  {
   "cell_type": "code",
   "execution_count": 547,
   "id": "compound-luxury",
   "metadata": {},
   "outputs": [
    {
     "name": "stdout",
     "output_type": "stream",
     "text": [
      "Expectations vector size: 105.0\n"
     ]
    }
   ],
   "source": [
    "use_neptune = True\n",
    "generator_layers = 3\n",
    "data_bus_size = 5\n",
    "rank = 1\n",
    "real_circuit_type = 'butterfly'\n",
    "generic_generator = False\n",
    "zxz = False\n",
    "all_gates_parametrized = False\n",
    "expectation_provider_type = ExpectationProviderType.WGAN\n",
    "known_g_values = list(range(128))\n",
    "# known_g_values = np.linspace(-1,0,31)\n",
    "g_values = [4,5,6]\n",
    "\n",
    "# only relevant if using WGAN provider\n",
    "gen_input_dim = 32\n",
    "hidden_dim = [256, 512]\n",
    "penalty_factor = 10\n",
    "gan_epochs = 3000\n",
    "batch_size = 32\n",
    "n_crit = 7\n",
    "alpha: float = 0.0001\n",
    "beta_1: float = 0\n",
    "beta_2: float = 0.9\n",
    "        \n",
    "gen_iteration = 2\n",
    "snapshot_interval_epochs = 100\n",
    "epochs = 601\n",
    "\n",
    "description = None\n",
    "if expectation_provider_type == ExpectationProviderType.WGAN:\n",
    "    print(f\"Expectations vector size: {9*((data_bus_size * (data_bus_size - 1))/2) + 3 * data_bus_size}\")"
   ]
  },
  {
   "cell_type": "code",
   "execution_count": 548,
   "id": "designing-western",
   "metadata": {},
   "outputs": [],
   "source": [
    "neptune_params = {\n",
    "            'generator_layers': generator_layers,\n",
    "            'size':  data_bus_size,\n",
    "            'rank': rank,\n",
    "            'real_circuit_type': real_circuit_type,\n",
    "            'generic_generator': generic_generator,\n",
    "            'zxz': zxz,\n",
    "            'all_gates_parametrized': all_gates_parametrized,\n",
    "            'g_values': g_values,\n",
    "            'expectation_provider_type': expectation_provider_type,\n",
    "            'known_g_values': known_g_values,\n",
    "            'gen_iteration': gen_iteration,\n",
    "            'epochs': epochs\n",
    "        }\n",
    "\n",
    "gan_params = {\n",
    "                'gen_input_dim': gen_input_dim,\n",
    "                'hidden_dim': hidden_dim,\n",
    "                'penalty_factor': penalty_factor,\n",
    "                'gan_epochs': gan_epochs,\n",
    "                'batch_size': batch_size,\n",
    "                'n_crit': n_crit,\n",
    "                'alpha': alpha,\n",
    "                'beta_1': beta_1,\n",
    "                'beta_2': beta_2\n",
    "            }"
   ]
  },
  {
   "cell_type": "code",
   "execution_count": 549,
   "id": "residential-positive",
   "metadata": {},
   "outputs": [],
   "source": [
    "data_qubits = qubits = cirq.GridQubit.rect(1, data_bus_size)\n",
    "if real_circuit_type == 'butterfly':\n",
    "    real, real_symbols = ButterflyCircuitBuilder().build(qubits=qubits)\n",
    "    real_values_provider = get_fixed_random_rotation_provider(len(real_symbols))\n",
    "else:\n",
    "    builder = PhaseCircuitBuilder(all_gates_parametrized=False)\n",
    "    real, real_symbols, symbols_dict_real = builder.build_ground_state_circuit(qubits=data_qubits)\n",
    "    real_values_provider = get_g_parameters_provider()\n",
    "\n",
    "if generic_generator:\n",
    "    gen, gs = circuits.build_circuit(generator_layers, data_qubits, \"g\")\n",
    "    symbols_dict_gen = {}\n",
    "else:\n",
    "    if real_circuit_type == 'butterfly':\n",
    "        gen, gs = ButterflyCircuitBuilder(\"g\").build(qubits=qubits)\n",
    "    else:\n",
    "        builder = PhaseCircuitBuilder(all_gates_parametrized=all_gates_parametrized)\n",
    "        gen, gs, symbols_dict_gen = builder.build_ground_state_circuit(qubits=data_qubits, full_parametrization=True, zxz=zxz)\n",
    "\n",
    "real_expectations_provider = get_expectation_provider(real, \n",
    "                                                      real_symbols, \n",
    "                                                      known_g_values, \n",
    "                                                      real_values_provider,\n",
    "                                                      expectation_provider_type,\n",
    "                                                      gen_input_dim=gen_input_dim,\n",
    "                                                      hidden_dim=hidden_dim,\n",
    "                                                      penalty_factor=penalty_factor,\n",
    "                                                      gan_epochs=gan_epochs,\n",
    "                                                      batch_size=batch_size,\n",
    "                                                      n_crit=n_crit,\n",
    "                                                      alpha=alpha,\n",
    "                                                      beta_1=beta_1,\n",
    "                                                      beta_2=beta_2)"
   ]
  },
  {
   "cell_type": "code",
   "execution_count": 550,
   "id": "wired-context",
   "metadata": {
    "scrolled": false
   },
   "outputs": [
    {
     "data": {
      "text/plain": [
       "<Figure size 432x288 with 0 Axes>"
      ]
     },
     "metadata": {},
     "output_type": "display_data"
    },
    {
     "data": {
      "image/png": "[encoded data removed]",
      "text/plain": [
       "<Figure size 1296x576 with 1 Axes>"
      ]
     },
     "metadata": {
      "needs_background": "light"
     },
     "output_type": "display_data"
    },
    {
     "data": {
      "image/png": "[encoded data removed]",
      "text/plain": [
       "<Figure size 1296x360 with 3 Axes>"
      ]
     },
     "metadata": {
      "needs_background": "light"
     },
     "output_type": "display_data"
    },
    {
     "data": {
      "image/png": "[encoded data removed]",
      "text/plain": [
       "<Figure size 1296x360 with 3 Axes>"
      ]
     },
     "metadata": {
      "needs_background": "light"
     },
     "output_type": "display_data"
    },
    {
     "name": "stdout",
     "output_type": "stream",
     "text": [
      "----------------------------------------------------\n",
      "Epoch 600:  EM distance = 1.0809104265018403, trace distance = 0.9919070972228369, abs trace distance = 0.9055625132776582\n",
      "h=Z((0, 0))*Y((0, 4)), w=-0.9999999992617585, e=-0.32162702083587646\n",
      "h=Y((0, 1))*X((0, 3)), w=-0.9999999959382133, e=-0.6168773770332336\n",
      "h=Z((0, 2)), w=-0.9999999992024254, e=-0.14240603148937225\n",
      "-------------------------------------\n",
      "----------- TRAINING DONE -----------\n"
     ]
    }
   ],
   "source": [
    "trainers, training_results = run_for_g_values(g_values,\n",
    "                     real,\n",
    "                     real_symbols,\n",
    "                     gen,\n",
    "                     gs,\n",
    "                     real_values_provider,\n",
    "                     real_expectations_provider,\n",
    "                     rank,\n",
    "                     epochs,\n",
    "                     gen_iteration, \n",
    "                     snapshot_interval_epochs,\n",
    "                     description,\n",
    "                     use_neptune,\n",
    "                     neptune_params,\n",
    "                     gan_params)"
   ]
  },
  {
   "cell_type": "code",
   "execution_count": 507,
   "id": "increased-development",
   "metadata": {},
   "outputs": [
    {
     "data": {
      "text/plain": [
       "{'min_fidelity': 0.00921722901054528,\n",
       " 'min_fidelity_tuple': (22, 24),\n",
       " 'max_fidelity': 0.983372412293452,\n",
       " 'max_fidelity_tuple': (4, 5),\n",
       " 'average_fidelity': 0.4774584412082613,\n",
       " 'std_fidelity': 0.22615169385161127}"
      ]
     },
     "execution_count": 507,
     "metadata": {},
     "output_type": "execute_result"
    }
   ],
   "source": [
    "compute_known_states_stats(trainers[g_values[0]], known_g_values)"
   ]
  },
  {
   "cell_type": "code",
   "execution_count": 438,
   "id": "macro-hypothetical",
   "metadata": {},
   "outputs": [
    {
     "data": {
      "text/plain": [
       "{'min_fidelity': 0.07080615912628119,\n",
       " 'min_fidelity_tuple': ('GENERATED', 14),\n",
       " 'max_fidelity': 0.9391769881121945,\n",
       " 'max_fidelity_tuple': ('GENERATED', 30),\n",
       " 'average_fidelity': 0.367691368310768,\n",
       " 'std_fidelity': 0.21347957427372133}"
      ]
     },
     "execution_count": 438,
     "metadata": {},
     "output_type": "execute_result"
    }
   ],
   "source": [
    "compute_generated_states_stats(trainers[g_values[0]], known_g_values)"
   ]
  },
  {
   "cell_type": "code",
   "execution_count": 344,
   "id": "valued-kazakhstan",
   "metadata": {
    "scrolled": false
   },
   "outputs": [
    {
     "data": {
      "text/plain": [
       "[('X((0, 0))', 0.14754534),\n",
       " ('X((0, 0))*X((0, 1))', 0.75924635),\n",
       " ('X((0, 0))*X((0, 2))', -0.42626035),\n",
       " ('X((0, 0))*Y((0, 1))', -0.12668788),\n",
       " ('X((0, 0))*Y((0, 2))', -0.7206682),\n",
       " ('X((0, 0))*Z((0, 1))', 0.3088193),\n",
       " ('X((0, 0))*Z((0, 2))', 0.6731498),\n",
       " ('X((0, 1))*Y((0, 2))', -0.8430514),\n",
       " ('X((0, 1))*Z((0, 2))', -0.14286077),\n",
       " ('Y((0, 0))', 0.30544138),\n",
       " ('Y((0, 0))*X((0, 1))', -0.40979004),\n",
       " ('Y((0, 0))*X((0, 2))', -0.6717109),\n",
       " ('Y((0, 0))*Y((0, 1))', -0.43766254),\n",
       " ('Y((0, 0))*Y((0, 2))', 0.026830554),\n",
       " ('Y((0, 0))*Z((0, 1))', 0.06405842),\n",
       " ('Y((0, 0))*Z((0, 2))', 0.2169596),\n",
       " ('Y((0, 1))', 0.67322993),\n",
       " ('Y((0, 1))*Y((0, 2))', 0.6540973),\n",
       " ('Y((0, 1))*Z((0, 2))', -0.15719438),\n",
       " ('Y((0, 2))', -0.46097302),\n",
       " ('Z((0, 0))', 0.20179927),\n",
       " ('Z((0, 0))*X((0, 1))', 0.042109847),\n",
       " ('Z((0, 0))*Y((0, 1))', -0.8732868),\n",
       " ('Z((0, 0))*Y((0, 2))', 0.030829906),\n",
       " ('Z((0, 0))*Z((0, 1))', 0.63018084),\n",
       " ('Z((0, 0))*Z((0, 2))', -0.81903267),\n",
       " ('Z((0, 1))', -0.7496703),\n",
       " ('Z((0, 1))*Y((0, 2))', 0.81630206),\n",
       " ('Z((0, 1))*Z((0, 2))', -0.008326232),\n",
       " ('Z((0, 2))', 0.4412793)]"
      ]
     },
     "execution_count": 344,
     "metadata": {},
     "output_type": "execute_result"
    }
   ],
   "source": [
    "eps = 1.e-6\n",
    "trainer = trainers[g_values[0]]\n",
    "re_exps = trainer.real_expectations_provider.get_expectations_for_parameters([g_values[0]])[g_values[0]]\n",
    "sorted({str(s): e for s, e in re_exps.items() if abs(e) > eps}.items())"
   ]
  },
  {
   "cell_type": "code",
   "execution_count": 345,
   "id": "involved-jones",
   "metadata": {},
   "outputs": [
    {
     "data": {
      "text/plain": [
       "[('X((0, 0))', 0.23629664),\n",
       " ('X((0, 0))*X((0, 1))', -0.047355246),\n",
       " ('X((0, 0))*X((0, 2))', 0.13211764),\n",
       " ('X((0, 0))*Y((0, 1))', 0.24875379),\n",
       " ('X((0, 0))*Y((0, 2))', -0.642994),\n",
       " ('X((0, 0))*Z((0, 1))', -0.12700395),\n",
       " ('X((0, 0))*Z((0, 2))', -0.02755905),\n",
       " ('X((0, 1))*Y((0, 2))', -0.008481029),\n",
       " ('X((0, 1))*Z((0, 2))', 0.19787562),\n",
       " ('Y((0, 0))', -0.05215015),\n",
       " ('Y((0, 0))*X((0, 1))', 0.12673008),\n",
       " ('Y((0, 0))*X((0, 2))', 0.5986357),\n",
       " ('Y((0, 0))*Y((0, 1))', 0.026573643),\n",
       " ('Y((0, 0))*Y((0, 2))', 0.14190742),\n",
       " ('Y((0, 0))*Z((0, 1))', 0.10182255),\n",
       " ('Y((0, 0))*Z((0, 2))', 0.0060821995),\n",
       " ('Y((0, 1))', 0.60748446),\n",
       " ('Y((0, 1))*Y((0, 2))', -0.23451075),\n",
       " ('Y((0, 1))*Z((0, 2))', 0.26279813),\n",
       " ('Y((0, 2))', -0.391519),\n",
       " ('Z((0, 0))', -0.62009),\n",
       " ('Z((0, 0))*X((0, 1))', -0.21292841),\n",
       " ('Z((0, 0))*Y((0, 1))', -0.29306725),\n",
       " ('Z((0, 0))*Y((0, 2))', 0.2672922),\n",
       " ('Z((0, 0))*Z((0, 1))', 0.6590886),\n",
       " ('Z((0, 0))*Z((0, 2))', -0.91955674),\n",
       " ('Z((0, 1))', -0.6707083),\n",
       " ('Z((0, 1))*Y((0, 2))', 0.27228135),\n",
       " ('Z((0, 1))*Z((0, 2))', -0.60194993),\n",
       " ('Z((0, 2))', 0.560531)]"
      ]
     },
     "execution_count": 345,
     "metadata": {},
     "output_type": "execute_result"
    }
   ],
   "source": [
    "index = 15\n",
    "trainer.real_expectations_provider.precomputed_expectations_provider.eps = eps\n",
    "real_exps2 = trainer.real_expectations_provider.precomputed_expectations_provider.get_expectations_for_parameters([index], filter_small_expectations=True)[index]\n",
    "real_exps2 = {str(k): v for k, v in real_exps2.items()}\n",
    "sorted(real_exps2.items())"
   ]
  },
  {
   "cell_type": "code",
   "execution_count": 346,
   "id": "arabic-fifteen",
   "metadata": {},
   "outputs": [
    {
     "data": {
      "text/plain": [
       "[('X((0, 0))', 0.10157645),\n",
       " ('X((0, 0))*X((0, 1))', 0.07695043),\n",
       " ('X((0, 0))*X((0, 2))', -0.53464466),\n",
       " ('X((0, 0))*Y((0, 1))', 0.25167096),\n",
       " ('X((0, 0))*Y((0, 2))', 0.104152866),\n",
       " ('X((0, 0))*Z((0, 1))', 0.059586424),\n",
       " ('X((0, 0))*Z((0, 2))', 0.27349055),\n",
       " ('X((0, 1))*Y((0, 2))', -0.49994034),\n",
       " ('X((0, 1))*Z((0, 2))', 0.19039133),\n",
       " ('Y((0, 0))', -0.19787115),\n",
       " ('Y((0, 0))*X((0, 1))', 0.13179865),\n",
       " ('Y((0, 0))*X((0, 2))', -0.27445784),\n",
       " ('Y((0, 0))*Y((0, 1))', -0.17500073),\n",
       " ('Y((0, 0))*Y((0, 2))', -0.20289005),\n",
       " ('Y((0, 0))*Z((0, 1))', 0.23162311),\n",
       " ('Y((0, 0))*Z((0, 2))', -0.53276026),\n",
       " ('Y((0, 1))', 0.51393545),\n",
       " ('Y((0, 1))*Y((0, 2))', 0.016313776),\n",
       " ('Y((0, 1))*Z((0, 2))', 0.18466671),\n",
       " ('Y((0, 2))', -0.10938808),\n",
       " ('Z((0, 0))', -0.26575512),\n",
       " ('Z((0, 0))*X((0, 1))', -0.5704291),\n",
       " ('Z((0, 0))*Y((0, 1))', -0.05382213),\n",
       " ('Z((0, 0))*Y((0, 2))', 0.84360063),\n",
       " ('Z((0, 0))*Z((0, 1))', 0.5109514),\n",
       " ('Z((0, 0))*Z((0, 2))', -0.41997027),\n",
       " ('Z((0, 1))', -0.46598166),\n",
       " ('Z((0, 1))*Y((0, 2))', 0.39025092),\n",
       " ('Z((0, 1))*Z((0, 2))', -0.3216876),\n",
       " ('Z((0, 2))', 0.4130656)]"
      ]
     },
     "execution_count": 346,
     "metadata": {},
     "output_type": "execute_result"
    }
   ],
   "source": [
    "gen_exps = list(zip(trainer.disc_hamiltonians, trainer.get_all_generator_expectations(trainer.disc_hamiltonians).numpy()[0]))\n",
    "sorted({str(s): e for s, e in gen_exps if abs(e) > eps}.items())"
   ]
  },
  {
   "cell_type": "code",
   "execution_count": 327,
   "id": "latest-pearl",
   "metadata": {},
   "outputs": [
    {
     "data": {
      "text/plain": [
       "array([0.01334328, 0.5410961 , 0.00707353, 0.28684464, 0.21145125,\n",
       "       0.05067034, 0.7389662 , 0.17707941], dtype=float32)"
      ]
     },
     "execution_count": 327,
     "metadata": {},
     "output_type": "execute_result"
    }
   ],
   "source": [
    "trainer.gen_evaluator.get_state_from_params()[1]"
   ]
  },
  {
   "cell_type": "code",
   "execution_count": 328,
   "id": "equal-addiction",
   "metadata": {},
   "outputs": [
    {
     "data": {
      "text/plain": [
       "array([0.03883622, 0.5739804 , 0.02398222, 0.35444552, 0.19726938,\n",
       "       0.04196318, 0.693121  , 0.14744084], dtype=float32)"
      ]
     },
     "execution_count": 328,
     "metadata": {},
     "output_type": "execute_result"
    }
   ],
   "source": [
    "trainer.real_evaluator.get_state_from_params(labels=0)[1]"
   ]
  },
  {
   "cell_type": "code",
   "execution_count": 176,
   "id": "better-connectivity",
   "metadata": {},
   "outputs": [
    {
     "data": {
      "text/plain": [
       "0.8418850364998889"
      ]
     },
     "execution_count": 176,
     "metadata": {},
     "output_type": "execute_result"
    }
   ],
   "source": [
    "cirq.fidelity(trainer.gen_evaluator.get_state_from_params()[1], trainer.real_evaluator.get_state_from_params(labels=-0.3)[1])"
   ]
  },
  {
   "cell_type": "code",
   "execution_count": 275,
   "id": "hidden-vienna",
   "metadata": {},
   "outputs": [
    {
     "data": {
      "text/plain": [
       "-0.3081206977367401"
      ]
     },
     "execution_count": 275,
     "metadata": {},
     "output_type": "execute_result"
    }
   ],
   "source": [
    "np.set_printoptions(suppress=True)\n",
    "xd = (trainer.get_all_generator_expectations(trainer.disc_hamiltonians).numpy() - trainer.get_real_expectation(\n",
    "            trainer.disc_hamiltonians)).flatten()\n",
    "xd"
   ]
  },
  {
   "cell_type": "code",
   "execution_count": 259,
   "id": "empirical-validation",
   "metadata": {},
   "outputs": [],
   "source": [
    "xdd = np.array([x for pair in zip(xd[0], -xd[0]) for x in pair])"
   ]
  },
  {
   "cell_type": "code",
   "execution_count": 260,
   "id": "median-harrison",
   "metadata": {},
   "outputs": [],
   "source": [
    "A = np.array([[x for pair in zip(A_i, A_i) for  x in pair] for A_i in trainer.A])"
   ]
  },
  {
   "cell_type": "code",
   "execution_count": 261,
   "id": "superb-alexandria",
   "metadata": {},
   "outputs": [
    {
     "data": {
      "text/plain": [
       "array([1., 1., 1.])"
      ]
     },
     "execution_count": 261,
     "metadata": {},
     "output_type": "execute_result"
    }
   ],
   "source": [
    "from scipy.optimize import linprog\n",
    "b = np.ones(len(trainer.qubit_to_string_index))\n",
    "b"
   ]
  },
  {
   "cell_type": "code",
   "execution_count": 267,
   "id": "alien-association",
   "metadata": {
    "scrolled": true
   },
   "outputs": [
    {
     "data": {
      "text/plain": [
       "     con: array([], dtype=float64)\n",
       "     fun: -2.6711249338111274\n",
       " message: 'Optimization terminated successfully.'\n",
       "     nit: 5\n",
       "   slack: array([-0.00000002, -0.00000002, -0.00000002])\n",
       "  status: 0\n",
       " success: True\n",
       "       x: array([0.        , 0.        , 0.        , 0.        , 0.        ,\n",
       "       0.        , 0.        , 0.        , 0.        , 0.        ,\n",
       "       0.        , 0.        , 0.        , 0.        , 0.        ,\n",
       "       0.        , 0.        , 0.        , 0.        , 0.        ,\n",
       "       0.        , 0.        , 0.        , 0.        , 0.        ,\n",
       "       0.        , 0.        , 0.        , 0.        , 0.        ,\n",
       "       0.        , 0.        , 0.        , 0.        , 0.        ,\n",
       "       0.        , 0.        , 0.        , 0.        , 0.        ,\n",
       "       0.        , 0.        , 0.        , 0.        , 0.        ,\n",
       "       0.        , 0.        , 0.        , 0.        , 0.        ,\n",
       "       0.        , 0.        , 0.        , 0.        , 1.        ,\n",
       "       0.        , 0.        , 0.        , 0.        , 0.        ,\n",
       "       0.        , 1.        , 0.        , 0.        , 0.        ,\n",
       "       0.        , 0.99999999, 0.        , 0.00000001, 0.        ,\n",
       "       0.        , 0.        ])"
      ]
     },
     "execution_count": 267,
     "metadata": {},
     "output_type": "execute_result"
    }
   ],
   "source": [
    "res = linprog(-xdd, A_ub=A, b_ub=b)\n",
    "res"
   ]
  },
  {
   "cell_type": "code",
   "execution_count": 273,
   "id": "anticipated-observer",
   "metadata": {
    "scrolled": true
   },
   "outputs": [
    {
     "data": {
      "text/plain": [
       "[0,\n",
       " 0,\n",
       " 0,\n",
       " 0,\n",
       " 0,\n",
       " 0,\n",
       " 0,\n",
       " 0,\n",
       " 0,\n",
       " 0,\n",
       " 0,\n",
       " 0,\n",
       " 0,\n",
       " 0,\n",
       " 0,\n",
       " 0,\n",
       " 0,\n",
       " 0,\n",
       " 0,\n",
       " 0,\n",
       " 0,\n",
       " 0,\n",
       " 0,\n",
       " 0,\n",
       " 0,\n",
       " 0,\n",
       " 0,\n",
       " 0.9999999996463902,\n",
       " 0,\n",
       " 0,\n",
       " 0,\n",
       " 0,\n",
       " 0,\n",
       " 0.9999999922902141,\n",
       " 0,\n",
       " 0]"
      ]
     },
     "execution_count": 273,
     "metadata": {},
     "output_type": "execute_result"
    }
   ],
   "source": [
    "xs = [res.x[i] - res.x[i+1] for i in range(0, len(res.x), 2)]\n",
    "[el if el > 0.001 else 0 for el in xs]"
   ]
  }
 ],
 "metadata": {
  "kernelspec": {
   "display_name": "Python 3",
   "language": "python",
   "name": "python3"
  },
  "language_info": {
   "codemirror_mode": {
    "name": "ipython",
    "version": 3
   },
   "file_extension": ".py",
   "mimetype": "text/x-python",
   "name": "python",
   "nbconvert_exporter": "python",
   "pygments_lexer": "ipython3",
   "version": "3.8.7"
  }
 },
 "nbformat": 4,
 "nbformat_minor": 5
}
