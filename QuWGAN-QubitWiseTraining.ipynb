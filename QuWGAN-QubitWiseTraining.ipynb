{
 "cells": [
  {
   "cell_type": "code",
   "execution_count": 1,
   "id": "black-dividend",
   "metadata": {},
   "outputs": [],
   "source": [
    "if 'google.colab' in str(get_ipython()):\n",
    "    !pip uninstall tensorflow -y\n",
    "    !pip install tensorflow==2.3.1 tensorflow-quantum neptune-client\n",
    "    !rm -rf quantum-gans\n",
    "    !git clone https://github.com/WiktorJ/quantum-gans\n",
    "    !cd quantum-gans; pip install .\n",
    "    neptun_token = \"\" # put manually for the time being\n",
    "else:\n",
    "    import subprocess\n",
    "    def get_var(varname):\n",
    "        CMD = 'echo $(source ~/.bash_profile; echo $%s)' % varname\n",
    "        p = subprocess.Popen(CMD, stdout=subprocess.PIPE, shell=True, executable='/bin/bash')\n",
    "        return p.stdout.readlines()[0].strip()\n",
    "    neptun_token = get_var('NEPTUNE_API_TOKEN').decode(\"utf-8\") "
   ]
  },
  {
   "cell_type": "code",
   "execution_count": 2,
   "id": "exempt-internship",
   "metadata": {},
   "outputs": [],
   "source": [
    "%load_ext autoreload\n",
    "%autoreload 2"
   ]
  },
  {
   "cell_type": "code",
   "execution_count": 3,
   "id": "elder-working",
   "metadata": {},
   "outputs": [],
   "source": [
    "use_neptune = False"
   ]
  },
  {
   "cell_type": "code",
   "execution_count": 4,
   "id": "polish-baghdad",
   "metadata": {},
   "outputs": [],
   "source": [
    "import neptune\n",
    "import tensorflow as tf\n",
    "import random\n",
    "\n",
    "import io\n",
    "import cirq\n",
    "import numpy as np\n",
    "from matplotlib import pyplot as plt\n",
    "from collections import defaultdict\n",
    "from qsgenerator import circuits\n",
    "from qsgenerator.quwgans import circuits as quwgans_circuits\n",
    "from qsgenerator.quwgans.circuits import get_discriminator\n",
    "from qsgenerator.quwgans.training import Trainer\n",
    "from qsgenerator.phase.circuits import PhaseCircuitBuilder\n",
    "from qsgenerator.states.butterfly_circuits import ButterflyCircuitBuilder\n",
    "from qsgenerator.quwgans.real_expectations_provider import PrecomputedExpectationsProvider, \\\n",
    "    Interpolation1DExpectationsProvider, WassersteinGanExpectationProvider, ExpectationProviderType\n",
    "from qsgenerator.states.simple_rotation_generators import get_fixed_random_rotation_provider\n",
    "from qsgenerator.evaluators.circuit_evaluator import CircuitEvaluator\n",
    "from qsgenerator.phase.analitical import get_theta_v, get_theta_w, get_theta_r, get_g_parameters_provider\n"
   ]
  },
  {
   "cell_type": "code",
   "execution_count": 52,
   "id": "endless-respect",
   "metadata": {},
   "outputs": [
    {
     "data": {
      "text/plain": [
       "array([-1.        , -0.96666667, -0.93333333, -0.9       , -0.86666667,\n",
       "       -0.83333333, -0.8       , -0.76666667, -0.73333333, -0.7       ,\n",
       "       -0.66666667, -0.63333333, -0.6       , -0.56666667, -0.53333333,\n",
       "       -0.5       ])"
      ]
     },
     "execution_count": 52,
     "metadata": {},
     "output_type": "execute_result"
    }
   ],
   "source": [
    "generator_layers = 3\n",
    "data_bus_size = 6\n",
    "rank = 1\n",
    "real_circuit_type = 'phase'\n",
    "g_values = [-0.5]\n",
    "generic_generator = False\n",
    "zxz = False\n",
    "all_gates_parametrized = False\n",
    "expectation_provider_type = ExpectationProviderType.ONLY_KNOWN\n",
    "known_g_values = np.linspace(-1,-0.5,16)\n",
    "# known_g_values = [-1, -0.75, -0.5, -0.25, 0]\n",
    "if expectation_provider_type == ExpectationProviderType.WGAN:\n",
    "        gen_input_dim = 10\n",
    "        hidden_dim = 32\n",
    "        penalty_factor = 10\n",
    "        gan_epochs = 10000\n",
    "        batch_size = 4\n",
    "known_g_values"
   ]
  },
  {
   "cell_type": "code",
   "execution_count": 53,
   "id": "efficient-ocean",
   "metadata": {},
   "outputs": [],
   "source": [
    "data_qubits = qubits = cirq.GridQubit.rect(1, data_bus_size)"
   ]
  },
  {
   "cell_type": "code",
   "execution_count": 54,
   "id": "ordered-australia",
   "metadata": {},
   "outputs": [],
   "source": [
    "if real_circuit_type == 'butterfly':\n",
    "    real, real_symbols = ButterflyCircuitBuilder().build(qubits=qubits)\n",
    "    real_values_provider = get_fixed_random_rotation_provider(len(real_symbols))\n",
    "else:\n",
    "    builder = PhaseCircuitBuilder(all_gates_parametrized=False, g_positive=False)\n",
    "    real, real_symbols, symbols_dict_real = builder.build_ground_state_circuit(qubits=data_qubits)\n",
    "    real_values_provider = get_g_parameters_provider()"
   ]
  },
  {
   "cell_type": "code",
   "execution_count": 55,
   "id": "paperback-lyric",
   "metadata": {},
   "outputs": [],
   "source": [
    "if generic_generator:\n",
    "    gen, gs = circuits.build_circuit(generator_layers, data_qubits, \"g\")\n",
    "    symbols_dict_gen = {}\n",
    "else:\n",
    "    if real_circuit_type == 'butterfly':\n",
    "        gen, gs = ButterflyCircuitBuilder(\"g\").build(qubits=qubits)\n",
    "    else:\n",
    "        builder = PhaseCircuitBuilder(all_gates_parametrized=all_gates_parametrized)\n",
    "        gen, gs, symbols_dict_gen = builder.build_ground_state_circuit(qubits=data_qubits, full_parametrization=True, zxz=zxz)"
   ]
  },
  {
   "cell_type": "code",
   "execution_count": 56,
   "id": "broken-stationery",
   "metadata": {},
   "outputs": [
    {
     "name": "stdout",
     "output_type": "stream",
     "text": [
      "REAL GROUND STATE\n"
     ]
    },
    {
     "data": {
      "text/html": [
       "<pre style=\"overflow: auto; white-space: pre;\">(0, 0): ───H───@─────────────────────────────────────────────────────────────────────────────────────────────────────────────────────────────────────────────────────────────────────────────────────────────────────────────────────────────────────────────────────────────────────────────────────────────────────────────────────────────────────────────────────\n",
       "               │\n",
       "(0, 1): ───────X───Z───Ry(theta_r)───X─────────────@───X───────────────────────────────────@───X─────────────────────────────────────────────────────────────────────────────────────────────────────────────────────────────────────────────────────────────────────────────────────────────────────────────────────────────────────────────────────────────────────\n",
       "                                                   │                                       │\n",
       "(0, 2): ─────────────────────────────Ry(theta_w)───X───X───Ry(theta_w)───X───Ry(theta_v)───X───X───Ry(theta_v)───X───X─────────────@───X───────────────────────────────────@───X─────────────────────────────────────────────────────────────────────────────────────────────────────────────────────────────────────────────────────────────────────────────────────\n",
       "                                                                                                                                   │                                       │\n",
       "(0, 3): ─────────────────────────────────────────────────────────────────────────────────────────────────────────────Ry(theta_w)───X───X───Ry(theta_w)───X───Ry(theta_v)───X───X───Ry(theta_v)───X───X─────────────@───X───────────────────────────────────@───X─────────────────────────────────────────────────────────────────────────────────────────────────────\n",
       "                                                                                                                                                                                                                   │                                       │\n",
       "(0, 4): ─────────────────────────────────────────────────────────────────────────────────────────────────────────────────────────────────────────────────────────────────────────────────────────────Ry(theta_w)───X───X───Ry(theta_w)───X───Ry(theta_v)───X───X───Ry(theta_v)───X───X─────────────@───X───────────────────────────────────@───X─────────────────────\n",
       "                                                                                                                                                                                                                                                                                                   │                                       │\n",
       "(0, 5): ─────────────────────────────────────────────────────────────────────────────────────────────────────────────────────────────────────────────────────────────────────────────────────────────────────────────────────────────────────────────────────────────────────────────Ry(theta_w)───X───X───Ry(theta_w)───X───Ry(theta_v)───X───X───Ry(theta_v)───X───</pre>"
      ],
      "text/plain": [
       "(0, 0): ───H───@─────────────────────────────────────────────────────────────────────────────────────────────────────────────────────────────────────────────────────────────────────────────────────────────────────────────────────────────────────────────────────────────────────────────────────────────────────────────────────────────────────────────────────\n",
       "               │\n",
       "(0, 1): ───────X───Z───Ry(theta_r)───X─────────────@───X───────────────────────────────────@───X─────────────────────────────────────────────────────────────────────────────────────────────────────────────────────────────────────────────────────────────────────────────────────────────────────────────────────────────────────────────────────────────────────\n",
       "                                                   │                                       │\n",
       "(0, 2): ─────────────────────────────Ry(theta_w)───X───X───Ry(theta_w)───X───Ry(theta_v)───X───X───Ry(theta_v)───X───X─────────────@───X───────────────────────────────────@───X─────────────────────────────────────────────────────────────────────────────────────────────────────────────────────────────────────────────────────────────────────────────────────\n",
       "                                                                                                                                   │                                       │\n",
       "(0, 3): ─────────────────────────────────────────────────────────────────────────────────────────────────────────────Ry(theta_w)───X───X───Ry(theta_w)───X───Ry(theta_v)───X───X───Ry(theta_v)───X───X─────────────@───X───────────────────────────────────@───X─────────────────────────────────────────────────────────────────────────────────────────────────────\n",
       "                                                                                                                                                                                                                   │                                       │\n",
       "(0, 4): ─────────────────────────────────────────────────────────────────────────────────────────────────────────────────────────────────────────────────────────────────────────────────────────────Ry(theta_w)───X───X───Ry(theta_w)───X───Ry(theta_v)───X───X───Ry(theta_v)───X───X─────────────@───X───────────────────────────────────@───X─────────────────────\n",
       "                                                                                                                                                                                                                                                                                                   │                                       │\n",
       "(0, 5): ─────────────────────────────────────────────────────────────────────────────────────────────────────────────────────────────────────────────────────────────────────────────────────────────────────────────────────────────────────────────────────────────────────────────Ry(theta_w)───X───X───Ry(theta_w)───X───Ry(theta_v)───X───X───Ry(theta_v)───X───"
      ]
     },
     "execution_count": 56,
     "metadata": {},
     "output_type": "execute_result"
    }
   ],
   "source": [
    "print(\"REAL GROUND STATE\")\n",
    "real"
   ]
  },
  {
   "cell_type": "code",
   "execution_count": 57,
   "id": "quick-vertical",
   "metadata": {},
   "outputs": [
    {
     "name": "stdout",
     "output_type": "stream",
     "text": [
      "GENERATOR\n"
     ]
    },
    {
     "data": {
      "text/html": [
       "<pre style=\"overflow: auto; white-space: pre;\">(0, 0): ───H───@───────────────────────────────────────────────────────────────────────────────────────────────────────────────────────────────────────────────────────────────────────────────────────────────────────────────────────────────────────────────────────────────────────────────────────────────────────────────────────────────────────────\n",
       "               │\n",
       "(0, 1): ───────X───Z───Ry(theta0)───X────────────@───X─────────────────────────────────@───X───────────────────────────────────────────────────────────────────────────────────────────────────────────────────────────────────────────────────────────────────────────────────────────────────────────────────────────────────────────────────────────────\n",
       "                                                 │                                     │\n",
       "(0, 2): ────────────────────────────Ry(theta3)───X───X───Ry(theta4)───X───Ry(theta1)───X───X───Ry(theta2)───X───X────────────@───X─────────────────────────────────@───X───────────────────────────────────────────────────────────────────────────────────────────────────────────────────────────────────────────────────────────────────────────────────\n",
       "                                                                                                                             │                                     │\n",
       "(0, 3): ────────────────────────────────────────────────────────────────────────────────────────────────────────Ry(theta7)───X───X───Ry(theta8)───X───Ry(theta5)───X───X───Ry(theta6)───X───X─────────────@───X──────────────────────────────────@───X─────────────────────────────────────────────────────────────────────────────────────────────────────\n",
       "                                                                                                                                                                                                          │                                      │\n",
       "(0, 4): ────────────────────────────────────────────────────────────────────────────────────────────────────────────────────────────────────────────────────────────────────────────────────Ry(theta11)───X───X───Ry(theta12)───X───Ry(theta9)───X───X───Ry(theta10)───X───X─────────────@───X───────────────────────────────────@───X─────────────────────\n",
       "                                                                                                                                                                                                                                                                                         │                                       │\n",
       "(0, 5): ───────────────────────────────────────────────────────────────────────────────────────────────────────────────────────────────────────────────────────────────────────────────────────────────────────────────────────────────────────────────────────────────────Ry(theta15)───X───X───Ry(theta16)───X───Ry(theta13)───X───X───Ry(theta14)───X───</pre>"
      ],
      "text/plain": [
       "(0, 0): ───H───@───────────────────────────────────────────────────────────────────────────────────────────────────────────────────────────────────────────────────────────────────────────────────────────────────────────────────────────────────────────────────────────────────────────────────────────────────────────────────────────────────────────\n",
       "               │\n",
       "(0, 1): ───────X───Z───Ry(theta0)───X────────────@───X─────────────────────────────────@───X───────────────────────────────────────────────────────────────────────────────────────────────────────────────────────────────────────────────────────────────────────────────────────────────────────────────────────────────────────────────────────────────\n",
       "                                                 │                                     │\n",
       "(0, 2): ────────────────────────────Ry(theta3)───X───X───Ry(theta4)───X───Ry(theta1)───X───X───Ry(theta2)───X───X────────────@───X─────────────────────────────────@───X───────────────────────────────────────────────────────────────────────────────────────────────────────────────────────────────────────────────────────────────────────────────────\n",
       "                                                                                                                             │                                     │\n",
       "(0, 3): ────────────────────────────────────────────────────────────────────────────────────────────────────────Ry(theta7)───X───X───Ry(theta8)───X───Ry(theta5)───X───X───Ry(theta6)───X───X─────────────@───X──────────────────────────────────@───X─────────────────────────────────────────────────────────────────────────────────────────────────────\n",
       "                                                                                                                                                                                                          │                                      │\n",
       "(0, 4): ────────────────────────────────────────────────────────────────────────────────────────────────────────────────────────────────────────────────────────────────────────────────────Ry(theta11)───X───X───Ry(theta12)───X───Ry(theta9)───X───X───Ry(theta10)───X───X─────────────@───X───────────────────────────────────@───X─────────────────────\n",
       "                                                                                                                                                                                                                                                                                         │                                       │\n",
       "(0, 5): ───────────────────────────────────────────────────────────────────────────────────────────────────────────────────────────────────────────────────────────────────────────────────────────────────────────────────────────────────────────────────────────────────Ry(theta15)───X───X───Ry(theta16)───X───Ry(theta13)───X───X───Ry(theta14)───X───"
      ]
     },
     "execution_count": 57,
     "metadata": {},
     "output_type": "execute_result"
    }
   ],
   "source": [
    "print(\"GENERATOR\")\n",
    "gen"
   ]
  },
  {
   "cell_type": "code",
   "execution_count": 58,
   "id": "induced-packing",
   "metadata": {},
   "outputs": [],
   "source": [
    "opt = tf.keras.optimizers.Adam(0.01, beta_1=0.9, beta_2=0.98, \n",
    "                                     epsilon=1e-9)"
   ]
  },
  {
   "cell_type": "code",
   "execution_count": 59,
   "id": "surface-insulation",
   "metadata": {},
   "outputs": [],
   "source": [
    "def get_expectation_provider():\n",
    "    precomputed_expectation_provider = PrecomputedExpectationsProvider(real,\n",
    "                                                                       real_symbols,\n",
    "                                                                       known_g_values,\n",
    "                                                                       real_values_provider,\n",
    "                                                                       get_discriminator(real))\n",
    "    if expectation_provider_type == ExpectationProviderType.ONLY_KNOWN:\n",
    "        return precomputed_expectation_provider\n",
    "    elif expectation_provider_type == ExpectationProviderType.INTERPOLATION1D:\n",
    "        return Interpolation1DExpectationsProvider(precomputed_expectation_provider)\n",
    "    elif expectation_provider_type == ExpectationProviderType.WGAN:\n",
    "        return WassersteinGanExpectationProvider(precomputed_expectation_provider, gen_input_dim, hidden_dim, penalty_factor, gan_epochs, batch_size)"
   ]
  },
  {
   "cell_type": "code",
   "execution_count": 60,
   "id": "plastic-projection",
   "metadata": {},
   "outputs": [],
   "source": [
    "real_expectations_provider = get_expectation_provider()"
   ]
  },
  {
   "cell_type": "code",
   "execution_count": 61,
   "id": "actual-privacy",
   "metadata": {},
   "outputs": [],
   "source": [
    "trainer = Trainer(real, \n",
    "                  real_symbols,\n",
    "                  gen,\n",
    "                  gs,\n",
    "                  g_values,\n",
    "                  real_values_provider,\n",
    "                  real_expectations_provider,\n",
    "                  rank=rank,\n",
    "                  use_neptune=use_neptune)"
   ]
  },
  {
   "cell_type": "code",
   "execution_count": 62,
   "id": "inclusive-difficulty",
   "metadata": {},
   "outputs": [],
   "source": [
    "epochs = 801\n",
    "gen_iteration = 1\n",
    "snapshot_interval_epochs = 100"
   ]
  },
  {
   "cell_type": "code",
   "execution_count": 63,
   "id": "accredited-grounds",
   "metadata": {},
   "outputs": [],
   "source": [
    "def start_neptune_experiment():\n",
    "    if use_neptune:\n",
    "        neptune.init(project_qualified_name='wiktor.jurasz/thesis-em', api_token=neptun_token)\n",
    "        neptun_params = {\n",
    "            'generator_layers': generator_layers,\n",
    "            'size':  data_bus_size,\n",
    "            'rank': rank,\n",
    "            'real_circuit_type': real_circuit_type,\n",
    "            'generic_generator': generic_generator,\n",
    "            'zxz': zxz,\n",
    "            'all_gates_parametrized': all_gates_parametrized,\n",
    "            'g_values': g_values,\n",
    "            'expectation_provider_type': expectation_provider_type,\n",
    "            'known_g_values': known_g_values,\n",
    "            'gen_iteration': gen_iteration,\n",
    "            'epochs': epochs\n",
    "        }\n",
    "        if expectation_provider_type == ExpectationProviderType.WGAN:\n",
    "            gan_params = {\n",
    "                'gen_input_dim': gen_input_dim,\n",
    "                'hidden_dim': hidden_dim,\n",
    "                'penalty_factor': penalty_factor,\n",
    "                'gan_epochs': gan_epochs,\n",
    "                'batch_size': batch_size\n",
    "            }\n",
    "            neptun_params = {**neptun_params, **gan_params}\n",
    "        neptune.create_experiment(name=None, description=None, params=neptun_params)\n",
    "        neptune.log_artifact(io.StringIO(str(gen)), \"gen.txt\")\n",
    "        neptune.log_artifact(io.StringIO(str(([(el[0].numpy(), el[1], list(el[2].numpy())) for el in trainer.gen_weights]))), 'init_gen_weights.txt')"
   ]
  },
  {
   "cell_type": "code",
   "execution_count": 64,
   "id": "spiritual-seafood",
   "metadata": {},
   "outputs": [],
   "source": [
    "start_neptune_experiment()"
   ]
  },
  {
   "cell_type": "code",
   "execution_count": 65,
   "id": "charitable-cancellation",
   "metadata": {},
   "outputs": [
    {
     "data": {
      "text/plain": [
       "<Figure size 432x288 with 0 Axes>"
      ]
     },
     "metadata": {},
     "output_type": "display_data"
    },
    {
     "data": {
      "image/png": "[encoded data removed]",
      "text/plain": [
       "<Figure size 1296x576 with 1 Axes>"
      ]
     },
     "metadata": {
      "needs_background": "light"
     },
     "output_type": "display_data"
    },
    {
     "data": {
      "image/png": "[encoded data removed]",
      "text/plain": [
       "<Figure size 1296x360 with 3 Axes>"
      ]
     },
     "metadata": {
      "needs_background": "light"
     },
     "output_type": "display_data"
    },
    {
     "data": {
      "image/png": "[encoded data removed]",
      "text/plain": [
       "<Figure size 1296x360 with 3 Axes>"
      ]
     },
     "metadata": {
      "needs_background": "light"
     },
     "output_type": "display_data"
    },
    {
     "name": "stdout",
     "output_type": "stream",
     "text": [
      "----------------------------------------------------\n",
      "Epoch 800:  EM distance = 0.016259380613556997, trace distance = 1.0000003974920675, abs trace distance = 0.17088201847527199\n",
      "h=X((0, 0))*Z((0, 4)), w=0.9999999633174299, e=0.0055879466235637665\n",
      "h=Z((0, 1))*X((0, 2)), w=0.9999999653054948, e=0.003288380801677704\n",
      "h=Z((0, 5)), w=0.9999999806261652, e=0.003855265211313963\n",
      "h=Z((0, 3)), w=0.9999999788559644, e=0.003527788445353508\n",
      "-------------------------------------\n",
      "----------- TRAINING DONE -----------\n"
     ]
    }
   ],
   "source": [
    "json_result = trainer.train(opt, epochs, gen_iteration, snapshot_interval_epochs, plot=True)"
   ]
  },
  {
   "cell_type": "code",
   "execution_count": 162,
   "id": "chubby-mechanism",
   "metadata": {},
   "outputs": [],
   "source": [
    "np.set_printoptions(suppress=True)\n",
    "def get_expectations_real(g, t):\n",
    "    full_weights = tf.keras.layers.Layer()(\n",
    "                tf.Variable(np.array(t.real_values_provider(g), dtype=np.float32)))\n",
    "    full_weights = tf.reshape(full_weights, (1, full_weights.shape[0]))\n",
    "    exps = t.real_expectation([t.real],\n",
    "                                         symbol_names=t.real_symbols,\n",
    "                                         symbol_values=full_weights,\n",
    "                                         operators=t.disc_hamiltonians)\n",
    "    return {h: e for e, h in zip(exps.numpy()[0], [str(h) for h in t.disc_hamiltonians])}\n",
    "\n",
    "def get_expectations_gen(g, t):\n",
    "    full_weights = tf.keras.layers.Layer()(t.gen_weights[0][2])\n",
    "    full_weights = tf.reshape(full_weights, (1, full_weights.shape[0]))\n",
    "    exps = t.gen_expectation([t.gen],\n",
    "                                         symbol_names=t.gs,\n",
    "                                         symbol_values=full_weights,\n",
    "                                         operators=t.disc_hamiltonians)\n",
    "    return {h: e for e, h in zip(exps.numpy()[0], [str(h) for h in t.disc_hamiltonians])}\n",
    "\n",
    "def get_expectations(resolved_circuit, t):\n",
    "    exps = t.gen_expectation([resolved_circuit], operators=t.disc_hamiltonians)\n",
    "    return {h: e for e, h in zip(exps.numpy()[0], [str(h) for h in t.disc_hamiltonians])}\n",
    "\n",
    "def get_filtered_expectatoins(resolved_circuit, t, eps=1e-3):\n",
    "    return {pauli_string: exp for pauli_string, exp in get_expectations(resolved_circuit, t).items() if abs(float(exp)) >= eps}\n",
    "\n",
    "def get_exps(g_list, trainer, eps=1e-3):\n",
    "    res = defaultdict(list)\n",
    "    for g in g_list:\n",
    "        for e in (fe for fe in get_expectations_real(g, trainer).items() if abs(float(fe[1])) >= eps):\n",
    "            res[e[0]].append(e[1])\n",
    "    return res\n",
    "\n",
    "def get_exp(g, trainer, eps=1e-3):\n",
    "    res_r = defaultdict(list)\n",
    "    res_g = defaultdict(list)\n",
    "    for e in (fe for fe in get_expectations_real(g, trainer).items() if abs(float(fe[1])) >= eps ):\n",
    "        res_r[e[0]].append(e[1])\n",
    "    for e in (fe for fe in get_expectations_gen(g, trainer).items() if abs(float(fe[1])) >= eps ):\n",
    "        res_g[e[0]].append(e[1])\n",
    "    return res_r, res_g"
   ]
  },
  {
   "cell_type": "code",
   "execution_count": 163,
   "id": "adjustable-squad",
   "metadata": {},
   "outputs": [],
   "source": [
    "def get_symbol_by_name(symbols, name):\n",
    "    return next(x for x in symbols if x.name == name)\n",
    "\n",
    "def get_symbols_to_value_mapping(symbols, names_values):\n",
    "    return {get_symbol_by_name(symbols, name): value for name, value in names_values.items()}\n",
    "\n",
    "def resolve_cricuit_with_replacement(evaluator, label, replacements_str):\n",
    "    replacements = get_symbols_to_value_mapping(evaluator.symbol_value_pairs[0][2].keys(), \n",
    "                                                replacements_str)\n",
    "    return evaluator.get_resolved_circuit(labels=label, symbols_to_override=replacements)\n"
   ]
  },
  {
   "cell_type": "code",
   "execution_count": 164,
   "id": "racial-alfred",
   "metadata": {},
   "outputs": [
    {
     "data": {
      "text/html": [
       "<pre style=\"overflow: auto; white-space: pre;\">(0, 0): ───H───@───────────────────────────────────────────────────────────────────────────────────────────────────────────────────────────────────────────────────────────────────────────────────────────────────────────────────────────────────────────────────────────────────────────────────────────────────────────────────────────────────────────\n",
       "               │\n",
       "(0, 1): ───────X───Z───Ry(theta0)───X────────────@───X─────────────────────────────────@───X───────────────────────────────────────────────────────────────────────────────────────────────────────────────────────────────────────────────────────────────────────────────────────────────────────────────────────────────────────────────────────────────\n",
       "                                                 │                                     │\n",
       "(0, 2): ────────────────────────────Ry(theta3)───X───X───Ry(theta4)───X───Ry(theta1)───X───X───Ry(theta2)───X───X────────────@───X─────────────────────────────────@───X───────────────────────────────────────────────────────────────────────────────────────────────────────────────────────────────────────────────────────────────────────────────────\n",
       "                                                                                                                             │                                     │\n",
       "(0, 3): ────────────────────────────────────────────────────────────────────────────────────────────────────────Ry(theta7)───X───X───Ry(theta8)───X───Ry(theta5)───X───X───Ry(theta6)───X───X─────────────@───X──────────────────────────────────@───X─────────────────────────────────────────────────────────────────────────────────────────────────────\n",
       "                                                                                                                                                                                                          │                                      │\n",
       "(0, 4): ────────────────────────────────────────────────────────────────────────────────────────────────────────────────────────────────────────────────────────────────────────────────────Ry(theta11)───X───X───Ry(theta12)───X───Ry(theta9)───X───X───Ry(theta10)───X───X─────────────@───X───────────────────────────────────@───X─────────────────────\n",
       "                                                                                                                                                                                                                                                                                         │                                       │\n",
       "(0, 5): ───────────────────────────────────────────────────────────────────────────────────────────────────────────────────────────────────────────────────────────────────────────────────────────────────────────────────────────────────────────────────────────────────Ry(theta15)───X───X───Ry(theta16)───X───Ry(theta13)───X───X───Ry(theta14)───X───</pre>"
      ],
      "text/plain": [
       "(0, 0): ───H───@───────────────────────────────────────────────────────────────────────────────────────────────────────────────────────────────────────────────────────────────────────────────────────────────────────────────────────────────────────────────────────────────────────────────────────────────────────────────────────────────────────────\n",
       "               │\n",
       "(0, 1): ───────X───Z───Ry(theta0)───X────────────@───X─────────────────────────────────@───X───────────────────────────────────────────────────────────────────────────────────────────────────────────────────────────────────────────────────────────────────────────────────────────────────────────────────────────────────────────────────────────────\n",
       "                                                 │                                     │\n",
       "(0, 2): ────────────────────────────Ry(theta3)───X───X───Ry(theta4)───X───Ry(theta1)───X───X───Ry(theta2)───X───X────────────@───X─────────────────────────────────@───X───────────────────────────────────────────────────────────────────────────────────────────────────────────────────────────────────────────────────────────────────────────────────\n",
       "                                                                                                                             │                                     │\n",
       "(0, 3): ────────────────────────────────────────────────────────────────────────────────────────────────────────Ry(theta7)───X───X───Ry(theta8)───X───Ry(theta5)───X───X───Ry(theta6)───X───X─────────────@───X──────────────────────────────────@───X─────────────────────────────────────────────────────────────────────────────────────────────────────\n",
       "                                                                                                                                                                                                          │                                      │\n",
       "(0, 4): ────────────────────────────────────────────────────────────────────────────────────────────────────────────────────────────────────────────────────────────────────────────────────Ry(theta11)───X───X───Ry(theta12)───X───Ry(theta9)───X───X───Ry(theta10)───X───X─────────────@───X───────────────────────────────────@───X─────────────────────\n",
       "                                                                                                                                                                                                                                                                                         │                                       │\n",
       "(0, 5): ───────────────────────────────────────────────────────────────────────────────────────────────────────────────────────────────────────────────────────────────────────────────────────────────────────────────────────────────────────────────────────────────────Ry(theta15)───X───X───Ry(theta16)───X───Ry(theta13)───X───X───Ry(theta14)───X───"
      ]
     },
     "execution_count": 164,
     "metadata": {},
     "output_type": "execute_result"
    }
   ],
   "source": [
    "not_resolved_circuit = trainer.gen_evaluator.circuit\n",
    "not_resolved_circuit"
   ]
  },
  {
   "cell_type": "code",
   "execution_count": 165,
   "id": "suitable-profession",
   "metadata": {},
   "outputs": [
    {
     "data": {
      "text/html": [
       "<pre style=\"overflow: auto; white-space: pre;\">(0, 0): ───H───@────────────────────────────────────────────────────────────────────────────────────────────────────────────────────────────────────────────────────────────────────────────────────────────────────────────────────────────────────────────────────────────────────────────────────────────────────────────────────────────────────────────\n",
       "               │\n",
       "(0, 1): ───────X───Z───Ry(0.502π)───X─────────────@───X──────────────────────────────────@───X──────────────────────────────────────────────────────────────────────────────────────────────────────────────────────────────────────────────────────────────────────────────────────────────────────────────────────────────────────────────────────────────\n",
       "                                                  │                                      │\n",
       "(0, 2): ────────────────────────────Ry(-0.053π)───X───X───Ry(-0.254π)───X───Ry(0.246π)───X───X───Ry(-0.047π)───X───X─────────────@───X──────────────────────────────────@───X───────────────────────────────────────────────────────────────────────────────────────────────────────────────────────────────────────────────────────────────────────────────\n",
       "                                                                                                                                 │                                      │\n",
       "(0, 3): ───────────────────────────────────────────────────────────────────────────────────────────────────────────Ry(-0.053π)───X───X───Ry(-0.248π)───X───Ry(0.251π)───X───X───Ry(-0.054π)───X───X────────────@───X──────────────────────────────────@───X─────────────────────────────────────────────────────────────────────────────────────────────────\n",
       "                                                                                                                                                                                                               │                                      │\n",
       "(0, 4): ──────────────────────────────────────────────────────────────────────────────────────────────────────────────────────────────────────────────────────────────────────────────────────────Ry(0.043π)───X───X───Ry(0.245π)───X───Ry(-0.256π)───X───X───Ry(0.05π)───X───X─────────────@───X──────────────────────────────────@───X────────────────────\n",
       "                                                                                                                                                                                                                                                                                            │                                      │\n",
       "(0, 5): ──────────────────────────────────────────────────────────────────────────────────────────────────────────────────────────────────────────────────────────────────────────────────────────────────────────────────────────────────────────────────────────────────────Ry(-0.066π)───X───X───Ry(-0.252π)───X───Ry(0.453π)───X───X───Ry(0.999π)───X───</pre>"
      ],
      "text/plain": [
       "(0, 0): ───H───@────────────────────────────────────────────────────────────────────────────────────────────────────────────────────────────────────────────────────────────────────────────────────────────────────────────────────────────────────────────────────────────────────────────────────────────────────────────────────────────────────────────\n",
       "               │\n",
       "(0, 1): ───────X───Z───Ry(0.502π)───X─────────────@───X──────────────────────────────────@───X──────────────────────────────────────────────────────────────────────────────────────────────────────────────────────────────────────────────────────────────────────────────────────────────────────────────────────────────────────────────────────────────\n",
       "                                                  │                                      │\n",
       "(0, 2): ────────────────────────────Ry(-0.053π)───X───X───Ry(-0.254π)───X───Ry(0.246π)───X───X───Ry(-0.047π)───X───X─────────────@───X──────────────────────────────────@───X───────────────────────────────────────────────────────────────────────────────────────────────────────────────────────────────────────────────────────────────────────────────\n",
       "                                                                                                                                 │                                      │\n",
       "(0, 3): ───────────────────────────────────────────────────────────────────────────────────────────────────────────Ry(-0.053π)───X───X───Ry(-0.248π)───X───Ry(0.251π)───X───X───Ry(-0.054π)───X───X────────────@───X──────────────────────────────────@───X─────────────────────────────────────────────────────────────────────────────────────────────────\n",
       "                                                                                                                                                                                                               │                                      │\n",
       "(0, 4): ──────────────────────────────────────────────────────────────────────────────────────────────────────────────────────────────────────────────────────────────────────────────────────────Ry(0.043π)───X───X───Ry(0.245π)───X───Ry(-0.256π)───X───X───Ry(0.05π)───X───X─────────────@───X──────────────────────────────────@───X────────────────────\n",
       "                                                                                                                                                                                                                                                                                            │                                      │\n",
       "(0, 5): ──────────────────────────────────────────────────────────────────────────────────────────────────────────────────────────────────────────────────────────────────────────────────────────────────────────────────────────────────────────────────────────────────────Ry(-0.066π)───X───X───Ry(-0.252π)───X───Ry(0.453π)───X───X───Ry(0.999π)───X───"
      ]
     },
     "execution_count": 165,
     "metadata": {},
     "output_type": "execute_result"
    }
   ],
   "source": [
    "resolved_circuit = trainer.gen_evaluator.get_resolved_circuit()\n",
    "resolved_circuit"
   ]
  },
  {
   "cell_type": "code",
   "execution_count": 166,
   "id": "neutral-paradise",
   "metadata": {
    "scrolled": false
   },
   "outputs": [
    {
     "data": {
      "text/html": [
       "<pre style=\"overflow: auto; white-space: pre;\">(0, 0): ───H───@────────────────────────────────────────────────────────────────────────────────────────────────────────────────────────────────────────────────────────────────────────────────────────────────────────────────────────────────────────────────────────────────────────────────────────────────────────────────────────────────────────────\n",
       "               │\n",
       "(0, 1): ───────X───Z───Ry(0.502π)───X─────────────@───X──────────────────────────────────@───X──────────────────────────────────────────────────────────────────────────────────────────────────────────────────────────────────────────────────────────────────────────────────────────────────────────────────────────────────────────────────────────────\n",
       "                                                  │                                      │\n",
       "(0, 2): ────────────────────────────Ry(-0.053π)───X───X───Ry(-0.254π)───X───Ry(0.246π)───X───X───Ry(-0.047π)───X───X─────────────@───X──────────────────────────────────@───X───────────────────────────────────────────────────────────────────────────────────────────────────────────────────────────────────────────────────────────────────────────────\n",
       "                                                                                                                                 │                                      │\n",
       "(0, 3): ───────────────────────────────────────────────────────────────────────────────────────────────────────────Ry(-0.053π)───X───X───Ry(-0.248π)───X───Ry(0.251π)───X───X───Ry(-0.054π)───X───X────────────@───X──────────────────────────────────@───X─────────────────────────────────────────────────────────────────────────────────────────────────\n",
       "                                                                                                                                                                                                               │                                      │\n",
       "(0, 4): ──────────────────────────────────────────────────────────────────────────────────────────────────────────────────────────────────────────────────────────────────────────────────────────Ry(0.043π)───X───X───Ry(0.245π)───X───Ry(-0.256π)───X───X───Ry(0.05π)───X───X─────────────@───X──────────────────────────────────@───X────────────────────\n",
       "                                                                                                                                                                                                                                                                                            │                                      │\n",
       "(0, 5): ──────────────────────────────────────────────────────────────────────────────────────────────────────────────────────────────────────────────────────────────────────────────────────────────────────────────────────────────────────────────────────────────────────Ry(-0.066π)───X───X───Ry(-0.252π)───X───Ry(0.453π)───X───X───Ry(0.999π)───X───</pre>"
      ],
      "text/plain": [
       "(0, 0): ───H───@────────────────────────────────────────────────────────────────────────────────────────────────────────────────────────────────────────────────────────────────────────────────────────────────────────────────────────────────────────────────────────────────────────────────────────────────────────────────────────────────────────────\n",
       "               │\n",
       "(0, 1): ───────X───Z───Ry(0.502π)───X─────────────@───X──────────────────────────────────@───X──────────────────────────────────────────────────────────────────────────────────────────────────────────────────────────────────────────────────────────────────────────────────────────────────────────────────────────────────────────────────────────────\n",
       "                                                  │                                      │\n",
       "(0, 2): ────────────────────────────Ry(-0.053π)───X───X───Ry(-0.254π)───X───Ry(0.246π)───X───X───Ry(-0.047π)───X───X─────────────@───X──────────────────────────────────@───X───────────────────────────────────────────────────────────────────────────────────────────────────────────────────────────────────────────────────────────────────────────────\n",
       "                                                                                                                                 │                                      │\n",
       "(0, 3): ───────────────────────────────────────────────────────────────────────────────────────────────────────────Ry(-0.053π)───X───X───Ry(-0.248π)───X───Ry(0.251π)───X───X───Ry(-0.054π)───X───X────────────@───X──────────────────────────────────@───X─────────────────────────────────────────────────────────────────────────────────────────────────\n",
       "                                                                                                                                                                                                               │                                      │\n",
       "(0, 4): ──────────────────────────────────────────────────────────────────────────────────────────────────────────────────────────────────────────────────────────────────────────────────────────Ry(0.043π)───X───X───Ry(0.245π)───X───Ry(-0.256π)───X───X───Ry(0.05π)───X───X─────────────@───X──────────────────────────────────@───X────────────────────\n",
       "                                                                                                                                                                                                                                                                                            │                                      │\n",
       "(0, 5): ──────────────────────────────────────────────────────────────────────────────────────────────────────────────────────────────────────────────────────────────────────────────────────────────────────────────────────────────────────────────────────────────────────Ry(-0.066π)───X───X───Ry(-0.252π)───X───Ry(0.453π)───X───X───Ry(0.999π)───X───"
      ]
     },
     "execution_count": 166,
     "metadata": {},
     "output_type": "execute_result"
    }
   ],
   "source": [
    "resolved_replaced_circuit = resolve_cricuit_with_replacement(\n",
    "    trainer.gen_evaluator, \n",
    "    None, \n",
    "    {\n",
    "        'theta13': 1.4235, \n",
    "        'theta14': 3.14\n",
    "    }\n",
    ")\n",
    "resolved_replaced_circuit"
   ]
  },
  {
   "cell_type": "code",
   "execution_count": 167,
   "id": "excess-cologne",
   "metadata": {},
   "outputs": [
    {
     "data": {
      "text/plain": [
       "{'Z((0, 1))*X((0, 4))': 0.058502197,\n",
       " 'Z((0, 1))*Z((0, 4))': 0.02933113,\n",
       " 'X((0, 4))*Z((0, 5))': -0.003926903,\n",
       " 'Z((0, 4))*X((0, 5))': -0.7818286,\n",
       " 'Z((0, 4))*Z((0, 5))': 0.16762531,\n",
       " 'Y((0, 4))*Y((0, 5))': 0.0032107122,\n",
       " 'Z((0, 3))*X((0, 4))': 0.5750386,\n",
       " 'Z((0, 3))*Z((0, 4))': 0.28829774,\n",
       " 'X((0, 0))*X((0, 4))': -0.05850122,\n",
       " 'X((0, 0))*Z((0, 4))': -0.02933062,\n",
       " 'Z((0, 2))*X((0, 4))': 0.18967299,\n",
       " 'Z((0, 2))*Z((0, 4))': 0.09509407,\n",
       " 'Z((0, 1))*X((0, 5))': -0.02293596,\n",
       " 'Z((0, 1))*Z((0, 5))': 0.0048976922,\n",
       " 'Z((0, 1))*Z((0, 3))': 0.10173639,\n",
       " 'X((0, 0))*Z((0, 1))': -0.99998343,\n",
       " 'Z((0, 0))*Z((0, 1))': 0.0057745,\n",
       " 'Z((0, 1))*X((0, 2))': 0.0032873005,\n",
       " 'Z((0, 1))*Z((0, 2))': 0.30844012,\n",
       " 'Z((0, 3))*X((0, 5))': -0.22588156,\n",
       " 'Z((0, 3))*Z((0, 5))': 0.04606787,\n",
       " 'X((0, 0))*X((0, 5))': 0.022935592,\n",
       " 'X((0, 0))*Z((0, 5))': -0.004897602,\n",
       " 'Z((0, 2))*X((0, 5))': -0.07446152,\n",
       " 'Z((0, 2))*Z((0, 5))': 0.015404998,\n",
       " 'X((0, 0))*Z((0, 3))': -0.10173467,\n",
       " 'Z((0, 2))*X((0, 3))': -0.0020849556,\n",
       " 'Z((0, 2))*Z((0, 3))': 0.3298442,\n",
       " 'X((0, 0))*X((0, 2))': -0.0032872856,\n",
       " 'X((0, 0))*Z((0, 2))': -0.30843496,\n",
       " 'Z((0, 0))*Z((0, 2))': 0.0017810892,\n",
       " 'X((0, 4))': 0.0024114233,\n",
       " 'Z((0, 4))': -0.0010974836,\n",
       " 'X((0, 5))': -0.124553084,\n",
       " 'Z((0, 5))': -0.58748084,\n",
       " 'Z((0, 3))': 0.0035285372}"
      ]
     },
     "execution_count": 167,
     "metadata": {},
     "output_type": "execute_result"
    }
   ],
   "source": [
    "get_filtered_expectatoins(resolved_replaced_circuit, trainer)"
   ]
  },
  {
   "cell_type": "code",
   "execution_count": null,
   "id": "incident-conspiracy",
   "metadata": {},
   "outputs": [],
   "source": []
  },
  {
   "cell_type": "code",
   "execution_count": null,
   "id": "competent-charm",
   "metadata": {},
   "outputs": [],
   "source": []
  },
  {
   "cell_type": "code",
   "execution_count": null,
   "id": "composite-royalty",
   "metadata": {},
   "outputs": [],
   "source": []
  }
 ],
 "metadata": {
  "kernelspec": {
   "display_name": "Python 3",
   "language": "python",
   "name": "python3"
  },
  "language_info": {
   "codemirror_mode": {
    "name": "ipython",
    "version": 3
   },
   "file_extension": ".py",
   "mimetype": "text/x-python",
   "name": "python",
   "nbconvert_exporter": "python",
   "pygments_lexer": "ipython3",
   "version": "3.8.7"
  }
 },
 "nbformat": 4,
 "nbformat_minor": 5
}
