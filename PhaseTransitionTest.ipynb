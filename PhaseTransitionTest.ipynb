{
 "cells": [
  {
   "cell_type": "code",
   "execution_count": 1,
   "metadata": {},
   "outputs": [],
   "source": [
    "# Test of the circuit from \"Crossing a topological phase transition with a quantum computer\" (https://arxiv.org/pdf/1910.05351.pdf)"
   ]
  },
  {
   "cell_type": "code",
   "execution_count": 2,
   "metadata": {},
   "outputs": [],
   "source": [
    "from typing import Any\n",
    "\n",
    "import sympy\n",
    "import math\n",
    "import tensorflow as tf\n",
    "import tensorflow_quantum as tfq\n",
    "\n",
    "import cirq\n",
    "import numpy as np\n",
    "from cirq import GridQubit, ops\n",
    "from qsgenerator.phase.analitical import construct_hamiltonian, get_theta_v, get_theta_w, get_theta_r\n",
    "from qsgenerator.phase.circuits import build_ground_state_circuit, build_u1_gate, build_u_gate\n"
   ]
  },
  {
   "cell_type": "code",
   "execution_count": 3,
   "metadata": {},
   "outputs": [],
   "source": [
    "size = 5 # size of quantum circuit excluding boundary qubits"
   ]
  },
  {
   "cell_type": "code",
   "execution_count": 4,
   "metadata": {},
   "outputs": [],
   "source": [
    "g = -1 # G parameter from the paper "
   ]
  },
  {
   "cell_type": "code",
   "execution_count": 5,
   "metadata": {},
   "outputs": [],
   "source": [
    "H = construct_hamiltonian(size-2, g)\n",
    "lam, V = np.linalg.eigh(H)\n",
    "\n",
    "# ground state wavefunction\n",
    "psi = V[:, 0] / np.linalg.norm(V[:, 0])"
   ]
  },
  {
   "cell_type": "code",
   "execution_count": 6,
   "metadata": {},
   "outputs": [],
   "source": [
    "real, real_symbols = build_ground_state_circuit(size=size)"
   ]
  },
  {
   "cell_type": "code",
   "execution_count": 7,
   "metadata": {},
   "outputs": [],
   "source": [
    "resolver = cirq.ParamResolver({'theta_v': get_theta_v(g), 'theta_w': get_theta_w(g), 'theta_r': get_theta_r(g)})"
   ]
  },
  {
   "cell_type": "code",
   "execution_count": 8,
   "metadata": {},
   "outputs": [],
   "source": [
    "resolved = cirq.resolve_parameters(real, resolver)"
   ]
  },
  {
   "cell_type": "code",
   "execution_count": 9,
   "metadata": {},
   "outputs": [],
   "source": [
    "final_state = cirq.final_state_vector(resolved)"
   ]
  },
  {
   "cell_type": "code",
   "execution_count": 10,
   "metadata": {},
   "outputs": [
    {
     "data": {
      "text/plain": "((-1.257285564548738e-08,\n  array([-3.4948137e-08+0.j, -5.0000000e-01+0.j, -5.1457745e-09+0.j,\n          4.9999997e-01+0.j, -3.4907121e-08+0.j, -5.0000000e-01+0.j,\n          5.1047597e-09+0.j, -4.9999997e-01+0.j], dtype=complex64)),\n (0.24999959766864777,\n  array([-0.4247757 +0.j,  0.2637529 +0.j,  0.42477572+0.j,  0.26375294+0.j,\n          0.4247757 +0.j, -0.2637529 +0.j,  0.42477572+0.j,  0.26375294+0.j],\n        dtype=complex64)),\n (0.24999961256980896,\n  array([ 0.42587095+0.j, -0.26198074+0.j, -0.42587098+0.j, -0.26198074+0.j,\n          0.42587098+0.j, -0.26198074+0.j,  0.42587098+0.j,  0.26198074+0.j],\n        dtype=complex64)),\n (0.24999964237213135,\n  array([ 0.2637529 +0.j,  0.42477566+0.j, -0.26375294+0.j,  0.42477575+0.j,\n         -0.2637529 +0.j, -0.42477566+0.j, -0.26375294+0.j,  0.42477575+0.j],\n        dtype=complex64)),\n (0.24999965727329254,\n  array([-0.26198074+0.j, -0.42587095+0.j,  0.26198074+0.j, -0.425871  +0.j,\n         -0.2619807 +0.j, -0.42587095+0.j, -0.26198074+0.j,  0.425871  +0.j],\n        dtype=complex64)))"
     },
     "execution_count": 10,
     "metadata": {},
     "output_type": "execute_result"
    }
   ],
   "source": [
    "cirq.partial_trace_of_state_vector_as_mixture(final_state, [1,2,3])"
   ]
  },
  {
   "cell_type": "code",
   "execution_count": 11,
   "metadata": {},
   "outputs": [
    {
     "data": {
      "text/plain": "array([ 0.35355339, -0.35355339, -0.35355339, -0.35355339, -0.35355339,\n       -0.35355339, -0.35355339,  0.35355339])"
     },
     "execution_count": 11,
     "metadata": {},
     "output_type": "execute_result"
    }
   ],
   "source": [
    "psi"
   ]
  },
  {
   "cell_type": "code",
   "execution_count": 12,
   "metadata": {},
   "outputs": [
    {
     "data": {
      "text/plain": "array([[ 0.40824829+0.j,  0.57735027+0.j,  0.40824829+0.j,\n         0.57735027+0.j],\n       [ 0.57735027+0.j, -0.40824829+0.j,  0.57735027+0.j,\n        -0.40824829+0.j],\n       [ 0.57735027+0.j,  0.40824829+0.j, -0.57735027+0.j,\n        -0.40824829+0.j],\n       [-0.40824829+0.j,  0.57735027+0.j,  0.40824829+0.j,\n        -0.57735027+0.j]])"
     },
     "execution_count": 12,
     "metadata": {},
     "output_type": "execute_result"
    }
   ],
   "source": [
    "g = -0.5\n",
    "theta_w = get_theta_w(g)\n",
    "theta_v = get_theta_v(g)\n",
    "theta_r = get_theta_r(g)\n",
    "\n",
    "q1, q2 = cirq.GridQubit.rect(1, 2)\n",
    "cirq.unitary(build_u1_gate(q1, q2, theta_r))"
   ]
  },
  {
   "cell_type": "code",
   "execution_count": 12,
   "metadata": {},
   "outputs": [],
   "source": []
  }
 ],
 "metadata": {
  "kernelspec": {
   "display_name": "Python 3",
   "language": "python",
   "name": "python3"
  },
  "language_info": {
   "codemirror_mode": {
    "name": "ipython",
    "version": 3
   },
   "file_extension": ".py",
   "mimetype": "text/x-python",
   "name": "python",
   "nbconvert_exporter": "python",
   "pygments_lexer": "ipython3",
   "version": "3.8.6"
  }
 },
 "nbformat": 4,
 "nbformat_minor": 1
}