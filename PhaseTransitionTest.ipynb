{
 "cells": [
  {
   "cell_type": "code",
   "execution_count": null,
   "metadata": {},
   "outputs": [],
   "source": [
    "# Test of the circuit from \"Crossing a topological phase transition with a quantum computer\" (https://arxiv.org/pdf/1910.05351.pdf)"
   ]
  },
  {
   "cell_type": "code",
   "execution_count": 77,
   "metadata": {},
   "outputs": [],
   "source": [
    "from typing import Any\n",
    "\n",
    "import sympy\n",
    "import math\n",
    "import tensorflow as tf\n",
    "import tensorflow_quantum as tfq\n",
    "\n",
    "import cirq\n",
    "import numpy as np\n",
    "from cirq import GridQubit, ops\n",
    "from qugans.phase_transition import construct_hamiltonian, build_ground_state_circuit, \\\n",
    "    get_theta_v, get_theta_w, get_theta_r, U3\n"
   ]
  },
  {
   "cell_type": "code",
   "execution_count": 57,
   "metadata": {},
   "outputs": [],
   "source": [
    "size = 5 # size of quantum circuit excluding boundary qubits"
   ]
  },
  {
   "cell_type": "code",
   "execution_count": 81,
   "metadata": {},
   "outputs": [],
   "source": [
    "g = -0.5 # G parameter from the paper "
   ]
  },
  {
   "cell_type": "code",
   "execution_count": 82,
   "metadata": {},
   "outputs": [],
   "source": [
    "H = construct_hamiltonian(size-2, g)\n",
    "lam, V = np.linalg.eigh(H)\n",
    "\n",
    "# ground state wavefunction\n",
    "psi = V[:, 0] / np.linalg.norm(V[:, 0])"
   ]
  },
  {
   "cell_type": "code",
   "execution_count": 83,
   "metadata": {},
   "outputs": [],
   "source": [
    "real, real_symbols = build_ground_state_circuit(size=size)"
   ]
  },
  {
   "cell_type": "code",
   "execution_count": 84,
   "metadata": {},
   "outputs": [],
   "source": [
    "resolver = cirq.ParamResolver({'theta_v': get_theta_v(g), 'theta_w': get_theta_w(g), 'theta_r': get_theta_r(g)})"
   ]
  },
  {
   "cell_type": "code",
   "execution_count": 85,
   "metadata": {},
   "outputs": [],
   "source": [
    "resolved = cirq.resolve_parameters(real, resolver)"
   ]
  },
  {
   "cell_type": "code",
   "execution_count": 72,
   "metadata": {},
   "outputs": [],
   "source": [
    "final_state = cirq.final_state_vector(resolved)"
   ]
  },
  {
   "cell_type": "code",
   "execution_count": 73,
   "metadata": {},
   "outputs": [
    {
     "data": {
      "text/plain": [
       "((0.49999991059303284,\n",
       "  array([0.+0.j, 0.+0.j, 1.+0.j, 0.+0.j, 0.+0.j, 0.+0.j, 0.+0.j, 0.+0.j],\n",
       "        dtype=complex64)),\n",
       " (0.49999991059303284,\n",
       "  array([0.+0.j, 0.+0.j, 0.+0.j, 0.+0.j, 0.+0.j, 1.+0.j, 0.+0.j, 0.+0.j],\n",
       "        dtype=complex64)))"
      ]
     },
     "execution_count": 73,
     "metadata": {},
     "output_type": "execute_result"
    }
   ],
   "source": [
    "cirq.partial_trace_of_state_vector_as_mixture(final_state, [1,2,3])"
   ]
  },
  {
   "cell_type": "code",
   "execution_count": 74,
   "metadata": {},
   "outputs": [
    {
     "data": {
      "text/plain": [
       "array([1., 0., 0., 0., 0., 0., 0., 0.])"
      ]
     },
     "execution_count": 74,
     "metadata": {},
     "output_type": "execute_result"
    }
   ],
   "source": [
    "psi"
   ]
  },
  {
   "cell_type": "code",
   "execution_count": 88,
   "metadata": {},
   "outputs": [
    {
     "data": {
      "text/plain": [
       "array([[ 0.40824829+0.00000000e+00j,  0.57735027-7.07050159e-17j,\n",
       "         0.40824829+0.00000000e+00j,  0.57735027-7.07050159e-17j],\n",
       "       [ 0.57735027+0.00000000e+00j, -0.40824829+4.99959962e-17j,\n",
       "         0.57735027+0.00000000e+00j, -0.40824829+4.99959962e-17j],\n",
       "       [ 0.57735027-7.07050159e-17j,  0.40824829+0.00000000e+00j,\n",
       "        -0.57735027+7.07050159e-17j, -0.40824829+0.00000000e+00j],\n",
       "       [-0.40824829+4.99959962e-17j,  0.57735027+0.00000000e+00j,\n",
       "         0.40824829-4.99959962e-17j, -0.57735027+0.00000000e+00j]])"
      ]
     },
     "execution_count": 88,
     "metadata": {},
     "output_type": "execute_result"
    }
   ],
   "source": [
    "theta_w = get_theta_w(g)\n",
    "theta_v = get_theta_v(g)\n",
    "theta_r = get_theta_r(g)\n",
    "g = -0.5\n",
    "q1, q2 = cirq.GridQubit.rect(1, 2)\n",
    "cirq.unitary(cirq.Circuit(\n",
    "        cirq.H(q1),\n",
    "        cirq.CNOT(q1, q2),\n",
    "        U3(theta_r, 0, np.pi).on(q2)\n",
    "    ))"
   ]
  },
  {
   "cell_type": "code",
   "execution_count": null,
   "metadata": {},
   "outputs": [],
   "source": []
  }
 ],
 "metadata": {
  "kernelspec": {
   "display_name": "Python 3",
   "language": "python",
   "name": "python3"
  },
  "language_info": {
   "codemirror_mode": {
    "name": "ipython",
    "version": 3
   },
   "file_extension": ".py",
   "mimetype": "text/x-python",
   "name": "python",
   "nbconvert_exporter": "python",
   "pygments_lexer": "ipython3",
   "version": "3.8.6"
  }
 },
 "nbformat": 4,
 "nbformat_minor": 1
}
