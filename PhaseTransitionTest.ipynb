{
 "cells": [
  {
   "cell_type": "code",
   "execution_count": 1,
   "metadata": {},
   "outputs": [],
   "source": [
    "# Test of the circuit from \"Crossing a topological phase transition with a quantum computer\" (https://arxiv.org/pdf/1910.05351.pdf)"
   ]
  },
  {
   "cell_type": "code",
   "execution_count": 1,
   "metadata": {},
   "outputs": [],
   "source": [
    "from typing import Any\n",
    "\n",
    "import sympy\n",
    "import math\n",
    "import tensorflow as tf\n",
    "import tensorflow_quantum as tfq\n",
    "\n",
    "import cirq\n",
    "import numpy as np\n",
    "from cirq import GridQubit, ops\n",
    "from qsgenerator.phase.analitical import construct_hamiltonian, get_theta_v, get_theta_w, get_theta_r\n",
    "from qsgenerator.phase.circuits import build_ground_state_circuit, build_u1_gate, build_u_gate\n",
    "from qsgenerator.states.simple_state_circuits import build_x_rotation_state\n"
   ]
  },
  {
   "cell_type": "code",
   "execution_count": 52,
   "metadata": {},
   "outputs": [],
   "source": [
    "size = 3# size of quantum circuit excluding boundary qubits"
   ]
  },
  {
   "cell_type": "code",
   "execution_count": 113,
   "metadata": {},
   "outputs": [],
   "source": [
    "g = -1 # G parameter from the paper "
   ]
  },
  {
   "cell_type": "code",
   "execution_count": 114,
   "metadata": {},
   "outputs": [],
   "source": [
    "H = construct_hamiltonian(size, g)\n",
    "lam, V = np.linalg.eigh(H)\n",
    "\n",
    "# ground state wavefunction\n",
    "psi = V[:, 0] / np.linalg.norm(V[:, 0])"
   ]
  },
  {
   "cell_type": "code",
   "execution_count": 115,
   "metadata": {},
   "outputs": [],
   "source": [
    "real, real_symbols = build_ground_state_circuit(size=size)"
   ]
  },
  {
   "cell_type": "code",
   "execution_count": 116,
   "metadata": {},
   "outputs": [],
   "source": [
    "resolver = cirq.ParamResolver({'theta_v': get_theta_v(g), 'theta_w': get_theta_w(g), 'theta_r': get_theta_r(g)})"
   ]
  },
  {
   "cell_type": "code",
   "execution_count": 117,
   "metadata": {},
   "outputs": [],
   "source": [
    "resolved = cirq.resolve_parameters(real, resolver)"
   ]
  },
  {
   "cell_type": "code",
   "execution_count": 118,
   "metadata": {},
   "outputs": [],
   "source": [
    "final_state = cirq.final_state_vector(resolved)"
   ]
  },
  {
   "cell_type": "code",
   "execution_count": 119,
   "metadata": {},
   "outputs": [
    {
     "data": {
      "text/plain": [
       "array([ 0.1767766 +0.j,  0.1767766 +0.j,  0.1767766 +0.j, -0.17677659+0.j,\n",
       "       -0.17677662+0.j, -0.17677662+0.j,  0.17677665+0.j, -0.17677662+0.j,\n",
       "       -0.1767766 +0.j, -0.1767766 +0.j, -0.1767766 +0.j,  0.17677659+0.j,\n",
       "       -0.17677662+0.j, -0.17677662+0.j,  0.17677665+0.j, -0.17677662+0.j,\n",
       "       -0.1767766 +0.j, -0.1767766 +0.j, -0.1767766 +0.j,  0.17677659+0.j,\n",
       "        0.17677662+0.j,  0.17677662+0.j, -0.17677665+0.j,  0.17677662+0.j,\n",
       "       -0.1767766 +0.j, -0.1767766 +0.j, -0.1767766 +0.j,  0.17677659+0.j,\n",
       "       -0.17677662+0.j, -0.17677662+0.j,  0.17677665+0.j, -0.17677662+0.j],\n",
       "      dtype=complex64)"
      ]
     },
     "execution_count": 119,
     "metadata": {},
     "output_type": "execute_result"
    }
   ],
   "source": [
    "final_state"
   ]
  },
  {
   "cell_type": "code",
   "execution_count": 120,
   "metadata": {},
   "outputs": [
    {
     "data": {
      "text/plain": [
       "((0.2499997466802597,\n",
       "  array([ 0.38151   +0.j, -0.3231874 +0.j, -0.38151002+0.j, -0.32318747+0.j,\n",
       "         -0.38151   +0.j,  0.3231874 +0.j, -0.38151002+0.j, -0.32318747+0.j],\n",
       "        dtype=complex64)),\n",
       " (0.2499997466802597,\n",
       "  array([ 0.39806467+0.j, -0.30256322+0.j, -0.3980647 +0.j, -0.30256325+0.j,\n",
       "          0.39806467+0.j, -0.30256322+0.j,  0.3980647 +0.j,  0.30256325+0.j],\n",
       "        dtype=complex64)),\n",
       " (0.2499997764825821,\n",
       "  array([ 0.32318744-0.j,  0.38150996+0.j, -0.32318747+0.j,  0.38151008+0.j,\n",
       "         -0.3231874 +0.j, -0.38150993+0.j, -0.32318744+0.j,  0.38151002+0.j],\n",
       "        dtype=complex64)),\n",
       " (0.2499997764825821,\n",
       "  array([-0.3025632 +0.j, -0.3980646 +0.j,  0.30256325+0.j, -0.3980647 +0.j,\n",
       "         -0.30256322+0.j, -0.39806464+0.j, -0.30256328+0.j,  0.39806473+0.j],\n",
       "        dtype=complex64)))"
      ]
     },
     "execution_count": 120,
     "metadata": {},
     "output_type": "execute_result"
    }
   ],
   "source": [
    "partials = cirq.partial_trace_of_state_vector_as_mixture(final_state, [1,2,3])\n",
    "partials"
   ]
  },
  {
   "cell_type": "code",
   "execution_count": 121,
   "metadata": {},
   "outputs": [
    {
     "data": {
      "text/plain": [
       "array([ 0.35355339, -0.35355339, -0.35355339, -0.35355339, -0.35355339,\n",
       "       -0.35355339, -0.35355339,  0.35355339])"
      ]
     },
     "execution_count": 121,
     "metadata": {},
     "output_type": "execute_result"
    }
   ],
   "source": [
    "psi"
   ]
  },
  {
   "cell_type": "code",
   "execution_count": 122,
   "metadata": {},
   "outputs": [
    {
     "name": "stdout",
     "output_type": "stream",
     "text": [
      "0.2499997466802597 0.29109976691641815\n",
      "0.2499997466802597 0.1830890225454351\n",
      "0.2499997764825821 0.2089002146716102\n",
      "0.2499997764825821 0.3169109914231965\n"
     ]
    }
   ],
   "source": [
    "for p in partials:\n",
    "    print(p[0], cirq.fidelity(p[1], psi))"
   ]
  },
  {
   "cell_type": "code",
   "execution_count": 12,
   "metadata": {},
   "outputs": [
    {
     "data": {
      "text/plain": [
       "array([[ 0.40824829+0.j,  0.57735027+0.j,  0.40824829+0.j,\n",
       "         0.57735027+0.j],\n",
       "       [ 0.57735027+0.j, -0.40824829+0.j,  0.57735027+0.j,\n",
       "        -0.40824829+0.j],\n",
       "       [ 0.57735027+0.j,  0.40824829+0.j, -0.57735027+0.j,\n",
       "        -0.40824829+0.j],\n",
       "       [-0.40824829+0.j,  0.57735027+0.j,  0.40824829+0.j,\n",
       "        -0.57735027+0.j]])"
      ]
     },
     "execution_count": 12,
     "metadata": {},
     "output_type": "execute_result"
    }
   ],
   "source": [
    "g = -0.5\n",
    "theta_w = get_theta_w(g)\n",
    "theta_v = get_theta_v(g)\n",
    "theta_r = get_theta_r(g)\n",
    "\n",
    "q1, q2 = cirq.GridQubit.rect(1, 2)\n",
    "cirq.unitary(build_u1_gate(q1, q2, theta_r))"
   ]
  },
  {
   "cell_type": "code",
   "execution_count": 27,
   "metadata": {},
   "outputs": [],
   "source": [
    "g = -1"
   ]
  },
  {
   "cell_type": "code",
   "execution_count": 28,
   "metadata": {},
   "outputs": [],
   "source": [
    "size\n",
    "x_rot, x_rot_symbols = build_x_rotation_state(size=size)"
   ]
  },
  {
   "cell_type": "code",
   "execution_count": 29,
   "metadata": {},
   "outputs": [],
   "source": [
    "x_resolver = cirq.ParamResolver({'r0': get_theta_v(g), 'r1': get_theta_w(g), 'r2': get_theta_r(g)})"
   ]
  },
  {
   "cell_type": "code",
   "execution_count": 30,
   "metadata": {
    "scrolled": true
   },
   "outputs": [],
   "source": [
    "x_resolved = cirq.resolve_parameters(x_rot, x_resolver)"
   ]
  },
  {
   "cell_type": "code",
   "execution_count": 31,
   "metadata": {},
   "outputs": [
    {
     "data": {
      "text/plain": [
       "array([ 0.24999999+0.j        ,  0.        -0.24999999j,\n",
       "        0.        -0.60355335j, -0.60355335+0.j        ,\n",
       "        0.        -0.10355338j, -0.10355338+0.j        ,\n",
       "       -0.24999999+0.j        ,  0.        +0.24999999j], dtype=complex64)"
      ]
     },
     "execution_count": 31,
     "metadata": {},
     "output_type": "execute_result"
    }
   ],
   "source": [
    "cirq.final_state_vector(x_resolved)"
   ]
  },
  {
   "cell_type": "code",
   "execution_count": null,
   "metadata": {},
   "outputs": [],
   "source": []
  }
 ],
 "metadata": {
  "kernelspec": {
   "display_name": "Python 3",
   "language": "python",
   "name": "python3"
  },
  "language_info": {
   "codemirror_mode": {
    "name": "ipython",
    "version": 3
   },
   "file_extension": ".py",
   "mimetype": "text/x-python",
   "name": "python",
   "nbconvert_exporter": "python",
   "pygments_lexer": "ipython3",
   "version": "3.8.6"
  }
 },
 "nbformat": 4,
 "nbformat_minor": 1
}
