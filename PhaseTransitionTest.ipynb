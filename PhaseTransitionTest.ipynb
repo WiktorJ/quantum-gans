{
 "cells": [
  {
   "cell_type": "code",
   "execution_count": 1,
   "metadata": {},
   "outputs": [],
   "source": [
    "# Test of the circuit from \"Crossing a topological phase transition with a quantum computer\" (https://arxiv.org/pdf/1910.05351.pdf)"
   ]
  },
  {
   "cell_type": "code",
   "execution_count": 3,
   "metadata": {},
   "outputs": [],
   "source": [
    "from typing import Any\n",
    "\n",
    "import sympy\n",
    "import math\n",
    "import tensorflow as tf\n",
    "import tensorflow_quantum as tfq\n",
    "\n",
    "import cirq\n",
    "import numpy as np\n",
    "from cirq import GridQubit, ops\n",
    "from qsgenerator.utils import map_to_radians\n",
    "from qsgenerator.phase.analitical import construct_hamiltonian, get_theta_v, get_theta_w, get_theta_r\n",
    "from qsgenerator.phase.circuits import build_ground_state_circuit, build_u1_gate, build_u_gate\n",
    "from qsgenerator.states.simple_state_circuits import build_x_rotation_state, get_arcsin_x_rotation_provider\n"
   ]
  },
  {
   "cell_type": "code",
   "execution_count": 38,
   "metadata": {},
   "outputs": [],
   "source": [
    "size = 5# size of quantum circuit excluding boundary qubits"
   ]
  },
  {
   "cell_type": "code",
   "execution_count": 39,
   "metadata": {},
   "outputs": [],
   "source": [
    "g = -0.5 # G parameter from the paper "
   ]
  },
  {
   "cell_type": "code",
   "execution_count": 40,
   "metadata": {},
   "outputs": [],
   "source": [
    "H = construct_hamiltonian(size, g)\n",
    "lam, V = np.linalg.eigh(H)\n",
    "\n",
    "# ground state wavefunction\n",
    "psi = V[:, 0] / np.linalg.norm(V[:, 0])"
   ]
  },
  {
   "cell_type": "code",
   "execution_count": 22,
   "metadata": {},
   "outputs": [],
   "source": [
    "real, real_symbols = build_ground_state_circuit(size=size, full_circuit=True)"
   ]
  },
  {
   "cell_type": "code",
   "execution_count": 23,
   "metadata": {},
   "outputs": [
    {
     "data": {
      "text/html": [
       "<pre style=\"overflow: auto; white-space: pre;\">(0, 0): ───H───@─────────────────────────────────────────────────────────────────────────────────────────────────────────────────────────────────────────────────────────────────────────────────────────────────────────────────────────────────────────────────────────────────────\n",
       "               │\n",
       "(0, 1): ───────X───Z───Ry(theta_r)───X─────────────@───X───────────────────────────────────@───X─────────────────────────────────────────────────────────────────────────────────────────────────────────────────────────────────────────────────────────────────────────────────────\n",
       "                                                   │                                       │\n",
       "(0, 2): ─────────────────────────────Ry(theta_w)───X───X───Ry(theta_w)───X───Ry(theta_v)───X───X───Ry(theta_v)───X───X─────────────@───X───────────────────────────────────@───X─────────────────────────────────────────────────────────────────────────────────────────────────────\n",
       "                                                                                                                                   │                                       │\n",
       "(0, 3): ─────────────────────────────────────────────────────────────────────────────────────────────────────────────Ry(theta_w)───X───X───Ry(theta_w)───X───Ry(theta_v)───X───X───Ry(theta_v)───X───X─────────────@───X───────────────────────────────────@───X─────────────────────\n",
       "                                                                                                                                                                                                                   │                                       │\n",
       "(0, 4): ─────────────────────────────────────────────────────────────────────────────────────────────────────────────────────────────────────────────────────────────────────────────────────────────Ry(theta_w)───X───X───Ry(theta_w)───X───Ry(theta_v)───X───X───Ry(theta_v)───X───</pre>"
      ],
      "text/plain": [
       "(0, 0): ───H───@─────────────────────────────────────────────────────────────────────────────────────────────────────────────────────────────────────────────────────────────────────────────────────────────────────────────────────────────────────────────────────────────────────\n",
       "               │\n",
       "(0, 1): ───────X───Z───Ry(theta_r)───X─────────────@───X───────────────────────────────────@───X─────────────────────────────────────────────────────────────────────────────────────────────────────────────────────────────────────────────────────────────────────────────────────\n",
       "                                                   │                                       │\n",
       "(0, 2): ─────────────────────────────Ry(theta_w)───X───X───Ry(theta_w)───X───Ry(theta_v)───X───X───Ry(theta_v)───X───X─────────────@───X───────────────────────────────────@───X─────────────────────────────────────────────────────────────────────────────────────────────────────\n",
       "                                                                                                                                   │                                       │\n",
       "(0, 3): ─────────────────────────────────────────────────────────────────────────────────────────────────────────────Ry(theta_w)───X───X───Ry(theta_w)───X───Ry(theta_v)───X───X───Ry(theta_v)───X───X─────────────@───X───────────────────────────────────@───X─────────────────────\n",
       "                                                                                                                                                                                                                   │                                       │\n",
       "(0, 4): ─────────────────────────────────────────────────────────────────────────────────────────────────────────────────────────────────────────────────────────────────────────────────────────────Ry(theta_w)───X───X───Ry(theta_w)───X───Ry(theta_v)───X───X───Ry(theta_v)───X───"
      ]
     },
     "execution_count": 23,
     "metadata": {},
     "output_type": "execute_result"
    }
   ],
   "source": [
    "real"
   ]
  },
  {
   "cell_type": "code",
   "execution_count": 24,
   "metadata": {},
   "outputs": [],
   "source": [
    "resolver = cirq.ParamResolver({'theta_v': get_theta_v(g), 'theta_w': get_theta_w(g), 'theta_r': get_theta_r(g)})"
   ]
  },
  {
   "cell_type": "code",
   "execution_count": 25,
   "metadata": {},
   "outputs": [],
   "source": [
    "resolved = cirq.resolve_parameters(real, resolver)"
   ]
  },
  {
   "cell_type": "code",
   "execution_count": 26,
   "metadata": {},
   "outputs": [],
   "source": [
    "final_state = cirq.final_state_vector(resolved)"
   ]
  },
  {
   "cell_type": "code",
   "execution_count": 27,
   "metadata": {},
   "outputs": [
    {
     "data": {
      "text/plain": [
       "array([ 0.22222227+0.j,  0.31426978+0.j,  0.22222224+0.j, -0.15713488+0.j,\n",
       "       -0.1111111 +0.j, -0.15713485+0.j,  0.22222221+0.j, -0.15713486+0.j,\n",
       "       -0.11111113+0.j, -0.15713489+0.j, -0.11111112+0.j,  0.07856744+0.j,\n",
       "       -0.11111112+0.j, -0.15713486+0.j,  0.22222224+0.j, -0.15713488+0.j,\n",
       "       -0.15713489+0.j, -0.22222227+0.j, -0.15713489+0.j,  0.11111113+0.j,\n",
       "        0.07856743+0.j,  0.11111113+0.j, -0.15713486+0.j,  0.11111113+0.j,\n",
       "       -0.15713486+0.j, -0.22222225+0.j, -0.15713485+0.j,  0.11111112+0.j,\n",
       "       -0.15713486+0.j, -0.22222225+0.j,  0.31426978+0.j, -0.22222227+0.j],\n",
       "      dtype=complex64)"
      ]
     },
     "execution_count": 27,
     "metadata": {},
     "output_type": "execute_result"
    }
   ],
   "source": [
    "final_state"
   ]
  },
  {
   "cell_type": "code",
   "execution_count": 29,
   "metadata": {},
   "outputs": [
    {
     "data": {
      "text/plain": [
       "((0.22222226858139038,\n",
       "  array([ 2.3407293e-07+0.j,  6.5817815e-01+0.j, -9.3004566e-08+0.j,\n",
       "          6.5817803e-01+0.j, -2.5846004e-01+0.j, -3.0420367e-07+0.j,\n",
       "         -2.5846002e-01+0.j,  5.3195316e-07+0.j], dtype=complex64)),\n",
       " (0.22222229838371277,\n",
       "  array([ 1.1738812e-07+0.j,  2.5846004e-01+0.j, -8.7461977e-08+0.j,\n",
       "          2.5846002e-01+0.j,  6.5817809e-01+0.j, -6.8517842e-08+0.j,\n",
       "          6.5817809e-01+0.j,  5.6072867e-08+0.j], dtype=complex64)),\n",
       " (0.27777785062789917,\n",
       "  array([ 5.1132226e-01-0.j, -4.5653070e-07+0.j, -2.5566110e-01+0.j,\n",
       "         -4.6998338e-07+0.j,  5.8686357e-08+0.j, -3.6692965e-01+0.j,\n",
       "          7.9258449e-08+0.j,  7.3385936e-01+0.j], dtype=complex64)),\n",
       " (0.27777791023254395,\n",
       "  array([-7.3385942e-01+0.j, -8.9657895e-08+0.j,  3.6692962e-01+0.j,\n",
       "         -6.2481838e-08+0.j,  9.9369117e-08+0.j, -2.5566107e-01+0.j,\n",
       "          6.9843672e-08+0.j,  5.1132226e-01+0.j], dtype=complex64)))"
      ]
     },
     "execution_count": 29,
     "metadata": {},
     "output_type": "execute_result"
    }
   ],
   "source": [
    "cirq.partial_trace_of_state_vector_as_mixture(final_state, [1,2,3]) "
   ]
  },
  {
   "cell_type": "code",
   "execution_count": 41,
   "metadata": {},
   "outputs": [
    {
     "data": {
      "text/plain": [
       "array([-0.36214298,  0.18107149,  0.18107149,  0.18107149,  0.18107149,\n",
       "       -0.09053575,  0.18107149,  0.18107149,  0.18107149, -0.09053575,\n",
       "       -0.09053575, -0.09053575,  0.18107149, -0.09053575,  0.18107149,\n",
       "        0.18107149,  0.18107149,  0.18107149, -0.09053575,  0.18107149,\n",
       "       -0.09053575, -0.09053575, -0.09053575,  0.18107149,  0.18107149,\n",
       "        0.18107149, -0.09053575,  0.18107149,  0.18107149,  0.18107149,\n",
       "        0.18107149, -0.36214298])"
      ]
     },
     "execution_count": 41,
     "metadata": {},
     "output_type": "execute_result"
    }
   ],
   "source": [
    "psi"
   ]
  },
  {
   "cell_type": "code",
   "execution_count": 143,
   "metadata": {},
   "outputs": [],
   "source": [
    "first_qubit_zero_mask = [1 if len(final_state)/2 > i else 0 for i in range(len(final_state)) ]\n",
    "last_qubit_zero_mask = [1 if i %2 == 0 else 0 for i in range(len(final_state))]"
   ]
  },
  {
   "cell_type": "code",
   "execution_count": 148,
   "metadata": {},
   "outputs": [],
   "source": [
    "first_qubit = next(q for q in real.all_qubits() if q.col == 0)\n",
    "last_qubit = next(q for q in real.all_qubits() if q.col == len(real.all_qubits()) - 1)\n"
   ]
  },
  {
   "cell_type": "code",
   "execution_count": 149,
   "metadata": {},
   "outputs": [],
   "source": [
    "realm = real + cirq.measure(first_qubit) + cirq.measure(last_qubit) \n",
    "resolvedm = cirq.resolve_parameters(realm, resolver)"
   ]
  },
  {
   "cell_type": "code",
   "execution_count": 36,
   "metadata": {},
   "outputs": [
    {
     "data": {
      "text/html": [
       "<pre style=\"overflow: auto; white-space: pre;\">(0, 0): ───H───@────────────────────────────────────────────────────────────────────────────────────────────────────────────────────────────────────────────────────────────────────────────────────────────────────────────────────────────────────────────────────────\n",
       "               │\n",
       "(0, 1): ───────X───Z───Ry(0.608π)───X────────────@───X─────────────────────────────────@───X────────────────────────────────────────────────────────────────────────────────────────────────────────────────────────────────────────────────────────────────────────────\n",
       "                                                 │                                     │\n",
       "(0, 2): ────────────────────────────Ry(0.696π)───X───X───Ry(0.696π)───X───Ry(0.196π)───X───X───Ry(0.196π)───X───X────────────@───X─────────────────────────────────@───X────────────────────────────────────────────────────────────────────────────────────────────────\n",
       "                                                                                                                             │                                     │\n",
       "(0, 3): ────────────────────────────────────────────────────────────────────────────────────────────────────────Ry(0.696π)───X───X───Ry(0.696π)───X───Ry(0.196π)───X───X───Ry(0.196π)───X───X────────────@───X─────────────────────────────────@───X────────────────────\n",
       "                                                                                                                                                                                                         │                                     │\n",
       "(0, 4): ────────────────────────────────────────────────────────────────────────────────────────────────────────────────────────────────────────────────────────────────────────────────────Ry(0.696π)───X───X───Ry(0.696π)───X───Ry(0.196π)───X───X───Ry(0.196π)───X───</pre>"
      ],
      "text/plain": [
       "(0, 0): ───H───@────────────────────────────────────────────────────────────────────────────────────────────────────────────────────────────────────────────────────────────────────────────────────────────────────────────────────────────────────────────────────────\n",
       "               │\n",
       "(0, 1): ───────X───Z───Ry(0.608π)───X────────────@───X─────────────────────────────────@───X────────────────────────────────────────────────────────────────────────────────────────────────────────────────────────────────────────────────────────────────────────────\n",
       "                                                 │                                     │\n",
       "(0, 2): ────────────────────────────Ry(0.696π)───X───X───Ry(0.696π)───X───Ry(0.196π)───X───X───Ry(0.196π)───X───X────────────@───X─────────────────────────────────@───X────────────────────────────────────────────────────────────────────────────────────────────────\n",
       "                                                                                                                             │                                     │\n",
       "(0, 3): ────────────────────────────────────────────────────────────────────────────────────────────────────────Ry(0.696π)───X───X───Ry(0.696π)───X───Ry(0.196π)───X───X───Ry(0.196π)───X───X────────────@───X─────────────────────────────────@───X────────────────────\n",
       "                                                                                                                                                                                                         │                                     │\n",
       "(0, 4): ────────────────────────────────────────────────────────────────────────────────────────────────────────────────────────────────────────────────────────────────────────────────────Ry(0.696π)───X───X───Ry(0.696π)───X───Ry(0.196π)───X───X───Ry(0.196π)───X───"
      ]
     },
     "execution_count": 36,
     "metadata": {},
     "output_type": "execute_result"
    }
   ],
   "source": [
    "resolved"
   ]
  },
  {
   "cell_type": "code",
   "execution_count": 43,
   "metadata": {},
   "outputs": [
    {
     "data": {
      "text/plain": [
       "measurements: (no measurements)\n",
       "output vector: [ 0.22222227+0.j  0.31426978+0.j  0.22222224+0.j -0.15713488+0.j\n",
       " -0.1111111 +0.j -0.15713485+0.j  0.22222221+0.j -0.15713486+0.j\n",
       " -0.11111113+0.j -0.15713489+0.j -0.11111112+0.j  0.07856744+0.j\n",
       " -0.11111112+0.j -0.15713486+0.j  0.22222224+0.j -0.15713488+0.j\n",
       " -0.15713489+0.j -0.22222227+0.j -0.15713489+0.j  0.11111113+0.j\n",
       "  0.07856743+0.j  0.11111113+0.j -0.15713486+0.j  0.11111113+0.j\n",
       " -0.15713486+0.j -0.22222225+0.j -0.15713485+0.j  0.11111112+0.j\n",
       " -0.15713486+0.j -0.22222225+0.j  0.31426978+0.j -0.22222227+0.j]"
      ]
     },
     "execution_count": 43,
     "metadata": {},
     "output_type": "execute_result"
    }
   ],
   "source": [
    "cirq.Simulator().simulate(resolved)"
   ]
  },
  {
   "cell_type": "code",
   "execution_count": 166,
   "metadata": {},
   "outputs": [
    {
     "data": {
      "text/plain": [
       "array([0.       +0.j, 0.9999999+0.j, 0.       +0.j, 0.       +0.j,\n",
       "       0.       +0.j, 0.       +0.j, 0.       +0.j, 0.       +0.j,\n",
       "       0.       +0.j, 0.       +0.j, 0.       +0.j, 0.       +0.j,\n",
       "       0.       +0.j, 0.       +0.j, 0.       +0.j, 0.       +0.j,\n",
       "       0.       +0.j, 0.       +0.j, 0.       +0.j, 0.       +0.j,\n",
       "       0.       +0.j, 0.       +0.j, 0.       +0.j, 0.       +0.j,\n",
       "       0.       +0.j, 0.       +0.j, 0.       +0.j, 0.       +0.j,\n",
       "       0.       +0.j, 0.       +0.j, 0.       +0.j, 0.       +0.j],\n",
       "      dtype=complex64)"
      ]
     },
     "execution_count": 166,
     "metadata": {},
     "output_type": "execute_result"
    }
   ],
   "source": [
    "fs = cirq.final_state_vector(resolvedm) \n",
    "fs"
   ]
  },
  {
   "cell_type": "code",
   "execution_count": 170,
   "metadata": {},
   "outputs": [
    {
     "data": {
      "text/plain": [
       "((0.49999991059303284,\n",
       "  array([1.+0.j, 0.+0.j, 0.+0.j, 0.+0.j, 0.+0.j, 0.+0.j, 0.+0.j, 0.+0.j],\n",
       "        dtype=complex64)),\n",
       " (0.49999991059303284,\n",
       "  array([0.+0.j, 0.+0.j, 0.+0.j, 0.+0.j, 0.+0.j, 0.+0.j, 0.+0.j, 1.+0.j],\n",
       "        dtype=complex64)))"
      ]
     },
     "execution_count": 170,
     "metadata": {},
     "output_type": "execute_result"
    }
   ],
   "source": [
    "cirq.partial_trace_of_state_vector_as_mixture(fs, [1,2,3]) "
   ]
  },
  {
   "cell_type": "code",
   "execution_count": 169,
   "metadata": {},
   "outputs": [
    {
     "data": {
      "text/plain": [
       "array([1., 0., 0., 0., 0., 0., 0., 0.])"
      ]
     },
     "execution_count": 169,
     "metadata": {},
     "output_type": "execute_result"
    }
   ],
   "source": [
    "psi"
   ]
  },
  {
   "cell_type": "code",
   "execution_count": 98,
   "metadata": {},
   "outputs": [
    {
     "data": {
      "text/plain": [
       "((0.49999991059303284, array([1.+0.j, 0.+0.j], dtype=complex64)),\n",
       " (0.49999991059303284, array([0.+0.j, 1.+0.j], dtype=complex64)))"
      ]
     },
     "execution_count": 98,
     "metadata": {},
     "output_type": "execute_result"
    }
   ],
   "source": [
    "# TODO: plug in 0 instead of tracing-out\n",
    "# TODO: renormalize\n",
    "partials = cirq.partial_trace_of_state_vector_as_mixture(final_state, [4])\n",
    "partials"
   ]
  },
  {
   "cell_type": "code",
   "execution_count": 18,
   "metadata": {
    "scrolled": true
   },
   "outputs": [
    {
     "name": "stdout",
     "output_type": "stream",
     "text": [
      "0.2499997466802597 0.29109976691641815\n",
      "0.2499997466802597 0.1830890225454351\n",
      "0.2499997764825821 0.2089002146716102\n",
      "0.2499997764825821 0.3169109914231965\n"
     ]
    }
   ],
   "source": [
    "for p in partials:\n",
    "    print(p[0], cirq.fidelity(p[1], psi))"
   ]
  },
  {
   "cell_type": "code",
   "execution_count": 110,
   "metadata": {},
   "outputs": [
    {
     "data": {
      "text/plain": [
       "array([[ 0.47140452+0.j,  0.52704628+0.j,  0.47140452+0.j,\n",
       "         0.52704628+0.j],\n",
       "       [ 0.52704628+0.j, -0.47140452+0.j,  0.52704628+0.j,\n",
       "        -0.47140452+0.j],\n",
       "       [ 0.52704628+0.j,  0.47140452+0.j, -0.52704628+0.j,\n",
       "        -0.47140452+0.j],\n",
       "       [-0.47140452+0.j,  0.52704628+0.j,  0.47140452+0.j,\n",
       "        -0.52704628+0.j]])"
      ]
     },
     "execution_count": 110,
     "metadata": {},
     "output_type": "execute_result"
    }
   ],
   "source": [
    "g = 0.8\n",
    "\n",
    "q1, q2 = cirq.GridQubit.rect(1, 2)\n",
    "cirq.unitary(build_u1_gate(q1, q2, theta_r))"
   ]
  },
  {
   "cell_type": "code",
   "execution_count": 111,
   "metadata": {},
   "outputs": [],
   "source": [
    "size\n",
    "x_rot, x_rot_symbols = build_x_rotation_state(size=size)"
   ]
  },
  {
   "cell_type": "code",
   "execution_count": 112,
   "metadata": {},
   "outputs": [],
   "source": [
    "x_resolver = cirq.ParamResolver({'r0': get_theta_v(g), 'r1': get_theta_w(g), 'r2': get_theta_r(g)})"
   ]
  },
  {
   "cell_type": "code",
   "execution_count": 113,
   "metadata": {
    "scrolled": true
   },
   "outputs": [],
   "source": [
    "x_resolved = cirq.resolve_parameters(x_rot, x_resolver)"
   ]
  },
  {
   "cell_type": "code",
   "execution_count": 109,
   "metadata": {},
   "outputs": [],
   "source": [
    "g05 = cirq.final_state_vector(x_resolved)"
   ]
  },
  {
   "cell_type": "code",
   "execution_count": 114,
   "metadata": {},
   "outputs": [],
   "source": [
    "g1 = cirq.final_state_vector(x_resolved)"
   ]
  },
  {
   "cell_type": "code",
   "execution_count": 115,
   "metadata": {},
   "outputs": [
    {
     "data": {
      "text/plain": [
       "array([ 0.56851923+0.j        ,  0.        -0.63562375j,\n",
       "        0.        -0.2542495j , -0.2842596 +0.j        ,\n",
       "        0.        -0.21715502j, -0.24278669+0.j        ,\n",
       "       -0.09711468+0.j        ,  0.        +0.10857751j], dtype=complex64)"
      ]
     },
     "execution_count": 115,
     "metadata": {},
     "output_type": "execute_result"
    }
   ],
   "source": [
    "g1"
   ]
  },
  {
   "cell_type": "code",
   "execution_count": 116,
   "metadata": {},
   "outputs": [
    {
     "data": {
      "text/plain": [
       "array([ 0.2542495 +0.j        ,  0.        -0.2842596j ,\n",
       "        0.        -0.56851923j, -0.63562375+0.j        ,\n",
       "        0.        -0.09711468j, -0.10857751+0.j        ,\n",
       "       -0.21715502+0.j        ,  0.        +0.24278669j], dtype=complex64)"
      ]
     },
     "execution_count": 116,
     "metadata": {},
     "output_type": "execute_result"
    }
   ],
   "source": [
    "g05"
   ]
  },
  {
   "cell_type": "code",
   "execution_count": 117,
   "metadata": {},
   "outputs": [
    {
     "data": {
      "text/plain": [
       "0.5555555126335463"
      ]
     },
     "execution_count": 117,
     "metadata": {},
     "output_type": "execute_result"
    }
   ],
   "source": [
    "cirq.fidelity(g1, g05)"
   ]
  },
  {
   "cell_type": "code",
   "execution_count": 55,
   "metadata": {},
   "outputs": [],
   "source": [
    "circuit = cirq.Circuit()\n",
    "qs = cirq.GridQubit.rect(1, 3)\n",
    "s = sympy.symbols(\"xd\")\n",
    "for q in qs:\n",
    "    circuit.append([cirq.rx(s).on(q)])"
   ]
  },
  {
   "cell_type": "code",
   "execution_count": 80,
   "metadata": {},
   "outputs": [],
   "source": [
    "def resolved_rx(rot, c):\n",
    "    resolverx = cirq.ParamResolver({\"xd\": map_to_radians(rot)})\n",
    "    resolved = cirq.resolve_parameters(c, resolverx)\n",
    "    return cirq.Simulator().simulate(resolved)"
   ]
  },
  {
   "cell_type": "code",
   "execution_count": 82,
   "metadata": {},
   "outputs": [
    {
     "data": {
      "text/plain": [
       "measurements: (no measurements)\n",
       "output vector: |000⟩"
      ]
     },
     "execution_count": 82,
     "metadata": {},
     "output_type": "execute_result"
    }
   ],
   "source": [
    "resolved_rx(-1, circuit)"
   ]
  },
  {
   "cell_type": "code",
   "execution_count": 83,
   "metadata": {},
   "outputs": [
    {
     "data": {
      "text/plain": [
       "measurements: (no measurements)\n",
       "output vector: 0.943|000⟩ - 0.188j|001⟩ - 0.188j|010⟩ - 0.037|011⟩ - 0.188j|100⟩ - 0.037|101⟩ - 0.037|110⟩ + 0.007j|111⟩"
      ]
     },
     "execution_count": 83,
     "metadata": {},
     "output_type": "execute_result"
    }
   ],
   "source": [
    "resolved_rx(-0.75, circuit)"
   ]
  },
  {
   "cell_type": "code",
   "execution_count": 84,
   "metadata": {},
   "outputs": [
    {
     "data": {
      "text/plain": [
       "measurements: (no measurements)\n",
       "output vector: 0.789|000⟩ - 0.327j|001⟩ - 0.327j|010⟩ - 0.135|011⟩ - 0.327j|100⟩ - 0.135|101⟩ - 0.135|110⟩ + 0.056j|111⟩"
      ]
     },
     "execution_count": 84,
     "metadata": {},
     "output_type": "execute_result"
    }
   ],
   "source": [
    "resolved_rx(-0.5, circuit)"
   ]
  },
  {
   "cell_type": "code",
   "execution_count": 85,
   "metadata": {},
   "outputs": [
    {
     "data": {
      "text/plain": [
       "measurements: (no measurements)\n",
       "output vector: 0.575|000⟩ - 0.384j|001⟩ - 0.384j|010⟩ - 0.257|011⟩ - 0.384j|100⟩ - 0.257|101⟩ - 0.257|110⟩ + 0.171j|111⟩"
      ]
     },
     "execution_count": 85,
     "metadata": {},
     "output_type": "execute_result"
    }
   ],
   "source": [
    "resolved_rx(-0.25, circuit)"
   ]
  },
  {
   "cell_type": "code",
   "execution_count": 86,
   "metadata": {},
   "outputs": [
    {
     "data": {
      "text/plain": [
       "measurements: (no measurements)\n",
       "output vector: 0.354|000⟩ - 0.354j|001⟩ - 0.354j|010⟩ - 0.354|011⟩ - 0.354j|100⟩ - 0.354|101⟩ - 0.354|110⟩ + 0.354j|111⟩"
      ]
     },
     "execution_count": 86,
     "metadata": {},
     "output_type": "execute_result"
    }
   ],
   "source": [
    "resolved_rx(0, circuit)"
   ]
  },
  {
   "cell_type": "code",
   "execution_count": null,
   "metadata": {},
   "outputs": [],
   "source": []
  }
 ],
 "metadata": {
  "kernelspec": {
   "display_name": "Python 3",
   "language": "python",
   "name": "python3"
  },
  "language_info": {
   "codemirror_mode": {
    "name": "ipython",
    "version": 3
   },
   "file_extension": ".py",
   "mimetype": "text/x-python",
   "name": "python",
   "nbconvert_exporter": "python",
   "pygments_lexer": "ipython3",
   "version": "3.8.6"
  }
 },
 "nbformat": 4,
 "nbformat_minor": 1
}
