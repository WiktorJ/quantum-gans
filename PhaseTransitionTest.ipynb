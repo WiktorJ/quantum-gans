{
 "cells": [
  {
   "cell_type": "code",
   "execution_count": 1,
   "metadata": {},
   "outputs": [],
   "source": [
    "# Test of the circuit from \"Crossing a topological phase transition with a quantum computer\" (https://arxiv.org/pdf/1910.05351.pdf)"
   ]
  },
  {
   "cell_type": "code",
   "execution_count": 6,
   "metadata": {},
   "outputs": [],
   "source": [
    "from typing import Any\n",
    "\n",
    "import sympy\n",
    "import math\n",
    "import tensorflow as tf\n",
    "import tensorflow_quantum as tfq\n",
    "\n",
    "import cirq\n",
    "import numpy as np\n",
    "from cirq import GridQubit, ops\n",
    "from qsgenerator.utils import map_to_radians\n",
    "from qsgenerator.phase.analitical import construct_hamiltonian, get_theta_v, get_theta_w, get_theta_r\n",
    "from qsgenerator.phase.circuits import build_ground_state_circuit, build_u1_gate, build_u_gate\n",
    "from qsgenerator.states.simple_state_circuits import build_x_rotation_state\n"
   ]
  },
  {
   "cell_type": "code",
   "execution_count": 222,
   "metadata": {},
   "outputs": [],
   "source": [
    "size = 3# size of quantum circuit excluding boundary qubits"
   ]
  },
  {
   "cell_type": "code",
   "execution_count": 231,
   "metadata": {},
   "outputs": [],
   "source": [
    "g = -0.5 # G parameter from the paper "
   ]
  },
  {
   "cell_type": "code",
   "execution_count": 232,
   "metadata": {},
   "outputs": [],
   "source": [
    "H = construct_hamiltonian(size, g)\n",
    "lam, V = np.linalg.eigh(H)\n",
    "\n",
    "# ground state wavefunction\n",
    "psi = V[:, 0] / np.linalg.norm(V[:, 0])"
   ]
  },
  {
   "cell_type": "code",
   "execution_count": 233,
   "metadata": {},
   "outputs": [],
   "source": [
    "real, real_symbols = build_ground_state_circuit(size=size)"
   ]
  },
  {
   "cell_type": "code",
   "execution_count": 234,
   "metadata": {},
   "outputs": [
    {
     "data": {
      "text/html": [
       "<pre style=\"overflow: auto; white-space: pre;\">(0, 0): ───H───@─────────────────────────────────────────────────────────────────────────────────────────────────────────────────────────────────────────────────────────────────────────────────────────────────────────────────────────────────────────────────────────────────────\n",
       "               │\n",
       "(0, 1): ───────X───Z───Ry(theta_r)───X─────────────@───X───────────────────────────────────@───X─────────────────────────────────────────────────────────────────────────────────────────────────────────────────────────────────────────────────────────────────────────────────────\n",
       "                                                   │                                       │\n",
       "(0, 2): ─────────────────────────────Ry(theta_w)───X───X───Ry(theta_w)───X───Ry(theta_v)───X───X───Ry(theta_v)───X───X─────────────@───X───────────────────────────────────@───X─────────────────────────────────────────────────────────────────────────────────────────────────────\n",
       "                                                                                                                                   │                                       │\n",
       "(0, 3): ─────────────────────────────────────────────────────────────────────────────────────────────────────────────Ry(theta_w)───X───X───Ry(theta_w)───X───Ry(theta_v)───X───X───Ry(theta_v)───X───X─────────────@───X───────────────────────────────────@───X─────────────────────\n",
       "                                                                                                                                                                                                                   │                                       │\n",
       "(0, 4): ─────────────────────────────────────────────────────────────────────────────────────────────────────────────────────────────────────────────────────────────────────────────────────────────Ry(theta_w)───X───X───Ry(theta_w)───X───Ry(theta_v)───X───X───Ry(theta_v)───X───</pre>"
      ],
      "text/plain": [
       "(0, 0): ───H───@─────────────────────────────────────────────────────────────────────────────────────────────────────────────────────────────────────────────────────────────────────────────────────────────────────────────────────────────────────────────────────────────────────\n",
       "               │\n",
       "(0, 1): ───────X───Z───Ry(theta_r)───X─────────────@───X───────────────────────────────────@───X─────────────────────────────────────────────────────────────────────────────────────────────────────────────────────────────────────────────────────────────────────────────────────\n",
       "                                                   │                                       │\n",
       "(0, 2): ─────────────────────────────Ry(theta_w)───X───X───Ry(theta_w)───X───Ry(theta_v)───X───X───Ry(theta_v)───X───X─────────────@───X───────────────────────────────────@───X─────────────────────────────────────────────────────────────────────────────────────────────────────\n",
       "                                                                                                                                   │                                       │\n",
       "(0, 3): ─────────────────────────────────────────────────────────────────────────────────────────────────────────────Ry(theta_w)───X───X───Ry(theta_w)───X───Ry(theta_v)───X───X───Ry(theta_v)───X───X─────────────@───X───────────────────────────────────@───X─────────────────────\n",
       "                                                                                                                                                                                                                   │                                       │\n",
       "(0, 4): ─────────────────────────────────────────────────────────────────────────────────────────────────────────────────────────────────────────────────────────────────────────────────────────────Ry(theta_w)───X───X───Ry(theta_w)───X───Ry(theta_v)───X───X───Ry(theta_v)───X───"
      ]
     },
     "execution_count": 234,
     "metadata": {},
     "output_type": "execute_result"
    }
   ],
   "source": [
    "real"
   ]
  },
  {
   "cell_type": "code",
   "execution_count": 235,
   "metadata": {},
   "outputs": [],
   "source": [
    "resolver = cirq.ParamResolver({'theta_v': get_theta_v(g), 'theta_w': get_theta_w(g), 'theta_r': get_theta_r(g)})"
   ]
  },
  {
   "cell_type": "code",
   "execution_count": 236,
   "metadata": {},
   "outputs": [],
   "source": [
    "resolved = cirq.resolve_parameters(real, resolver)"
   ]
  },
  {
   "cell_type": "code",
   "execution_count": 237,
   "metadata": {},
   "outputs": [],
   "source": [
    "final_state = cirq.final_state_vector(resolved)"
   ]
  },
  {
   "cell_type": "code",
   "execution_count": 238,
   "metadata": {},
   "outputs": [
    {
     "data": {
      "text/plain": [
       "array([ 0.22222227+0.j,  0.31426978+0.j,  0.22222224+0.j, -0.15713488+0.j,\n",
       "       -0.1111111 +0.j, -0.15713485+0.j,  0.22222221+0.j, -0.15713486+0.j,\n",
       "       -0.11111113+0.j, -0.15713489+0.j, -0.11111112+0.j,  0.07856744+0.j,\n",
       "       -0.11111112+0.j, -0.15713486+0.j,  0.22222224+0.j, -0.15713488+0.j,\n",
       "       -0.15713489+0.j, -0.22222227+0.j, -0.15713489+0.j,  0.11111113+0.j,\n",
       "        0.07856743+0.j,  0.11111113+0.j, -0.15713486+0.j,  0.11111113+0.j,\n",
       "       -0.15713486+0.j, -0.22222225+0.j, -0.15713485+0.j,  0.11111112+0.j,\n",
       "       -0.15713486+0.j, -0.22222225+0.j,  0.31426978+0.j, -0.22222227+0.j],\n",
       "      dtype=complex64)"
      ]
     },
     "execution_count": 238,
     "metadata": {},
     "output_type": "execute_result"
    }
   ],
   "source": [
    "final_state"
   ]
  },
  {
   "cell_type": "code",
   "execution_count": 143,
   "metadata": {},
   "outputs": [],
   "source": [
    "first_qubit_zero_mask = [1 if len(final_state)/2 > i else 0 for i in range(len(final_state)) ]\n",
    "last_qubit_zero_mask = [1 if i %2 == 0 else 0 for i in range(len(final_state))]"
   ]
  },
  {
   "cell_type": "code",
   "execution_count": 146,
   "metadata": {},
   "outputs": [
    {
     "data": {
      "text/plain": [
       "array([0.+0.j, 0.+0.j, 0.+0.j, 0.+0.j, 0.+0.j, 0.+0.j, 0.+0.j, 0.+0.j,\n",
       "       0.+0.j, 0.+0.j, 0.+0.j, 0.+0.j, 0.+0.j, 0.+0.j, 0.+0.j, 0.+0.j,\n",
       "       0.+0.j, 0.+0.j, 0.+0.j, 0.+0.j, 0.+0.j, 0.+0.j, 0.+0.j, 0.+0.j,\n",
       "       0.+0.j, 0.+0.j, 0.+0.j, 0.+0.j, 0.+0.j, 0.+0.j, 0.+0.j, 0.+0.j])"
      ]
     },
     "execution_count": 146,
     "metadata": {},
     "output_type": "execute_result"
    }
   ],
   "source": [
    "real_state = first_qubit_zero_mask * final_state * last_qubit_zero_mask\n",
    "real_state"
   ]
  },
  {
   "cell_type": "code",
   "execution_count": 147,
   "metadata": {},
   "outputs": [
    {
     "name": "stderr",
     "output_type": "stream",
     "text": [
      "<ipython-input-147-9f52e1e129b9>:1: RuntimeWarning: invalid value encountered in true_divide\n",
      "  norm_state = real_state/np.linalg.norm(real_state)\n"
     ]
    },
    {
     "data": {
      "text/plain": [
       "array([nan+nanj, nan+nanj, nan+nanj, nan+nanj, nan+nanj, nan+nanj,\n",
       "       nan+nanj, nan+nanj, nan+nanj, nan+nanj, nan+nanj, nan+nanj,\n",
       "       nan+nanj, nan+nanj, nan+nanj, nan+nanj, nan+nanj, nan+nanj,\n",
       "       nan+nanj, nan+nanj, nan+nanj, nan+nanj, nan+nanj, nan+nanj,\n",
       "       nan+nanj, nan+nanj, nan+nanj, nan+nanj, nan+nanj, nan+nanj,\n",
       "       nan+nanj, nan+nanj])"
      ]
     },
     "execution_count": 147,
     "metadata": {},
     "output_type": "execute_result"
    }
   ],
   "source": [
    "norm_state = real_state/np.linalg.norm(real_state)\n",
    "norm_state"
   ]
  },
  {
   "cell_type": "code",
   "execution_count": 148,
   "metadata": {},
   "outputs": [],
   "source": [
    "first_qubit = next(q for q in real.all_qubits() if q.col == 0)\n",
    "last_qubit = next(q for q in real.all_qubits() if q.col == len(real.all_qubits()) - 1)\n"
   ]
  },
  {
   "cell_type": "code",
   "execution_count": 149,
   "metadata": {},
   "outputs": [],
   "source": [
    "realm = real + cirq.measure(first_qubit) + cirq.measure(last_qubit) \n",
    "resolvedm = cirq.resolve_parameters(realm, resolver)"
   ]
  },
  {
   "cell_type": "code",
   "execution_count": 171,
   "metadata": {},
   "outputs": [
    {
     "data": {
      "text/plain": [
       "measurements: (no measurements)\n",
       "output vector: 0.707|00001⟩ + 0.707|11110⟩"
      ]
     },
     "execution_count": 171,
     "metadata": {},
     "output_type": "execute_result"
    }
   ],
   "source": [
    "cirq.Simulator().simulate(resolved)"
   ]
  },
  {
   "cell_type": "code",
   "execution_count": 166,
   "metadata": {},
   "outputs": [
    {
     "data": {
      "text/plain": [
       "array([0.       +0.j, 0.9999999+0.j, 0.       +0.j, 0.       +0.j,\n",
       "       0.       +0.j, 0.       +0.j, 0.       +0.j, 0.       +0.j,\n",
       "       0.       +0.j, 0.       +0.j, 0.       +0.j, 0.       +0.j,\n",
       "       0.       +0.j, 0.       +0.j, 0.       +0.j, 0.       +0.j,\n",
       "       0.       +0.j, 0.       +0.j, 0.       +0.j, 0.       +0.j,\n",
       "       0.       +0.j, 0.       +0.j, 0.       +0.j, 0.       +0.j,\n",
       "       0.       +0.j, 0.       +0.j, 0.       +0.j, 0.       +0.j,\n",
       "       0.       +0.j, 0.       +0.j, 0.       +0.j, 0.       +0.j],\n",
       "      dtype=complex64)"
      ]
     },
     "execution_count": 166,
     "metadata": {},
     "output_type": "execute_result"
    }
   ],
   "source": [
    "fs = cirq.final_state_vector(resolvedm) \n",
    "fs"
   ]
  },
  {
   "cell_type": "code",
   "execution_count": 170,
   "metadata": {},
   "outputs": [
    {
     "data": {
      "text/plain": [
       "((0.49999991059303284,\n",
       "  array([1.+0.j, 0.+0.j, 0.+0.j, 0.+0.j, 0.+0.j, 0.+0.j, 0.+0.j, 0.+0.j],\n",
       "        dtype=complex64)),\n",
       " (0.49999991059303284,\n",
       "  array([0.+0.j, 0.+0.j, 0.+0.j, 0.+0.j, 0.+0.j, 0.+0.j, 0.+0.j, 1.+0.j],\n",
       "        dtype=complex64)))"
      ]
     },
     "execution_count": 170,
     "metadata": {},
     "output_type": "execute_result"
    }
   ],
   "source": [
    "cirq.partial_trace_of_state_vector_as_mixture(fs, [1,2,3]) "
   ]
  },
  {
   "cell_type": "code",
   "execution_count": 169,
   "metadata": {},
   "outputs": [
    {
     "data": {
      "text/plain": [
       "array([1., 0., 0., 0., 0., 0., 0., 0.])"
      ]
     },
     "execution_count": 169,
     "metadata": {},
     "output_type": "execute_result"
    }
   ],
   "source": [
    "psi"
   ]
  },
  {
   "cell_type": "code",
   "execution_count": 98,
   "metadata": {},
   "outputs": [
    {
     "data": {
      "text/plain": [
       "((0.49999991059303284, array([1.+0.j, 0.+0.j], dtype=complex64)),\n",
       " (0.49999991059303284, array([0.+0.j, 1.+0.j], dtype=complex64)))"
      ]
     },
     "execution_count": 98,
     "metadata": {},
     "output_type": "execute_result"
    }
   ],
   "source": [
    "# TODO: plug in 0 instead of tracing-out\n",
    "# TODO: renormalize\n",
    "partials = cirq.partial_trace_of_state_vector_as_mixture(final_state, [4])\n",
    "partials"
   ]
  },
  {
   "cell_type": "code",
   "execution_count": 18,
   "metadata": {
    "scrolled": true
   },
   "outputs": [
    {
     "name": "stdout",
     "output_type": "stream",
     "text": [
      "0.2499997466802597 0.29109976691641815\n",
      "0.2499997466802597 0.1830890225454351\n",
      "0.2499997764825821 0.2089002146716102\n",
      "0.2499997764825821 0.3169109914231965\n"
     ]
    }
   ],
   "source": [
    "for p in partials:\n",
    "    print(p[0], cirq.fidelity(p[1], psi))"
   ]
  },
  {
   "cell_type": "code",
   "execution_count": 110,
   "metadata": {},
   "outputs": [
    {
     "data": {
      "text/plain": [
       "array([[ 0.47140452+0.j,  0.52704628+0.j,  0.47140452+0.j,\n",
       "         0.52704628+0.j],\n",
       "       [ 0.52704628+0.j, -0.47140452+0.j,  0.52704628+0.j,\n",
       "        -0.47140452+0.j],\n",
       "       [ 0.52704628+0.j,  0.47140452+0.j, -0.52704628+0.j,\n",
       "        -0.47140452+0.j],\n",
       "       [-0.47140452+0.j,  0.52704628+0.j,  0.47140452+0.j,\n",
       "        -0.52704628+0.j]])"
      ]
     },
     "execution_count": 110,
     "metadata": {},
     "output_type": "execute_result"
    }
   ],
   "source": [
    "g = 0.8\n",
    "\n",
    "q1, q2 = cirq.GridQubit.rect(1, 2)\n",
    "cirq.unitary(build_u1_gate(q1, q2, theta_r))"
   ]
  },
  {
   "cell_type": "code",
   "execution_count": 111,
   "metadata": {},
   "outputs": [],
   "source": [
    "size\n",
    "x_rot, x_rot_symbols = build_x_rotation_state(size=size)"
   ]
  },
  {
   "cell_type": "code",
   "execution_count": 112,
   "metadata": {},
   "outputs": [],
   "source": [
    "x_resolver = cirq.ParamResolver({'r0': get_theta_v(g), 'r1': get_theta_w(g), 'r2': get_theta_r(g)})"
   ]
  },
  {
   "cell_type": "code",
   "execution_count": 113,
   "metadata": {
    "scrolled": true
   },
   "outputs": [],
   "source": [
    "x_resolved = cirq.resolve_parameters(x_rot, x_resolver)"
   ]
  },
  {
   "cell_type": "code",
   "execution_count": 109,
   "metadata": {},
   "outputs": [],
   "source": [
    "g05 = cirq.final_state_vector(x_resolved)"
   ]
  },
  {
   "cell_type": "code",
   "execution_count": 114,
   "metadata": {},
   "outputs": [],
   "source": [
    "g1 = cirq.final_state_vector(x_resolved)"
   ]
  },
  {
   "cell_type": "code",
   "execution_count": 115,
   "metadata": {},
   "outputs": [
    {
     "data": {
      "text/plain": [
       "array([ 0.56851923+0.j        ,  0.        -0.63562375j,\n",
       "        0.        -0.2542495j , -0.2842596 +0.j        ,\n",
       "        0.        -0.21715502j, -0.24278669+0.j        ,\n",
       "       -0.09711468+0.j        ,  0.        +0.10857751j], dtype=complex64)"
      ]
     },
     "execution_count": 115,
     "metadata": {},
     "output_type": "execute_result"
    }
   ],
   "source": [
    "g1"
   ]
  },
  {
   "cell_type": "code",
   "execution_count": 116,
   "metadata": {},
   "outputs": [
    {
     "data": {
      "text/plain": [
       "array([ 0.2542495 +0.j        ,  0.        -0.2842596j ,\n",
       "        0.        -0.56851923j, -0.63562375+0.j        ,\n",
       "        0.        -0.09711468j, -0.10857751+0.j        ,\n",
       "       -0.21715502+0.j        ,  0.        +0.24278669j], dtype=complex64)"
      ]
     },
     "execution_count": 116,
     "metadata": {},
     "output_type": "execute_result"
    }
   ],
   "source": [
    "g05"
   ]
  },
  {
   "cell_type": "code",
   "execution_count": 117,
   "metadata": {},
   "outputs": [
    {
     "data": {
      "text/plain": [
       "0.5555555126335463"
      ]
     },
     "execution_count": 117,
     "metadata": {},
     "output_type": "execute_result"
    }
   ],
   "source": [
    "cirq.fidelity(g1, g05)"
   ]
  },
  {
   "cell_type": "code",
   "execution_count": null,
   "metadata": {},
   "outputs": [],
   "source": []
  }
 ],
 "metadata": {
  "kernelspec": {
   "display_name": "Python 3",
   "language": "python",
   "name": "python3"
  },
  "language_info": {
   "codemirror_mode": {
    "name": "ipython",
    "version": 3
   },
   "file_extension": ".py",
   "mimetype": "text/x-python",
   "name": "python",
   "nbconvert_exporter": "python",
   "pygments_lexer": "ipython3",
   "version": "3.8.6"
  }
 },
 "nbformat": 4,
 "nbformat_minor": 1
}
