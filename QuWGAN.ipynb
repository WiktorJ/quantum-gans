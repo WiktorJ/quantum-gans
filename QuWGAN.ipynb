{
 "cells": [
  {
   "cell_type": "code",
   "execution_count": null,
   "id": "informed-celtic",
   "metadata": {
    "scrolled": false
   },
   "outputs": [],
   "source": [
    "if 'google.colab' in str(get_ipython()):\n",
    "    !pip uninstall tensorflow -y\n",
    "    !pip install tensorflow==2.3.1 tensorflow-quantum neptune-client\n",
    "    !rm -rf quantum-gans\n",
    "    !git clone https://github.com/WiktorJ/quantum-gans\n",
    "    !cd quantum-gans; pip install .\n",
    "    neptun_token = \"\" # put manually for the time being\n",
    "else:\n",
    "    import subprocess\n",
    "    def get_var(varname):\n",
    "        CMD = 'echo $(source ~/.bash_profile; echo $%s)' % varname\n",
    "        p = subprocess.Popen(CMD, stdout=subprocess.PIPE, shell=True, executable='/bin/bash')\n",
    "        return p.stdout.readlines()[0].strip()\n",
    "    neptun_token = get_var('NEPTUNE_API_TOKEN').decode(\"utf-8\") "
   ]
  },
  {
   "cell_type": "code",
   "execution_count": null,
   "id": "enormous-discovery",
   "metadata": {
    "scrolled": false
   },
   "outputs": [],
   "source": [
    "%load_ext autoreload\n",
    "%autoreload 2"
   ]
  },
  {
   "cell_type": "code",
   "execution_count": null,
   "id": "amended-component",
   "metadata": {
    "scrolled": false
   },
   "outputs": [],
   "source": [
    "use_neptune = False"
   ]
  },
  {
   "cell_type": "code",
   "execution_count": null,
   "id": "binary-sport",
   "metadata": {
    "scrolled": false
   },
   "outputs": [],
   "source": [
    "import neptune\n",
    "import tensorflow as tf\n",
    "import random\n",
    "\n",
    "import io\n",
    "import cirq\n",
    "import numpy as np\n",
    "import statistics as st\n",
    "from matplotlib import pyplot as plt\n",
    "from collections import defaultdict\n",
    "from qsgenerator import circuits\n",
    "from qsgenerator.quwgans import circuits as quwgans_circuits\n",
    "from qsgenerator.quwgans.circuits import get_discriminator\n",
    "from qsgenerator.quwgans.training import Trainer\n",
    "from qsgenerator.phase.circuits import PhaseCircuitBuilder\n",
    "from qsgenerator.states.butterfly_circuits import ButterflyCircuitBuilder\n",
    "from qsgenerator.quwgans.real_expectations_provider import PrecomputedExpectationsProvider, \\\n",
    "    Interpolation1DExpectationsProvider, WassersteinGanExpectationProvider, ExpectationProviderType\n",
    "from qsgenerator.states.simple_rotation_generators import get_fixed_random_rotation_provider\n",
    "from qsgenerator.evaluators.circuit_evaluator import CircuitEvaluator\n",
    "from qsgenerator.phase.analitical import get_theta_v, get_theta_w, get_theta_r, get_g_parameters_provider\n"
   ]
  },
  {
   "cell_type": "code",
   "execution_count": null,
   "id": "improved-peter",
   "metadata": {
    "scrolled": true
   },
   "outputs": [],
   "source": [
    "generator_layers = 3\n",
    "data_bus_size = 6\n",
    "rank = 1\n",
    "real_circuit_type = 'butterfly'\n",
    "generic_generator = False\n",
    "zxz = False\n",
    "all_gates_parametrized = False\n",
    "expectation_provider_type = ExpectationProviderType.WGAN\n",
    "g_values = [3]\n",
    "known_g_values = list(range(32))\n",
    "# known_g_values = np.linspace(-1,-0.5,16)\n",
    "# known_g_values = [-1, -0.75, -0.5, -0.25, 0]\n",
    "if expectation_provider_type == ExpectationProviderType.WGAN:\n",
    "        gen_input_dim = 16\n",
    "        hidden_dim = [32, 64]\n",
    "        penalty_factor = 10\n",
    "        gan_epochs = 10000\n",
    "        batch_size = 8\n",
    "known_g_values"
   ]
  },
  {
   "cell_type": "code",
   "execution_count": null,
   "id": "wound-theorem",
   "metadata": {
    "scrolled": false
   },
   "outputs": [],
   "source": [
    "data_qubits = qubits = cirq.GridQubit.rect(1, data_bus_size)"
   ]
  },
  {
   "cell_type": "code",
   "execution_count": null,
   "id": "saved-canyon",
   "metadata": {
    "scrolled": false
   },
   "outputs": [],
   "source": [
    "if real_circuit_type == 'butterfly':\n",
    "    real, real_symbols = ButterflyCircuitBuilder().build(qubits=qubits)\n",
    "    real_values_provider = get_fixed_random_rotation_provider(len(real_symbols))\n",
    "else:\n",
    "    builder = PhaseCircuitBuilder(all_gates_parametrized=False, g_positive=False)\n",
    "    real, real_symbols, symbols_dict_real = builder.build_ground_state_circuit(qubits=data_qubits)\n",
    "    real_values_provider = get_g_parameters_provider()"
   ]
  },
  {
   "cell_type": "code",
   "execution_count": null,
   "id": "rotary-bailey",
   "metadata": {
    "scrolled": false
   },
   "outputs": [],
   "source": [
    "if generic_generator:\n",
    "    gen, gs = circuits.build_circuit(generator_layers, data_qubits, \"g\")\n",
    "    symbols_dict_gen = {}\n",
    "else:\n",
    "    if real_circuit_type == 'butterfly':\n",
    "        gen, gs = ButterflyCircuitBuilder(\"g\").build(qubits=qubits)\n",
    "    else:\n",
    "        builder = PhaseCircuitBuilder(all_gates_parametrized=all_gates_parametrized)\n",
    "        gen, gs, symbols_dict_gen = builder.build_ground_state_circuit(qubits=data_qubits, full_parametrization=True, zxz=zxz)"
   ]
  },
  {
   "cell_type": "code",
   "execution_count": null,
   "id": "seven-leather",
   "metadata": {
    "scrolled": false
   },
   "outputs": [],
   "source": [
    "print(\"REAL GROUND STATE\")\n",
    "real"
   ]
  },
  {
   "cell_type": "code",
   "execution_count": null,
   "id": "nasty-panel",
   "metadata": {
    "scrolled": false
   },
   "outputs": [],
   "source": [
    "print(\"GENERATOR\")\n",
    "gen"
   ]
  },
  {
   "cell_type": "code",
   "execution_count": null,
   "id": "smaller-moldova",
   "metadata": {
    "scrolled": false
   },
   "outputs": [],
   "source": [
    "opt = tf.keras.optimizers.Adam(0.01, beta_1=0.9, beta_2=0.98, \n",
    "                                     epsilon=1e-9)"
   ]
  },
  {
   "cell_type": "code",
   "execution_count": null,
   "id": "wrong-exposure",
   "metadata": {},
   "outputs": [],
   "source": [
    "def get_expectation_provider(real, real_symbols, known_g_values, real_values_provider):\n",
    "    precomputed_expectation_provider = PrecomputedExpectationsProvider(real,\n",
    "                                                                       real_symbols,\n",
    "                                                                       known_g_values,\n",
    "                                                                       real_values_provider,\n",
    "                                                                       get_discriminator(real))\n",
    "    if expectation_provider_type == ExpectationProviderType.ONLY_KNOWN:\n",
    "        return precomputed_expectation_provider\n",
    "    elif expectation_provider_type == ExpectationProviderType.INTERPOLATION1D:\n",
    "        return Interpolation1DExpectationsProvider(precomputed_expectation_provider)\n",
    "    elif expectation_provider_type == ExpectationProviderType.WGAN:\n",
    "        return WassersteinGanExpectationProvider(precomputed_expectation_provider, gen_input_dim, hidden_dim, penalty_factor, gan_epochs, batch_size)"
   ]
  },
  {
   "cell_type": "code",
   "execution_count": null,
   "id": "other-linux",
   "metadata": {},
   "outputs": [],
   "source": [
    "real_expectations_provider = get_expectation_provider(real, real_symbols, known_g_values, real_values_provider)"
   ]
  },
  {
   "cell_type": "code",
   "execution_count": null,
   "id": "multiple-difference",
   "metadata": {
    "scrolled": false
   },
   "outputs": [],
   "source": [
    "trainer = Trainer(real, \n",
    "                  real_symbols,\n",
    "                  gen,\n",
    "                  gs,\n",
    "                  g_values,\n",
    "                  real_values_provider,\n",
    "                  real_expectations_provider,\n",
    "                  rank=rank,\n",
    "                  use_neptune=use_neptune)"
   ]
  },
  {
   "cell_type": "code",
   "execution_count": null,
   "id": "expensive-sleeping",
   "metadata": {
    "scrolled": false
   },
   "outputs": [],
   "source": [
    "epochs = 501\n",
    "gen_iteration = 1\n",
    "snapshot_interval_epochs = 100"
   ]
  },
  {
   "cell_type": "code",
   "execution_count": null,
   "id": "competitive-expense",
   "metadata": {
    "scrolled": false
   },
   "outputs": [],
   "source": [
    "def start_neptune_experiment(trainer, description=None):\n",
    "    if use_neptune:\n",
    "        neptune.init(project_qualified_name='wiktor.jurasz/thesis-em', api_token=neptun_token)\n",
    "        neptun_params = {\n",
    "            'generator_layers': generator_layers,\n",
    "            'size':  data_bus_size,\n",
    "            'rank': rank,\n",
    "            'real_circuit_type': real_circuit_type,\n",
    "            'generic_generator': generic_generator,\n",
    "            'zxz': zxz,\n",
    "            'all_gates_parametrized': all_gates_parametrized,\n",
    "            'g_values': g_values,\n",
    "            'expectation_provider_type': expectation_provider_type,\n",
    "            'known_g_values': known_g_values,\n",
    "            'gen_iteration': gen_iteration,\n",
    "            'epochs': epochs\n",
    "        }\n",
    "        if expectation_provider_type == ExpectationProviderType.WGAN:\n",
    "            gan_params = {\n",
    "                'gen_input_dim': gen_input_dim,\n",
    "                'hidden_dim': hidden_dim,\n",
    "                'penalty_factor': penalty_factor,\n",
    "                'gan_epochs': gan_epochs,\n",
    "                'batch_size': batch_size\n",
    "            }\n",
    "            neptun_params = {**neptun_params, **gan_params}\n",
    "        neptune.create_experiment(name=None, description=description, params=neptun_params)\n",
    "        neptune.log_artifact(io.StringIO(str(gen)), \"gen.txt\")\n",
    "        neptune.log_artifact(io.StringIO(str(([(el[0].numpy(), el[1], list(el[2].numpy())) for el in trainer.gen_weights]))), 'init_gen_weights.txt')"
   ]
  },
  {
   "cell_type": "code",
   "execution_count": null,
   "id": "voluntary-healthcare",
   "metadata": {},
   "outputs": [],
   "source": [
    "start_neptune_experiment(trainer)"
   ]
  },
  {
   "cell_type": "code",
   "execution_count": null,
   "id": "subjective-iceland",
   "metadata": {
    "pycharm": {
     "is_executing": true
    },
    "scrolled": false
   },
   "outputs": [],
   "source": [
    "json_result = trainer.train(opt, epochs, gen_iteration, snapshot_interval_epochs, plot=True)"
   ]
  },
  {
   "cell_type": "code",
   "execution_count": null,
   "id": "higher-genetics",
   "metadata": {},
   "outputs": [],
   "source": [
    "if use_neptune:\n",
    "    neptune.stop()"
   ]
  },
  {
   "cell_type": "code",
   "execution_count": null,
   "id": "medical-boating",
   "metadata": {},
   "outputs": [],
   "source": [
    "def compute_known_states_stats(tra, g_list):\n",
    "       return compute_states_stats(\n",
    "        lambda g: tra.real_evaluator.get_state_from_params(labels=g)[1],\n",
    "        lambda g: tra.real_evaluator.get_state_from_params(labels=g)[1],\n",
    "        g_list,\n",
    "        g_list\n",
    "    ) \n",
    "\n",
    "def compute_generated_states_stats(tra, g_list):\n",
    "    return compute_states_stats(\n",
    "        lambda g: tra.gen_evaluator.get_state_from_params()[1],\n",
    "        lambda g: tra.real_evaluator.get_state_from_params(labels=g)[1],\n",
    "        [\"GENERATED\"],\n",
    "        g_list\n",
    "    )\n",
    "\n",
    "def compute_states_stats(state_prov1, state_prov2, g_list1, g_list2):\n",
    "    stats = {\n",
    "        'min_fidelity': 1,\n",
    "        'min_fidelity_tuple': (None, None),\n",
    "        'max_fidelity': 0,\n",
    "        'max_fidelity_tuple': (None, None),\n",
    "        'average_fidelity': None,\n",
    "        'std_fidelity': None\n",
    "    }\n",
    "    fids = []\n",
    "    for g1 in g_list1:\n",
    "        for g2 in g_list2:\n",
    "            if g1 != g2:\n",
    "                state1 = state_prov1(g1)\n",
    "                state2 = state_prov2(g2)\n",
    "                fid = cirq.fidelity(state1, state2)\n",
    "                fids.append(fid)\n",
    "                if fid < stats['min_fidelity']:\n",
    "                    stats['min_fidelity'] = fid\n",
    "                    stats['min_fidelity_tuple'] = (g1, g2)\n",
    "                if fid > stats['max_fidelity']:\n",
    "                    stats['max_fidelity'] = fid\n",
    "                    stats['max_fidelity_tuple'] = (g1, g2)\n",
    "                \n",
    "    stats['average_fidelity'] = st.mean(fids)\n",
    "    stats['std_fidelity'] = st.stdev(fids)\n",
    "    return stats"
   ]
  },
  {
   "cell_type": "code",
   "execution_count": null,
   "id": "dying-incidence",
   "metadata": {},
   "outputs": [],
   "source": [
    "compute_known_states_stats(trainer, known_g_values)"
   ]
  },
  {
   "cell_type": "code",
   "execution_count": null,
   "id": "fossil-portrait",
   "metadata": {},
   "outputs": [],
   "source": [
    "compute_generated_states_stats(trainer, known_g_values)"
   ]
  },
  {
   "cell_type": "code",
   "execution_count": null,
   "id": "aggressive-nelson",
   "metadata": {
    "pycharm": {
     "is_executing": true
    }
   },
   "outputs": [],
   "source": [
    "from scipy.optimize import linprog\n",
    "def get_em_distance(W, H, t):\n",
    "    traces = (t.get_all_generator_expectations(H).numpy() - t.get_real_expectation(H)).flatten()\n",
    "    return sum(x * y for x, y in zip(W, traces))\n",
    "\n",
    "def get_em_distance_real(t1, t2):\n",
    "    traces = (t1.get_real_expectation(t1.disc_hamiltonians) - t2.get_real_expectation(t2.disc_hamiltonians)).flatten()\n",
    "    res = linprog(-traces, A_ub=t1.A, b_ub=t1.b, bounds=(0, 1))\n",
    "    tt = [traces[i] for i in range(len(t1.disc_hamiltonians)) if res.x[i] > 1.e-5]\n",
    "    res2 = [res.x[i] for i in range(len(res.x)) if res.x[i] > 1.e-5]\n",
    "    return sum(x * y for x, y in zip(res2, tt))\n",
    "\n",
    "def get_em_distance2(W, H, t):\n",
    "    traces = (t.get_all_generator_expectations(t.disc_hamiltonians).numpy() -\n",
    "              t.get_real_expectation(t.disc_hamiltonians)).flatten()\n",
    "    res = linprog(-traces, A_ub=t.A, b_ub=t.b, bounds=(0, 1))\n",
    "    tt = [traces[i] for i in range(len(t.disc_hamiltonians)) if res.x[i] > 1.e-5]\n",
    "    res2 = [res.x[i] for i in range(len(res.x)) if res.x[i] > 1.e-5] \n",
    "    return sum(x * y for x, y in zip(res2, tt)), res2, tt\n",
    "\n",
    "def plot_em_distance_between_real():\n",
    "    fig, axes = plt.subplots(nrows=1, ncols=1, figsize=(18, 8))\n",
    "    # g=-0.4\n",
    "    # W, H = list(zip(*g_dict[g].last_run_generator_weights[-1].disc_w_h.items()))\n",
    "    # get_em_distance(W, H, g_dict[-0.5]), g_dict[g].last_run_generator_weights[-1].em_distance\n",
    "    g_values2 = [np.round(el, 1) for el in np.linspace(-1,0,11)]\n",
    "    tr = {}\n",
    "    for g in g_values2:\n",
    "        tr[g] = Trainer(real, real_symbols, gen, gs, [g], real_values_provider, rank=rank, use_neptune=False)\n",
    "    x = g_values2\n",
    "    for g1 in g_values2:\n",
    "        tmp_res = []\n",
    "        for g2 in g_values2:\n",
    "            tmp_res.append(get_em_distance_real(tr[g1], tr[g2]))\n",
    "        axes.plot(x, tmp_res,label=g1)\n",
    "    axes.legend()\n",
    "    plt.show()"
   ]
  },
  {
   "cell_type": "code",
   "execution_count": null,
   "id": "together-blame",
   "metadata": {
    "pycharm": {
     "is_executing": true
    }
   },
   "outputs": [],
   "source": [
    "plot_em_distance_between_real()"
   ]
  },
  {
   "cell_type": "code",
   "execution_count": null,
   "id": "bound-flavor",
   "metadata": {
    "pycharm": {
     "is_executing": true
    }
   },
   "outputs": [],
   "source": [
    "generator_layers = 3\n",
    "data_bus_size = 6\n",
    "rank = 1\n",
    "real_circuit_type = 'butterfly'\n",
    "generic_generator = False\n",
    "zxz = False\n",
    "all_gates_parametrized = False\n",
    "expectation_provider_type = ExpectationProviderType.WGAN\n",
    "known_g_values = list(range(32))\n",
    "g_values = [1, 2, 3]\n",
    "if expectation_provider_type == ExpectationProviderType.WGAN:\n",
    "        gen_input_dim = 16\n",
    "        hidden_dim = [32, 64]\n",
    "        penalty_factor = 10\n",
    "        gan_epochs = 10000\n",
    "        batch_size = 8\n",
    "        \n",
    "gen_iteration = 2\n",
    "snapshot_interval_epochs = 200\n",
    "epochs = 1201"
   ]
  },
  {
   "cell_type": "code",
   "execution_count": null,
   "id": "adapted-bottle",
   "metadata": {},
   "outputs": [],
   "source": [
    "def run_for_g_values(g_values):    \n",
    "    data_qubits = qubits = cirq.GridQubit.rect(1, data_bus_size)\n",
    "    trainers = {}\n",
    "    if real_circuit_type == 'butterfly':\n",
    "        real, real_symbols = ButterflyCircuitBuilder().build(qubits=qubits)\n",
    "        real_values_provider = get_fixed_random_rotation_provider(len(real_symbols))\n",
    "    else:\n",
    "        builder = PhaseCircuitBuilder(all_gates_parametrized=False)\n",
    "        real, real_symbols, symbols_dict_real = builder.build_ground_state_circuit(qubits=data_qubits)\n",
    "        real_values_provider = get_g_parameters_provider()\n",
    "\n",
    "    if generic_generator:\n",
    "        gen, gs = circuits.build_circuit(generator_layers, data_qubits, \"g\")\n",
    "        symbols_dict_gen = {}\n",
    "    else:\n",
    "        builder = PhaseCircuitBuilder(all_gates_parametrized=all_gates_parametrized)\n",
    "        gen, gs, symbols_dict_gen = builder.build_ground_state_circuit(qubits=data_qubits, full_parametrization=True, zxz=zxz)\n",
    "    \n",
    "    real_expectations_provider = get_expectation_provider(real, real_symbols, known_g_values, real_values_provider)\n",
    "\n",
    "    for g in g_values:\n",
    "        trainers[g] = Trainer(real, \n",
    "                              real_symbols, \n",
    "                              gen, \n",
    "                              gs, \n",
    "                              [g], \n",
    "                              real_values_provider, \n",
    "                              real_expectations_provider,\n",
    "                              rank=rank, \n",
    "                              use_neptune=False)\n",
    "\n",
    "        opt = tf.keras.optimizers.Adam(0.01, beta_1=0.9, beta_2=0.98, epsilon=1e-9)\n",
    "\n",
    "        start_neptune_experiment(trainers[g])\n",
    "\n",
    "        json_result =  trainers[g].train(opt, epochs, gen_iteration, snapshot_interval_epochs, plot=True)\n",
    "        trainers[g] = json_result\n",
    "    \n",
    "        if use_neptune:\n",
    "            neptune.stop()\n",
    "    return trainers"
   ]
  },
  {
   "cell_type": "code",
   "execution_count": null,
   "id": "discrete-formation",
   "metadata": {},
   "outputs": [],
   "source": [
    "run_for_g_values(g_values)"
   ]
  },
  {
   "cell_type": "code",
   "execution_count": null,
   "id": "boring-postage",
   "metadata": {
    "pycharm": {
     "is_executing": true
    },
    "scrolled": false
   },
   "outputs": [],
   "source": [
    "gen_iteration = 2\n",
    "snapshot_interval_epochs = 200\n",
    "epochs = 801\n",
    "training_result = {}\n",
    "trainer_dict = {}\n",
    "for j, g in enumerate(g_values):\n",
    "    trainer_by_size = {}\n",
    "    result_by_size = {}\n",
    "    training_result[(j, g)] = result_by_size\n",
    "    trainer_dict[(j, g)] = trainer_by_size\n",
    "    for i, data_bus_size in enumerate(sizes):\n",
    "        data_qubits = qubits = cirq.GridQubit.rect(1, data_bus_size)\n",
    "        \n",
    "        if real_circuit_type == 'butterfly':\n",
    "            real, real_symbols = ButterflyCircuitBuilder().build(qubits=qubits)\n",
    "            real_values_provider = get_fixed_random_rotation_provider(len(real_symbols))\n",
    "        else:\n",
    "            builder = PhaseCircuitBuilder(all_gates_parametrized=False)\n",
    "            real, real_symbols, symbols_dict_real = builder.build_ground_state_circuit(qubits=data_qubits)\n",
    "            real_values_provider = get_g_parameters_provider()\n",
    "\n",
    "        if generic_generator:\n",
    "            gen, gs = circuits.build_circuit(generator_layers, data_qubits, \"g\")\n",
    "            symbols_dict_gen = {}\n",
    "        else:\n",
    "            builder = PhaseCircuitBuilder(all_gates_parametrized=all_gates_parametrized)\n",
    "            gen, gs, symbols_dict_gen = builder.build_ground_state_circuit(qubits=data_qubits, full_parametrization=True, zxz=zxz)\n",
    "        real_expectations_provider = get_expectation_provider(real, real_symbols, known_g_values, real_values_provider)\n",
    "\n",
    "        trainer_by_size[(i, data_bus_size)] = Trainer(real, \n",
    "                                                      real_symbols, \n",
    "                                                      gen, \n",
    "                                                      gs, \n",
    "                                                      [g], \n",
    "                                                      real_values_provider, \n",
    "                                                      real_expectations_provider,\n",
    "                                                      rank=rank, \n",
    "                                                      use_neptune=False)\n",
    "        \n",
    "        opt = tf.keras.optimizers.Adam(0.01, beta_1=0.9, beta_2=0.98, epsilon=1e-9)\n",
    "                \n",
    "        start_neptune_experiment(trainer_by_size[(i, data_bus_size)])\n",
    "\n",
    "        json_result = trainer_by_size[(i, data_bus_size)].train(opt, epochs, gen_iteration, snapshot_interval_epochs, plot=True)\n",
    "        training_result[(i,data_bus_size)] = json_result\n",
    "        \n",
    "        if use_neptune:\n",
    "            neptune.stop()\n"
   ]
  },
  {
   "cell_type": "code",
   "execution_count": null,
   "id": "patent-swimming",
   "metadata": {
    "pycharm": {
     "is_executing": true
    },
    "scrolled": true
   },
   "outputs": [],
   "source": [
    "# print fidelities of each generator\n",
    "# get all hamiltonians of each discriminator (final iteration) - r\n",
    "r = defaultdict(lambda: defaultdict(list))\n",
    "# rg = defaultdict(lambda: defaultdict(list))\n",
    "for j, g in enumerate(g_values):\n",
    "    for i, s in enumerate(sizes):\n",
    "        print(f\"({j},{g}), ({i}, {s})\" \\\n",
    "              f\"abs_fidelity: {trainer_dict[(j, g)][(i, s)].last_run_generator_weights[-1].fidelities[0].abs_fidelity}\")\n",
    "        for k,v in trainer_dict[(j, g)][(i, s)].last_run_generator_weights[-1].disc_w_h.items():\n",
    "            r[g][str(v)].append(i)\n",
    "            r[\"COMBINED\"][str(v)].append(i)\n",
    "#             if g_dict[(i, g)].last_run_generator_weights[-1].trace_distance > 0.9:\n",
    "#                 rg[g][str(v)].append(i)\n",
    "r"
   ]
  },
  {
   "cell_type": "code",
   "execution_count": null,
   "id": "convertible-rochester",
   "metadata": {
    "pycharm": {
     "is_executing": true
    }
   },
   "outputs": [],
   "source": [
    "np.set_printoptions(suppress=True)\n",
    "def get_expectations_real(g, t):\n",
    "    full_weights = tf.keras.layers.Layer()(\n",
    "                tf.Variable(np.array(t.real_values_provider(g), dtype=np.float32)))\n",
    "    full_weights = tf.reshape(full_weights, (1, full_weights.shape[0]))\n",
    "    exps = t.real_expectation([t.real],\n",
    "                                         symbol_names=t.real_symbols,\n",
    "                                         symbol_values=full_weights,\n",
    "                                         operators=t.disc_hamiltonians)\n",
    "    return {h: e for e, h in zip(exps.numpy()[0], [str(h) for h in t.disc_hamiltonians])}\n",
    "\n",
    "def get_expectations_gen(g, t):\n",
    "    full_weights = tf.keras.layers.Layer()(t.gen_weights[0][2])\n",
    "    full_weights = tf.reshape(full_weights, (1, full_weights.shape[0]))\n",
    "    exps = t.gen_expectation([t.gen],\n",
    "                                         symbol_names=t.gs,\n",
    "                                         symbol_values=full_weights,\n",
    "                                         operators=t.disc_hamiltonians)\n",
    "    return {h: e for e, h in zip(exps.numpy()[0], [str(h) for h in t.disc_hamiltonians])}\n",
    "\n",
    "def get_exps(g_list, trainer, eps=1e-3):\n",
    "    res = defaultdict(list)\n",
    "    for g in g_list:\n",
    "        for e in (fe for fe in get_expectations_real(g, trainer).items() if abs(float(fe[1])) >= eps):\n",
    "            res[e[0]].append(e[1])\n",
    "    return res\n",
    "\n",
    "def get_exp(g, trainer, eps=1e-3):\n",
    "    res_r = defaultdict(list)\n",
    "    res_g = defaultdict(list)\n",
    "    for e in (fe for fe in get_expectations_real(g, trainer).items() if abs(float(fe[1])) >= eps ):\n",
    "        res_r[e[0]].append(e[1])\n",
    "    for e in (fe for fe in get_expectations_gen(g, trainer).items() if abs(float(fe[1])) >= eps ):\n",
    "        res_g[e[0]].append(e[1])\n",
    "    return res_r, res_g"
   ]
  },
  {
   "cell_type": "code",
   "execution_count": null,
   "id": "indoor-portrait",
   "metadata": {
    "pycharm": {
     "is_executing": true
    },
    "scrolled": true
   },
   "outputs": [],
   "source": [
    "# plot change in the expectation per pauli string\n",
    "fig, axes = plt.subplots(nrows=1, ncols=1, figsize=(18, 8))\n",
    "g_values_list = [0,1]\n",
    "# random.shuffle(g_values_list)\n",
    "es = get_exps(g_values_list, trainer_dict[(0, -0.8)][(0, 3)])\n",
    "res = []\n",
    "for k, v in es.items():\n",
    "    c = []\n",
    "    for i in range(len(v)):\n",
    "          c.append(float(v[i]))\n",
    "    res.append(c)\n",
    "    x = list(range(len(c)))\n",
    "    axes.plot(x, c,label=k)\n",
    "axes.legend()\n",
    "plt.show()\n",
    "es"
   ]
  },
  {
   "cell_type": "code",
   "execution_count": null,
   "id": "clinical-drink",
   "metadata": {
    "pycharm": {
     "is_executing": true
    },
    "scrolled": false
   },
   "outputs": [],
   "source": [
    "# plots expecation change for different g for all pauli string with expecation higher than eps\n",
    "fig, axes = plt.subplots(nrows=1, ncols=1, figsize=(18, 8))\n",
    "g_values_list = [np.round(el, 3) for el in np.linspace(-1,0,11)]\n",
    "x_indexes = False\n",
    "print(g_values_list)\n",
    "# random.shuffle(g_values_list)\n",
    "eps = 1.e-1\n",
    "res = defaultdict(list)\n",
    "for g in g_values_list:\n",
    "    exps = get_exp(g, trainer, eps=0)\n",
    "    for pauli_string, exp in exps.items():\n",
    "        res[pauli_string].append(float(exp[0]))\n",
    "curated_res = {k: v for k, v in res.items() if any(abs(el) > eps for el in res[k])}\n",
    "for pauli_string, exp in curated_res.items():\n",
    "    if x_indexes:\n",
    "        axes.plot(range(len(g_values_list)), exp,label=pauli_string)\n",
    "    else:\n",
    "        axes.plot(g_values_list, exp,label=pauli_string) \n",
    "axes.legend()\n",
    "axes.set_xlabel(\"g\")\n",
    "axes.set_ylabel(\"expectation\")\n",
    "plt.show()  "
   ]
  },
  {
   "cell_type": "code",
   "execution_count": null,
   "id": "interior-crest",
   "metadata": {
    "pycharm": {
     "is_executing": true
    }
   },
   "outputs": [],
   "source": [
    "# calculates expectations of each pauli string for all sizes of circuits\n",
    "circuits_gen = []\n",
    "circuits_real = []\n",
    "size_to_exps_real = {}\n",
    "size_to_exps_gen = {}\n",
    "g = -0.8\n",
    "eps = 1.e-5\n",
    "for j, g in enumerate(g_values):\n",
    "    for i, s in enumerate(sizes):\n",
    "        tr = trainer_dict[(j, g)][(i, s)]\n",
    "        size_to_exps_real[s] = get_expectations_real(g, tr)\n",
    "        size_to_exps_gen[s] = get_expectations_gen(g, tr)\n",
    "        circuits_gen.append(tr.gen_evaluator.get_all_resolved_circuits()[0][2])\n",
    "        circuits_real.append(tr.real_evaluator.get_all_resolved_circuits()[0][2])\n",
    "string_to_exp = defaultdict(list)\n",
    "for s, exps_real in size_to_exps_real.items():\n",
    "    exps_gen = size_to_exps_gen[s]\n",
    "    for pauli_string, exp_real in exps_real.items():\n",
    "        exp_gen = exps_gen[pauli_string]\n",
    "        string_to_exp[pauli_string].append((exp_real, exp_gen))\n",
    "curated_string_to_exp = {k: v for k, v in string_to_exp.items() if any(abs(float(el[0])) > eps for el in string_to_exp[k])}"
   ]
  },
  {
   "cell_type": "code",
   "execution_count": null,
   "id": "lasting-algebra",
   "metadata": {
    "pycharm": {
     "is_executing": true
    },
    "scrolled": true
   },
   "outputs": [],
   "source": [
    "curated_string_to_exp"
   ]
  },
  {
   "cell_type": "code",
   "execution_count": null,
   "id": "minimal-failure",
   "metadata": {
    "pycharm": {
     "is_executing": true
    }
   },
   "outputs": [],
   "source": [
    "def remove_last_n_qubits(circuit, n):\n",
    "    circuit = circuit.copy()\n",
    "    qubits_to_remove = sorted(list(circuit.all_qubits()))\n",
    "    circuit.clear_operations_touching(qubits_to_remove[-n:], list(range(len(circuit.moments))))\n",
    "    return circuit"
   ]
  },
  {
   "cell_type": "code",
   "execution_count": null,
   "id": "hungry-italy",
   "metadata": {
    "pycharm": {
     "is_executing": true
    }
   },
   "outputs": [],
   "source": [
    "# get fidelity between truncated and trained circuit\n",
    "truncated_circuit = remove_last_n_qubits(circuits_gen[1], 1)\n",
    "cirq.fidelity(abs(cirq.final_state_vector(truncated_circuit)), abs(cirq.final_state_vector(circuits_gen[0])))"
   ]
  },
  {
   "cell_type": "code",
   "execution_count": null,
   "id": "speaking-carrier",
   "metadata": {
    "pycharm": {
     "is_executing": true
    }
   },
   "outputs": [],
   "source": [
    "def combine_circuits(circuit, smaller_symbol_value_pairs, larger_symbol_value_pairs, larger_to_smaller_map):\n",
    "    combined_pairs = larger_symbol_value_pairs.copy()\n",
    "    for ls, ss in larger_to_smaller_map.items():\n",
    "        combined_pairs[ls] = smaller_symbol_value_pairs.get(ss, larger_symbol_value_pairs[ls])\n",
    "    resolver = cirq.ParamResolver(combined_pairs)\n",
    "    return cirq.final_state_vector(cirq.resolve_parameters(circuit, resolver))\n",
    "\n",
    "def get_symbols_per_qubit(circuit):\n",
    "    qubit_to_symbols = defaultdict(list)\n",
    "    for op in circuit.all_operations():\n",
    "        symbol = op.gate.exponent\n",
    "        if len(symbol.args) > 1:\n",
    "            symbol = symbol.args[0]\n",
    "        q = op.qubits[-1]\n",
    "        qubit_to_symbols[q].append(symbol)\n",
    "    return qubit_to_symbols\n",
    "\n",
    "def match_symbols(larger_circuit, smaller_circuit):\n",
    "    matched = {}\n",
    "    for q, symbols_smaller in smaller_circuit.items():\n",
    "        symbols_larger = larger_circuit[q]\n",
    "        for bs, ss in zip(symbols_larger, symbols_smaller):\n",
    "            matched[bs] = ss\n",
    "    return matched"
   ]
  },
  {
   "cell_type": "code",
   "execution_count": null,
   "id": "shared-charm",
   "metadata": {
    "pycharm": {
     "is_executing": true
    }
   },
   "outputs": [],
   "source": [
    "# get fidelity between trainer and combined circuit (generator)\n",
    "# smaller circuit (generator) weights are used in the larger when \n",
    "# (for the qubits that are common for both the rest is from the larger one)\n",
    "smaller = trainer_dict[(0,-0.8)][(0,3)]\n",
    "larger = trainer_dict[(0,-0.8)][(1,4)]\n",
    "cirq.fidelity(abs(combine_circuits(larger.gen, \n",
    "                 smaller.gen_evaluator.symbol_value_pairs[0][2], \n",
    "                 larger.gen_evaluator.symbol_value_pairs[0][2],\n",
    "                 match_symbols(get_symbols_per_qubit(g_dict[(1, 4)].gen), \n",
    "                                   get_symbols_per_qubit(smaller.gen)))), \n",
    "              abs(larger.gen_evaluator.get_all_states_from_params()[0][2]))"
   ]
  },
  {
   "cell_type": "code",
   "execution_count": null,
   "id": "laughing-advantage",
   "metadata": {
    "pycharm": {
     "is_executing": true
    }
   },
   "outputs": [],
   "source": [
    "precomp_exp_provider = PrecomputedExpectationsProvider(trainer.real, trainer.real_symbols,  np.linspace(-1,0,11), real_values_provider,  quwgans_circuits.get_discriminator(trainer.real))"
   ]
  },
  {
   "cell_type": "code",
   "execution_count": null,
   "id": "demographic-spank",
   "metadata": {
    "pycharm": {
     "is_executing": true
    }
   },
   "outputs": [],
   "source": [
    "interpolation_1d_expectations_provider = Interpolation1DExpectationsProvider(precomp_exp_provider)"
   ]
  },
  {
   "cell_type": "code",
   "execution_count": null,
   "id": "stunning-senior",
   "metadata": {
    "pycharm": {
     "is_executing": true
    }
   },
   "outputs": [],
   "source": [
    "interpolation_1d_expectations_provider.get_expectations_for_parameters([-0.75])"
   ]
  },
  {
   "cell_type": "code",
   "execution_count": null,
   "id": "liable-initial",
   "metadata": {
    "pycharm": {
     "is_executing": true
    }
   },
   "outputs": [],
   "source": [
    "gen_input_dim = 10\n",
    "hidden_dim = 32\n",
    "penalty_factor = 10\n",
    "epochs = 5000\n",
    "batch_size = 4\n",
    "wgan_exp_provider = WassersteinGanExpectationProvider(precomp_exp_provider, gen_input_dim, hidden_dim, penalty_factor, epochs, batch_size)"
   ]
  },
  {
   "cell_type": "code",
   "execution_count": null,
   "id": "stupid-hometown",
   "metadata": {
    "pycharm": {
     "is_executing": true
    },
    "scrolled": true
   },
   "outputs": [],
   "source": [
    "wgan_exp_provider.initialize()"
   ]
  },
  {
   "cell_type": "code",
   "execution_count": null,
   "id": "comparative-puppy",
   "metadata": {
    "pycharm": {
     "is_executing": true
    },
    "scrolled": true
   },
   "outputs": [],
   "source": [
    "wgan_exp_provider.get_expectations_for_parameters([2])"
   ]
  },
  {
   "cell_type": "code",
   "execution_count": null,
   "id": "personalized-lawyer",
   "metadata": {},
   "outputs": [],
   "source": [
    "(trainer.real_expectations_provider.generator(tf.random.normal([1, trainer.real_expectations_provider.gen_input_dim])).numpy()[0] * 2) - 1"
   ]
  },
  {
   "cell_type": "code",
   "execution_count": null,
   "id": "adjustable-villa",
   "metadata": {
    "scrolled": false
   },
   "outputs": [],
   "source": [
    "re_exps = trainer.real_expectations_provider.get_expectations_for_parameters([1])[1]\n",
    "{s: e for s, e in re_exps.items() if abs(e) > 0.1}"
   ]
  },
  {
   "cell_type": "code",
   "execution_count": null,
   "id": "marine-creation",
   "metadata": {
    "scrolled": false
   },
   "outputs": [],
   "source": [
    "trainer.real_expectations_provider.precomputed_expectations_provider.eps = 0.1\n",
    "trainer.real_expectations_provider.precomputed_expectations_provider.get_expectations_for_parameters([2], filter_small_expectations=True)"
   ]
  },
  {
   "cell_type": "code",
   "execution_count": null,
   "id": "timely-italian",
   "metadata": {
    "scrolled": true
   },
   "outputs": [],
   "source": [
    "trainer.gen_evaluator.get_state_from_params()[1]"
   ]
  },
  {
   "cell_type": "code",
   "execution_count": null,
   "id": "regulation-mattress",
   "metadata": {
    "scrolled": true
   },
   "outputs": [],
   "source": [
    "trainer.real_evaluator.get_state_from_params(labels=3)[1]"
   ]
  },
  {
   "cell_type": "code",
   "execution_count": null,
   "id": "crucial-repeat",
   "metadata": {
    "pycharm": {
     "is_executing": true
    },
    "scrolled": true
   },
   "outputs": [],
   "source": [
    "get_exp(0, trainer, eps=1.e-3)"
   ]
  },
  {
   "cell_type": "code",
   "execution_count": null,
   "id": "equipped-grade",
   "metadata": {},
   "outputs": [],
   "source": []
  }
 ],
 "metadata": {
  "kernelspec": {
   "display_name": "Python 3",
   "language": "python",
   "name": "python3"
  },
  "language_info": {
   "codemirror_mode": {
    "name": "ipython",
    "version": 3
   },
   "file_extension": ".py",
   "mimetype": "text/x-python",
   "name": "python",
   "nbconvert_exporter": "python",
   "pygments_lexer": "ipython3",
   "version": "3.8.7"
  }
 },
 "nbformat": 4,
 "nbformat_minor": 5
}
