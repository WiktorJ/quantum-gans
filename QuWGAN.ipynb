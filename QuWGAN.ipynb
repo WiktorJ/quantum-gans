{
 "cells": [
  {
   "cell_type": "code",
   "execution_count": 1,
   "id": "reduced-kennedy",
   "metadata": {},
   "outputs": [],
   "source": [
    "if 'google.colab' in str(get_ipython()):\n",
    "    !pip uninstall tensorflow -y\n",
    "    !pip install tensorflow==2.3.1 tensorflow-quantum neptune-client\n",
    "    !rm -rf quantum-gans\n",
    "    !git clone https://github.com/WiktorJ/quantum-gans\n",
    "    !cd quantum-gans; pip install .\n",
    "    neptun_token = \"\" # put manually for the time being\n",
    "else:\n",
    "    import subprocess\n",
    "    def get_var(varname):\n",
    "        CMD = 'echo $(source ~/.bash_profile; echo $%s)' % varname\n",
    "        p = subprocess.Popen(CMD, stdout=subprocess.PIPE, shell=True, executable='/bin/bash')\n",
    "        return p.stdout.readlines()[0].strip()\n",
    "    neptun_token = get_var('NEPTUNE_API_TOKEN').decode(\"utf-8\") "
   ]
  },
  {
   "cell_type": "code",
   "execution_count": 4,
   "id": "continuous-tunnel",
   "metadata": {},
   "outputs": [],
   "source": [
    "%load_ext autoreload\n",
    "%autoreload 2"
   ]
  },
  {
   "cell_type": "code",
   "execution_count": 25,
   "id": "latin-accommodation",
   "metadata": {},
   "outputs": [],
   "source": [
    "import neptune\n",
    "import tensorflow as tf\n",
    "\n",
    "import cirq\n",
    "import numpy as np\n",
    "from qsgenerator import circuits\n",
    "from qsgenerator.quwgans import circuits as quwgans_circuits\n",
    "from qsgenerator.quwgans.training import Trainer\n",
    "from qsgenerator.phase.circuits import PhaseCircuitBuilder\n",
    "from qsgenerator.evaluators.circuit_evaluator import CircuitEvaluator\n",
    "from qsgenerator.phase.analitical import get_theta_v, get_theta_w, get_theta_r, get_g_parameters_provider\n"
   ]
  },
  {
   "cell_type": "code",
   "execution_count": 16,
   "id": "mexican-exploration",
   "metadata": {},
   "outputs": [],
   "source": [
    "use_neptune = False"
   ]
  },
  {
   "cell_type": "code",
   "execution_count": 408,
   "id": "aquatic-contribution",
   "metadata": {},
   "outputs": [],
   "source": [
    "generator_layers = 2\n",
    "data_bus_size = 4\n",
    "generator_bath_size = 1"
   ]
  },
  {
   "cell_type": "code",
   "execution_count": 409,
   "id": "infinite-satellite",
   "metadata": {},
   "outputs": [],
   "source": [
    "real_phase = True\n",
    "generic_generator = True\n",
    "zxz = False\n",
    "all_gates_parametrized = False"
   ]
  },
  {
   "cell_type": "code",
   "execution_count": 410,
   "id": "related-acrobat",
   "metadata": {},
   "outputs": [],
   "source": [
    "data_qubits = qubits = cirq.GridQubit.rect(1, data_bus_size)"
   ]
  },
  {
   "cell_type": "code",
   "execution_count": 411,
   "id": "quality-package",
   "metadata": {},
   "outputs": [],
   "source": [
    "builder = PhaseCircuitBuilder(all_gates_parametrized=False)\n",
    "real, real_symbols, symbols_dict_real = builder.build_ground_state_circuit(qubits=data_qubits)"
   ]
  },
  {
   "cell_type": "code",
   "execution_count": 412,
   "id": "insured-nightlife",
   "metadata": {},
   "outputs": [],
   "source": [
    "pauli_strings, qubit_to_string_index = quwgans_circuits.get_discriminator(real)"
   ]
  },
  {
   "cell_type": "code",
   "execution_count": 413,
   "id": "flush-electricity",
   "metadata": {},
   "outputs": [],
   "source": [
    "if generic_generator:\n",
    "    gen, gs = circuits.build_circuit(generator_layers, data_qubits, \"g\")\n",
    "    symbols_dict_gen = {}\n",
    "else:\n",
    "    builder = PhaseCircuitBuilder(all_gates_parametrized=all_gates_parametrized)\n",
    "    gen, gs, symbols_dict_gen = builder.build_ground_state_circuit(qubits=data_qubits, full_parametrization=True, zxz=zxz)"
   ]
  },
  {
   "cell_type": "code",
   "execution_count": 414,
   "id": "strong-structure",
   "metadata": {},
   "outputs": [
    {
     "name": "stdout",
     "output_type": "stream",
     "text": [
      "REAL GROUND STATE\n"
     ]
    },
    {
     "data": {
      "text/html": [
       "<pre style=\"overflow: auto; white-space: pre;\">(0, 0): ───H───@─────────────────────────@───────────────────────────────────────────────────────────────────────────────────────────────────────────────────────────────────────────────────────────────────────\n",
       "               │                         │\n",
       "(0, 1): ───────X───Z───Ry(theta_r)───H───X───H───X─────────────@───X───────────────────────────────────@───X─────────────────────────────────────────────────────────────────────────────────────────────────────\n",
       "                                                               │                                       │\n",
       "(0, 2): ─────────────────────────────────────────Ry(theta_w)───X───X───Ry(theta_w)───X───Ry(theta_v)───X───X───Ry(theta_v)───X───X─────────────@───X───────────────────────────────────@───X─────────────────────\n",
       "                                                                                                                                               │                                       │\n",
       "(0, 3): ─────────────────────────────────────────────────────────────────────────────────────────────────────────────────────────Ry(theta_w)───X───X───Ry(theta_w)───X───Ry(theta_v)───X───X───Ry(theta_v)───X───</pre>"
      ],
      "text/plain": [
       "(0, 0): ───H───@─────────────────────────@───────────────────────────────────────────────────────────────────────────────────────────────────────────────────────────────────────────────────────────────────────\n",
       "               │                         │\n",
       "(0, 1): ───────X───Z───Ry(theta_r)───H───X───H───X─────────────@───X───────────────────────────────────@───X─────────────────────────────────────────────────────────────────────────────────────────────────────\n",
       "                                                               │                                       │\n",
       "(0, 2): ─────────────────────────────────────────Ry(theta_w)───X───X───Ry(theta_w)───X───Ry(theta_v)───X───X───Ry(theta_v)───X───X─────────────@───X───────────────────────────────────@───X─────────────────────\n",
       "                                                                                                                                               │                                       │\n",
       "(0, 3): ─────────────────────────────────────────────────────────────────────────────────────────────────────────────────────────Ry(theta_w)───X───X───Ry(theta_w)───X───Ry(theta_v)───X───X───Ry(theta_v)───X───"
      ]
     },
     "execution_count": 414,
     "metadata": {},
     "output_type": "execute_result"
    }
   ],
   "source": [
    "print(\"REAL GROUND STATE\")\n",
    "real"
   ]
  },
  {
   "cell_type": "code",
   "execution_count": 415,
   "id": "southwest-delhi",
   "metadata": {},
   "outputs": [
    {
     "name": "stdout",
     "output_type": "stream",
     "text": [
      "GENERATOR\n"
     ]
    },
    {
     "data": {
      "text/html": [
       "<pre style=\"overflow: auto; white-space: pre;\">(0, 0): ───Rx(g0)───Rz(g4)───ZZ───────────────Rx(g11)───Rz(g15)───ZZ────────────────\n",
       "                             │                                    │\n",
       "(0, 1): ───Rx(g1)───Rz(g5)───ZZ^g8───ZZ───────Rx(g12)───Rz(g16)───ZZ^g19───ZZ───────\n",
       "                                     │                                     │\n",
       "(0, 2): ───Rx(g2)───Rz(g6)───ZZ──────ZZ^g10───Rx(g13)───Rz(g17)───ZZ───────ZZ^g21───\n",
       "                             │                                    │\n",
       "(0, 3): ───Rx(g3)───Rz(g7)───ZZ^g9────────────Rx(g14)───Rz(g18)───ZZ^g20────────────</pre>"
      ],
      "text/plain": [
       "(0, 0): ───Rx(g0)───Rz(g4)───ZZ───────────────Rx(g11)───Rz(g15)───ZZ────────────────\n",
       "                             │                                    │\n",
       "(0, 1): ───Rx(g1)───Rz(g5)───ZZ^g8───ZZ───────Rx(g12)───Rz(g16)───ZZ^g19───ZZ───────\n",
       "                                     │                                     │\n",
       "(0, 2): ───Rx(g2)───Rz(g6)───ZZ──────ZZ^g10───Rx(g13)───Rz(g17)───ZZ───────ZZ^g21───\n",
       "                             │                                    │\n",
       "(0, 3): ───Rx(g3)───Rz(g7)───ZZ^g9────────────Rx(g14)───Rz(g18)───ZZ^g20────────────"
      ]
     },
     "execution_count": 415,
     "metadata": {},
     "output_type": "execute_result"
    }
   ],
   "source": [
    "print(\"GENERATOR\")\n",
    "gen"
   ]
  },
  {
   "cell_type": "code",
   "execution_count": 416,
   "id": "removable-webmaster",
   "metadata": {},
   "outputs": [],
   "source": [
    "g_values = [-0.5]\n",
    "real_values_provider = get_g_parameters_provider()"
   ]
  },
  {
   "cell_type": "code",
   "execution_count": 417,
   "id": "controlled-litigation",
   "metadata": {},
   "outputs": [],
   "source": [
    "opt = tf.keras.optimizers.Adam(0.01, beta_1=0.9, beta_2=0.98, \n",
    "                                     epsilon=1e-9)"
   ]
  },
  {
   "cell_type": "code",
   "execution_count": 418,
   "id": "northern-printer",
   "metadata": {},
   "outputs": [],
   "source": [
    "trainer = Trainer(real, \n",
    "                  real_symbols,\n",
    "                  gen,\n",
    "                  gs,\n",
    "                  g_values,\n",
    "                  real_values_provider,\n",
    "                  use_neptune=use_neptune)"
   ]
  },
  {
   "cell_type": "code",
   "execution_count": 419,
   "id": "visible-folks",
   "metadata": {},
   "outputs": [],
   "source": [
    "epochs = 1000\n",
    "gen_iteration = 1\n",
    "snapshot_interval_epochs = 100"
   ]
  },
  {
   "cell_type": "code",
   "execution_count": 420,
   "id": "provincial-haiti",
   "metadata": {},
   "outputs": [
    {
     "data": {
      "text/plain": [
       "<Figure size 432x288 with 0 Axes>"
      ]
     },
     "metadata": {},
     "output_type": "display_data"
    },
    {
     "data": {
      "image/png": "[encoded data removed]",
      "text/plain": [
       "<Figure size 1296x360 with 3 Axes>"
      ]
     },
     "metadata": {
      "needs_background": "light"
     },
     "output_type": "display_data"
    },
    {
     "name": "stdout",
     "output_type": "stream",
     "text": [
      "----------------------------------------------------\n",
      "Epoch 900:  distance = 0.11486505633524483\n",
      "h=Z((0, 2)), w=0.9999999929722082, e=0.00521378219127655\n",
      "h=Z((0, 1))*Z((0, 3)), w=0.9999999927177784, e=0.10965127497911453\n",
      "Fidelity for g=-0.5 : 0.056016463595676136\n",
      "Fidelity modulo for g=-0.5 : 0.056016463595676136\n"
     ]
    }
   ],
   "source": [
    "trainer.train(opt, epochs, gen_iteration, snapshot_interval_epochs, plot=True)"
   ]
  },
  {
   "cell_type": "code",
   "execution_count": 368,
   "id": "honest-incidence",
   "metadata": {},
   "outputs": [],
   "source": [
    "def get_states_and_fidelty_for_real(gen_evaluator, \n",
    "                                    real_evaluator,\n",
    "                                    g, \n",
    "                                    size):\n",
    "    generated = gen_evaluator.get_state_from_params(trace_dims=list(range(size)))\n",
    "    real = real_evaluator.get_state_from_params(g)\n",
    "    return generated, real, cirq.fidelity(generated, real), cirq.fidelity(abs(generated), abs(real))"
   ]
  },
  {
   "cell_type": "code",
   "execution_count": 369,
   "id": "engaged-penalty",
   "metadata": {},
   "outputs": [],
   "source": [
    "gen_evaluator = trainer.gen_evaluator\n",
    "real_evaluator = trainer.real_evaluator"
   ]
  },
  {
   "cell_type": "code",
   "execution_count": 362,
   "id": "sudden-reception",
   "metadata": {},
   "outputs": [],
   "source": [
    "gen_evaluator.circuit.append([cirq.H(data_qubits[0])])"
   ]
  },
  {
   "cell_type": "code",
   "execution_count": 363,
   "id": "finite-salvation",
   "metadata": {},
   "outputs": [
    {
     "data": {
      "text/html": [
       "<pre style=\"overflow: auto; white-space: pre;\">(0, 0): ───Rx(g0)───Rz(g3)───ZZ──────────────Rx(g8)────Rz(g11)───ZZ───────X────────X───H───H───\n",
       "                             │                                   │\n",
       "(0, 1): ───Rx(g1)───Rz(g4)───ZZ^g6───ZZ──────Rx(g9)────Rz(g12)───ZZ^g14───ZZ───────────────────\n",
       "                                     │                                    │\n",
       "(0, 2): ───Rx(g2)───Rz(g5)───────────ZZ^g7───Rx(g10)───Rz(g13)────────────ZZ^g15───────────────</pre>"
      ],
      "text/plain": [
       "(0, 0): ───Rx(g0)───Rz(g3)───ZZ──────────────Rx(g8)────Rz(g11)───ZZ───────X────────X───H───H───\n",
       "                             │                                   │\n",
       "(0, 1): ───Rx(g1)───Rz(g4)───ZZ^g6───ZZ──────Rx(g9)────Rz(g12)───ZZ^g14───ZZ───────────────────\n",
       "                                     │                                    │\n",
       "(0, 2): ───Rx(g2)───Rz(g5)───────────ZZ^g7───Rx(g10)───Rz(g13)────────────ZZ^g15───────────────"
      ]
     },
     "execution_count": 363,
     "metadata": {},
     "output_type": "execute_result"
    }
   ],
   "source": [
    "gen_evaluator.circuit"
   ]
  },
  {
   "cell_type": "code",
   "execution_count": 372,
   "id": "finite-depth",
   "metadata": {},
   "outputs": [],
   "source": [
    "g = g_values[0]\n",
    "generated_state, real_state, fidelity, abs_fidelity = get_states_and_fidelty_for_real(gen_evaluator, real_evaluator, g, data_bus_size)"
   ]
  },
  {
   "cell_type": "code",
   "execution_count": 373,
   "id": "subsequent-biotechnology",
   "metadata": {},
   "outputs": [
    {
     "data": {
      "text/plain": [
       "(array([-0.2154793 -0.2515042j , -0.30712613-0.35557985j,\n",
       "         0.21746853+0.25720018j, -0.15528816-0.1770467j ,\n",
       "        -0.17139682-0.16038331j, -0.24480163-0.22601509j,\n",
       "         0.34456605+0.32536352j, -0.24459085-0.22388345j], dtype=complex64),\n",
       " array([ 0.3333333 +0.j,  0.47140452+0.j,  0.33333334+0.j, -0.23570225+0.j,\n",
       "         0.23570225+0.j,  0.33333337+0.j,  0.47140452+0.j, -0.3333333 +0.j],\n",
       "       dtype=complex64),\n",
       " 0.00029199470587562906,\n",
       " 0.9999701978996569)"
      ]
     },
     "execution_count": 373,
     "metadata": {},
     "output_type": "execute_result"
    }
   ],
   "source": [
    "generated_state, real_state, fidelity, abs_fidelity"
   ]
  },
  {
   "cell_type": "code",
   "execution_count": 367,
   "id": "gentle-guitar",
   "metadata": {},
   "outputs": [
    {
     "data": {
      "text/plain": [
       "0.9999701978996569"
      ]
     },
     "execution_count": 367,
     "metadata": {},
     "output_type": "execute_result"
    }
   ],
   "source": [
    " cirq.fidelity(abs(generated_state), abs(real_state))"
   ]
  },
  {
   "cell_type": "code",
   "execution_count": null,
   "id": "exclusive-stockholm",
   "metadata": {},
   "outputs": [],
   "source": []
  }
 ],
 "metadata": {
  "kernelspec": {
   "display_name": "Python 3",
   "language": "python",
   "name": "python3"
  },
  "language_info": {
   "codemirror_mode": {
    "name": "ipython",
    "version": 3
   },
   "file_extension": ".py",
   "mimetype": "text/x-python",
   "name": "python",
   "nbconvert_exporter": "python",
   "pygments_lexer": "ipython3",
   "version": "3.8.7"
  }
 },
 "nbformat": 4,
 "nbformat_minor": 5
}
