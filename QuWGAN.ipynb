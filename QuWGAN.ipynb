{
 "cells": [
  {
   "cell_type": "code",
   "execution_count": 1,
   "id": "adverse-algebra",
   "metadata": {},
   "outputs": [],
   "source": [
    "if 'google.colab' in str(get_ipython()):\n",
    "    !pip uninstall tensorflow -y\n",
    "    !pip install tensorflow==2.3.1 tensorflow-quantum neptune-client\n",
    "    !rm -rf quantum-gans\n",
    "    !git clone https://github.com/WiktorJ/quantum-gans\n",
    "    !cd quantum-gans; pip install .\n",
    "    neptun_token = \"\" # put manually for the time being\n",
    "else:\n",
    "    import subprocess\n",
    "    def get_var(varname):\n",
    "        CMD = 'echo $(source ~/.bash_profile; echo $%s)' % varname\n",
    "        p = subprocess.Popen(CMD, stdout=subprocess.PIPE, shell=True, executable='/bin/bash')\n",
    "        return p.stdout.readlines()[0].strip()\n",
    "    neptun_token = get_var('NEPTUNE_API_TOKEN').decode(\"utf-8\") "
   ]
  },
  {
   "cell_type": "code",
   "execution_count": 4,
   "id": "sixth-qatar",
   "metadata": {},
   "outputs": [],
   "source": [
    "%load_ext autoreload\n",
    "%autoreload 2"
   ]
  },
  {
   "cell_type": "code",
   "execution_count": 25,
   "id": "minute-world",
   "metadata": {},
   "outputs": [],
   "source": [
    "import neptune\n",
    "import tensorflow as tf\n",
    "\n",
    "import cirq\n",
    "import numpy as np\n",
    "from qsgenerator import circuits\n",
    "from qsgenerator.quwgans import circuits as quwgans_circuits\n",
    "from qsgenerator.quwgans.training import Trainer\n",
    "from qsgenerator.phase.circuits import PhaseCircuitBuilder\n",
    "from qsgenerator.evaluators.circuit_evaluator import CircuitEvaluator\n",
    "from qsgenerator.phase.analitical import get_theta_v, get_theta_w, get_theta_r, get_g_parameters_provider\n"
   ]
  },
  {
   "cell_type": "code",
   "execution_count": 16,
   "id": "registered-memory",
   "metadata": {},
   "outputs": [],
   "source": [
    "use_neptune = False"
   ]
  },
  {
   "cell_type": "code",
   "execution_count": 469,
   "id": "behind-detroit",
   "metadata": {},
   "outputs": [],
   "source": [
    "generator_layers = 4\n",
    "data_bus_size = 5\n",
    "generator_bath_size = 1"
   ]
  },
  {
   "cell_type": "code",
   "execution_count": 470,
   "id": "rubber-export",
   "metadata": {},
   "outputs": [],
   "source": [
    "real_phase = True\n",
    "generic_generator = True\n",
    "zxz = False\n",
    "all_gates_parametrized = False"
   ]
  },
  {
   "cell_type": "code",
   "execution_count": 471,
   "id": "relative-gabriel",
   "metadata": {},
   "outputs": [],
   "source": [
    "data_qubits = qubits = cirq.GridQubit.rect(1, data_bus_size)"
   ]
  },
  {
   "cell_type": "code",
   "execution_count": 472,
   "id": "impressive-commissioner",
   "metadata": {},
   "outputs": [],
   "source": [
    "builder = PhaseCircuitBuilder(all_gates_parametrized=False)\n",
    "real, real_symbols, symbols_dict_real = builder.build_ground_state_circuit(qubits=data_qubits)"
   ]
  },
  {
   "cell_type": "code",
   "execution_count": 473,
   "id": "third-invalid",
   "metadata": {},
   "outputs": [],
   "source": [
    "pauli_strings, qubit_to_string_index = quwgans_circuits.get_discriminator(real)"
   ]
  },
  {
   "cell_type": "code",
   "execution_count": 474,
   "id": "accredited-fraud",
   "metadata": {},
   "outputs": [],
   "source": [
    "if generic_generator:\n",
    "    gen, gs = circuits.build_circuit(generator_layers, data_qubits, \"g\")\n",
    "    symbols_dict_gen = {}\n",
    "else:\n",
    "    builder = PhaseCircuitBuilder(all_gates_parametrized=all_gates_parametrized)\n",
    "    gen, gs, symbols_dict_gen = builder.build_ground_state_circuit(qubits=data_qubits, full_parametrization=True, zxz=zxz)"
   ]
  },
  {
   "cell_type": "code",
   "execution_count": 475,
   "id": "realistic-gregory",
   "metadata": {},
   "outputs": [
    {
     "name": "stdout",
     "output_type": "stream",
     "text": [
      "REAL GROUND STATE\n"
     ]
    },
    {
     "data": {
      "text/html": [
       "<pre style=\"overflow: auto; white-space: pre;\">(0, 0): ───H───@─────────────────────────@───────────────────────────────────────────────────────────────────────────────────────────────────────────────────────────────────────────────────────────────────────────────────────────────────────────────────────────────────────────────────────\n",
       "               │                         │\n",
       "(0, 1): ───────X───Z───Ry(theta_r)───H───X───H───X─────────────@───X───────────────────────────────────@───X─────────────────────────────────────────────────────────────────────────────────────────────────────────────────────────────────────────────────────────────────────────────────────\n",
       "                                                               │                                       │\n",
       "(0, 2): ─────────────────────────────────────────Ry(theta_w)───X───X───Ry(theta_w)───X───Ry(theta_v)───X───X───Ry(theta_v)───X───X─────────────@───X───────────────────────────────────@───X─────────────────────────────────────────────────────────────────────────────────────────────────────\n",
       "                                                                                                                                               │                                       │\n",
       "(0, 3): ─────────────────────────────────────────────────────────────────────────────────────────────────────────────────────────Ry(theta_w)───X───X───Ry(theta_w)───X───Ry(theta_v)───X───X───Ry(theta_v)───X───X─────────────@───X───────────────────────────────────@───X─────────────────────\n",
       "                                                                                                                                                                                                                               │                                       │\n",
       "(0, 4): ─────────────────────────────────────────────────────────────────────────────────────────────────────────────────────────────────────────────────────────────────────────────────────────────────────────Ry(theta_w)───X───X───Ry(theta_w)───X───Ry(theta_v)───X───X───Ry(theta_v)───X───</pre>"
      ],
      "text/plain": [
       "(0, 0): ───H───@─────────────────────────@───────────────────────────────────────────────────────────────────────────────────────────────────────────────────────────────────────────────────────────────────────────────────────────────────────────────────────────────────────────────────────\n",
       "               │                         │\n",
       "(0, 1): ───────X───Z───Ry(theta_r)───H───X───H───X─────────────@───X───────────────────────────────────@───X─────────────────────────────────────────────────────────────────────────────────────────────────────────────────────────────────────────────────────────────────────────────────────\n",
       "                                                               │                                       │\n",
       "(0, 2): ─────────────────────────────────────────Ry(theta_w)───X───X───Ry(theta_w)───X───Ry(theta_v)───X───X───Ry(theta_v)───X───X─────────────@───X───────────────────────────────────@───X─────────────────────────────────────────────────────────────────────────────────────────────────────\n",
       "                                                                                                                                               │                                       │\n",
       "(0, 3): ─────────────────────────────────────────────────────────────────────────────────────────────────────────────────────────Ry(theta_w)───X───X───Ry(theta_w)───X───Ry(theta_v)───X───X───Ry(theta_v)───X───X─────────────@───X───────────────────────────────────@───X─────────────────────\n",
       "                                                                                                                                                                                                                               │                                       │\n",
       "(0, 4): ─────────────────────────────────────────────────────────────────────────────────────────────────────────────────────────────────────────────────────────────────────────────────────────────────────────Ry(theta_w)───X───X───Ry(theta_w)───X───Ry(theta_v)───X───X───Ry(theta_v)───X───"
      ]
     },
     "execution_count": 475,
     "metadata": {},
     "output_type": "execute_result"
    }
   ],
   "source": [
    "print(\"REAL GROUND STATE\")\n",
    "real"
   ]
  },
  {
   "cell_type": "code",
   "execution_count": 476,
   "id": "respected-george",
   "metadata": {},
   "outputs": [
    {
     "name": "stdout",
     "output_type": "stream",
     "text": [
      "GENERATOR\n"
     ]
    },
    {
     "data": {
      "text/html": [
       "<pre style=\"overflow: auto; white-space: pre;\">(0, 0): ───Rx(g0)───Rz(g5)───ZZ────────────────Rx(g14)───Rz(g19)───ZZ────────────────Rx(g28)───Rz(g33)───ZZ────────────────Rx(g42)───Rz(g47)───ZZ────────────────\n",
       "                             │                                     │                                     │                                     │\n",
       "(0, 1): ───Rx(g1)───Rz(g6)───ZZ^g10───ZZ───────Rx(g15)───Rz(g20)───ZZ^g24───ZZ───────Rx(g29)───Rz(g34)───ZZ^g38───ZZ───────Rx(g43)───Rz(g48)───ZZ^g52───ZZ───────\n",
       "                                      │                                     │                                     │                                     │\n",
       "(0, 2): ───Rx(g2)───Rz(g7)───ZZ───────ZZ^g12───Rx(g16)───Rz(g21)───ZZ───────ZZ^g26───Rx(g30)───Rz(g35)───ZZ───────ZZ^g40───Rx(g44)───Rz(g49)───ZZ───────ZZ^g54───\n",
       "                             │                                     │                                     │                                     │\n",
       "(0, 3): ───Rx(g3)───Rz(g8)───ZZ^g11───ZZ───────Rx(g17)───Rz(g22)───ZZ^g25───ZZ───────Rx(g31)───Rz(g36)───ZZ^g39───ZZ───────Rx(g45)───Rz(g50)───ZZ^g53───ZZ───────\n",
       "                                      │                                     │                                     │                                     │\n",
       "(0, 4): ───Rx(g4)───Rz(g9)────────────ZZ^g13───Rx(g18)───Rz(g23)────────────ZZ^g27───Rx(g32)───Rz(g37)────────────ZZ^g41───Rx(g46)───Rz(g51)────────────ZZ^g55───</pre>"
      ],
      "text/plain": [
       "(0, 0): ───Rx(g0)───Rz(g5)───ZZ────────────────Rx(g14)───Rz(g19)───ZZ────────────────Rx(g28)───Rz(g33)───ZZ────────────────Rx(g42)───Rz(g47)───ZZ────────────────\n",
       "                             │                                     │                                     │                                     │\n",
       "(0, 1): ───Rx(g1)───Rz(g6)───ZZ^g10───ZZ───────Rx(g15)───Rz(g20)───ZZ^g24───ZZ───────Rx(g29)───Rz(g34)───ZZ^g38───ZZ───────Rx(g43)───Rz(g48)───ZZ^g52───ZZ───────\n",
       "                                      │                                     │                                     │                                     │\n",
       "(0, 2): ───Rx(g2)───Rz(g7)───ZZ───────ZZ^g12───Rx(g16)───Rz(g21)───ZZ───────ZZ^g26───Rx(g30)───Rz(g35)───ZZ───────ZZ^g40───Rx(g44)───Rz(g49)───ZZ───────ZZ^g54───\n",
       "                             │                                     │                                     │                                     │\n",
       "(0, 3): ───Rx(g3)───Rz(g8)───ZZ^g11───ZZ───────Rx(g17)───Rz(g22)───ZZ^g25───ZZ───────Rx(g31)───Rz(g36)───ZZ^g39───ZZ───────Rx(g45)───Rz(g50)───ZZ^g53───ZZ───────\n",
       "                                      │                                     │                                     │                                     │\n",
       "(0, 4): ───Rx(g4)───Rz(g9)────────────ZZ^g13───Rx(g18)───Rz(g23)────────────ZZ^g27───Rx(g32)───Rz(g37)────────────ZZ^g41───Rx(g46)───Rz(g51)────────────ZZ^g55───"
      ]
     },
     "execution_count": 476,
     "metadata": {},
     "output_type": "execute_result"
    }
   ],
   "source": [
    "print(\"GENERATOR\")\n",
    "gen"
   ]
  },
  {
   "cell_type": "code",
   "execution_count": 477,
   "id": "familiar-testing",
   "metadata": {},
   "outputs": [],
   "source": [
    "g_values = [-0.5]\n",
    "real_values_provider = get_g_parameters_provider()"
   ]
  },
  {
   "cell_type": "code",
   "execution_count": 478,
   "id": "frequent-johns",
   "metadata": {},
   "outputs": [],
   "source": [
    "opt = tf.keras.optimizers.Adam(0.01, beta_1=0.9, beta_2=0.98, \n",
    "                                     epsilon=1e-9)"
   ]
  },
  {
   "cell_type": "code",
   "execution_count": 490,
   "id": "laden-estate",
   "metadata": {},
   "outputs": [],
   "source": [
    "trainer = Trainer(real, \n",
    "                  real_symbols,\n",
    "                  gen,\n",
    "                  gs,\n",
    "                  g_values,\n",
    "                  real_values_provider,\n",
    "                  use_neptune=use_neptune)"
   ]
  },
  {
   "cell_type": "code",
   "execution_count": 491,
   "id": "hybrid-witch",
   "metadata": {},
   "outputs": [],
   "source": [
    "epochs = 300\n",
    "gen_iteration = 2\n",
    "snapshot_interval_epochs = 100"
   ]
  },
  {
   "cell_type": "code",
   "execution_count": 492,
   "id": "seven-tuning",
   "metadata": {},
   "outputs": [
    {
     "data": {
      "text/plain": [
       "<Figure size 432x288 with 0 Axes>"
      ]
     },
     "metadata": {},
     "output_type": "display_data"
    },
    {
     "data": {
      "image/png": "[encoded data removed]",
      "text/plain": [
       "<Figure size 1296x360 with 3 Axes>"
      ]
     },
     "metadata": {
      "needs_background": "light"
     },
     "output_type": "display_data"
    },
    {
     "name": "stdout",
     "output_type": "stream",
     "text": [
      "----------------------------------------------------\n",
      "Epoch 200:  distance = 0.15131333196071445\n",
      "h=X((0, 2))*Z((0, 3)), w=0.9999999888577593, e=0.09971769154071808\n",
      "h=X((0, 1))*X((0, 4)), w=0.9999999683761578, e=0.051595643162727356\n",
      "Fidelity for g=-0.5 : 0.061221411557710326\n",
      "Fidelity modulo for g=-0.5 : 0.9248248590250938\n"
     ]
    }
   ],
   "source": [
    "trainer.train(opt, epochs, gen_iteration, snapshot_interval_epochs, plot=True)"
   ]
  },
  {
   "cell_type": "code",
   "execution_count": 493,
   "id": "ahead-characteristic",
   "metadata": {},
   "outputs": [],
   "source": [
    "def get_states_and_fidelty_for_real(gen_evaluator, \n",
    "                                    real_evaluator,\n",
    "                                    g, \n",
    "                                    size):\n",
    "    generated = gen_evaluator.get_state_from_params(trace_dims=list(range(size)))\n",
    "    real = real_evaluator.get_state_from_params(g)\n",
    "    return generated, real, cirq.fidelity(generated, real), cirq.fidelity(abs(generated), abs(real))"
   ]
  },
  {
   "cell_type": "code",
   "execution_count": 494,
   "id": "appointed-gallery",
   "metadata": {},
   "outputs": [],
   "source": [
    "gen_evaluator = trainer.gen_evaluator\n",
    "real_evaluator = trainer.real_evaluator"
   ]
  },
  {
   "cell_type": "code",
   "execution_count": 495,
   "id": "delayed-count",
   "metadata": {},
   "outputs": [],
   "source": [
    "g = g_values[0]\n",
    "generated_state, real_state, fidelity, abs_fidelity = get_states_and_fidelty_for_real(gen_evaluator, real_evaluator, g, data_bus_size)"
   ]
  },
  {
   "cell_type": "code",
   "execution_count": 496,
   "id": "informational-surveillance",
   "metadata": {},
   "outputs": [
    {
     "data": {
      "text/plain": [
       "(array([-0.11091907-0.08024224j, -0.1886264 -0.08027168j,\n",
       "        -0.05694597+0.13702653j,  0.05207619-0.07165195j,\n",
       "         0.08220144-0.05313145j,  0.10524048-0.10997957j,\n",
       "         0.17942087+0.10089822j, -0.09330228-0.08831069j,\n",
       "         0.14238179+0.0191826j ,  0.21483353-0.01921234j,\n",
       "        -0.01853289-0.1462103j , -0.00963758+0.08743969j,\n",
       "         0.02724794-0.08690391j,  0.0097198 -0.14132671j,\n",
       "         0.20189491-0.04281478j, -0.12841117-0.00454573j,\n",
       "        -0.17971262+0.03994539j, -0.24926089+0.11801787j,\n",
       "         0.09118432+0.18146604j, -0.02775696-0.11813903j,\n",
       "         0.01431398-0.12374155j, -0.0227254 -0.19225529j,\n",
       "         0.24301392-0.08749238j, -0.16032174+0.01614981j,\n",
       "         0.17125191+0.06998632j,  0.27392894+0.04547955j,\n",
       "         0.02594824-0.1834191j , -0.04057195+0.10269953j,\n",
       "         0.07044879-0.10221641j,  0.06941213-0.18030326j,\n",
       "         0.28277627+0.01892832j, -0.16801788-0.05412905j], dtype=complex64),\n",
       " array([ 0.22222227+0.j,  0.31426978+0.j,  0.22222224+0.j, -0.15713488+0.j,\n",
       "        -0.1111111 +0.j, -0.15713485+0.j,  0.22222221+0.j, -0.15713486+0.j,\n",
       "        -0.11111113+0.j, -0.15713489+0.j, -0.11111112+0.j,  0.07856744+0.j,\n",
       "        -0.11111112+0.j, -0.15713486+0.j,  0.22222224+0.j, -0.15713488+0.j,\n",
       "         0.15713489+0.j,  0.22222227+0.j,  0.15713489+0.j, -0.11111113+0.j,\n",
       "        -0.07856743+0.j, -0.11111113+0.j,  0.15713486+0.j, -0.11111113+0.j,\n",
       "        -0.15713486+0.j, -0.22222225+0.j, -0.15713485+0.j,  0.11111112+0.j,\n",
       "        -0.15713486+0.j, -0.22222225+0.j,  0.31426978+0.j, -0.22222227+0.j],\n",
       "       dtype=complex64),\n",
       " 0.08779801340257709,\n",
       " 0.9260737204982092)"
      ]
     },
     "execution_count": 496,
     "metadata": {},
     "output_type": "execute_result"
    }
   ],
   "source": [
    "generated_state, real_state, fidelity, abs_fidelity"
   ]
  },
  {
   "cell_type": "code",
   "execution_count": null,
   "id": "patient-windows",
   "metadata": {},
   "outputs": [],
   "source": []
  }
 ],
 "metadata": {
  "kernelspec": {
   "display_name": "Python 3",
   "language": "python",
   "name": "python3"
  },
  "language_info": {
   "codemirror_mode": {
    "name": "ipython",
    "version": 3
   },
   "file_extension": ".py",
   "mimetype": "text/x-python",
   "name": "python",
   "nbconvert_exporter": "python",
   "pygments_lexer": "ipython3",
   "version": "3.8.7"
  }
 },
 "nbformat": 4,
 "nbformat_minor": 5
}
