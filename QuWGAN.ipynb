{
 "cells": [
  {
   "cell_type": "code",
   "execution_count": 21,
   "id": "informed-celtic",
   "metadata": {
    "scrolled": false
   },
   "outputs": [],
   "source": [
    "if 'google.colab' in str(get_ipython()):\n",
    "    !pip uninstall tensorflow -y\n",
    "    !pip install tensorflow==2.3.1 tensorflow-quantum neptune-client\n",
    "    !rm -rf quantum-gans\n",
    "    !git clone https://github.com/WiktorJ/quantum-gans\n",
    "    !cd quantum-gans; pip install .\n",
    "    neptun_token = \"\" # put manually for the time being\n",
    "else:\n",
    "    import subprocess\n",
    "    def get_var(varname):\n",
    "        CMD = 'echo $(source ~/.bash_profile; echo $%s)' % varname\n",
    "        p = subprocess.Popen(CMD, stdout=subprocess.PIPE, shell=True, executable='/bin/bash')\n",
    "        return p.stdout.readlines()[0].strip()\n",
    "    neptun_token = get_var('NEPTUNE_API_TOKEN').decode(\"utf-8\") "
   ]
  },
  {
   "cell_type": "code",
   "execution_count": 22,
   "id": "enormous-discovery",
   "metadata": {
    "scrolled": false
   },
   "outputs": [
    {
     "name": "stdout",
     "output_type": "stream",
     "text": [
      "The autoreload extension is already loaded. To reload it, use:\n",
      "  %reload_ext autoreload\n"
     ]
    }
   ],
   "source": [
    "%load_ext autoreload\n",
    "%autoreload 2"
   ]
  },
  {
   "cell_type": "code",
   "execution_count": 507,
   "id": "amended-component",
   "metadata": {
    "scrolled": false
   },
   "outputs": [],
   "source": [
    "use_neptune = True"
   ]
  },
  {
   "cell_type": "code",
   "execution_count": 567,
   "id": "binary-sport",
   "metadata": {
    "scrolled": false
   },
   "outputs": [],
   "source": [
    "import neptune\n",
    "import tensorflow as tf\n",
    "import random\n",
    "\n",
    "import io\n",
    "import cirq\n",
    "import numpy as np\n",
    "import statistics as st\n",
    "from matplotlib import pyplot as plt\n",
    "from collections import defaultdict\n",
    "from qsgenerator import circuits\n",
    "from qsgenerator.quwgans import circuits as quwgans_circuits\n",
    "from qsgenerator.quwgans.circuits import get_discriminator\n",
    "from qsgenerator.quwgans.training import Trainer\n",
    "from qsgenerator.phase.circuits import PhaseCircuitBuilder\n",
    "from qsgenerator.states.butterfly_circuits import ButterflyCircuitBuilder\n",
    "from qsgenerator.quwgans.real_expectations_provider import PrecomputedExpectationsProvider, \\\n",
    "    Interpolation1DExpectationsProvider, WassersteinGanExpectationProvider, ExpectationProviderType\n",
    "from qsgenerator.states.simple_rotation_generators import get_fixed_random_rotation_provider\n",
    "from qsgenerator.evaluators.circuit_evaluator import CircuitEvaluator\n",
    "from qsgenerator.phase.analitical import get_theta_v, get_theta_w, get_theta_r, get_g_parameters_provider\n"
   ]
  },
  {
   "cell_type": "code",
   "execution_count": 568,
   "id": "improved-peter",
   "metadata": {
    "scrolled": true
   },
   "outputs": [
    {
     "data": {
      "text/plain": [
       "[0,\n",
       " 1,\n",
       " 2,\n",
       " 3,\n",
       " 4,\n",
       " 5,\n",
       " 6,\n",
       " 7,\n",
       " 8,\n",
       " 9,\n",
       " 10,\n",
       " 11,\n",
       " 12,\n",
       " 13,\n",
       " 14,\n",
       " 15,\n",
       " 16,\n",
       " 17,\n",
       " 18,\n",
       " 19,\n",
       " 20,\n",
       " 21,\n",
       " 22,\n",
       " 23,\n",
       " 24,\n",
       " 25,\n",
       " 26,\n",
       " 27,\n",
       " 28,\n",
       " 29,\n",
       " 30,\n",
       " 31]"
      ]
     },
     "execution_count": 568,
     "metadata": {},
     "output_type": "execute_result"
    }
   ],
   "source": [
    "generator_layers = 3\n",
    "data_bus_size = 6\n",
    "rank = 1\n",
    "real_circuit_type = 'butterfly'\n",
    "g_values = [3]\n",
    "generic_generator = False\n",
    "zxz = False\n",
    "all_gates_parametrized = False\n",
    "expectation_provider_type = ExpectationProviderType.WGAN\n",
    "known_g_values = list(range(32))\n",
    "# known_g_values = np.linspace(-1,-0.5,16)\n",
    "# known_g_values = [-1, -0.75, -0.5, -0.25, 0]\n",
    "if expectation_provider_type == ExpectationProviderType.WGAN:\n",
    "        gen_input_dim = 16\n",
    "        hidden_dim = [32, 64]\n",
    "        penalty_factor = 10\n",
    "        gan_epochs = 10000\n",
    "        batch_size = 8\n",
    "known_g_values"
   ]
  },
  {
   "cell_type": "code",
   "execution_count": 569,
   "id": "wound-theorem",
   "metadata": {
    "scrolled": false
   },
   "outputs": [],
   "source": [
    "data_qubits = qubits = cirq.GridQubit.rect(1, data_bus_size)"
   ]
  },
  {
   "cell_type": "code",
   "execution_count": 570,
   "id": "saved-canyon",
   "metadata": {
    "scrolled": false
   },
   "outputs": [],
   "source": [
    "if real_circuit_type == 'butterfly':\n",
    "    real, real_symbols = ButterflyCircuitBuilder().build(qubits=qubits)\n",
    "    real_values_provider = get_fixed_random_rotation_provider(len(real_symbols))\n",
    "else:\n",
    "    builder = PhaseCircuitBuilder(all_gates_parametrized=False, g_positive=False)\n",
    "    real, real_symbols, symbols_dict_real = builder.build_ground_state_circuit(qubits=data_qubits)\n",
    "    real_values_provider = get_g_parameters_provider()"
   ]
  },
  {
   "cell_type": "code",
   "execution_count": 571,
   "id": "rotary-bailey",
   "metadata": {
    "scrolled": false
   },
   "outputs": [],
   "source": [
    "if generic_generator:\n",
    "    gen, gs = circuits.build_circuit(generator_layers, data_qubits, \"g\")\n",
    "    symbols_dict_gen = {}\n",
    "else:\n",
    "    if real_circuit_type == 'butterfly':\n",
    "        gen, gs = ButterflyCircuitBuilder(\"g\").build(qubits=qubits)\n",
    "    else:\n",
    "        builder = PhaseCircuitBuilder(all_gates_parametrized=all_gates_parametrized)\n",
    "        gen, gs, symbols_dict_gen = builder.build_ground_state_circuit(qubits=data_qubits, full_parametrization=True, zxz=zxz)"
   ]
  },
  {
   "cell_type": "code",
   "execution_count": 572,
   "id": "seven-leather",
   "metadata": {
    "scrolled": false
   },
   "outputs": [
    {
     "name": "stdout",
     "output_type": "stream",
     "text": [
      "REAL GROUND STATE\n"
     ]
    },
    {
     "data": {
      "text/html": [
       "<pre style=\"overflow: auto; white-space: pre;\">                                                 ┌──────────────────┐                 ┌───────────────────────────┐\n",
       "(0, 0): ───Rx(theta0)───@──────────Rx(theta9)─────@─────────────────────Rx(theta17)────@──────────────────────────────\n",
       "                        │                         │                                    │\n",
       "(0, 1): ───Rx(theta1)───X^theta6───Rx(theta10)────┼────────@────────────Rx(theta18)────┼────────@─────────────────────\n",
       "                                                  │        │                           │        │\n",
       "(0, 2): ───Rx(theta2)───@──────────Rx(theta11)────X^theta15┼────────────Rx(theta19)────┼────────┼────────@────────────\n",
       "                        │                                  │                           │        │        │\n",
       "(0, 3): ───Rx(theta3)───X^theta7───Rx(theta12)─────────────X^theta16────Rx(theta20)────X^theta23┼────────┼────────────\n",
       "                                                                                                │        │\n",
       "(0, 4): ───Rx(theta4)───@──────────Rx(theta13)──────────────────────────Rx(theta21)─────────────X^theta24┼────────────\n",
       "                        │                                                                                │\n",
       "(0, 5): ───Rx(theta5)───X^theta8───Rx(theta14)──────────────────────────Rx(theta22)──────────────────────X^theta25────\n",
       "                                                 └──────────────────┘                 └───────────────────────────┘</pre>"
      ],
      "text/plain": [
       "                                                 ┌──────────────────┐                 ┌───────────────────────────┐\n",
       "(0, 0): ───Rx(theta0)───@──────────Rx(theta9)─────@─────────────────────Rx(theta17)────@──────────────────────────────\n",
       "                        │                         │                                    │\n",
       "(0, 1): ───Rx(theta1)───X^theta6───Rx(theta10)────┼────────@────────────Rx(theta18)────┼────────@─────────────────────\n",
       "                                                  │        │                           │        │\n",
       "(0, 2): ───Rx(theta2)───@──────────Rx(theta11)────X^theta15┼────────────Rx(theta19)────┼────────┼────────@────────────\n",
       "                        │                                  │                           │        │        │\n",
       "(0, 3): ───Rx(theta3)───X^theta7───Rx(theta12)─────────────X^theta16────Rx(theta20)────X^theta23┼────────┼────────────\n",
       "                                                                                                │        │\n",
       "(0, 4): ───Rx(theta4)───@──────────Rx(theta13)──────────────────────────Rx(theta21)─────────────X^theta24┼────────────\n",
       "                        │                                                                                │\n",
       "(0, 5): ───Rx(theta5)───X^theta8───Rx(theta14)──────────────────────────Rx(theta22)──────────────────────X^theta25────\n",
       "                                                 └──────────────────┘                 └───────────────────────────┘"
      ]
     },
     "execution_count": 572,
     "metadata": {},
     "output_type": "execute_result"
    }
   ],
   "source": [
    "print(\"REAL GROUND STATE\")\n",
    "real"
   ]
  },
  {
   "cell_type": "code",
   "execution_count": 573,
   "id": "nasty-panel",
   "metadata": {
    "scrolled": false
   },
   "outputs": [
    {
     "name": "stdout",
     "output_type": "stream",
     "text": [
      "GENERATOR\n"
     ]
    },
    {
     "data": {
      "text/html": [
       "<pre style=\"overflow: auto; white-space: pre;\">                                     ┌──────────┐             ┌───────────────┐\n",
       "(0, 0): ───Rx(g0)───@──────Rx(g9)─────@─────────────Rx(g17)────@──────────────────\n",
       "                    │                 │                        │\n",
       "(0, 1): ───Rx(g1)───X^g6───Rx(g10)────┼────@────────Rx(g18)────┼────@─────────────\n",
       "                                      │    │                   │    │\n",
       "(0, 2): ───Rx(g2)───@──────Rx(g11)────X^g15┼────────Rx(g19)────┼────┼────@────────\n",
       "                    │                      │                   │    │    │\n",
       "(0, 3): ───Rx(g3)───X^g7───Rx(g12)─────────X^g16────Rx(g20)────X^g23┼────┼────────\n",
       "                                                                    │    │\n",
       "(0, 4): ───Rx(g4)───@──────Rx(g13)──────────────────Rx(g21)─────────X^g24┼────────\n",
       "                    │                                                    │\n",
       "(0, 5): ───Rx(g5)───X^g8───Rx(g14)──────────────────Rx(g22)──────────────X^g25────\n",
       "                                     └──────────┘             └───────────────┘</pre>"
      ],
      "text/plain": [
       "                                     ┌──────────┐             ┌───────────────┐\n",
       "(0, 0): ───Rx(g0)───@──────Rx(g9)─────@─────────────Rx(g17)────@──────────────────\n",
       "                    │                 │                        │\n",
       "(0, 1): ───Rx(g1)───X^g6───Rx(g10)────┼────@────────Rx(g18)────┼────@─────────────\n",
       "                                      │    │                   │    │\n",
       "(0, 2): ───Rx(g2)───@──────Rx(g11)────X^g15┼────────Rx(g19)────┼────┼────@────────\n",
       "                    │                      │                   │    │    │\n",
       "(0, 3): ───Rx(g3)───X^g7───Rx(g12)─────────X^g16────Rx(g20)────X^g23┼────┼────────\n",
       "                                                                    │    │\n",
       "(0, 4): ───Rx(g4)───@──────Rx(g13)──────────────────Rx(g21)─────────X^g24┼────────\n",
       "                    │                                                    │\n",
       "(0, 5): ───Rx(g5)───X^g8───Rx(g14)──────────────────Rx(g22)──────────────X^g25────\n",
       "                                     └──────────┘             └───────────────┘"
      ]
     },
     "execution_count": 573,
     "metadata": {},
     "output_type": "execute_result"
    }
   ],
   "source": [
    "print(\"GENERATOR\")\n",
    "gen"
   ]
  },
  {
   "cell_type": "code",
   "execution_count": 574,
   "id": "smaller-moldova",
   "metadata": {
    "scrolled": false
   },
   "outputs": [],
   "source": [
    "opt = tf.keras.optimizers.Adam(0.01, beta_1=0.9, beta_2=0.98, \n",
    "                                     epsilon=1e-9)"
   ]
  },
  {
   "cell_type": "code",
   "execution_count": 575,
   "id": "wrong-exposure",
   "metadata": {},
   "outputs": [],
   "source": [
    "def get_expectation_provider():\n",
    "    precomputed_expectation_provider = PrecomputedExpectationsProvider(real,\n",
    "                                                                       real_symbols,\n",
    "                                                                       known_g_values,\n",
    "                                                                       real_values_provider,\n",
    "                                                                       get_discriminator(real))\n",
    "    if expectation_provider_type == ExpectationProviderType.ONLY_KNOWN:\n",
    "        return precomputed_expectation_provider\n",
    "    elif expectation_provider_type == ExpectationProviderType.INTERPOLATION1D:\n",
    "        return Interpolation1DExpectationsProvider(precomputed_expectation_provider)\n",
    "    elif expectation_provider_type == ExpectationProviderType.WGAN:\n",
    "        return WassersteinGanExpectationProvider(precomputed_expectation_provider, gen_input_dim, hidden_dim, penalty_factor, gan_epochs, batch_size)"
   ]
  },
  {
   "cell_type": "code",
   "execution_count": 576,
   "id": "other-linux",
   "metadata": {},
   "outputs": [],
   "source": [
    "real_expectations_provider = get_expectation_provider()"
   ]
  },
  {
   "cell_type": "code",
   "execution_count": 577,
   "id": "multiple-difference",
   "metadata": {
    "scrolled": false
   },
   "outputs": [],
   "source": [
    "trainer = Trainer(real, \n",
    "                  real_symbols,\n",
    "                  gen,\n",
    "                  gs,\n",
    "                  g_values,\n",
    "                  real_values_provider,\n",
    "                  real_expectations_provider,\n",
    "                  rank=rank,\n",
    "                  use_neptune=use_neptune)"
   ]
  },
  {
   "cell_type": "code",
   "execution_count": 578,
   "id": "expensive-sleeping",
   "metadata": {
    "scrolled": false
   },
   "outputs": [],
   "source": [
    "epochs = 501\n",
    "gen_iteration = 1\n",
    "snapshot_interval_epochs = 100"
   ]
  },
  {
   "cell_type": "code",
   "execution_count": 579,
   "id": "competitive-expense",
   "metadata": {
    "scrolled": false
   },
   "outputs": [],
   "source": [
    "def start_neptune_experiment():\n",
    "    if use_neptune:\n",
    "        neptune.init(project_qualified_name='wiktor.jurasz/thesis-em', api_token=neptun_token)\n",
    "        neptun_params = {\n",
    "            'generator_layers': generator_layers,\n",
    "            'size':  data_bus_size,\n",
    "            'rank': rank,\n",
    "            'real_circuit_type': real_circuit_type,\n",
    "            'generic_generator': generic_generator,\n",
    "            'zxz': zxz,\n",
    "            'all_gates_parametrized': all_gates_parametrized,\n",
    "            'g_values': g_values,\n",
    "            'expectation_provider_type': expectation_provider_type,\n",
    "            'known_g_values': known_g_values,\n",
    "            'gen_iteration': gen_iteration,\n",
    "            'epochs': epochs\n",
    "        }\n",
    "        if expectation_provider_type == ExpectationProviderType.WGAN:\n",
    "            gan_params = {\n",
    "                'gen_input_dim': gen_input_dim,\n",
    "                'hidden_dim': hidden_dim,\n",
    "                'penalty_factor': penalty_factor,\n",
    "                'gan_epochs': gan_epochs,\n",
    "                'batch_size': batch_size\n",
    "            }\n",
    "            neptun_params = {**neptun_params, **gan_params}\n",
    "        neptune.create_experiment(name=None, description=\"No batch norm\", params=neptun_params)\n",
    "        neptune.log_artifact(io.StringIO(str(gen)), \"gen.txt\")\n",
    "        neptune.log_artifact(io.StringIO(str(([(el[0].numpy(), el[1], list(el[2].numpy())) for el in trainer.gen_weights]))), 'init_gen_weights.txt')"
   ]
  },
  {
   "cell_type": "code",
   "execution_count": 580,
   "id": "voluntary-healthcare",
   "metadata": {},
   "outputs": [
    {
     "name": "stderr",
     "output_type": "stream",
     "text": [
      "WARNING: There is a new version of neptune-client 0.9.1 (installed: 0.5.1).\n",
      "psutil is not installed. You will not be able to abort this experiment from the UI.\n",
      "psutil is not installed. Hardware metrics will not be collected.\n"
     ]
    },
    {
     "name": "stdout",
     "output_type": "stream",
     "text": [
      "https://ui.neptune.ai/wiktor.jurasz/thesis-em/e/THESEM-33\n"
     ]
    }
   ],
   "source": [
    "start_neptune_experiment()"
   ]
  },
  {
   "cell_type": "code",
   "execution_count": 581,
   "id": "subjective-iceland",
   "metadata": {
    "pycharm": {
     "is_executing": true
    },
    "scrolled": true
   },
   "outputs": [
    {
     "data": {
      "text/plain": [
       "<Figure size 432x288 with 0 Axes>"
      ]
     },
     "metadata": {},
     "output_type": "display_data"
    },
    {
     "data": {
      "image/png": "[encoded data removed]",
      "text/plain": [
       "<Figure size 1296x576 with 1 Axes>"
      ]
     },
     "metadata": {
      "needs_background": "light"
     },
     "output_type": "display_data"
    },
    {
     "data": {
      "image/png": "[encoded data removed]",
      "text/plain": [
       "<Figure size 1296x360 with 3 Axes>"
      ]
     },
     "metadata": {
      "needs_background": "light"
     },
     "output_type": "display_data"
    },
    {
     "data": {
      "image/png": "[encoded data removed]",
      "text/plain": [
       "<Figure size 1296x360 with 3 Axes>"
      ]
     },
     "metadata": {
      "needs_background": "light"
     },
     "output_type": "display_data"
    },
    {
     "name": "stdout",
     "output_type": "stream",
     "text": [
      "----------------------------------------------------\n",
      "Epoch 500:  EM distance = 0.9182658781856665, trace distance = 0.9965165235985879, abs trace distance = 0.893926099915954\n",
      "h=Y((0, 0))*X((0, 4)), w=0.9999992239740144, e=0.18246622383594513\n",
      "h=Z((0, 2))*X((0, 3)), w=0.9999999794574967, e=0.36874473188072443\n",
      "h=X((0, 1))*X((0, 5)), w=0.9999992366179904, e=0.3670553518459201\n",
      "-------------------------------------\n",
      "----------- TRAINING DONE -----------\n"
     ]
    }
   ],
   "source": [
    "json_result = trainer.train(opt, epochs, gen_iteration, snapshot_interval_epochs, plot=True)"
   ]
  },
  {
   "cell_type": "code",
   "execution_count": 556,
   "id": "formal-essence",
   "metadata": {},
   "outputs": [],
   "source": [
    "def compute_known_states_stats(tra, g_list):\n",
    "       return compute_states_stats(\n",
    "        lambda g: tra.real_evaluator.get_state_from_params(labels=g)[1],\n",
    "        lambda g: tra.real_evaluator.get_state_from_params(labels=g)[1],\n",
    "        g_list,\n",
    "        g_list\n",
    "    ) \n",
    "\n",
    "def compute_generated_states_stats(tra, g_list):\n",
    "    return compute_states_stats(\n",
    "        lambda g: tra.gen_evaluator.get_state_from_params()[1],\n",
    "        lambda g: tra.real_evaluator.get_state_from_params(labels=g)[1],\n",
    "        [\"GENERATED\"],\n",
    "        g_list\n",
    "    )\n",
    "\n",
    "def compute_states_stats(state_prov1, state_prov2, g_list1, g_list2):\n",
    "    stats = {\n",
    "        'min_fidelity': 1,\n",
    "        'min_fidelity_tuple': (None, None),\n",
    "        'max_fidelity': 0,\n",
    "        'max_fidelity_tuple': (None, None),\n",
    "        'average_fidelity': None,\n",
    "        'std_fidelity': None\n",
    "    }\n",
    "    fids = []\n",
    "    for g1 in g_list1:\n",
    "        for g2 in g_list2:\n",
    "            if g1 != g2:\n",
    "                state1 = state_prov1(g1)\n",
    "                state2 = state_prov2(g2)\n",
    "                fid = cirq.fidelity(state1, state2)\n",
    "                fids.append(fid)\n",
    "                if fid < stats['min_fidelity']:\n",
    "                    stats['min_fidelity'] = fid\n",
    "                    stats['min_fidelity_tuple'] = (g1, g2)\n",
    "                if fid > stats['max_fidelity']:\n",
    "                    stats['max_fidelity'] = fid\n",
    "                    stats['max_fidelity_tuple'] = (g1, g2)\n",
    "                \n",
    "    stats['average_fidelity'] = st.mean(fids)\n",
    "    stats['std_fidelity'] = st.stdev(fids)\n",
    "    return stats"
   ]
  },
  {
   "cell_type": "code",
   "execution_count": 557,
   "id": "armed-combine",
   "metadata": {},
   "outputs": [
    {
     "data": {
      "text/plain": [
       "{'min_fidelity': 0.012766263476376105,\n",
       " 'min_fidelity_tuple': (17, 22),\n",
       " 'max_fidelity': 0.720878590286592,\n",
       " 'max_fidelity_tuple': (11, 28),\n",
       " 'average_fidelity': 0.2440110757721059,\n",
       " 'std_fidelity': 0.13116771774992894}"
      ]
     },
     "execution_count": 557,
     "metadata": {},
     "output_type": "execute_result"
    }
   ],
   "source": [
    "compute_known_states_stats(trainer, known_g_values)"
   ]
  },
  {
   "cell_type": "code",
   "execution_count": 558,
   "id": "norwegian-walter",
   "metadata": {},
   "outputs": [
    {
     "data": {
      "text/plain": [
       "{'min_fidelity': 0.07263735947219985,\n",
       " 'min_fidelity_tuple': ('GENERATED', 22),\n",
       " 'max_fidelity': 0.46606762257626144,\n",
       " 'max_fidelity_tuple': ('GENERATED', 2),\n",
       " 'average_fidelity': 0.2630997423517427,\n",
       " 'std_fidelity': 0.10600286712860281}"
      ]
     },
     "execution_count": 558,
     "metadata": {},
     "output_type": "execute_result"
    }
   ],
   "source": [
    "compute_generated_states_stats(trainer, known_g_values)"
   ]
  },
  {
   "cell_type": "code",
   "execution_count": null,
   "id": "aggressive-nelson",
   "metadata": {
    "pycharm": {
     "is_executing": true
    }
   },
   "outputs": [],
   "source": [
    "from scipy.optimize import linprog\n",
    "def get_em_distance(W, H, t):\n",
    "    traces = (t.get_all_generator_expectations(H).numpy() - t.get_real_expectation(H)).flatten()\n",
    "    return sum(x * y for x, y in zip(W, traces))\n",
    "\n",
    "def get_em_distance_real(t1, t2):\n",
    "    traces = (t1.get_real_expectation(t1.disc_hamiltonians) - t2.get_real_expectation(t2.disc_hamiltonians)).flatten()\n",
    "    res = linprog(-traces, A_ub=t1.A, b_ub=t1.b, bounds=(0, 1))\n",
    "    tt = [traces[i] for i in range(len(t1.disc_hamiltonians)) if res.x[i] > 1.e-5]\n",
    "    res2 = [res.x[i] for i in range(len(res.x)) if res.x[i] > 1.e-5]\n",
    "    return sum(x * y for x, y in zip(res2, tt))\n",
    "\n",
    "def get_em_distance2(W, H, t):\n",
    "    traces = (t.get_all_generator_expectations(t.disc_hamiltonians).numpy() -\n",
    "              t.get_real_expectation(t.disc_hamiltonians)).flatten()\n",
    "    res = linprog(-traces, A_ub=t.A, b_ub=t.b, bounds=(0, 1))\n",
    "    tt = [traces[i] for i in range(len(t.disc_hamiltonians)) if res.x[i] > 1.e-5]\n",
    "    res2 = [res.x[i] for i in range(len(res.x)) if res.x[i] > 1.e-5] \n",
    "    return sum(x * y for x, y in zip(res2, tt)), res2, tt\n",
    "\n",
    "def plot_em_distance_between_real():\n",
    "    fig, axes = plt.subplots(nrows=1, ncols=1, figsize=(18, 8))\n",
    "    # g=-0.4\n",
    "    # W, H = list(zip(*g_dict[g].last_run_generator_weights[-1].disc_w_h.items()))\n",
    "    # get_em_distance(W, H, g_dict[-0.5]), g_dict[g].last_run_generator_weights[-1].em_distance\n",
    "    g_values2 = [np.round(el, 1) for el in np.linspace(-1,0,11)]\n",
    "    tr = {}\n",
    "    for g in g_values2:\n",
    "        tr[g] = Trainer(real, real_symbols, gen, gs, [g], real_values_provider, rank=rank, use_neptune=False)\n",
    "    x = g_values2\n",
    "    for g1 in g_values2:\n",
    "        tmp_res = []\n",
    "        for g2 in g_values2:\n",
    "            tmp_res.append(get_em_distance_real(tr[g1], tr[g2]))\n",
    "        axes.plot(x, tmp_res,label=g1)\n",
    "    axes.legend()\n",
    "    plt.show()"
   ]
  },
  {
   "cell_type": "code",
   "execution_count": null,
   "id": "together-blame",
   "metadata": {
    "pycharm": {
     "is_executing": true
    }
   },
   "outputs": [],
   "source": [
    "plot_em_distance_between_real()"
   ]
  },
  {
   "cell_type": "code",
   "execution_count": null,
   "id": "bound-flavor",
   "metadata": {
    "pycharm": {
     "is_executing": true
    }
   },
   "outputs": [],
   "source": [
    "generator_layers = 3\n",
    "data_bus_size = 6\n",
    "rank = 1\n",
    "real_circuit_type = 'phase'\n",
    "generic_generator = False\n",
    "zxz = False\n",
    "all_gates_parametrized = False\n",
    "g_values = [-0.8]\n",
    "sizes = [3,4,5,6,7,8]\n",
    "epochs = 801\n",
    "gen_iteration = 2\n",
    "snapshot_interval_epochs = 200\n",
    "expectation_provider_type = ExpectationProviderType.GAN\n",
    "known_g_values = [-1,-0.75,-0.5,-0.25,0]"
   ]
  },
  {
   "cell_type": "code",
   "execution_count": null,
   "id": "boring-postage",
   "metadata": {
    "pycharm": {
     "is_executing": true
    },
    "scrolled": false
   },
   "outputs": [],
   "source": [
    "# g_values = [-0.5, -0.5, -0.5, -0.5, -0.5, -0.4, -0.4, -0.4, -0.4, -0.4]\n",
    "training_result = {}\n",
    "trainer_dict = {}\n",
    "for j, g in enumerate(g_values):\n",
    "    trainer_by_size = {}\n",
    "    result_by_size = {}\n",
    "    training_result[(j, g)] = result_by_size\n",
    "    trainer_dict[(j, g)] = trainer_by_size\n",
    "    for i, data_bus_size in enumerate(sizes):\n",
    "        data_qubits = qubits = cirq.GridQubit.rect(1, data_bus_size)\n",
    "        \n",
    "        start_neptune_experiment()\n",
    "        \n",
    "        if real_circuit_type == 'butterfly':\n",
    "            real, real_symbols = ButterflyCircuitBuilder().build(qubits=qubits)\n",
    "            real_values_provider = get_fixed_random_rotation_provider(len(real_symbols))\n",
    "        else:\n",
    "            builder = PhaseCircuitBuilder(all_gates_parametrized=False)\n",
    "            real, real_symbols, symbols_dict_real = builder.build_ground_state_circuit(qubits=data_qubits)\n",
    "            real_values_provider = get_g_parameters_provider()\n",
    "\n",
    "        if generic_generator:\n",
    "            gen, gs = circuits.build_circuit(generator_layers, data_qubits, \"g\")\n",
    "            symbols_dict_gen = {}\n",
    "        else:\n",
    "            builder = PhaseCircuitBuilder(all_gates_parametrized=all_gates_parametrized)\n",
    "            gen, gs, symbols_dict_gen = builder.build_ground_state_circuit(qubits=data_qubits, full_parametrization=True, zxz=zxz)\n",
    "        real_expectations_provider = get_expectation_provider()\n",
    "        trainer_by_size[(i, data_bus_size)] = Trainer(real, \n",
    "                                                      real_symbols, \n",
    "                                                      gen, \n",
    "                                                      gs, \n",
    "                                                      [g], \n",
    "                                                      real_values_provider, \n",
    "                                                      real_expectations_provider,\n",
    "                                                      rank=rank, \n",
    "                                                      use_neptune=False)\n",
    "        \n",
    "        opt = tf.keras.optimizers.Adam(0.01, beta_1=0.9, beta_2=0.98, epsilon=1e-9)\n",
    "        json_result = trainer_by_size[(i, data_bus_size)].train(opt, epochs, gen_iteration, snapshot_interval_epochs, plot=True)\n",
    "        training_result[(i,data_bus_size)] = json_result\n"
   ]
  },
  {
   "cell_type": "code",
   "execution_count": null,
   "id": "dressed-damage",
   "metadata": {
    "pycharm": {
     "is_executing": true
    }
   },
   "outputs": [],
   "source": [
    "if use_neptune:\n",
    "    neptune.stop()"
   ]
  },
  {
   "cell_type": "code",
   "execution_count": null,
   "id": "patent-swimming",
   "metadata": {
    "pycharm": {
     "is_executing": true
    },
    "scrolled": true
   },
   "outputs": [],
   "source": [
    "# print fidelities of each generator\n",
    "# get all hamiltonians of each discriminator (final iteration) - r\n",
    "r = defaultdict(lambda: defaultdict(list))\n",
    "# rg = defaultdict(lambda: defaultdict(list))\n",
    "for j, g in enumerate(g_values):\n",
    "    for i, s in enumerate(sizes):\n",
    "        print(f\"({j},{g}), ({i}, {s})\" \\\n",
    "              f\"abs_fidelity: {trainer_dict[(j, g)][(i, s)].last_run_generator_weights[-1].fidelities[0].abs_fidelity}\")\n",
    "        for k,v in trainer_dict[(j, g)][(i, s)].last_run_generator_weights[-1].disc_w_h.items():\n",
    "            r[g][str(v)].append(i)\n",
    "            r[\"COMBINED\"][str(v)].append(i)\n",
    "#             if g_dict[(i, g)].last_run_generator_weights[-1].trace_distance > 0.9:\n",
    "#                 rg[g][str(v)].append(i)\n",
    "r"
   ]
  },
  {
   "cell_type": "code",
   "execution_count": 409,
   "id": "convertible-rochester",
   "metadata": {
    "pycharm": {
     "is_executing": true
    }
   },
   "outputs": [],
   "source": [
    "np.set_printoptions(suppress=True)\n",
    "def get_expectations_real(g, t):\n",
    "    full_weights = tf.keras.layers.Layer()(\n",
    "                tf.Variable(np.array(t.real_values_provider(g), dtype=np.float32)))\n",
    "    full_weights = tf.reshape(full_weights, (1, full_weights.shape[0]))\n",
    "    exps = t.real_expectation([t.real],\n",
    "                                         symbol_names=t.real_symbols,\n",
    "                                         symbol_values=full_weights,\n",
    "                                         operators=t.disc_hamiltonians)\n",
    "    return {h: e for e, h in zip(exps.numpy()[0], [str(h) for h in t.disc_hamiltonians])}\n",
    "\n",
    "def get_expectations_gen(g, t):\n",
    "    full_weights = tf.keras.layers.Layer()(t.gen_weights[0][2])\n",
    "    full_weights = tf.reshape(full_weights, (1, full_weights.shape[0]))\n",
    "    exps = t.gen_expectation([t.gen],\n",
    "                                         symbol_names=t.gs,\n",
    "                                         symbol_values=full_weights,\n",
    "                                         operators=t.disc_hamiltonians)\n",
    "    return {h: e for e, h in zip(exps.numpy()[0], [str(h) for h in t.disc_hamiltonians])}\n",
    "\n",
    "def get_exps(g_list, trainer, eps=1e-3):\n",
    "    res = defaultdict(list)\n",
    "    for g in g_list:\n",
    "        for e in (fe for fe in get_expectations_real(g, trainer).items() if abs(float(fe[1])) >= eps):\n",
    "            res[e[0]].append(e[1])\n",
    "    return res\n",
    "\n",
    "def get_exp(g, trainer, eps=1e-3):\n",
    "    res_r = defaultdict(list)\n",
    "    res_g = defaultdict(list)\n",
    "    for e in (fe for fe in get_expectations_real(g, trainer).items() if abs(float(fe[1])) >= eps ):\n",
    "        res_r[e[0]].append(e[1])\n",
    "    for e in (fe for fe in get_expectations_gen(g, trainer).items() if abs(float(fe[1])) >= eps ):\n",
    "        res_g[e[0]].append(e[1])\n",
    "    return res_r, res_g"
   ]
  },
  {
   "cell_type": "code",
   "execution_count": null,
   "id": "indoor-portrait",
   "metadata": {
    "pycharm": {
     "is_executing": true
    },
    "scrolled": true
   },
   "outputs": [],
   "source": [
    "# plot change in the expectation per pauli string\n",
    "fig, axes = plt.subplots(nrows=1, ncols=1, figsize=(18, 8))\n",
    "g_values_list = [0,1]\n",
    "# random.shuffle(g_values_list)\n",
    "es = get_exps(g_values_list, trainer_dict[(0, -0.8)][(0, 3)])\n",
    "res = []\n",
    "for k, v in es.items():\n",
    "    c = []\n",
    "    for i in range(len(v)):\n",
    "          c.append(float(v[i]))\n",
    "    res.append(c)\n",
    "    x = list(range(len(c)))\n",
    "    axes.plot(x, c,label=k)\n",
    "axes.legend()\n",
    "plt.show()\n",
    "es"
   ]
  },
  {
   "cell_type": "code",
   "execution_count": 174,
   "id": "clinical-drink",
   "metadata": {
    "pycharm": {
     "is_executing": true
    },
    "scrolled": false
   },
   "outputs": [
    {
     "name": "stdout",
     "output_type": "stream",
     "text": [
      "[-1.0, -0.9, -0.8, -0.7, -0.6, -0.5, -0.4, -0.3, -0.2, -0.1, 0.0]\n"
     ]
    },
    {
     "data": {
      "image/png": "[encoded data removed]",
      "text/plain": [
       "<Figure size 1296x576 with 1 Axes>"
      ]
     },
     "metadata": {
      "needs_background": "light"
     },
     "output_type": "display_data"
    }
   ],
   "source": [
    "# plots expecation change for different g for all pauli string with expecation higher than eps\n",
    "fig, axes = plt.subplots(nrows=1, ncols=1, figsize=(18, 8))\n",
    "g_values_list = [np.round(el, 3) for el in np.linspace(-1,0,11)]\n",
    "x_indexes = False\n",
    "print(g_values_list)\n",
    "# random.shuffle(g_values_list)\n",
    "eps = 1.e-1\n",
    "res = defaultdict(list)\n",
    "for g in g_values_list:\n",
    "    exps = get_exp(g, trainer, eps=0)\n",
    "    for pauli_string, exp in exps.items():\n",
    "        res[pauli_string].append(float(exp[0]))\n",
    "curated_res = {k: v for k, v in res.items() if any(abs(el) > eps for el in res[k])}\n",
    "for pauli_string, exp in curated_res.items():\n",
    "    if x_indexes:\n",
    "        axes.plot(range(len(g_values_list)), exp,label=pauli_string)\n",
    "    else:\n",
    "        axes.plot(g_values_list, exp,label=pauli_string) \n",
    "axes.legend()\n",
    "axes.set_xlabel(\"g\")\n",
    "axes.set_ylabel(\"expectation\")\n",
    "plt.show()  "
   ]
  },
  {
   "cell_type": "code",
   "execution_count": null,
   "id": "interior-crest",
   "metadata": {
    "pycharm": {
     "is_executing": true
    }
   },
   "outputs": [],
   "source": [
    "# calculates expectations of each pauli string for all sizes of circuits\n",
    "circuits_gen = []\n",
    "circuits_real = []\n",
    "size_to_exps_real = {}\n",
    "size_to_exps_gen = {}\n",
    "g = -0.8\n",
    "eps = 1.e-5\n",
    "for j, g in enumerate(g_values):\n",
    "    for i, s in enumerate(sizes):\n",
    "        tr = trainer_dict[(j, g)][(i, s)]\n",
    "        size_to_exps_real[s] = get_expectations_real(g, tr)\n",
    "        size_to_exps_gen[s] = get_expectations_gen(g, tr)\n",
    "        circuits_gen.append(tr.gen_evaluator.get_all_resolved_circuits()[0][2])\n",
    "        circuits_real.append(tr.real_evaluator.get_all_resolved_circuits()[0][2])\n",
    "string_to_exp = defaultdict(list)\n",
    "for s, exps_real in size_to_exps_real.items():\n",
    "    exps_gen = size_to_exps_gen[s]\n",
    "    for pauli_string, exp_real in exps_real.items():\n",
    "        exp_gen = exps_gen[pauli_string]\n",
    "        string_to_exp[pauli_string].append((exp_real, exp_gen))\n",
    "curated_string_to_exp = {k: v for k, v in string_to_exp.items() if any(abs(float(el[0])) > eps for el in string_to_exp[k])}"
   ]
  },
  {
   "cell_type": "code",
   "execution_count": null,
   "id": "lasting-algebra",
   "metadata": {
    "pycharm": {
     "is_executing": true
    },
    "scrolled": true
   },
   "outputs": [],
   "source": [
    "curated_string_to_exp"
   ]
  },
  {
   "cell_type": "code",
   "execution_count": null,
   "id": "minimal-failure",
   "metadata": {
    "pycharm": {
     "is_executing": true
    }
   },
   "outputs": [],
   "source": [
    "def remove_last_n_qubits(circuit, n):\n",
    "    circuit = circuit.copy()\n",
    "    qubits_to_remove = sorted(list(circuit.all_qubits()))\n",
    "    circuit.clear_operations_touching(qubits_to_remove[-n:], list(range(len(circuit.moments))))\n",
    "    return circuit"
   ]
  },
  {
   "cell_type": "code",
   "execution_count": null,
   "id": "hungry-italy",
   "metadata": {
    "pycharm": {
     "is_executing": true
    }
   },
   "outputs": [],
   "source": [
    "# get fidelity between truncated and trained circuit\n",
    "truncated_circuit = remove_last_n_qubits(circuits_gen[1], 1)\n",
    "cirq.fidelity(abs(cirq.final_state_vector(truncated_circuit)), abs(cirq.final_state_vector(circuits_gen[0])))"
   ]
  },
  {
   "cell_type": "code",
   "execution_count": null,
   "id": "speaking-carrier",
   "metadata": {
    "pycharm": {
     "is_executing": true
    }
   },
   "outputs": [],
   "source": [
    "def combine_circuits(circuit, smaller_symbol_value_pairs, larger_symbol_value_pairs, larger_to_smaller_map):\n",
    "    combined_pairs = larger_symbol_value_pairs.copy()\n",
    "    for ls, ss in larger_to_smaller_map.items():\n",
    "        combined_pairs[ls] = smaller_symbol_value_pairs.get(ss, larger_symbol_value_pairs[ls])\n",
    "    resolver = cirq.ParamResolver(combined_pairs)\n",
    "    return cirq.final_state_vector(cirq.resolve_parameters(circuit, resolver))\n",
    "\n",
    "def get_symbols_per_qubit(circuit):\n",
    "    qubit_to_symbols = defaultdict(list)\n",
    "    for op in circuit.all_operations():\n",
    "        symbol = op.gate.exponent\n",
    "        if len(symbol.args) > 1:\n",
    "            symbol = symbol.args[0]\n",
    "        q = op.qubits[-1]\n",
    "        qubit_to_symbols[q].append(symbol)\n",
    "    return qubit_to_symbols\n",
    "\n",
    "def match_symbols(larger_circuit, smaller_circuit):\n",
    "    matched = {}\n",
    "    for q, symbols_smaller in smaller_circuit.items():\n",
    "        symbols_larger = larger_circuit[q]\n",
    "        for bs, ss in zip(symbols_larger, symbols_smaller):\n",
    "            matched[bs] = ss\n",
    "    return matched"
   ]
  },
  {
   "cell_type": "code",
   "execution_count": null,
   "id": "shared-charm",
   "metadata": {
    "pycharm": {
     "is_executing": true
    }
   },
   "outputs": [],
   "source": [
    "# get fidelity between trainer and combined circuit (generator)\n",
    "# smaller circuit (generator) weights are used in the larger when \n",
    "# (for the qubits that are common for both the rest is from the larger one)\n",
    "smaller = trainer_dict[(0,-0.8)][(0,3)]\n",
    "larger = trainer_dict[(0,-0.8)][(1,4)]\n",
    "cirq.fidelity(abs(combine_circuits(larger.gen, \n",
    "                 smaller.gen_evaluator.symbol_value_pairs[0][2], \n",
    "                 larger.gen_evaluator.symbol_value_pairs[0][2],\n",
    "                 match_symbols(get_symbols_per_qubit(g_dict[(1, 4)].gen), \n",
    "                                   get_symbols_per_qubit(smaller.gen)))), \n",
    "              abs(larger.gen_evaluator.get_all_states_from_params()[0][2]))"
   ]
  },
  {
   "cell_type": "code",
   "execution_count": 277,
   "id": "laughing-advantage",
   "metadata": {
    "pycharm": {
     "is_executing": true
    }
   },
   "outputs": [],
   "source": [
    "precomp_exp_provider = PrecomputedExpectationsProvider(trainer.real, trainer.real_symbols,  np.linspace(-1,0,11), real_values_provider,  quwgans_circuits.get_discriminator(trainer.real))"
   ]
  },
  {
   "cell_type": "code",
   "execution_count": 150,
   "id": "demographic-spank",
   "metadata": {
    "pycharm": {
     "is_executing": true
    }
   },
   "outputs": [],
   "source": [
    "interpolation_1d_expectations_provider = Interpolation1DExpectationsProvider(precomp_exp_provider)"
   ]
  },
  {
   "cell_type": "code",
   "execution_count": 151,
   "id": "stunning-senior",
   "metadata": {
    "pycharm": {
     "is_executing": true
    }
   },
   "outputs": [
    {
     "data": {
      "text/plain": [
       "{-0.75: {X((0, 0))*X((0, 2)): -1.2349282475004515e-08,\n",
       "  X((0, 0))*Z((0, 2)): 7.539865276563984e-07,\n",
       "  X((0, 0))*Y((0, 2)): -5.66448816331151e-08,\n",
       "  Z((0, 0))*X((0, 2)): -8.447277489258358e-08,\n",
       "  Z((0, 0))*Z((0, 2)): 0.020406613150828916,\n",
       "  Z((0, 0))*Y((0, 2)): -3.9524914115337e-09,\n",
       "  Y((0, 0))*X((0, 2)): -1.4919293410493483e-14,\n",
       "  Y((0, 0))*Z((0, 2)): -6.094105123065654e-11,\n",
       "  Y((0, 0))*Y((0, 2)): -2.0647356756679205e-08,\n",
       "  X((0, 0))*X((0, 4)): -8.039018311089909e-09,\n",
       "  X((0, 0))*Z((0, 4)): 8.804934848215492e-07,\n",
       "  X((0, 0))*Y((0, 4)): -5.6644838927850965e-08,\n",
       "  Z((0, 0))*X((0, 4)): -5.176658319914304e-09,\n",
       "  Z((0, 0))*Z((0, 4)): 0.0004139718964294046,\n",
       "  Z((0, 0))*Y((0, 4)): -8.031095029410437e-11,\n",
       "  Y((0, 0))*X((0, 4)): 5.247565740523391e-15,\n",
       "  Y((0, 0))*Z((0, 4)): -3.417043995981483e-13,\n",
       "  Y((0, 0))*Y((0, 4)): 4.467066609009435e-09,\n",
       "  X((0, 0))*X((0, 1)): -7.609077850226488e-07,\n",
       "  X((0, 0))*Z((0, 1)): 2.159639237656504e-08,\n",
       "  X((0, 0))*Y((0, 1)): -7.198286210095498e-08,\n",
       "  Z((0, 0))*X((0, 1)): 1.3849072723685301e-09,\n",
       "  Z((0, 0))*Z((0, 1)): 0.14285753223201844,\n",
       "  Z((0, 0))*Y((0, 1)): -1.2488999724645597e-08,\n",
       "  Y((0, 0))*X((0, 1)): -2.1917461623474177e-09,\n",
       "  Y((0, 0))*Z((0, 1)): 5.6213845770677854e-08,\n",
       "  Y((0, 0))*Y((0, 1)): 1.3003023516865002e-07,\n",
       "  X((0, 0))*X((0, 3)): 1.228748438625112e-08,\n",
       "  X((0, 0))*Z((0, 3)): 8.703588152480187e-07,\n",
       "  X((0, 0))*Y((0, 3)): -5.664483077909602e-08,\n",
       "  Z((0, 0))*X((0, 3)): -7.083267625957142e-09,\n",
       "  Z((0, 0))*Z((0, 3)): 0.0029128935400740156,\n",
       "  Z((0, 0))*Y((0, 3)): -5.643240117093229e-10,\n",
       "  Y((0, 0))*X((0, 3)): -1.0896923470584572e-14,\n",
       "  Y((0, 0))*Z((0, 3)): -7.863718604854937e-12,\n",
       "  Y((0, 0))*Y((0, 3)): -2.70647473563263e-09,\n",
       "  X((0, 0))*X((0, 5)): 7.548749686800602e-07,\n",
       "  X((0, 0))*Z((0, 5)): -8.695062476819724e-07,\n",
       "  X((0, 0))*Y((0, 5)): -1.518017595253869e-08,\n",
       "  Z((0, 0))*X((0, 5)): 0.0004162333591041245,\n",
       "  Z((0, 0))*Z((0, 5)): -5.750170572524066e-05,\n",
       "  Z((0, 0))*Y((0, 5)): -8.652196263285297e-11,\n",
       "  Y((0, 0))*X((0, 5)): -1.7952392484117344e-12,\n",
       "  Y((0, 0))*Z((0, 5)): -7.052628762044531e-13,\n",
       "  Y((0, 0))*Y((0, 5)): 9.742025542340175e-09,\n",
       "  X((0, 2))*X((0, 4)): -1.054941389158799e-08,\n",
       "  X((0, 2))*Z((0, 4)): -4.73410879389437e-09,\n",
       "  X((0, 2))*Y((0, 4)): -3.644580914863115e-14,\n",
       "  Z((0, 2))*X((0, 4)): -1.2074295411785503e-07,\n",
       "  Z((0, 2))*Z((0, 4)): 0.020406323190834123,\n",
       "  Z((0, 2))*Y((0, 4)): -3.952550050225295e-09,\n",
       "  Y((0, 2))*X((0, 4)): 6.676541608477417e-14,\n",
       "  Y((0, 2))*Z((0, 4)): -1.1961624975518922e-08,\n",
       "  Y((0, 2))*Y((0, 4)): 4.1745404971786475e-09,\n",
       "  X((0, 1))*X((0, 2)): -1.4933841925079465e-07,\n",
       "  Z((0, 1))*X((0, 2)): -7.689711212525259e-07,\n",
       "  Y((0, 1))*X((0, 2)): -1.5180189160017224e-08,\n",
       "  X((0, 1))*Z((0, 2)): -0.9795936113919524,\n",
       "  Z((0, 1))*Z((0, 2)): 0.1428555716393208,\n",
       "  Y((0, 1))*Z((0, 2)): -1.5424857269887556e-07,\n",
       "  X((0, 1))*Y((0, 2)): 8.347021393920078e-08,\n",
       "  Z((0, 1))*Y((0, 2)): -2.766898797636526e-08,\n",
       "  Y((0, 1))*Y((0, 2)): 7.587437555717406e-07,\n",
       "  X((0, 2))*X((0, 3)): -9.395899022884444e-09,\n",
       "  X((0, 2))*Z((0, 3)): 1.0347236835261906e-07,\n",
       "  X((0, 2))*Y((0, 3)): -9.481421856182996e-14,\n",
       "  Z((0, 2))*X((0, 3)): -7.682750051922965e-07,\n",
       "  Z((0, 2))*Z((0, 3)): 0.1428555901714313,\n",
       "  Z((0, 2))*Y((0, 3)): -2.7669170209051082e-08,\n",
       "  Y((0, 2))*X((0, 3)): 5.110325441052062e-14,\n",
       "  Y((0, 2))*Z((0, 3)): -8.373274491691273e-08,\n",
       "  Y((0, 2))*Y((0, 3)): 1.5179223132723913e-08,\n",
       "  X((0, 2))*X((0, 5)): 1.2136056197329929e-08,\n",
       "  X((0, 2))*Z((0, 5)): 1.2814633078054337e-09,\n",
       "  X((0, 2))*Y((0, 5)): -5.8693304562571155e-15,\n",
       "  Z((0, 2))*X((0, 5)): 0.02020316843134127,\n",
       "  Z((0, 2))*Z((0, 5)): -0.0029128118892348077,\n",
       "  Z((0, 2))*Y((0, 5)): -4.211353401366994e-09,\n",
       "  Y((0, 2))*X((0, 5)): -1.1839622386742264e-08,\n",
       "  Y((0, 2))*Z((0, 5)): 1.7085700741937442e-09,\n",
       "  Y((0, 2))*Y((0, 5)): 1.1837317326154315e-08,\n",
       "  X((0, 1))*X((0, 4)): 1.1507099221648298e-07,\n",
       "  Z((0, 1))*X((0, 4)): -2.6287679225792806e-08,\n",
       "  Y((0, 1))*X((0, 4)): 5.1391737773572123e-14,\n",
       "  X((0, 1))*Z((0, 4)): -0.019992363293016055,\n",
       "  Z((0, 1))*Z((0, 4)): 0.0029128168792129853,\n",
       "  Y((0, 1))*Z((0, 4)): -1.1158341406510308e-08,\n",
       "  X((0, 1))*Y((0, 4)): 3.872274738159027e-09,\n",
       "  Z((0, 1))*Y((0, 4)): -5.643402499627012e-10,\n",
       "  Y((0, 1))*Y((0, 4)): 3.0709818611166683e-09,\n",
       "  X((0, 3))*X((0, 4)): 4.63492831525025e-09,\n",
       "  Z((0, 3))*X((0, 4)): -7.493694938692697e-07,\n",
       "  Y((0, 3))*X((0, 4)): 3.9712830452286014e-14,\n",
       "  X((0, 3))*Z((0, 4)): -6.453401845888708e-07,\n",
       "  Z((0, 3))*Z((0, 4)): 0.14285560255630061,\n",
       "  Y((0, 3))*Z((0, 4)): -2.766903847863658e-08,\n",
       "  X((0, 3))*Y((0, 4)): 4.8897577622794735e-14,\n",
       "  Z((0, 3))*Y((0, 4)): -2.7669192853799208e-08,\n",
       "  Y((0, 3))*Y((0, 4)): 8.371984194055109e-10,\n",
       "  X((0, 4))*X((0, 5)): 1.062551515688752e-07,\n",
       "  X((0, 4))*Z((0, 5)): 7.534860149143564e-07,\n",
       "  X((0, 4))*Y((0, 5)): -1.5337927765220888e-08,\n",
       "  Z((0, 4))*X((0, 5)): 0.9897490086332951,\n",
       "  Z((0, 4))*Z((0, 5)): -0.14285558790631533,\n",
       "  Z((0, 4))*Y((0, 5)): 1.901886883709113e-07,\n",
       "  Y((0, 4))*X((0, 5)): -8.43353767747631e-08,\n",
       "  Y((0, 4))*Z((0, 5)): 2.7669044645872342e-08,\n",
       "  Y((0, 4))*Y((0, 5)): 7.602574453966093e-07,\n",
       "  X((0, 1))*X((0, 3)): 7.489672139219944e-07,\n",
       "  X((0, 1))*Z((0, 3)): -0.13994274237177737,\n",
       "  X((0, 1))*Y((0, 3)): 2.710484171291272e-08,\n",
       "  Z((0, 1))*X((0, 3)): -1.2937166488421068e-07,\n",
       "  Z((0, 1))*Z((0, 3)): 0.020406330946844204,\n",
       "  Z((0, 1))*Y((0, 3)): -3.952543553351196e-09,\n",
       "  Y((0, 1))*X((0, 3)): 1.0810025569720745e-13,\n",
       "  Y((0, 1))*Z((0, 3)): -7.810044353855567e-08,\n",
       "  Y((0, 1))*Y((0, 3)): -2.4265023971553333e-10,\n",
       "  X((0, 1))*X((0, 5)): -0.019786959539375207,\n",
       "  X((0, 1))*Z((0, 5)): 0.002855310628939631,\n",
       "  X((0, 1))*Y((0, 5)): 4.124823401903107e-09,\n",
       "  Z((0, 1))*X((0, 5)): 0.0028891097953659215,\n",
       "  Z((0, 1))*Z((0, 5)): -0.0004139420814089166,\n",
       "  Z((0, 1))*Y((0, 5)): -6.022729500217862e-10,\n",
       "  Y((0, 1))*X((0, 5)): -1.1043158973014273e-08,\n",
       "  Y((0, 1))*Z((0, 5)): 1.5952037477729047e-09,\n",
       "  Y((0, 1))*Y((0, 5)): 2.9506818987027104e-08,\n",
       "  X((0, 3))*X((0, 5)): -6.244904605661317e-07,\n",
       "  X((0, 3))*Z((0, 5)): 9.924337606000451e-08,\n",
       "  X((0, 3))*Y((0, 5)): -1.4971841394143798e-13,\n",
       "  Z((0, 3))*X((0, 5)): 0.14139636798800534,\n",
       "  Z((0, 3))*Z((0, 5)): -0.020406338882567227,\n",
       "  Z((0, 3))*Y((0, 5)): -2.947538346206177e-08,\n",
       "  Y((0, 3))*X((0, 5)): -2.7385890780581097e-08,\n",
       "  Y((0, 3))*Z((0, 5)): 3.95254218078893e-09,\n",
       "  Y((0, 3))*Y((0, 5)): 6.3154525162130255e-09,\n",
       "  X((0, 0)): 0.9897487295090065,\n",
       "  Z((0, 0)): 3.462765128485726e-09,\n",
       "  Y((0, 0)): 3.0229849376849673e-07,\n",
       "  X((0, 2)): -3.933702014718201e-08,\n",
       "  Z((0, 2)): 7.645548922566174e-07,\n",
       "  Y((0, 2)): -5.72320729549167e-08,\n",
       "  X((0, 4)): -1.5718021389725453e-08,\n",
       "  Z((0, 4)): 8.98868269478838e-07,\n",
       "  Y((0, 4)): -5.723201303715906e-08,\n",
       "  X((0, 1)): -7.637508306419319e-07,\n",
       "  Z((0, 1)): 2.308039975279167e-08,\n",
       "  Y((0, 1)): -7.241221821875676e-08,\n",
       "  X((0, 3)): 5.20358251042678e-09,\n",
       "  Z((0, 3)): 8.946535176624235e-07,\n",
       "  Y((0, 3)): -5.723201517943782e-08,\n",
       "  X((0, 5)): 7.789686165213083e-07,\n",
       "  Z((0, 5)): -8.853242826663775e-07,\n",
       "  Y((0, 5)): -1.5337971367267443e-08}}"
      ]
     },
     "execution_count": 151,
     "metadata": {},
     "output_type": "execute_result"
    }
   ],
   "source": [
    "interpolation_1d_expectations_provider.get_expectations_for_parameters([-0.75])"
   ]
  },
  {
   "cell_type": "code",
   "execution_count": 278,
   "id": "liable-initial",
   "metadata": {
    "pycharm": {
     "is_executing": true
    }
   },
   "outputs": [],
   "source": [
    "gen_input_dim = 10\n",
    "hidden_dim = 32\n",
    "penalty_factor = 10\n",
    "epochs = 5000\n",
    "batch_size = 4\n",
    "wgan_exp_provider = WassersteinGanExpectationProvider(precomp_exp_provider, gen_input_dim, hidden_dim, penalty_factor, epochs, batch_size)"
   ]
  },
  {
   "cell_type": "code",
   "execution_count": null,
   "id": "stupid-hometown",
   "metadata": {
    "pycharm": {
     "is_executing": true
    },
    "scrolled": true
   },
   "outputs": [],
   "source": [
    "wgan_exp_provider.initialize()"
   ]
  },
  {
   "cell_type": "code",
   "execution_count": null,
   "id": "comparative-puppy",
   "metadata": {
    "pycharm": {
     "is_executing": true
    },
    "scrolled": true
   },
   "outputs": [],
   "source": [
    "wgan_exp_provider.get_expectations_for_parameters([2])"
   ]
  },
  {
   "cell_type": "code",
   "execution_count": 537,
   "id": "elder-wrist",
   "metadata": {},
   "outputs": [
    {
     "data": {
      "text/plain": [
       "array([-1.2773547 ,  0.0012908 , -0.95660734, -2.0611827 ,  0.39103127,\n",
       "       -2.430027  , -1.2650012 , -0.21312577, -0.3519029 , -0.31652844,\n",
       "       -0.18214118, -0.6066773 , -1.3323318 , -0.78737557, -1.2809778 ,\n",
       "       -0.06977856, -2.3769057 , -2.1239042 , -1.0839907 , -1.0228186 ,\n",
       "       -0.5958524 , -0.634472  , -2.5566854 , -2.3747826 ,  0.21196175,\n",
       "       -1.1811452 , -0.93334115, -1.6105573 ,  0.97642004,  0.5997435 ,\n",
       "       -1.4533926 , -1.3693166 , -2.334561  ,  0.99193525, -1.551445  ,\n",
       "       -1.9035754 , -0.17112494, -2.05297   , -1.5328581 , -1.017047  ,\n",
       "       -0.1496709 , -1.9621505 , -2.123699  , -1.0245475 , -2.4522054 ,\n",
       "       -2.401804  , -1.8119463 , -0.44791216, -1.0925651 ,  0.5927243 ,\n",
       "       -0.19295275, -1.7171799 ,  0.20491767,  0.33919823, -1.5109904 ,\n",
       "        0.24555528, -2.3164692 , -1.6560059 , -1.7467785 , -1.7630792 ,\n",
       "       -1.2852703 , -0.06499583, -2.6070757 , -1.4926263 , -2.0196548 ,\n",
       "       -2.9015844 , -2.065117  , -0.84126896, -1.2153354 , -1.7222614 ,\n",
       "       -2.409523  , -1.22878   , -2.3378005 , -0.5462436 , -0.8784461 ,\n",
       "       -1.0242286 ,  0.10931063, -1.5818722 , -0.73883605, -1.1034923 ,\n",
       "        0.45848882, -0.6156253 , -0.40892977, -1.6534696 ,  0.89803565,\n",
       "       -2.6120052 , -0.49011004,  0.03433001, -1.3085256 , -0.44335014,\n",
       "       -1.6497552 , -1.9946523 ,  0.30464065, -2.5243537 , -0.9580783 ,\n",
       "       -0.36429632, -1.5682485 , -1.6094673 , -1.4885614 , -1.6215558 ,\n",
       "       -0.8690887 , -2.2314606 , -1.8717736 , -1.263617  , -1.0613732 ,\n",
       "       -1.4699907 , -1.7096944 ,  0.25489473, -1.2993883 , -0.5518478 ,\n",
       "        0.17113352, -1.0372399 , -2.186029  ,  0.71275055, -0.9029794 ,\n",
       "       -2.5765014 , -1.2971636 , -0.25245798, -1.2450806 , -1.157495  ,\n",
       "       -1.7351916 , -1.3106165 , -0.34195393, -0.50032794, -1.2901475 ,\n",
       "       -0.12928277, -0.4792049 , -1.9820459 , -0.60770786, -1.9460557 ,\n",
       "       -2.7184985 , -1.6349597 , -1.8613453 ,  0.49549496, -2.9578717 ,\n",
       "       -1.2051038 , -1.7528574 , -0.24209869, -2.9939988 ,  0.8195723 ,\n",
       "       -0.30524123, -2.0636015 ], dtype=float32)"
      ]
     },
     "execution_count": 537,
     "metadata": {},
     "output_type": "execute_result"
    }
   ],
   "source": [
    "(trainer.real_expectations_provider.generator(tf.random.normal([1, trainer.real_expectations_provider.gen_input_dim])).numpy()[0] * 2) - 1"
   ]
  },
  {
   "cell_type": "code",
   "execution_count": 565,
   "id": "divided-occupation",
   "metadata": {
    "scrolled": false
   },
   "outputs": [
    {
     "data": {
      "text/plain": [
       "{X((0, 0))*X((0, 2)): -0.36356437,\n",
       " X((0, 0))*Y((0, 2)): 0.19057119,\n",
       " Z((0, 0))*X((0, 2)): -0.53500205,\n",
       " Z((0, 0))*Z((0, 2)): -0.4099276,\n",
       " Z((0, 0))*Y((0, 2)): 0.22710311,\n",
       " Y((0, 0))*Y((0, 2)): -0.25815046,\n",
       " X((0, 0))*X((0, 4)): 0.15401256,\n",
       " X((0, 0))*Z((0, 4)): -0.35472417,\n",
       " X((0, 0))*Y((0, 4)): -0.22575665,\n",
       " Z((0, 0))*Z((0, 4)): 0.34989786,\n",
       " Z((0, 0))*Y((0, 4)): 0.2592343,\n",
       " Y((0, 0))*X((0, 4)): 0.23437357,\n",
       " Y((0, 0))*Y((0, 4)): -0.22496098,\n",
       " X((0, 0))*X((0, 1)): -0.3209591,\n",
       " X((0, 0))*Z((0, 1)): 0.43801725,\n",
       " X((0, 0))*Y((0, 1)): -0.18521881,\n",
       " Z((0, 0))*X((0, 1)): 0.13688529,\n",
       " Z((0, 0))*Z((0, 1)): -0.4178874,\n",
       " Z((0, 0))*Y((0, 1)): 0.43167937,\n",
       " Y((0, 0))*X((0, 1)): -0.38743764,\n",
       " Y((0, 0))*Z((0, 1)): -0.2432422,\n",
       " X((0, 0))*Y((0, 3)): -0.5996471,\n",
       " Y((0, 0))*X((0, 3)): 0.29450655,\n",
       " Y((0, 0))*Z((0, 3)): -0.24369633,\n",
       " X((0, 0))*Z((0, 5)): 0.32034636,\n",
       " X((0, 0))*Y((0, 5)): 0.13763094,\n",
       " Z((0, 0))*Z((0, 5)): -0.45174193,\n",
       " Z((0, 0))*Y((0, 5)): -0.4532001,\n",
       " Y((0, 0))*Y((0, 5)): -0.47722447,\n",
       " X((0, 2))*X((0, 4)): -0.30387533,\n",
       " X((0, 2))*Z((0, 4)): 0.27537608,\n",
       " Z((0, 2))*Y((0, 4)): 0.24716592,\n",
       " Y((0, 2))*X((0, 4)): 0.18444347,\n",
       " Y((0, 2))*Z((0, 4)): 0.29081106,\n",
       " Z((0, 1))*X((0, 2)): -0.23213899,\n",
       " Y((0, 1))*X((0, 2)): 0.502661,\n",
       " X((0, 1))*Z((0, 2)): 0.17487693,\n",
       " Z((0, 1))*Z((0, 2)): 0.40908575,\n",
       " Y((0, 1))*Z((0, 2)): -0.37886667,\n",
       " X((0, 1))*Y((0, 2)): -0.14168745,\n",
       " X((0, 2))*X((0, 3)): -0.37031817,\n",
       " X((0, 2))*Z((0, 3)): 0.29350471,\n",
       " Z((0, 2))*X((0, 3)): -0.23368835,\n",
       " Z((0, 2))*Z((0, 3)): -0.45501482,\n",
       " Z((0, 2))*Y((0, 3)): -0.534955,\n",
       " Y((0, 2))*X((0, 3)): -0.28710127,\n",
       " Y((0, 2))*Z((0, 3)): -0.29364938,\n",
       " Y((0, 2))*Y((0, 3)): -0.37249947,\n",
       " X((0, 2))*X((0, 5)): -0.5730915,\n",
       " X((0, 2))*Y((0, 5)): 0.3612845,\n",
       " Z((0, 2))*Y((0, 5)): -0.14418721,\n",
       " Y((0, 2))*X((0, 5)): 0.2630508,\n",
       " Y((0, 2))*Y((0, 5)): -0.40955502,\n",
       " X((0, 1))*X((0, 4)): -0.38443112,\n",
       " Z((0, 1))*X((0, 4)): 0.6659415,\n",
       " Y((0, 1))*X((0, 4)): -0.38567156,\n",
       " X((0, 1))*Z((0, 4)): 0.15770793,\n",
       " Z((0, 1))*Z((0, 4)): -0.50359625,\n",
       " Z((0, 1))*Y((0, 4)): -0.49563766,\n",
       " Y((0, 1))*Y((0, 4)): 0.12265992,\n",
       " Z((0, 3))*X((0, 4)): -0.41439933,\n",
       " Y((0, 3))*X((0, 4)): 0.21719587,\n",
       " X((0, 3))*Z((0, 4)): 0.19781947,\n",
       " Y((0, 3))*Z((0, 4)): -0.31821704,\n",
       " Z((0, 3))*Y((0, 4)): -0.24706703,\n",
       " Y((0, 3))*Y((0, 4)): 0.26911676,\n",
       " X((0, 4))*X((0, 5)): 0.59180593,\n",
       " X((0, 4))*Z((0, 5)): 0.33394098,\n",
       " X((0, 4))*Y((0, 5)): 0.22163892,\n",
       " Z((0, 4))*X((0, 5)): -0.41568685,\n",
       " Z((0, 4))*Z((0, 5)): -0.6600322,\n",
       " Z((0, 4))*Y((0, 5)): -0.12371135,\n",
       " Y((0, 4))*X((0, 5)): 0.38987458,\n",
       " Y((0, 4))*Z((0, 5)): 0.26889253,\n",
       " Y((0, 4))*Y((0, 5)): 0.31146324,\n",
       " X((0, 1))*X((0, 3)): 0.469496,\n",
       " X((0, 1))*Z((0, 3)): -0.21951455,\n",
       " X((0, 1))*Y((0, 3)): 0.19184613,\n",
       " Z((0, 1))*Z((0, 3)): -0.18889397,\n",
       " Y((0, 1))*X((0, 3)): 0.31272554,\n",
       " Y((0, 1))*Z((0, 3)): -0.2408632,\n",
       " Y((0, 1))*Y((0, 3)): -0.19906896,\n",
       " X((0, 1))*X((0, 5)): -0.23586178,\n",
       " X((0, 1))*Z((0, 5)): -0.31752872,\n",
       " X((0, 1))*Y((0, 5)): -0.24640632,\n",
       " Z((0, 1))*Y((0, 5)): 0.3327204,\n",
       " Y((0, 1))*X((0, 5)): -0.47145128,\n",
       " Y((0, 1))*Z((0, 5)): 0.19761825,\n",
       " Y((0, 1))*Y((0, 5)): 0.13429487,\n",
       " X((0, 3))*Z((0, 5)): -0.39188838,\n",
       " Z((0, 3))*Z((0, 5)): 0.29890847,\n",
       " Z((0, 3))*Y((0, 5)): 0.27558327,\n",
       " Y((0, 3))*Z((0, 5)): -0.103914976,\n",
       " Y((0, 3))*Y((0, 5)): -0.367769,\n",
       " X((0, 0)): -0.12862206,\n",
       " Z((0, 0)): -0.30797076,\n",
       " Y((0, 0)): 0.5334754,\n",
       " X((0, 2)): -0.21110606,\n",
       " Z((0, 2)): 0.18301868,\n",
       " Y((0, 2)): -0.19285661,\n",
       " X((0, 4)): 0.15663183,\n",
       " Z((0, 4)): 0.34916866,\n",
       " Y((0, 4)): -0.424995,\n",
       " X((0, 1)): 0.4565643,\n",
       " Z((0, 1)): -0.42860067,\n",
       " Y((0, 1)): -0.5173749,\n",
       " Z((0, 3)): 0.1023891,\n",
       " Y((0, 3)): -0.36497474,\n",
       " Z((0, 5)): 0.2888627,\n",
       " Y((0, 5)): -0.1658051}"
      ]
     },
     "execution_count": 565,
     "metadata": {},
     "output_type": "execute_result"
    }
   ],
   "source": [
    "re_exps = trainer.real_expectations_provider.get_expectations_for_parameters([1])[1]\n",
    "{s: e for s, e in re_exps.items() if abs(e) > 0.1}"
   ]
  },
  {
   "cell_type": "code",
   "execution_count": 566,
   "id": "amino-style",
   "metadata": {
    "scrolled": false
   },
   "outputs": [
    {
     "data": {
      "text/plain": [
       "{2: {Z((0, 0))*X((0, 2)): 0.11388001,\n",
       "  Z((0, 0))*Z((0, 2)): -0.27909383,\n",
       "  Y((0, 0))*Z((0, 2)): 0.17958087,\n",
       "  Z((0, 0))*Z((0, 4)): -0.15248516,\n",
       "  X((0, 0))*X((0, 1)): 0.32939625,\n",
       "  X((0, 0))*Z((0, 1)): 0.36122566,\n",
       "  Z((0, 0))*Z((0, 1)): -0.8401025,\n",
       "  Z((0, 0))*Y((0, 1)): -0.13092004,\n",
       "  Y((0, 0))*Y((0, 1)): 0.38297206,\n",
       "  X((0, 0))*Z((0, 3)): -0.19676036,\n",
       "  X((0, 0))*Y((0, 3)): -0.29592308,\n",
       "  Z((0, 0))*Z((0, 3)): 0.16081505,\n",
       "  Z((0, 0))*Y((0, 3)): 0.6687435,\n",
       "  Z((0, 0))*Y((0, 5)): -0.16259135,\n",
       "  Y((0, 0))*Y((0, 5)): 0.1035297,\n",
       "  X((0, 2))*Y((0, 4)): 0.17310561,\n",
       "  Z((0, 2))*X((0, 4)): -0.15728258,\n",
       "  Z((0, 2))*Y((0, 4)): 0.15105934,\n",
       "  Y((0, 2))*X((0, 4)): -0.23245336,\n",
       "  Y((0, 2))*Z((0, 4)): 0.27461278,\n",
       "  Y((0, 2))*Y((0, 4)): -0.13281272,\n",
       "  X((0, 1))*Z((0, 2)): 0.13682705,\n",
       "  Z((0, 1))*Z((0, 2)): 0.21908006,\n",
       "  Y((0, 1))*Z((0, 2)): 0.13871115,\n",
       "  X((0, 2))*Y((0, 3)): 0.16798984,\n",
       "  Z((0, 2))*X((0, 3)): -0.10538445,\n",
       "  Z((0, 2))*Z((0, 3)): -0.31293526,\n",
       "  Z((0, 2))*Y((0, 3)): -0.28538427,\n",
       "  Y((0, 2))*X((0, 3)): -0.15618409,\n",
       "  X((0, 2))*X((0, 5)): 0.17830366,\n",
       "  X((0, 2))*Z((0, 5)): 0.32535055,\n",
       "  Z((0, 2))*Z((0, 5)): 0.18591683,\n",
       "  Z((0, 2))*Y((0, 5)): 0.558935,\n",
       "  Y((0, 2))*X((0, 5)): -0.4953163,\n",
       "  Y((0, 2))*Z((0, 5)): 0.117119476,\n",
       "  Z((0, 1))*Z((0, 4)): 0.1824552,\n",
       "  Y((0, 3))*Z((0, 4)): -0.13306747,\n",
       "  X((0, 4))*X((0, 5)): 0.41278103,\n",
       "  X((0, 4))*Z((0, 5)): -0.39289805,\n",
       "  Z((0, 4))*X((0, 5)): -0.442677,\n",
       "  Z((0, 4))*Z((0, 5)): -0.12206654,\n",
       "  Z((0, 4))*Y((0, 5)): 0.33265436,\n",
       "  Y((0, 4))*X((0, 5)): 0.41353637,\n",
       "  Y((0, 4))*Z((0, 5)): 0.26138416,\n",
       "  Y((0, 4))*Y((0, 5)): 0.27171078,\n",
       "  Z((0, 1))*Z((0, 3)): -0.21968837,\n",
       "  Z((0, 1))*Y((0, 3)): -0.7640646,\n",
       "  Y((0, 1))*Y((0, 3)): -0.15171707,\n",
       "  X((0, 1))*Y((0, 5)): 0.10141235,\n",
       "  Z((0, 1))*Y((0, 5)): 0.12817803,\n",
       "  Z((0, 3))*Y((0, 5)): -0.1716389,\n",
       "  Y((0, 3))*Y((0, 5)): -0.1685896,\n",
       "  X((0, 2)): 0.18840933,\n",
       "  Z((0, 2)): 0.38103163,\n",
       "  X((0, 4)): -0.41278097,\n",
       "  Y((0, 4)): 0.4205457,\n",
       "  Z((0, 3)): -0.20294376,\n",
       "  Y((0, 3)): 0.123541795,\n",
       "  Z((0, 5)): 0.25742355,\n",
       "  Y((0, 5)): 0.17956282}}"
      ]
     },
     "execution_count": 566,
     "metadata": {},
     "output_type": "execute_result"
    }
   ],
   "source": [
    "trainer.real_expectations_provider.precomputed_expectations_provider.eps = 0.1\n",
    "trainer.real_expectations_provider.precomputed_expectations_provider.get_expectations_for_parameters([2], filter_small_expectations=True)"
   ]
  },
  {
   "cell_type": "code",
   "execution_count": 403,
   "id": "color-windows",
   "metadata": {
    "scrolled": true
   },
   "outputs": [
    {
     "data": {
      "text/plain": [
       "array([0.29759374, 0.30179676, 0.39109558, 0.39693335, 0.00089026,\n",
       "       0.00090283, 0.00116997, 0.00118743, 0.00102714, 0.00101131,\n",
       "       0.00135093, 0.00132906, 0.00000373, 0.00000367, 0.00000491,\n",
       "       0.00000483, 0.00104901, 0.00106467, 0.00080616, 0.00081755,\n",
       "       0.39115775, 0.3969975 , 0.300602  , 0.3048489 , 0.00000441,\n",
       "       0.00000434, 0.00000338, 0.00000333, 0.00134886, 0.00132702,\n",
       "       0.00103577, 0.0010198 , 0.00018204, 0.00018461, 0.00023924,\n",
       "       0.00024281, 0.0380611 , 0.03859865, 0.05001963, 0.05076625,\n",
       "       0.00000319, 0.00000315, 0.0000042 , 0.00000413, 0.00069209,\n",
       "       0.00068142, 0.00091026, 0.00089552, 0.04946087, 0.0501993 ,\n",
       "       0.03801033, 0.03854735, 0.00021696, 0.0002202 , 0.00016673,\n",
       "       0.00016909, 0.00088223, 0.00086794, 0.00067745, 0.00066701,\n",
       "       0.00000376, 0.0000037 , 0.00000289, 0.00000284], dtype=float32)"
      ]
     },
     "execution_count": 403,
     "metadata": {},
     "output_type": "execute_result"
    }
   ],
   "source": [
    "trainer.gen_evaluator.get_state_from_params()[1]"
   ]
  },
  {
   "cell_type": "code",
   "execution_count": 407,
   "id": "quality-referral",
   "metadata": {
    "scrolled": true
   },
   "outputs": [
    {
     "data": {
      "text/plain": [
       "array([0.11507717, 0.12490713, 0.09722704, 0.0891498 , 0.0256979 ,\n",
       "       0.02789303, 0.02171179, 0.01990805, 0.21130167, 0.26419747,\n",
       "       0.20032458, 0.17003664, 0.02929631, 0.03663016, 0.02777436,\n",
       "       0.02357506, 0.10312112, 0.08388617, 0.12097216, 0.13849807,\n",
       "       0.05394071, 0.04387927, 0.06327826, 0.07244574, 0.13147165,\n",
       "       0.09333882, 0.1330871 , 0.17898898, 0.0877527 , 0.0623004 ,\n",
       "       0.08883096, 0.11946885, 0.01363675, 0.01480159, 0.01152146,\n",
       "       0.01056432, 0.11237248, 0.12197139, 0.09494188, 0.08705447,\n",
       "       0.0253869 , 0.03174207, 0.02406805, 0.02042909, 0.25747928,\n",
       "       0.3219349 , 0.24410327, 0.2071963 , 0.0420591 , 0.0342139 ,\n",
       "       0.04933984, 0.05648798, 0.12147903, 0.09881978, 0.14250794,\n",
       "       0.16315386, 0.08125135, 0.05768472, 0.08224972, 0.11061772,\n",
       "       0.19141804, 0.13589804, 0.19377013, 0.2606016 ], dtype=float32)"
      ]
     },
     "execution_count": 407,
     "metadata": {},
     "output_type": "execute_result"
    }
   ],
   "source": [
    "trainer.real_evaluator.get_state_from_params(labels=3)[1]"
   ]
  },
  {
   "cell_type": "code",
   "execution_count": 421,
   "id": "crucial-repeat",
   "metadata": {
    "pycharm": {
     "is_executing": true
    },
    "scrolled": true
   },
   "outputs": [
    {
     "data": {
      "text/plain": [
       "(defaultdict(list,\n",
       "             {'X((0, 0))*X((0, 2))': [-0.1244386],\n",
       "              'X((0, 0))*Z((0, 2))': [-0.07874745],\n",
       "              'X((0, 0))*Y((0, 2))': [-0.058828313],\n",
       "              'Z((0, 0))*X((0, 2))': [0.13949746],\n",
       "              'Z((0, 0))*Z((0, 2))': [0.37231362],\n",
       "              'Z((0, 0))*Y((0, 2))': [0.20847613],\n",
       "              'Y((0, 0))*X((0, 2))': [-0.2405318],\n",
       "              'Y((0, 0))*Z((0, 2))': [0.13839416],\n",
       "              'Y((0, 0))*Y((0, 2))': [0.06642246],\n",
       "              'X((0, 0))*X((0, 4))': [-0.050751552],\n",
       "              'X((0, 0))*Z((0, 4))': [0.15975839],\n",
       "              'X((0, 0))*Y((0, 4))': [0.1613093],\n",
       "              'Z((0, 0))*X((0, 4))': [0.15096368],\n",
       "              'Z((0, 0))*Z((0, 4))': [-0.45971504],\n",
       "              'Z((0, 0))*Y((0, 4))': [-0.523376],\n",
       "              'Y((0, 0))*X((0, 4))': [0.019496312],\n",
       "              'Y((0, 0))*Z((0, 4))': [-0.057695165],\n",
       "              'Y((0, 0))*Y((0, 4))': [-0.0722996],\n",
       "              'X((0, 0))*X((0, 1))': [-0.094402164],\n",
       "              'X((0, 0))*Z((0, 1))': [0.19966233],\n",
       "              'X((0, 0))*Y((0, 1))': [0.017156782],\n",
       "              'Z((0, 0))*X((0, 1))': [0.017376224],\n",
       "              'Z((0, 0))*Z((0, 1))': [-0.68768615],\n",
       "              'Z((0, 0))*Y((0, 1))': [-0.31552717],\n",
       "              'Y((0, 0))*X((0, 1))': [-0.037846416],\n",
       "              'Y((0, 0))*Z((0, 1))': [-0.098948926],\n",
       "              'Y((0, 0))*Y((0, 1))': [-0.04672098],\n",
       "              'X((0, 0))*X((0, 3))': [0.15749383],\n",
       "              'X((0, 0))*Z((0, 3))': [-0.32758695],\n",
       "              'X((0, 0))*Y((0, 3))': [-0.06894316],\n",
       "              'Z((0, 0))*X((0, 3))': [-0.009411667],\n",
       "              'Z((0, 0))*Z((0, 3))': [0.06344044],\n",
       "              'Z((0, 0))*Y((0, 3))': [0.59034115],\n",
       "              'Y((0, 0))*X((0, 3))': [0.47834945],\n",
       "              'Y((0, 0))*Z((0, 3))': [0.08248335],\n",
       "              'Y((0, 0))*Y((0, 3))': [0.02818191],\n",
       "              'X((0, 0))*Z((0, 5))': [0.1652011],\n",
       "              'X((0, 0))*Y((0, 5))': [0.081803225],\n",
       "              'Z((0, 0))*Z((0, 5))': [-0.4755852],\n",
       "              'Z((0, 0))*Y((0, 5))': [-0.332704],\n",
       "              'Y((0, 0))*Z((0, 5))': [-0.05107504],\n",
       "              'Y((0, 0))*Y((0, 5))': [-0.10142566],\n",
       "              'X((0, 2))*X((0, 4))': [-0.020177765],\n",
       "              'X((0, 2))*Z((0, 4))': [-0.15606508],\n",
       "              'X((0, 2))*Y((0, 4))': [-0.04788313],\n",
       "              'Z((0, 2))*X((0, 4))': [0.09072557],\n",
       "              'Z((0, 2))*Z((0, 4))': [-0.27464384],\n",
       "              'Z((0, 2))*Y((0, 4))': [-0.3191287],\n",
       "              'Y((0, 2))*X((0, 4))': [0.08027058],\n",
       "              'Y((0, 2))*Z((0, 4))': [-0.12572765],\n",
       "              'Y((0, 2))*Y((0, 4))': [-0.20181915],\n",
       "              'X((0, 1))*X((0, 2))': [0.12568793],\n",
       "              'Z((0, 1))*X((0, 2))': [-0.09975244],\n",
       "              'Y((0, 1))*X((0, 2))': [-0.07789256],\n",
       "              'X((0, 1))*Z((0, 2))': [0.002536544],\n",
       "              'Z((0, 1))*Z((0, 2))': [-0.42317122],\n",
       "              'Y((0, 1))*Z((0, 2))': [-0.12917879],\n",
       "              'X((0, 1))*Y((0, 2))': [0.017240914],\n",
       "              'Z((0, 1))*Y((0, 2))': [-0.23192565],\n",
       "              'Y((0, 1))*Y((0, 2))': [-0.05396448],\n",
       "              'X((0, 2))*X((0, 3))': [-0.51548254],\n",
       "              'X((0, 2))*Z((0, 3))': [0.07356727],\n",
       "              'X((0, 2))*Y((0, 3))': [0.1976285],\n",
       "              'Z((0, 2))*X((0, 3))': [0.2144436],\n",
       "              'Z((0, 2))*Z((0, 3))': [0.50986624],\n",
       "              'Z((0, 2))*Y((0, 3))': [0.45373556],\n",
       "              'Y((0, 2))*X((0, 3))': [0.1032732],\n",
       "              'Y((0, 2))*Z((0, 3))': [-0.23738404],\n",
       "              'Y((0, 2))*Y((0, 3))': [0.4065684],\n",
       "              'X((0, 2))*X((0, 5))': [0.25956988],\n",
       "              'X((0, 2))*Z((0, 5))': [-0.20047319],\n",
       "              'X((0, 2))*Y((0, 5))': [-0.03547575],\n",
       "              'Z((0, 2))*Z((0, 5))': [-0.19689941],\n",
       "              'Z((0, 2))*Y((0, 5))': [-0.7024109],\n",
       "              'Y((0, 2))*X((0, 5))': [-0.15155166],\n",
       "              'Y((0, 2))*Z((0, 5))': [-0.34336016],\n",
       "              'Y((0, 2))*Y((0, 5))': [-0.060760994],\n",
       "              'X((0, 1))*X((0, 4))': [0.20636119],\n",
       "              'Z((0, 1))*X((0, 4))': [-0.16505678],\n",
       "              'Y((0, 1))*X((0, 4))': [-0.009954129],\n",
       "              'X((0, 1))*Z((0, 4))': [-0.077972464],\n",
       "              'Z((0, 1))*Z((0, 4))': [0.4616317],\n",
       "              'Y((0, 1))*Z((0, 4))': [0.30999884],\n",
       "              'X((0, 1))*Y((0, 4))': [-0.027743893],\n",
       "              'Z((0, 1))*Y((0, 4))': [0.6874626],\n",
       "              'Y((0, 1))*Y((0, 4))': [0.11030272],\n",
       "              'Z((0, 3))*X((0, 4))': [0.027147155],\n",
       "              'Y((0, 3))*X((0, 4))': [0.09476077],\n",
       "              'X((0, 3))*Z((0, 4))': [0.0112835895],\n",
       "              'Z((0, 3))*Z((0, 4))': [-0.0732405],\n",
       "              'Y((0, 3))*Z((0, 4))': [-0.28388292],\n",
       "              'X((0, 3))*Y((0, 4))': [-0.031711802],\n",
       "              'Z((0, 3))*Y((0, 4))': [-0.120613635],\n",
       "              'Y((0, 3))*Y((0, 4))': [-0.3416871],\n",
       "              'X((0, 4))*X((0, 5))': [-0.19262594],\n",
       "              'X((0, 4))*Z((0, 5))': [-0.25535935],\n",
       "              'X((0, 4))*Y((0, 5))': [0.084864326],\n",
       "              'Z((0, 4))*X((0, 5))': [-0.22602034],\n",
       "              'Z((0, 4))*Z((0, 5))': [0.4543744],\n",
       "              'Z((0, 4))*Y((0, 5))': [0.21249853],\n",
       "              'Y((0, 4))*X((0, 5))': [0.15051556],\n",
       "              'Y((0, 4))*Z((0, 5))': [0.37650517],\n",
       "              'Y((0, 4))*Y((0, 5))': [0.42926636],\n",
       "              'X((0, 1))*X((0, 3))': [-0.22454397],\n",
       "              'X((0, 1))*Z((0, 3))': [0.08711869],\n",
       "              'X((0, 1))*Y((0, 3))': [0.007996138],\n",
       "              'Z((0, 1))*X((0, 3))': [-0.068284154],\n",
       "              'Z((0, 1))*Z((0, 3))': [-0.18071923],\n",
       "              'Z((0, 1))*Y((0, 3))': [-0.46000373],\n",
       "              'Y((0, 1))*X((0, 3))': [0.05799638],\n",
       "              'Y((0, 1))*Z((0, 3))': [0.07142605],\n",
       "              'Y((0, 1))*Y((0, 3))': [-0.2305376],\n",
       "              'X((0, 1))*X((0, 5))': [-0.036931783],\n",
       "              'X((0, 1))*Z((0, 5))': [-0.099166326],\n",
       "              'X((0, 1))*Y((0, 5))': [0.017463602],\n",
       "              'Z((0, 1))*Z((0, 5))': [0.5181389],\n",
       "              'Z((0, 1))*Y((0, 5))': [0.3741852],\n",
       "              'Y((0, 1))*X((0, 5))': [-0.00928926],\n",
       "              'Y((0, 1))*Z((0, 5))': [0.17785949],\n",
       "              'Y((0, 1))*Y((0, 5))': [0.12743],\n",
       "              'X((0, 3))*Z((0, 5))': [0.024563607],\n",
       "              'X((0, 3))*Y((0, 5))': [-0.13880879],\n",
       "              'Z((0, 3))*Z((0, 5))': [-0.034788474],\n",
       "              'Z((0, 3))*Y((0, 5))': [-0.34652627],\n",
       "              'Y((0, 3))*Z((0, 5))': [-0.27332383],\n",
       "              'Y((0, 3))*Y((0, 5))': [-0.35126644],\n",
       "              'X((0, 0))': [-0.26347196],\n",
       "              'Z((0, 0))': [0.7837138],\n",
       "              'Y((0, 0))': [0.10121336],\n",
       "              'X((0, 2))': [0.15481877],\n",
       "              'Z((0, 2))': [0.47099337],\n",
       "              'Y((0, 2))': [0.26516566],\n",
       "              'X((0, 4))': [0.19262607],\n",
       "              'Z((0, 4))': [-0.58998865],\n",
       "              'Y((0, 4))': [-0.6582511],\n",
       "              'X((0, 1))': [0.112899415],\n",
       "              'Z((0, 1))': [-0.85687685],\n",
       "              'Y((0, 1))': [-0.2927389],\n",
       "              'Z((0, 3))': [0.14093196],\n",
       "              'Y((0, 3))': [0.4919417],\n",
       "              'Z((0, 5))': [-0.60730165],\n",
       "              'Y((0, 5))': [-0.42188793]}),\n",
       " defaultdict(list,\n",
       "             {'Z((0, 0))*Z((0, 2))': [0.955521],\n",
       "              'X((0, 0))*X((0, 3))': [-0.005943708],\n",
       "              'X((0, 0))*Y((0, 3))': [0.0010475329],\n",
       "              'Z((0, 0))*Y((0, 3))': [0.0010861611],\n",
       "              'Y((0, 0))*X((0, 3))': [-0.2948436],\n",
       "              'Z((0, 0))*Z((0, 5))': [-0.10176574],\n",
       "              'Z((0, 0))*Y((0, 5))': [-0.9500863],\n",
       "              'Z((0, 2))*Y((0, 4))': [0.001050678],\n",
       "              'Z((0, 2))*Y((0, 3))': [0.0010390898],\n",
       "              'X((0, 2))*Z((0, 5))': [-0.001826914],\n",
       "              'Z((0, 2))*Z((0, 5))': [-0.10650274],\n",
       "              'Z((0, 2))*Y((0, 5))': [-0.99431247],\n",
       "              'Y((0, 2))*X((0, 5))': [-0.0018335569],\n",
       "              'X((0, 1))*X((0, 4))': [0.0010872635],\n",
       "              'Z((0, 1))*Z((0, 4))': [-0.6995357],\n",
       "              'Z((0, 1))*Y((0, 4))': [-0.7145969],\n",
       "              'Z((0, 3))*Z((0, 4))': [-0.6684153],\n",
       "              'Y((0, 3))*Z((0, 4))': [-0.0010636795],\n",
       "              'X((0, 3))*Y((0, 4))': [-0.0010151963],\n",
       "              'Z((0, 3))*Y((0, 4))': [-0.682806],\n",
       "              'Y((0, 3))*Y((0, 4))': [-0.0010849932],\n",
       "              'Y((0, 4))*Y((0, 5))': [-0.0010446945],\n",
       "              'X((0, 1))*X((0, 3))': [-0.0010679386],\n",
       "              'Z((0, 1))*X((0, 3))': [0.0014206567],\n",
       "              'Z((0, 1))*Z((0, 3))': [0.9555125],\n",
       "              'Z((0, 1))*Y((0, 3))': [0.0015194162],\n",
       "              'Y((0, 1))*Y((0, 3))': [0.0010204333],\n",
       "              'Y((0, 3))*Y((0, 5))': [-0.0010331797],\n",
       "              'Z((0, 0))': [0.9555155],\n",
       "              'Z((0, 2))': [0.9999872],\n",
       "              'Y((0, 4))': [0.0010508405],\n",
       "              'Y((0, 3))': [0.0010390959],\n",
       "              'Z((0, 5))': [-0.10650187],\n",
       "              'Y((0, 5))': [-0.9942996]}))"
      ]
     },
     "execution_count": 421,
     "metadata": {},
     "output_type": "execute_result"
    }
   ],
   "source": [
    "get_exp(0, trainer, eps=1.e-3)"
   ]
  },
  {
   "cell_type": "code",
   "execution_count": null,
   "id": "legislative-silly",
   "metadata": {},
   "outputs": [],
   "source": []
  }
 ],
 "metadata": {
  "kernelspec": {
   "display_name": "Python 3",
   "language": "python",
   "name": "python3"
  },
  "language_info": {
   "codemirror_mode": {
    "name": "ipython",
    "version": 3
   },
   "file_extension": ".py",
   "mimetype": "text/x-python",
   "name": "python",
   "nbconvert_exporter": "python",
   "pygments_lexer": "ipython3",
   "version": "3.8.7"
  }
 },
 "nbformat": 4,
 "nbformat_minor": 5
}
