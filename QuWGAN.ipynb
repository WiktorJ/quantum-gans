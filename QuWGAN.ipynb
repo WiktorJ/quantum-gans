{
 "cells": [
  {
   "cell_type": "code",
   "execution_count": null,
   "id": "informed-celtic",
   "metadata": {
    "scrolled": false
   },
   "outputs": [],
   "source": [
    "if 'google.colab' in str(get_ipython()):\n",
    "    !pip uninstall tensorflow -y\n",
    "    !pip install tensorflow==2.3.1 tensorflow-quantum neptune-client\n",
    "    !rm -rf quantum-gans\n",
    "    !git clone https://github.com/WiktorJ/quantum-gans\n",
    "    !cd quantum-gans; pip install .\n",
    "    neptun_token = \"\" # put manually for the time being\n",
    "else:\n",
    "    import subprocess\n",
    "    def get_var(varname):\n",
    "        CMD = 'echo $(source ~/.bash_profile; echo $%s)' % varname\n",
    "        p = subprocess.Popen(CMD, stdout=subprocess.PIPE, shell=True, executable='/bin/bash')\n",
    "        return p.stdout.readlines()[0].strip()\n",
    "    neptun_token = get_var('NEPTUNE_API_TOKEN').decode(\"utf-8\") "
   ]
  },
  {
   "cell_type": "code",
   "execution_count": null,
   "id": "enormous-discovery",
   "metadata": {
    "scrolled": false
   },
   "outputs": [],
   "source": [
    "%load_ext autoreload\n",
    "%autoreload 2"
   ]
  },
  {
   "cell_type": "code",
   "execution_count": null,
   "id": "amended-component",
   "metadata": {
    "scrolled": false
   },
   "outputs": [],
   "source": [
    "use_neptune = True"
   ]
  },
  {
   "cell_type": "code",
   "execution_count": null,
   "id": "binary-sport",
   "metadata": {
    "scrolled": false
   },
   "outputs": [],
   "source": [
    "import neptune\n",
    "import tensorflow as tf\n",
    "\n",
    "import io\n",
    "import cirq\n",
    "import numpy as np\n",
    "from qsgenerator import circuits\n",
    "from qsgenerator.quwgans import circuits as quwgans_circuits\n",
    "from qsgenerator.quwgans.training import Trainer\n",
    "from qsgenerator.phase.circuits import PhaseCircuitBuilder\n",
    "from qsgenerator.evaluators.circuit_evaluator import CircuitEvaluator\n",
    "from qsgenerator.phase.analitical import get_theta_v, get_theta_w, get_theta_r, get_g_parameters_provider\n"
   ]
  },
  {
   "cell_type": "code",
   "execution_count": null,
   "id": "improved-peter",
   "metadata": {
    "scrolled": false
   },
   "outputs": [],
   "source": [
    "generator_layers = 3\n",
    "data_bus_size = 5\n",
    "rank = 2"
   ]
  },
  {
   "cell_type": "code",
   "execution_count": null,
   "id": "changed-state",
   "metadata": {
    "scrolled": false
   },
   "outputs": [],
   "source": [
    "real_phase = True\n",
    "generic_generator = False\n",
    "zxz = False\n",
    "all_gates_parametrized = False"
   ]
  },
  {
   "cell_type": "code",
   "execution_count": null,
   "id": "wound-theorem",
   "metadata": {
    "scrolled": false
   },
   "outputs": [],
   "source": [
    "data_qubits = qubits = cirq.GridQubit.rect(1, data_bus_size)"
   ]
  },
  {
   "cell_type": "code",
   "execution_count": null,
   "id": "saved-canyon",
   "metadata": {
    "scrolled": false
   },
   "outputs": [],
   "source": [
    "builder = PhaseCircuitBuilder(all_gates_parametrized=False)\n",
    "real, real_symbols, symbols_dict_real = builder.build_ground_state_circuit(qubits=data_qubits)"
   ]
  },
  {
   "cell_type": "code",
   "execution_count": null,
   "id": "communist-finnish",
   "metadata": {
    "scrolled": false
   },
   "outputs": [],
   "source": [
    "pauli_strings, qubit_to_string_index = quwgans_circuits.get_discriminator(real)"
   ]
  },
  {
   "cell_type": "code",
   "execution_count": null,
   "id": "rotary-bailey",
   "metadata": {
    "scrolled": false
   },
   "outputs": [],
   "source": [
    "if generic_generator:\n",
    "    gen, gs = circuits.build_circuit(generator_layers, data_qubits, \"g\")\n",
    "    symbols_dict_gen = {}\n",
    "else:\n",
    "    builder = PhaseCircuitBuilder(all_gates_parametrized=all_gates_parametrized)\n",
    "    gen, gs, symbols_dict_gen = builder.build_ground_state_circuit(qubits=data_qubits, full_parametrization=True, zxz=zxz)"
   ]
  },
  {
   "cell_type": "code",
   "execution_count": null,
   "id": "seven-leather",
   "metadata": {
    "scrolled": false
   },
   "outputs": [],
   "source": [
    "print(\"REAL GROUND STATE\")\n",
    "real"
   ]
  },
  {
   "cell_type": "code",
   "execution_count": null,
   "id": "nasty-panel",
   "metadata": {
    "scrolled": false
   },
   "outputs": [],
   "source": [
    "print(\"GENERATOR\")\n",
    "gen"
   ]
  },
  {
   "cell_type": "code",
   "execution_count": null,
   "id": "hungarian-classroom",
   "metadata": {
    "scrolled": false
   },
   "outputs": [],
   "source": [
    "g_values = [-0.8]\n",
    "real_values_provider = get_g_parameters_provider()"
   ]
  },
  {
   "cell_type": "code",
   "execution_count": null,
   "id": "smaller-moldova",
   "metadata": {
    "scrolled": false
   },
   "outputs": [],
   "source": [
    "opt = tf.keras.optimizers.Adam(0.1, beta_1=0.9, beta_2=0.98, \n",
    "                                     epsilon=1e-9)"
   ]
  },
  {
   "cell_type": "code",
   "execution_count": null,
   "id": "multiple-difference",
   "metadata": {
    "scrolled": false
   },
   "outputs": [],
   "source": [
    "trainer = Trainer(real, \n",
    "                  real_symbols,\n",
    "                  gen,\n",
    "                  gs,\n",
    "                  g_values,\n",
    "                  real_values_provider,\n",
    "                  rank=rank,\n",
    "                  use_neptune=use_neptune)"
   ]
  },
  {
   "cell_type": "code",
   "execution_count": null,
   "id": "expensive-sleeping",
   "metadata": {
    "scrolled": false
   },
   "outputs": [],
   "source": [
    "epochs = 5\n",
    "gen_iteration = 1\n",
    "snapshot_interval_epochs = 2"
   ]
  },
  {
   "cell_type": "code",
   "execution_count": null,
   "id": "competitive-expense",
   "metadata": {
    "scrolled": false
   },
   "outputs": [],
   "source": [
    "if use_neptune:\n",
    "    neptune.init(project_qualified_name='wiktor.jurasz/thesis-em', api_token=neptun_token)\n",
    "    neptun_params = {\n",
    "        'generator_layers': generator_layers,\n",
    "        'size':  data_bus_size,\n",
    "        'rank': rank,\n",
    "        'real_phase': real_phase,\n",
    "        'generic_generator': generic_generator,\n",
    "        'zxz': zxz,\n",
    "        'all_gates_parametrized': all_gates_parametrized,\n",
    "        'g_values': g_values,\n",
    "        'gen_iteration': gen_iteration,\n",
    "        'epochs': epochs\n",
    "    }\n",
    "    neptune.create_experiment(name=None, description=None, params=neptun_params)\n",
    "    neptune.log_artifact(io.StringIO(str(gen)), \"gen.txt\")\n",
    "    neptune.log_artifact(io.StringIO(str(([(el[0].numpy(), el[1], list(el[2].numpy())) for el in trainer.gen_weights]))), 'init_gen_weights.txt')"
   ]
  },
  {
   "cell_type": "code",
   "execution_count": null,
   "id": "subjective-iceland",
   "metadata": {
    "scrolled": false
   },
   "outputs": [],
   "source": [
    "json_result = trainer.train(opt, epochs, gen_iteration, snapshot_interval_epochs, plot=True)"
   ]
  },
  {
   "cell_type": "code",
   "execution_count": null,
   "id": "adequate-vertical",
   "metadata": {
    "scrolled": true
   },
   "outputs": [],
   "source": [
    "def get_all_states_and_fidelty_for_real(gen_evaluator, \n",
    "                                    real_evaluator,\n",
    "                                    g, \n",
    "                                    size):\n",
    "    generated = gen_evaluator.get_all_states_from_params()\n",
    "    real = real_evaluator.get_all_states_from_params()\n",
    "    \n",
    "    return generated, real, "
   ]
  },
  {
   "cell_type": "code",
   "execution_count": null,
   "id": "fluid-mining",
   "metadata": {
    "scrolled": false
   },
   "outputs": [],
   "source": [
    "gen_evaluator = trainer.gen_evaluator\n",
    "real_evaluator = trainer.real_evaluator"
   ]
  },
  {
   "cell_type": "code",
   "execution_count": null,
   "id": "stretch-string",
   "metadata": {
    "scrolled": false
   },
   "outputs": [],
   "source": [
    "trainer.get_fidelty_for_real()"
   ]
  },
  {
   "cell_type": "code",
   "execution_count": null,
   "id": "fatal-principle",
   "metadata": {
    "scrolled": false
   },
   "outputs": [],
   "source": [
    "gen_evaluator.get_all_states_from_params()"
   ]
  },
  {
   "cell_type": "code",
   "execution_count": null,
   "id": "moral-disorder",
   "metadata": {
    "scrolled": false
   },
   "outputs": [],
   "source": [
    "real_evaluator.get_all_states_from_params()"
   ]
  },
  {
   "cell_type": "code",
   "execution_count": null,
   "id": "ahead-chamber",
   "metadata": {
    "scrolled": false
   },
   "outputs": [],
   "source": [
    "if use_neptune:\n",
    "    neptune.stop()"
   ]
  }
 ],
 "metadata": {
  "kernelspec": {
   "display_name": "Python 3",
   "language": "python",
   "name": "python3"
  },
  "language_info": {
   "codemirror_mode": {
    "name": "ipython",
    "version": 3
   },
   "file_extension": ".py",
   "mimetype": "text/x-python",
   "name": "python",
   "nbconvert_exporter": "python",
   "pygments_lexer": "ipython3",
   "version": "3.8.7"
  }
 },
 "nbformat": 4,
 "nbformat_minor": 5
}
