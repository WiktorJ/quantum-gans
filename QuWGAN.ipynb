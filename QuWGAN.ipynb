{
 "cells": [
  {
   "cell_type": "code",
   "execution_count": 826,
   "id": "informed-celtic",
   "metadata": {
    "scrolled": false
   },
   "outputs": [],
   "source": [
    "if 'google.colab' in str(get_ipython()):\n",
    "    !pip uninstall tensorflow -y\n",
    "    !pip install tensorflow==2.3.1 tensorflow-quantum==0.4.0 neptune-client\n",
    "    !rm -rf quantum-gans\n",
    "    !git clone https://github.com/WiktorJ/quantum-gans\n",
    "    !cd quantum-gans; pip install .\n",
    "    neptun_token = \"\" # put manually for the time being\n",
    "else:\n",
    "    import subprocess\n",
    "    def get_var(varname):\n",
    "        CMD = 'echo $(source ~/.bash_profile; echo $%s)' % varname\n",
    "        p = subprocess.Popen(CMD, stdout=subprocess.PIPE, shell=True, executable='/bin/bash')\n",
    "        return p.stdout.readlines()[0].strip()\n",
    "    neptun_token = get_var('NEPTUNE_API_TOKEN').decode(\"utf-8\") "
   ]
  },
  {
   "cell_type": "code",
   "execution_count": 827,
   "id": "enormous-discovery",
   "metadata": {
    "scrolled": false
   },
   "outputs": [
    {
     "name": "stdout",
     "output_type": "stream",
     "text": [
      "The autoreload extension is already loaded. To reload it, use:\n",
      "  %reload_ext autoreload\n"
     ]
    }
   ],
   "source": [
    "%load_ext autoreload\n",
    "%autoreload 2"
   ]
  },
  {
   "cell_type": "code",
   "execution_count": 828,
   "id": "amended-component",
   "metadata": {
    "scrolled": false
   },
   "outputs": [],
   "source": [
    "use_neptune = False"
   ]
  },
  {
   "cell_type": "code",
   "execution_count": 829,
   "id": "binary-sport",
   "metadata": {
    "scrolled": false
   },
   "outputs": [],
   "source": [
    "import neptune\n",
    "import tensorflow as tf\n",
    "import random\n",
    "\n",
    "import io\n",
    "import cirq\n",
    "import numpy as np\n",
    "import statistics as st\n",
    "from matplotlib import pyplot as plt\n",
    "from collections import defaultdict\n",
    "from qsgenerator import circuits\n",
    "from qsgenerator.quwgans import circuits as quwgans_circuits\n",
    "from qsgenerator.quwgans.circuits import get_discriminator\n",
    "from qsgenerator.quwgans.training import Trainer\n",
    "from qsgenerator.phase.circuits import PhaseCircuitBuilder\n",
    "from qsgenerator.phase.string_order_parameters import measure_szy_pauli_string, measure_s1_pauli_string\n",
    "from qsgenerator.states.butterfly_circuits import ButterflyCircuitBuilder\n",
    "from qsgenerator.quwgans.real_expectations_provider import PrecomputedExpectationsProvider, \\\n",
    "    Interpolation1DExpectationsProvider, WassersteinGanExpectationProvider, ExpectationProviderType\n",
    "from qsgenerator.states.simple_rotation_generators import get_fixed_random_rotation_provider\n",
    "from qsgenerator.evaluators.circuit_evaluator import CircuitEvaluator\n",
    "from qsgenerator.phase.analitical import get_theta_v, get_theta_w, get_theta_r, get_g_parameters_provider\n"
   ]
  },
  {
   "cell_type": "code",
   "execution_count": 858,
   "id": "improved-peter",
   "metadata": {
    "scrolled": true
   },
   "outputs": [],
   "source": [
    "generator_layers = 4\n",
    "data_bus_size = 7\n",
    "rank = 1\n",
    "k = 4\n",
    "real_circuit_type = 'phase'\n",
    "generic_generator = True\n",
    "zxz = False\n",
    "all_gates_parametrized = False\n",
    "expectation_provider_type = ExpectationProviderType.ONLY_KNOWN\n",
    "g_values = [-0.5]\n",
    "# known_g_values = list(range(32))\n",
    "known_g_values = [np.round(el, 1) for el in np.linspace(-1,0,11)]\n",
    "# known_g_values = [-1, -0.75, -0.5, -0.25, 0]\n",
    "if expectation_provider_type == ExpectationProviderType.WGAN:\n",
    "        gen_input_dim = 16\n",
    "        hidden_dim = [32, 64]\n",
    "        penalty_factor = 10\n",
    "        gan_epochs = 10000\n",
    "        batch_size = 8\n",
    "known_g_values = g_values"
   ]
  },
  {
   "cell_type": "code",
   "execution_count": 859,
   "id": "wound-theorem",
   "metadata": {
    "scrolled": false
   },
   "outputs": [],
   "source": [
    "data_qubits = qubits = cirq.GridQubit.rect(1, data_bus_size)"
   ]
  },
  {
   "cell_type": "code",
   "execution_count": 860,
   "id": "saved-canyon",
   "metadata": {
    "scrolled": false
   },
   "outputs": [],
   "source": [
    "if real_circuit_type == 'butterfly':\n",
    "    real, real_symbols = ButterflyCircuitBuilder().build(qubits=qubits)\n",
    "    real_values_provider = get_fixed_random_rotation_provider(len(real_symbols))\n",
    "else:\n",
    "    builder = PhaseCircuitBuilder(all_gates_parametrized=False, g_positive=False)\n",
    "    real, real_symbols, symbols_dict_real = builder.build_ground_state_circuit(qubits=data_qubits)\n",
    "    real_values_provider = get_g_parameters_provider()"
   ]
  },
  {
   "cell_type": "code",
   "execution_count": 861,
   "id": "rotary-bailey",
   "metadata": {
    "scrolled": false
   },
   "outputs": [],
   "source": [
    "if generic_generator:\n",
    "    gen, gs = circuits.build_circuit(generator_layers, data_qubits, \"g\")\n",
    "    symbols_dict_gen = {}\n",
    "else:\n",
    "    if real_circuit_type == 'butterfly':\n",
    "        gen, gs = ButterflyCircuitBuilder(\"g\").build(qubits=qubits)\n",
    "    else:\n",
    "        builder = PhaseCircuitBuilder(all_gates_parametrized=all_gates_parametrized)\n",
    "        gen, gs, symbols_dict_gen = builder.build_ground_state_circuit(qubits=data_qubits, full_parametrization=True, zxz=zxz)"
   ]
  },
  {
   "cell_type": "code",
   "execution_count": 862,
   "id": "seven-leather",
   "metadata": {
    "scrolled": false
   },
   "outputs": [
    {
     "name": "stdout",
     "output_type": "stream",
     "text": [
      "REAL GROUND STATE\n"
     ]
    },
    {
     "data": {
      "text/html": [
       "<pre style=\"overflow: auto; white-space: pre;\">(0, 0): ───H───@─────────────────────────────────────────────────────────────────────────────────────────────────────────────────────────────────────────────────────────────────────────────────────────────────────────────────────────────────────────────────────────────────────────────────────────────────────────────────────────────────────────────────────────────────────────────────────────────────────────────────────────────────────\n",
       "               │\n",
       "(0, 1): ───────X───Z───Ry(theta_r)───X─────────────@───X───────────────────────────────────@───X─────────────────────────────────────────────────────────────────────────────────────────────────────────────────────────────────────────────────────────────────────────────────────────────────────────────────────────────────────────────────────────────────────────────────────────────────────────────────────────────────────────────────────\n",
       "                                                   │                                       │\n",
       "(0, 2): ─────────────────────────────Ry(theta_w)───X───X───Ry(theta_w)───X───Ry(theta_v)───X───X───Ry(theta_v)───X───X─────────────@───X───────────────────────────────────@───X─────────────────────────────────────────────────────────────────────────────────────────────────────────────────────────────────────────────────────────────────────────────────────────────────────────────────────────────────────────────────────────────────────\n",
       "                                                                                                                                   │                                       │\n",
       "(0, 3): ─────────────────────────────────────────────────────────────────────────────────────────────────────────────Ry(theta_w)───X───X───Ry(theta_w)───X───Ry(theta_v)───X───X───Ry(theta_v)───X───X─────────────@───X───────────────────────────────────@───X─────────────────────────────────────────────────────────────────────────────────────────────────────────────────────────────────────────────────────────────────────────────────────\n",
       "                                                                                                                                                                                                                   │                                       │\n",
       "(0, 4): ─────────────────────────────────────────────────────────────────────────────────────────────────────────────────────────────────────────────────────────────────────────────────────────────Ry(theta_w)───X───X───Ry(theta_w)───X───Ry(theta_v)───X───X───Ry(theta_v)───X───X─────────────@───X───────────────────────────────────@───X─────────────────────────────────────────────────────────────────────────────────────────────────────\n",
       "                                                                                                                                                                                                                                                                                                   │                                       │\n",
       "(0, 5): ─────────────────────────────────────────────────────────────────────────────────────────────────────────────────────────────────────────────────────────────────────────────────────────────────────────────────────────────────────────────────────────────────────────────Ry(theta_w)───X───X───Ry(theta_w)───X───Ry(theta_v)───X───X───Ry(theta_v)───X───X─────────────@───X───────────────────────────────────@───X─────────────────────\n",
       "                                                                                                                                                                                                                                                                                                                                                                                   │                                       │\n",
       "(0, 6): ─────────────────────────────────────────────────────────────────────────────────────────────────────────────────────────────────────────────────────────────────────────────────────────────────────────────────────────────────────────────────────────────────────────────────────────────────────────────────────────────────────────────────────────────Ry(theta_w)───X───X───Ry(theta_w)───X───Ry(theta_v)───X───X───Ry(theta_v)───X───</pre>"
      ],
      "text/plain": [
       "(0, 0): ───H───@─────────────────────────────────────────────────────────────────────────────────────────────────────────────────────────────────────────────────────────────────────────────────────────────────────────────────────────────────────────────────────────────────────────────────────────────────────────────────────────────────────────────────────────────────────────────────────────────────────────────────────────────────────\n",
       "               │\n",
       "(0, 1): ───────X───Z───Ry(theta_r)───X─────────────@───X───────────────────────────────────@───X─────────────────────────────────────────────────────────────────────────────────────────────────────────────────────────────────────────────────────────────────────────────────────────────────────────────────────────────────────────────────────────────────────────────────────────────────────────────────────────────────────────────────────\n",
       "                                                   │                                       │\n",
       "(0, 2): ─────────────────────────────Ry(theta_w)───X───X───Ry(theta_w)───X───Ry(theta_v)───X───X───Ry(theta_v)───X───X─────────────@───X───────────────────────────────────@───X─────────────────────────────────────────────────────────────────────────────────────────────────────────────────────────────────────────────────────────────────────────────────────────────────────────────────────────────────────────────────────────────────────\n",
       "                                                                                                                                   │                                       │\n",
       "(0, 3): ─────────────────────────────────────────────────────────────────────────────────────────────────────────────Ry(theta_w)───X───X───Ry(theta_w)───X───Ry(theta_v)───X───X───Ry(theta_v)───X───X─────────────@───X───────────────────────────────────@───X─────────────────────────────────────────────────────────────────────────────────────────────────────────────────────────────────────────────────────────────────────────────────────\n",
       "                                                                                                                                                                                                                   │                                       │\n",
       "(0, 4): ─────────────────────────────────────────────────────────────────────────────────────────────────────────────────────────────────────────────────────────────────────────────────────────────Ry(theta_w)───X───X───Ry(theta_w)───X───Ry(theta_v)───X───X───Ry(theta_v)───X───X─────────────@───X───────────────────────────────────@───X─────────────────────────────────────────────────────────────────────────────────────────────────────\n",
       "                                                                                                                                                                                                                                                                                                   │                                       │\n",
       "(0, 5): ─────────────────────────────────────────────────────────────────────────────────────────────────────────────────────────────────────────────────────────────────────────────────────────────────────────────────────────────────────────────────────────────────────────────Ry(theta_w)───X───X───Ry(theta_w)───X───Ry(theta_v)───X───X───Ry(theta_v)───X───X─────────────@───X───────────────────────────────────@───X─────────────────────\n",
       "                                                                                                                                                                                                                                                                                                                                                                                   │                                       │\n",
       "(0, 6): ─────────────────────────────────────────────────────────────────────────────────────────────────────────────────────────────────────────────────────────────────────────────────────────────────────────────────────────────────────────────────────────────────────────────────────────────────────────────────────────────────────────────────────────────Ry(theta_w)───X───X───Ry(theta_w)───X───Ry(theta_v)───X───X───Ry(theta_v)───X───"
      ]
     },
     "execution_count": 862,
     "metadata": {},
     "output_type": "execute_result"
    }
   ],
   "source": [
    "print(\"REAL GROUND STATE\")\n",
    "real"
   ]
  },
  {
   "cell_type": "code",
   "execution_count": 863,
   "id": "nasty-panel",
   "metadata": {
    "scrolled": false
   },
   "outputs": [
    {
     "name": "stdout",
     "output_type": "stream",
     "text": [
      "GENERATOR\n"
     ]
    },
    {
     "data": {
      "text/html": [
       "<pre style=\"overflow: auto; white-space: pre;\">(0, 0): ───Rx(g0)───Rz(g7)────ZZ────────────────Rx(g20)───Rz(g27)───ZZ────────────────Rx(g40)───Rz(g47)───ZZ────────────────Rx(g60)───Rz(g67)───ZZ────────────────\n",
       "                              │                                     │                                     │                                     │\n",
       "(0, 1): ───Rx(g1)───Rz(g8)────ZZ^g14───ZZ───────Rx(g21)───Rz(g28)───ZZ^g34───ZZ───────Rx(g41)───Rz(g48)───ZZ^g54───ZZ───────Rx(g61)───Rz(g68)───ZZ^g74───ZZ───────\n",
       "                                       │                                     │                                     │                                     │\n",
       "(0, 2): ───Rx(g2)───Rz(g9)────ZZ───────ZZ^g17───Rx(g22)───Rz(g29)───ZZ───────ZZ^g37───Rx(g42)───Rz(g49)───ZZ───────ZZ^g57───Rx(g62)───Rz(g69)───ZZ───────ZZ^g77───\n",
       "                              │                                     │                                     │                                     │\n",
       "(0, 3): ───Rx(g3)───Rz(g10)───ZZ^g15───ZZ───────Rx(g23)───Rz(g30)───ZZ^g35───ZZ───────Rx(g43)───Rz(g50)───ZZ^g55───ZZ───────Rx(g63)───Rz(g70)───ZZ^g75───ZZ───────\n",
       "                                       │                                     │                                     │                                     │\n",
       "(0, 4): ───Rx(g4)───Rz(g11)───ZZ───────ZZ^g18───Rx(g24)───Rz(g31)───ZZ───────ZZ^g38───Rx(g44)───Rz(g51)───ZZ───────ZZ^g58───Rx(g64)───Rz(g71)───ZZ───────ZZ^g78───\n",
       "                              │                                     │                                     │                                     │\n",
       "(0, 5): ───Rx(g5)───Rz(g12)───ZZ^g16───ZZ───────Rx(g25)───Rz(g32)───ZZ^g36───ZZ───────Rx(g45)───Rz(g52)───ZZ^g56───ZZ───────Rx(g65)───Rz(g72)───ZZ^g76───ZZ───────\n",
       "                                       │                                     │                                     │                                     │\n",
       "(0, 6): ───Rx(g6)───Rz(g13)────────────ZZ^g19───Rx(g26)───Rz(g33)────────────ZZ^g39───Rx(g46)───Rz(g53)────────────ZZ^g59───Rx(g66)───Rz(g73)────────────ZZ^g79───</pre>"
      ],
      "text/plain": [
       "(0, 0): ───Rx(g0)───Rz(g7)────ZZ────────────────Rx(g20)───Rz(g27)───ZZ────────────────Rx(g40)───Rz(g47)───ZZ────────────────Rx(g60)───Rz(g67)───ZZ────────────────\n",
       "                              │                                     │                                     │                                     │\n",
       "(0, 1): ───Rx(g1)───Rz(g8)────ZZ^g14───ZZ───────Rx(g21)───Rz(g28)───ZZ^g34───ZZ───────Rx(g41)───Rz(g48)───ZZ^g54───ZZ───────Rx(g61)───Rz(g68)───ZZ^g74───ZZ───────\n",
       "                                       │                                     │                                     │                                     │\n",
       "(0, 2): ───Rx(g2)───Rz(g9)────ZZ───────ZZ^g17───Rx(g22)───Rz(g29)───ZZ───────ZZ^g37───Rx(g42)───Rz(g49)───ZZ───────ZZ^g57───Rx(g62)───Rz(g69)───ZZ───────ZZ^g77───\n",
       "                              │                                     │                                     │                                     │\n",
       "(0, 3): ───Rx(g3)───Rz(g10)───ZZ^g15───ZZ───────Rx(g23)───Rz(g30)───ZZ^g35───ZZ───────Rx(g43)───Rz(g50)───ZZ^g55───ZZ───────Rx(g63)───Rz(g70)───ZZ^g75───ZZ───────\n",
       "                                       │                                     │                                     │                                     │\n",
       "(0, 4): ───Rx(g4)───Rz(g11)───ZZ───────ZZ^g18───Rx(g24)───Rz(g31)───ZZ───────ZZ^g38───Rx(g44)───Rz(g51)───ZZ───────ZZ^g58───Rx(g64)───Rz(g71)───ZZ───────ZZ^g78───\n",
       "                              │                                     │                                     │                                     │\n",
       "(0, 5): ───Rx(g5)───Rz(g12)───ZZ^g16───ZZ───────Rx(g25)───Rz(g32)───ZZ^g36───ZZ───────Rx(g45)───Rz(g52)───ZZ^g56───ZZ───────Rx(g65)───Rz(g72)───ZZ^g76───ZZ───────\n",
       "                                       │                                     │                                     │                                     │\n",
       "(0, 6): ───Rx(g6)───Rz(g13)────────────ZZ^g19───Rx(g26)───Rz(g33)────────────ZZ^g39───Rx(g46)───Rz(g53)────────────ZZ^g59───Rx(g66)───Rz(g73)────────────ZZ^g79───"
      ]
     },
     "execution_count": 863,
     "metadata": {},
     "output_type": "execute_result"
    }
   ],
   "source": [
    "print(\"GENERATOR\")\n",
    "gen"
   ]
  },
  {
   "cell_type": "code",
   "execution_count": 864,
   "id": "smaller-moldova",
   "metadata": {
    "scrolled": false
   },
   "outputs": [],
   "source": [
    "opt = tf.keras.optimizers.Adam(0.1, beta_1=0.9, beta_2=0.98, \n",
    "                                     epsilon=1e-9)"
   ]
  },
  {
   "cell_type": "code",
   "execution_count": 865,
   "id": "wrong-exposure",
   "metadata": {},
   "outputs": [],
   "source": [
    "def get_expectation_provider(real, real_symbols, known_g_values, real_values_provider):\n",
    "    precomputed_expectation_provider = PrecomputedExpectationsProvider(real,\n",
    "                                                                       real_symbols,\n",
    "                                                                       known_g_values,\n",
    "                                                                       real_values_provider)\n",
    "    if expectation_provider_type == ExpectationProviderType.ONLY_KNOWN:\n",
    "        return precomputed_expectation_provider\n",
    "    elif expectation_provider_type == ExpectationProviderType.INTERPOLATION1D:\n",
    "        return Interpolation1DExpectationsProvider(precomputed_expectation_provider)\n",
    "    elif expectation_provider_type == ExpectationProviderType.WGAN:\n",
    "        return WassersteinGanExpectationProvider(precomputed_expectation_provider, gen_input_dim, hidden_dim, penalty_factor, gan_epochs, batch_size)"
   ]
  },
  {
   "cell_type": "code",
   "execution_count": 866,
   "id": "other-linux",
   "metadata": {},
   "outputs": [],
   "source": [
    "real_expectations_provider = get_expectation_provider(real, real_symbols, known_g_values, real_values_provider)"
   ]
  },
  {
   "cell_type": "code",
   "execution_count": 867,
   "id": "multiple-difference",
   "metadata": {
    "scrolled": false
   },
   "outputs": [],
   "source": [
    "trainer = Trainer(real, \n",
    "                  real_symbols,\n",
    "                  gen,\n",
    "                  gs,\n",
    "                  g_values,\n",
    "                  real_values_provider,\n",
    "                  real_expectations_provider,\n",
    "                  rank=rank,\n",
    "                  use_neptune=use_neptune,\n",
    "                  k=k)"
   ]
  },
  {
   "cell_type": "code",
   "execution_count": 868,
   "id": "expensive-sleeping",
   "metadata": {
    "scrolled": false
   },
   "outputs": [],
   "source": [
    "epochs = 301\n",
    "gen_iteration = 1\n",
    "snapshot_interval_epochs = 100"
   ]
  },
  {
   "cell_type": "code",
   "execution_count": 877,
   "id": "competitive-expense",
   "metadata": {
    "scrolled": false
   },
   "outputs": [],
   "source": [
    "def start_neptune_experiment(trainer, gen=None, description=None):\n",
    "    if use_neptune:\n",
    "        if gen is None:\n",
    "            gen = trainer.gen\n",
    "        neptune.init(project_qualified_name='wiktor.jurasz/thesis-em2', api_token=neptun_token)\n",
    "        neptun_params = {\n",
    "            'generator_layers': generator_layers,\n",
    "            'size':  data_bus_size,\n",
    "            'rank': rank,\n",
    "            'k': k,\n",
    "            'real_circuit_type': real_circuit_type,\n",
    "            'generic_generator': generic_generator,\n",
    "            'zxz': zxz,\n",
    "            'all_gates_parametrized': all_gates_parametrized,\n",
    "            'g_values': g_values,\n",
    "            'expectation_provider_type': expectation_provider_type,\n",
    "            'known_g_values': known_g_values,\n",
    "            'gen_iteration': gen_iteration,\n",
    "            'epochs': epochs\n",
    "        }\n",
    "        if expectation_provider_type == ExpectationProviderType.WGAN:\n",
    "            gan_params = {\n",
    "                'gen_input_dim': gen_input_dim,\n",
    "                'hidden_dim': hidden_dim,\n",
    "                'penalty_factor': penalty_factor,\n",
    "                'gan_epochs': gan_epochs,\n",
    "                'batch_size': batch_size\n",
    "            }\n",
    "            neptun_params = {**neptun_params, **gan_params}\n",
    "        neptune.create_experiment(name=None, description=description, params=neptun_params)\n",
    "        neptune.log_artifact(io.StringIO(str(gen)), \"gen.txt\")\n",
    "        neptune.log_artifact(io.StringIO(str(([(el[0].numpy(), el[1], list(el[2].numpy())) for el in trainer.gen_weights]))), 'init_gen_weights.txt')"
   ]
  },
  {
   "cell_type": "code",
   "execution_count": 870,
   "id": "voluntary-healthcare",
   "metadata": {},
   "outputs": [],
   "source": [
    "start_neptune_experiment(trainer, gen)"
   ]
  },
  {
   "cell_type": "code",
   "execution_count": 871,
   "id": "subjective-iceland",
   "metadata": {
    "pycharm": {
     "is_executing": true
    },
    "scrolled": false
   },
   "outputs": [
    {
     "data": {
      "text/plain": [
       "<Figure size 432x288 with 0 Axes>"
      ]
     },
     "metadata": {},
     "output_type": "display_data"
    },
    {
     "data": {
      "image/png": "[encoded data removed]",
      "text/plain": [
       "<Figure size 1296x576 with 1 Axes>"
      ]
     },
     "metadata": {
      "needs_background": "light"
     },
     "output_type": "display_data"
    },
    {
     "data": {
      "image/png": "[encoded data removed]",
      "text/plain": [
       "<Figure size 1296x360 with 3 Axes>"
      ]
     },
     "metadata": {
      "needs_background": "light"
     },
     "output_type": "display_data"
    },
    {
     "data": {
      "image/png": "[encoded data removed]",
      "text/plain": [
       "<Figure size 1296x360 with 3 Axes>"
      ]
     },
     "metadata": {
      "needs_background": "light"
     },
     "output_type": "display_data"
    },
    {
     "name": "stdout",
     "output_type": "stream",
     "text": [
      "----------------------------------------------------\n",
      "Epoch 300:  EM distance = 0.9051089625647321, trace distance = 0.43688242727996357, abs trace distance = 0.23264799560038835\n",
      "h=X((0, 0)), w=-0.9999999950299849, e=-0.0729757770895958\n",
      "h=Z((0, 5)), w=-0.9999999992939852, e=-0.13144504837691784\n",
      "h=Z((0, 2))*X((0, 3)), w=0.9999999989137744, e=0.19978930987417698\n",
      "h=Z((0, 4)), w=-1.000000000321763, e=-0.18449370982125401\n",
      "h=Y((0, 6)), w=-1.0000000005788663, e=-0.23259261652701202\n",
      "h=Z((0, 1)), w=0.999999995312396, e=0.08381250174716115\n",
      "-------------------------------------\n",
      "----------- TRAINING DONE -----------\n"
     ]
    }
   ],
   "source": [
    "json_result = trainer.train(opt, epochs, gen_iteration, snapshot_interval_epochs, plot=True)"
   ]
  },
  {
   "cell_type": "code",
   "execution_count": 560,
   "id": "undefined-chinese",
   "metadata": {},
   "outputs": [],
   "source": [
    "import tensorflow_quantum as tfq\n",
    "ex =  tfq.layers.Expectation()\n",
    "ps = cirq.PauliString([cirq.Z(qubits[1]), cirq.Y(qubits[2]), cirq.Y(qubits[3]), cirq.Z(qubits[4])])"
   ]
  },
  {
   "cell_type": "code",
   "execution_count": 561,
   "id": "amino-aircraft",
   "metadata": {},
   "outputs": [
    {
     "data": {
      "text/plain": [
       "<tf.Tensor: shape=(1, 1), dtype=float32, numpy=array([[0.88888735]], dtype=float32)>"
      ]
     },
     "execution_count": 561,
     "metadata": {},
     "output_type": "execute_result"
    }
   ],
   "source": [
    "ex([trainer.real_evaluator.get_resolved_circuit()], operators=ps)"
   ]
  },
  {
   "cell_type": "code",
   "execution_count": 562,
   "id": "quiet-beginning",
   "metadata": {},
   "outputs": [
    {
     "data": {
      "text/plain": [
       "<tf.Tensor: shape=(1, 1), dtype=float32, numpy=array([[0.11227363]], dtype=float32)>"
      ]
     },
     "execution_count": 562,
     "metadata": {},
     "output_type": "execute_result"
    }
   ],
   "source": [
    "ex([trainer.gen_evaluator.get_resolved_circuit()], operators=ps)"
   ]
  },
  {
   "cell_type": "code",
   "execution_count": null,
   "id": "higher-genetics",
   "metadata": {
    "pycharm": {
     "is_executing": true
    }
   },
   "outputs": [],
   "source": [
    "if use_neptune:\n",
    "    neptune.stop()"
   ]
  },
  {
   "cell_type": "code",
   "execution_count": null,
   "id": "medical-boating",
   "metadata": {
    "pycharm": {
     "is_executing": true
    }
   },
   "outputs": [],
   "source": [
    "def compute_known_states_stats(tra, g_list):\n",
    "       return compute_states_stats(\n",
    "        lambda g: tra.real_evaluator.get_state_from_params(labels=g)[1],\n",
    "        lambda g: tra.real_evaluator.get_state_from_params(labels=g)[1],\n",
    "        g_list,\n",
    "        g_list\n",
    "    ) \n",
    "\n",
    "def compute_generated_states_stats(tra, g_list):\n",
    "    return compute_states_stats(\n",
    "        lambda g: tra.gen_evaluator.get_state_from_params()[1],\n",
    "        lambda g: tra.real_evaluator.get_state_from_params(labels=g)[1],\n",
    "        [\"GENERATED\"],\n",
    "        g_list\n",
    "    )\n",
    "\n",
    "def compute_states_stats(state_prov1, state_prov2, g_list1, g_list2):\n",
    "    stats = {\n",
    "        'min_fidelity': 1,\n",
    "        'min_fidelity_tuple': (None, None),\n",
    "        'max_fidelity': 0,\n",
    "        'max_fidelity_tuple': (None, None),\n",
    "        'average_fidelity': None,\n",
    "        'std_fidelity': None\n",
    "    }\n",
    "    fids = []\n",
    "    for g1 in g_list1:\n",
    "        for g2 in g_list2:\n",
    "            if g1 != g2:\n",
    "                state1 = state_prov1(g1)\n",
    "                state2 = state_prov2(g2)\n",
    "                fid = cirq.fidelity(state1, state2)\n",
    "                fids.append(fid)\n",
    "                if fid < stats['min_fidelity']:\n",
    "                    stats['min_fidelity'] = fid\n",
    "                    stats['min_fidelity_tuple'] = (g1, g2)\n",
    "                if fid > stats['max_fidelity']:\n",
    "                    stats['max_fidelity'] = fid\n",
    "                    stats['max_fidelity_tuple'] = (g1, g2)\n",
    "                \n",
    "    stats['average_fidelity'] = st.mean(fids)\n",
    "    stats['std_fidelity'] = st.stdev(fids)\n",
    "    return stats"
   ]
  },
  {
   "cell_type": "code",
   "execution_count": null,
   "id": "dying-incidence",
   "metadata": {
    "pycharm": {
     "is_executing": true
    }
   },
   "outputs": [],
   "source": [
    "compute_known_states_stats(trainer, known_g_values)"
   ]
  },
  {
   "cell_type": "code",
   "execution_count": null,
   "id": "fossil-portrait",
   "metadata": {
    "pycharm": {
     "is_executing": true
    }
   },
   "outputs": [],
   "source": [
    "compute_generated_states_stats(trainer, known_g_values)"
   ]
  },
  {
   "cell_type": "code",
   "execution_count": null,
   "id": "aggressive-nelson",
   "metadata": {
    "pycharm": {
     "is_executing": true
    }
   },
   "outputs": [],
   "source": [
    "from scipy.optimize import linprog\n",
    "def get_em_distance(W, H, t):\n",
    "    traces = (t.get_all_generator_expectations(H).numpy() - t.get_real_expectation(H)).flatten()\n",
    "    return sum(x * y for x, y in zip(W, traces))\n",
    "\n",
    "def get_em_distance_real(t1, t2):\n",
    "    traces = (t1.get_real_expectation(t1.disc_hamiltonians) - t2.get_real_expectation(t2.disc_hamiltonians)).flatten()\n",
    "    res = linprog(-traces, A_ub=t1.A, b_ub=t1.b, bounds=(0, 1))\n",
    "    tt = [traces[i] for i in range(len(t1.disc_hamiltonians)) if res.x[i] > 1.e-5]\n",
    "    res2 = [res.x[i] for i in range(len(res.x)) if res.x[i] > 1.e-5]\n",
    "    return sum(x * y for x, y in zip(res2, tt))\n",
    "\n",
    "def get_em_distance2(W, H, t):\n",
    "    traces = (t.get_all_generator_expectations(t.disc_hamiltonians).numpy() -\n",
    "              t.get_real_expectation(t.disc_hamiltonians)).flatten()\n",
    "    res = linprog(-traces, A_ub=t.A, b_ub=t.b, bounds=(0, 1))\n",
    "    tt = [traces[i] for i in range(len(t.disc_hamiltonians)) if res.x[i] > 1.e-5]\n",
    "    res2 = [res.x[i] for i in range(len(res.x)) if res.x[i] > 1.e-5] \n",
    "    return sum(x * y for x, y in zip(res2, tt)), res2, tt\n",
    "\n",
    "def plot_em_distance_between_real():\n",
    "    fig, axes = plt.subplots(nrows=1, ncols=1, figsize=(18, 8))\n",
    "    # g=-0.4\n",
    "    # W, H = list(zip(*g_dict[g].last_run_generator_weights[-1].disc_w_h.items()))\n",
    "    # get_em_distance(W, H, g_dict[-0.5]), g_dict[g].last_run_generator_weights[-1].em_distance\n",
    "    g_values2 = [np.round(el, 1) for el in np.linspace(-1,0,11)]\n",
    "    tr = {}\n",
    "    for g in g_values2:\n",
    "        tr[g] = Trainer(real, real_symbols, gen, gs, [g], real_values_provider, rank=rank, use_neptune=False)\n",
    "    x = g_values2\n",
    "    for g1 in g_values2:\n",
    "        tmp_res = []\n",
    "        for g2 in g_values2:\n",
    "            tmp_res.append(get_em_distance_real(tr[g1], tr[g2]))\n",
    "        axes.plot(x, tmp_res,label=g1)\n",
    "    axes.legend()\n",
    "    plt.show()"
   ]
  },
  {
   "cell_type": "code",
   "execution_count": null,
   "id": "together-blame",
   "metadata": {
    "pycharm": {
     "is_executing": true
    }
   },
   "outputs": [],
   "source": [
    "plot_em_distance_between_real()"
   ]
  },
  {
   "cell_type": "code",
   "execution_count": 879,
   "id": "bound-flavor",
   "metadata": {
    "pycharm": {
     "is_executing": true
    }
   },
   "outputs": [],
   "source": [
    "use_neptune = False\n",
    "generator_layers = 4\n",
    "# data_bus_size = 6\n",
    "rank = 1\n",
    "real_circuit_type = 'phase' #b utterfly\n",
    "generic_generator = True\n",
    "zxz = False\n",
    "all_gates_parametrized = False\n",
    "expectation_provider_type = ExpectationProviderType.ONLY_KNOWN\n",
    "known_g_values = list(range(32))\n",
    "# g_values = [1, 2, 3]\n",
    "if expectation_provider_type == ExpectationProviderType.WGAN:\n",
    "        gen_input_dim = 16\n",
    "        hidden_dim = [32, 64]\n",
    "        penalty_factor = 10\n",
    "        gan_epochs = 5000\n",
    "        batch_size = 8\n",
    "        \n",
    "gen_iteration = 1\n",
    "k = 2\n",
    "snapshot_interval_epochs = 400\n",
    "epochs = 401\n",
    "sizes = [4, 5, 6, 7]\n",
    "g_values = [-1, -0.8, -0.5, -0.3, -0.1]\n",
    "known_g_values = g_values"
   ]
  },
  {
   "cell_type": "code",
   "execution_count": 880,
   "id": "adapted-bottle",
   "metadata": {
    "pycharm": {
     "is_executing": true
    }
   },
   "outputs": [],
   "source": [
    "def run_for_g_values(g_values,\n",
    "                     real,\n",
    "                     real_symbols,\n",
    "                     gen,\n",
    "                     gs,\n",
    "                     real_values_provider,\n",
    "                     rank):    \n",
    "    for g in g_values:\n",
    "        trainers[g] = Trainer(real, \n",
    "                              real_symbols, \n",
    "                              gen, \n",
    "                              gs, \n",
    "                              [g], \n",
    "                              real_values_provider, \n",
    "                              real_expectations_provider,\n",
    "                              rank=rank, \n",
    "                              use_neptune=use_neptune)\n",
    "\n",
    "        opt = tf.keras.optimizers.Adam(0.01, beta_1=0.9, beta_2=0.98, epsilon=1e-9)\n",
    "\n",
    "        start_neptune_experiment(trainers[g], gen)\n",
    "\n",
    "        json_result =  trainers[g].train(opt, epochs, gen_iteration, snapshot_interval_epochs, plot=True)\n",
    "        trainers[g] = json_result\n",
    "    \n",
    "        if use_neptune:\n",
    "            neptune.stop()\n",
    "    return trainers"
   ]
  },
  {
   "cell_type": "code",
   "execution_count": 881,
   "id": "sharing-shelf",
   "metadata": {
    "pycharm": {
     "is_executing": true
    }
   },
   "outputs": [],
   "source": [
    "data_qubits = qubits = cirq.GridQubit.rect(1, data_bus_size)\n",
    "trainers = {}\n",
    "if real_circuit_type == 'butterfly':\n",
    "    real, real_symbols = ButterflyCircuitBuilder().build(qubits=qubits)\n",
    "    real_values_provider = get_fixed_random_rotation_provider(len(real_symbols))\n",
    "else:\n",
    "    builder = PhaseCircuitBuilder(all_gates_parametrized=False)\n",
    "    real, real_symbols, symbols_dict_real = builder.build_ground_state_circuit(qubits=data_qubits)\n",
    "    real_values_provider = get_g_parameters_provider()\n",
    "\n",
    "if generic_generator:\n",
    "    gen, gs = circuits.build_circuit(generator_layers, data_qubits, \"g\")\n",
    "    symbols_dict_gen = {}\n",
    "else:\n",
    "    builder = PhaseCircuitBuilder(all_gates_parametrized=all_gates_parametrized)\n",
    "    gen, gs, symbols_dict_gen = builder.build_ground_state_circuit(qubits=data_qubits, full_parametrization=True, zxz=zxz)\n",
    "    \n",
    "real_expectations_provider = get_expectation_provider(real, real_symbols, known_g_values, real_values_provider)"
   ]
  },
  {
   "cell_type": "code",
   "execution_count": 882,
   "id": "sonic-consciousness",
   "metadata": {
    "pycharm": {
     "is_executing": true
    },
    "scrolled": true
   },
   "outputs": [],
   "source": [
    "# trainers = run_for_g_values(g_values)"
   ]
  },
  {
   "cell_type": "code",
   "execution_count": null,
   "id": "boring-postage",
   "metadata": {
    "pycharm": {
     "is_executing": true
    },
    "scrolled": false
   },
   "outputs": [
    {
     "data": {
      "text/plain": [
       "<Figure size 432x288 with 0 Axes>"
      ]
     },
     "metadata": {},
     "output_type": "display_data"
    },
    {
     "data": {
      "image/png": "[encoded data removed]",
      "text/plain": [
       "<Figure size 1296x576 with 1 Axes>"
      ]
     },
     "metadata": {
      "needs_background": "light"
     },
     "output_type": "display_data"
    },
    {
     "data": {
      "image/png": "[encoded data removed]",
      "text/plain": [
       "<Figure size 1296x360 with 3 Axes>"
      ]
     },
     "metadata": {
      "needs_background": "light"
     },
     "output_type": "display_data"
    },
    {
     "data": {
      "image/png": "[encoded data removed]",
      "text/plain": [
       "<Figure size 1296x360 with 3 Axes>"
      ]
     },
     "metadata": {
      "needs_background": "light"
     },
     "output_type": "display_data"
    },
    {
     "name": "stdout",
     "output_type": "stream",
     "text": [
      "----------------------------------------------------\n",
      "Epoch 2:  EM distance = 3.981057047326735, trace distance = 0.964115956794964, abs trace distance = 0.9498738446857848\n",
      "h=Z((0, 0)), w=0.9999999769611305, e=0.9958687871694565\n",
      "h=Z((0, 2)), w=1.0000000451690796, e=0.9933321997523308\n",
      "h=Z((0, 1)), w=0.9999999291130163, e=0.9974900037050247\n",
      "h=Z((0, 3)), w=1.0000000860051035, e=0.9943660199642181\n",
      "-------------------------------------\n",
      "----------- TRAINING DONE -----------\n"
     ]
    }
   ],
   "source": [
    "# gen_iteration = 1\n",
    "# snapshot_interval_epochs = 200\n",
    "# epochs = 401\n",
    "training_result = {}\n",
    "trainer_dict = {}\n",
    "for j, g in enumerate(g_values):\n",
    "    trainer_by_size = {}\n",
    "    result_by_size = {}\n",
    "    training_result[(j, g)] = result_by_size\n",
    "    trainer_dict[(j, g)] = trainer_by_size\n",
    "    for i, data_bus_size in enumerate(sizes):\n",
    "        data_qubits = qubits = cirq.GridQubit.rect(1, data_bus_size)\n",
    "        \n",
    "        if real_circuit_type == 'butterfly':\n",
    "            real, real_symbols = ButterflyCircuitBuilder().build(qubits=qubits)\n",
    "            real_values_provider = get_fixed_random_rotation_provider(len(real_symbols))\n",
    "        else:\n",
    "            builder = PhaseCircuitBuilder(all_gates_parametrized=False)\n",
    "            real, real_symbols, symbols_dict_real = builder.build_ground_state_circuit(qubits=data_qubits)\n",
    "            real_values_provider = get_g_parameters_provider()\n",
    "\n",
    "        if generic_generator:\n",
    "            gen, gs = circuits.build_circuit(generator_layers, data_qubits, \"g\")\n",
    "            symbols_dict_gen = {}\n",
    "        else:\n",
    "            builder = PhaseCircuitBuilder(all_gates_parametrized=all_gates_parametrized)\n",
    "            gen, gs, symbols_dict_gen = builder.build_ground_state_circuit(qubits=data_qubits, full_parametrization=True, zxz=zxz)\n",
    "        if expectation_provider_type == ExpectationProviderType.ONLY_KNOWN:\n",
    "            known_g_values = [g]\n",
    "        real_expectations_provider = get_expectation_provider(real, real_symbols, known_g_values, real_values_provider)\n",
    "\n",
    "        trainer_by_size[(i, data_bus_size)] = Trainer(real, \n",
    "                                                      real_symbols, \n",
    "                                                      gen, \n",
    "                                                      gs, \n",
    "                                                      [g], \n",
    "                                                      real_values_provider, \n",
    "                                                      real_expectations_provider,\n",
    "                                                      rank=rank, \n",
    "                                                      k=k,\n",
    "                                                      use_neptune=False)\n",
    "        \n",
    "        opt = tf.keras.optimizers.Adam(0.01, beta_1=0.9, beta_2=0.98, epsilon=1e-9)\n",
    "                \n",
    "        start_neptune_experiment(trainer_by_size[(i, data_bus_size)])\n",
    "\n",
    "        json_result = trainer_by_size[(i, data_bus_size)].train(opt, epochs, gen_iteration, snapshot_interval_epochs, plot=True)\n",
    "        training_result[(i,data_bus_size)] = json_result\n",
    "        \n",
    "        if use_neptune:\n",
    "            neptune.stop()\n"
   ]
  },
  {
   "cell_type": "code",
   "execution_count": null,
   "id": "patent-swimming",
   "metadata": {
    "pycharm": {
     "is_executing": true
    },
    "scrolled": true
   },
   "outputs": [],
   "source": [
    "# print fidelities of each generator\n",
    "# get all hamiltonians of each discriminator (final iteration) - r\n",
    "r = defaultdict(lambda: defaultdict(list))\n",
    "# rg = defaultdict(lambda: defaultdict(list))\n",
    "for j, g in enumerate(g_values):\n",
    "    for i, s in enumerate(sizes):\n",
    "        print(f\"({j},{g}), ({i}, {s})\" \\\n",
    "              f\"abs_fidelity: {trainer_dict[(j, g)][(i, s)].last_run_generator_weights[-1].fidelities[0].abs_fidelity}\")\n",
    "        for k,v in trainer_dict[(j, g)][(i, s)].last_run_generator_weights[-1].disc_w_h.items():\n",
    "            r[g][str(v)].append(i)\n",
    "            r[\"COMBINED\"][str(v)].append(i)\n",
    "#             if g_dict[(i, g)].last_run_generator_weights[-1].trace_distance > 0.9:\n",
    "#                 rg[g][str(v)].append(i)\n",
    "r"
   ]
  },
  {
   "cell_type": "code",
   "execution_count": 56,
   "id": "convertible-rochester",
   "metadata": {
    "pycharm": {
     "is_executing": true
    }
   },
   "outputs": [],
   "source": [
    "np.set_printoptions(suppress=True)\n",
    "def get_expectations_real(g, t):\n",
    "    full_weights = tf.keras.layers.Layer()(\n",
    "                tf.Variable(np.array(t.real_values_provider(g), dtype=np.float32)))\n",
    "    full_weights = tf.reshape(full_weights, (1, full_weights.shape[0]))\n",
    "    exps = t.real_expectation([t.real],\n",
    "                                         symbol_names=t.real_symbols,\n",
    "                                         symbol_values=full_weights,\n",
    "                                         operators=t.disc_hamiltonians)\n",
    "    return {h: e for e, h in zip(exps.numpy()[0], [str(h) for h in t.disc_hamiltonians])}\n",
    "\n",
    "def get_expectations_gen(g, t):\n",
    "    full_weights = tf.keras.layers.Layer()(t.gen_weights[0][2])\n",
    "    full_weights = tf.reshape(full_weights, (1, full_weights.shape[0]))\n",
    "    exps = t.gen_expectation([t.gen],\n",
    "                                         symbol_names=t.gs,\n",
    "                                         symbol_values=full_weights,\n",
    "                                         operators=t.disc_hamiltonians)\n",
    "    return {h: e for e, h in zip(exps.numpy()[0], [str(h) for h in t.disc_hamiltonians])}\n",
    "\n",
    "def get_exps(g_list, trainer, eps=1e-3):\n",
    "    res = defaultdict(list)\n",
    "    for g in g_list:\n",
    "        for e in (fe for fe in get_expectations_real(g, trainer).items() if abs(float(fe[1])) >= eps):\n",
    "            res[e[0]].append(e[1])\n",
    "    return res\n",
    "\n",
    "def get_exp(g, trainer, eps=1e-3):\n",
    "    res_r = defaultdict(list)\n",
    "    res_g = defaultdict(list)\n",
    "    for e in (fe for fe in get_expectations_real(g, trainer).items() if abs(float(fe[1])) >= eps ):\n",
    "        res_r[e[0]].append(e[1])\n",
    "    for e in (fe for fe in get_expectations_gen(g, trainer).items() if abs(float(fe[1])) >= eps ):\n",
    "        res_g[e[0]].append(e[1])\n",
    "    return res_r, res_g"
   ]
  },
  {
   "cell_type": "code",
   "execution_count": null,
   "id": "indoor-portrait",
   "metadata": {
    "pycharm": {
     "is_executing": true
    },
    "scrolled": true
   },
   "outputs": [],
   "source": [
    "# plot change in the expectation per pauli string\n",
    "fig, axes = plt.subplots(nrows=1, ncols=1, figsize=(18, 8))\n",
    "g_values_list = [-0.5]\n",
    "# random.shuffle(g_values_list)\n",
    "es = get_exps(g_values_list, trainer_dict[(0, -0.8)][(0, 3)])\n",
    "res = []\n",
    "for k, v in es.items():\n",
    "    c = []\n",
    "    for i in range(len(v)):\n",
    "          c.append(float(v[i]))\n",
    "    res.append(c)\n",
    "    x = list(range(len(c)))\n",
    "    axes.plot(x, c,label=k)\n",
    "axes.legend()\n",
    "plt.show()\n",
    "es"
   ]
  },
  {
   "cell_type": "code",
   "execution_count": 60,
   "id": "clinical-drink",
   "metadata": {
    "pycharm": {
     "is_executing": true
    },
    "scrolled": false
   },
   "outputs": [
    {
     "name": "stdout",
     "output_type": "stream",
     "text": [
      "[-1.0, -0.991, -0.982, -0.973, -0.964, -0.955, -0.945, -0.936, -0.927, -0.918, -0.909, -0.9, -0.891, -0.882, -0.873, -0.864, -0.855, -0.845, -0.836, -0.827, -0.818, -0.809, -0.8, -0.791, -0.782, -0.773, -0.764, -0.755, -0.745, -0.736, -0.727, -0.718, -0.709, -0.7, -0.691, -0.682, -0.673, -0.664, -0.655, -0.645, -0.636, -0.627, -0.618, -0.609, -0.6, -0.591, -0.582, -0.573, -0.564, -0.555, -0.545, -0.536, -0.527, -0.518, -0.509, -0.5, -0.491, -0.482, -0.473, -0.464, -0.455, -0.445, -0.436, -0.427, -0.418, -0.409, -0.4, -0.391, -0.382, -0.373, -0.364, -0.355, -0.345, -0.336, -0.327, -0.318, -0.309, -0.3, -0.291, -0.282, -0.273, -0.264, -0.255, -0.245, -0.236, -0.227, -0.218, -0.209, -0.2, -0.191, -0.182, -0.173, -0.164, -0.155, -0.145, -0.136, -0.127, -0.118, -0.109, -0.1, -0.091, -0.082, -0.073, -0.064, -0.055, -0.045, -0.036, -0.027, -0.018, -0.009, 0.0]\n"
     ]
    },
    {
     "data": {
      "image/png": "[encoded data removed]",
      "text/plain": [
       "<Figure size 1296x576 with 1 Axes>"
      ]
     },
     "metadata": {
      "needs_background": "light"
     },
     "output_type": "display_data"
    }
   ],
   "source": [
    "# plots expecation change for different g for all pauli string with expecation higher than eps\n",
    "fig, axes = plt.subplots(nrows=1, ncols=1, figsize=(18, 8))\n",
    "g_values_list = [np.round(el, 3) for el in np.linspace(-1,0,111)]\n",
    "x_indexes = False\n",
    "print(g_values_list)\n",
    "# random.shuffle(g_values_list)\n",
    "eps = 1.e-1\n",
    "res = defaultdict(list)\n",
    "for g in g_values_list:\n",
    "    exps = get_exp(g, trainer, eps=0)[0]\n",
    "    for pauli_string, exp in exps.items():\n",
    "        res[pauli_string].append(float(exp[0]))\n",
    "curated_res = {k: v for k, v in res.items() if any(abs(el) > eps for el in res[k])}\n",
    "for pauli_string, exp in list(curated_res.items())[:2]:\n",
    "    if x_indexes:\n",
    "        axes.plot(range(len(g_values_list)), exp, 'o', label=pauli_string)\n",
    "    else:\n",
    "        axes.plot(g_values_list, exp, 'o', label=pauli_string) \n",
    "axes.legend()\n",
    "axes.set_xlabel(\"g\")\n",
    "axes.set_ylabel(\"expectation\")\n",
    "plt.show()  "
   ]
  },
  {
   "cell_type": "code",
   "execution_count": null,
   "id": "interior-crest",
   "metadata": {
    "pycharm": {
     "is_executing": true
    }
   },
   "outputs": [],
   "source": [
    "# calculates expectations of each pauli string for all sizes of circuits\n",
    "circuits_gen = []\n",
    "circuits_real = []\n",
    "size_to_exps_real = {}\n",
    "size_to_exps_gen = {}\n",
    "g = -0.8\n",
    "eps = 1.e-5\n",
    "for j, g in enumerate(g_values):\n",
    "    for i, s in enumerate(sizes):\n",
    "        tr = trainer_dict[(j, g)][(i, s)]\n",
    "        size_to_exps_real[s] = get_expectations_real(g, tr)\n",
    "        size_to_exps_gen[s] = get_expectations_gen(g, tr)\n",
    "        circuits_gen.append(tr.gen_evaluator.get_all_resolved_circuits()[0][2])\n",
    "        circuits_real.append(tr.real_evaluator.get_all_resolved_circuits()[0][2])\n",
    "string_to_exp = defaultdict(list)\n",
    "for s, exps_real in size_to_exps_real.items():\n",
    "    exps_gen = size_to_exps_gen[s]\n",
    "    for pauli_string, exp_real in exps_real.items():\n",
    "        exp_gen = exps_gen[pauli_string]\n",
    "        string_to_exp[pauli_string].append((exp_real, exp_gen))\n",
    "curated_string_to_exp = {k: v for k, v in string_to_exp.items() if any(abs(float(el[0])) > eps for el in string_to_exp[k])}"
   ]
  },
  {
   "cell_type": "code",
   "execution_count": null,
   "id": "lasting-algebra",
   "metadata": {
    "pycharm": {
     "is_executing": true
    },
    "scrolled": true
   },
   "outputs": [],
   "source": [
    "curated_string_to_exp"
   ]
  },
  {
   "cell_type": "code",
   "execution_count": null,
   "id": "minimal-failure",
   "metadata": {
    "pycharm": {
     "is_executing": true
    }
   },
   "outputs": [],
   "source": [
    "def remove_last_n_qubits(circuit, n):\n",
    "    circuit = circuit.copy()\n",
    "    qubits_to_remove = sorted(list(circuit.all_qubits()))\n",
    "    circuit.clear_operations_touching(qubits_to_remove[-n:], list(range(len(circuit.moments))))\n",
    "    return circuit"
   ]
  },
  {
   "cell_type": "code",
   "execution_count": null,
   "id": "hungry-italy",
   "metadata": {
    "pycharm": {
     "is_executing": true
    }
   },
   "outputs": [],
   "source": [
    "# get fidelity between truncated and trained circuit\n",
    "truncated_circuit = remove_last_n_qubits(circuits_gen[1], 1)\n",
    "cirq.fidelity(abs(cirq.final_state_vector(truncated_circuit)), abs(cirq.final_state_vector(circuits_gen[0])))"
   ]
  },
  {
   "cell_type": "code",
   "execution_count": null,
   "id": "speaking-carrier",
   "metadata": {
    "pycharm": {
     "is_executing": true
    }
   },
   "outputs": [],
   "source": [
    "def combine_circuits(circuit, smaller_symbol_value_pairs, larger_symbol_value_pairs, larger_to_smaller_map):\n",
    "    combined_pairs = larger_symbol_value_pairs.copy()\n",
    "    for ls, ss in larger_to_smaller_map.items():\n",
    "        combined_pairs[ls] = smaller_symbol_value_pairs.get(ss, larger_symbol_value_pairs[ls])\n",
    "    resolver = cirq.ParamResolver(combined_pairs)\n",
    "    return cirq.final_state_vector(cirq.resolve_parameters(circuit, resolver))\n",
    "\n",
    "def get_symbols_per_qubit(circuit):\n",
    "    qubit_to_symbols = defaultdict(list)\n",
    "    for op in circuit.all_operations():\n",
    "        symbol = op.gate.exponent\n",
    "        if len(symbol.args) > 1:\n",
    "            symbol = symbol.args[0]\n",
    "        q = op.qubits[-1]\n",
    "        qubit_to_symbols[q].append(symbol)\n",
    "    return qubit_to_symbols\n",
    "\n",
    "def match_symbols(larger_circuit, smaller_circuit):\n",
    "    matched = {}\n",
    "    for q, symbols_smaller in smaller_circuit.items():\n",
    "        symbols_larger = larger_circuit[q]\n",
    "        for bs, ss in zip(symbols_larger, symbols_smaller):\n",
    "            matched[bs] = ss\n",
    "    return matched"
   ]
  },
  {
   "cell_type": "code",
   "execution_count": null,
   "id": "shared-charm",
   "metadata": {
    "pycharm": {
     "is_executing": true
    }
   },
   "outputs": [],
   "source": [
    "# get fidelity between trainer and combined circuit (generator)\n",
    "# smaller circuit (generator) weights are used in the larger when \n",
    "# (for the qubits that are common for both the rest is from the larger one)\n",
    "smaller = trainer_dict[(0,-0.8)][(0,3)]\n",
    "larger = trainer_dict[(0,-0.8)][(1,4)]\n",
    "cirq.fidelity(abs(combine_circuits(larger.gen, \n",
    "                 smaller.gen_evaluator.symbol_value_pairs[0][2], \n",
    "                 larger.gen_evaluator.symbol_value_pairs[0][2],\n",
    "                 match_symbols(get_symbols_per_qubit(g_dict[(1, 4)].gen), \n",
    "                                   get_symbols_per_qubit(smaller.gen)))), \n",
    "              abs(larger.gen_evaluator.get_all_states_from_params()[0][2]))"
   ]
  },
  {
   "cell_type": "code",
   "execution_count": null,
   "id": "laughing-advantage",
   "metadata": {
    "pycharm": {
     "is_executing": true
    }
   },
   "outputs": [],
   "source": [
    "precomp_exp_provider = PrecomputedExpectationsProvider(trainer.real, trainer.real_symbols,  np.linspace(-1,0,11), real_values_provider"
   ]
  },
  {
   "cell_type": "code",
   "execution_count": null,
   "id": "demographic-spank",
   "metadata": {
    "pycharm": {
     "is_executing": true
    }
   },
   "outputs": [],
   "source": [
    "interpolation_1d_expectations_provider = Interpolation1DExpectationsProvider(precomp_exp_provider)"
   ]
  },
  {
   "cell_type": "code",
   "execution_count": null,
   "id": "stunning-senior",
   "metadata": {
    "pycharm": {
     "is_executing": true
    }
   },
   "outputs": [],
   "source": [
    "interpolation_1d_expectations_provider.get_expectations_for_parameters([-0.75])"
   ]
  },
  {
   "cell_type": "code",
   "execution_count": null,
   "id": "liable-initial",
   "metadata": {
    "pycharm": {
     "is_executing": true
    }
   },
   "outputs": [],
   "source": [
    "gen_input_dim = 10\n",
    "hidden_dim = 32\n",
    "penalty_factor = 10\n",
    "epochs = 5000\n",
    "batch_size = 4\n",
    "wgan_exp_provider = WassersteinGanExpectationProvider(precomp_exp_provider, gen_input_dim, hidden_dim, penalty_factor, epochs, batch_size)"
   ]
  },
  {
   "cell_type": "code",
   "execution_count": null,
   "id": "stupid-hometown",
   "metadata": {
    "pycharm": {
     "is_executing": true
    },
    "scrolled": true
   },
   "outputs": [],
   "source": [
    "wgan_exp_provider.initialize()"
   ]
  },
  {
   "cell_type": "code",
   "execution_count": null,
   "id": "comparative-puppy",
   "metadata": {
    "pycharm": {
     "is_executing": true
    },
    "scrolled": true
   },
   "outputs": [],
   "source": [
    "wgan_exp_provider.get_expectations_for_parameters([2])"
   ]
  },
  {
   "cell_type": "code",
   "execution_count": null,
   "id": "personalized-lawyer",
   "metadata": {
    "pycharm": {
     "is_executing": true
    }
   },
   "outputs": [],
   "source": [
    "(trainer.real_expectations_provider.generator(tf.random.normal([1, trainer.real_expectations_provider.gen_input_dim])).numpy()[0] * 2) - 1"
   ]
  },
  {
   "cell_type": "code",
   "execution_count": null,
   "id": "adjustable-villa",
   "metadata": {
    "pycharm": {
     "is_executing": true
    },
    "scrolled": false
   },
   "outputs": [],
   "source": [
    "re_exps = trainer.real_expectations_provider.get_expectations_for_parameters([1])[1]\n",
    "{s: e for s, e in re_exps.items() if abs(e) > 0.1}"
   ]
  },
  {
   "cell_type": "code",
   "execution_count": null,
   "id": "marine-creation",
   "metadata": {
    "pycharm": {
     "is_executing": true
    },
    "scrolled": false
   },
   "outputs": [],
   "source": [
    "trainer.real_expectations_provider.precomputed_expectations_provider.eps = 0.1\n",
    "trainer.real_expectations_provider.precomputed_expectations_provider.get_expectations_for_parameters([2], filter_small_expectations=True)"
   ]
  },
  {
   "cell_type": "code",
   "execution_count": 321,
   "id": "dutch-least",
   "metadata": {},
   "outputs": [
    {
     "data": {
      "text/html": [
       "<pre style=\"overflow: auto; white-space: pre;\">(0, 0): ───H───@────────────────────────────────────────────────────────────────────────────────────────────────────────────────────────────────────────────────────────────────────────────────────────────────────────────────────────────────────────────────────────\n",
       "               │\n",
       "(0, 1): ───────X───Z───Ry(0.608π)───X────────────@───X─────────────────────────────────@───X────────────────────────────────────────────────────────────────────────────────────────────────────────────────────────────────────────────────────────────────────────────\n",
       "                                                 │                                     │\n",
       "(0, 2): ────────────────────────────Ry(0.696π)───X───X───Ry(0.696π)───X───Ry(0.196π)───X───X───Ry(0.196π)───X───X────────────@───X─────────────────────────────────@───X────────────────────────────────────────────────────────────────────────────────────────────────\n",
       "                                                                                                                             │                                     │\n",
       "(0, 3): ────────────────────────────────────────────────────────────────────────────────────────────────────────Ry(0.696π)───X───X───Ry(0.696π)───X───Ry(0.196π)───X───X───Ry(0.196π)───X───X────────────@───X─────────────────────────────────@───X────────────────────\n",
       "                                                                                                                                                                                                         │                                     │\n",
       "(0, 4): ────────────────────────────────────────────────────────────────────────────────────────────────────────────────────────────────────────────────────────────────────────────────────Ry(0.696π)───X───X───Ry(0.696π)───X───Ry(0.196π)───X───X───Ry(0.196π)───X───</pre>"
      ],
      "text/plain": [
       "(0, 0): ───H───@────────────────────────────────────────────────────────────────────────────────────────────────────────────────────────────────────────────────────────────────────────────────────────────────────────────────────────────────────────────────────────\n",
       "               │\n",
       "(0, 1): ───────X───Z───Ry(0.608π)───X────────────@───X─────────────────────────────────@───X────────────────────────────────────────────────────────────────────────────────────────────────────────────────────────────────────────────────────────────────────────────\n",
       "                                                 │                                     │\n",
       "(0, 2): ────────────────────────────Ry(0.696π)───X───X───Ry(0.696π)───X───Ry(0.196π)───X───X───Ry(0.196π)───X───X────────────@───X─────────────────────────────────@───X────────────────────────────────────────────────────────────────────────────────────────────────\n",
       "                                                                                                                             │                                     │\n",
       "(0, 3): ────────────────────────────────────────────────────────────────────────────────────────────────────────Ry(0.696π)───X───X───Ry(0.696π)───X───Ry(0.196π)───X───X───Ry(0.196π)───X───X────────────@───X─────────────────────────────────@───X────────────────────\n",
       "                                                                                                                                                                                                         │                                     │\n",
       "(0, 4): ────────────────────────────────────────────────────────────────────────────────────────────────────────────────────────────────────────────────────────────────────────────────────Ry(0.696π)───X───X───Ry(0.696π)───X───Ry(0.196π)───X───X───Ry(0.196π)───X───"
      ]
     },
     "execution_count": 321,
     "metadata": {},
     "output_type": "execute_result"
    }
   ],
   "source": [
    "trainer.real_evaluator.get_resolved_circuit()"
   ]
  },
  {
   "cell_type": "code",
   "execution_count": 322,
   "id": "stretch-angola",
   "metadata": {},
   "outputs": [
    {
     "data": {
      "text/html": [
       "<pre style=\"overflow: auto; white-space: pre;\">(0, 0): ───Rx(0.018π)────Rz(0.2π)──────ZZ──────────────────────Rx(0.201π)────Rz(0.068π)────ZZ──────────────────────Rx(0.047π)───Rz(0.127π)────ZZ───────────────────────Rx(-0.496π)───Rz(-0.011π)───ZZ────────────────────\n",
       "                                       │                                                   │                                                  │                                                    │\n",
       "(0, 1): ───Rx(-0.056π)───Rz(-0.078π)───ZZ^(1/12)───ZZ──────────Rx(-0.419π)───Rz(0.205π)────ZZ^-0.554────ZZ─────────Rx(-0.54π)───Rz(0.011π)────ZZ^0.707───ZZ────────────Rx(-0.409π)───Rz(-0.403π)───ZZ^0.4─────ZZ─────────\n",
       "                                                   │                                                    │                                                │                                                    │\n",
       "(0, 2): ───Rx(-0.004π)───Rz(0.153π)────ZZ──────────ZZ^0.015────Rx(0.512π)────Rz(-0.289π)───ZZ───────────ZZ^-0.46───Rx(0.019π)───Rz(0.163π)────ZZ─────────ZZ^(-13/14)───Rx(-0.06π)────Rz(-0.197π)───ZZ─────────ZZ^0.01────\n",
       "                                       │                                                   │                                                  │                                                    │\n",
       "(0, 3): ───Rx(-0.045π)───Rz(-0.043π)───ZZ^0.264────ZZ──────────Rx(0.501π)────Rz(-0.651π)───ZZ^(-7/15)───ZZ─────────Rx(0.111π)───Rz(-0.824π)───ZZ^-0.67───ZZ────────────Rx(0.052π)────Rz(-0.384π)───ZZ^-0.29───ZZ─────────\n",
       "                                                   │                                                    │                                                │                                                    │\n",
       "(0, 4): ───Rx(0.005π)────Rz(-0.421π)───────────────ZZ^(4/15)───Rx(0.155π)────Rz(-0.297π)────────────────ZZ^-0.06───Rx(0.326π)───Rz(-0.049π)──────────────ZZ^0.484──────Rx(0.284π)────Rz(0.09π)────────────────ZZ^0.059───</pre>"
      ],
      "text/plain": [
       "(0, 0): ───Rx(0.018π)────Rz(0.2π)──────ZZ──────────────────────Rx(0.201π)────Rz(0.068π)────ZZ──────────────────────Rx(0.047π)───Rz(0.127π)────ZZ───────────────────────Rx(-0.496π)───Rz(-0.011π)───ZZ────────────────────\n",
       "                                       │                                                   │                                                  │                                                    │\n",
       "(0, 1): ───Rx(-0.056π)───Rz(-0.078π)───ZZ^(1/12)───ZZ──────────Rx(-0.419π)───Rz(0.205π)────ZZ^-0.554────ZZ─────────Rx(-0.54π)───Rz(0.011π)────ZZ^0.707───ZZ────────────Rx(-0.409π)───Rz(-0.403π)───ZZ^0.4─────ZZ─────────\n",
       "                                                   │                                                    │                                                │                                                    │\n",
       "(0, 2): ───Rx(-0.004π)───Rz(0.153π)────ZZ──────────ZZ^0.015────Rx(0.512π)────Rz(-0.289π)───ZZ───────────ZZ^-0.46───Rx(0.019π)───Rz(0.163π)────ZZ─────────ZZ^(-13/14)───Rx(-0.06π)────Rz(-0.197π)───ZZ─────────ZZ^0.01────\n",
       "                                       │                                                   │                                                  │                                                    │\n",
       "(0, 3): ───Rx(-0.045π)───Rz(-0.043π)───ZZ^0.264────ZZ──────────Rx(0.501π)────Rz(-0.651π)───ZZ^(-7/15)───ZZ─────────Rx(0.111π)───Rz(-0.824π)───ZZ^-0.67───ZZ────────────Rx(0.052π)────Rz(-0.384π)───ZZ^-0.29───ZZ─────────\n",
       "                                                   │                                                    │                                                │                                                    │\n",
       "(0, 4): ───Rx(0.005π)────Rz(-0.421π)───────────────ZZ^(4/15)───Rx(0.155π)────Rz(-0.297π)────────────────ZZ^-0.06───Rx(0.326π)───Rz(-0.049π)──────────────ZZ^0.484──────Rx(0.284π)────Rz(0.09π)────────────────ZZ^0.059───"
      ]
     },
     "execution_count": 322,
     "metadata": {},
     "output_type": "execute_result"
    }
   ],
   "source": [
    "trainer.gen_evaluator.get_resolved_circuit()"
   ]
  },
  {
   "cell_type": "code",
   "execution_count": 489,
   "id": "timely-italian",
   "metadata": {
    "pycharm": {
     "is_executing": true
    },
    "scrolled": false
   },
   "outputs": [
    {
     "data": {
      "text/plain": [
       "(array([ 0.02698384-0.21453533j,  0.02886552-0.26397032j,\n",
       "        -0.07429206+0.2085583j ,  0.0396791 -0.15076159j,\n",
       "         0.12205046-0.03363981j,  0.14917067-0.03176527j,\n",
       "         0.22471519+0.02538797j, -0.15956156-0.01089142j,\n",
       "        -0.08083164+0.09717371j, -0.09744268+0.12090682j,\n",
       "         0.10006501-0.07984468j, -0.06547376+0.06231605j,\n",
       "         0.11231972+0.07411843j,  0.12983516+0.09697716j,\n",
       "         0.13326901+0.19759433j, -0.10027539-0.13498649j,\n",
       "        -0.0415378 +0.15612432j, -0.04786472+0.1925418j ,\n",
       "         0.07655554-0.14689569j, -0.04494861+0.10754459j,\n",
       "        -0.09142685+0.0201771j , -0.11137411+0.01772278j,\n",
       "        -0.16573162-0.02739173j,  0.11796387+0.01424547j,\n",
       "        -0.09746661+0.12852493j, -0.11730002+0.1597511j ,\n",
       "         0.12259873-0.10718718j, -0.07958698+0.08298486j,\n",
       "         0.15789807+0.08000247j,  0.18420696+0.1072204j ,\n",
       "         0.20338458+0.23860411j, -0.15094903-0.16159718j], dtype=complex64),\n",
       " array([0.21622565, 0.26554388, 0.2213953 , 0.15589575, 0.12660155,\n",
       "        0.1525153 , 0.22614479, 0.15993284, 0.12639812, 0.15528533,\n",
       "        0.12801632, 0.09038862, 0.13457064, 0.16205473, 0.2383362 ,\n",
       "        0.16815619, 0.16155554, 0.19840205, 0.1656475 , 0.11655992,\n",
       "        0.09362683, 0.11277539, 0.16797999, 0.11882091, 0.1613022 ,\n",
       "        0.19819109, 0.16284822, 0.11498076, 0.17700903, 0.21313943,\n",
       "        0.31352386, 0.22113177], dtype=float32))"
      ]
     },
     "execution_count": 489,
     "metadata": {},
     "output_type": "execute_result"
    }
   ],
   "source": [
    "trainer.gen_evaluator.get_state_from_params()"
   ]
  },
  {
   "cell_type": "code",
   "execution_count": 490,
   "id": "regulation-mattress",
   "metadata": {
    "pycharm": {
     "is_executing": true
    },
    "scrolled": false
   },
   "outputs": [
    {
     "data": {
      "text/plain": [
       "(array([ 0.22222227+0.j,  0.31426978+0.j,  0.22222224+0.j, -0.15713488+0.j,\n",
       "        -0.1111111 +0.j, -0.15713485+0.j,  0.22222221+0.j, -0.15713486+0.j,\n",
       "        -0.11111113+0.j, -0.15713489+0.j, -0.11111112+0.j,  0.07856744+0.j,\n",
       "        -0.11111112+0.j, -0.15713486+0.j,  0.22222224+0.j, -0.15713488+0.j,\n",
       "        -0.15713489+0.j, -0.22222227+0.j, -0.15713489+0.j,  0.11111113+0.j,\n",
       "         0.07856743+0.j,  0.11111113+0.j, -0.15713486+0.j,  0.11111113+0.j,\n",
       "        -0.15713486+0.j, -0.22222225+0.j, -0.15713485+0.j,  0.11111112+0.j,\n",
       "        -0.15713486+0.j, -0.22222225+0.j,  0.31426978+0.j, -0.22222227+0.j],\n",
       "       dtype=complex64),\n",
       " array([0.22222227, 0.31426978, 0.22222224, 0.15713488, 0.1111111 ,\n",
       "        0.15713485, 0.22222221, 0.15713486, 0.11111113, 0.15713489,\n",
       "        0.11111112, 0.07856744, 0.11111112, 0.15713486, 0.22222224,\n",
       "        0.15713488, 0.15713489, 0.22222227, 0.15713489, 0.11111113,\n",
       "        0.07856743, 0.11111113, 0.15713486, 0.11111113, 0.15713486,\n",
       "        0.22222225, 0.15713485, 0.11111112, 0.15713486, 0.22222225,\n",
       "        0.31426978, 0.22222227], dtype=float32))"
      ]
     },
     "execution_count": 490,
     "metadata": {},
     "output_type": "execute_result"
    }
   ],
   "source": [
    "trainer.real_evaluator.get_state_from_params()"
   ]
  },
  {
   "cell_type": "code",
   "execution_count": 491,
   "id": "respected-ordinance",
   "metadata": {},
   "outputs": [
    {
     "data": {
      "text/plain": [
       "0.009999547307846302"
      ]
     },
     "execution_count": 491,
     "metadata": {},
     "output_type": "execute_result"
    }
   ],
   "source": [
    "cirq.fidelity(trainer.gen_evaluator.get_state_from_params()[1], trainer.real_evaluator.get_state_from_params()[0])"
   ]
  },
  {
   "cell_type": "code",
   "execution_count": 540,
   "id": "crucial-repeat",
   "metadata": {
    "pycharm": {
     "is_executing": true
    },
    "scrolled": true
   },
   "outputs": [],
   "source": [
    "re, ge = get_exp(-0.5, trainer, eps=0)"
   ]
  },
  {
   "cell_type": "code",
   "execution_count": 541,
   "id": "suffering-electricity",
   "metadata": {},
   "outputs": [
    {
     "data": {
      "text/plain": [
       "defaultdict(list,\n",
       "            {'Z((0, 0))*Z((0, 2))*Z((0, 4))': [0, 0],\n",
       "             'Z((0, 0))*X((0, 2))*X((0, 4))': [-0.27935153, -0.2841943],\n",
       "             'Z((0, 0))*Y((0, 2))*Y((0, 4))': [0, 0],\n",
       "             'X((0, 0))*Z((0, 2))*Z((0, 4))': [0, 0],\n",
       "             'X((0, 0))*X((0, 2))*X((0, 4))': [0.7901238, 0.78855646],\n",
       "             'X((0, 0))*Y((0, 2))*Y((0, 4))': [0, -0.026587717],\n",
       "             'Y((0, 0))*Z((0, 2))*Z((0, 4))': [0, 0],\n",
       "             'Y((0, 0))*X((0, 2))*X((0, 4))': [0, -0.03394924],\n",
       "             'Y((0, 0))*Y((0, 2))*Y((0, 4))': [0, 0],\n",
       "             'Z((0, 0))*Z((0, 1))*Z((0, 2))': [0, -0.034886412],\n",
       "             'Z((0, 0))*X((0, 1))*X((0, 2))': [0, 0.059995342],\n",
       "             'Z((0, 0))*Y((0, 1))*Y((0, 2))': [0, 0.07693434],\n",
       "             'X((0, 0))*Z((0, 1))*Z((0, 2))': [0, 0.01695279],\n",
       "             'X((0, 0))*X((0, 1))*X((0, 2))': [0, 0],\n",
       "             'X((0, 0))*Y((0, 1))*Y((0, 2))': [0, 0.032746114],\n",
       "             'Y((0, 0))*Z((0, 1))*Z((0, 2))': [0, 0.024295943],\n",
       "             'Y((0, 0))*X((0, 1))*X((0, 2))': [0, -0.0798526],\n",
       "             'Y((0, 0))*Y((0, 1))*Y((0, 2))': [0, 0],\n",
       "             'Z((0, 0))*Z((0, 2))*Z((0, 3))': [0, -0.024748057],\n",
       "             'Z((0, 0))*X((0, 2))*X((0, 3))': [0, -0.01348134],\n",
       "             'Z((0, 0))*Y((0, 2))*Y((0, 3))': [0, 0.025880735],\n",
       "             'X((0, 0))*Z((0, 2))*Z((0, 3))': [0, 0.06253113],\n",
       "             'X((0, 0))*X((0, 2))*X((0, 3))': [0, 0.036071222],\n",
       "             'X((0, 0))*Y((0, 2))*Y((0, 3))': [0, -0.07411203],\n",
       "             'Y((0, 0))*Z((0, 2))*Z((0, 3))': [0, -0.016525175],\n",
       "             'Y((0, 0))*X((0, 2))*X((0, 3))': [0, 0],\n",
       "             'Y((0, 0))*Y((0, 2))*Y((0, 3))': [0, 0],\n",
       "             'Z((0, 0))*Z((0, 1))*Z((0, 4))': [0, -0.03054334],\n",
       "             'Z((0, 0))*X((0, 1))*X((0, 4))': [-0.27935022, -0.2674125],\n",
       "             'Z((0, 0))*Y((0, 1))*Y((0, 4))': [0, 0],\n",
       "             'X((0, 0))*Z((0, 1))*Z((0, 4))': [0, 0.09005558],\n",
       "             'X((0, 0))*X((0, 1))*X((0, 4))': [-0.09876545, -0.093698874],\n",
       "             'X((0, 0))*Y((0, 1))*Y((0, 4))': [0, 0],\n",
       "             'Y((0, 0))*Z((0, 1))*Z((0, 4))': [0, 0],\n",
       "             'Y((0, 0))*X((0, 1))*X((0, 4))': [0, 0.029782359],\n",
       "             'Y((0, 0))*Y((0, 1))*Y((0, 4))': [0, 0],\n",
       "             'Z((0, 0))*Z((0, 3))*Z((0, 4))': [0, 0],\n",
       "             'Z((0, 0))*X((0, 3))*X((0, 4))': [0.034918793, 0.027284907],\n",
       "             'Z((0, 0))*Y((0, 3))*Y((0, 4))': [0.104756564, 0.08985934],\n",
       "             'X((0, 0))*Z((0, 3))*Z((0, 4))': [0, 0.01058279],\n",
       "             'X((0, 0))*X((0, 3))*X((0, 4))': [-0.098764956, -0.08468763],\n",
       "             'X((0, 0))*Y((0, 3))*Y((0, 4))': [-0.29629558, -0.26799253],\n",
       "             'Y((0, 0))*Z((0, 3))*Z((0, 4))': [0, 0.010431988],\n",
       "             'Y((0, 0))*X((0, 3))*X((0, 4))': [0, 0],\n",
       "             'Y((0, 0))*Y((0, 3))*Y((0, 4))': [0, 0.011790584],\n",
       "             'Z((0, 0))*Z((0, 1))*Z((0, 3))': [0, 0.022191707],\n",
       "             'Z((0, 0))*X((0, 1))*X((0, 3))': [0, 0.06475237],\n",
       "             'Z((0, 0))*Y((0, 1))*Y((0, 3))': [0, 0],\n",
       "             'X((0, 0))*Z((0, 1))*Z((0, 3))': [0, -0.07171143],\n",
       "             'X((0, 0))*X((0, 1))*X((0, 3))': [0, 0.022612445],\n",
       "             'X((0, 0))*Y((0, 1))*Y((0, 3))': [0, 0],\n",
       "             'Y((0, 0))*Z((0, 1))*Z((0, 3))': [0, 0.010366406],\n",
       "             'Y((0, 0))*X((0, 1))*X((0, 3))': [0, 0],\n",
       "             'Y((0, 0))*Y((0, 1))*Y((0, 3))': [0, -0.0346086],\n",
       "             'Z((0, 1))*Z((0, 2))*Z((0, 4))': [0, 0],\n",
       "             'X((0, 1))*Z((0, 2))*X((0, 4))': [0, 0],\n",
       "             'Y((0, 1))*Z((0, 2))*Y((0, 4))': [0, 0],\n",
       "             'Z((0, 1))*X((0, 2))*Z((0, 4))': [0.29629573, 0.30060387],\n",
       "             'X((0, 1))*X((0, 2))*X((0, 4))': [0, 0.031722933],\n",
       "             'Y((0, 1))*X((0, 2))*Y((0, 4))': [0, 0],\n",
       "             'Z((0, 1))*Y((0, 2))*Z((0, 4))': [0, 0.029436586],\n",
       "             'X((0, 1))*Y((0, 2))*X((0, 4))': [0, -0.031919386],\n",
       "             'Y((0, 1))*Y((0, 2))*Y((0, 4))': [0, 0],\n",
       "             'Z((0, 2))*Z((0, 3))*Z((0, 4))': [0, -0.033170927],\n",
       "             'Z((0, 2))*X((0, 3))*X((0, 4))': [0.314269, 0.30822408],\n",
       "             'Z((0, 2))*Y((0, 3))*Y((0, 4))': [0.9428091, 0.92003983],\n",
       "             'X((0, 2))*Z((0, 3))*Z((0, 4))': [0, 0],\n",
       "             'X((0, 2))*X((0, 3))*X((0, 4))': [0, -0.02903765],\n",
       "             'X((0, 2))*Y((0, 3))*Y((0, 4))': [0, -0.093143314],\n",
       "             'Y((0, 2))*Z((0, 3))*Z((0, 4))': [0, 0.010255763],\n",
       "             'Y((0, 2))*X((0, 3))*X((0, 4))': [0, 0],\n",
       "             'Y((0, 2))*Y((0, 3))*Y((0, 4))': [0, 0],\n",
       "             'Z((0, 1))*Z((0, 2))*Z((0, 3))': [0, -0.06726896],\n",
       "             'X((0, 1))*Z((0, 2))*X((0, 3))': [0, 0],\n",
       "             'Y((0, 1))*Z((0, 2))*Y((0, 3))': [0, 0],\n",
       "             'Z((0, 1))*X((0, 2))*Z((0, 3))': [-0.8888892, -0.89497733],\n",
       "             'X((0, 1))*X((0, 2))*X((0, 3))': [0, 0],\n",
       "             'Y((0, 1))*X((0, 2))*Y((0, 3))': [0, 0],\n",
       "             'Z((0, 1))*Y((0, 2))*Z((0, 3))': [0, -0.09750296],\n",
       "             'X((0, 1))*Y((0, 2))*X((0, 3))': [0, 0],\n",
       "             'Y((0, 1))*Y((0, 2))*Y((0, 3))': [0, 0],\n",
       "             'Z((0, 1))*Z((0, 3))*Z((0, 4))': [0, 0],\n",
       "             'X((0, 1))*X((0, 3))*Z((0, 4))': [0, 0.024227671],\n",
       "             'Y((0, 1))*Y((0, 3))*Z((0, 4))': [0, 0.0115887],\n",
       "             'Z((0, 1))*Z((0, 3))*X((0, 4))': [0, -0.021581285],\n",
       "             'X((0, 1))*X((0, 3))*X((0, 4))': [0, 0],\n",
       "             'Y((0, 1))*Y((0, 3))*X((0, 4))': [0, 0],\n",
       "             'Z((0, 1))*Z((0, 3))*Y((0, 4))': [0, 0],\n",
       "             'X((0, 1))*X((0, 3))*Y((0, 4))': [0, 0],\n",
       "             'Y((0, 1))*Y((0, 3))*Y((0, 4))': [0, -0.044712223],\n",
       "             'Z((0, 0))*Z((0, 2))': [0.111111075, 0.08995516],\n",
       "             'Z((0, 0))*X((0, 2))': [0, -0.03759295],\n",
       "             'Z((0, 0))*Y((0, 2))': [0, -0.025880221],\n",
       "             'X((0, 0))*Z((0, 2))': [-0.31426883, -0.27439415],\n",
       "             'X((0, 0))*X((0, 2))': [0, 0.09956958],\n",
       "             'X((0, 0))*Y((0, 2))': [0, 0.06465768],\n",
       "             'Y((0, 0))*Z((0, 2))': [0, 0.013146747],\n",
       "             'Y((0, 0))*X((0, 2))': [0, 0],\n",
       "             'Y((0, 0))*Y((0, 2))': [0, -0.011056211],\n",
       "             'Z((0, 0))*Z((0, 4))': [-0.012345623, 0],\n",
       "             'Z((0, 0))*X((0, 4))': [0.034918785, 0.01862533],\n",
       "             'Z((0, 0))*Y((0, 4))': [0, 0],\n",
       "             'X((0, 0))*Z((0, 4))': [0.0349186, 0.01706899],\n",
       "             'X((0, 0))*X((0, 4))': [-0.09876498, -0.06604759],\n",
       "             'X((0, 0))*Y((0, 4))': [0, 0],\n",
       "             'Y((0, 0))*Z((0, 4))': [0, 0],\n",
       "             'Y((0, 0))*X((0, 4))': [0, 0],\n",
       "             'Y((0, 0))*Y((0, 4))': [0, 0],\n",
       "             'Z((0, 0))*Z((0, 1))': [0.3333339, 0.335981],\n",
       "             'Z((0, 0))*X((0, 1))': [0, 0.015398376],\n",
       "             'Z((0, 0))*Y((0, 1))': [0, -0.013701428],\n",
       "             'X((0, 0))*Z((0, 1))': [-0.9428086, -0.93862456],\n",
       "             'X((0, 0))*X((0, 1))': [0, 0.028244749],\n",
       "             'X((0, 0))*Y((0, 1))': [0, 0.03203846],\n",
       "             'Y((0, 0))*Z((0, 1))': [0, 0.03752853],\n",
       "             'Y((0, 0))*X((0, 1))': [0, 0],\n",
       "             'Y((0, 0))*Y((0, 1))': [0, -0.025697283],\n",
       "             'Z((0, 0))*Z((0, 3))': [0.037036963, 0.018400304],\n",
       "             'Z((0, 0))*X((0, 3))': [0, 0],\n",
       "             'Z((0, 0))*Y((0, 3))': [0, 0],\n",
       "             'X((0, 0))*Z((0, 3))': [-0.104756035, -0.068902984],\n",
       "             'X((0, 0))*X((0, 3))': [0, 0.022213576],\n",
       "             'X((0, 0))*Y((0, 3))': [0, 0],\n",
       "             'Y((0, 0))*Z((0, 3))': [0, 0],\n",
       "             'Y((0, 0))*X((0, 3))': [0, 0],\n",
       "             'Y((0, 0))*Y((0, 3))': [0, 0],\n",
       "             'Z((0, 2))*Z((0, 4))': [-0.11111057, -0.075708196],\n",
       "             'Z((0, 2))*X((0, 4))': [0.31426898, 0.29212478],\n",
       "             'Z((0, 2))*Y((0, 4))': [0, 0],\n",
       "             'X((0, 2))*Z((0, 4))': [0, 0],\n",
       "             'X((0, 2))*X((0, 4))': [0, -0.018103413],\n",
       "             'X((0, 2))*Y((0, 4))': [0, 0],\n",
       "             'Y((0, 2))*Z((0, 4))': [0, 0],\n",
       "             'Y((0, 2))*X((0, 4))': [0, 0],\n",
       "             'Y((0, 2))*Y((0, 4))': [0, 0],\n",
       "             'Z((0, 1))*Z((0, 2))': [0.33333254, 0.28835818],\n",
       "             'X((0, 1))*Z((0, 2))': [0, 0.024592586],\n",
       "             'Y((0, 1))*Z((0, 2))': [0, -0.049106263],\n",
       "             'Z((0, 1))*X((0, 2))': [0, -0.106586255],\n",
       "             'X((0, 1))*X((0, 2))': [0, 0],\n",
       "             'Y((0, 1))*X((0, 2))': [0, 0],\n",
       "             'Z((0, 1))*Y((0, 2))': [0, -0.06980571],\n",
       "             'X((0, 1))*Y((0, 2))': [0, 0],\n",
       "             'Y((0, 1))*Y((0, 2))': [0, 0],\n",
       "             'Z((0, 2))*Z((0, 3))': [0.3333325, 0.30239302],\n",
       "             'Z((0, 2))*X((0, 3))': [0, -0.07234274],\n",
       "             'Z((0, 2))*Y((0, 3))': [0, -0.03574704],\n",
       "             'X((0, 2))*Z((0, 3))': [0, -0.018794224],\n",
       "             'X((0, 2))*X((0, 3))': [0, 0.01293899],\n",
       "             'X((0, 2))*Y((0, 3))': [0, 0],\n",
       "             'Y((0, 2))*Z((0, 3))': [0, 0],\n",
       "             'Y((0, 2))*X((0, 3))': [0, 0],\n",
       "             'Y((0, 2))*Y((0, 3))': [0, 0],\n",
       "             'Z((0, 1))*Z((0, 4))': [-0.037036777, -0.016448366],\n",
       "             'X((0, 1))*Z((0, 4))': [0, 0],\n",
       "             'Y((0, 1))*Z((0, 4))': [0, 0],\n",
       "             'Z((0, 1))*X((0, 4))': [0.10475611, 0.0680071],\n",
       "             'X((0, 1))*X((0, 4))': [0, 0],\n",
       "             'Y((0, 1))*X((0, 4))': [0, -0.015434679],\n",
       "             'Z((0, 1))*Y((0, 4))': [0, 0],\n",
       "             'X((0, 1))*Y((0, 4))': [0, 0],\n",
       "             'Y((0, 1))*Y((0, 4))': [0, 0],\n",
       "             'Z((0, 3))*Z((0, 4))': [-0.3333325, -0.31980354],\n",
       "             'X((0, 3))*Z((0, 4))': [0, -0.04419177],\n",
       "             'Y((0, 3))*Z((0, 4))': [0, 0.07740708],\n",
       "             'Z((0, 3))*X((0, 4))': [0.9428091, 0.9411767],\n",
       "             'X((0, 3))*X((0, 4))': [0, 0],\n",
       "             'Y((0, 3))*X((0, 4))': [0, 0],\n",
       "             'Z((0, 3))*Y((0, 4))': [0, -0.04877459],\n",
       "             'X((0, 3))*Y((0, 4))': [0, -0.07378701],\n",
       "             'Y((0, 3))*Y((0, 4))': [0, -0.038221423],\n",
       "             'Z((0, 1))*Z((0, 3))': [0.111110605, 0.07057695],\n",
       "             'Z((0, 1))*X((0, 3))': [0, -0.02381523],\n",
       "             'Z((0, 1))*Y((0, 3))': [0, 0],\n",
       "             'X((0, 1))*Z((0, 3))': [0, 0],\n",
       "             'X((0, 1))*X((0, 3))': [0, 0],\n",
       "             'X((0, 1))*Y((0, 3))': [0, 0],\n",
       "             'Y((0, 1))*Z((0, 3))': [0, -0.015820112],\n",
       "             'Y((0, 1))*X((0, 3))': [0, 0],\n",
       "             'Y((0, 1))*Y((0, 3))': [0, 0],\n",
       "             'Z((0, 0))': [0, -0.040781014],\n",
       "             'X((0, 0))': [0, 0],\n",
       "             'Y((0, 0))': [0, -0.036402743],\n",
       "             'Z((0, 2))': [0, -0.026625454],\n",
       "             'X((0, 2))': [0, 0.024817113],\n",
       "             'Y((0, 2))': [0, 0],\n",
       "             'Z((0, 4))': [0, -0.09532951],\n",
       "             'X((0, 4))': [0, 0.045200817],\n",
       "             'Y((0, 4))': [0, -0.04810164],\n",
       "             'Z((0, 1))': [0, -0.01927343],\n",
       "             'X((0, 1))': [0, 0],\n",
       "             'Y((0, 1))': [0, 0],\n",
       "             'Z((0, 3))': [0, 0.075053856],\n",
       "             'X((0, 3))': [0, 0.029356863],\n",
       "             'Y((0, 3))': [0, 0]})"
      ]
     },
     "execution_count": 541,
     "metadata": {},
     "output_type": "execute_result"
    }
   ],
   "source": [
    "ce = defaultdict(list)\n",
    "for k, v in re.items():\n",
    "    ce[k].append(v[0])\n",
    "    ce[k].append(ge[k][0])\n",
    "for k, v in ce.items():\n",
    "    ce[k] = [el if abs(el) > 1.e-2 else 0 for el in v]\n",
    "\n",
    "ce"
   ]
  },
  {
   "cell_type": "code",
   "execution_count": null,
   "id": "equipped-grade",
   "metadata": {
    "pycharm": {
     "is_executing": true
    }
   },
   "outputs": [],
   "source": [
    "print(\"------STRING ORDER PARAMETERS------\")"
   ]
  },
  {
   "cell_type": "code",
   "execution_count": null,
   "id": "advance-imaging",
   "metadata": {
    "pycharm": {
     "is_executing": true
    }
   },
   "outputs": [],
   "source": [
    "measure_s1_pauli_string(trainer.real_evaluator.get_resolved_circuit(-0.5))"
   ]
  },
  {
   "cell_type": "code",
   "execution_count": null,
   "id": "flexible-newspaper",
   "metadata": {
    "pycharm": {
     "is_executing": true
    }
   },
   "outputs": [],
   "source": [
    "measure_s1_pauli_string(trainer.gen_evaluator.get_resolved_circuit())"
   ]
  },
  {
   "cell_type": "code",
   "execution_count": null,
   "id": "interior-elevation",
   "metadata": {
    "pycharm": {
     "is_executing": true
    }
   },
   "outputs": [],
   "source": [
    "measure_szy_pauli_string(trainer.real_evaluator.get_resolved_circuit(-0.5))"
   ]
  },
  {
   "cell_type": "code",
   "execution_count": null,
   "id": "greater-farming",
   "metadata": {
    "pycharm": {
     "is_executing": true
    }
   },
   "outputs": [],
   "source": [
    "measure_szy_pauli_string(trainer.gen_evaluator.get_resolved_circuit())"
   ]
  },
  {
   "cell_type": "code",
   "execution_count": 377,
   "id": "relevant-opportunity",
   "metadata": {},
   "outputs": [
    {
     "data": {
      "text/plain": [
       "0.0"
      ]
     },
     "execution_count": 377,
     "metadata": {},
     "output_type": "execute_result"
    }
   ],
   "source": [
    "cirq.fidelity(np.array([0.7,0.7]), np.array([0.7j,-0.7j]))"
   ]
  },
  {
   "cell_type": "code",
   "execution_count": 379,
   "id": "decimal-austin",
   "metadata": {},
   "outputs": [],
   "source": [
    "q1 = cirq.GridQubit.rect(1, 1)\n",
    "q2 = cirq.GridQubit.rect(1, 1)\n",
    "circuit1 = cirq.Circuit(cirq.H(q1[0]))\n",
    "circuit2 = cirq.Circuit(cirq.H(q2[0]), cirq.Y(q2[0]), cirq.X(q2[0]))"
   ]
  },
  {
   "cell_type": "code",
   "execution_count": 385,
   "id": "adolescent-converter",
   "metadata": {},
   "outputs": [
    {
     "data": {
      "text/plain": [
       "0.0"
      ]
     },
     "execution_count": 385,
     "metadata": {},
     "output_type": "execute_result"
    }
   ],
   "source": [
    "cirq.fidelity(cirq.final_state_vector(circuit1), cirq.final_state_vector(circuit2))"
   ]
  },
  {
   "cell_type": "code",
   "execution_count": 387,
   "id": "compact-tender",
   "metadata": {},
   "outputs": [],
   "source": [
    "ex = tfq.layers.Expectation()"
   ]
  },
  {
   "cell_type": "code",
   "execution_count": 390,
   "id": "absent-cinema",
   "metadata": {},
   "outputs": [
    {
     "data": {
      "text/plain": [
       "<tf.Tensor: shape=(1, 1), dtype=float32, numpy=array([[0.99999994]], dtype=float32)>"
      ]
     },
     "execution_count": 390,
     "metadata": {},
     "output_type": "execute_result"
    }
   ],
   "source": [
    "ex(circuit1, operators=cirq.PauliString([cirq.X(q1[0])]))"
   ]
  },
  {
   "cell_type": "code",
   "execution_count": 391,
   "id": "dominican-bones",
   "metadata": {},
   "outputs": [
    {
     "data": {
      "text/plain": [
       "<tf.Tensor: shape=(1, 1), dtype=float32, numpy=array([[-0.99999994]], dtype=float32)>"
      ]
     },
     "execution_count": 391,
     "metadata": {},
     "output_type": "execute_result"
    }
   ],
   "source": [
    "ex(circuit2, operators=cirq.PauliString([cirq.X(q2[0])]))"
   ]
  }
 ],
 "metadata": {
  "kernelspec": {
   "display_name": "Python 3",
   "language": "python",
   "name": "python3"
  },
  "language_info": {
   "codemirror_mode": {
    "name": "ipython",
    "version": 3
   },
   "file_extension": ".py",
   "mimetype": "text/x-python",
   "name": "python",
   "nbconvert_exporter": "python",
   "pygments_lexer": "ipython3",
   "version": "3.8.7"
  }
 },
 "nbformat": 4,
 "nbformat_minor": 5
}
