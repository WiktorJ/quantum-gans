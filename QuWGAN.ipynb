{
 "cells": [
  {
   "cell_type": "code",
   "execution_count": 1,
   "id": "stylish-saskatchewan",
   "metadata": {},
   "outputs": [],
   "source": [
    "if 'google.colab' in str(get_ipython()):\n",
    "    !pip uninstall tensorflow -y\n",
    "    !pip install tensorflow==2.3.1 tensorflow-quantum neptune-client\n",
    "    !rm -rf quantum-gans\n",
    "    !git clone https://github.com/WiktorJ/quantum-gans\n",
    "    !cd quantum-gans; pip install .\n",
    "    neptun_token = \"\" # put manually for the time being\n",
    "else:\n",
    "    import subprocess\n",
    "    def get_var(varname):\n",
    "        CMD = 'echo $(source ~/.bash_profile; echo $%s)' % varname\n",
    "        p = subprocess.Popen(CMD, stdout=subprocess.PIPE, shell=True, executable='/bin/bash')\n",
    "        return p.stdout.readlines()[0].strip()\n",
    "    neptun_token = get_var('NEPTUNE_API_TOKEN').decode(\"utf-8\") "
   ]
  },
  {
   "cell_type": "code",
   "execution_count": 4,
   "id": "specified-glance",
   "metadata": {},
   "outputs": [],
   "source": [
    "%load_ext autoreload\n",
    "%autoreload 2"
   ]
  },
  {
   "cell_type": "code",
   "execution_count": 25,
   "id": "hidden-indonesia",
   "metadata": {},
   "outputs": [],
   "source": [
    "import neptune\n",
    "import tensorflow as tf\n",
    "\n",
    "import cirq\n",
    "import numpy as np\n",
    "from qsgenerator import circuits\n",
    "from qsgenerator.quwgans import circuits as quwgans_circuits\n",
    "from qsgenerator.quwgans.training import Trainer\n",
    "from qsgenerator.phase.circuits import PhaseCircuitBuilder\n",
    "from qsgenerator.evaluators.circuit_evaluator import CircuitEvaluator\n",
    "from qsgenerator.phase.analitical import get_theta_v, get_theta_w, get_theta_r, get_g_parameters_provider\n"
   ]
  },
  {
   "cell_type": "code",
   "execution_count": 16,
   "id": "administrative-pierce",
   "metadata": {},
   "outputs": [],
   "source": [
    "use_neptune = False"
   ]
  },
  {
   "cell_type": "code",
   "execution_count": 469,
   "id": "varying-recruitment",
   "metadata": {},
   "outputs": [],
   "source": [
    "generator_layers = 4\n",
    "data_bus_size = 5\n",
    "generator_bath_size = 1"
   ]
  },
  {
   "cell_type": "code",
   "execution_count": 470,
   "id": "disciplinary-hardwood",
   "metadata": {},
   "outputs": [],
   "source": [
    "real_phase = True\n",
    "generic_generator = True\n",
    "zxz = False\n",
    "all_gates_parametrized = False"
   ]
  },
  {
   "cell_type": "code",
   "execution_count": 471,
   "id": "active-ceiling",
   "metadata": {},
   "outputs": [],
   "source": [
    "data_qubits = qubits = cirq.GridQubit.rect(1, data_bus_size)"
   ]
  },
  {
   "cell_type": "code",
   "execution_count": 472,
   "id": "closed-academy",
   "metadata": {},
   "outputs": [],
   "source": [
    "builder = PhaseCircuitBuilder(all_gates_parametrized=False)\n",
    "real, real_symbols, symbols_dict_real = builder.build_ground_state_circuit(qubits=data_qubits)"
   ]
  },
  {
   "cell_type": "code",
   "execution_count": 473,
   "id": "improving-height",
   "metadata": {},
   "outputs": [],
   "source": [
    "pauli_strings, qubit_to_string_index = quwgans_circuits.get_discriminator(real)"
   ]
  },
  {
   "cell_type": "code",
   "execution_count": 474,
   "id": "afraid-chick",
   "metadata": {},
   "outputs": [],
   "source": [
    "if generic_generator:\n",
    "    gen, gs = circuits.build_circuit(generator_layers, data_qubits, \"g\")\n",
    "    symbols_dict_gen = {}\n",
    "else:\n",
    "    builder = PhaseCircuitBuilder(all_gates_parametrized=all_gates_parametrized)\n",
    "    gen, gs, symbols_dict_gen = builder.build_ground_state_circuit(qubits=data_qubits, full_parametrization=True, zxz=zxz)"
   ]
  },
  {
   "cell_type": "code",
   "execution_count": 475,
   "id": "heard-disaster",
   "metadata": {},
   "outputs": [
    {
     "name": "stdout",
     "output_type": "stream",
     "text": [
      "REAL GROUND STATE\n"
     ]
    },
    {
     "data": {
      "text/html": [
       "<pre style=\"overflow: auto; white-space: pre;\">(0, 0): ───H───@─────────────────────────@───────────────────────────────────────────────────────────────────────────────────────────────────────────────────────────────────────────────────────────────────────────────────────────────────────────────────────────────────────────────────────\n",
       "               │                         │\n",
       "(0, 1): ───────X───Z───Ry(theta_r)───H───X───H───X─────────────@───X───────────────────────────────────@───X─────────────────────────────────────────────────────────────────────────────────────────────────────────────────────────────────────────────────────────────────────────────────────\n",
       "                                                               │                                       │\n",
       "(0, 2): ─────────────────────────────────────────Ry(theta_w)───X───X───Ry(theta_w)───X───Ry(theta_v)───X───X───Ry(theta_v)───X───X─────────────@───X───────────────────────────────────@───X─────────────────────────────────────────────────────────────────────────────────────────────────────\n",
       "                                                                                                                                               │                                       │\n",
       "(0, 3): ─────────────────────────────────────────────────────────────────────────────────────────────────────────────────────────Ry(theta_w)───X───X───Ry(theta_w)───X───Ry(theta_v)───X───X───Ry(theta_v)───X───X─────────────@───X───────────────────────────────────@───X─────────────────────\n",
       "                                                                                                                                                                                                                               │                                       │\n",
       "(0, 4): ─────────────────────────────────────────────────────────────────────────────────────────────────────────────────────────────────────────────────────────────────────────────────────────────────────────Ry(theta_w)───X───X───Ry(theta_w)───X───Ry(theta_v)───X───X───Ry(theta_v)───X───</pre>"
      ],
      "text/plain": [
       "(0, 0): ───H───@─────────────────────────@───────────────────────────────────────────────────────────────────────────────────────────────────────────────────────────────────────────────────────────────────────────────────────────────────────────────────────────────────────────────────────\n",
       "               │                         │\n",
       "(0, 1): ───────X───Z───Ry(theta_r)───H───X───H───X─────────────@───X───────────────────────────────────@───X─────────────────────────────────────────────────────────────────────────────────────────────────────────────────────────────────────────────────────────────────────────────────────\n",
       "                                                               │                                       │\n",
       "(0, 2): ─────────────────────────────────────────Ry(theta_w)───X───X───Ry(theta_w)───X───Ry(theta_v)───X───X───Ry(theta_v)───X───X─────────────@───X───────────────────────────────────@───X─────────────────────────────────────────────────────────────────────────────────────────────────────\n",
       "                                                                                                                                               │                                       │\n",
       "(0, 3): ─────────────────────────────────────────────────────────────────────────────────────────────────────────────────────────Ry(theta_w)───X───X───Ry(theta_w)───X───Ry(theta_v)───X───X───Ry(theta_v)───X───X─────────────@───X───────────────────────────────────@───X─────────────────────\n",
       "                                                                                                                                                                                                                               │                                       │\n",
       "(0, 4): ─────────────────────────────────────────────────────────────────────────────────────────────────────────────────────────────────────────────────────────────────────────────────────────────────────────Ry(theta_w)───X───X───Ry(theta_w)───X───Ry(theta_v)───X───X───Ry(theta_v)───X───"
      ]
     },
     "execution_count": 475,
     "metadata": {},
     "output_type": "execute_result"
    }
   ],
   "source": [
    "print(\"REAL GROUND STATE\")\n",
    "real"
   ]
  },
  {
   "cell_type": "code",
   "execution_count": 476,
   "id": "southern-virus",
   "metadata": {},
   "outputs": [
    {
     "name": "stdout",
     "output_type": "stream",
     "text": [
      "GENERATOR\n"
     ]
    },
    {
     "data": {
      "text/html": [
       "<pre style=\"overflow: auto; white-space: pre;\">(0, 0): ───Rx(g0)───Rz(g5)───ZZ────────────────Rx(g14)───Rz(g19)───ZZ────────────────Rx(g28)───Rz(g33)───ZZ────────────────Rx(g42)───Rz(g47)───ZZ────────────────\n",
       "                             │                                     │                                     │                                     │\n",
       "(0, 1): ───Rx(g1)───Rz(g6)───ZZ^g10───ZZ───────Rx(g15)───Rz(g20)───ZZ^g24───ZZ───────Rx(g29)───Rz(g34)───ZZ^g38───ZZ───────Rx(g43)───Rz(g48)───ZZ^g52───ZZ───────\n",
       "                                      │                                     │                                     │                                     │\n",
       "(0, 2): ───Rx(g2)───Rz(g7)───ZZ───────ZZ^g12───Rx(g16)───Rz(g21)───ZZ───────ZZ^g26───Rx(g30)───Rz(g35)───ZZ───────ZZ^g40───Rx(g44)───Rz(g49)───ZZ───────ZZ^g54───\n",
       "                             │                                     │                                     │                                     │\n",
       "(0, 3): ───Rx(g3)───Rz(g8)───ZZ^g11───ZZ───────Rx(g17)───Rz(g22)───ZZ^g25───ZZ───────Rx(g31)───Rz(g36)───ZZ^g39───ZZ───────Rx(g45)───Rz(g50)───ZZ^g53───ZZ───────\n",
       "                                      │                                     │                                     │                                     │\n",
       "(0, 4): ───Rx(g4)───Rz(g9)────────────ZZ^g13───Rx(g18)───Rz(g23)────────────ZZ^g27───Rx(g32)───Rz(g37)────────────ZZ^g41───Rx(g46)───Rz(g51)────────────ZZ^g55───</pre>"
      ],
      "text/plain": [
       "(0, 0): ───Rx(g0)───Rz(g5)───ZZ────────────────Rx(g14)───Rz(g19)───ZZ────────────────Rx(g28)───Rz(g33)───ZZ────────────────Rx(g42)───Rz(g47)───ZZ────────────────\n",
       "                             │                                     │                                     │                                     │\n",
       "(0, 1): ───Rx(g1)───Rz(g6)───ZZ^g10───ZZ───────Rx(g15)───Rz(g20)───ZZ^g24───ZZ───────Rx(g29)───Rz(g34)───ZZ^g38───ZZ───────Rx(g43)───Rz(g48)───ZZ^g52───ZZ───────\n",
       "                                      │                                     │                                     │                                     │\n",
       "(0, 2): ───Rx(g2)───Rz(g7)───ZZ───────ZZ^g12───Rx(g16)───Rz(g21)───ZZ───────ZZ^g26───Rx(g30)───Rz(g35)───ZZ───────ZZ^g40───Rx(g44)───Rz(g49)───ZZ───────ZZ^g54───\n",
       "                             │                                     │                                     │                                     │\n",
       "(0, 3): ───Rx(g3)───Rz(g8)───ZZ^g11───ZZ───────Rx(g17)───Rz(g22)───ZZ^g25───ZZ───────Rx(g31)───Rz(g36)───ZZ^g39───ZZ───────Rx(g45)───Rz(g50)───ZZ^g53───ZZ───────\n",
       "                                      │                                     │                                     │                                     │\n",
       "(0, 4): ───Rx(g4)───Rz(g9)────────────ZZ^g13───Rx(g18)───Rz(g23)────────────ZZ^g27───Rx(g32)───Rz(g37)────────────ZZ^g41───Rx(g46)───Rz(g51)────────────ZZ^g55───"
      ]
     },
     "execution_count": 476,
     "metadata": {},
     "output_type": "execute_result"
    }
   ],
   "source": [
    "print(\"GENERATOR\")\n",
    "gen"
   ]
  },
  {
   "cell_type": "code",
   "execution_count": 477,
   "id": "spiritual-language",
   "metadata": {},
   "outputs": [],
   "source": [
    "g_values = [-0.5]\n",
    "real_values_provider = get_g_parameters_provider()"
   ]
  },
  {
   "cell_type": "code",
   "execution_count": 478,
   "id": "perfect-aspect",
   "metadata": {},
   "outputs": [],
   "source": [
    "opt = tf.keras.optimizers.Adam(0.01, beta_1=0.9, beta_2=0.98, \n",
    "                                     epsilon=1e-9)"
   ]
  },
  {
   "cell_type": "code",
   "execution_count": 486,
   "id": "computational-roots",
   "metadata": {},
   "outputs": [],
   "source": [
    "trainer = Trainer(real, \n",
    "                  real_symbols,\n",
    "                  gen,\n",
    "                  gs,\n",
    "                  g_values,\n",
    "                  real_values_provider,\n",
    "                  use_neptune=use_neptune)"
   ]
  },
  {
   "cell_type": "code",
   "execution_count": 487,
   "id": "lucky-auditor",
   "metadata": {},
   "outputs": [],
   "source": [
    "epochs = 200\n",
    "gen_iteration = 5\n",
    "snapshot_interval_epochs = 100"
   ]
  },
  {
   "cell_type": "code",
   "execution_count": null,
   "id": "compressed-prison",
   "metadata": {},
   "outputs": [
    {
     "data": {
      "text/plain": [
       "<Figure size 432x288 with 0 Axes>"
      ]
     },
     "metadata": {},
     "output_type": "display_data"
    },
    {
     "data": {
      "image/png": "[encoded data removed]",
      "text/plain": [
       "<Figure size 1296x360 with 3 Axes>"
      ]
     },
     "metadata": {
      "needs_background": "light"
     },
     "output_type": "display_data"
    },
    {
     "name": "stdout",
     "output_type": "stream",
     "text": [
      "----------------------------------------------------\n",
      "Epoch 0:  distance = 2.832874891958774\n",
      "h=Z((0, 1)), w=0.49999999915123094, e=0.9999980926513672\n",
      "h=Z((0, 0)), w=0.4999999994014377, e=0.9999856948852539\n",
      "h=Z((0, 3))*Z((0, 4)), w=0.9999999999319322, e=1.3328839540481567\n",
      "h=Z((0, 1)), w=0.4999999993546697, e=0.9999980926513672\n",
      "Fidelity for g=-0.5 : 0.04949064022584082\n",
      "Fidelity modulo for g=-0.5 : 0.05281812194322577\n"
     ]
    }
   ],
   "source": [
    "trainer.train(opt, epochs, gen_iteration, snapshot_interval_epochs, plot=True)"
   ]
  },
  {
   "cell_type": "code",
   "execution_count": 482,
   "id": "loaded-rainbow",
   "metadata": {},
   "outputs": [],
   "source": [
    "def get_states_and_fidelty_for_real(gen_evaluator, \n",
    "                                    real_evaluator,\n",
    "                                    g, \n",
    "                                    size):\n",
    "    generated = gen_evaluator.get_state_from_params(trace_dims=list(range(size)))\n",
    "    real = real_evaluator.get_state_from_params(g)\n",
    "    return generated, real, cirq.fidelity(generated, real), cirq.fidelity(abs(generated), abs(real))"
   ]
  },
  {
   "cell_type": "code",
   "execution_count": 483,
   "id": "competent-expansion",
   "metadata": {},
   "outputs": [],
   "source": [
    "gen_evaluator = trainer.gen_evaluator\n",
    "real_evaluator = trainer.real_evaluator"
   ]
  },
  {
   "cell_type": "code",
   "execution_count": 484,
   "id": "organizational-hollow",
   "metadata": {},
   "outputs": [],
   "source": [
    "g = g_values[0]\n",
    "generated_state, real_state, fidelity, abs_fidelity = get_states_and_fidelty_for_real(gen_evaluator, real_evaluator, g, data_bus_size)"
   ]
  },
  {
   "cell_type": "code",
   "execution_count": 485,
   "id": "golden-helen",
   "metadata": {},
   "outputs": [
    {
     "data": {
      "text/plain": [
       "(array([ 0.1174136 +0.01748485j,  0.17838532+0.01843486j,\n",
       "         0.12357821+0.04360601j, -0.08263013-0.02545642j,\n",
       "        -0.08253708+0.02117492j, -0.11917517+0.03427763j,\n",
       "         0.17506282-0.00713821j, -0.12293534+0.00717992j,\n",
       "        -0.08557609-0.02785951j, -0.13245133-0.03697325j,\n",
       "        -0.08781958-0.05008148j,  0.06000928+0.03069575j,\n",
       "        -0.06947119+0.00688347j, -0.10005232+0.01226939j,\n",
       "         0.1383224 +0.0187739j , -0.09734631-0.01224019j,\n",
       "        -0.109216  -0.15177216j, -0.17461604-0.2209194j ,\n",
       "        -0.08526973-0.18691579j,  0.06071161+0.12074837j,\n",
       "         0.1136182 +0.06999446j,  0.16897362+0.09662142j,\n",
       "        -0.19924286-0.18793622j,  0.14250062+0.12898366j,\n",
       "         0.08450991+0.18216093j,  0.1413903 +0.2736239j ,\n",
       "         0.05308147+0.22056912j, -0.04259175-0.1456357j ,\n",
       "         0.11798097+0.10279108j,  0.17280626+0.14483924j,\n",
       "        -0.18062186-0.25655648j,  0.12844342+0.17983155j], dtype=complex64),\n",
       " array([ 0.22222227+0.j,  0.31426978+0.j,  0.22222224+0.j, -0.15713488+0.j,\n",
       "        -0.1111111 +0.j, -0.15713485+0.j,  0.22222221+0.j, -0.15713486+0.j,\n",
       "        -0.11111113+0.j, -0.15713489+0.j, -0.11111112+0.j,  0.07856744+0.j,\n",
       "        -0.11111112+0.j, -0.15713486+0.j,  0.22222224+0.j, -0.15713488+0.j,\n",
       "         0.15713489+0.j,  0.22222227+0.j,  0.15713489+0.j, -0.11111113+0.j,\n",
       "        -0.07856743+0.j, -0.11111113+0.j,  0.15713486+0.j, -0.11111113+0.j,\n",
       "        -0.15713486+0.j, -0.22222225+0.j, -0.15713485+0.j,  0.11111112+0.j,\n",
       "        -0.15713486+0.j, -0.22222225+0.j,  0.31426978+0.j, -0.22222227+0.j],\n",
       "       dtype=complex64),\n",
       " 0.20493026458773134,\n",
       " 0.8864899445907213)"
      ]
     },
     "execution_count": 485,
     "metadata": {},
     "output_type": "execute_result"
    }
   ],
   "source": [
    "generated_state, real_state, fidelity, abs_fidelity"
   ]
  },
  {
   "cell_type": "code",
   "execution_count": null,
   "id": "fixed-cooling",
   "metadata": {},
   "outputs": [],
   "source": []
  }
 ],
 "metadata": {
  "kernelspec": {
   "display_name": "Python 3",
   "language": "python",
   "name": "python3"
  },
  "language_info": {
   "codemirror_mode": {
    "name": "ipython",
    "version": 3
   },
   "file_extension": ".py",
   "mimetype": "text/x-python",
   "name": "python",
   "nbconvert_exporter": "python",
   "pygments_lexer": "ipython3",
   "version": "3.8.7"
  }
 },
 "nbformat": 4,
 "nbformat_minor": 5
}
